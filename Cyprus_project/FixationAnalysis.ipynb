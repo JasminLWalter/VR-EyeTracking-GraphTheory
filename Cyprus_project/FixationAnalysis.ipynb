{
 "cells": [
  {
   "cell_type": "markdown",
   "id": "c2f4b003",
   "metadata": {},
   "source": [
    "# Fixation, Saccade and Blink Analysis Cyprus Data"
   ]
  },
  {
   "cell_type": "markdown",
   "id": "27103ee9",
   "metadata": {},
   "source": [
    "This code was developed and written by Jasmin L. Walter"
   ]
  },
  {
   "cell_type": "code",
   "execution_count": 1,
   "id": "a03da63b",
   "metadata": {},
   "outputs": [
    {
     "name": "stdout",
     "output_type": "stream",
     "text": [
      "Once deleted, variables cannot be recovered. Proceed (y/[n])? y\n"
     ]
    }
   ],
   "source": [
    "%reset"
   ]
  },
  {
   "cell_type": "markdown",
   "id": "2bc5bf31",
   "metadata": {},
   "source": [
    "## Import"
   ]
  },
  {
   "cell_type": "code",
   "execution_count": 2,
   "id": "85a98c4d",
   "metadata": {},
   "outputs": [],
   "source": [
    "import copy  # copy big/deep objects by value\n",
    "import csv\n",
    "import datetime  # datetime operations\n",
    "import itertools  # operate with iterators\n",
    "import json  # read/write from/into json format\n",
    "import math\n",
    "import os  # OS operations (read/write files/folders)\n",
    "import sys\n",
    "import time\n",
    "import warnings  # hide warnings\n",
    "from collections import Counter\n",
    "from itertools import groupby\n",
    "import matplotlib\n",
    "\n",
    "# process parallelization\n",
    "from multiprocessing import Manager, Pool, RawArray, cpu_count\n",
    "from os.path import exists\n",
    "\n",
    "import matplotlib.pyplot as plt  # mother of plots focr Python\n",
    "\n",
    "# import mlxtend\n",
    "import numpy as np  # array/matrix operations (e.g. linear algebra)\n",
    "import pandas as pd  # operate with dataframes\n",
    "import pyxdf  # read XDF files (LSL streams recordings)\n",
    "\n",
    "import scipy.stats\n",
    "import seaborn as sns  # matplotlib plotting nice with shortcuts\n",
    "from IPython.display import Markdown, display  # print nicely\n",
    "from ipywidgets import IntProgress\n",
    "#from matplotlib.pyplot import cm\n",
    "from scipy.signal import savgol_coeffs\n",
    "from tqdm.notebook import tqdm, trange  # mother of progressbars\n",
    "from scipy.stats import ks_2samp\n",
    "from multiprocessing import Pool, cpu_count\n",
    "\n",
    "import scipy.signal"
   ]
  },
  {
   "cell_type": "code",
   "execution_count": 3,
   "id": "531a03b4",
   "metadata": {},
   "outputs": [
    {
     "name": "stdout",
     "output_type": "stream",
     "text": [
      "Total CPU threads: 8\n"
     ]
    }
   ],
   "source": [
    "# warnings.simplefilter(action=\"ignore\", category=FutureWarning)\n",
    "\n",
    "# raw and processed data paths\n",
    "# PATH_RAW = \"C:/Users/schmi/Documents/PhD_Osnabruck_University/SpaRe-VR/Spare-VR-EEG/27.07.23/data\"\n",
    "# PATH_PROC = \"C:/Users/schmi/Documents/PhD_Osnabruck_University/SpaRe-VR/Spare-VR-EEG/EEG_Data_Skripte_Debbie/Events\"\n",
    "# PATH_FOREYE = \"C:/Users/schmi/Documents/PhD_Osnabruck_University/SpaRe-VR/Spare-VR-EEG/EEG_Data_Skripte_Debbie/ET_Output_MAD-sacc\"\n",
    "# PATH_TRG = \"C:/Users/schmi/Documents/PhD_Osnabruck_University/SpaRe-VR/Spare-VR-EEG/EEG_Data_Skripte_Debbie/TriggerFiles_fEEG\"\n",
    "\n",
    "\n",
    "# specify decimals format on pandas tables\n",
    "# pd.options.display.float_format = \"{:.5f}\".format\n",
    "\n",
    "# inline static plotting (default)\n",
    "%matplotlib inline\n",
    "# interactive plotting\n",
    "# %matplotlib widget\n",
    "\n",
    "# progress bar customized format\n",
    "B_FORMAT = \"\"\"📄 {n_fmt} of {total_fmt} {desc} processed: {bar} \n",
    "            {percentage:3.0f}% ⏱️{elapsed} ⏳{remaining} ⚙️{rate_fmt}{postfix}\"\"\"\n",
    "\n",
    "\n",
    "CORES = cpu_count()  # number of cpu threads for multiprocessing\n",
    "print(f\"Total CPU threads: {CORES}\")\n",
    "\n",
    "\n",
    "def pbar_fork_hack():\n",
    "    \"\"\"\n",
    "    Hack to enforce progress bars to be displayed by fork processes on\n",
    "    IPython Apps like Jupyter Notebooks.\n",
    "\n",
    "    Avoids [IPKernelApp] WARNING | WARNING: attempted to send message from fork\n",
    "\n",
    "    Important: pass this function as argument for the initializer parameter\n",
    "    while initializing a multiprocessing pool to make it work. E.g.:\n",
    "\n",
    "    pool = Pool(processes=N_CORES, initializer=pbar_fork_hack)\n",
    "\n",
    "    Source:\n",
    "     - https://github.com/ipython/ipython/issues/11049#issue-306086846\n",
    "     - https://github.com/tqdm/tqdm/issues/485#issuecomment-473338308\n",
    "    \"\"\"\n",
    "    print(\" \", end=\"\", flush=True)"
   ]
  },
  {
   "cell_type": "code",
   "execution_count": 8,
   "id": "ab065785",
   "metadata": {},
   "outputs": [],
   "source": [
    "\n",
    "savepath = \"F:/Cyprus_project_overview/data/analysis/eyeTracking/fixation_analysis\"\n",
    "\n",
    "datapath = \"F:/Cyprus_project_overview/store_cyprus_project/eyeTrackingData\"\n",
    "\n",
    "\n",
    "\n",
    "# Getting the Folder without hidden files in ascending order \n",
    "data_folders = sorted([f for f in os.listdir(datapath) if not f.startswith('.')], key=str.lower)\n",
    "# PROCESSED_DATA_FOLDER = sorted([f for f in os.listdir(PROCESSED_DATA_PATH) if not f.startswith('.')], key=str.lower)\n",
    "\n",
    "# savepath = r'F:\\WestbrookProject\\SpaRe_Data\\pre-processing_2023\\step1_preparation\\'\n",
    "# os.chdir(r'F:\\WestbrookProject\\SpaRe_Data\\pre-processed_csv\\')"
   ]
  },
  {
   "cell_type": "code",
   "execution_count": 9,
   "id": "5c00a81d",
   "metadata": {},
   "outputs": [
    {
     "name": "stdout",
     "output_type": "stream",
     "text": [
      "['Expl_1_ET_1_2023-09-05_11-56-16_ET', 'Expl_1_ET_2_2023-09-05_12-34-24_ET', 'Expl_1_ET_3_2023-09-05_13-10-01_ET', 'Expl_2_ET_1_2023-09-06_10-36-37_ET', 'Expl_2_ET_2_2023-09-06_11-08-36_ET', 'Expl_2_ET_3_2023-09-06_11-39-21_ET', 'Expl_3_ET_1_2023-09-06_13-24-43_ET', 'Expl_3_ET_2_2023-09-06_13-57-57_ET', 'Expl_3_ET_3_2023-09-06_14-28-39_ET', 'Expl_4_ET_1_2023-09-06_18-31-33_ET', 'Expl_4_ET_2_2023-09-06_18-57-24_ET', 'Expl_5_ET_1_2023-09-07_18-17-19_ET', 'Expl_5_ET_2_2023-09-07_18-48-26_ET']\n"
     ]
    }
   ],
   "source": [
    "print(data_folders)"
   ]
  },
  {
   "cell_type": "markdown",
   "id": "30799fd0",
   "metadata": {},
   "source": [
    "## Load data"
   ]
  },
  {
   "cell_type": "code",
   "execution_count": 86,
   "id": "d1024ca7",
   "metadata": {},
   "outputs": [],
   "source": [
    "def calculateSaccadeLenths(gazeData):\n",
    "    \n",
    "    sDurations = []\n",
    "\n",
    "    index = gazeData.index.tolist()\n",
    "    \n",
    "    startIndex = 0\n",
    "    firstSample = True\n",
    "    \n",
    "    for idx in index:\n",
    "\n",
    "        if math.isnan(gaze.loc[idx,\"fixation id\"]):\n",
    "                    \n",
    "            # save timestamp of first sample\n",
    "            if firstSample:\n",
    "                startIndex = gaze.loc[idx,\"timestamp [ns]\"]\n",
    "                firstSample = False\n",
    "            \n",
    "            # if it is the last saccade sample or the last sample of the data, save duration and set firstSample True again\n",
    "            if not (idx == len(index)-1):\n",
    "                \n",
    "                if not math.isnan(gaze.loc[idx+1,\"fixation id\"]):\n",
    "\n",
    "                    duration = (gaze.loc[idx,\"timestamp [ns]\"] - startIndex)/1000000\n",
    "                    sDurations.append(duration)\n",
    "\n",
    "                    firstSample = True\n",
    "            else:\n",
    "                duration = (gaze.loc[idx,\"timestamp [ns]\"] - startIndex)/1000000\n",
    "                sDurations.append(duration)\n",
    "                \n",
    "\n",
    "    return  sDurations\n",
    "    "
   ]
  },
  {
   "cell_type": "code",
   "execution_count": 96,
   "id": "932aba9d",
   "metadata": {},
   "outputs": [
    {
     "data": {
      "text/html": [
       "<div>\n",
       "<style scoped>\n",
       "    .dataframe tbody tr th:only-of-type {\n",
       "        vertical-align: middle;\n",
       "    }\n",
       "\n",
       "    .dataframe tbody tr th {\n",
       "        vertical-align: top;\n",
       "    }\n",
       "\n",
       "    .dataframe thead th {\n",
       "        text-align: right;\n",
       "    }\n",
       "</style>\n",
       "<table border=\"1\" class=\"dataframe\">\n",
       "  <thead>\n",
       "    <tr style=\"text-align: right;\">\n",
       "      <th></th>\n",
       "      <th>section id</th>\n",
       "      <th>recording id</th>\n",
       "      <th>timestamp [ns]</th>\n",
       "      <th>gaze x [px]</th>\n",
       "      <th>gaze y [px]</th>\n",
       "      <th>worn</th>\n",
       "      <th>fixation id</th>\n",
       "      <th>blink id</th>\n",
       "      <th>azimuth [deg]</th>\n",
       "      <th>elevation [deg]</th>\n",
       "    </tr>\n",
       "  </thead>\n",
       "  <tbody>\n",
       "    <tr>\n",
       "      <th>0</th>\n",
       "      <td>b8c56a46-b3dc-43c2-a30c-d287553c5ae3</td>\n",
       "      <td>d7a7b5da-afb3-4bc3-91ef-7e0ab1740c55</td>\n",
       "      <td>1694101708054762419</td>\n",
       "      <td>785.113</td>\n",
       "      <td>474.532</td>\n",
       "      <td>1.0</td>\n",
       "      <td>1.0</td>\n",
       "      <td>NaN</td>\n",
       "      <td>-2.342266</td>\n",
       "      <td>8.505025</td>\n",
       "    </tr>\n",
       "    <tr>\n",
       "      <th>1</th>\n",
       "      <td>b8c56a46-b3dc-43c2-a30c-d287553c5ae3</td>\n",
       "      <td>d7a7b5da-afb3-4bc3-91ef-7e0ab1740c55</td>\n",
       "      <td>1694101708061911419</td>\n",
       "      <td>784.056</td>\n",
       "      <td>474.263</td>\n",
       "      <td>1.0</td>\n",
       "      <td>1.0</td>\n",
       "      <td>NaN</td>\n",
       "      <td>-2.410717</td>\n",
       "      <td>8.522078</td>\n",
       "    </tr>\n",
       "    <tr>\n",
       "      <th>2</th>\n",
       "      <td>b8c56a46-b3dc-43c2-a30c-d287553c5ae3</td>\n",
       "      <td>d7a7b5da-afb3-4bc3-91ef-7e0ab1740c55</td>\n",
       "      <td>1694101708064511419</td>\n",
       "      <td>783.555</td>\n",
       "      <td>474.110</td>\n",
       "      <td>1.0</td>\n",
       "      <td>1.0</td>\n",
       "      <td>NaN</td>\n",
       "      <td>-2.443158</td>\n",
       "      <td>8.531807</td>\n",
       "    </tr>\n",
       "    <tr>\n",
       "      <th>3</th>\n",
       "      <td>b8c56a46-b3dc-43c2-a30c-d287553c5ae3</td>\n",
       "      <td>d7a7b5da-afb3-4bc3-91ef-7e0ab1740c55</td>\n",
       "      <td>1694101708070265419</td>\n",
       "      <td>783.126</td>\n",
       "      <td>474.026</td>\n",
       "      <td>1.0</td>\n",
       "      <td>1.0</td>\n",
       "      <td>NaN</td>\n",
       "      <td>-2.470937</td>\n",
       "      <td>8.537117</td>\n",
       "    </tr>\n",
       "    <tr>\n",
       "      <th>4</th>\n",
       "      <td>b8c56a46-b3dc-43c2-a30c-d287553c5ae3</td>\n",
       "      <td>d7a7b5da-afb3-4bc3-91ef-7e0ab1740c55</td>\n",
       "      <td>1694101708076525419</td>\n",
       "      <td>782.347</td>\n",
       "      <td>471.609</td>\n",
       "      <td>1.0</td>\n",
       "      <td>1.0</td>\n",
       "      <td>NaN</td>\n",
       "      <td>-2.521927</td>\n",
       "      <td>8.691931</td>\n",
       "    </tr>\n",
       "  </tbody>\n",
       "</table>\n",
       "</div>"
      ],
      "text/plain": [
       "                             section id                          recording id  \\\n",
       "0  b8c56a46-b3dc-43c2-a30c-d287553c5ae3  d7a7b5da-afb3-4bc3-91ef-7e0ab1740c55   \n",
       "1  b8c56a46-b3dc-43c2-a30c-d287553c5ae3  d7a7b5da-afb3-4bc3-91ef-7e0ab1740c55   \n",
       "2  b8c56a46-b3dc-43c2-a30c-d287553c5ae3  d7a7b5da-afb3-4bc3-91ef-7e0ab1740c55   \n",
       "3  b8c56a46-b3dc-43c2-a30c-d287553c5ae3  d7a7b5da-afb3-4bc3-91ef-7e0ab1740c55   \n",
       "4  b8c56a46-b3dc-43c2-a30c-d287553c5ae3  d7a7b5da-afb3-4bc3-91ef-7e0ab1740c55   \n",
       "\n",
       "        timestamp [ns]  gaze x [px]  gaze y [px]  worn  fixation id  blink id  \\\n",
       "0  1694101708054762419      785.113      474.532   1.0          1.0       NaN   \n",
       "1  1694101708061911419      784.056      474.263   1.0          1.0       NaN   \n",
       "2  1694101708064511419      783.555      474.110   1.0          1.0       NaN   \n",
       "3  1694101708070265419      783.126      474.026   1.0          1.0       NaN   \n",
       "4  1694101708076525419      782.347      471.609   1.0          1.0       NaN   \n",
       "\n",
       "   azimuth [deg]  elevation [deg]  \n",
       "0      -2.342266         8.505025  \n",
       "1      -2.410717         8.522078  \n",
       "2      -2.443158         8.531807  \n",
       "3      -2.470937         8.537117  \n",
       "4      -2.521927         8.691931  "
      ]
     },
     "execution_count": 96,
     "metadata": {},
     "output_type": "execute_result"
    }
   ],
   "source": [
    "gaze.head()"
   ]
  },
  {
   "cell_type": "code",
   "execution_count": 99,
   "id": "5fa063ce",
   "metadata": {},
   "outputs": [],
   "source": [
    "def checkBlinks(gazeData):\n",
    "    # Filter rows where \"blink id\" is not NaN\n",
    "    blink_not_nan = gazeData[gazeData['blink id'].notna()]\n",
    "\n",
    "    # Count how many of these rows have NaN in \"fixation id\"\n",
    "    count_nan_fixation = blink_not_nan['fixation id'].isna().sum()\n",
    "\n",
    "    # Count how many of these rows have non-NaN in \"fixation id\"\n",
    "    count_not_nan_fixation = blink_not_nan['fixation id'].notna().sum()\n",
    "    \n",
    "    count_all =  len(blink_not_nan)\n",
    "    \n",
    "    return count_all, count_nan_fixation, count_not_nan_fixation\n",
    "    "
   ]
  },
  {
   "cell_type": "code",
   "execution_count": 100,
   "id": "2b91eda5",
   "metadata": {},
   "outputs": [
    {
     "data": {
      "application/vnd.jupyter.widget-view+json": {
       "model_id": "8670b49a39634a6da3d818466171b61d",
       "version_major": 2,
       "version_minor": 0
      },
      "text/plain": [
       "📄 0 of 13 📂 ET files____________ processed:            \n",
       "              0% ⏱️00:00 ⏳? ⚙️?it/s"
      ]
     },
     "metadata": {},
     "output_type": "display_data"
    },
    {
     "name": "stdout",
     "output_type": "stream",
     "text": [
      "process files of folder Expl_1_ET_1_2023-09-05_11-56-16_ET\n",
      "process files of folder Expl_1_ET_2_2023-09-05_12-34-24_ET\n",
      "process files of folder Expl_1_ET_3_2023-09-05_13-10-01_ET\n",
      "process files of folder Expl_2_ET_1_2023-09-06_10-36-37_ET\n",
      "process files of folder Expl_2_ET_2_2023-09-06_11-08-36_ET\n",
      "process files of folder Expl_2_ET_3_2023-09-06_11-39-21_ET\n",
      "process files of folder Expl_3_ET_1_2023-09-06_13-24-43_ET\n",
      "process files of folder Expl_3_ET_2_2023-09-06_13-57-57_ET\n",
      "process files of folder Expl_3_ET_3_2023-09-06_14-28-39_ET\n",
      "process files of folder Expl_4_ET_1_2023-09-06_18-31-33_ET\n",
      "process files of folder Expl_4_ET_2_2023-09-06_18-57-24_ET\n",
      "process files of folder Expl_5_ET_1_2023-09-07_18-17-19_ET\n",
      "process files of folder Expl_5_ET_2_2023-09-07_18-48-26_ET\n",
      "done\n"
     ]
    }
   ],
   "source": [
    "fixationDurations = []\n",
    "saccadeDurations = []\n",
    "blinkDurations = []\n",
    "\n",
    "count_blink_rows = []\n",
    "count_blink_isFix = []\n",
    "count_blink_notFix = []\n",
    "\n",
    "samplingRate = []\n",
    "\n",
    "# files progress bar\n",
    "folder_pbar = tqdm(\n",
    "    iterable=data_folders,\n",
    "    total=len(data_folders),\n",
    "    desc=\"📂 ET files____________\",\n",
    "    dynamic_ncols=True,\n",
    "    bar_format=B_FORMAT,\n",
    ")\n",
    "\n",
    "    # loop necessary for displaying properly the progressbar with multiprocessing\n",
    "    # source: https://stackoverflow.com/a/40133278\n",
    "\n",
    "#             info_list = []\n",
    "\n",
    "for folder in folder_pbar:\n",
    "\n",
    "    print('process files of folder', folder)\n",
    "\n",
    "    # read in data\n",
    "    fixations = pd.read_csv(os.path.join(datapath, folder, \"fixations.csv\"))\n",
    "    gaze = pd.read_csv(os.path.join(datapath, folder, \"gaze.csv\"))\n",
    "    blinks = pd.read_csv(os.path.join(datapath, folder, \"blinks.csv\"))\n",
    "    \n",
    "    saccDurs = calculateSaccadeLenths(gaze)\n",
    "    \n",
    "    fixationDurations.extend(fixations[\"duration [ms]\"])\n",
    "    saccadeDurations.extend(saccDurs)\n",
    "    blinkDurations.extend(blinks[\"duration [ms]\"])\n",
    "    \n",
    "    count_all, count_nan_fixation, count_not_nan_fixation = checkBlinks(gaze)\n",
    "    \n",
    "    count_blink_rows.append(count_all)\n",
    "    count_blink_isFix.append(count_not_nan_fixation)\n",
    "    count_blink_notFix.append(count_nan_fixation)\n",
    "    \n",
    "    \n",
    "    \n",
    "\n",
    "print(\"done\")"
   ]
  },
  {
   "cell_type": "code",
   "execution_count": 84,
   "id": "41faabf3",
   "metadata": {},
   "outputs": [
    {
     "data": {
      "text/html": [
       "<div>\n",
       "<style scoped>\n",
       "    .dataframe tbody tr th:only-of-type {\n",
       "        vertical-align: middle;\n",
       "    }\n",
       "\n",
       "    .dataframe tbody tr th {\n",
       "        vertical-align: top;\n",
       "    }\n",
       "\n",
       "    .dataframe thead th {\n",
       "        text-align: right;\n",
       "    }\n",
       "</style>\n",
       "<table border=\"1\" class=\"dataframe\">\n",
       "  <thead>\n",
       "    <tr style=\"text-align: right;\">\n",
       "      <th></th>\n",
       "      <th>section id</th>\n",
       "      <th>recording id</th>\n",
       "      <th>timestamp [ns]</th>\n",
       "      <th>gaze x [px]</th>\n",
       "      <th>gaze y [px]</th>\n",
       "      <th>worn</th>\n",
       "      <th>fixation id</th>\n",
       "      <th>blink id</th>\n",
       "      <th>azimuth [deg]</th>\n",
       "      <th>elevation [deg]</th>\n",
       "    </tr>\n",
       "  </thead>\n",
       "  <tbody>\n",
       "    <tr>\n",
       "      <th>0</th>\n",
       "      <td>a6790d70-f03c-402f-b672-095234a8c011</td>\n",
       "      <td>317671aa-12b7-44e9-a33f-35b0daff75b1</td>\n",
       "      <td>1693908602609369929</td>\n",
       "      <td>802.279</td>\n",
       "      <td>613.308</td>\n",
       "      <td>1.0</td>\n",
       "      <td>1.0</td>\n",
       "      <td>NaN</td>\n",
       "      <td>-1.224314</td>\n",
       "      <td>-0.406926</td>\n",
       "    </tr>\n",
       "    <tr>\n",
       "      <th>1</th>\n",
       "      <td>a6790d70-f03c-402f-b672-095234a8c011</td>\n",
       "      <td>317671aa-12b7-44e9-a33f-35b0daff75b1</td>\n",
       "      <td>1693908602616425929</td>\n",
       "      <td>802.253</td>\n",
       "      <td>613.099</td>\n",
       "      <td>1.0</td>\n",
       "      <td>1.0</td>\n",
       "      <td>NaN</td>\n",
       "      <td>-1.225967</td>\n",
       "      <td>-0.393477</td>\n",
       "    </tr>\n",
       "    <tr>\n",
       "      <th>2</th>\n",
       "      <td>a6790d70-f03c-402f-b672-095234a8c011</td>\n",
       "      <td>317671aa-12b7-44e9-a33f-35b0daff75b1</td>\n",
       "      <td>1693908602621898929</td>\n",
       "      <td>802.216</td>\n",
       "      <td>613.386</td>\n",
       "      <td>1.0</td>\n",
       "      <td>1.0</td>\n",
       "      <td>NaN</td>\n",
       "      <td>-1.228327</td>\n",
       "      <td>-0.411925</td>\n",
       "    </tr>\n",
       "    <tr>\n",
       "      <th>3</th>\n",
       "      <td>a6790d70-f03c-402f-b672-095234a8c011</td>\n",
       "      <td>317671aa-12b7-44e9-a33f-35b0daff75b1</td>\n",
       "      <td>1693908602625116929</td>\n",
       "      <td>801.885</td>\n",
       "      <td>613.651</td>\n",
       "      <td>1.0</td>\n",
       "      <td>1.0</td>\n",
       "      <td>NaN</td>\n",
       "      <td>-1.249580</td>\n",
       "      <td>-0.428931</td>\n",
       "    </tr>\n",
       "    <tr>\n",
       "      <th>4</th>\n",
       "      <td>a6790d70-f03c-402f-b672-095234a8c011</td>\n",
       "      <td>317671aa-12b7-44e9-a33f-35b0daff75b1</td>\n",
       "      <td>1693908602631194929</td>\n",
       "      <td>801.218</td>\n",
       "      <td>614.407</td>\n",
       "      <td>1.0</td>\n",
       "      <td>1.0</td>\n",
       "      <td>NaN</td>\n",
       "      <td>-1.292464</td>\n",
       "      <td>-0.477581</td>\n",
       "    </tr>\n",
       "  </tbody>\n",
       "</table>\n",
       "</div>"
      ],
      "text/plain": [
       "                             section id                          recording id  \\\n",
       "0  a6790d70-f03c-402f-b672-095234a8c011  317671aa-12b7-44e9-a33f-35b0daff75b1   \n",
       "1  a6790d70-f03c-402f-b672-095234a8c011  317671aa-12b7-44e9-a33f-35b0daff75b1   \n",
       "2  a6790d70-f03c-402f-b672-095234a8c011  317671aa-12b7-44e9-a33f-35b0daff75b1   \n",
       "3  a6790d70-f03c-402f-b672-095234a8c011  317671aa-12b7-44e9-a33f-35b0daff75b1   \n",
       "4  a6790d70-f03c-402f-b672-095234a8c011  317671aa-12b7-44e9-a33f-35b0daff75b1   \n",
       "\n",
       "        timestamp [ns]  gaze x [px]  gaze y [px]  worn  fixation id  blink id  \\\n",
       "0  1693908602609369929      802.279      613.308   1.0          1.0       NaN   \n",
       "1  1693908602616425929      802.253      613.099   1.0          1.0       NaN   \n",
       "2  1693908602621898929      802.216      613.386   1.0          1.0       NaN   \n",
       "3  1693908602625116929      801.885      613.651   1.0          1.0       NaN   \n",
       "4  1693908602631194929      801.218      614.407   1.0          1.0       NaN   \n",
       "\n",
       "   azimuth [deg]  elevation [deg]  \n",
       "0      -1.224314        -0.406926  \n",
       "1      -1.225967        -0.393477  \n",
       "2      -1.228327        -0.411925  \n",
       "3      -1.249580        -0.428931  \n",
       "4      -1.292464        -0.477581  "
      ]
     },
     "execution_count": 84,
     "metadata": {},
     "output_type": "execute_result"
    }
   ],
   "source": [
    "gaze.head()"
   ]
  },
  {
   "cell_type": "code",
   "execution_count": 73,
   "id": "3e325ece",
   "metadata": {},
   "outputs": [
    {
     "name": "stdout",
     "output_type": "stream",
     "text": [
      "3361208\n",
      "3361.208\n",
      "56.020133333333334\n"
     ]
    }
   ],
   "source": [
    "print(sumFix)\n",
    "print(sumFix/1000)\n",
    "print(sumFix/1000/60)"
   ]
  },
  {
   "cell_type": "code",
   "execution_count": 88,
   "id": "51a69e77",
   "metadata": {},
   "outputs": [
    {
     "name": "stdout",
     "output_type": "stream",
     "text": [
      "230.62876666666668\n",
      "39.37619275000005\n",
      "25.424983333333333\n",
      "270.00495941666674\n"
     ]
    }
   ],
   "source": [
    "print((sum(fixationDurations)/1000)/60)\n",
    "print((sum(saccadeDurations)/1000)/60)\n",
    "print((sum(blinkDurations)/1000)/60)\n",
    "print(((sum(saccadeDurations) + sum(fixationDurations))/1000)/60)"
   ]
  },
  {
   "cell_type": "code",
   "execution_count": 106,
   "id": "2dd62fc9",
   "metadata": {},
   "outputs": [],
   "source": [
    "gaze[\"diffs\"] = gaze[\"timestamp [ns]\"].diff()/1000000"
   ]
  },
  {
   "cell_type": "code",
   "execution_count": 107,
   "id": "1f11b1dd",
   "metadata": {},
   "outputs": [
    {
     "name": "stdout",
     "output_type": "stream",
     "text": [
      "0.169\n",
      "65.515\n",
      "5.0128427546209355\n"
     ]
    }
   ],
   "source": [
    "print(np.nanmin(gaze[\"diffs\"]))\n",
    "print(np.nanmax(gaze[\"diffs\"]))\n",
    "print(np.nanmean(gaze[\"diffs\"]))"
   ]
  },
  {
   "cell_type": "markdown",
   "id": "9e1f3106",
   "metadata": {},
   "source": [
    "## Distribution of eye movements over data"
   ]
  },
  {
   "cell_type": "code",
   "execution_count": 101,
   "id": "a647501c",
   "metadata": {},
   "outputs": [
    {
     "name": "stdout",
     "output_type": "stream",
     "text": [
      "304601\n",
      "304601\n",
      "142140\n",
      "162461\n"
     ]
    }
   ],
   "source": [
    "blink_sum = sum(count_blink_rows) \n",
    "blink_isFix_sum =  sum(count_blink_isFix)\n",
    "blink_notFix_sum =  sum(count_blink_notFix)\n",
    "\n",
    "print(blink_sum)\n",
    "print(blink_isFix_sum + blink_notFix_sum)\n",
    "print(blink_isFix_sum )\n",
    "print(blink_notFix_sum)\n"
   ]
  },
  {
   "cell_type": "code",
   "execution_count": 102,
   "id": "592894dc",
   "metadata": {},
   "outputs": [
    {
     "data": {
      "image/png": "[encoded data removed]",
      "text/plain": [
       "<Figure size 576x576 with 1 Axes>"
      ]
     },
     "metadata": {},
     "output_type": "display_data"
    }
   ],
   "source": [
    "# Combine lengths into a list\n",
    "lengths = [blink_isFix_sum, blink_notFix_sum]\n",
    "\n",
    "# Define labels for the pie chart\n",
    "labels = ['blinks are fixation rows', 'blinks are saccade rows']\n",
    "\n",
    "# Plot the pie chart\n",
    "plt.figure(figsize=(8, 8))\n",
    "plt.pie(lengths, labels=labels, autopct='%1.1f%%', startangle=90, colors=['#ff9999','#66b3ff'])\n",
    "plt.title('Blinks over fixation and saccade rows')\n",
    "\n",
    "\n",
    "# Combine the save path and filename\n",
    "full_save_path = os.path.join(savepath, 'pie_blinks.png')\n",
    "\n",
    "# Save the figure\n",
    "plt.savefig(full_save_path, dpi=300, bbox_inches='tight')\n",
    "\n",
    "\n",
    "plt.show()"
   ]
  },
  {
   "cell_type": "code",
   "execution_count": 94,
   "id": "88e996cd",
   "metadata": {},
   "outputs": [
    {
     "name": "stdout",
     "output_type": "stream",
     "text": [
      "13837726\n",
      "2362571.5650000027\n"
     ]
    },
    {
     "data": {
      "image/png": "[encoded data removed]",
      "text/plain": [
       "<Figure size 576x576 with 1 Axes>"
      ]
     },
     "metadata": {},
     "output_type": "display_data"
    }
   ],
   "source": [
    "# Calculate the lengths\n",
    "# gaze_sum = combined_gaze_data.sum()\n",
    "# saccade_sum = combined_saccade_data.sum()\n",
    "# noData_sum = combined_noData_data.sum()\n",
    "\n",
    "gaze_sum = sum(fixationDurations)\n",
    "saccade_sum = sum(saccadeDurations)\n",
    "\n",
    "\n",
    "allD = gaze_sum + saccade_sum \n",
    "print(gaze_sum)\n",
    "print(saccade_sum)\n",
    "\n",
    "# Combine lengths into a list\n",
    "lengths = [gaze_sum, saccade_sum]\n",
    "\n",
    "# Define labels for the pie chart\n",
    "labels = ['Fixations', 'Saccades']\n",
    "\n",
    "# Plot the pie chart\n",
    "plt.figure(figsize=(8, 8))\n",
    "plt.pie(lengths, labels=labels, autopct='%1.1f%%', startangle=90, colors=['#ff9999','#66b3ff'])\n",
    "plt.title('Fixations and Saccades')\n",
    "\n",
    "\n",
    "# Combine the save path and filename\n",
    "full_save_path = os.path.join(savepath, 'pie_fixation_saccade_sum.png')\n",
    "\n",
    "# Save the figure\n",
    "plt.savefig(full_save_path, dpi=300, bbox_inches='tight')\n",
    "\n",
    "\n",
    "plt.show()"
   ]
  },
  {
   "cell_type": "code",
   "execution_count": 95,
   "id": "b6ccab27",
   "metadata": {},
   "outputs": [
    {
     "data": {
      "image/png": "[encoded data removed]",
      "text/plain": [
       "<Figure size 576x576 with 1 Axes>"
      ]
     },
     "metadata": {},
     "output_type": "display_data"
    }
   ],
   "source": [
    "# Calculate the lengths\n",
    "# gaze_sum = combined_gaze_data.sum()\n",
    "# saccade_sum = combined_saccade_data.sum()\n",
    "# noData_sum = combined_noData_data.sum()\n",
    "\n",
    "gaze_sum = sum(fixationDurations) \n",
    "blink_sum =  sum(blinkDurations)\n",
    "fixation_sum = gaze_sum - blink_sum\n",
    "saccade_sum = sum(saccadeDurations)\n",
    "\n",
    "\n",
    "allD = gaze_sum + saccade_sum \n",
    "\n",
    "# Combine lengths into a list\n",
    "lengths = [fixation_sum, saccade_sum, blink_sum]\n",
    "\n",
    "# Define labels for the pie chart\n",
    "labels = ['Fixations', 'Saccades', 'Blinks']\n",
    "\n",
    "# Plot the pie chart\n",
    "plt.figure(figsize=(8, 8))\n",
    "plt.pie(lengths, labels=labels, autopct='%1.1f%%', startangle=90, colors=['#ff9999','#66b3ff','grey'])\n",
    "plt.title('Fixations, Saccades, Blinks')\n",
    "\n",
    "\n",
    "# Combine the save path and filename\n",
    "full_save_path = os.path.join(savepath, 'pie_fixation_saccade_blink_sum.png')\n",
    "\n",
    "# Save the figure\n",
    "plt.savefig(full_save_path, dpi=300, bbox_inches='tight')\n",
    "\n",
    "\n",
    "plt.show()"
   ]
  },
  {
   "cell_type": "markdown",
   "id": "3fed43a0",
   "metadata": {},
   "source": [
    "## eye movement duration distribution"
   ]
  },
  {
   "cell_type": "code",
   "execution_count": 89,
   "id": "eaefa1f7",
   "metadata": {},
   "outputs": [
    {
     "data": {
      "image/png": "[encoded data removed]",
      "text/plain": [
       "<Figure size 720x432 with 1 Axes>"
      ]
     },
     "metadata": {
      "needs_background": "light"
     },
     "output_type": "display_data"
    }
   ],
   "source": [
    "# binwidth = 1/90 \n",
    "\n",
    "plt.figure(figsize=(10, 6))\n",
    "\n",
    "# Plot KDE for gaze durations in blue\n",
    "sns.histplot(fixationDurations, color='blue', label='Fixation Durations')\n",
    "\n",
    "# # Plot KDE for saccade durations in red\n",
    "# sns.histplot(combined_saccade_data, kde=True, color='red', label='Saccade Durations', binwidth=binwidth)\n",
    "\n",
    "# plt.axvline(x=0.2666, color='black', linestyle='--', linewidth=1, label='0.25 Threshold')\n",
    "\n",
    "\n",
    "# Add labels and title\n",
    "plt.xlabel('Duration', fontsize=14)\n",
    "plt.ylabel('Density', fontsize=14)\n",
    "plt.title('Fixation Durations', fontsize=16)\n",
    "\n",
    "plt.xlim(0, 1000)\n",
    "\n",
    "# Show legend\n",
    "plt.legend()\n",
    "\n",
    "\n",
    "# Combine the save path and filename\n",
    "full_save_path = os.path.join(savepath, 'fixation_durations.png')\n",
    "\n",
    "# Save the figure\n",
    "plt.savefig(full_save_path, dpi=300, bbox_inches='tight')\n",
    "\n",
    "# Show the plot\n",
    "plt.show()\n"
   ]
  },
  {
   "cell_type": "code",
   "execution_count": 90,
   "id": "d39bdda2",
   "metadata": {},
   "outputs": [
    {
     "data": {
      "image/png": "[encoded data removed]",
      "text/plain": [
       "<Figure size 720x432 with 1 Axes>"
      ]
     },
     "metadata": {
      "needs_background": "light"
     },
     "output_type": "display_data"
    }
   ],
   "source": [
    "# binwidth = 1/90 \n",
    "\n",
    "plt.figure(figsize=(10, 6))\n",
    "\n",
    "# Plot KDE for gaze durations in blue\n",
    "sns.histplot(saccadeDurations, color='red', label='Saccade Durations')\n",
    "\n",
    "# # Plot KDE for saccade durations in red\n",
    "# sns.histplot(combined_saccade_data, kde=True, color='red', label='Saccade Durations', binwidth=binwidth)\n",
    "\n",
    "# plt.axvline(x=0.2666, color='black', linestyle='--', linewidth=1, label='0.25 Threshold')\n",
    "\n",
    "\n",
    "# Add labels and title\n",
    "plt.xlabel('Duration', fontsize=14)\n",
    "plt.ylabel('Density', fontsize=14)\n",
    "plt.title('Saccade Durations', fontsize=16)\n",
    "\n",
    "plt.xlim(0, 1000)\n",
    "\n",
    "# Show legend\n",
    "plt.legend()\n",
    "\n",
    "\n",
    "# Combine the save path and filename\n",
    "full_save_path = os.path.join(savepath, 'Saccade_durations.png')\n",
    "\n",
    "# Save the figure\n",
    "plt.savefig(full_save_path, dpi=300, bbox_inches='tight')\n",
    "\n",
    "# Show the plot\n",
    "plt.show()\n"
   ]
  },
  {
   "cell_type": "code",
   "execution_count": 91,
   "id": "2b348c09",
   "metadata": {},
   "outputs": [
    {
     "data": {
      "image/png": "[encoded data removed]",
      "text/plain": [
       "<Figure size 720x432 with 1 Axes>"
      ]
     },
     "metadata": {
      "needs_background": "light"
     },
     "output_type": "display_data"
    }
   ],
   "source": [
    "# binwidth = 1/90 \n",
    "\n",
    "plt.figure(figsize=(10, 6))\n",
    "\n",
    "# Plot KDE for gaze durations in blue\n",
    "sns.histplot(blinkDurations, color='grey', label='Blink Durations')\n",
    "\n",
    "# # Plot KDE for saccade durations in red\n",
    "# sns.histplot(combined_saccade_data, kde=True, color='red', label='Saccade Durations', binwidth=binwidth)\n",
    "\n",
    "# plt.axvline(x=0.2666, color='black', linestyle='--', linewidth=1, label='0.25 Threshold')\n",
    "\n",
    "\n",
    "# Add labels and title\n",
    "plt.xlabel('Duration', fontsize=14)\n",
    "plt.ylabel('Density', fontsize=14)\n",
    "plt.title('Blink Durations', fontsize=16)\n",
    "\n",
    "plt.xlim(0, 1000)\n",
    "\n",
    "# Show legend\n",
    "plt.legend()\n",
    "\n",
    "\n",
    "# Combine the save path and filename\n",
    "full_save_path = os.path.join(savepath, 'blink_durations.png')\n",
    "\n",
    "# Save the figure\n",
    "plt.savefig(full_save_path, dpi=300, bbox_inches='tight')\n",
    "\n",
    "# Show the plot\n",
    "plt.show()\n"
   ]
  },
  {
   "cell_type": "code",
   "execution_count": 92,
   "id": "2f6f456c",
   "metadata": {},
   "outputs": [
    {
     "data": {
      "image/png": "[encoded data removed]",
      "text/plain": [
       "<Figure size 720x432 with 1 Axes>"
      ]
     },
     "metadata": {
      "needs_background": "light"
     },
     "output_type": "display_data"
    }
   ],
   "source": [
    "# binwidth = 1/90 \n",
    "\n",
    "plt.figure(figsize=(10, 6))\n",
    "\n",
    "sns.histplot(blinkDurations, color='grey', label='Blink Durations')\n",
    "\n",
    "# Plot KDE for gaze durations in blue\n",
    "sns.histplot(fixationDurations, color='blue', label='Fixation Durations')\n",
    "\n",
    "# # Plot KDE for saccade durations in red\n",
    "sns.histplot(saccadeDurations, color='red', label='Saccade Durations')\n",
    "\n",
    "# plt.axvline(x=0.2666, color='black', linestyle='--', linewidth=1, label='0.25 Threshold')\n",
    "\n",
    "\n",
    "# Add labels and title\n",
    "plt.xlabel('Duration', fontsize=14)\n",
    "plt.ylabel('Density', fontsize=14)\n",
    "plt.title('Fixation, Saccade, Blink Durations', fontsize=16)\n",
    "\n",
    "plt.xlim(0, 1000)\n",
    "\n",
    "# Show legend\n",
    "plt.legend()\n",
    "\n",
    "\n",
    "# Combine the save path and filename\n",
    "full_save_path = os.path.join(savepath, 'fixation_saccade_blink_durations.png')\n",
    "\n",
    "# Save the figure\n",
    "plt.savefig(full_save_path, dpi=300, bbox_inches='tight')\n",
    "\n",
    "# Show the plot\n",
    "plt.show()\n"
   ]
  },
  {
   "cell_type": "code",
   "execution_count": 93,
   "id": "8ff07465",
   "metadata": {},
   "outputs": [
    {
     "data": {
      "image/png": "[encoded data removed]",
      "text/plain": [
       "<Figure size 720x432 with 1 Axes>"
      ]
     },
     "metadata": {
      "needs_background": "light"
     },
     "output_type": "display_data"
    }
   ],
   "source": [
    "# binwidth = 1/90 \n",
    "\n",
    "plt.figure(figsize=(10, 6))\n",
    "\n",
    "\n",
    "# Plot KDE for gaze durations in blue\n",
    "sns.histplot(fixationDurations, color='blue', label='Fixation Durations')\n",
    "\n",
    "# # Plot KDE for saccade durations in red\n",
    "sns.histplot(saccadeDurations, color='red', label='Saccade Durations')\n",
    "\n",
    "# plt.axvline(x=0.2666, color='black', linestyle='--', linewidth=1, label='0.25 Threshold')\n",
    "\n",
    "\n",
    "# Add labels and title\n",
    "plt.xlabel('Duration', fontsize=14)\n",
    "plt.ylabel('Density', fontsize=14)\n",
    "plt.title('Fixation and Saccade Durations', fontsize=16)\n",
    "\n",
    "plt.xlim(0, 1000)\n",
    "\n",
    "# Show legend\n",
    "plt.legend()\n",
    "\n",
    "\n",
    "# Combine the save path and filename\n",
    "full_save_path = os.path.join(savepath, 'fixation_saccade_durations.png')\n",
    "\n",
    "# Save the figure\n",
    "plt.savefig(full_save_path, dpi=300, bbox_inches='tight')\n",
    "\n",
    "# Show the plot\n",
    "plt.show()\n"
   ]
  },
  {
   "cell_type": "code",
   "execution_count": 113,
   "id": "6be3c3c3",
   "metadata": {},
   "outputs": [
    {
     "name": "stdout",
     "output_type": "stream",
     "text": [
      "--------eye movement statistics----------\n",
      "------------------------------------------\n",
      "-------------fixation stats----------\n",
      "0.065\n",
      "73.603\n",
      "0.3515682418699187\n",
      "0.212\n",
      "------------saccade stats----------\n",
      "0.0\n",
      "2.5065749999999998\n",
      "0.060032310125778185\n",
      "0.037498\n",
      "-------------blink stats----------\n",
      "0.1\n",
      "1.271\n",
      "0.2199075969439239\n",
      "0.209\n"
     ]
    }
   ],
   "source": [
    "print('--------eye movement statistics----------')\n",
    "print('------------------------------------------')\n",
    "print('-------------fixation stats----------')\n",
    "print(min(fixationDurations)/1000)\n",
    "print(max(fixationDurations)/1000)\n",
    "print(np.mean(fixationDurations)/1000)\n",
    "print(np.median(fixationDurations)/1000)\n",
    "\n",
    "print('------------saccade stats----------')\n",
    "print(min(saccadeDurations)/1000)\n",
    "print(max(saccadeDurations)/1000)\n",
    "print(np.mean(saccadeDurations)/1000)\n",
    "print(np.median(saccadeDurations)/1000)\n",
    "\n",
    "print('-------------blink stats----------')\n",
    "print(min(blinkDurations)/1000)\n",
    "print(max(blinkDurations)/1000)\n",
    "print(np.mean(blinkDurations)/1000)\n",
    "print(np.median(blinkDurations)/1000)\n"
   ]
  }
 ],
 "metadata": {
  "kernelspec": {
   "display_name": "Python 3",
   "language": "python",
   "name": "python3"
  },
  "language_info": {
   "codemirror_mode": {
    "name": "ipython",
    "version": 3
   },
   "file_extension": ".py",
   "mimetype": "text/x-python",
   "name": "python",
   "nbconvert_exporter": "python",
   "pygments_lexer": "ipython3",
   "version": "3.6.15"
  },
  "varInspector": {
   "cols": {
    "lenName": 16,
    "lenType": 16,
    "lenVar": 40
   },
   "kernels_config": {
    "python": {
     "delete_cmd_postfix": "",
     "delete_cmd_prefix": "del ",
     "library": "var_list.py",
     "varRefreshCmd": "print(var_dic_list())"
    },
    "r": {
     "delete_cmd_postfix": ") ",
     "delete_cmd_prefix": "rm(",
     "library": "var_list.r",
     "varRefreshCmd": "cat(var_dic_list()) "
    }
   },
   "types_to_exclude": [
    "module",
    "function",
    "builtin_function_or_method",
    "instance",
    "_Feature"
   ],
   "window_display": false
  }
 },
 "nbformat": 4,
 "nbformat_minor": 5
}
