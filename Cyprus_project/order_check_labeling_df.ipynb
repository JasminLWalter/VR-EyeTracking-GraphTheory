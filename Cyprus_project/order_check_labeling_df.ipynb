{
 "cells": [
  {
   "cell_type": "markdown",
   "id": "54997d3e",
   "metadata": {},
   "source": [
    "# order_check_labeling_df script to order and check the hand-labeling files"
   ]
  },
  {
   "cell_type": "code",
   "execution_count": null,
   "id": "2f0eb1e0",
   "metadata": {},
   "outputs": [],
   "source": [
    "%reset"
   ]
  },
  {
   "cell_type": "code",
   "execution_count": 2,
   "id": "4d31fbea",
   "metadata": {},
   "outputs": [],
   "source": [
    "import copy  # copy big/deep objects by value\n",
    "import csv\n",
    "import datetime  # datetime operations\n",
    "import itertools  # operate with iterators\n",
    "import json  # read/write from/into json format\n",
    "import math\n",
    "import os  # OS operations (read/write files/folders)\n",
    "import sys\n",
    "import time\n",
    "import warnings  # hide warnings\n",
    "from collections import Counter\n",
    "from itertools import groupby\n",
    "import matplotlib\n",
    "\n",
    "# process parallelization\n",
    "from multiprocessing import Manager, Pool, RawArray, cpu_count\n",
    "from os.path import exists\n",
    "\n",
    "import matplotlib.pyplot as plt  # mother of plots focr Python\n",
    "\n",
    "# import mlxtend\n",
    "import numpy as np  # array/matrix operations (e.g. linear algebra)\n",
    "import pandas as pd  # operate with dataframes\n",
    "import pyxdf  # read XDF files (LSL streams recordings)\n",
    "\n",
    "import scipy.stats\n",
    "import seaborn as sns  # matplotlib plotting nice with shortcuts\n",
    "from IPython.display import Markdown, display  # print nicely\n",
    "from ipywidgets import IntProgress\n",
    "#from matplotlib.pyplot import cm\n",
    "from scipy.signal import savgol_coeffs\n",
    "from tqdm.notebook import tqdm, trange  # mother of progressbars\n",
    "from scipy.stats import ks_2samp\n",
    "from multiprocessing import Pool, cpu_count\n",
    "\n",
    "import scipy.signal"
   ]
  },
  {
   "cell_type": "code",
   "execution_count": 3,
   "id": "732edc79",
   "metadata": {},
   "outputs": [],
   "source": [
    "datapath = \"E:/Cyprus_project_overview/data/ETdata/oldData/final_labeling_data_frame_nr_NOT_sorted\"\n",
    "savepath = \"E:/Cyprus_project_overview/data/ETdata/labeled_ET_data_sorted\"\n",
    "savepathGraphPrep = \"E:/Cyprus_project_overview/data/graphs/graphPrepETdata\""
   ]
  },
  {
   "cell_type": "code",
   "execution_count": 9,
   "id": "9e261d40",
   "metadata": {},
   "outputs": [
    {
     "name": "stdout",
     "output_type": "stream",
     "text": [
      "Process file: Session_1_ET_1: fixation_GPS_Expl_1_ET_1_labelled.csv\n",
      "Process file: Session_1_ET_2: fixation_GPS_Expl_1_ET_2_labelled.csv\n",
      "Process file: Session_1_ET_3: fixation_GPS_Expl_1_ET_3_labelled.csv\n",
      "Process file: Session_2_ET_1: fixation_GPS_Expl_2_ET_1_labelled.csv\n",
      "Process file: Session_2_ET_2: fixation_GPS_Expl_2_ET_2_labelled.csv\n",
      "Process file: Session_2_ET_3: fixation_GPS_Expl_2_ET_3_labelled.csv\n",
      "Process file: Session_3_ET_1: fixation_GPS_Expl_3_ET_1_labelled.csv\n",
      "Process file: Session_3_ET_2: fixation_GPS_Expl_3_ET_2_labelled.csv\n",
      "Process file: Session_3_ET_3: fixation_GPS_Expl_3_ET_3_labelled.csv\n",
      "Process file: Session_4_ET_1: fixation_GPS_Expl_4_ET_1_labelled.csv\n",
      "Process file: Session_4_ET_2: fixation_GPS_Expl_4_ET_2_labelled.csv\n",
      "Process file: Session_5_ET_1: fixation_GPS_Expl_5_ET_1_labelled.csv\n",
      "Process file: Session_5_ET_2: fixation_GPS_Expl_5_ET_2_labelled.csv\n",
      "out of 12 index checks, 0 were not successful\n",
      " 0 timestamp order checks were not successful\n",
      "All timestamps are strictly increasing across all files.\n",
      "Number of timestamps collected: 12080\n",
      "13 files were processed\n",
      "done\n"
     ]
    }
   ],
   "source": [
    "\n",
    "# Initialize a problem counter\n",
    "problem_checkIndex = 0\n",
    "problem_checkTSorder = 0\n",
    "\n",
    "indexChecks = 0\n",
    "\n",
    "allTimestamp = []\n",
    "\n",
    "allFilesCounter = 0\n",
    "\n",
    "# Iterate through sessions (1 to 5)\n",
    "for indexSess in range(1, 6):\n",
    "    # Get eye-tracking session files\n",
    "    session_files = sorted(\n",
    "        [f for f in os.listdir(datapath) if f.startswith(f\"fixation_GPS_Expl_{indexSess}\") and f.endswith(\"_labelled.csv\")]\n",
    "    )\n",
    "    \n",
    "    # Main part - runs if files exist\n",
    "    for indexET, filename in enumerate(session_files, start=1):\n",
    "        allFilesCounter += 1\n",
    "        print(f\"Process file: Session_{indexSess}_ET_{indexET}: {filename}\")\n",
    "\n",
    "        # Read the data\n",
    "        filepath = os.path.join(datapath, filename)\n",
    "        data_raw = pd.read_csv(filepath)\n",
    "\n",
    "        # Sort the data by \"frame_nr\" in ascending order\n",
    "        data_sorted = data_raw.sort_values(by=\"frame_nr\", ascending=True, ignore_index=True)\n",
    "\n",
    "        # Check if the dataset has a \"Var1\" column\n",
    "        if \"Unnamed: 0\" in data_sorted.columns:\n",
    "            indexChecks += 1\n",
    "            # Generate the expected order\n",
    "            test_order = pd.Series(range(len(data_sorted)))\n",
    "\n",
    "            # Compare the \"Var1\" column with the expected order\n",
    "            is_sorted = data_sorted[\"Unnamed: 0\"].reset_index(drop=True).eq(test_order)\n",
    "\n",
    "            if not(is_sorted.sum() == len(data_sorted)):\n",
    "                print(\"Problem in sorting detected!!!!!!!!!!\")\n",
    "                problem_checkIndex += 1\n",
    "                \n",
    "        is_increasing = data_sorted[\"timestamp_[ns]\"].diff().gt(0)  # diff() checks if each value is greater than the previous one\n",
    "\n",
    "        if not(is_increasing[1:].all()):\n",
    "            print(\"Problem detected: timestamp_[ns] values are not increasing!\")\n",
    "            problem_checkTSorder += 1\n",
    "\n",
    "        allTimestamp.extend(data_sorted[\"timestamp_[ns]\"].iloc[1:].tolist())\n",
    "        data_sorted.to_csv(os.path.join(savepath, filename), index = False)\n",
    "        \n",
    "        ##################################################################################\n",
    "        ## also, since the data csv files have so different formating, Matlab cannot open them reliably. \n",
    "        ## Therefore, we will prep the data frames specifically for the graph creation in matlab\n",
    "\n",
    "        \n",
    "        columns_to_keep = [\"frame_nr\", \"timestamp_[ns]\", \"house_nr\"]\n",
    "        data_selected =  data_sorted[columns_to_keep]\n",
    "\n",
    "        \n",
    "        saveName =  filename.replace(\"fixation_GPS\",\"graphPrep\")\n",
    "        data_selected.to_csv(os.path.join(savepathGraphPrep, saveName), index = False)\n",
    "        ######################################################################################\n",
    "\n",
    "\n",
    "print(f\"out of {indexChecks} index checks, {problem_checkIndex} were not successful\")\n",
    "print(f\" {problem_checkTSorder} timestamp order checks were not successful\")\n",
    "\n",
    "\n",
    "# Check if all timestamps are strictly increasing\n",
    "is_increasing = all(t1 < t2 for t1, t2 in zip(allTimestamp[1:], allTimestamp[2:]))\n",
    "\n",
    "if is_increasing:\n",
    "    print(\"All timestamps are strictly increasing across all files.\")\n",
    "else:\n",
    "    print(\"Timestamps are NOT strictly increasing across all files!\")\n",
    "\n",
    "# Optionally, print the number of collected timestamps for debugging\n",
    "print(f\"Number of timestamps collected: {len(allTimestamp)}\")\n",
    "\n",
    "print(f\"{allFilesCounter} files were processed\")\n",
    "\n",
    "\n",
    "\n",
    "\n",
    "print(\"done\")"
   ]
  }
 ],
 "metadata": {
  "kernelspec": {
   "display_name": "Python 3",
   "language": "python",
   "name": "python3"
  },
  "language_info": {
   "codemirror_mode": {
    "name": "ipython",
    "version": 3
   },
   "file_extension": ".py",
   "mimetype": "text/x-python",
   "name": "python",
   "nbconvert_exporter": "python",
   "pygments_lexer": "ipython3",
   "version": "3.6.15"
  },
  "varInspector": {
   "cols": {
    "lenName": 16,
    "lenType": 16,
    "lenVar": 40
   },
   "kernels_config": {
    "python": {
     "delete_cmd_postfix": "",
     "delete_cmd_prefix": "del ",
     "library": "var_list.py",
     "varRefreshCmd": "print(var_dic_list())"
    },
    "r": {
     "delete_cmd_postfix": ") ",
     "delete_cmd_prefix": "rm(",
     "library": "var_list.r",
     "varRefreshCmd": "cat(var_dic_list()) "
    }
   },
   "types_to_exclude": [
    "module",
    "function",
    "builtin_function_or_method",
    "instance",
    "_Feature"
   ],
   "window_display": false
  }
 },
 "nbformat": 4,
 "nbformat_minor": 5
}
