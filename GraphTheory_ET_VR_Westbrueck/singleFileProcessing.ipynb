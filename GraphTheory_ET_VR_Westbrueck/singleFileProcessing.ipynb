{
 "cells": [
  {
   "cell_type": "markdown",
   "metadata": {
    "id": "5AZQ_AK5iQy0"
   },
   "source": [
    "# Handles single (exploration) file\n",
    "\n",
    "\n",
    "**Changes (to Jasmins code):**\n",
    "\n",
    "- uses a single file\n",
    "- ignores warnings\n",
    "- double checks correct labeling to prevent earlier experienced duplication error"
   ]
  },
  {
   "cell_type": "code",
   "execution_count": null,
   "metadata": {
    "id": "PpU0K74riPOG"
   },
   "outputs": [],
   "source": [
    "import os\n",
    "import json\n",
    "import numpy as np\n",
    "import pandas as pd\n",
    "import warnings\n",
    "import time\n",
    "\n",
    "# Suppress FutureWarnings\n",
    "warnings.simplefilter(action='ignore', category=FutureWarning)\n",
    "\n",
    "# Column definitions for empty DataFrames when no ray cast data is available\n",
    "columns1 = ['hitObjectColliderName_1', 'ordinalOfHit_1', 'hitPointOnObject.x_1', 'hitPointOnObject.y_1', 'hitPointOnObject.z_1',\n",
    "            'hitObjectColliderBoundsCenter.x_1', 'hitObjectColliderBoundsCenter.y_1', 'hitObjectColliderBoundsCenter.z_1']\n",
    "\n",
    "columns2 = ['hitObjectColliderName_2', 'ordinalOfHit_2', 'hitPointOnObject.x_2', 'hitPointOnObject.y_2', 'hitPointOnObject.z_2',\n",
    "            'hitObjectColliderBoundsCenter.x_2', 'hitObjectColliderBoundsCenter.y_2', 'hitObjectColliderBoundsCenter.z_2']\n",
    "\n",
    "columnsRCall = columns1 + columns2 + ['DataRow']\n",
    "\n",
    "emptyDF1 = pd.DataFrame(np.nan, index=[0], columns=columns1)\n",
    "emptyDF2 = pd.DataFrame(np.nan, index=[0], columns=columns2)\n",
    "\n",
    "# Define file paths\n",
    "DATA_PATH = '/content/1005_Expl_S_1_ET_1_1618817882.14612.json'\n",
    "PROCESSED_DATA_PATH = '/content/'\n",
    "\n",
    "# Ensure processed data path exists\n",
    "os.makedirs(PROCESSED_DATA_PATH, exist_ok=True)\n",
    "\n",
    "# Specify the single file to be processed\n",
    "fileName = \"data\"\n",
    "\n",
    "with open(DATA_PATH, 'r') as datafile:\n",
    "    try:\n",
    "        print(\"read file\")\n",
    "        dataR = '['+ datafile.read()\n",
    "        dataR = dataR[:len(dataR)] + \"]\"\n",
    "    except:\n",
    "        print(\"reading did not work\")\n",
    "\n",
    "    # Parse the JSON data from the file\n",
    "    subject_session = json.loads(dataR)\n",
    "    print(\"data loaded\")\n",
    "    print('time is: ', time.ctime())\n",
    "\n",
    "# Load JSON data\n",
    "subject_session = json.loads(dataR)\n",
    "print(\"Data loaded at:\", time.ctime())\n",
    "\n",
    "##################################################################################################################\n",
    "# Data flattening\n",
    "\n",
    "# Save trial information\n",
    "infoDF = pd.json_normalize(subject_session[0]['trials'][0])\n",
    "infoDF = infoDF.drop(columns=['dataPoints'])\n",
    "infoDF.insert(0, 'FileInfo', fileName)\n",
    "infoDF.to_csv(os.path.join(PROCESSED_DATA_PATH, fileName + '_infoSummaryExplo.csv'), index=False)\n",
    "print('Trial info saved.')\n",
    "\n",
    "# Flatten majority of the variables into dataDF\n",
    "currentDF_raw = pd.json_normalize(subject_session[0]['trials'][0]['dataPoints'])\n",
    "dataDF = currentDF_raw.drop(columns=['rayCastHitsCombinedEyes'])  # Remove nested column\n",
    "\n",
    "# Create an empty DataFrame for ray cast data\n",
    "rayCastData_df = pd.DataFrame(np.nan, index=range(len(subject_session[0]['trials'][0]['dataPoints'])), columns=columnsRCall)\n",
    "\n",
    "# Flatten the ray cast data and fill DataFrame\n",
    "for index in range(len(subject_session[0]['trials'][0]['dataPoints'])):\n",
    "    lengthRCData = len(currentDF_raw.at[index, 'rayCastHitsCombinedEyes'])\n",
    "\n",
    "    if lengthRCData == 0:  # No collider hit\n",
    "        combineDF = pd.concat([emptyDF1, emptyDF2], axis=1)\n",
    "        combineDF.insert(len(combineDF.columns), 'DataRow', index)\n",
    "\n",
    "    elif lengthRCData == 1:  # Only one collider hit\n",
    "        pdRC1 = pd.json_normalize(currentDF_raw.at[index, 'rayCastHitsCombinedEyes'][0])\n",
    "        pdRC1.columns = [col + '_1' for col in pdRC1.columns]  # Explicitly rename to ensure *_1 suffix\n",
    "        combineDF = pd.concat([pdRC1, emptyDF2], axis=1)\n",
    "        combineDF.insert(len(combineDF.columns), 'DataRow', index)\n",
    "\n",
    "    elif lengthRCData == 2:  # Two colliders hit\n",
    "        pdRC1 = pd.json_normalize(currentDF_raw.at[index, 'rayCastHitsCombinedEyes'][0])\n",
    "        pdRC1.columns = [col + '_1' for col in pdRC1.columns]  # Explicitly rename to ensure *_1 suffix\n",
    "\n",
    "        pdRC2 = pd.json_normalize(currentDF_raw.at[index, 'rayCastHitsCombinedEyes'][1])\n",
    "        pdRC2.columns = [col + '_2' for col in pdRC2.columns]  # Explicitly rename to ensure *_2 suffix\n",
    "\n",
    "        combineDF = pd.concat([pdRC1, pdRC2], axis=1)\n",
    "        combineDF.insert(len(combineDF.columns), 'DataRow', index)\n",
    "\n",
    "    else:\n",
    "        print(f\"!!! An exception occurred in ray cast data flattening in trial {index}\")\n",
    "\n",
    "    # Verify column labeling\n",
    "    if not all(col.endswith('_1') or col.endswith('_2') or col == 'DataRow' for col in combineDF.columns):\n",
    "        print(f\"Column labeling issue detected in trial {index}\")\n",
    "        print(combineDF.columns)\n",
    "\n",
    "    # Append the new data row to rayCastData_df\n",
    "    rayCastData_df.loc[index] = combineDF.loc[0]\n",
    "\n",
    "# Concatenate dataDF and rayCastData_df\n",
    "flatData_df = pd.concat([dataDF, rayCastData_df], axis=1)\n",
    "\n",
    "# Save flattened data to CSV\n",
    "print(\"Saving flattened data...\")\n",
    "flatData_df.to_csv(os.path.join(PROCESSED_DATA_PATH, fileName + '_flattened_Explo.csv'), index=False)\n",
    "print(\"Data saved at:\", time.ctime())\n"
   ]
  }
 ],
 "metadata": {
  "colab": {
   "provenance": []
  },
  "kernelspec": {
   "display_name": "Python 3",
   "language": "python",
   "name": "python3"
  },
  "language_info": {
   "codemirror_mode": {
    "name": "ipython",
    "version": 3
   },
   "file_extension": ".py",
   "mimetype": "text/x-python",
   "name": "python",
   "nbconvert_exporter": "python",
   "pygments_lexer": "ipython3",
   "version": "3.6.15"
  },
  "varInspector": {
   "cols": {
    "lenName": 16,
    "lenType": 16,
    "lenVar": 40
   },
   "kernels_config": {
    "python": {
     "delete_cmd_postfix": "",
     "delete_cmd_prefix": "del ",
     "library": "var_list.py",
     "varRefreshCmd": "print(var_dic_list())"
    },
    "r": {
     "delete_cmd_postfix": ") ",
     "delete_cmd_prefix": "rm(",
     "library": "var_list.r",
     "varRefreshCmd": "cat(var_dic_list()) "
    }
   },
   "types_to_exclude": [
    "module",
    "function",
    "builtin_function_or_method",
    "instance",
    "_Feature"
   ],
   "window_display": false
  }
 },
 "nbformat": 4,
 "nbformat_minor": 1
}
