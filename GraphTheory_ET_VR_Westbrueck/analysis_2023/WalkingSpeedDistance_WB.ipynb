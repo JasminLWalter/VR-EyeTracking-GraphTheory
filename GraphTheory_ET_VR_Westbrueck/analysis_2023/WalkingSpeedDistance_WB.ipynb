{
 "cells": [
  {
   "cell_type": "code",
   "execution_count": 3,
   "id": "6a96cbbc",
   "metadata": {},
   "outputs": [],
   "source": [
    "import copy  # copy big/deep objects by value\n",
    "import csv\n",
    "import datetime  # datetime operations\n",
    "import itertools  # operate with iterators\n",
    "import json  # read/write from/into json format\n",
    "import math\n",
    "import os  # OS operations (read/write files/folders)\n",
    "import sys\n",
    "import time\n",
    "import warnings  # hide warnings\n",
    "from collections import Counter\n",
    "from itertools import groupby\n",
    "import matplotlib\n",
    "\n",
    "# process parallelization\n",
    "from multiprocessing import Manager, Pool, RawArray, cpu_count\n",
    "from os.path import exists\n",
    "\n",
    "import matplotlib.pyplot as plt  # mother of plots focr Python\n",
    "\n",
    "# import mlxtend\n",
    "import numpy as np  # array/matrix operations (e.g. linear algebra)\n",
    "import pandas as pd  # operate with dataframes\n",
    "import pyxdf  # read XDF files (LSL streams recordings)\n",
    "\n",
    "import scipy.stats\n",
    "import seaborn as sns  # matplotlib plotting nice with shortcuts\n",
    "from IPython.display import Markdown, display  # print nicely\n",
    "from ipywidgets import IntProgress\n",
    "#from matplotlib.pyplot import cm\n",
    "from scipy.signal import savgol_coeffs\n",
    "from tqdm.notebook import tqdm, trange  # mother of progressbars\n",
    "from scipy.stats import ks_2samp\n",
    "from multiprocessing import Pool, cpu_count\n",
    "\n",
    "import scipy.signal"
   ]
  },
  {
   "cell_type": "code",
   "execution_count": 4,
   "id": "0121553d",
   "metadata": {},
   "outputs": [
    {
     "name": "stdout",
     "output_type": "stream",
     "text": [
      "Total CPU threads: 8\n"
     ]
    }
   ],
   "source": [
    "# warnings.simplefilter(action=\"ignore\", category=FutureWarning)\n",
    "\n",
    "# raw and processed data paths\n",
    "# PATH_RAW = \"C:/Users/schmi/Documents/PhD_Osnabruck_University/SpaRe-VR/Spare-VR-EEG/27.07.23/data\"\n",
    "# PATH_PROC = \"C:/Users/schmi/Documents/PhD_Osnabruck_University/SpaRe-VR/Spare-VR-EEG/EEG_Data_Skripte_Debbie/Events\"\n",
    "# PATH_FOREYE = \"C:/Users/schmi/Documents/PhD_Osnabruck_University/SpaRe-VR/Spare-VR-EEG/EEG_Data_Skripte_Debbie/ET_Output_MAD-sacc\"\n",
    "# PATH_TRG = \"C:/Users/schmi/Documents/PhD_Osnabruck_University/SpaRe-VR/Spare-VR-EEG/EEG_Data_Skripte_Debbie/TriggerFiles_fEEG\"\n",
    "\n",
    "\n",
    "# specify decimals format on pandas tables\n",
    "# pd.options.display.float_format = \"{:.5f}\".format\n",
    "\n",
    "# inline static plotting (default)\n",
    "%matplotlib inline\n",
    "# interactive plotting\n",
    "# %matplotlib widget\n",
    "\n",
    "# progress bar customized format\n",
    "B_FORMAT = \"\"\"📄 {n_fmt} of {total_fmt} {desc} processed: {bar} \n",
    "            {percentage:3.0f}% ⏱️{elapsed} ⏳{remaining} ⚙️{rate_fmt}{postfix}\"\"\"\n",
    "\n",
    "\n",
    "CORES = cpu_count()  # number of cpu threads for multiprocessing\n",
    "print(f\"Total CPU threads: {CORES}\")\n",
    "\n",
    "\n",
    "def pbar_fork_hack():\n",
    "    \"\"\"\n",
    "    Hack to enforce progress bars to be displayed by fork processes on\n",
    "    IPython Apps like Jupyter Notebooks.\n",
    "\n",
    "    Avoids [IPKernelApp] WARNING | WARNING: attempted to send message from fork\n",
    "\n",
    "    Important: pass this function as argument for the initializer parameter\n",
    "    while initializing a multiprocessing pool to make it work. E.g.:\n",
    "\n",
    "    pool = Pool(processes=N_CORES, initializer=pbar_fork_hack)\n",
    "\n",
    "    Source:\n",
    "     - https://github.com/ipython/ipython/issues/11049#issue-306086846\n",
    "     - https://github.com/tqdm/tqdm/issues/485#issuecomment-473338308\n",
    "    \"\"\"\n",
    "    print(\" \", end=\"\", flush=True)"
   ]
  },
  {
   "cell_type": "code",
   "execution_count": 5,
   "id": "a0b3baa9",
   "metadata": {},
   "outputs": [
    {
     "name": "stdout",
     "output_type": "stream",
     "text": [
      "26 participants\n"
     ]
    }
   ],
   "source": [
    "# Participant list of all participants that participated 5 sessions x 30 min\n",
    "# in Westbrook city\n",
    "# PartList = [365, 1754, 2258, 2693, 3310, 4176, 4597, 4796, 4917, 5741, 6642, 7093, 7264, 7412, 7842, 8007, 8469, 8673, 9472, 9502, 9586, 9601]\n",
    "\n",
    "PartList = [1004, 1005, 1008, 1010, 1011, 1013, 1017, 1018, 1019, 1021, 1022, 1023, 1054, 1055, 1056, 1057, 1058, 1068, 1069, 1072, 1073, 1074, 1075, 1077, 1079, 1080]\n",
    "print(len(PartList),'participants') "
   ]
  },
  {
   "cell_type": "code",
   "execution_count": 14,
   "id": "ea516243",
   "metadata": {},
   "outputs": [],
   "source": [
    "datapath = \"F:\\\\WestbrookProject\\\\Spa_Re\\\\control_group\\\\pre-processing_2023\\\\velocity_based\\\\step1_dupl_clean_smooth\"\n",
    "            \n",
    "\n",
    "# datapath = \"F:\\\\WestbrookProject\\\\HumanA_Data\\\\Experiment1\\\\Exploration_short\\\\pre-processing\\\\velocity_based\\\\step1_dupl_clean_smooth\"\n",
    "savepath = \"F:\\\\Cyprus_project_overview\\\\data\\\\analysis\\\\walkingSpeed\"\n",
    "\n",
    "\n",
    "savepath_walkingPaths = \"F:\\\\WestbrookProject\\\\Spa_Re\\\\control_group\\\\analysis_velocityBased_2023\"\n"
   ]
  },
  {
   "cell_type": "markdown",
   "id": "704b62ae",
   "metadata": {},
   "source": [
    "## walking distance and walking speed functions"
   ]
  },
  {
   "cell_type": "code",
   "execution_count": 8,
   "id": "3353116f",
   "metadata": {},
   "outputs": [],
   "source": [
    "# Define a function to calculate Euclidean distance between two points\n",
    "def euclidean_distance(row1, row2):\n",
    "#     return np.sqrt((row2['hmdPosition_x'] - row1['hmdPosition_x'])**2 + \n",
    "#                    (row2['hmdPosition_y'] - row1['hmdPosition_y'])**2 + \n",
    "#                    (row2['hmdPosition_z'] - row1['hmdPosition_z'])**2)\n",
    "\n",
    "    return np.sqrt((row2['playerBodyPosition_x'] - row1['playerBodyPosition_x'])**2 + \n",
    "                   (row2['playerBodyPosition_z'] - row1['playerBodyPosition_z'])**2)"
   ]
  },
  {
   "cell_type": "code",
   "execution_count": 9,
   "id": "d8215a14",
   "metadata": {},
   "outputs": [],
   "source": [
    "def calc_walkingSpeed(df):\n",
    "\n",
    "\n",
    "    \n",
    "    # Calculate the distance between consecutive rows\n",
    "    distances = []\n",
    "    for i in range(len(df) - 1):\n",
    "        distance = euclidean_distance(df.iloc[i], df.iloc[i + 1])\n",
    "        distances.append(distance)\n",
    "    \n",
    "    \n",
    "    # Add distances as a new column in DataFrame (with NaN for the last row)\n",
    "    df['distances_m'] = [np.nan] + distances\n",
    "\n",
    "    # Calculate time differences between rows\n",
    "    df['time_diff'] = df['timeStampDataPointStart_converted'].diff().fillna(0)\n",
    "\n",
    "    # Calculate speed in km/h\n",
    "    # Speed (km/h) = (Distance (meters) / Time (seconds)) * 3.6\n",
    "    df['speed_kmh'] = (df['distances_m']/df['time_diff']) * 3.6\n",
    "    df['speed_kmh'].fillna(0, inplace=True)  # Fill NaN values (if any) with 0 for the first row\n",
    "\n",
    "    return df\n",
    "    \n",
    "    "
   ]
  },
  {
   "cell_type": "code",
   "execution_count": 41,
   "id": "3ebebf3e",
   "metadata": {},
   "outputs": [],
   "source": [
    "\n",
    "def calc_walkingSpeed_rate(df, rate):\n",
    "    # Create a mask to select every 90th row\n",
    "    mask = np.zeros(len(df), dtype=bool)\n",
    "    mask[::rate] = True\n",
    "    \n",
    "    # Apply the mask to filter the DataFrame\n",
    "    df_filtered = df[mask]\n",
    "    \n",
    "    # Calculate the distance between consecutive rows in the filtered DataFrame\n",
    "    distances = []\n",
    "    for i in range(len(df_filtered) - 1):\n",
    "        distance = euclidean_distance(df_filtered.iloc[i], df_filtered.iloc[i + 1])\n",
    "        distances.append(distance)\n",
    "    \n",
    "    # Add distances as a new column in the filtered DataFrame (with NaN for the last row)\n",
    "    df_filtered['distances_m'] = [np.nan] + distances\n",
    "    \n",
    "    # Calculate time differences between rows in the filtered DataFrame\n",
    "    df_filtered['time_diff'] = df_filtered['timeStampDataPointStart_converted'].diff().fillna(0)\n",
    "    \n",
    "    # Calculate speed in km/h\n",
    "    # Speed (km/h) = (Distance (meters) / Time (seconds)) * 3.6\n",
    "    df_filtered['speed_kmh'] = (df_filtered['distances_m'] / df_filtered['time_diff']) * 3.6\n",
    "    df_filtered['speed_kmh'].fillna(0, inplace=True)  # Fill NaN values (if any) with 0 for the first row\n",
    "    \n",
    "    # Return only the speed values\n",
    "    return df_filtered['speed_kmh'].values , df_filtered['distances_m'].values"
   ]
  },
  {
   "cell_type": "markdown",
   "id": "82492683",
   "metadata": {},
   "source": [
    "## loop over file and calculate the walking speed and distance only considering every 45th row"
   ]
  },
  {
   "cell_type": "code",
   "execution_count": 58,
   "id": "7eaa9225",
   "metadata": {},
   "outputs": [
    {
     "name": "stdout",
     "output_type": "stream",
     "text": [
      "start\n"
     ]
    },
    {
     "data": {
      "application/vnd.jupyter.widget-view+json": {
       "model_id": "b4ba544e8a5147308f75dbb71a121e8e",
       "version_major": 2,
       "version_minor": 0
      },
      "text/plain": [
       "📄 0 of 26 participants processed:            \n",
       "              0% ⏱️00:00 ⏳? ⚙️?it/s"
      ]
     },
     "metadata": {},
     "output_type": "display_data"
    },
    {
     "name": "stdout",
     "output_type": "stream",
     "text": [
      "Participant 0 - participant ID 1004\n"
     ]
    },
    {
     "data": {
      "application/vnd.jupyter.widget-view+json": {
       "model_id": "6f339a7768834da7a2352ddc0c6aa49a",
       "version_major": 2,
       "version_minor": 0
      },
      "text/plain": [
       "📄 0 of 5 sessions________ processed:            \n",
       "              0% ⏱️00:00 ⏳? ⚙️?it/s"
      ]
     },
     "metadata": {},
     "output_type": "display_data"
    },
    {
     "data": {
      "application/vnd.jupyter.widget-view+json": {
       "model_id": "b6feb8124f8542eaba2e2548aa1ccdd8",
       "version_major": 2,
       "version_minor": 0
      },
      "text/plain": [
       "📄 0 of 3 📂 ET files____________ processed:            \n",
       "              0% ⏱️00:00 ⏳? ⚙️?it/s"
      ]
     },
     "metadata": {},
     "output_type": "display_data"
    },
    {
     "name": "stdout",
     "output_type": "stream",
     "text": [
      "process file  1004_Session_1_ET_1_data_dupl_clean_smooth.csv\n"
     ]
    },
    {
     "name": "stderr",
     "output_type": "stream",
     "text": [
      "D:\\Software\\Programme\\Anaconda3\\envs\\graphs\\lib\\site-packages\\ipykernel_launcher.py:16: SettingWithCopyWarning: \n",
      "A value is trying to be set on a copy of a slice from a DataFrame.\n",
      "Try using .loc[row_indexer,col_indexer] = value instead\n",
      "\n",
      "See the caveats in the documentation: https://pandas.pydata.org/pandas-docs/stable/user_guide/indexing.html#returning-a-view-versus-a-copy\n",
      "  app.launch_new_instance()\n",
      "D:\\Software\\Programme\\Anaconda3\\envs\\graphs\\lib\\site-packages\\ipykernel_launcher.py:19: SettingWithCopyWarning: \n",
      "A value is trying to be set on a copy of a slice from a DataFrame.\n",
      "Try using .loc[row_indexer,col_indexer] = value instead\n",
      "\n",
      "See the caveats in the documentation: https://pandas.pydata.org/pandas-docs/stable/user_guide/indexing.html#returning-a-view-versus-a-copy\n",
      "D:\\Software\\Programme\\Anaconda3\\envs\\graphs\\lib\\site-packages\\ipykernel_launcher.py:23: SettingWithCopyWarning: \n",
      "A value is trying to be set on a copy of a slice from a DataFrame.\n",
      "Try using .loc[row_indexer,col_indexer] = value instead\n",
      "\n",
      "See the caveats in the documentation: https://pandas.pydata.org/pandas-docs/stable/user_guide/indexing.html#returning-a-view-versus-a-copy\n"
     ]
    },
    {
     "name": "stdout",
     "output_type": "stream",
     "text": [
      "process file  1004_Session_1_ET_2_data_dupl_clean_smooth.csv\n",
      "process file  1004_Session_1_ET_3_data_dupl_clean_smooth.csv\n"
     ]
    },
    {
     "data": {
      "application/vnd.jupyter.widget-view+json": {
       "model_id": "16f9ddc332e6443bad9619bed3ee700c",
       "version_major": 2,
       "version_minor": 0
      },
      "text/plain": [
       "📄 0 of 3 📂 ET files____________ processed:            \n",
       "              0% ⏱️00:00 ⏳? ⚙️?it/s"
      ]
     },
     "metadata": {},
     "output_type": "display_data"
    },
    {
     "name": "stdout",
     "output_type": "stream",
     "text": [
      "process file  1004_Session_2_ET_1_data_dupl_clean_smooth.csv\n",
      "process file  1004_Session_2_ET_2_data_dupl_clean_smooth.csv\n",
      "process file  1004_Session_2_ET_3_data_dupl_clean_smooth.csv\n"
     ]
    },
    {
     "data": {
      "application/vnd.jupyter.widget-view+json": {
       "model_id": "f5aea159fe0a49daaf9c782b068f3b04",
       "version_major": 2,
       "version_minor": 0
      },
      "text/plain": [
       "📄 0 of 3 📂 ET files____________ processed:            \n",
       "              0% ⏱️00:00 ⏳? ⚙️?it/s"
      ]
     },
     "metadata": {},
     "output_type": "display_data"
    },
    {
     "name": "stdout",
     "output_type": "stream",
     "text": [
      "process file  1004_Session_3_ET_1_data_dupl_clean_smooth.csv\n",
      "process file  1004_Session_3_ET_2_data_dupl_clean_smooth.csv\n",
      "process file  1004_Session_3_ET_3_data_dupl_clean_smooth.csv\n"
     ]
    },
    {
     "data": {
      "application/vnd.jupyter.widget-view+json": {
       "model_id": "63c988d990f14050a1be400703bef645",
       "version_major": 2,
       "version_minor": 0
      },
      "text/plain": [
       "📄 0 of 3 📂 ET files____________ processed:            \n",
       "              0% ⏱️00:00 ⏳? ⚙️?it/s"
      ]
     },
     "metadata": {},
     "output_type": "display_data"
    },
    {
     "name": "stdout",
     "output_type": "stream",
     "text": [
      "process file  1004_Session_4_ET_1_data_dupl_clean_smooth.csv\n",
      "process file  1004_Session_4_ET_2_data_dupl_clean_smooth.csv\n",
      "process file  1004_Session_4_ET_3_data_dupl_clean_smooth.csv\n"
     ]
    },
    {
     "data": {
      "application/vnd.jupyter.widget-view+json": {
       "model_id": "62208ddd74954e8ba5e381c3deef4bfb",
       "version_major": 2,
       "version_minor": 0
      },
      "text/plain": [
       "📄 0 of 3 📂 ET files____________ processed:            \n",
       "              0% ⏱️00:00 ⏳? ⚙️?it/s"
      ]
     },
     "metadata": {},
     "output_type": "display_data"
    },
    {
     "name": "stdout",
     "output_type": "stream",
     "text": [
      "process file  1004_Session_5_ET_1_data_dupl_clean_smooth.csv\n",
      "process file  1004_Session_5_ET_2_data_dupl_clean_smooth.csv\n",
      "process file  1004_Session_5_ET_3_data_dupl_clean_smooth.csv\n",
      "Participant 1 - participant ID 1005\n"
     ]
    },
    {
     "data": {
      "application/vnd.jupyter.widget-view+json": {
       "model_id": "c0aad5a22a3d4fce91bb5d1a3498a06f",
       "version_major": 2,
       "version_minor": 0
      },
      "text/plain": [
       "📄 0 of 5 sessions________ processed:            \n",
       "              0% ⏱️00:00 ⏳? ⚙️?it/s"
      ]
     },
     "metadata": {},
     "output_type": "display_data"
    },
    {
     "data": {
      "application/vnd.jupyter.widget-view+json": {
       "model_id": "9cff5f88d19c4832b959daec1bb96433",
       "version_major": 2,
       "version_minor": 0
      },
      "text/plain": [
       "📄 0 of 3 📂 ET files____________ processed:            \n",
       "              0% ⏱️00:00 ⏳? ⚙️?it/s"
      ]
     },
     "metadata": {},
     "output_type": "display_data"
    },
    {
     "name": "stdout",
     "output_type": "stream",
     "text": [
      "process file  1005_Session_1_ET_1_data_dupl_clean_smooth.csv\n",
      "process file  1005_Session_1_ET_2_data_dupl_clean_smooth.csv\n",
      "process file  1005_Session_1_ET_3_data_dupl_clean_smooth.csv\n"
     ]
    },
    {
     "data": {
      "application/vnd.jupyter.widget-view+json": {
       "model_id": "f6730c929eb8488aadb3ce7a6147cbf5",
       "version_major": 2,
       "version_minor": 0
      },
      "text/plain": [
       "📄 0 of 3 📂 ET files____________ processed:            \n",
       "              0% ⏱️00:00 ⏳? ⚙️?it/s"
      ]
     },
     "metadata": {},
     "output_type": "display_data"
    },
    {
     "name": "stdout",
     "output_type": "stream",
     "text": [
      "process file  1005_Session_2_ET_1_data_dupl_clean_smooth.csv\n",
      "process file  1005_Session_2_ET_2_data_dupl_clean_smooth.csv\n",
      "process file  1005_Session_2_ET_3_data_dupl_clean_smooth.csv\n"
     ]
    },
    {
     "data": {
      "application/vnd.jupyter.widget-view+json": {
       "model_id": "87e04c34a04848c5a9cbc6fafc789ba4",
       "version_major": 2,
       "version_minor": 0
      },
      "text/plain": [
       "📄 0 of 3 📂 ET files____________ processed:            \n",
       "              0% ⏱️00:00 ⏳? ⚙️?it/s"
      ]
     },
     "metadata": {},
     "output_type": "display_data"
    },
    {
     "name": "stdout",
     "output_type": "stream",
     "text": [
      "process file  1005_Session_3_ET_1_data_dupl_clean_smooth.csv\n",
      "process file  1005_Session_3_ET_2_data_dupl_clean_smooth.csv\n",
      "process file  1005_Session_3_ET_3_data_dupl_clean_smooth.csv\n"
     ]
    },
    {
     "data": {
      "application/vnd.jupyter.widget-view+json": {
       "model_id": "2fd7b08ad4e84fa28705bfa51e25a8e6",
       "version_major": 2,
       "version_minor": 0
      },
      "text/plain": [
       "📄 0 of 3 📂 ET files____________ processed:            \n",
       "              0% ⏱️00:00 ⏳? ⚙️?it/s"
      ]
     },
     "metadata": {},
     "output_type": "display_data"
    },
    {
     "name": "stdout",
     "output_type": "stream",
     "text": [
      "process file  1005_Session_4_ET_1_data_dupl_clean_smooth.csv\n",
      "process file  1005_Session_4_ET_2_data_dupl_clean_smooth.csv\n",
      "process file  1005_Session_4_ET_3_data_dupl_clean_smooth.csv\n"
     ]
    },
    {
     "data": {
      "application/vnd.jupyter.widget-view+json": {
       "model_id": "237c752677ee4e00980e0b31697bf87f",
       "version_major": 2,
       "version_minor": 0
      },
      "text/plain": [
       "📄 0 of 3 📂 ET files____________ processed:            \n",
       "              0% ⏱️00:00 ⏳? ⚙️?it/s"
      ]
     },
     "metadata": {},
     "output_type": "display_data"
    },
    {
     "name": "stdout",
     "output_type": "stream",
     "text": [
      "process file  1005_Session_5_ET_1_data_dupl_clean_smooth.csv\n",
      "process file  1005_Session_5_ET_2_data_dupl_clean_smooth.csv\n",
      "process file  1005_Session_5_ET_3_data_dupl_clean_smooth.csv\n",
      "Participant 2 - participant ID 1008\n"
     ]
    },
    {
     "data": {
      "application/vnd.jupyter.widget-view+json": {
       "model_id": "eabb404a90f54cf180b638f9c8face1d",
       "version_major": 2,
       "version_minor": 0
      },
      "text/plain": [
       "📄 0 of 5 sessions________ processed:            \n",
       "              0% ⏱️00:00 ⏳? ⚙️?it/s"
      ]
     },
     "metadata": {},
     "output_type": "display_data"
    },
    {
     "data": {
      "application/vnd.jupyter.widget-view+json": {
       "model_id": "4f63d0fdedcc4562a704f1a442ceb310",
       "version_major": 2,
       "version_minor": 0
      },
      "text/plain": [
       "📄 0 of 3 📂 ET files____________ processed:            \n",
       "              0% ⏱️00:00 ⏳? ⚙️?it/s"
      ]
     },
     "metadata": {},
     "output_type": "display_data"
    },
    {
     "name": "stdout",
     "output_type": "stream",
     "text": [
      "process file  1008_Session_1_ET_1_data_dupl_clean_smooth.csv\n",
      "process file  1008_Session_1_ET_2_data_dupl_clean_smooth.csv\n",
      "process file  1008_Session_1_ET_3_data_dupl_clean_smooth.csv\n"
     ]
    },
    {
     "data": {
      "application/vnd.jupyter.widget-view+json": {
       "model_id": "c4a44ad4f1c34fa4a005251078d666b3",
       "version_major": 2,
       "version_minor": 0
      },
      "text/plain": [
       "📄 0 of 3 📂 ET files____________ processed:            \n",
       "              0% ⏱️00:00 ⏳? ⚙️?it/s"
      ]
     },
     "metadata": {},
     "output_type": "display_data"
    },
    {
     "name": "stdout",
     "output_type": "stream",
     "text": [
      "process file  1008_Session_2_ET_1_data_dupl_clean_smooth.csv\n",
      "process file  1008_Session_2_ET_2_data_dupl_clean_smooth.csv\n",
      "process file  1008_Session_2_ET_3_data_dupl_clean_smooth.csv\n"
     ]
    },
    {
     "data": {
      "application/vnd.jupyter.widget-view+json": {
       "model_id": "3e21eecbbf5b4dae80db03632a978b09",
       "version_major": 2,
       "version_minor": 0
      },
      "text/plain": [
       "📄 0 of 3 📂 ET files____________ processed:            \n",
       "              0% ⏱️00:00 ⏳? ⚙️?it/s"
      ]
     },
     "metadata": {},
     "output_type": "display_data"
    },
    {
     "name": "stdout",
     "output_type": "stream",
     "text": [
      "process file  1008_Session_3_ET_1_data_dupl_clean_smooth.csv\n",
      "process file  1008_Session_3_ET_2_data_dupl_clean_smooth.csv\n",
      "process file  1008_Session_3_ET_3_data_dupl_clean_smooth.csv\n"
     ]
    },
    {
     "data": {
      "application/vnd.jupyter.widget-view+json": {
       "model_id": "ba98290202204185bd9a1361832a94f0",
       "version_major": 2,
       "version_minor": 0
      },
      "text/plain": [
       "📄 0 of 3 📂 ET files____________ processed:            \n",
       "              0% ⏱️00:00 ⏳? ⚙️?it/s"
      ]
     },
     "metadata": {},
     "output_type": "display_data"
    },
    {
     "name": "stdout",
     "output_type": "stream",
     "text": [
      "process file  1008_Session_4_ET_1_data_dupl_clean_smooth.csv\n",
      "process file  1008_Session_4_ET_2_data_dupl_clean_smooth.csv\n",
      "process file  1008_Session_4_ET_3_data_dupl_clean_smooth.csv\n"
     ]
    },
    {
     "data": {
      "application/vnd.jupyter.widget-view+json": {
       "model_id": "c4d384661e2f4720b739b3090c816577",
       "version_major": 2,
       "version_minor": 0
      },
      "text/plain": [
       "📄 0 of 3 📂 ET files____________ processed:            \n",
       "              0% ⏱️00:00 ⏳? ⚙️?it/s"
      ]
     },
     "metadata": {},
     "output_type": "display_data"
    },
    {
     "name": "stdout",
     "output_type": "stream",
     "text": [
      "process file  1008_Session_5_ET_1_data_dupl_clean_smooth.csv\n",
      "process file  1008_Session_5_ET_2_data_dupl_clean_smooth.csv\n",
      "process file  1008_Session_5_ET_3_data_dupl_clean_smooth.csv\n",
      "Participant 3 - participant ID 1010\n"
     ]
    },
    {
     "data": {
      "application/vnd.jupyter.widget-view+json": {
       "model_id": "20c7dd7128df4614a958da7a773291dc",
       "version_major": 2,
       "version_minor": 0
      },
      "text/plain": [
       "📄 0 of 5 sessions________ processed:            \n",
       "              0% ⏱️00:00 ⏳? ⚙️?it/s"
      ]
     },
     "metadata": {},
     "output_type": "display_data"
    },
    {
     "data": {
      "application/vnd.jupyter.widget-view+json": {
       "model_id": "ec68129fa6c344a586322c7cb37edd14",
       "version_major": 2,
       "version_minor": 0
      },
      "text/plain": [
       "📄 0 of 4 📂 ET files____________ processed:            \n",
       "              0% ⏱️00:00 ⏳? ⚙️?it/s"
      ]
     },
     "metadata": {},
     "output_type": "display_data"
    },
    {
     "name": "stdout",
     "output_type": "stream",
     "text": [
      "process file  1010_Session_1_ET_1_data_dupl_clean_smooth.csv\n",
      "process file  1010_Session_1_ET_2_data_dupl_clean_smooth.csv\n",
      "process file  1010_Session_1_ET_3_data_dupl_clean_smooth.csv\n",
      "process file  1010_Session_1_ET_4_data_dupl_clean_smooth.csv\n"
     ]
    },
    {
     "data": {
      "application/vnd.jupyter.widget-view+json": {
       "model_id": "68f2d3722d594f979d2f5882d1ec838d",
       "version_major": 2,
       "version_minor": 0
      },
      "text/plain": [
       "📄 0 of 3 📂 ET files____________ processed:            \n",
       "              0% ⏱️00:00 ⏳? ⚙️?it/s"
      ]
     },
     "metadata": {},
     "output_type": "display_data"
    },
    {
     "name": "stdout",
     "output_type": "stream",
     "text": [
      "process file  1010_Session_2_ET_1_data_dupl_clean_smooth.csv\n",
      "process file  1010_Session_2_ET_2_data_dupl_clean_smooth.csv\n",
      "process file  1010_Session_2_ET_3_data_dupl_clean_smooth.csv\n"
     ]
    },
    {
     "data": {
      "application/vnd.jupyter.widget-view+json": {
       "model_id": "b9365262cc664245b0514c409b96e3d8",
       "version_major": 2,
       "version_minor": 0
      },
      "text/plain": [
       "📄 0 of 3 📂 ET files____________ processed:            \n",
       "              0% ⏱️00:00 ⏳? ⚙️?it/s"
      ]
     },
     "metadata": {},
     "output_type": "display_data"
    },
    {
     "name": "stdout",
     "output_type": "stream",
     "text": [
      "process file  1010_Session_3_ET_1_data_dupl_clean_smooth.csv\n",
      "process file  1010_Session_3_ET_2_data_dupl_clean_smooth.csv\n",
      "process file  1010_Session_3_ET_3_data_dupl_clean_smooth.csv\n"
     ]
    },
    {
     "data": {
      "application/vnd.jupyter.widget-view+json": {
       "model_id": "55df11e46f2d4ddf95a9dbe883f10983",
       "version_major": 2,
       "version_minor": 0
      },
      "text/plain": [
       "📄 0 of 3 📂 ET files____________ processed:            \n",
       "              0% ⏱️00:00 ⏳? ⚙️?it/s"
      ]
     },
     "metadata": {},
     "output_type": "display_data"
    },
    {
     "name": "stdout",
     "output_type": "stream",
     "text": [
      "process file  1010_Session_4_ET_1_data_dupl_clean_smooth.csv\n",
      "process file  1010_Session_4_ET_2_data_dupl_clean_smooth.csv\n",
      "process file  1010_Session_4_ET_3_data_dupl_clean_smooth.csv\n"
     ]
    },
    {
     "data": {
      "application/vnd.jupyter.widget-view+json": {
       "model_id": "32d8e1c40ae8494183d0522c259f8d20",
       "version_major": 2,
       "version_minor": 0
      },
      "text/plain": [
       "📄 0 of 4 📂 ET files____________ processed:            \n",
       "              0% ⏱️00:00 ⏳? ⚙️?it/s"
      ]
     },
     "metadata": {},
     "output_type": "display_data"
    },
    {
     "name": "stdout",
     "output_type": "stream",
     "text": [
      "process file  1010_Session_5_ET_1_data_dupl_clean_smooth.csv\n",
      "process file  1010_Session_5_ET_2_data_dupl_clean_smooth.csv\n",
      "process file  1010_Session_5_ET_3_data_dupl_clean_smooth.csv\n",
      "process file  1010_Session_5_ET_4_data_dupl_clean_smooth.csv\n",
      "Participant 4 - participant ID 1011\n"
     ]
    },
    {
     "data": {
      "application/vnd.jupyter.widget-view+json": {
       "model_id": "8904d1263e01480683921bac9f91b003",
       "version_major": 2,
       "version_minor": 0
      },
      "text/plain": [
       "📄 0 of 5 sessions________ processed:            \n",
       "              0% ⏱️00:00 ⏳? ⚙️?it/s"
      ]
     },
     "metadata": {},
     "output_type": "display_data"
    },
    {
     "data": {
      "application/vnd.jupyter.widget-view+json": {
       "model_id": "91849d73ab6f4f5bb1a316136e8915d5",
       "version_major": 2,
       "version_minor": 0
      },
      "text/plain": [
       "📄 0 of 4 📂 ET files____________ processed:            \n",
       "              0% ⏱️00:00 ⏳? ⚙️?it/s"
      ]
     },
     "metadata": {},
     "output_type": "display_data"
    },
    {
     "name": "stdout",
     "output_type": "stream",
     "text": [
      "process file  1011_Session_1_ET_1_data_dupl_clean_smooth.csv\n",
      "process file  1011_Session_1_ET_2_data_dupl_clean_smooth.csv\n",
      "process file  1011_Session_1_ET_3_data_dupl_clean_smooth.csv\n",
      "process file  1011_Session_1_ET_4_data_dupl_clean_smooth.csv\n"
     ]
    },
    {
     "data": {
      "application/vnd.jupyter.widget-view+json": {
       "model_id": "f13c768d813048e485320a5bcc0f2578",
       "version_major": 2,
       "version_minor": 0
      },
      "text/plain": [
       "📄 0 of 3 📂 ET files____________ processed:            \n",
       "              0% ⏱️00:00 ⏳? ⚙️?it/s"
      ]
     },
     "metadata": {},
     "output_type": "display_data"
    },
    {
     "name": "stdout",
     "output_type": "stream",
     "text": [
      "process file  1011_Session_2_ET_1_data_dupl_clean_smooth.csv\n",
      "process file  1011_Session_2_ET_2_data_dupl_clean_smooth.csv\n",
      "process file  1011_Session_2_ET_3_data_dupl_clean_smooth.csv\n"
     ]
    },
    {
     "data": {
      "application/vnd.jupyter.widget-view+json": {
       "model_id": "288733dbf5ef45f2b37b7343c06f5502",
       "version_major": 2,
       "version_minor": 0
      },
      "text/plain": [
       "📄 0 of 3 📂 ET files____________ processed:            \n",
       "              0% ⏱️00:00 ⏳? ⚙️?it/s"
      ]
     },
     "metadata": {},
     "output_type": "display_data"
    },
    {
     "name": "stdout",
     "output_type": "stream",
     "text": [
      "process file  1011_Session_3_ET_1_data_dupl_clean_smooth.csv\n",
      "process file  1011_Session_3_ET_2_data_dupl_clean_smooth.csv\n",
      "process file  1011_Session_3_ET_3_data_dupl_clean_smooth.csv\n"
     ]
    },
    {
     "data": {
      "application/vnd.jupyter.widget-view+json": {
       "model_id": "d21a2ea1885f43a7bddb18dd9e9fb971",
       "version_major": 2,
       "version_minor": 0
      },
      "text/plain": [
       "📄 0 of 3 📂 ET files____________ processed:            \n",
       "              0% ⏱️00:00 ⏳? ⚙️?it/s"
      ]
     },
     "metadata": {},
     "output_type": "display_data"
    },
    {
     "name": "stdout",
     "output_type": "stream",
     "text": [
      "process file  1011_Session_4_ET_1_data_dupl_clean_smooth.csv\n",
      "process file  1011_Session_4_ET_2_data_dupl_clean_smooth.csv\n",
      "process file  1011_Session_4_ET_3_data_dupl_clean_smooth.csv\n"
     ]
    },
    {
     "data": {
      "application/vnd.jupyter.widget-view+json": {
       "model_id": "12187766983e460ead4fb96a23b521c8",
       "version_major": 2,
       "version_minor": 0
      },
      "text/plain": [
       "📄 0 of 3 📂 ET files____________ processed:            \n",
       "              0% ⏱️00:00 ⏳? ⚙️?it/s"
      ]
     },
     "metadata": {},
     "output_type": "display_data"
    },
    {
     "name": "stdout",
     "output_type": "stream",
     "text": [
      "process file  1011_Session_5_ET_1_data_dupl_clean_smooth.csv\n",
      "process file  1011_Session_5_ET_2_data_dupl_clean_smooth.csv\n",
      "process file  1011_Session_5_ET_3_data_dupl_clean_smooth.csv\n",
      "Participant 5 - participant ID 1013\n"
     ]
    },
    {
     "data": {
      "application/vnd.jupyter.widget-view+json": {
       "model_id": "f2bd01950b644298b83047bfd9e3d993",
       "version_major": 2,
       "version_minor": 0
      },
      "text/plain": [
       "📄 0 of 5 sessions________ processed:            \n",
       "              0% ⏱️00:00 ⏳? ⚙️?it/s"
      ]
     },
     "metadata": {},
     "output_type": "display_data"
    },
    {
     "data": {
      "application/vnd.jupyter.widget-view+json": {
       "model_id": "67e9ee4c09984181aa748e5ccb41abb7",
       "version_major": 2,
       "version_minor": 0
      },
      "text/plain": [
       "📄 0 of 3 📂 ET files____________ processed:            \n",
       "              0% ⏱️00:00 ⏳? ⚙️?it/s"
      ]
     },
     "metadata": {},
     "output_type": "display_data"
    },
    {
     "name": "stdout",
     "output_type": "stream",
     "text": [
      "process file  1013_Session_1_ET_1_data_dupl_clean_smooth.csv\n",
      "process file  1013_Session_1_ET_2_data_dupl_clean_smooth.csv\n",
      "process file  1013_Session_1_ET_3_data_dupl_clean_smooth.csv\n"
     ]
    },
    {
     "data": {
      "application/vnd.jupyter.widget-view+json": {
       "model_id": "c2addb725fe54a388fa04bdaaab8f17d",
       "version_major": 2,
       "version_minor": 0
      },
      "text/plain": [
       "📄 0 of 3 📂 ET files____________ processed:            \n",
       "              0% ⏱️00:00 ⏳? ⚙️?it/s"
      ]
     },
     "metadata": {},
     "output_type": "display_data"
    },
    {
     "name": "stdout",
     "output_type": "stream",
     "text": [
      "process file  1013_Session_2_ET_1_data_dupl_clean_smooth.csv\n",
      "process file  1013_Session_2_ET_2_data_dupl_clean_smooth.csv\n",
      "process file  1013_Session_2_ET_3_data_dupl_clean_smooth.csv\n"
     ]
    },
    {
     "data": {
      "application/vnd.jupyter.widget-view+json": {
       "model_id": "466f5b2e607449f59d9c8b9ff90c6170",
       "version_major": 2,
       "version_minor": 0
      },
      "text/plain": [
       "📄 0 of 3 📂 ET files____________ processed:            \n",
       "              0% ⏱️00:00 ⏳? ⚙️?it/s"
      ]
     },
     "metadata": {},
     "output_type": "display_data"
    },
    {
     "name": "stdout",
     "output_type": "stream",
     "text": [
      "process file  1013_Session_3_ET_1_data_dupl_clean_smooth.csv\n",
      "process file  1013_Session_3_ET_2_data_dupl_clean_smooth.csv\n",
      "process file  1013_Session_3_ET_3_data_dupl_clean_smooth.csv\n"
     ]
    },
    {
     "data": {
      "application/vnd.jupyter.widget-view+json": {
       "model_id": "8909647880d84a91826b996a1b8344aa",
       "version_major": 2,
       "version_minor": 0
      },
      "text/plain": [
       "📄 0 of 3 📂 ET files____________ processed:            \n",
       "              0% ⏱️00:00 ⏳? ⚙️?it/s"
      ]
     },
     "metadata": {},
     "output_type": "display_data"
    },
    {
     "name": "stdout",
     "output_type": "stream",
     "text": [
      "process file  1013_Session_4_ET_1_data_dupl_clean_smooth.csv\n",
      "process file  1013_Session_4_ET_2_data_dupl_clean_smooth.csv\n",
      "process file  1013_Session_4_ET_3_data_dupl_clean_smooth.csv\n"
     ]
    },
    {
     "data": {
      "application/vnd.jupyter.widget-view+json": {
       "model_id": "fcf79ed72a9a48559e1864f2b15a6d9d",
       "version_major": 2,
       "version_minor": 0
      },
      "text/plain": [
       "📄 0 of 3 📂 ET files____________ processed:            \n",
       "              0% ⏱️00:00 ⏳? ⚙️?it/s"
      ]
     },
     "metadata": {},
     "output_type": "display_data"
    },
    {
     "name": "stdout",
     "output_type": "stream",
     "text": [
      "process file  1013_Session_5_ET_1_data_dupl_clean_smooth.csv\n",
      "process file  1013_Session_5_ET_2_data_dupl_clean_smooth.csv\n",
      "process file  1013_Session_5_ET_3_data_dupl_clean_smooth.csv\n",
      "Participant 6 - participant ID 1017\n"
     ]
    },
    {
     "data": {
      "application/vnd.jupyter.widget-view+json": {
       "model_id": "109b92ef53eb4e5b95adee72138c01b2",
       "version_major": 2,
       "version_minor": 0
      },
      "text/plain": [
       "📄 0 of 5 sessions________ processed:            \n",
       "              0% ⏱️00:00 ⏳? ⚙️?it/s"
      ]
     },
     "metadata": {},
     "output_type": "display_data"
    },
    {
     "data": {
      "application/vnd.jupyter.widget-view+json": {
       "model_id": "4e4136f52f3d4564a19a1b10dfff65de",
       "version_major": 2,
       "version_minor": 0
      },
      "text/plain": [
       "📄 0 of 5 📂 ET files____________ processed:            \n",
       "              0% ⏱️00:00 ⏳? ⚙️?it/s"
      ]
     },
     "metadata": {},
     "output_type": "display_data"
    },
    {
     "name": "stdout",
     "output_type": "stream",
     "text": [
      "process file  1017_Session_1_ET_1_data_dupl_clean_smooth.csv\n",
      "process file  1017_Session_1_ET_2_data_dupl_clean_smooth.csv\n",
      "process file  1017_Session_1_ET_3_data_dupl_clean_smooth.csv\n",
      "process file  1017_Session_1_ET_4_data_dupl_clean_smooth.csv\n",
      "process file  1017_Session_1_ET_5_data_dupl_clean_smooth.csv\n"
     ]
    },
    {
     "data": {
      "application/vnd.jupyter.widget-view+json": {
       "model_id": "6d698ec9ddbf451fa905b7c69101db53",
       "version_major": 2,
       "version_minor": 0
      },
      "text/plain": [
       "📄 0 of 3 📂 ET files____________ processed:            \n",
       "              0% ⏱️00:00 ⏳? ⚙️?it/s"
      ]
     },
     "metadata": {},
     "output_type": "display_data"
    },
    {
     "name": "stdout",
     "output_type": "stream",
     "text": [
      "process file  1017_Session_2_ET_1_data_dupl_clean_smooth.csv\n",
      "process file  1017_Session_2_ET_2_data_dupl_clean_smooth.csv\n",
      "process file  1017_Session_2_ET_3_data_dupl_clean_smooth.csv\n"
     ]
    },
    {
     "data": {
      "application/vnd.jupyter.widget-view+json": {
       "model_id": "d3ae14c5033449e38c208ef03bca9798",
       "version_major": 2,
       "version_minor": 0
      },
      "text/plain": [
       "📄 0 of 3 📂 ET files____________ processed:            \n",
       "              0% ⏱️00:00 ⏳? ⚙️?it/s"
      ]
     },
     "metadata": {},
     "output_type": "display_data"
    },
    {
     "name": "stdout",
     "output_type": "stream",
     "text": [
      "process file  1017_Session_3_ET_1_data_dupl_clean_smooth.csv\n",
      "process file  1017_Session_3_ET_2_data_dupl_clean_smooth.csv\n",
      "process file  1017_Session_3_ET_3_data_dupl_clean_smooth.csv\n"
     ]
    },
    {
     "data": {
      "application/vnd.jupyter.widget-view+json": {
       "model_id": "aca5802727174e9da94e913263e98341",
       "version_major": 2,
       "version_minor": 0
      },
      "text/plain": [
       "📄 0 of 3 📂 ET files____________ processed:            \n",
       "              0% ⏱️00:00 ⏳? ⚙️?it/s"
      ]
     },
     "metadata": {},
     "output_type": "display_data"
    },
    {
     "name": "stdout",
     "output_type": "stream",
     "text": [
      "process file  1017_Session_4_ET_1_data_dupl_clean_smooth.csv\n",
      "process file  1017_Session_4_ET_2_data_dupl_clean_smooth.csv\n",
      "process file  1017_Session_4_ET_3_data_dupl_clean_smooth.csv\n"
     ]
    },
    {
     "data": {
      "application/vnd.jupyter.widget-view+json": {
       "model_id": "2143deccaa7144c892d0c103d95860ff",
       "version_major": 2,
       "version_minor": 0
      },
      "text/plain": [
       "📄 0 of 3 📂 ET files____________ processed:            \n",
       "              0% ⏱️00:00 ⏳? ⚙️?it/s"
      ]
     },
     "metadata": {},
     "output_type": "display_data"
    },
    {
     "name": "stdout",
     "output_type": "stream",
     "text": [
      "process file  1017_Session_5_ET_1_data_dupl_clean_smooth.csv\n",
      "process file  1017_Session_5_ET_2_data_dupl_clean_smooth.csv\n",
      "process file  1017_Session_5_ET_3_data_dupl_clean_smooth.csv\n",
      "Participant 7 - participant ID 1018\n"
     ]
    },
    {
     "data": {
      "application/vnd.jupyter.widget-view+json": {
       "model_id": "61e25a623fd748b2a6c1f35b0e1eb3f3",
       "version_major": 2,
       "version_minor": 0
      },
      "text/plain": [
       "📄 0 of 5 sessions________ processed:            \n",
       "              0% ⏱️00:00 ⏳? ⚙️?it/s"
      ]
     },
     "metadata": {},
     "output_type": "display_data"
    },
    {
     "data": {
      "application/vnd.jupyter.widget-view+json": {
       "model_id": "5c48c7016ace4d37bd55c411c0283cc9",
       "version_major": 2,
       "version_minor": 0
      },
      "text/plain": [
       "📄 0 of 4 📂 ET files____________ processed:            \n",
       "              0% ⏱️00:00 ⏳? ⚙️?it/s"
      ]
     },
     "metadata": {},
     "output_type": "display_data"
    },
    {
     "name": "stdout",
     "output_type": "stream",
     "text": [
      "process file  1018_Session_1_ET_1_data_dupl_clean_smooth.csv\n",
      "process file  1018_Session_1_ET_2_data_dupl_clean_smooth.csv\n",
      "process file  1018_Session_1_ET_3_data_dupl_clean_smooth.csv\n",
      "process file  1018_Session_1_ET_4_data_dupl_clean_smooth.csv\n"
     ]
    },
    {
     "data": {
      "application/vnd.jupyter.widget-view+json": {
       "model_id": "36f1308f24764e1e89ddfe5c8525ff4b",
       "version_major": 2,
       "version_minor": 0
      },
      "text/plain": [
       "📄 0 of 3 📂 ET files____________ processed:            \n",
       "              0% ⏱️00:00 ⏳? ⚙️?it/s"
      ]
     },
     "metadata": {},
     "output_type": "display_data"
    },
    {
     "name": "stdout",
     "output_type": "stream",
     "text": [
      "process file  1018_Session_2_ET_1_data_dupl_clean_smooth.csv\n",
      "process file  1018_Session_2_ET_2_data_dupl_clean_smooth.csv\n",
      "process file  1018_Session_2_ET_3_data_dupl_clean_smooth.csv\n"
     ]
    },
    {
     "data": {
      "application/vnd.jupyter.widget-view+json": {
       "model_id": "544f95930b1343aa8b801b0fe117623a",
       "version_major": 2,
       "version_minor": 0
      },
      "text/plain": [
       "📄 0 of 3 📂 ET files____________ processed:            \n",
       "              0% ⏱️00:00 ⏳? ⚙️?it/s"
      ]
     },
     "metadata": {},
     "output_type": "display_data"
    },
    {
     "name": "stdout",
     "output_type": "stream",
     "text": [
      "process file  1018_Session_3_ET_1_data_dupl_clean_smooth.csv\n",
      "process file  1018_Session_3_ET_2_data_dupl_clean_smooth.csv\n",
      "process file  1018_Session_3_ET_3_data_dupl_clean_smooth.csv\n"
     ]
    },
    {
     "data": {
      "application/vnd.jupyter.widget-view+json": {
       "model_id": "f5b95fafa21e4b52bce154a405353e3e",
       "version_major": 2,
       "version_minor": 0
      },
      "text/plain": [
       "📄 0 of 3 📂 ET files____________ processed:            \n",
       "              0% ⏱️00:00 ⏳? ⚙️?it/s"
      ]
     },
     "metadata": {},
     "output_type": "display_data"
    },
    {
     "name": "stdout",
     "output_type": "stream",
     "text": [
      "process file  1018_Session_4_ET_1_data_dupl_clean_smooth.csv\n",
      "process file  1018_Session_4_ET_2_data_dupl_clean_smooth.csv\n",
      "process file  1018_Session_4_ET_3_data_dupl_clean_smooth.csv\n"
     ]
    },
    {
     "data": {
      "application/vnd.jupyter.widget-view+json": {
       "model_id": "41cb65998ae24bea945f1999493974a7",
       "version_major": 2,
       "version_minor": 0
      },
      "text/plain": [
       "📄 0 of 3 📂 ET files____________ processed:            \n",
       "              0% ⏱️00:00 ⏳? ⚙️?it/s"
      ]
     },
     "metadata": {},
     "output_type": "display_data"
    },
    {
     "name": "stdout",
     "output_type": "stream",
     "text": [
      "process file  1018_Session_5_ET_1_data_dupl_clean_smooth.csv\n",
      "process file  1018_Session_5_ET_2_data_dupl_clean_smooth.csv\n",
      "process file  1018_Session_5_ET_3_data_dupl_clean_smooth.csv\n",
      "Participant 8 - participant ID 1019\n"
     ]
    },
    {
     "data": {
      "application/vnd.jupyter.widget-view+json": {
       "model_id": "d682a8d224c4476b9bbf64675d87aaf6",
       "version_major": 2,
       "version_minor": 0
      },
      "text/plain": [
       "📄 0 of 5 sessions________ processed:            \n",
       "              0% ⏱️00:00 ⏳? ⚙️?it/s"
      ]
     },
     "metadata": {},
     "output_type": "display_data"
    },
    {
     "data": {
      "application/vnd.jupyter.widget-view+json": {
       "model_id": "3f99ac2af45d44739a861cbf290c402b",
       "version_major": 2,
       "version_minor": 0
      },
      "text/plain": [
       "📄 0 of 3 📂 ET files____________ processed:            \n",
       "              0% ⏱️00:00 ⏳? ⚙️?it/s"
      ]
     },
     "metadata": {},
     "output_type": "display_data"
    },
    {
     "name": "stdout",
     "output_type": "stream",
     "text": [
      "process file  1019_Session_1_ET_1_data_dupl_clean_smooth.csv\n",
      "process file  1019_Session_1_ET_2_data_dupl_clean_smooth.csv\n",
      "process file  1019_Session_1_ET_3_data_dupl_clean_smooth.csv\n"
     ]
    },
    {
     "data": {
      "application/vnd.jupyter.widget-view+json": {
       "model_id": "281a0d46ff4943da9643c2bc67c21979",
       "version_major": 2,
       "version_minor": 0
      },
      "text/plain": [
       "📄 0 of 3 📂 ET files____________ processed:            \n",
       "              0% ⏱️00:00 ⏳? ⚙️?it/s"
      ]
     },
     "metadata": {},
     "output_type": "display_data"
    },
    {
     "name": "stdout",
     "output_type": "stream",
     "text": [
      "process file  1019_Session_2_ET_1_data_dupl_clean_smooth.csv\n",
      "process file  1019_Session_2_ET_2_data_dupl_clean_smooth.csv\n",
      "process file  1019_Session_2_ET_3_data_dupl_clean_smooth.csv\n"
     ]
    },
    {
     "data": {
      "application/vnd.jupyter.widget-view+json": {
       "model_id": "6aa831f1c89643bb94e2a315292397c5",
       "version_major": 2,
       "version_minor": 0
      },
      "text/plain": [
       "📄 0 of 3 📂 ET files____________ processed:            \n",
       "              0% ⏱️00:00 ⏳? ⚙️?it/s"
      ]
     },
     "metadata": {},
     "output_type": "display_data"
    },
    {
     "name": "stdout",
     "output_type": "stream",
     "text": [
      "process file  1019_Session_3_ET_1_data_dupl_clean_smooth.csv\n",
      "process file  1019_Session_3_ET_2_data_dupl_clean_smooth.csv\n",
      "process file  1019_Session_3_ET_3_data_dupl_clean_smooth.csv\n"
     ]
    },
    {
     "data": {
      "application/vnd.jupyter.widget-view+json": {
       "model_id": "8b92573a3be1453abb98d9f8eb089683",
       "version_major": 2,
       "version_minor": 0
      },
      "text/plain": [
       "📄 0 of 4 📂 ET files____________ processed:            \n",
       "              0% ⏱️00:00 ⏳? ⚙️?it/s"
      ]
     },
     "metadata": {},
     "output_type": "display_data"
    },
    {
     "name": "stdout",
     "output_type": "stream",
     "text": [
      "process file  1019_Session_4_ET_1_data_dupl_clean_smooth.csv\n",
      "process file  1019_Session_4_ET_2_data_dupl_clean_smooth.csv\n",
      "process file  1019_Session_4_ET_3_data_dupl_clean_smooth.csv\n",
      "process file  1019_Session_4_ET_4_data_dupl_clean_smooth.csv\n"
     ]
    },
    {
     "data": {
      "application/vnd.jupyter.widget-view+json": {
       "model_id": "2f55aaa3f39f4e33b4dc9308061f3de0",
       "version_major": 2,
       "version_minor": 0
      },
      "text/plain": [
       "📄 0 of 3 📂 ET files____________ processed:            \n",
       "              0% ⏱️00:00 ⏳? ⚙️?it/s"
      ]
     },
     "metadata": {},
     "output_type": "display_data"
    },
    {
     "name": "stdout",
     "output_type": "stream",
     "text": [
      "process file  1019_Session_5_ET_1_data_dupl_clean_smooth.csv\n",
      "process file  1019_Session_5_ET_2_data_dupl_clean_smooth.csv\n",
      "process file  1019_Session_5_ET_3_data_dupl_clean_smooth.csv\n",
      "Participant 9 - participant ID 1021\n"
     ]
    },
    {
     "data": {
      "application/vnd.jupyter.widget-view+json": {
       "model_id": "695fd74b7ca64312929948098aac9505",
       "version_major": 2,
       "version_minor": 0
      },
      "text/plain": [
       "📄 0 of 5 sessions________ processed:            \n",
       "              0% ⏱️00:00 ⏳? ⚙️?it/s"
      ]
     },
     "metadata": {},
     "output_type": "display_data"
    },
    {
     "data": {
      "application/vnd.jupyter.widget-view+json": {
       "model_id": "c6fcb8228096497c81b40dd846d6a90d",
       "version_major": 2,
       "version_minor": 0
      },
      "text/plain": [
       "📄 0 of 3 📂 ET files____________ processed:            \n",
       "              0% ⏱️00:00 ⏳? ⚙️?it/s"
      ]
     },
     "metadata": {},
     "output_type": "display_data"
    },
    {
     "name": "stdout",
     "output_type": "stream",
     "text": [
      "process file  1021_Session_1_ET_1_data_dupl_clean_smooth.csv\n",
      "process file  1021_Session_1_ET_2_data_dupl_clean_smooth.csv\n",
      "process file  1021_Session_1_ET_3_data_dupl_clean_smooth.csv\n"
     ]
    },
    {
     "data": {
      "application/vnd.jupyter.widget-view+json": {
       "model_id": "3775dfc9b13c46c0ac47095739cc7cf2",
       "version_major": 2,
       "version_minor": 0
      },
      "text/plain": [
       "📄 0 of 3 📂 ET files____________ processed:            \n",
       "              0% ⏱️00:00 ⏳? ⚙️?it/s"
      ]
     },
     "metadata": {},
     "output_type": "display_data"
    },
    {
     "name": "stdout",
     "output_type": "stream",
     "text": [
      "process file  1021_Session_2_ET_1_data_dupl_clean_smooth.csv\n",
      "process file  1021_Session_2_ET_2_data_dupl_clean_smooth.csv\n",
      "process file  1021_Session_2_ET_3_data_dupl_clean_smooth.csv\n"
     ]
    },
    {
     "data": {
      "application/vnd.jupyter.widget-view+json": {
       "model_id": "615c071d40e941de98a7a589b7051c04",
       "version_major": 2,
       "version_minor": 0
      },
      "text/plain": [
       "📄 0 of 3 📂 ET files____________ processed:            \n",
       "              0% ⏱️00:00 ⏳? ⚙️?it/s"
      ]
     },
     "metadata": {},
     "output_type": "display_data"
    },
    {
     "name": "stdout",
     "output_type": "stream",
     "text": [
      "process file  1021_Session_3_ET_1_data_dupl_clean_smooth.csv\n",
      "process file  1021_Session_3_ET_2_data_dupl_clean_smooth.csv\n",
      "process file  1021_Session_3_ET_3_data_dupl_clean_smooth.csv\n"
     ]
    },
    {
     "data": {
      "application/vnd.jupyter.widget-view+json": {
       "model_id": "c279eac108f34ee6b4c5b1721ff1f869",
       "version_major": 2,
       "version_minor": 0
      },
      "text/plain": [
       "📄 0 of 3 📂 ET files____________ processed:            \n",
       "              0% ⏱️00:00 ⏳? ⚙️?it/s"
      ]
     },
     "metadata": {},
     "output_type": "display_data"
    },
    {
     "name": "stdout",
     "output_type": "stream",
     "text": [
      "process file  1021_Session_4_ET_1_data_dupl_clean_smooth.csv\n",
      "process file  1021_Session_4_ET_2_data_dupl_clean_smooth.csv\n",
      "process file  1021_Session_4_ET_3_data_dupl_clean_smooth.csv\n"
     ]
    },
    {
     "data": {
      "application/vnd.jupyter.widget-view+json": {
       "model_id": "9e07f4afe52f436e8ffff6455f60ff20",
       "version_major": 2,
       "version_minor": 0
      },
      "text/plain": [
       "📄 0 of 4 📂 ET files____________ processed:            \n",
       "              0% ⏱️00:00 ⏳? ⚙️?it/s"
      ]
     },
     "metadata": {},
     "output_type": "display_data"
    },
    {
     "name": "stdout",
     "output_type": "stream",
     "text": [
      "process file  1021_Session_5_ET_1_data_dupl_clean_smooth.csv\n",
      "process file  1021_Session_5_ET_2_data_dupl_clean_smooth.csv\n",
      "process file  1021_Session_5_ET_3_data_dupl_clean_smooth.csv\n",
      "process file  1021_Session_5_ET_4_data_dupl_clean_smooth.csv\n",
      "Participant 10 - participant ID 1022\n"
     ]
    },
    {
     "data": {
      "application/vnd.jupyter.widget-view+json": {
       "model_id": "bac1ac839b19460bb8513108169ccaa1",
       "version_major": 2,
       "version_minor": 0
      },
      "text/plain": [
       "📄 0 of 5 sessions________ processed:            \n",
       "              0% ⏱️00:00 ⏳? ⚙️?it/s"
      ]
     },
     "metadata": {},
     "output_type": "display_data"
    },
    {
     "data": {
      "application/vnd.jupyter.widget-view+json": {
       "model_id": "25e86eb29e6d43c69eed7e5d39c1b36e",
       "version_major": 2,
       "version_minor": 0
      },
      "text/plain": [
       "📄 0 of 3 📂 ET files____________ processed:            \n",
       "              0% ⏱️00:00 ⏳? ⚙️?it/s"
      ]
     },
     "metadata": {},
     "output_type": "display_data"
    },
    {
     "name": "stdout",
     "output_type": "stream",
     "text": [
      "process file  1022_Session_1_ET_1_data_dupl_clean_smooth.csv\n",
      "process file  1022_Session_1_ET_2_data_dupl_clean_smooth.csv\n",
      "process file  1022_Session_1_ET_3_data_dupl_clean_smooth.csv\n"
     ]
    },
    {
     "data": {
      "application/vnd.jupyter.widget-view+json": {
       "model_id": "2cc72cad06634dbeacfb49f812e56955",
       "version_major": 2,
       "version_minor": 0
      },
      "text/plain": [
       "📄 0 of 3 📂 ET files____________ processed:            \n",
       "              0% ⏱️00:00 ⏳? ⚙️?it/s"
      ]
     },
     "metadata": {},
     "output_type": "display_data"
    },
    {
     "name": "stdout",
     "output_type": "stream",
     "text": [
      "process file  1022_Session_2_ET_1_data_dupl_clean_smooth.csv\n",
      "process file  1022_Session_2_ET_2_data_dupl_clean_smooth.csv\n",
      "process file  1022_Session_2_ET_3_data_dupl_clean_smooth.csv\n"
     ]
    },
    {
     "data": {
      "application/vnd.jupyter.widget-view+json": {
       "model_id": "fe21c3217b114c0baf165f5ca2caa3b7",
       "version_major": 2,
       "version_minor": 0
      },
      "text/plain": [
       "📄 0 of 3 📂 ET files____________ processed:            \n",
       "              0% ⏱️00:00 ⏳? ⚙️?it/s"
      ]
     },
     "metadata": {},
     "output_type": "display_data"
    },
    {
     "name": "stdout",
     "output_type": "stream",
     "text": [
      "process file  1022_Session_3_ET_1_data_dupl_clean_smooth.csv\n",
      "process file  1022_Session_3_ET_2_data_dupl_clean_smooth.csv\n",
      "process file  1022_Session_3_ET_3_data_dupl_clean_smooth.csv\n"
     ]
    },
    {
     "data": {
      "application/vnd.jupyter.widget-view+json": {
       "model_id": "ec5b4c49977448caa0ad94dc9252af5a",
       "version_major": 2,
       "version_minor": 0
      },
      "text/plain": [
       "📄 0 of 3 📂 ET files____________ processed:            \n",
       "              0% ⏱️00:00 ⏳? ⚙️?it/s"
      ]
     },
     "metadata": {},
     "output_type": "display_data"
    },
    {
     "name": "stdout",
     "output_type": "stream",
     "text": [
      "process file  1022_Session_4_ET_1_data_dupl_clean_smooth.csv\n",
      "process file  1022_Session_4_ET_2_data_dupl_clean_smooth.csv\n",
      "process file  1022_Session_4_ET_3_data_dupl_clean_smooth.csv\n"
     ]
    },
    {
     "data": {
      "application/vnd.jupyter.widget-view+json": {
       "model_id": "df022d492fe445728bb8db4511f2967d",
       "version_major": 2,
       "version_minor": 0
      },
      "text/plain": [
       "📄 0 of 3 📂 ET files____________ processed:            \n",
       "              0% ⏱️00:00 ⏳? ⚙️?it/s"
      ]
     },
     "metadata": {},
     "output_type": "display_data"
    },
    {
     "name": "stdout",
     "output_type": "stream",
     "text": [
      "process file  1022_Session_5_ET_1_data_dupl_clean_smooth.csv\n",
      "process file  1022_Session_5_ET_2_data_dupl_clean_smooth.csv\n",
      "process file  1022_Session_5_ET_3_data_dupl_clean_smooth.csv\n",
      "Participant 11 - participant ID 1023\n"
     ]
    },
    {
     "data": {
      "application/vnd.jupyter.widget-view+json": {
       "model_id": "ea6c1018c2be4c3ea72f7f99f4bc74b5",
       "version_major": 2,
       "version_minor": 0
      },
      "text/plain": [
       "📄 0 of 5 sessions________ processed:            \n",
       "              0% ⏱️00:00 ⏳? ⚙️?it/s"
      ]
     },
     "metadata": {},
     "output_type": "display_data"
    },
    {
     "data": {
      "application/vnd.jupyter.widget-view+json": {
       "model_id": "e9235b1ae64f429c8ba58d8b307e10f4",
       "version_major": 2,
       "version_minor": 0
      },
      "text/plain": [
       "📄 0 of 3 📂 ET files____________ processed:            \n",
       "              0% ⏱️00:00 ⏳? ⚙️?it/s"
      ]
     },
     "metadata": {},
     "output_type": "display_data"
    },
    {
     "name": "stdout",
     "output_type": "stream",
     "text": [
      "process file  1023_Session_1_ET_1_data_dupl_clean_smooth.csv\n",
      "process file  1023_Session_1_ET_2_data_dupl_clean_smooth.csv\n",
      "process file  1023_Session_1_ET_3_data_dupl_clean_smooth.csv\n"
     ]
    },
    {
     "data": {
      "application/vnd.jupyter.widget-view+json": {
       "model_id": "7500c40528c049018700c709ea942668",
       "version_major": 2,
       "version_minor": 0
      },
      "text/plain": [
       "📄 0 of 3 📂 ET files____________ processed:            \n",
       "              0% ⏱️00:00 ⏳? ⚙️?it/s"
      ]
     },
     "metadata": {},
     "output_type": "display_data"
    },
    {
     "name": "stdout",
     "output_type": "stream",
     "text": [
      "process file  1023_Session_2_ET_1_data_dupl_clean_smooth.csv\n",
      "process file  1023_Session_2_ET_2_data_dupl_clean_smooth.csv\n",
      "process file  1023_Session_2_ET_3_data_dupl_clean_smooth.csv\n"
     ]
    },
    {
     "data": {
      "application/vnd.jupyter.widget-view+json": {
       "model_id": "eb8471e5c7c34aee9c8097a9fdf61030",
       "version_major": 2,
       "version_minor": 0
      },
      "text/plain": [
       "📄 0 of 3 📂 ET files____________ processed:            \n",
       "              0% ⏱️00:00 ⏳? ⚙️?it/s"
      ]
     },
     "metadata": {},
     "output_type": "display_data"
    },
    {
     "name": "stdout",
     "output_type": "stream",
     "text": [
      "process file  1023_Session_3_ET_1_data_dupl_clean_smooth.csv\n",
      "process file  1023_Session_3_ET_2_data_dupl_clean_smooth.csv\n",
      "process file  1023_Session_3_ET_3_data_dupl_clean_smooth.csv\n"
     ]
    },
    {
     "data": {
      "application/vnd.jupyter.widget-view+json": {
       "model_id": "85ae9ea9596441c89abed810ca304722",
       "version_major": 2,
       "version_minor": 0
      },
      "text/plain": [
       "📄 0 of 3 📂 ET files____________ processed:            \n",
       "              0% ⏱️00:00 ⏳? ⚙️?it/s"
      ]
     },
     "metadata": {},
     "output_type": "display_data"
    },
    {
     "name": "stdout",
     "output_type": "stream",
     "text": [
      "process file  1023_Session_4_ET_1_data_dupl_clean_smooth.csv\n",
      "process file  1023_Session_4_ET_2_data_dupl_clean_smooth.csv\n",
      "process file  1023_Session_4_ET_3_data_dupl_clean_smooth.csv\n"
     ]
    },
    {
     "data": {
      "application/vnd.jupyter.widget-view+json": {
       "model_id": "df01bee0b692494592b2f45cf830a84e",
       "version_major": 2,
       "version_minor": 0
      },
      "text/plain": [
       "📄 0 of 3 📂 ET files____________ processed:            \n",
       "              0% ⏱️00:00 ⏳? ⚙️?it/s"
      ]
     },
     "metadata": {},
     "output_type": "display_data"
    },
    {
     "name": "stdout",
     "output_type": "stream",
     "text": [
      "process file  1023_Session_5_ET_1_data_dupl_clean_smooth.csv\n",
      "process file  1023_Session_5_ET_2_data_dupl_clean_smooth.csv\n",
      "process file  1023_Session_5_ET_3_data_dupl_clean_smooth.csv\n",
      "Participant 12 - participant ID 1054\n"
     ]
    },
    {
     "data": {
      "application/vnd.jupyter.widget-view+json": {
       "model_id": "d7862e010c7948e68f107c3579de9786",
       "version_major": 2,
       "version_minor": 0
      },
      "text/plain": [
       "📄 0 of 5 sessions________ processed:            \n",
       "              0% ⏱️00:00 ⏳? ⚙️?it/s"
      ]
     },
     "metadata": {},
     "output_type": "display_data"
    },
    {
     "data": {
      "application/vnd.jupyter.widget-view+json": {
       "model_id": "40bb728f01944f1fb4ff71f48b581f63",
       "version_major": 2,
       "version_minor": 0
      },
      "text/plain": [
       "📄 0 of 3 📂 ET files____________ processed:            \n",
       "              0% ⏱️00:00 ⏳? ⚙️?it/s"
      ]
     },
     "metadata": {},
     "output_type": "display_data"
    },
    {
     "name": "stdout",
     "output_type": "stream",
     "text": [
      "process file  1054_Session_1_ET_1_data_dupl_clean_smooth.csv\n",
      "process file  1054_Session_1_ET_2_data_dupl_clean_smooth.csv\n",
      "process file  1054_Session_1_ET_3_data_dupl_clean_smooth.csv\n"
     ]
    },
    {
     "data": {
      "application/vnd.jupyter.widget-view+json": {
       "model_id": "e419b3fde1234936a4b1cb43fd28360d",
       "version_major": 2,
       "version_minor": 0
      },
      "text/plain": [
       "📄 0 of 3 📂 ET files____________ processed:            \n",
       "              0% ⏱️00:00 ⏳? ⚙️?it/s"
      ]
     },
     "metadata": {},
     "output_type": "display_data"
    },
    {
     "name": "stdout",
     "output_type": "stream",
     "text": [
      "process file  1054_Session_2_ET_1_data_dupl_clean_smooth.csv\n",
      "process file  1054_Session_2_ET_2_data_dupl_clean_smooth.csv\n",
      "process file  1054_Session_2_ET_3_data_dupl_clean_smooth.csv\n"
     ]
    },
    {
     "data": {
      "application/vnd.jupyter.widget-view+json": {
       "model_id": "24aa728697af4f6eba21f2d99b69f369",
       "version_major": 2,
       "version_minor": 0
      },
      "text/plain": [
       "📄 0 of 3 📂 ET files____________ processed:            \n",
       "              0% ⏱️00:00 ⏳? ⚙️?it/s"
      ]
     },
     "metadata": {},
     "output_type": "display_data"
    },
    {
     "name": "stdout",
     "output_type": "stream",
     "text": [
      "process file  1054_Session_3_ET_1_data_dupl_clean_smooth.csv\n",
      "process file  1054_Session_3_ET_2_data_dupl_clean_smooth.csv\n",
      "process file  1054_Session_3_ET_3_data_dupl_clean_smooth.csv\n"
     ]
    },
    {
     "data": {
      "application/vnd.jupyter.widget-view+json": {
       "model_id": "4a4e3f164991492db214bc2c3d886e5e",
       "version_major": 2,
       "version_minor": 0
      },
      "text/plain": [
       "📄 0 of 3 📂 ET files____________ processed:            \n",
       "              0% ⏱️00:00 ⏳? ⚙️?it/s"
      ]
     },
     "metadata": {},
     "output_type": "display_data"
    },
    {
     "name": "stdout",
     "output_type": "stream",
     "text": [
      "process file  1054_Session_4_ET_1_data_dupl_clean_smooth.csv\n",
      "process file  1054_Session_4_ET_2_data_dupl_clean_smooth.csv\n",
      "process file  1054_Session_4_ET_3_data_dupl_clean_smooth.csv\n"
     ]
    },
    {
     "data": {
      "application/vnd.jupyter.widget-view+json": {
       "model_id": "91f9fa2b5b0c4216bd11f44402db5ea0",
       "version_major": 2,
       "version_minor": 0
      },
      "text/plain": [
       "📄 0 of 3 📂 ET files____________ processed:            \n",
       "              0% ⏱️00:00 ⏳? ⚙️?it/s"
      ]
     },
     "metadata": {},
     "output_type": "display_data"
    },
    {
     "name": "stdout",
     "output_type": "stream",
     "text": [
      "process file  1054_Session_5_ET_1_data_dupl_clean_smooth.csv\n",
      "process file  1054_Session_5_ET_2_data_dupl_clean_smooth.csv\n",
      "process file  1054_Session_5_ET_3_data_dupl_clean_smooth.csv\n",
      "Participant 13 - participant ID 1055\n"
     ]
    },
    {
     "data": {
      "application/vnd.jupyter.widget-view+json": {
       "model_id": "8e8ebeac4c494e4b8238b62aeab73b9c",
       "version_major": 2,
       "version_minor": 0
      },
      "text/plain": [
       "📄 0 of 5 sessions________ processed:            \n",
       "              0% ⏱️00:00 ⏳? ⚙️?it/s"
      ]
     },
     "metadata": {},
     "output_type": "display_data"
    },
    {
     "data": {
      "application/vnd.jupyter.widget-view+json": {
       "model_id": "008ab453055845b280e59dbf2af9e299",
       "version_major": 2,
       "version_minor": 0
      },
      "text/plain": [
       "📄 0 of 3 📂 ET files____________ processed:            \n",
       "              0% ⏱️00:00 ⏳? ⚙️?it/s"
      ]
     },
     "metadata": {},
     "output_type": "display_data"
    },
    {
     "name": "stdout",
     "output_type": "stream",
     "text": [
      "process file  1055_Session_1_ET_1_data_dupl_clean_smooth.csv\n",
      "process file  1055_Session_1_ET_2_data_dupl_clean_smooth.csv\n",
      "process file  1055_Session_1_ET_3_data_dupl_clean_smooth.csv\n"
     ]
    },
    {
     "data": {
      "application/vnd.jupyter.widget-view+json": {
       "model_id": "055119c53eae4fbe9a2b9a969f7c1306",
       "version_major": 2,
       "version_minor": 0
      },
      "text/plain": [
       "📄 0 of 3 📂 ET files____________ processed:            \n",
       "              0% ⏱️00:00 ⏳? ⚙️?it/s"
      ]
     },
     "metadata": {},
     "output_type": "display_data"
    },
    {
     "name": "stdout",
     "output_type": "stream",
     "text": [
      "process file  1055_Session_2_ET_1_data_dupl_clean_smooth.csv\n",
      "process file  1055_Session_2_ET_2_data_dupl_clean_smooth.csv\n",
      "process file  1055_Session_2_ET_3_data_dupl_clean_smooth.csv\n"
     ]
    },
    {
     "data": {
      "application/vnd.jupyter.widget-view+json": {
       "model_id": "ef55af7a633d448ca686f12a0af44adc",
       "version_major": 2,
       "version_minor": 0
      },
      "text/plain": [
       "📄 0 of 3 📂 ET files____________ processed:            \n",
       "              0% ⏱️00:00 ⏳? ⚙️?it/s"
      ]
     },
     "metadata": {},
     "output_type": "display_data"
    },
    {
     "name": "stdout",
     "output_type": "stream",
     "text": [
      "process file  1055_Session_3_ET_1_data_dupl_clean_smooth.csv\n",
      "process file  1055_Session_3_ET_2_data_dupl_clean_smooth.csv\n",
      "process file  1055_Session_3_ET_3_data_dupl_clean_smooth.csv\n"
     ]
    },
    {
     "data": {
      "application/vnd.jupyter.widget-view+json": {
       "model_id": "13d345d71ed14e3fa790ee6b35ed0013",
       "version_major": 2,
       "version_minor": 0
      },
      "text/plain": [
       "📄 0 of 4 📂 ET files____________ processed:            \n",
       "              0% ⏱️00:00 ⏳? ⚙️?it/s"
      ]
     },
     "metadata": {},
     "output_type": "display_data"
    },
    {
     "name": "stdout",
     "output_type": "stream",
     "text": [
      "process file  1055_Session_4_ET_1_data_dupl_clean_smooth.csv\n",
      "process file  1055_Session_4_ET_2_data_dupl_clean_smooth.csv\n",
      "process file  1055_Session_4_ET_3_data_dupl_clean_smooth.csv\n",
      "process file  1055_Session_4_ET_4_data_dupl_clean_smooth.csv\n"
     ]
    },
    {
     "data": {
      "application/vnd.jupyter.widget-view+json": {
       "model_id": "d67905f1848a4a46a9746af049275348",
       "version_major": 2,
       "version_minor": 0
      },
      "text/plain": [
       "📄 0 of 3 📂 ET files____________ processed:            \n",
       "              0% ⏱️00:00 ⏳? ⚙️?it/s"
      ]
     },
     "metadata": {},
     "output_type": "display_data"
    },
    {
     "name": "stdout",
     "output_type": "stream",
     "text": [
      "process file  1055_Session_5_ET_1_data_dupl_clean_smooth.csv\n",
      "process file  1055_Session_5_ET_2_data_dupl_clean_smooth.csv\n",
      "process file  1055_Session_5_ET_3_data_dupl_clean_smooth.csv\n",
      "Participant 14 - participant ID 1056\n"
     ]
    },
    {
     "data": {
      "application/vnd.jupyter.widget-view+json": {
       "model_id": "85302f844a8344f38039751b5ca7fe87",
       "version_major": 2,
       "version_minor": 0
      },
      "text/plain": [
       "📄 0 of 5 sessions________ processed:            \n",
       "              0% ⏱️00:00 ⏳? ⚙️?it/s"
      ]
     },
     "metadata": {},
     "output_type": "display_data"
    },
    {
     "data": {
      "application/vnd.jupyter.widget-view+json": {
       "model_id": "6ae3bba37dcc4ce79ab89c9e98521ad6",
       "version_major": 2,
       "version_minor": 0
      },
      "text/plain": [
       "📄 0 of 3 📂 ET files____________ processed:            \n",
       "              0% ⏱️00:00 ⏳? ⚙️?it/s"
      ]
     },
     "metadata": {},
     "output_type": "display_data"
    },
    {
     "name": "stdout",
     "output_type": "stream",
     "text": [
      "process file  1056_Session_1_ET_1_data_dupl_clean_smooth.csv\n",
      "process file  1056_Session_1_ET_2_data_dupl_clean_smooth.csv\n",
      "process file  1056_Session_1_ET_3_data_dupl_clean_smooth.csv\n"
     ]
    },
    {
     "data": {
      "application/vnd.jupyter.widget-view+json": {
       "model_id": "a81b5cf998ff43caaa19c96b64f48175",
       "version_major": 2,
       "version_minor": 0
      },
      "text/plain": [
       "📄 0 of 3 📂 ET files____________ processed:            \n",
       "              0% ⏱️00:00 ⏳? ⚙️?it/s"
      ]
     },
     "metadata": {},
     "output_type": "display_data"
    },
    {
     "name": "stdout",
     "output_type": "stream",
     "text": [
      "process file  1056_Session_2_ET_1_data_dupl_clean_smooth.csv\n",
      "process file  1056_Session_2_ET_2_data_dupl_clean_smooth.csv\n",
      "process file  1056_Session_2_ET_3_data_dupl_clean_smooth.csv\n"
     ]
    },
    {
     "data": {
      "application/vnd.jupyter.widget-view+json": {
       "model_id": "50116762bb6846e7be978913acd28842",
       "version_major": 2,
       "version_minor": 0
      },
      "text/plain": [
       "📄 0 of 3 📂 ET files____________ processed:            \n",
       "              0% ⏱️00:00 ⏳? ⚙️?it/s"
      ]
     },
     "metadata": {},
     "output_type": "display_data"
    },
    {
     "name": "stdout",
     "output_type": "stream",
     "text": [
      "process file  1056_Session_3_ET_1_data_dupl_clean_smooth.csv\n",
      "process file  1056_Session_3_ET_2_data_dupl_clean_smooth.csv\n",
      "process file  1056_Session_3_ET_3_data_dupl_clean_smooth.csv\n"
     ]
    },
    {
     "data": {
      "application/vnd.jupyter.widget-view+json": {
       "model_id": "2f2ef35bd4df42c7a19215e232f65fef",
       "version_major": 2,
       "version_minor": 0
      },
      "text/plain": [
       "📄 0 of 3 📂 ET files____________ processed:            \n",
       "              0% ⏱️00:00 ⏳? ⚙️?it/s"
      ]
     },
     "metadata": {},
     "output_type": "display_data"
    },
    {
     "name": "stdout",
     "output_type": "stream",
     "text": [
      "process file  1056_Session_4_ET_1_data_dupl_clean_smooth.csv\n",
      "process file  1056_Session_4_ET_2_data_dupl_clean_smooth.csv\n",
      "process file  1056_Session_4_ET_3_data_dupl_clean_smooth.csv\n"
     ]
    },
    {
     "data": {
      "application/vnd.jupyter.widget-view+json": {
       "model_id": "1fc104cedf504727b907a061ff768838",
       "version_major": 2,
       "version_minor": 0
      },
      "text/plain": [
       "📄 0 of 3 📂 ET files____________ processed:            \n",
       "              0% ⏱️00:00 ⏳? ⚙️?it/s"
      ]
     },
     "metadata": {},
     "output_type": "display_data"
    },
    {
     "name": "stdout",
     "output_type": "stream",
     "text": [
      "process file  1056_Session_5_ET_1_data_dupl_clean_smooth.csv\n",
      "process file  1056_Session_5_ET_2_data_dupl_clean_smooth.csv\n",
      "process file  1056_Session_5_ET_3_data_dupl_clean_smooth.csv\n",
      "Participant 15 - participant ID 1057\n"
     ]
    },
    {
     "data": {
      "application/vnd.jupyter.widget-view+json": {
       "model_id": "1454c4c45516474083364b6128257ec8",
       "version_major": 2,
       "version_minor": 0
      },
      "text/plain": [
       "📄 0 of 5 sessions________ processed:            \n",
       "              0% ⏱️00:00 ⏳? ⚙️?it/s"
      ]
     },
     "metadata": {},
     "output_type": "display_data"
    },
    {
     "data": {
      "application/vnd.jupyter.widget-view+json": {
       "model_id": "559639c011ff42449e81f8a3d60b4a96",
       "version_major": 2,
       "version_minor": 0
      },
      "text/plain": [
       "📄 0 of 3 📂 ET files____________ processed:            \n",
       "              0% ⏱️00:00 ⏳? ⚙️?it/s"
      ]
     },
     "metadata": {},
     "output_type": "display_data"
    },
    {
     "name": "stdout",
     "output_type": "stream",
     "text": [
      "process file  1057_Session_1_ET_1_data_dupl_clean_smooth.csv\n",
      "process file  1057_Session_1_ET_2_data_dupl_clean_smooth.csv\n",
      "process file  1057_Session_1_ET_3_data_dupl_clean_smooth.csv\n"
     ]
    },
    {
     "data": {
      "application/vnd.jupyter.widget-view+json": {
       "model_id": "0c6f8bf43f0e4ec3b62ed6bcd7ac33be",
       "version_major": 2,
       "version_minor": 0
      },
      "text/plain": [
       "📄 0 of 3 📂 ET files____________ processed:            \n",
       "              0% ⏱️00:00 ⏳? ⚙️?it/s"
      ]
     },
     "metadata": {},
     "output_type": "display_data"
    },
    {
     "name": "stdout",
     "output_type": "stream",
     "text": [
      "process file  1057_Session_2_ET_1_data_dupl_clean_smooth.csv\n",
      "process file  1057_Session_2_ET_2_data_dupl_clean_smooth.csv\n",
      "process file  1057_Session_2_ET_3_data_dupl_clean_smooth.csv\n"
     ]
    },
    {
     "data": {
      "application/vnd.jupyter.widget-view+json": {
       "model_id": "6194ef1e1e434e9dbb5d3c1541a77d57",
       "version_major": 2,
       "version_minor": 0
      },
      "text/plain": [
       "📄 0 of 3 📂 ET files____________ processed:            \n",
       "              0% ⏱️00:00 ⏳? ⚙️?it/s"
      ]
     },
     "metadata": {},
     "output_type": "display_data"
    },
    {
     "name": "stdout",
     "output_type": "stream",
     "text": [
      "process file  1057_Session_3_ET_1_data_dupl_clean_smooth.csv\n",
      "process file  1057_Session_3_ET_2_data_dupl_clean_smooth.csv\n",
      "process file  1057_Session_3_ET_3_data_dupl_clean_smooth.csv\n"
     ]
    },
    {
     "data": {
      "application/vnd.jupyter.widget-view+json": {
       "model_id": "b7a4e0ff07364a58a43284698f9dfc6b",
       "version_major": 2,
       "version_minor": 0
      },
      "text/plain": [
       "📄 0 of 3 📂 ET files____________ processed:            \n",
       "              0% ⏱️00:00 ⏳? ⚙️?it/s"
      ]
     },
     "metadata": {},
     "output_type": "display_data"
    },
    {
     "name": "stdout",
     "output_type": "stream",
     "text": [
      "process file  1057_Session_4_ET_1_data_dupl_clean_smooth.csv\n",
      "process file  1057_Session_4_ET_2_data_dupl_clean_smooth.csv\n",
      "process file  1057_Session_4_ET_3_data_dupl_clean_smooth.csv\n"
     ]
    },
    {
     "data": {
      "application/vnd.jupyter.widget-view+json": {
       "model_id": "4ca4cfff21bb41b586bc12e7ad0f5235",
       "version_major": 2,
       "version_minor": 0
      },
      "text/plain": [
       "📄 0 of 3 📂 ET files____________ processed:            \n",
       "              0% ⏱️00:00 ⏳? ⚙️?it/s"
      ]
     },
     "metadata": {},
     "output_type": "display_data"
    },
    {
     "name": "stdout",
     "output_type": "stream",
     "text": [
      "process file  1057_Session_5_ET_1_data_dupl_clean_smooth.csv\n",
      "process file  1057_Session_5_ET_2_data_dupl_clean_smooth.csv\n",
      "process file  1057_Session_5_ET_3_data_dupl_clean_smooth.csv\n",
      "Participant 16 - participant ID 1058\n"
     ]
    },
    {
     "data": {
      "application/vnd.jupyter.widget-view+json": {
       "model_id": "58a01f3d57934d238f586c08efe885af",
       "version_major": 2,
       "version_minor": 0
      },
      "text/plain": [
       "📄 0 of 5 sessions________ processed:            \n",
       "              0% ⏱️00:00 ⏳? ⚙️?it/s"
      ]
     },
     "metadata": {},
     "output_type": "display_data"
    },
    {
     "data": {
      "application/vnd.jupyter.widget-view+json": {
       "model_id": "835226b2d0e448b6aad88c74e48811dc",
       "version_major": 2,
       "version_minor": 0
      },
      "text/plain": [
       "📄 0 of 4 📂 ET files____________ processed:            \n",
       "              0% ⏱️00:00 ⏳? ⚙️?it/s"
      ]
     },
     "metadata": {},
     "output_type": "display_data"
    },
    {
     "name": "stdout",
     "output_type": "stream",
     "text": [
      "process file  1058_Session_1_ET_1_data_dupl_clean_smooth.csv\n",
      "process file  1058_Session_1_ET_2_data_dupl_clean_smooth.csv\n",
      "process file  1058_Session_1_ET_3_data_dupl_clean_smooth.csv\n",
      "process file  1058_Session_1_ET_4_data_dupl_clean_smooth.csv\n"
     ]
    },
    {
     "data": {
      "application/vnd.jupyter.widget-view+json": {
       "model_id": "f56cf6c1a7ed4aaca0b3d5b39fa622f1",
       "version_major": 2,
       "version_minor": 0
      },
      "text/plain": [
       "📄 0 of 3 📂 ET files____________ processed:            \n",
       "              0% ⏱️00:00 ⏳? ⚙️?it/s"
      ]
     },
     "metadata": {},
     "output_type": "display_data"
    },
    {
     "name": "stdout",
     "output_type": "stream",
     "text": [
      "process file  1058_Session_2_ET_1_data_dupl_clean_smooth.csv\n",
      "process file  1058_Session_2_ET_2_data_dupl_clean_smooth.csv\n",
      "process file  1058_Session_2_ET_3_data_dupl_clean_smooth.csv\n"
     ]
    },
    {
     "data": {
      "application/vnd.jupyter.widget-view+json": {
       "model_id": "60c15a9ecc6b4e52b8c9c430723ad97d",
       "version_major": 2,
       "version_minor": 0
      },
      "text/plain": [
       "📄 0 of 3 📂 ET files____________ processed:            \n",
       "              0% ⏱️00:00 ⏳? ⚙️?it/s"
      ]
     },
     "metadata": {},
     "output_type": "display_data"
    },
    {
     "name": "stdout",
     "output_type": "stream",
     "text": [
      "process file  1058_Session_3_ET_1_data_dupl_clean_smooth.csv\n",
      "process file  1058_Session_3_ET_2_data_dupl_clean_smooth.csv\n",
      "process file  1058_Session_3_ET_3_data_dupl_clean_smooth.csv\n"
     ]
    },
    {
     "data": {
      "application/vnd.jupyter.widget-view+json": {
       "model_id": "1c9508411fc549b9894a617972e961ab",
       "version_major": 2,
       "version_minor": 0
      },
      "text/plain": [
       "📄 0 of 3 📂 ET files____________ processed:            \n",
       "              0% ⏱️00:00 ⏳? ⚙️?it/s"
      ]
     },
     "metadata": {},
     "output_type": "display_data"
    },
    {
     "name": "stdout",
     "output_type": "stream",
     "text": [
      "process file  1058_Session_4_ET_1_data_dupl_clean_smooth.csv\n",
      "process file  1058_Session_4_ET_2_data_dupl_clean_smooth.csv\n",
      "process file  1058_Session_4_ET_3_data_dupl_clean_smooth.csv\n"
     ]
    },
    {
     "data": {
      "application/vnd.jupyter.widget-view+json": {
       "model_id": "3b22a585ec0748c7b5e950d6243f802a",
       "version_major": 2,
       "version_minor": 0
      },
      "text/plain": [
       "📄 0 of 3 📂 ET files____________ processed:            \n",
       "              0% ⏱️00:00 ⏳? ⚙️?it/s"
      ]
     },
     "metadata": {},
     "output_type": "display_data"
    },
    {
     "name": "stdout",
     "output_type": "stream",
     "text": [
      "process file  1058_Session_5_ET_1_data_dupl_clean_smooth.csv\n",
      "process file  1058_Session_5_ET_2_data_dupl_clean_smooth.csv\n",
      "process file  1058_Session_5_ET_3_data_dupl_clean_smooth.csv\n",
      "Participant 17 - participant ID 1068\n"
     ]
    },
    {
     "data": {
      "application/vnd.jupyter.widget-view+json": {
       "model_id": "cc7683df146d45129402912ededa7dd9",
       "version_major": 2,
       "version_minor": 0
      },
      "text/plain": [
       "📄 0 of 5 sessions________ processed:            \n",
       "              0% ⏱️00:00 ⏳? ⚙️?it/s"
      ]
     },
     "metadata": {},
     "output_type": "display_data"
    },
    {
     "data": {
      "application/vnd.jupyter.widget-view+json": {
       "model_id": "4cec717609e04f06a92aedc2721d85bf",
       "version_major": 2,
       "version_minor": 0
      },
      "text/plain": [
       "📄 0 of 4 📂 ET files____________ processed:            \n",
       "              0% ⏱️00:00 ⏳? ⚙️?it/s"
      ]
     },
     "metadata": {},
     "output_type": "display_data"
    },
    {
     "name": "stdout",
     "output_type": "stream",
     "text": [
      "process file  1068_Session_1_ET_1_data_dupl_clean_smooth.csv\n",
      "process file  1068_Session_1_ET_2_data_dupl_clean_smooth.csv\n",
      "process file  1068_Session_1_ET_3_data_dupl_clean_smooth.csv\n",
      "process file  1068_Session_1_ET_4_data_dupl_clean_smooth.csv\n"
     ]
    },
    {
     "data": {
      "application/vnd.jupyter.widget-view+json": {
       "model_id": "c81a7bdafee240bd83872424ee12115e",
       "version_major": 2,
       "version_minor": 0
      },
      "text/plain": [
       "📄 0 of 3 📂 ET files____________ processed:            \n",
       "              0% ⏱️00:00 ⏳? ⚙️?it/s"
      ]
     },
     "metadata": {},
     "output_type": "display_data"
    },
    {
     "name": "stdout",
     "output_type": "stream",
     "text": [
      "process file  1068_Session_2_ET_1_data_dupl_clean_smooth.csv\n",
      "process file  1068_Session_2_ET_2_data_dupl_clean_smooth.csv\n",
      "process file  1068_Session_2_ET_3_data_dupl_clean_smooth.csv\n"
     ]
    },
    {
     "data": {
      "application/vnd.jupyter.widget-view+json": {
       "model_id": "ad14798a7de44f5a9d46262d0ed3bd66",
       "version_major": 2,
       "version_minor": 0
      },
      "text/plain": [
       "📄 0 of 3 📂 ET files____________ processed:            \n",
       "              0% ⏱️00:00 ⏳? ⚙️?it/s"
      ]
     },
     "metadata": {},
     "output_type": "display_data"
    },
    {
     "name": "stdout",
     "output_type": "stream",
     "text": [
      "process file  1068_Session_3_ET_1_data_dupl_clean_smooth.csv\n",
      "process file  1068_Session_3_ET_2_data_dupl_clean_smooth.csv\n",
      "process file  1068_Session_3_ET_3_data_dupl_clean_smooth.csv\n"
     ]
    },
    {
     "data": {
      "application/vnd.jupyter.widget-view+json": {
       "model_id": "a05e8c33a4c3416e835aeb37409e0b41",
       "version_major": 2,
       "version_minor": 0
      },
      "text/plain": [
       "📄 0 of 3 📂 ET files____________ processed:            \n",
       "              0% ⏱️00:00 ⏳? ⚙️?it/s"
      ]
     },
     "metadata": {},
     "output_type": "display_data"
    },
    {
     "name": "stdout",
     "output_type": "stream",
     "text": [
      "process file  1068_Session_4_ET_1_data_dupl_clean_smooth.csv\n",
      "process file  1068_Session_4_ET_2_data_dupl_clean_smooth.csv\n",
      "process file  1068_Session_4_ET_3_data_dupl_clean_smooth.csv\n"
     ]
    },
    {
     "data": {
      "application/vnd.jupyter.widget-view+json": {
       "model_id": "b04ca4cc5dbe42c59f8cbe02776623fc",
       "version_major": 2,
       "version_minor": 0
      },
      "text/plain": [
       "📄 0 of 3 📂 ET files____________ processed:            \n",
       "              0% ⏱️00:00 ⏳? ⚙️?it/s"
      ]
     },
     "metadata": {},
     "output_type": "display_data"
    },
    {
     "name": "stdout",
     "output_type": "stream",
     "text": [
      "process file  1068_Session_5_ET_1_data_dupl_clean_smooth.csv\n",
      "process file  1068_Session_5_ET_2_data_dupl_clean_smooth.csv\n",
      "process file  1068_Session_5_ET_3_data_dupl_clean_smooth.csv\n",
      "Participant 18 - participant ID 1069\n"
     ]
    },
    {
     "data": {
      "application/vnd.jupyter.widget-view+json": {
       "model_id": "50265bb291ab46b69db979fa7666f5e3",
       "version_major": 2,
       "version_minor": 0
      },
      "text/plain": [
       "📄 0 of 5 sessions________ processed:            \n",
       "              0% ⏱️00:00 ⏳? ⚙️?it/s"
      ]
     },
     "metadata": {},
     "output_type": "display_data"
    },
    {
     "data": {
      "application/vnd.jupyter.widget-view+json": {
       "model_id": "49a80d202912495c89e243cca82cd0e8",
       "version_major": 2,
       "version_minor": 0
      },
      "text/plain": [
       "📄 0 of 3 📂 ET files____________ processed:            \n",
       "              0% ⏱️00:00 ⏳? ⚙️?it/s"
      ]
     },
     "metadata": {},
     "output_type": "display_data"
    },
    {
     "name": "stdout",
     "output_type": "stream",
     "text": [
      "process file  1069_Session_1_ET_1_data_dupl_clean_smooth.csv\n",
      "process file  1069_Session_1_ET_2_data_dupl_clean_smooth.csv\n",
      "process file  1069_Session_1_ET_3_data_dupl_clean_smooth.csv\n"
     ]
    },
    {
     "data": {
      "application/vnd.jupyter.widget-view+json": {
       "model_id": "b87148961f8d466684b958d9eeb9731a",
       "version_major": 2,
       "version_minor": 0
      },
      "text/plain": [
       "📄 0 of 3 📂 ET files____________ processed:            \n",
       "              0% ⏱️00:00 ⏳? ⚙️?it/s"
      ]
     },
     "metadata": {},
     "output_type": "display_data"
    },
    {
     "name": "stdout",
     "output_type": "stream",
     "text": [
      "process file  1069_Session_2_ET_1_data_dupl_clean_smooth.csv\n",
      "process file  1069_Session_2_ET_2_data_dupl_clean_smooth.csv\n",
      "process file  1069_Session_2_ET_3_data_dupl_clean_smooth.csv\n"
     ]
    },
    {
     "data": {
      "application/vnd.jupyter.widget-view+json": {
       "model_id": "6809b202acaf424cb2d385cacba05c5b",
       "version_major": 2,
       "version_minor": 0
      },
      "text/plain": [
       "📄 0 of 3 📂 ET files____________ processed:            \n",
       "              0% ⏱️00:00 ⏳? ⚙️?it/s"
      ]
     },
     "metadata": {},
     "output_type": "display_data"
    },
    {
     "name": "stdout",
     "output_type": "stream",
     "text": [
      "process file  1069_Session_3_ET_1_data_dupl_clean_smooth.csv\n",
      "process file  1069_Session_3_ET_2_data_dupl_clean_smooth.csv\n",
      "process file  1069_Session_3_ET_3_data_dupl_clean_smooth.csv\n"
     ]
    },
    {
     "data": {
      "application/vnd.jupyter.widget-view+json": {
       "model_id": "af9befe5be56434a83081e0c3c77e8b8",
       "version_major": 2,
       "version_minor": 0
      },
      "text/plain": [
       "📄 0 of 3 📂 ET files____________ processed:            \n",
       "              0% ⏱️00:00 ⏳? ⚙️?it/s"
      ]
     },
     "metadata": {},
     "output_type": "display_data"
    },
    {
     "name": "stdout",
     "output_type": "stream",
     "text": [
      "process file  1069_Session_4_ET_1_data_dupl_clean_smooth.csv\n",
      "process file  1069_Session_4_ET_2_data_dupl_clean_smooth.csv\n",
      "process file  1069_Session_4_ET_3_data_dupl_clean_smooth.csv\n"
     ]
    },
    {
     "data": {
      "application/vnd.jupyter.widget-view+json": {
       "model_id": "c75dee357d4246149d447ef18ed8ec5b",
       "version_major": 2,
       "version_minor": 0
      },
      "text/plain": [
       "📄 0 of 3 📂 ET files____________ processed:            \n",
       "              0% ⏱️00:00 ⏳? ⚙️?it/s"
      ]
     },
     "metadata": {},
     "output_type": "display_data"
    },
    {
     "name": "stdout",
     "output_type": "stream",
     "text": [
      "process file  1069_Session_5_ET_1_data_dupl_clean_smooth.csv\n",
      "process file  1069_Session_5_ET_2_data_dupl_clean_smooth.csv\n",
      "process file  1069_Session_5_ET_3_data_dupl_clean_smooth.csv\n",
      "Participant 19 - participant ID 1072\n"
     ]
    },
    {
     "data": {
      "application/vnd.jupyter.widget-view+json": {
       "model_id": "d2e6664483784d7b8e2279d6d56540b8",
       "version_major": 2,
       "version_minor": 0
      },
      "text/plain": [
       "📄 0 of 5 sessions________ processed:            \n",
       "              0% ⏱️00:00 ⏳? ⚙️?it/s"
      ]
     },
     "metadata": {},
     "output_type": "display_data"
    },
    {
     "data": {
      "application/vnd.jupyter.widget-view+json": {
       "model_id": "af82fce5091c4bceb42858407790a244",
       "version_major": 2,
       "version_minor": 0
      },
      "text/plain": [
       "📄 0 of 3 📂 ET files____________ processed:            \n",
       "              0% ⏱️00:00 ⏳? ⚙️?it/s"
      ]
     },
     "metadata": {},
     "output_type": "display_data"
    },
    {
     "name": "stdout",
     "output_type": "stream",
     "text": [
      "process file  1072_Session_1_ET_1_data_dupl_clean_smooth.csv\n",
      "process file  1072_Session_1_ET_2_data_dupl_clean_smooth.csv\n",
      "process file  1072_Session_1_ET_3_data_dupl_clean_smooth.csv\n"
     ]
    },
    {
     "data": {
      "application/vnd.jupyter.widget-view+json": {
       "model_id": "ebe2467b176e44e3aa720e5c4fa11cf6",
       "version_major": 2,
       "version_minor": 0
      },
      "text/plain": [
       "📄 0 of 3 📂 ET files____________ processed:            \n",
       "              0% ⏱️00:00 ⏳? ⚙️?it/s"
      ]
     },
     "metadata": {},
     "output_type": "display_data"
    },
    {
     "name": "stdout",
     "output_type": "stream",
     "text": [
      "process file  1072_Session_2_ET_1_data_dupl_clean_smooth.csv\n",
      "process file  1072_Session_2_ET_2_data_dupl_clean_smooth.csv\n",
      "process file  1072_Session_2_ET_3_data_dupl_clean_smooth.csv\n"
     ]
    },
    {
     "data": {
      "application/vnd.jupyter.widget-view+json": {
       "model_id": "211e15f427404dfabd4b80e7f2b934de",
       "version_major": 2,
       "version_minor": 0
      },
      "text/plain": [
       "📄 0 of 3 📂 ET files____________ processed:            \n",
       "              0% ⏱️00:00 ⏳? ⚙️?it/s"
      ]
     },
     "metadata": {},
     "output_type": "display_data"
    },
    {
     "name": "stdout",
     "output_type": "stream",
     "text": [
      "process file  1072_Session_3_ET_1_data_dupl_clean_smooth.csv\n",
      "process file  1072_Session_3_ET_2_data_dupl_clean_smooth.csv\n",
      "process file  1072_Session_3_ET_3_data_dupl_clean_smooth.csv\n"
     ]
    },
    {
     "data": {
      "application/vnd.jupyter.widget-view+json": {
       "model_id": "fce6293ee1ea4310805e626a3875e9b3",
       "version_major": 2,
       "version_minor": 0
      },
      "text/plain": [
       "📄 0 of 3 📂 ET files____________ processed:            \n",
       "              0% ⏱️00:00 ⏳? ⚙️?it/s"
      ]
     },
     "metadata": {},
     "output_type": "display_data"
    },
    {
     "name": "stdout",
     "output_type": "stream",
     "text": [
      "process file  1072_Session_4_ET_1_data_dupl_clean_smooth.csv\n",
      "process file  1072_Session_4_ET_2_data_dupl_clean_smooth.csv\n",
      "process file  1072_Session_4_ET_3_data_dupl_clean_smooth.csv\n"
     ]
    },
    {
     "data": {
      "application/vnd.jupyter.widget-view+json": {
       "model_id": "a83c1d66d06448278c75e3020b4a43ae",
       "version_major": 2,
       "version_minor": 0
      },
      "text/plain": [
       "📄 0 of 3 📂 ET files____________ processed:            \n",
       "              0% ⏱️00:00 ⏳? ⚙️?it/s"
      ]
     },
     "metadata": {},
     "output_type": "display_data"
    },
    {
     "name": "stdout",
     "output_type": "stream",
     "text": [
      "process file  1072_Session_5_ET_1_data_dupl_clean_smooth.csv\n",
      "process file  1072_Session_5_ET_2_data_dupl_clean_smooth.csv\n",
      "process file  1072_Session_5_ET_3_data_dupl_clean_smooth.csv\n",
      "Participant 20 - participant ID 1073\n"
     ]
    },
    {
     "data": {
      "application/vnd.jupyter.widget-view+json": {
       "model_id": "e943902beee64d71be47f60eef8ed628",
       "version_major": 2,
       "version_minor": 0
      },
      "text/plain": [
       "📄 0 of 5 sessions________ processed:            \n",
       "              0% ⏱️00:00 ⏳? ⚙️?it/s"
      ]
     },
     "metadata": {},
     "output_type": "display_data"
    },
    {
     "data": {
      "application/vnd.jupyter.widget-view+json": {
       "model_id": "cd48b28de4af4141a0d4b4cb01e6db56",
       "version_major": 2,
       "version_minor": 0
      },
      "text/plain": [
       "📄 0 of 3 📂 ET files____________ processed:            \n",
       "              0% ⏱️00:00 ⏳? ⚙️?it/s"
      ]
     },
     "metadata": {},
     "output_type": "display_data"
    },
    {
     "name": "stdout",
     "output_type": "stream",
     "text": [
      "process file  1073_Session_1_ET_1_data_dupl_clean_smooth.csv\n",
      "process file  1073_Session_1_ET_2_data_dupl_clean_smooth.csv\n",
      "process file  1073_Session_1_ET_3_data_dupl_clean_smooth.csv\n"
     ]
    },
    {
     "data": {
      "application/vnd.jupyter.widget-view+json": {
       "model_id": "0841b610f5e24564a06c71c38a45a180",
       "version_major": 2,
       "version_minor": 0
      },
      "text/plain": [
       "📄 0 of 3 📂 ET files____________ processed:            \n",
       "              0% ⏱️00:00 ⏳? ⚙️?it/s"
      ]
     },
     "metadata": {},
     "output_type": "display_data"
    },
    {
     "name": "stdout",
     "output_type": "stream",
     "text": [
      "process file  1073_Session_2_ET_1_data_dupl_clean_smooth.csv\n",
      "process file  1073_Session_2_ET_2_data_dupl_clean_smooth.csv\n",
      "process file  1073_Session_2_ET_3_data_dupl_clean_smooth.csv\n"
     ]
    },
    {
     "data": {
      "application/vnd.jupyter.widget-view+json": {
       "model_id": "d5c7f2ca0bfe4dfdbdec6e2dc9b3fc3b",
       "version_major": 2,
       "version_minor": 0
      },
      "text/plain": [
       "📄 0 of 3 📂 ET files____________ processed:            \n",
       "              0% ⏱️00:00 ⏳? ⚙️?it/s"
      ]
     },
     "metadata": {},
     "output_type": "display_data"
    },
    {
     "name": "stdout",
     "output_type": "stream",
     "text": [
      "process file  1073_Session_3_ET_1_data_dupl_clean_smooth.csv\n",
      "process file  1073_Session_3_ET_2_data_dupl_clean_smooth.csv\n",
      "process file  1073_Session_3_ET_3_data_dupl_clean_smooth.csv\n"
     ]
    },
    {
     "data": {
      "application/vnd.jupyter.widget-view+json": {
       "model_id": "aec8cabd5afc4578b2147aa07430fb6f",
       "version_major": 2,
       "version_minor": 0
      },
      "text/plain": [
       "📄 0 of 3 📂 ET files____________ processed:            \n",
       "              0% ⏱️00:00 ⏳? ⚙️?it/s"
      ]
     },
     "metadata": {},
     "output_type": "display_data"
    },
    {
     "name": "stdout",
     "output_type": "stream",
     "text": [
      "process file  1073_Session_4_ET_1_data_dupl_clean_smooth.csv\n",
      "process file  1073_Session_4_ET_2_data_dupl_clean_smooth.csv\n",
      "process file  1073_Session_4_ET_3_data_dupl_clean_smooth.csv\n"
     ]
    },
    {
     "data": {
      "application/vnd.jupyter.widget-view+json": {
       "model_id": "3a6c3913883f40679beb1cfa5da966c3",
       "version_major": 2,
       "version_minor": 0
      },
      "text/plain": [
       "📄 0 of 3 📂 ET files____________ processed:            \n",
       "              0% ⏱️00:00 ⏳? ⚙️?it/s"
      ]
     },
     "metadata": {},
     "output_type": "display_data"
    },
    {
     "name": "stdout",
     "output_type": "stream",
     "text": [
      "process file  1073_Session_5_ET_1_data_dupl_clean_smooth.csv\n",
      "process file  1073_Session_5_ET_2_data_dupl_clean_smooth.csv\n",
      "process file  1073_Session_5_ET_3_data_dupl_clean_smooth.csv\n",
      "Participant 21 - participant ID 1074\n"
     ]
    },
    {
     "data": {
      "application/vnd.jupyter.widget-view+json": {
       "model_id": "d19ba54bcb344f2a977d7141fda88693",
       "version_major": 2,
       "version_minor": 0
      },
      "text/plain": [
       "📄 0 of 5 sessions________ processed:            \n",
       "              0% ⏱️00:00 ⏳? ⚙️?it/s"
      ]
     },
     "metadata": {},
     "output_type": "display_data"
    },
    {
     "data": {
      "application/vnd.jupyter.widget-view+json": {
       "model_id": "28b56451786849539185061c382dcf45",
       "version_major": 2,
       "version_minor": 0
      },
      "text/plain": [
       "📄 0 of 3 📂 ET files____________ processed:            \n",
       "              0% ⏱️00:00 ⏳? ⚙️?it/s"
      ]
     },
     "metadata": {},
     "output_type": "display_data"
    },
    {
     "name": "stdout",
     "output_type": "stream",
     "text": [
      "process file  1074_Session_1_ET_1_data_dupl_clean_smooth.csv\n",
      "process file  1074_Session_1_ET_2_data_dupl_clean_smooth.csv\n",
      "process file  1074_Session_1_ET_3_data_dupl_clean_smooth.csv\n"
     ]
    },
    {
     "data": {
      "application/vnd.jupyter.widget-view+json": {
       "model_id": "513a140477aa40e9a0c00a89a0654d62",
       "version_major": 2,
       "version_minor": 0
      },
      "text/plain": [
       "📄 0 of 3 📂 ET files____________ processed:            \n",
       "              0% ⏱️00:00 ⏳? ⚙️?it/s"
      ]
     },
     "metadata": {},
     "output_type": "display_data"
    },
    {
     "name": "stdout",
     "output_type": "stream",
     "text": [
      "process file  1074_Session_2_ET_1_data_dupl_clean_smooth.csv\n",
      "process file  1074_Session_2_ET_2_data_dupl_clean_smooth.csv\n",
      "process file  1074_Session_2_ET_3_data_dupl_clean_smooth.csv\n"
     ]
    },
    {
     "data": {
      "application/vnd.jupyter.widget-view+json": {
       "model_id": "106bf9c269fb4c4080feee9990b00afd",
       "version_major": 2,
       "version_minor": 0
      },
      "text/plain": [
       "📄 0 of 3 📂 ET files____________ processed:            \n",
       "              0% ⏱️00:00 ⏳? ⚙️?it/s"
      ]
     },
     "metadata": {},
     "output_type": "display_data"
    },
    {
     "name": "stdout",
     "output_type": "stream",
     "text": [
      "process file  1074_Session_3_ET_1_data_dupl_clean_smooth.csv\n",
      "process file  1074_Session_3_ET_2_data_dupl_clean_smooth.csv\n",
      "process file  1074_Session_3_ET_3_data_dupl_clean_smooth.csv\n"
     ]
    },
    {
     "data": {
      "application/vnd.jupyter.widget-view+json": {
       "model_id": "53af5223898d4f67a0f16b204675ef7d",
       "version_major": 2,
       "version_minor": 0
      },
      "text/plain": [
       "📄 0 of 3 📂 ET files____________ processed:            \n",
       "              0% ⏱️00:00 ⏳? ⚙️?it/s"
      ]
     },
     "metadata": {},
     "output_type": "display_data"
    },
    {
     "name": "stdout",
     "output_type": "stream",
     "text": [
      "process file  1074_Session_4_ET_1_data_dupl_clean_smooth.csv\n",
      "process file  1074_Session_4_ET_2_data_dupl_clean_smooth.csv\n",
      "process file  1074_Session_4_ET_3_data_dupl_clean_smooth.csv\n"
     ]
    },
    {
     "data": {
      "application/vnd.jupyter.widget-view+json": {
       "model_id": "4107f039a546406481ed9fde06178763",
       "version_major": 2,
       "version_minor": 0
      },
      "text/plain": [
       "📄 0 of 3 📂 ET files____________ processed:            \n",
       "              0% ⏱️00:00 ⏳? ⚙️?it/s"
      ]
     },
     "metadata": {},
     "output_type": "display_data"
    },
    {
     "name": "stdout",
     "output_type": "stream",
     "text": [
      "process file  1074_Session_5_ET_1_data_dupl_clean_smooth.csv\n",
      "process file  1074_Session_5_ET_2_data_dupl_clean_smooth.csv\n",
      "process file  1074_Session_5_ET_3_data_dupl_clean_smooth.csv\n",
      "Participant 22 - participant ID 1075\n"
     ]
    },
    {
     "data": {
      "application/vnd.jupyter.widget-view+json": {
       "model_id": "cf4542f07e7543c888d72f63e572dd65",
       "version_major": 2,
       "version_minor": 0
      },
      "text/plain": [
       "📄 0 of 5 sessions________ processed:            \n",
       "              0% ⏱️00:00 ⏳? ⚙️?it/s"
      ]
     },
     "metadata": {},
     "output_type": "display_data"
    },
    {
     "data": {
      "application/vnd.jupyter.widget-view+json": {
       "model_id": "4181ee7b2ea349cd97dedf0aaaeddab6",
       "version_major": 2,
       "version_minor": 0
      },
      "text/plain": [
       "📄 0 of 3 📂 ET files____________ processed:            \n",
       "              0% ⏱️00:00 ⏳? ⚙️?it/s"
      ]
     },
     "metadata": {},
     "output_type": "display_data"
    },
    {
     "name": "stdout",
     "output_type": "stream",
     "text": [
      "process file  1075_Session_1_ET_1_data_dupl_clean_smooth.csv\n",
      "process file  1075_Session_1_ET_2_data_dupl_clean_smooth.csv\n",
      "process file  1075_Session_1_ET_3_data_dupl_clean_smooth.csv\n"
     ]
    },
    {
     "data": {
      "application/vnd.jupyter.widget-view+json": {
       "model_id": "4c7cd407db884473932d0e5ffce4e467",
       "version_major": 2,
       "version_minor": 0
      },
      "text/plain": [
       "📄 0 of 3 📂 ET files____________ processed:            \n",
       "              0% ⏱️00:00 ⏳? ⚙️?it/s"
      ]
     },
     "metadata": {},
     "output_type": "display_data"
    },
    {
     "name": "stdout",
     "output_type": "stream",
     "text": [
      "process file  1075_Session_2_ET_1_data_dupl_clean_smooth.csv\n",
      "process file  1075_Session_2_ET_2_data_dupl_clean_smooth.csv\n",
      "process file  1075_Session_2_ET_3_data_dupl_clean_smooth.csv\n"
     ]
    },
    {
     "data": {
      "application/vnd.jupyter.widget-view+json": {
       "model_id": "645bf153036542c988cc40cba193651a",
       "version_major": 2,
       "version_minor": 0
      },
      "text/plain": [
       "📄 0 of 3 📂 ET files____________ processed:            \n",
       "              0% ⏱️00:00 ⏳? ⚙️?it/s"
      ]
     },
     "metadata": {},
     "output_type": "display_data"
    },
    {
     "name": "stdout",
     "output_type": "stream",
     "text": [
      "process file  1075_Session_3_ET_1_data_dupl_clean_smooth.csv\n",
      "process file  1075_Session_3_ET_2_data_dupl_clean_smooth.csv\n",
      "process file  1075_Session_3_ET_3_data_dupl_clean_smooth.csv\n"
     ]
    },
    {
     "data": {
      "application/vnd.jupyter.widget-view+json": {
       "model_id": "a28a8ced926c40d289b21f17a4059ed7",
       "version_major": 2,
       "version_minor": 0
      },
      "text/plain": [
       "📄 0 of 3 📂 ET files____________ processed:            \n",
       "              0% ⏱️00:00 ⏳? ⚙️?it/s"
      ]
     },
     "metadata": {},
     "output_type": "display_data"
    },
    {
     "name": "stdout",
     "output_type": "stream",
     "text": [
      "process file  1075_Session_4_ET_1_data_dupl_clean_smooth.csv\n",
      "process file  1075_Session_4_ET_2_data_dupl_clean_smooth.csv\n",
      "process file  1075_Session_4_ET_3_data_dupl_clean_smooth.csv\n"
     ]
    },
    {
     "data": {
      "application/vnd.jupyter.widget-view+json": {
       "model_id": "fa12fa0addaf4ce18366c522a9a4cb4e",
       "version_major": 2,
       "version_minor": 0
      },
      "text/plain": [
       "📄 0 of 3 📂 ET files____________ processed:            \n",
       "              0% ⏱️00:00 ⏳? ⚙️?it/s"
      ]
     },
     "metadata": {},
     "output_type": "display_data"
    },
    {
     "name": "stdout",
     "output_type": "stream",
     "text": [
      "process file  1075_Session_5_ET_1_data_dupl_clean_smooth.csv\n",
      "process file  1075_Session_5_ET_2_data_dupl_clean_smooth.csv\n",
      "process file  1075_Session_5_ET_3_data_dupl_clean_smooth.csv\n",
      "Participant 23 - participant ID 1077\n"
     ]
    },
    {
     "data": {
      "application/vnd.jupyter.widget-view+json": {
       "model_id": "54e7ca2451f94931b29399a3a3aaa5c3",
       "version_major": 2,
       "version_minor": 0
      },
      "text/plain": [
       "📄 0 of 5 sessions________ processed:            \n",
       "              0% ⏱️00:00 ⏳? ⚙️?it/s"
      ]
     },
     "metadata": {},
     "output_type": "display_data"
    },
    {
     "data": {
      "application/vnd.jupyter.widget-view+json": {
       "model_id": "ae82893f94d140fc82219eba634a46b6",
       "version_major": 2,
       "version_minor": 0
      },
      "text/plain": [
       "📄 0 of 3 📂 ET files____________ processed:            \n",
       "              0% ⏱️00:00 ⏳? ⚙️?it/s"
      ]
     },
     "metadata": {},
     "output_type": "display_data"
    },
    {
     "name": "stdout",
     "output_type": "stream",
     "text": [
      "process file  1077_Session_1_ET_1_data_dupl_clean_smooth.csv\n",
      "process file  1077_Session_1_ET_2_data_dupl_clean_smooth.csv\n",
      "process file  1077_Session_1_ET_3_data_dupl_clean_smooth.csv\n"
     ]
    },
    {
     "data": {
      "application/vnd.jupyter.widget-view+json": {
       "model_id": "9da6b63b47044d349fd78723fc242de5",
       "version_major": 2,
       "version_minor": 0
      },
      "text/plain": [
       "📄 0 of 3 📂 ET files____________ processed:            \n",
       "              0% ⏱️00:00 ⏳? ⚙️?it/s"
      ]
     },
     "metadata": {},
     "output_type": "display_data"
    },
    {
     "name": "stdout",
     "output_type": "stream",
     "text": [
      "process file  1077_Session_2_ET_1_data_dupl_clean_smooth.csv\n",
      "process file  1077_Session_2_ET_2_data_dupl_clean_smooth.csv\n",
      "process file  1077_Session_2_ET_3_data_dupl_clean_smooth.csv\n"
     ]
    },
    {
     "data": {
      "application/vnd.jupyter.widget-view+json": {
       "model_id": "626b6cb99dab4704af5402fa7afa1b98",
       "version_major": 2,
       "version_minor": 0
      },
      "text/plain": [
       "📄 0 of 3 📂 ET files____________ processed:            \n",
       "              0% ⏱️00:00 ⏳? ⚙️?it/s"
      ]
     },
     "metadata": {},
     "output_type": "display_data"
    },
    {
     "name": "stdout",
     "output_type": "stream",
     "text": [
      "process file  1077_Session_3_ET_1_data_dupl_clean_smooth.csv\n",
      "process file  1077_Session_3_ET_2_data_dupl_clean_smooth.csv\n",
      "process file  1077_Session_3_ET_3_data_dupl_clean_smooth.csv\n"
     ]
    },
    {
     "data": {
      "application/vnd.jupyter.widget-view+json": {
       "model_id": "0192848fafd245b0910a68efe93799c3",
       "version_major": 2,
       "version_minor": 0
      },
      "text/plain": [
       "📄 0 of 3 📂 ET files____________ processed:            \n",
       "              0% ⏱️00:00 ⏳? ⚙️?it/s"
      ]
     },
     "metadata": {},
     "output_type": "display_data"
    },
    {
     "name": "stdout",
     "output_type": "stream",
     "text": [
      "process file  1077_Session_4_ET_1_data_dupl_clean_smooth.csv\n",
      "process file  1077_Session_4_ET_2_data_dupl_clean_smooth.csv\n",
      "process file  1077_Session_4_ET_3_data_dupl_clean_smooth.csv\n"
     ]
    },
    {
     "data": {
      "application/vnd.jupyter.widget-view+json": {
       "model_id": "777b10fd6a3c4c7a863b9d44b9c9ad63",
       "version_major": 2,
       "version_minor": 0
      },
      "text/plain": [
       "📄 0 of 3 📂 ET files____________ processed:            \n",
       "              0% ⏱️00:00 ⏳? ⚙️?it/s"
      ]
     },
     "metadata": {},
     "output_type": "display_data"
    },
    {
     "name": "stdout",
     "output_type": "stream",
     "text": [
      "process file  1077_Session_5_ET_1_data_dupl_clean_smooth.csv\n",
      "process file  1077_Session_5_ET_2_data_dupl_clean_smooth.csv\n",
      "process file  1077_Session_5_ET_3_data_dupl_clean_smooth.csv\n",
      "Participant 24 - participant ID 1079\n"
     ]
    },
    {
     "data": {
      "application/vnd.jupyter.widget-view+json": {
       "model_id": "c392aeea03ef4369bda40a74ed6fa060",
       "version_major": 2,
       "version_minor": 0
      },
      "text/plain": [
       "📄 0 of 5 sessions________ processed:            \n",
       "              0% ⏱️00:00 ⏳? ⚙️?it/s"
      ]
     },
     "metadata": {},
     "output_type": "display_data"
    },
    {
     "data": {
      "application/vnd.jupyter.widget-view+json": {
       "model_id": "856fd5dc8a27458480b76d3a75206733",
       "version_major": 2,
       "version_minor": 0
      },
      "text/plain": [
       "📄 0 of 3 📂 ET files____________ processed:            \n",
       "              0% ⏱️00:00 ⏳? ⚙️?it/s"
      ]
     },
     "metadata": {},
     "output_type": "display_data"
    },
    {
     "name": "stdout",
     "output_type": "stream",
     "text": [
      "process file  1079_Session_1_ET_1_data_dupl_clean_smooth.csv\n",
      "process file  1079_Session_1_ET_2_data_dupl_clean_smooth.csv\n",
      "process file  1079_Session_1_ET_3_data_dupl_clean_smooth.csv\n"
     ]
    },
    {
     "data": {
      "application/vnd.jupyter.widget-view+json": {
       "model_id": "c1fcce3f34d246c39db188885310aefc",
       "version_major": 2,
       "version_minor": 0
      },
      "text/plain": [
       "📄 0 of 3 📂 ET files____________ processed:            \n",
       "              0% ⏱️00:00 ⏳? ⚙️?it/s"
      ]
     },
     "metadata": {},
     "output_type": "display_data"
    },
    {
     "name": "stdout",
     "output_type": "stream",
     "text": [
      "process file  1079_Session_2_ET_1_data_dupl_clean_smooth.csv\n",
      "process file  1079_Session_2_ET_2_data_dupl_clean_smooth.csv\n",
      "process file  1079_Session_2_ET_3_data_dupl_clean_smooth.csv\n"
     ]
    },
    {
     "data": {
      "application/vnd.jupyter.widget-view+json": {
       "model_id": "4e2d4fc4661f45738cfbe225e8b0ad1f",
       "version_major": 2,
       "version_minor": 0
      },
      "text/plain": [
       "📄 0 of 3 📂 ET files____________ processed:            \n",
       "              0% ⏱️00:00 ⏳? ⚙️?it/s"
      ]
     },
     "metadata": {},
     "output_type": "display_data"
    },
    {
     "name": "stdout",
     "output_type": "stream",
     "text": [
      "process file  1079_Session_3_ET_1_data_dupl_clean_smooth.csv\n",
      "process file  1079_Session_3_ET_2_data_dupl_clean_smooth.csv\n",
      "process file  1079_Session_3_ET_3_data_dupl_clean_smooth.csv\n"
     ]
    },
    {
     "data": {
      "application/vnd.jupyter.widget-view+json": {
       "model_id": "c3f43b2455cd4c8490522dca958cd83d",
       "version_major": 2,
       "version_minor": 0
      },
      "text/plain": [
       "📄 0 of 3 📂 ET files____________ processed:            \n",
       "              0% ⏱️00:00 ⏳? ⚙️?it/s"
      ]
     },
     "metadata": {},
     "output_type": "display_data"
    },
    {
     "name": "stdout",
     "output_type": "stream",
     "text": [
      "process file  1079_Session_4_ET_1_data_dupl_clean_smooth.csv\n",
      "process file  1079_Session_4_ET_2_data_dupl_clean_smooth.csv\n",
      "process file  1079_Session_4_ET_3_data_dupl_clean_smooth.csv\n"
     ]
    },
    {
     "data": {
      "application/vnd.jupyter.widget-view+json": {
       "model_id": "76bf864e39574bf4b1818aec32f89877",
       "version_major": 2,
       "version_minor": 0
      },
      "text/plain": [
       "📄 0 of 3 📂 ET files____________ processed:            \n",
       "              0% ⏱️00:00 ⏳? ⚙️?it/s"
      ]
     },
     "metadata": {},
     "output_type": "display_data"
    },
    {
     "name": "stdout",
     "output_type": "stream",
     "text": [
      "process file  1079_Session_5_ET_1_data_dupl_clean_smooth.csv\n",
      "process file  1079_Session_5_ET_2_data_dupl_clean_smooth.csv\n",
      "process file  1079_Session_5_ET_3_data_dupl_clean_smooth.csv\n",
      "Participant 25 - participant ID 1080\n"
     ]
    },
    {
     "data": {
      "application/vnd.jupyter.widget-view+json": {
       "model_id": "037f1bac1fd34f5ea12e344ede9841a0",
       "version_major": 2,
       "version_minor": 0
      },
      "text/plain": [
       "📄 0 of 5 sessions________ processed:            \n",
       "              0% ⏱️00:00 ⏳? ⚙️?it/s"
      ]
     },
     "metadata": {},
     "output_type": "display_data"
    },
    {
     "data": {
      "application/vnd.jupyter.widget-view+json": {
       "model_id": "d3fc4b32260940939d1fdab60fff52a3",
       "version_major": 2,
       "version_minor": 0
      },
      "text/plain": [
       "📄 0 of 3 📂 ET files____________ processed:            \n",
       "              0% ⏱️00:00 ⏳? ⚙️?it/s"
      ]
     },
     "metadata": {},
     "output_type": "display_data"
    },
    {
     "name": "stdout",
     "output_type": "stream",
     "text": [
      "process file  1080_Session_1_ET_1_data_dupl_clean_smooth.csv\n",
      "process file  1080_Session_1_ET_2_data_dupl_clean_smooth.csv\n",
      "process file  1080_Session_1_ET_3_data_dupl_clean_smooth.csv\n"
     ]
    },
    {
     "data": {
      "application/vnd.jupyter.widget-view+json": {
       "model_id": "1546618b5b75424abcb842069b6c0f50",
       "version_major": 2,
       "version_minor": 0
      },
      "text/plain": [
       "📄 0 of 3 📂 ET files____________ processed:            \n",
       "              0% ⏱️00:00 ⏳? ⚙️?it/s"
      ]
     },
     "metadata": {},
     "output_type": "display_data"
    },
    {
     "name": "stdout",
     "output_type": "stream",
     "text": [
      "process file  1080_Session_2_ET_1_data_dupl_clean_smooth.csv\n",
      "process file  1080_Session_2_ET_2_data_dupl_clean_smooth.csv\n",
      "process file  1080_Session_2_ET_3_data_dupl_clean_smooth.csv\n"
     ]
    },
    {
     "data": {
      "application/vnd.jupyter.widget-view+json": {
       "model_id": "d700f533514346b5a0c3c2c7864e7469",
       "version_major": 2,
       "version_minor": 0
      },
      "text/plain": [
       "📄 0 of 3 📂 ET files____________ processed:            \n",
       "              0% ⏱️00:00 ⏳? ⚙️?it/s"
      ]
     },
     "metadata": {},
     "output_type": "display_data"
    },
    {
     "name": "stdout",
     "output_type": "stream",
     "text": [
      "process file  1080_Session_3_ET_1_data_dupl_clean_smooth.csv\n",
      "process file  1080_Session_3_ET_2_data_dupl_clean_smooth.csv\n",
      "process file  1080_Session_3_ET_3_data_dupl_clean_smooth.csv\n"
     ]
    },
    {
     "data": {
      "application/vnd.jupyter.widget-view+json": {
       "model_id": "0667da91e7aa4b928e9aa1dea119c9b2",
       "version_major": 2,
       "version_minor": 0
      },
      "text/plain": [
       "📄 0 of 3 📂 ET files____________ processed:            \n",
       "              0% ⏱️00:00 ⏳? ⚙️?it/s"
      ]
     },
     "metadata": {},
     "output_type": "display_data"
    },
    {
     "name": "stdout",
     "output_type": "stream",
     "text": [
      "process file  1080_Session_4_ET_1_data_dupl_clean_smooth.csv\n",
      "process file  1080_Session_4_ET_2_data_dupl_clean_smooth.csv\n",
      "process file  1080_Session_4_ET_3_data_dupl_clean_smooth.csv\n"
     ]
    },
    {
     "data": {
      "application/vnd.jupyter.widget-view+json": {
       "model_id": "121f9ce7fe64436185c96543b1e2cd27",
       "version_major": 2,
       "version_minor": 0
      },
      "text/plain": [
       "📄 0 of 3 📂 ET files____________ processed:            \n",
       "              0% ⏱️00:00 ⏳? ⚙️?it/s"
      ]
     },
     "metadata": {},
     "output_type": "display_data"
    },
    {
     "name": "stdout",
     "output_type": "stream",
     "text": [
      "process file  1080_Session_5_ET_1_data_dupl_clean_smooth.csv\n",
      "process file  1080_Session_5_ET_2_data_dupl_clean_smooth.csv\n",
      "process file  1080_Session_5_ET_3_data_dupl_clean_smooth.csv\n",
      "All files were found\n"
     ]
    }
   ],
   "source": [
    "print('start')\n",
    "# walking speed lists\n",
    "\n",
    "allWalkingSpeeds = []\n",
    "allWalkingSpeed_means = []\n",
    "\n",
    "allWalkingDistances = []\n",
    "allWalkingDistances_parts = []\n",
    "\n",
    "\n",
    "\n",
    "# useful overviews\n",
    "noFilePartList = [len(PartList)]\n",
    "missingFiles = pd.DataFrame(columns=['Participant', 'Session'])\n",
    "\n",
    "\n",
    "\n",
    "# loop code over all participants in participant list\n",
    "parts_pbar = tqdm(\n",
    "    iterable=PartList,\n",
    "    total=len(PartList),\n",
    "    desc=\"participants\",\n",
    "    dynamic_ncols=True,\n",
    "    bar_format=B_FORMAT,\n",
    ")\n",
    "\n",
    "for indexPart, currentPart in enumerate(parts_pbar):\n",
    "#     currentPart = PartList[indexPart]\n",
    "    print(f'Participant {indexPart} - participant ID {currentPart}')\n",
    "    speed_part = []\n",
    "    dist_part = []\n",
    "    \n",
    "    sessions = list(range(1,6))\n",
    "#     sessions = list(range(2,3))\n",
    "    \n",
    "    session_pbar = tqdm(\n",
    "        iterable=sessions,\n",
    "        total=len(sessions),\n",
    "        desc=\"sessions________\",\n",
    "        dynamic_ncols=True,\n",
    "        bar_format=B_FORMAT,\n",
    "    )\n",
    "    \n",
    "    \n",
    "    # loop over recording sessions (should be 5 for each participant)\n",
    "#     for indexSess in range(1, 6):\n",
    "#     for indexSess in range(1, 2):\n",
    "    for indexSess in session_pbar:\n",
    "        \n",
    "\n",
    "        # get all eye tracking sessions and loop over them (amount of ET files can vary)\n",
    "        fileNames = [f for f in os.listdir(datapath) if f.startswith(f'{currentPart}_Session_{indexSess}') and f.endswith('_data_dupl_clean_smooth.csv')]\n",
    "#         print(dirSess)\n",
    "#         print(f'Session {indexSess}')\n",
    "        \n",
    "        if len(fileNames)< 3:\n",
    "            hMF = pd.DataFrame({'Participant': [currentPart], 'Session': [indexSess], 'onlyExistingFilesInSession': [fileNames]})\n",
    "            missingFiles = pd.concat([missingFiles, hMF], ignore_index=True)\n",
    "            \n",
    "\n",
    "        # runs if files exist\n",
    "\n",
    "############ Main part starts here ######################################################################################\n",
    "        # To use it for later!!!\n",
    "        # based on remodnav --> has almost the same length as our filter\n",
    "\n",
    "        # files progress bar\n",
    "        file_pbar = tqdm(\n",
    "            iterable=fileNames,\n",
    "            total=len(fileNames),\n",
    "            desc=\"📂 ET files____________\",\n",
    "            dynamic_ncols=True,\n",
    "            bar_format=B_FORMAT,\n",
    "        )\n",
    "\n",
    "\n",
    "\n",
    "            # loop necessary for displaying properly the progressbar with multiprocessing\n",
    "            # source: https://stackoverflow.com/a/40133278\n",
    "\n",
    "#             info_list = []\n",
    "\n",
    "        for file in file_pbar:\n",
    "\n",
    "            print('process file ', file)\n",
    "\n",
    "            # read in data\n",
    "            dataVR = pd.read_csv(os.path.join(datapath, file))\n",
    "            \n",
    "            speed, distances = calc_walkingSpeed_rate(dataVR, 45)\n",
    "                \n",
    "            # add speed info to overview\n",
    "            allWalkingSpeeds.extend(speed)  # Append speeds to the global list\n",
    "            speed_part.extend(speed)  # Append speeds for the current session\n",
    "            \n",
    "            # add distances to overview\n",
    "            sumDist = sum(x for x in distances if not math.isnan(x))\n",
    "\n",
    "            allWalkingDistances.append(sumDist)\n",
    "            dist_part.append(sumDist)\n",
    "            \n",
    "            \n",
    "            del dataVR \n",
    "\n",
    "    # Calculate mean speed for the current session and store it\n",
    "    if speed_part:  # Check if the list is not empty\n",
    "        mean_speed = np.nanmean(speed_part)\n",
    "        allWalkingSpeed_means.append(mean_speed)\n",
    "        \n",
    "    # Calculate distance for the current session and store it\n",
    "    if dist_part:  # Check if the list is not empty\n",
    "        sumDist_part = sum(dist_part)\n",
    "        allWalkingDistances_parts.append(sumDist_part)\n",
    "\n",
    "        \n",
    "\n",
    "\n",
    "if len(missingFiles)>0:\n",
    "    \n",
    "    print(\"missing files detected\")\n",
    "    print(missingFiles)\n",
    "    \n",
    "else:\n",
    "    print(\"All files were found\")\n"
   ]
  },
  {
   "cell_type": "code",
   "execution_count": 81,
   "id": "28323cd3",
   "metadata": {},
   "outputs": [
    {
     "name": "stdout",
     "output_type": "stream",
     "text": [
      "-------- sanity checks file lengths -------------\n",
      "334143\n",
      "26\n",
      "401\n",
      "26\n",
      "-------- walking speeds stats of all data (independent of participants) -------------\n",
      "min speed:  0.0 km/h\n",
      "max speed:  18.494905806732227 km/h\n",
      "mean speed:  12.929803763658317 km/h\n",
      "median speed:  16.669885160375586 km/h\n",
      "---------walking speed means for each participant------------\n",
      "slowest participant mean 6.941375692916728 km/h\n",
      "fastest participant mean 17.104781779727745 km/h\n",
      "grand mean  12.930882022084525 km/h\n",
      "--------- walking distances for 1 file (10min) stats ------------\n",
      "min distance:  0.0 km\n",
      "max distance:  2.9381146740180184 km\n",
      "mean distance:  2.093633003435289 km\n",
      "median distance:  2.247395035546262 km\n",
      "sum all dist / 26:  32.29026286067503 km\n",
      "expectation for 10 min, if walking speed is 5km/h =  0.08333333333333333 km\n",
      "---------------------\n",
      "range of walking distances for each participant \n",
      "Participant with min walking distance 17.302470026988967 km\n",
      "Participant with max walking distance 42.761561587713466 km\n",
      "mean walking distance  32.290262860675035 km\n",
      "---------------------\n",
      "Walking distance of a walking speed of 5 km/h for 150 min\n",
      "12.5 km\n",
      "12500.0 m\n",
      "Walking distance of a walking speed of 5 km/h for 150 min in comparison of mean walking distance in VR should be around:  12.5 km\n",
      "mean walking distance  32.290262860675035 km\n",
      "5km/h dist / walked mean dist:  0.3871136030677294\n",
      "in VR they walked  2.5832210288540027 times what they should have with a 5 km/h speed limit\n"
     ]
    }
   ],
   "source": [
    "print('-------- sanity checks file lengths -------------')\n",
    "print(len(allWalkingSpeeds))\n",
    "print(len(allWalkingSpeed_means))\n",
    "\n",
    "print(len(allWalkingDistances))\n",
    "print(len(allWalkingDistances_parts))\n",
    "\n",
    "print('-------- walking speeds stats of all data (independent of participants) -------------')\n",
    "\n",
    "print('min speed: ' , np.nanmin(allWalkingSpeeds), 'km/h')\n",
    "print('max speed: ' , np.nanmax(allWalkingSpeeds), 'km/h')\n",
    "print('mean speed: ', np.nanmean(allWalkingSpeeds), 'km/h')\n",
    "print('median speed: ', np.nanmedian(allWalkingSpeeds), 'km/h')\n",
    "\n",
    "print('---------walking speed means for each participant------------')\n",
    "\n",
    "print('slowest participant mean', min(allWalkingSpeed_means), 'km/h')\n",
    "print('fastest participant mean', max(allWalkingSpeed_means), 'km/h')\n",
    "print('grand mean ', np.mean(allWalkingSpeed_means), 'km/h')\n",
    "\n",
    "\n",
    "\n",
    "\n",
    "print('--------- walking distances for 1 file (10min) stats ------------')\n",
    "\n",
    "print('min distance: ' , np.nanmin(allWalkingDistances)/1000, 'km')\n",
    "print('max distance: ' , np.nanmax(allWalkingDistances)/1000, 'km')\n",
    "print('mean distance: ', np.nanmean(allWalkingDistances)/1000, 'km')\n",
    "print('median distance: ', np.nanmedian(allWalkingDistances)/1000, 'km')\n",
    "\n",
    "print('sum all dist / 26: ', (sum(allWalkingDistances)/1000)/26, 'km')\n",
    "\n",
    "exp = 5* (1/60)\n",
    "print('expectation for 10 min, if walking speed is 5km/h = ', exp , 'km')\n",
    "\n",
    "\n",
    "print('---------------------')\n",
    "\n",
    "print('range of walking distances for each participant ')\n",
    "print('Participant with min walking distance', min(allWalkingDistances_parts)/1000, 'km')\n",
    "print('Participant with max walking distance', max(allWalkingDistances_parts)/1000, 'km')\n",
    "\n",
    "print('mean walking distance ', np.mean(allWalkingDistances_parts)/1000, 'km')\n",
    "\n",
    "\n",
    "print('---------------------')\n",
    "print('Walking distance of a walking speed of 5 km/h for 150 min')\n",
    "walkingTime = 2.5 # hours\n",
    "walkingSpeed = 5 # km/h\n",
    "\n",
    "print(walkingTime * walkingSpeed , 'km')\n",
    "\n",
    "print((walkingTime * walkingSpeed)*1000 , 'm')\n",
    "\n",
    "print('Walking distance of a walking speed of 5 km/h for 150 min in comparison of mean walking distance in VR should be around: ', (walkingTime * walkingSpeed), 'km')\n",
    "print('mean walking distance ', np.mean(allWalkingDistances_parts)/1000, 'km')\n",
    "\n",
    "print('5km/h dist / walked mean dist: ', (walkingTime * walkingSpeed)/(np.mean(allWalkingDistances_parts)/1000))\n",
    "print( 'in VR they walked ', (np.mean(allWalkingDistances_parts)/1000)/(walkingTime * walkingSpeed), 'times what they should have with a 5 km/h speed limit')"
   ]
  },
  {
   "cell_type": "code",
   "execution_count": 68,
   "id": "51e7e32c",
   "metadata": {},
   "outputs": [
    {
     "data": {
      "image/png": "[encoded data removed]",
      "text/plain": [
       "<Figure size 720x432 with 1 Axes>"
      ]
     },
     "metadata": {
      "needs_background": "light"
     },
     "output_type": "display_data"
    }
   ],
   "source": [
    "# Example data\n",
    "\n",
    "# Create the histogram\n",
    "plt.figure(figsize=(10, 6))\n",
    "sns.histplot(allWalkingSpeeds,kde=False, stat='percent')\n",
    "\n",
    "\n",
    "# Add labels and title\n",
    "plt.xlabel('km/h', fontsize=14)\n",
    "plt.ylabel('%', fontsize=14)\n",
    "plt.title('Walking speed in VR - all participants', fontsize=16)\n",
    "\n",
    "full_path = os.path.join(savepath_walkingPaths, \"walkingSpeed_VR_allParticipants.png\")\n",
    "\n",
    "plt.savefig(full_path, dpi=300, bbox_inches='tight')\n",
    "\n",
    "# Show the plot\n",
    "plt.show()"
   ]
  },
  {
   "cell_type": "code",
   "execution_count": 69,
   "id": "1a1d1989",
   "metadata": {},
   "outputs": [
    {
     "data": {
      "image/png": "[encoded data removed]",
      "text/plain": [
       "<Figure size 576x432 with 1 Axes>"
      ]
     },
     "metadata": {
      "needs_background": "light"
     },
     "output_type": "display_data"
    }
   ],
   "source": [
    "\n",
    "plt.figure(figsize=(8, 6))\n",
    "\n",
    "ax = sns.boxplot(data=allWalkingSpeed_means, palette='viridis')\n",
    "\n",
    "\n",
    "# Add labels and title\n",
    "plt.xlabel('Lists', fontsize=14)\n",
    "plt.ylabel('km/h', fontsize=14)\n",
    "plt.title('Mean walking speed in VR and Limassol', fontsize=12)\n",
    "\n",
    "# save plot\n",
    "\n",
    "full_path = os.path.join(savepath_walkingPaths, \"mean_walking_speeds\")\n",
    "\n",
    "plt.savefig(full_path, dpi=300, bbox_inches='tight')\n",
    "\n",
    "\n",
    "# Show the plot\n",
    "plt.show()"
   ]
  },
  {
   "cell_type": "code",
   "execution_count": 82,
   "id": "cc393fbc",
   "metadata": {},
   "outputs": [
    {
     "data": {
      "image/png": "[encoded data removed]",
      "text/plain": [
       "<Figure size 576x432 with 1 Axes>"
      ]
     },
     "metadata": {
      "needs_background": "light"
     },
     "output_type": "display_data"
    }
   ],
   "source": [
    "\n",
    "plt.figure(figsize=(8, 6))\n",
    "\n",
    "ax = sns.boxplot(data=allWalkingDistances, palette='viridis')\n",
    "\n",
    "exp_dist = (5 * (1/60)) * 1000 # 5km/h for 10 min in m \n",
    "# Add a horizontal line representing the Limassol value\n",
    "plt.axhline(y=exp_dist, color='red', linestyle='-', linewidth=2)\n",
    "\n",
    "# Add a label next to the axline\n",
    "plt.text(x=0.7, y=exp_dist, s='expectation', color='red', fontsize=12, verticalalignment='center')\n",
    "# \n",
    "\n",
    "# Add labels and title\n",
    "plt.ylabel('walking distance (m)', fontsize=14)\n",
    "plt.title('Walking distances in VR (1 file / 10 min)', fontsize=12)\n",
    "\n",
    "# save plot\n",
    "\n",
    "full_path = os.path.join(savepath_walkingPaths, 'walking_distances_Westbrook_1file_10min')\n",
    "\n",
    "plt.savefig(full_path, dpi=300, bbox_inches='tight')\n",
    "\n",
    "\n",
    "# Show the plot\n",
    "plt.show()"
   ]
  },
  {
   "cell_type": "code",
   "execution_count": 83,
   "id": "a00fe4c3",
   "metadata": {},
   "outputs": [
    {
     "data": {
      "image/png": "[encoded data removed]",
      "text/plain": [
       "<Figure size 576x432 with 1 Axes>"
      ]
     },
     "metadata": {
      "needs_background": "light"
     },
     "output_type": "display_data"
    }
   ],
   "source": [
    "\n",
    "plt.figure(figsize=(8, 6))\n",
    "\n",
    "ax = sns.boxplot(data=allWalkingDistances_parts, palette='viridis')\n",
    "\n",
    "exp_m_all = (5* 2.5)*1000 # 5km/h for 150min/2.5 hours in m\n",
    "# Add a horizontal line representing the Limassol value\n",
    "plt.axhline(y=exp_m_all, color='red', linestyle='-', linewidth=2)\n",
    "\n",
    "# Add a label next to the axline\n",
    "plt.text(x=0.7, y=exp_m_all, s='expectation', color='red', fontsize=12, verticalalignment='center')\n",
    "\n",
    "\n",
    "# Add labels and title\n",
    "plt.ylabel('walking distance (m)', fontsize=14)\n",
    "plt.title('Walking distances in VR of each participant', fontsize=12)\n",
    "\n",
    "# save plot\n",
    "\n",
    "full_path = os.path.join(savepath_walkingPaths, 'walking_distances_Westbrook_participants')\n",
    "\n",
    "plt.savefig(full_path, dpi=300, bbox_inches='tight')\n",
    "\n",
    "\n",
    "# Show the plot\n",
    "plt.show()"
   ]
  },
  {
   "cell_type": "markdown",
   "id": "a3bce2a2",
   "metadata": {},
   "source": [
    "## do the same loop for each row and also do all the plots"
   ]
  },
  {
   "cell_type": "code",
   "execution_count": 85,
   "id": "616fd201",
   "metadata": {},
   "outputs": [
    {
     "name": "stdout",
     "output_type": "stream",
     "text": [
      "start\n"
     ]
    },
    {
     "data": {
      "application/vnd.jupyter.widget-view+json": {
       "model_id": "30ae678b990b4342be79f051098f9c36",
       "version_major": 2,
       "version_minor": 0
      },
      "text/plain": [
       "📄 0 of 26 participants processed:            \n",
       "              0% ⏱️00:00 ⏳? ⚙️?it/s"
      ]
     },
     "metadata": {},
     "output_type": "display_data"
    },
    {
     "name": "stdout",
     "output_type": "stream",
     "text": [
      "Participant 0 - participant ID 1004\n"
     ]
    },
    {
     "data": {
      "application/vnd.jupyter.widget-view+json": {
       "model_id": "0eef03b153304586bdb93abd8cd90e8c",
       "version_major": 2,
       "version_minor": 0
      },
      "text/plain": [
       "📄 0 of 5 sessions________ processed:            \n",
       "              0% ⏱️00:00 ⏳? ⚙️?it/s"
      ]
     },
     "metadata": {},
     "output_type": "display_data"
    },
    {
     "data": {
      "application/vnd.jupyter.widget-view+json": {
       "model_id": "8427f1dcc18d46f4a6c5ff90fc4f38bf",
       "version_major": 2,
       "version_minor": 0
      },
      "text/plain": [
       "📄 0 of 3 📂 ET files____________ processed:            \n",
       "              0% ⏱️00:00 ⏳? ⚙️?it/s"
      ]
     },
     "metadata": {},
     "output_type": "display_data"
    },
    {
     "name": "stdout",
     "output_type": "stream",
     "text": [
      "process file  1004_Session_1_ET_1_data_dupl_clean_smooth.csv\n",
      "process file  1004_Session_1_ET_2_data_dupl_clean_smooth.csv\n",
      "process file  1004_Session_1_ET_3_data_dupl_clean_smooth.csv\n"
     ]
    },
    {
     "data": {
      "application/vnd.jupyter.widget-view+json": {
       "model_id": "e364bf78f9884fa095feeae959d2ba96",
       "version_major": 2,
       "version_minor": 0
      },
      "text/plain": [
       "📄 0 of 3 📂 ET files____________ processed:            \n",
       "              0% ⏱️00:00 ⏳? ⚙️?it/s"
      ]
     },
     "metadata": {},
     "output_type": "display_data"
    },
    {
     "name": "stdout",
     "output_type": "stream",
     "text": [
      "process file  1004_Session_2_ET_1_data_dupl_clean_smooth.csv\n",
      "process file  1004_Session_2_ET_2_data_dupl_clean_smooth.csv\n",
      "process file  1004_Session_2_ET_3_data_dupl_clean_smooth.csv\n"
     ]
    },
    {
     "data": {
      "application/vnd.jupyter.widget-view+json": {
       "model_id": "f3fb7de2919145a0b746df88e78ad4b2",
       "version_major": 2,
       "version_minor": 0
      },
      "text/plain": [
       "📄 0 of 3 📂 ET files____________ processed:            \n",
       "              0% ⏱️00:00 ⏳? ⚙️?it/s"
      ]
     },
     "metadata": {},
     "output_type": "display_data"
    },
    {
     "name": "stdout",
     "output_type": "stream",
     "text": [
      "process file  1004_Session_3_ET_1_data_dupl_clean_smooth.csv\n",
      "process file  1004_Session_3_ET_2_data_dupl_clean_smooth.csv\n",
      "process file  1004_Session_3_ET_3_data_dupl_clean_smooth.csv\n"
     ]
    },
    {
     "data": {
      "application/vnd.jupyter.widget-view+json": {
       "model_id": "1ac7126ecb3b41b6b0dc3f550e2838ce",
       "version_major": 2,
       "version_minor": 0
      },
      "text/plain": [
       "📄 0 of 3 📂 ET files____________ processed:            \n",
       "              0% ⏱️00:00 ⏳? ⚙️?it/s"
      ]
     },
     "metadata": {},
     "output_type": "display_data"
    },
    {
     "name": "stdout",
     "output_type": "stream",
     "text": [
      "process file  1004_Session_4_ET_1_data_dupl_clean_smooth.csv\n",
      "process file  1004_Session_4_ET_2_data_dupl_clean_smooth.csv\n",
      "process file  1004_Session_4_ET_3_data_dupl_clean_smooth.csv\n"
     ]
    },
    {
     "data": {
      "application/vnd.jupyter.widget-view+json": {
       "model_id": "087b57bd479c497292dd56023ffe9057",
       "version_major": 2,
       "version_minor": 0
      },
      "text/plain": [
       "📄 0 of 3 📂 ET files____________ processed:            \n",
       "              0% ⏱️00:00 ⏳? ⚙️?it/s"
      ]
     },
     "metadata": {},
     "output_type": "display_data"
    },
    {
     "name": "stdout",
     "output_type": "stream",
     "text": [
      "process file  1004_Session_5_ET_1_data_dupl_clean_smooth.csv\n",
      "process file  1004_Session_5_ET_2_data_dupl_clean_smooth.csv\n",
      "process file  1004_Session_5_ET_3_data_dupl_clean_smooth.csv\n",
      "Participant 1 - participant ID 1005\n"
     ]
    },
    {
     "data": {
      "application/vnd.jupyter.widget-view+json": {
       "model_id": "eafae6a20e3b42008203f22e92f34b82",
       "version_major": 2,
       "version_minor": 0
      },
      "text/plain": [
       "📄 0 of 5 sessions________ processed:            \n",
       "              0% ⏱️00:00 ⏳? ⚙️?it/s"
      ]
     },
     "metadata": {},
     "output_type": "display_data"
    },
    {
     "data": {
      "application/vnd.jupyter.widget-view+json": {
       "model_id": "33b9cd650a2248cd9ce4d65eb8ab58f2",
       "version_major": 2,
       "version_minor": 0
      },
      "text/plain": [
       "📄 0 of 3 📂 ET files____________ processed:            \n",
       "              0% ⏱️00:00 ⏳? ⚙️?it/s"
      ]
     },
     "metadata": {},
     "output_type": "display_data"
    },
    {
     "name": "stdout",
     "output_type": "stream",
     "text": [
      "process file  1005_Session_1_ET_1_data_dupl_clean_smooth.csv\n",
      "process file  1005_Session_1_ET_2_data_dupl_clean_smooth.csv\n",
      "process file  1005_Session_1_ET_3_data_dupl_clean_smooth.csv\n"
     ]
    },
    {
     "data": {
      "application/vnd.jupyter.widget-view+json": {
       "model_id": "4e982e878d4942a78ccb79843a92cd72",
       "version_major": 2,
       "version_minor": 0
      },
      "text/plain": [
       "📄 0 of 3 📂 ET files____________ processed:            \n",
       "              0% ⏱️00:00 ⏳? ⚙️?it/s"
      ]
     },
     "metadata": {},
     "output_type": "display_data"
    },
    {
     "name": "stdout",
     "output_type": "stream",
     "text": [
      "process file  1005_Session_2_ET_1_data_dupl_clean_smooth.csv\n",
      "process file  1005_Session_2_ET_2_data_dupl_clean_smooth.csv\n",
      "process file  1005_Session_2_ET_3_data_dupl_clean_smooth.csv\n"
     ]
    },
    {
     "data": {
      "application/vnd.jupyter.widget-view+json": {
       "model_id": "2001e9a4520d405a9ee5e1812f82a6d7",
       "version_major": 2,
       "version_minor": 0
      },
      "text/plain": [
       "📄 0 of 3 📂 ET files____________ processed:            \n",
       "              0% ⏱️00:00 ⏳? ⚙️?it/s"
      ]
     },
     "metadata": {},
     "output_type": "display_data"
    },
    {
     "name": "stdout",
     "output_type": "stream",
     "text": [
      "process file  1005_Session_3_ET_1_data_dupl_clean_smooth.csv\n",
      "process file  1005_Session_3_ET_2_data_dupl_clean_smooth.csv\n",
      "process file  1005_Session_3_ET_3_data_dupl_clean_smooth.csv\n"
     ]
    },
    {
     "data": {
      "application/vnd.jupyter.widget-view+json": {
       "model_id": "9e5ec500a3b34ebcb898336b679eb65b",
       "version_major": 2,
       "version_minor": 0
      },
      "text/plain": [
       "📄 0 of 3 📂 ET files____________ processed:            \n",
       "              0% ⏱️00:00 ⏳? ⚙️?it/s"
      ]
     },
     "metadata": {},
     "output_type": "display_data"
    },
    {
     "name": "stdout",
     "output_type": "stream",
     "text": [
      "process file  1005_Session_4_ET_1_data_dupl_clean_smooth.csv\n",
      "process file  1005_Session_4_ET_2_data_dupl_clean_smooth.csv\n",
      "process file  1005_Session_4_ET_3_data_dupl_clean_smooth.csv\n"
     ]
    },
    {
     "data": {
      "application/vnd.jupyter.widget-view+json": {
       "model_id": "947f9527d3314ff787b95544877bc206",
       "version_major": 2,
       "version_minor": 0
      },
      "text/plain": [
       "📄 0 of 3 📂 ET files____________ processed:            \n",
       "              0% ⏱️00:00 ⏳? ⚙️?it/s"
      ]
     },
     "metadata": {},
     "output_type": "display_data"
    },
    {
     "name": "stdout",
     "output_type": "stream",
     "text": [
      "process file  1005_Session_5_ET_1_data_dupl_clean_smooth.csv\n",
      "process file  1005_Session_5_ET_2_data_dupl_clean_smooth.csv\n",
      "process file  1005_Session_5_ET_3_data_dupl_clean_smooth.csv\n",
      "Participant 2 - participant ID 1008\n"
     ]
    },
    {
     "data": {
      "application/vnd.jupyter.widget-view+json": {
       "model_id": "664fb25dd19c4fd9a0e13c63e32a2b3d",
       "version_major": 2,
       "version_minor": 0
      },
      "text/plain": [
       "📄 0 of 5 sessions________ processed:            \n",
       "              0% ⏱️00:00 ⏳? ⚙️?it/s"
      ]
     },
     "metadata": {},
     "output_type": "display_data"
    },
    {
     "data": {
      "application/vnd.jupyter.widget-view+json": {
       "model_id": "2a8ffe20b0c844acb0f897ab79ee2578",
       "version_major": 2,
       "version_minor": 0
      },
      "text/plain": [
       "📄 0 of 3 📂 ET files____________ processed:            \n",
       "              0% ⏱️00:00 ⏳? ⚙️?it/s"
      ]
     },
     "metadata": {},
     "output_type": "display_data"
    },
    {
     "name": "stdout",
     "output_type": "stream",
     "text": [
      "process file  1008_Session_1_ET_1_data_dupl_clean_smooth.csv\n",
      "process file  1008_Session_1_ET_2_data_dupl_clean_smooth.csv\n",
      "process file  1008_Session_1_ET_3_data_dupl_clean_smooth.csv\n"
     ]
    },
    {
     "data": {
      "application/vnd.jupyter.widget-view+json": {
       "model_id": "ef1643b8f400400cb01d4a3c33f781e2",
       "version_major": 2,
       "version_minor": 0
      },
      "text/plain": [
       "📄 0 of 3 📂 ET files____________ processed:            \n",
       "              0% ⏱️00:00 ⏳? ⚙️?it/s"
      ]
     },
     "metadata": {},
     "output_type": "display_data"
    },
    {
     "name": "stdout",
     "output_type": "stream",
     "text": [
      "process file  1008_Session_2_ET_1_data_dupl_clean_smooth.csv\n",
      "process file  1008_Session_2_ET_2_data_dupl_clean_smooth.csv\n",
      "process file  1008_Session_2_ET_3_data_dupl_clean_smooth.csv\n"
     ]
    },
    {
     "data": {
      "application/vnd.jupyter.widget-view+json": {
       "model_id": "f60c30d16d564350ad3331ca4dc37568",
       "version_major": 2,
       "version_minor": 0
      },
      "text/plain": [
       "📄 0 of 3 📂 ET files____________ processed:            \n",
       "              0% ⏱️00:00 ⏳? ⚙️?it/s"
      ]
     },
     "metadata": {},
     "output_type": "display_data"
    },
    {
     "name": "stdout",
     "output_type": "stream",
     "text": [
      "process file  1008_Session_3_ET_1_data_dupl_clean_smooth.csv\n",
      "process file  1008_Session_3_ET_2_data_dupl_clean_smooth.csv\n",
      "process file  1008_Session_3_ET_3_data_dupl_clean_smooth.csv\n"
     ]
    },
    {
     "data": {
      "application/vnd.jupyter.widget-view+json": {
       "model_id": "45d50aebc87e4a1cba40ec8f8e92c8f8",
       "version_major": 2,
       "version_minor": 0
      },
      "text/plain": [
       "📄 0 of 3 📂 ET files____________ processed:            \n",
       "              0% ⏱️00:00 ⏳? ⚙️?it/s"
      ]
     },
     "metadata": {},
     "output_type": "display_data"
    },
    {
     "name": "stdout",
     "output_type": "stream",
     "text": [
      "process file  1008_Session_4_ET_1_data_dupl_clean_smooth.csv\n",
      "process file  1008_Session_4_ET_2_data_dupl_clean_smooth.csv\n",
      "process file  1008_Session_4_ET_3_data_dupl_clean_smooth.csv\n"
     ]
    },
    {
     "data": {
      "application/vnd.jupyter.widget-view+json": {
       "model_id": "57b2f8034d3243e2b73fd4fb51de43db",
       "version_major": 2,
       "version_minor": 0
      },
      "text/plain": [
       "📄 0 of 3 📂 ET files____________ processed:            \n",
       "              0% ⏱️00:00 ⏳? ⚙️?it/s"
      ]
     },
     "metadata": {},
     "output_type": "display_data"
    },
    {
     "name": "stdout",
     "output_type": "stream",
     "text": [
      "process file  1008_Session_5_ET_1_data_dupl_clean_smooth.csv\n",
      "process file  1008_Session_5_ET_2_data_dupl_clean_smooth.csv\n",
      "process file  1008_Session_5_ET_3_data_dupl_clean_smooth.csv\n",
      "Participant 3 - participant ID 1010\n"
     ]
    },
    {
     "data": {
      "application/vnd.jupyter.widget-view+json": {
       "model_id": "ce61e572dc59495a8c6ab38efebb2371",
       "version_major": 2,
       "version_minor": 0
      },
      "text/plain": [
       "📄 0 of 5 sessions________ processed:            \n",
       "              0% ⏱️00:00 ⏳? ⚙️?it/s"
      ]
     },
     "metadata": {},
     "output_type": "display_data"
    },
    {
     "data": {
      "application/vnd.jupyter.widget-view+json": {
       "model_id": "0d6d12c8dac8437c8e36539c8bde94d1",
       "version_major": 2,
       "version_minor": 0
      },
      "text/plain": [
       "📄 0 of 4 📂 ET files____________ processed:            \n",
       "              0% ⏱️00:00 ⏳? ⚙️?it/s"
      ]
     },
     "metadata": {},
     "output_type": "display_data"
    },
    {
     "name": "stdout",
     "output_type": "stream",
     "text": [
      "process file  1010_Session_1_ET_1_data_dupl_clean_smooth.csv\n",
      "process file  1010_Session_1_ET_2_data_dupl_clean_smooth.csv\n",
      "process file  1010_Session_1_ET_3_data_dupl_clean_smooth.csv\n",
      "process file  1010_Session_1_ET_4_data_dupl_clean_smooth.csv\n"
     ]
    },
    {
     "data": {
      "application/vnd.jupyter.widget-view+json": {
       "model_id": "aa095b2507ab4c47b11e206f95c27ab2",
       "version_major": 2,
       "version_minor": 0
      },
      "text/plain": [
       "📄 0 of 3 📂 ET files____________ processed:            \n",
       "              0% ⏱️00:00 ⏳? ⚙️?it/s"
      ]
     },
     "metadata": {},
     "output_type": "display_data"
    },
    {
     "name": "stdout",
     "output_type": "stream",
     "text": [
      "process file  1010_Session_2_ET_1_data_dupl_clean_smooth.csv\n",
      "process file  1010_Session_2_ET_2_data_dupl_clean_smooth.csv\n",
      "process file  1010_Session_2_ET_3_data_dupl_clean_smooth.csv\n"
     ]
    },
    {
     "data": {
      "application/vnd.jupyter.widget-view+json": {
       "model_id": "00cda86cc6814a3bbd121c8e956b5a40",
       "version_major": 2,
       "version_minor": 0
      },
      "text/plain": [
       "📄 0 of 3 📂 ET files____________ processed:            \n",
       "              0% ⏱️00:00 ⏳? ⚙️?it/s"
      ]
     },
     "metadata": {},
     "output_type": "display_data"
    },
    {
     "name": "stdout",
     "output_type": "stream",
     "text": [
      "process file  1010_Session_3_ET_1_data_dupl_clean_smooth.csv\n",
      "process file  1010_Session_3_ET_2_data_dupl_clean_smooth.csv\n",
      "process file  1010_Session_3_ET_3_data_dupl_clean_smooth.csv\n"
     ]
    },
    {
     "data": {
      "application/vnd.jupyter.widget-view+json": {
       "model_id": "773b6a9c7d2f4ab093256021accf79fa",
       "version_major": 2,
       "version_minor": 0
      },
      "text/plain": [
       "📄 0 of 3 📂 ET files____________ processed:            \n",
       "              0% ⏱️00:00 ⏳? ⚙️?it/s"
      ]
     },
     "metadata": {},
     "output_type": "display_data"
    },
    {
     "name": "stdout",
     "output_type": "stream",
     "text": [
      "process file  1010_Session_4_ET_1_data_dupl_clean_smooth.csv\n",
      "process file  1010_Session_4_ET_2_data_dupl_clean_smooth.csv\n",
      "process file  1010_Session_4_ET_3_data_dupl_clean_smooth.csv\n"
     ]
    },
    {
     "data": {
      "application/vnd.jupyter.widget-view+json": {
       "model_id": "065d4a72d33b45d6b732ead63be3b5c1",
       "version_major": 2,
       "version_minor": 0
      },
      "text/plain": [
       "📄 0 of 4 📂 ET files____________ processed:            \n",
       "              0% ⏱️00:00 ⏳? ⚙️?it/s"
      ]
     },
     "metadata": {},
     "output_type": "display_data"
    },
    {
     "name": "stdout",
     "output_type": "stream",
     "text": [
      "process file  1010_Session_5_ET_1_data_dupl_clean_smooth.csv\n",
      "process file  1010_Session_5_ET_2_data_dupl_clean_smooth.csv\n",
      "process file  1010_Session_5_ET_3_data_dupl_clean_smooth.csv\n",
      "process file  1010_Session_5_ET_4_data_dupl_clean_smooth.csv\n",
      "Participant 4 - participant ID 1011\n"
     ]
    },
    {
     "data": {
      "application/vnd.jupyter.widget-view+json": {
       "model_id": "fdbc1d5e05f943b088c36d077d40d7dd",
       "version_major": 2,
       "version_minor": 0
      },
      "text/plain": [
       "📄 0 of 5 sessions________ processed:            \n",
       "              0% ⏱️00:00 ⏳? ⚙️?it/s"
      ]
     },
     "metadata": {},
     "output_type": "display_data"
    },
    {
     "data": {
      "application/vnd.jupyter.widget-view+json": {
       "model_id": "0002542193014f9ca8dc0f575af3cbe7",
       "version_major": 2,
       "version_minor": 0
      },
      "text/plain": [
       "📄 0 of 4 📂 ET files____________ processed:            \n",
       "              0% ⏱️00:00 ⏳? ⚙️?it/s"
      ]
     },
     "metadata": {},
     "output_type": "display_data"
    },
    {
     "name": "stdout",
     "output_type": "stream",
     "text": [
      "process file  1011_Session_1_ET_1_data_dupl_clean_smooth.csv\n",
      "process file  1011_Session_1_ET_2_data_dupl_clean_smooth.csv\n",
      "process file  1011_Session_1_ET_3_data_dupl_clean_smooth.csv\n",
      "process file  1011_Session_1_ET_4_data_dupl_clean_smooth.csv\n"
     ]
    },
    {
     "data": {
      "application/vnd.jupyter.widget-view+json": {
       "model_id": "9155fd44329046eeb0dafa67e08b4cda",
       "version_major": 2,
       "version_minor": 0
      },
      "text/plain": [
       "📄 0 of 3 📂 ET files____________ processed:            \n",
       "              0% ⏱️00:00 ⏳? ⚙️?it/s"
      ]
     },
     "metadata": {},
     "output_type": "display_data"
    },
    {
     "name": "stdout",
     "output_type": "stream",
     "text": [
      "process file  1011_Session_2_ET_1_data_dupl_clean_smooth.csv\n",
      "process file  1011_Session_2_ET_2_data_dupl_clean_smooth.csv\n",
      "process file  1011_Session_2_ET_3_data_dupl_clean_smooth.csv\n"
     ]
    },
    {
     "data": {
      "application/vnd.jupyter.widget-view+json": {
       "model_id": "a8bd340b058a4476b35a194eaa66ec0a",
       "version_major": 2,
       "version_minor": 0
      },
      "text/plain": [
       "📄 0 of 3 📂 ET files____________ processed:            \n",
       "              0% ⏱️00:00 ⏳? ⚙️?it/s"
      ]
     },
     "metadata": {},
     "output_type": "display_data"
    },
    {
     "name": "stdout",
     "output_type": "stream",
     "text": [
      "process file  1011_Session_3_ET_1_data_dupl_clean_smooth.csv\n",
      "process file  1011_Session_3_ET_2_data_dupl_clean_smooth.csv\n",
      "process file  1011_Session_3_ET_3_data_dupl_clean_smooth.csv\n"
     ]
    },
    {
     "data": {
      "application/vnd.jupyter.widget-view+json": {
       "model_id": "15eb3a86d2be44d783b202d4ff42d51a",
       "version_major": 2,
       "version_minor": 0
      },
      "text/plain": [
       "📄 0 of 3 📂 ET files____________ processed:            \n",
       "              0% ⏱️00:00 ⏳? ⚙️?it/s"
      ]
     },
     "metadata": {},
     "output_type": "display_data"
    },
    {
     "name": "stdout",
     "output_type": "stream",
     "text": [
      "process file  1011_Session_4_ET_1_data_dupl_clean_smooth.csv\n",
      "process file  1011_Session_4_ET_2_data_dupl_clean_smooth.csv\n",
      "process file  1011_Session_4_ET_3_data_dupl_clean_smooth.csv\n"
     ]
    },
    {
     "data": {
      "application/vnd.jupyter.widget-view+json": {
       "model_id": "e79267ca2fc74a20b95a72a69ca13705",
       "version_major": 2,
       "version_minor": 0
      },
      "text/plain": [
       "📄 0 of 3 📂 ET files____________ processed:            \n",
       "              0% ⏱️00:00 ⏳? ⚙️?it/s"
      ]
     },
     "metadata": {},
     "output_type": "display_data"
    },
    {
     "name": "stdout",
     "output_type": "stream",
     "text": [
      "process file  1011_Session_5_ET_1_data_dupl_clean_smooth.csv\n",
      "process file  1011_Session_5_ET_2_data_dupl_clean_smooth.csv\n",
      "process file  1011_Session_5_ET_3_data_dupl_clean_smooth.csv\n",
      "Participant 5 - participant ID 1013\n"
     ]
    },
    {
     "data": {
      "application/vnd.jupyter.widget-view+json": {
       "model_id": "431c9de73bf146a3a41792c30457cf36",
       "version_major": 2,
       "version_minor": 0
      },
      "text/plain": [
       "📄 0 of 5 sessions________ processed:            \n",
       "              0% ⏱️00:00 ⏳? ⚙️?it/s"
      ]
     },
     "metadata": {},
     "output_type": "display_data"
    },
    {
     "data": {
      "application/vnd.jupyter.widget-view+json": {
       "model_id": "0a2adca4404a4b968ac4d2d7d014f2cf",
       "version_major": 2,
       "version_minor": 0
      },
      "text/plain": [
       "📄 0 of 3 📂 ET files____________ processed:            \n",
       "              0% ⏱️00:00 ⏳? ⚙️?it/s"
      ]
     },
     "metadata": {},
     "output_type": "display_data"
    },
    {
     "name": "stdout",
     "output_type": "stream",
     "text": [
      "process file  1013_Session_1_ET_1_data_dupl_clean_smooth.csv\n",
      "process file  1013_Session_1_ET_2_data_dupl_clean_smooth.csv\n",
      "process file  1013_Session_1_ET_3_data_dupl_clean_smooth.csv\n"
     ]
    },
    {
     "data": {
      "application/vnd.jupyter.widget-view+json": {
       "model_id": "3977eba5680043e0aa725a5728cb470a",
       "version_major": 2,
       "version_minor": 0
      },
      "text/plain": [
       "📄 0 of 3 📂 ET files____________ processed:            \n",
       "              0% ⏱️00:00 ⏳? ⚙️?it/s"
      ]
     },
     "metadata": {},
     "output_type": "display_data"
    },
    {
     "name": "stdout",
     "output_type": "stream",
     "text": [
      "process file  1013_Session_2_ET_1_data_dupl_clean_smooth.csv\n",
      "process file  1013_Session_2_ET_2_data_dupl_clean_smooth.csv\n",
      "process file  1013_Session_2_ET_3_data_dupl_clean_smooth.csv\n"
     ]
    },
    {
     "data": {
      "application/vnd.jupyter.widget-view+json": {
       "model_id": "c42b9017f2444412a62600f02c63cd57",
       "version_major": 2,
       "version_minor": 0
      },
      "text/plain": [
       "📄 0 of 3 📂 ET files____________ processed:            \n",
       "              0% ⏱️00:00 ⏳? ⚙️?it/s"
      ]
     },
     "metadata": {},
     "output_type": "display_data"
    },
    {
     "name": "stdout",
     "output_type": "stream",
     "text": [
      "process file  1013_Session_3_ET_1_data_dupl_clean_smooth.csv\n",
      "process file  1013_Session_3_ET_2_data_dupl_clean_smooth.csv\n",
      "process file  1013_Session_3_ET_3_data_dupl_clean_smooth.csv\n"
     ]
    },
    {
     "data": {
      "application/vnd.jupyter.widget-view+json": {
       "model_id": "fdbf7c6acf01419b87d412c544d6c749",
       "version_major": 2,
       "version_minor": 0
      },
      "text/plain": [
       "📄 0 of 3 📂 ET files____________ processed:            \n",
       "              0% ⏱️00:00 ⏳? ⚙️?it/s"
      ]
     },
     "metadata": {},
     "output_type": "display_data"
    },
    {
     "name": "stdout",
     "output_type": "stream",
     "text": [
      "process file  1013_Session_4_ET_1_data_dupl_clean_smooth.csv\n",
      "process file  1013_Session_4_ET_2_data_dupl_clean_smooth.csv\n",
      "process file  1013_Session_4_ET_3_data_dupl_clean_smooth.csv\n"
     ]
    },
    {
     "data": {
      "application/vnd.jupyter.widget-view+json": {
       "model_id": "144a54a6fdb240e8a46111a8f57b8c7f",
       "version_major": 2,
       "version_minor": 0
      },
      "text/plain": [
       "📄 0 of 3 📂 ET files____________ processed:            \n",
       "              0% ⏱️00:00 ⏳? ⚙️?it/s"
      ]
     },
     "metadata": {},
     "output_type": "display_data"
    },
    {
     "name": "stdout",
     "output_type": "stream",
     "text": [
      "process file  1013_Session_5_ET_1_data_dupl_clean_smooth.csv\n",
      "process file  1013_Session_5_ET_2_data_dupl_clean_smooth.csv\n",
      "process file  1013_Session_5_ET_3_data_dupl_clean_smooth.csv\n",
      "Participant 6 - participant ID 1017\n"
     ]
    },
    {
     "data": {
      "application/vnd.jupyter.widget-view+json": {
       "model_id": "35cd5d8f1e22474cb1c318499d7b39d2",
       "version_major": 2,
       "version_minor": 0
      },
      "text/plain": [
       "📄 0 of 5 sessions________ processed:            \n",
       "              0% ⏱️00:00 ⏳? ⚙️?it/s"
      ]
     },
     "metadata": {},
     "output_type": "display_data"
    },
    {
     "data": {
      "application/vnd.jupyter.widget-view+json": {
       "model_id": "58e5aabd5f094535b15ee504083dbc58",
       "version_major": 2,
       "version_minor": 0
      },
      "text/plain": [
       "📄 0 of 5 📂 ET files____________ processed:            \n",
       "              0% ⏱️00:00 ⏳? ⚙️?it/s"
      ]
     },
     "metadata": {},
     "output_type": "display_data"
    },
    {
     "name": "stdout",
     "output_type": "stream",
     "text": [
      "process file  1017_Session_1_ET_1_data_dupl_clean_smooth.csv\n",
      "process file  1017_Session_1_ET_2_data_dupl_clean_smooth.csv\n",
      "process file  1017_Session_1_ET_3_data_dupl_clean_smooth.csv\n",
      "process file  1017_Session_1_ET_4_data_dupl_clean_smooth.csv\n",
      "process file  1017_Session_1_ET_5_data_dupl_clean_smooth.csv\n"
     ]
    },
    {
     "data": {
      "application/vnd.jupyter.widget-view+json": {
       "model_id": "ee5f7f7ac4444363941a4513618a9f4c",
       "version_major": 2,
       "version_minor": 0
      },
      "text/plain": [
       "📄 0 of 3 📂 ET files____________ processed:            \n",
       "              0% ⏱️00:00 ⏳? ⚙️?it/s"
      ]
     },
     "metadata": {},
     "output_type": "display_data"
    },
    {
     "name": "stdout",
     "output_type": "stream",
     "text": [
      "process file  1017_Session_2_ET_1_data_dupl_clean_smooth.csv\n",
      "process file  1017_Session_2_ET_2_data_dupl_clean_smooth.csv\n",
      "process file  1017_Session_2_ET_3_data_dupl_clean_smooth.csv\n"
     ]
    },
    {
     "data": {
      "application/vnd.jupyter.widget-view+json": {
       "model_id": "ae1aad60efe041a59a72434e4b2c3f32",
       "version_major": 2,
       "version_minor": 0
      },
      "text/plain": [
       "📄 0 of 3 📂 ET files____________ processed:            \n",
       "              0% ⏱️00:00 ⏳? ⚙️?it/s"
      ]
     },
     "metadata": {},
     "output_type": "display_data"
    },
    {
     "name": "stdout",
     "output_type": "stream",
     "text": [
      "process file  1017_Session_3_ET_1_data_dupl_clean_smooth.csv\n",
      "process file  1017_Session_3_ET_2_data_dupl_clean_smooth.csv\n",
      "process file  1017_Session_3_ET_3_data_dupl_clean_smooth.csv\n"
     ]
    },
    {
     "data": {
      "application/vnd.jupyter.widget-view+json": {
       "model_id": "1c74f04ab8f74f07b33b3241b202f441",
       "version_major": 2,
       "version_minor": 0
      },
      "text/plain": [
       "📄 0 of 3 📂 ET files____________ processed:            \n",
       "              0% ⏱️00:00 ⏳? ⚙️?it/s"
      ]
     },
     "metadata": {},
     "output_type": "display_data"
    },
    {
     "name": "stdout",
     "output_type": "stream",
     "text": [
      "process file  1017_Session_4_ET_1_data_dupl_clean_smooth.csv\n",
      "process file  1017_Session_4_ET_2_data_dupl_clean_smooth.csv\n",
      "process file  1017_Session_4_ET_3_data_dupl_clean_smooth.csv\n"
     ]
    },
    {
     "data": {
      "application/vnd.jupyter.widget-view+json": {
       "model_id": "e41c1a9b440f4c54b4c11aa807296547",
       "version_major": 2,
       "version_minor": 0
      },
      "text/plain": [
       "📄 0 of 3 📂 ET files____________ processed:            \n",
       "              0% ⏱️00:00 ⏳? ⚙️?it/s"
      ]
     },
     "metadata": {},
     "output_type": "display_data"
    },
    {
     "name": "stdout",
     "output_type": "stream",
     "text": [
      "process file  1017_Session_5_ET_1_data_dupl_clean_smooth.csv\n",
      "process file  1017_Session_5_ET_2_data_dupl_clean_smooth.csv\n",
      "process file  1017_Session_5_ET_3_data_dupl_clean_smooth.csv\n",
      "Participant 7 - participant ID 1018\n"
     ]
    },
    {
     "data": {
      "application/vnd.jupyter.widget-view+json": {
       "model_id": "cef627e0ca0b451f899e34f617d1a0e4",
       "version_major": 2,
       "version_minor": 0
      },
      "text/plain": [
       "📄 0 of 5 sessions________ processed:            \n",
       "              0% ⏱️00:00 ⏳? ⚙️?it/s"
      ]
     },
     "metadata": {},
     "output_type": "display_data"
    },
    {
     "data": {
      "application/vnd.jupyter.widget-view+json": {
       "model_id": "eed72f75fe9847b69a9e7c1cff766ac4",
       "version_major": 2,
       "version_minor": 0
      },
      "text/plain": [
       "📄 0 of 4 📂 ET files____________ processed:            \n",
       "              0% ⏱️00:00 ⏳? ⚙️?it/s"
      ]
     },
     "metadata": {},
     "output_type": "display_data"
    },
    {
     "name": "stdout",
     "output_type": "stream",
     "text": [
      "process file  1018_Session_1_ET_1_data_dupl_clean_smooth.csv\n",
      "process file  1018_Session_1_ET_2_data_dupl_clean_smooth.csv\n",
      "process file  1018_Session_1_ET_3_data_dupl_clean_smooth.csv\n",
      "process file  1018_Session_1_ET_4_data_dupl_clean_smooth.csv\n"
     ]
    },
    {
     "data": {
      "application/vnd.jupyter.widget-view+json": {
       "model_id": "d28ce762c19d478194fd4f6e46168da8",
       "version_major": 2,
       "version_minor": 0
      },
      "text/plain": [
       "📄 0 of 3 📂 ET files____________ processed:            \n",
       "              0% ⏱️00:00 ⏳? ⚙️?it/s"
      ]
     },
     "metadata": {},
     "output_type": "display_data"
    },
    {
     "name": "stdout",
     "output_type": "stream",
     "text": [
      "process file  1018_Session_2_ET_1_data_dupl_clean_smooth.csv\n",
      "process file  1018_Session_2_ET_2_data_dupl_clean_smooth.csv\n",
      "process file  1018_Session_2_ET_3_data_dupl_clean_smooth.csv\n"
     ]
    },
    {
     "data": {
      "application/vnd.jupyter.widget-view+json": {
       "model_id": "362b0554c99d433db1c58fbd436e749b",
       "version_major": 2,
       "version_minor": 0
      },
      "text/plain": [
       "📄 0 of 3 📂 ET files____________ processed:            \n",
       "              0% ⏱️00:00 ⏳? ⚙️?it/s"
      ]
     },
     "metadata": {},
     "output_type": "display_data"
    },
    {
     "name": "stdout",
     "output_type": "stream",
     "text": [
      "process file  1018_Session_3_ET_1_data_dupl_clean_smooth.csv\n",
      "process file  1018_Session_3_ET_2_data_dupl_clean_smooth.csv\n",
      "process file  1018_Session_3_ET_3_data_dupl_clean_smooth.csv\n"
     ]
    },
    {
     "data": {
      "application/vnd.jupyter.widget-view+json": {
       "model_id": "7eb253897e124fbfbbaa75008c0f0016",
       "version_major": 2,
       "version_minor": 0
      },
      "text/plain": [
       "📄 0 of 3 📂 ET files____________ processed:            \n",
       "              0% ⏱️00:00 ⏳? ⚙️?it/s"
      ]
     },
     "metadata": {},
     "output_type": "display_data"
    },
    {
     "name": "stdout",
     "output_type": "stream",
     "text": [
      "process file  1018_Session_4_ET_1_data_dupl_clean_smooth.csv\n",
      "process file  1018_Session_4_ET_2_data_dupl_clean_smooth.csv\n",
      "process file  1018_Session_4_ET_3_data_dupl_clean_smooth.csv\n"
     ]
    },
    {
     "data": {
      "application/vnd.jupyter.widget-view+json": {
       "model_id": "ef4f70ff2b334591a275bcb279aab672",
       "version_major": 2,
       "version_minor": 0
      },
      "text/plain": [
       "📄 0 of 3 📂 ET files____________ processed:            \n",
       "              0% ⏱️00:00 ⏳? ⚙️?it/s"
      ]
     },
     "metadata": {},
     "output_type": "display_data"
    },
    {
     "name": "stdout",
     "output_type": "stream",
     "text": [
      "process file  1018_Session_5_ET_1_data_dupl_clean_smooth.csv\n",
      "process file  1018_Session_5_ET_2_data_dupl_clean_smooth.csv\n",
      "process file  1018_Session_5_ET_3_data_dupl_clean_smooth.csv\n",
      "Participant 8 - participant ID 1019\n"
     ]
    },
    {
     "data": {
      "application/vnd.jupyter.widget-view+json": {
       "model_id": "ac0962c63d52411c8f2a687e1568a04e",
       "version_major": 2,
       "version_minor": 0
      },
      "text/plain": [
       "📄 0 of 5 sessions________ processed:            \n",
       "              0% ⏱️00:00 ⏳? ⚙️?it/s"
      ]
     },
     "metadata": {},
     "output_type": "display_data"
    },
    {
     "data": {
      "application/vnd.jupyter.widget-view+json": {
       "model_id": "4e39190893ab41cc938f758ae8d58492",
       "version_major": 2,
       "version_minor": 0
      },
      "text/plain": [
       "📄 0 of 3 📂 ET files____________ processed:            \n",
       "              0% ⏱️00:00 ⏳? ⚙️?it/s"
      ]
     },
     "metadata": {},
     "output_type": "display_data"
    },
    {
     "name": "stdout",
     "output_type": "stream",
     "text": [
      "process file  1019_Session_1_ET_1_data_dupl_clean_smooth.csv\n",
      "process file  1019_Session_1_ET_2_data_dupl_clean_smooth.csv\n",
      "process file  1019_Session_1_ET_3_data_dupl_clean_smooth.csv\n"
     ]
    },
    {
     "data": {
      "application/vnd.jupyter.widget-view+json": {
       "model_id": "5153b980882846e9a0f71008c24670f7",
       "version_major": 2,
       "version_minor": 0
      },
      "text/plain": [
       "📄 0 of 3 📂 ET files____________ processed:            \n",
       "              0% ⏱️00:00 ⏳? ⚙️?it/s"
      ]
     },
     "metadata": {},
     "output_type": "display_data"
    },
    {
     "name": "stdout",
     "output_type": "stream",
     "text": [
      "process file  1019_Session_2_ET_1_data_dupl_clean_smooth.csv\n",
      "process file  1019_Session_2_ET_2_data_dupl_clean_smooth.csv\n",
      "process file  1019_Session_2_ET_3_data_dupl_clean_smooth.csv\n"
     ]
    },
    {
     "data": {
      "application/vnd.jupyter.widget-view+json": {
       "model_id": "f8e610e688d3462c83127b8f4db8e369",
       "version_major": 2,
       "version_minor": 0
      },
      "text/plain": [
       "📄 0 of 3 📂 ET files____________ processed:            \n",
       "              0% ⏱️00:00 ⏳? ⚙️?it/s"
      ]
     },
     "metadata": {},
     "output_type": "display_data"
    },
    {
     "name": "stdout",
     "output_type": "stream",
     "text": [
      "process file  1019_Session_3_ET_1_data_dupl_clean_smooth.csv\n",
      "process file  1019_Session_3_ET_2_data_dupl_clean_smooth.csv\n",
      "process file  1019_Session_3_ET_3_data_dupl_clean_smooth.csv\n"
     ]
    },
    {
     "data": {
      "application/vnd.jupyter.widget-view+json": {
       "model_id": "f5f38ca4f6224d2c954459a16fdb33e4",
       "version_major": 2,
       "version_minor": 0
      },
      "text/plain": [
       "📄 0 of 4 📂 ET files____________ processed:            \n",
       "              0% ⏱️00:00 ⏳? ⚙️?it/s"
      ]
     },
     "metadata": {},
     "output_type": "display_data"
    },
    {
     "name": "stdout",
     "output_type": "stream",
     "text": [
      "process file  1019_Session_4_ET_1_data_dupl_clean_smooth.csv\n",
      "process file  1019_Session_4_ET_2_data_dupl_clean_smooth.csv\n",
      "process file  1019_Session_4_ET_3_data_dupl_clean_smooth.csv\n",
      "process file  1019_Session_4_ET_4_data_dupl_clean_smooth.csv\n"
     ]
    },
    {
     "data": {
      "application/vnd.jupyter.widget-view+json": {
       "model_id": "a8fe6166673a4e828935a51640fab76e",
       "version_major": 2,
       "version_minor": 0
      },
      "text/plain": [
       "📄 0 of 3 📂 ET files____________ processed:            \n",
       "              0% ⏱️00:00 ⏳? ⚙️?it/s"
      ]
     },
     "metadata": {},
     "output_type": "display_data"
    },
    {
     "name": "stdout",
     "output_type": "stream",
     "text": [
      "process file  1019_Session_5_ET_1_data_dupl_clean_smooth.csv\n",
      "process file  1019_Session_5_ET_2_data_dupl_clean_smooth.csv\n",
      "process file  1019_Session_5_ET_3_data_dupl_clean_smooth.csv\n",
      "Participant 9 - participant ID 1021\n"
     ]
    },
    {
     "data": {
      "application/vnd.jupyter.widget-view+json": {
       "model_id": "97dc6aec5ea549b3bf6e35df09682f8f",
       "version_major": 2,
       "version_minor": 0
      },
      "text/plain": [
       "📄 0 of 5 sessions________ processed:            \n",
       "              0% ⏱️00:00 ⏳? ⚙️?it/s"
      ]
     },
     "metadata": {},
     "output_type": "display_data"
    },
    {
     "data": {
      "application/vnd.jupyter.widget-view+json": {
       "model_id": "89f5e4acbabc478b8486390ba605561b",
       "version_major": 2,
       "version_minor": 0
      },
      "text/plain": [
       "📄 0 of 3 📂 ET files____________ processed:            \n",
       "              0% ⏱️00:00 ⏳? ⚙️?it/s"
      ]
     },
     "metadata": {},
     "output_type": "display_data"
    },
    {
     "name": "stdout",
     "output_type": "stream",
     "text": [
      "process file  1021_Session_1_ET_1_data_dupl_clean_smooth.csv\n",
      "process file  1021_Session_1_ET_2_data_dupl_clean_smooth.csv\n",
      "process file  1021_Session_1_ET_3_data_dupl_clean_smooth.csv\n"
     ]
    },
    {
     "data": {
      "application/vnd.jupyter.widget-view+json": {
       "model_id": "80bf033a709f4baab44c9ea8d2a1bc7a",
       "version_major": 2,
       "version_minor": 0
      },
      "text/plain": [
       "📄 0 of 3 📂 ET files____________ processed:            \n",
       "              0% ⏱️00:00 ⏳? ⚙️?it/s"
      ]
     },
     "metadata": {},
     "output_type": "display_data"
    },
    {
     "name": "stdout",
     "output_type": "stream",
     "text": [
      "process file  1021_Session_2_ET_1_data_dupl_clean_smooth.csv\n",
      "process file  1021_Session_2_ET_2_data_dupl_clean_smooth.csv\n",
      "process file  1021_Session_2_ET_3_data_dupl_clean_smooth.csv\n"
     ]
    },
    {
     "data": {
      "application/vnd.jupyter.widget-view+json": {
       "model_id": "7346b1c5421f4d81b19358e83184d2a0",
       "version_major": 2,
       "version_minor": 0
      },
      "text/plain": [
       "📄 0 of 3 📂 ET files____________ processed:            \n",
       "              0% ⏱️00:00 ⏳? ⚙️?it/s"
      ]
     },
     "metadata": {},
     "output_type": "display_data"
    },
    {
     "name": "stdout",
     "output_type": "stream",
     "text": [
      "process file  1021_Session_3_ET_1_data_dupl_clean_smooth.csv\n",
      "process file  1021_Session_3_ET_2_data_dupl_clean_smooth.csv\n",
      "process file  1021_Session_3_ET_3_data_dupl_clean_smooth.csv\n"
     ]
    },
    {
     "data": {
      "application/vnd.jupyter.widget-view+json": {
       "model_id": "cfbb6a5340b4413ca5821d9414cd44c3",
       "version_major": 2,
       "version_minor": 0
      },
      "text/plain": [
       "📄 0 of 3 📂 ET files____________ processed:            \n",
       "              0% ⏱️00:00 ⏳? ⚙️?it/s"
      ]
     },
     "metadata": {},
     "output_type": "display_data"
    },
    {
     "name": "stdout",
     "output_type": "stream",
     "text": [
      "process file  1021_Session_4_ET_1_data_dupl_clean_smooth.csv\n",
      "process file  1021_Session_4_ET_2_data_dupl_clean_smooth.csv\n",
      "process file  1021_Session_4_ET_3_data_dupl_clean_smooth.csv\n"
     ]
    },
    {
     "data": {
      "application/vnd.jupyter.widget-view+json": {
       "model_id": "5acf004f6f5b4917a411df49c8dce68c",
       "version_major": 2,
       "version_minor": 0
      },
      "text/plain": [
       "📄 0 of 4 📂 ET files____________ processed:            \n",
       "              0% ⏱️00:00 ⏳? ⚙️?it/s"
      ]
     },
     "metadata": {},
     "output_type": "display_data"
    },
    {
     "name": "stdout",
     "output_type": "stream",
     "text": [
      "process file  1021_Session_5_ET_1_data_dupl_clean_smooth.csv\n",
      "process file  1021_Session_5_ET_2_data_dupl_clean_smooth.csv\n",
      "process file  1021_Session_5_ET_3_data_dupl_clean_smooth.csv\n",
      "process file  1021_Session_5_ET_4_data_dupl_clean_smooth.csv\n",
      "Participant 10 - participant ID 1022\n"
     ]
    },
    {
     "data": {
      "application/vnd.jupyter.widget-view+json": {
       "model_id": "2b767c0a5de84a33a6161f6ba74f89d6",
       "version_major": 2,
       "version_minor": 0
      },
      "text/plain": [
       "📄 0 of 5 sessions________ processed:            \n",
       "              0% ⏱️00:00 ⏳? ⚙️?it/s"
      ]
     },
     "metadata": {},
     "output_type": "display_data"
    },
    {
     "data": {
      "application/vnd.jupyter.widget-view+json": {
       "model_id": "ddf4f0b64d6a41d6958c331bc00ecb57",
       "version_major": 2,
       "version_minor": 0
      },
      "text/plain": [
       "📄 0 of 3 📂 ET files____________ processed:            \n",
       "              0% ⏱️00:00 ⏳? ⚙️?it/s"
      ]
     },
     "metadata": {},
     "output_type": "display_data"
    },
    {
     "name": "stdout",
     "output_type": "stream",
     "text": [
      "process file  1022_Session_1_ET_1_data_dupl_clean_smooth.csv\n",
      "process file  1022_Session_1_ET_2_data_dupl_clean_smooth.csv\n",
      "process file  1022_Session_1_ET_3_data_dupl_clean_smooth.csv\n"
     ]
    },
    {
     "data": {
      "application/vnd.jupyter.widget-view+json": {
       "model_id": "a260a2dfe5104ff686d461f7ef0daf45",
       "version_major": 2,
       "version_minor": 0
      },
      "text/plain": [
       "📄 0 of 3 📂 ET files____________ processed:            \n",
       "              0% ⏱️00:00 ⏳? ⚙️?it/s"
      ]
     },
     "metadata": {},
     "output_type": "display_data"
    },
    {
     "name": "stdout",
     "output_type": "stream",
     "text": [
      "process file  1022_Session_2_ET_1_data_dupl_clean_smooth.csv\n",
      "process file  1022_Session_2_ET_2_data_dupl_clean_smooth.csv\n",
      "process file  1022_Session_2_ET_3_data_dupl_clean_smooth.csv\n"
     ]
    },
    {
     "data": {
      "application/vnd.jupyter.widget-view+json": {
       "model_id": "bc449a4c964b4d3cb97b0d44efccd2bd",
       "version_major": 2,
       "version_minor": 0
      },
      "text/plain": [
       "📄 0 of 3 📂 ET files____________ processed:            \n",
       "              0% ⏱️00:00 ⏳? ⚙️?it/s"
      ]
     },
     "metadata": {},
     "output_type": "display_data"
    },
    {
     "name": "stdout",
     "output_type": "stream",
     "text": [
      "process file  1022_Session_3_ET_1_data_dupl_clean_smooth.csv\n",
      "process file  1022_Session_3_ET_2_data_dupl_clean_smooth.csv\n",
      "process file  1022_Session_3_ET_3_data_dupl_clean_smooth.csv\n"
     ]
    },
    {
     "data": {
      "application/vnd.jupyter.widget-view+json": {
       "model_id": "a75a00915d654214988c699a0854976e",
       "version_major": 2,
       "version_minor": 0
      },
      "text/plain": [
       "📄 0 of 3 📂 ET files____________ processed:            \n",
       "              0% ⏱️00:00 ⏳? ⚙️?it/s"
      ]
     },
     "metadata": {},
     "output_type": "display_data"
    },
    {
     "name": "stdout",
     "output_type": "stream",
     "text": [
      "process file  1022_Session_4_ET_1_data_dupl_clean_smooth.csv\n",
      "process file  1022_Session_4_ET_2_data_dupl_clean_smooth.csv\n",
      "process file  1022_Session_4_ET_3_data_dupl_clean_smooth.csv\n"
     ]
    },
    {
     "data": {
      "application/vnd.jupyter.widget-view+json": {
       "model_id": "8921a954a42d426a90366fa7ce545748",
       "version_major": 2,
       "version_minor": 0
      },
      "text/plain": [
       "📄 0 of 3 📂 ET files____________ processed:            \n",
       "              0% ⏱️00:00 ⏳? ⚙️?it/s"
      ]
     },
     "metadata": {},
     "output_type": "display_data"
    },
    {
     "name": "stdout",
     "output_type": "stream",
     "text": [
      "process file  1022_Session_5_ET_1_data_dupl_clean_smooth.csv\n",
      "process file  1022_Session_5_ET_2_data_dupl_clean_smooth.csv\n",
      "process file  1022_Session_5_ET_3_data_dupl_clean_smooth.csv\n",
      "Participant 11 - participant ID 1023\n"
     ]
    },
    {
     "data": {
      "application/vnd.jupyter.widget-view+json": {
       "model_id": "74babe3ba84f4f4bab27034165b7b8d4",
       "version_major": 2,
       "version_minor": 0
      },
      "text/plain": [
       "📄 0 of 5 sessions________ processed:            \n",
       "              0% ⏱️00:00 ⏳? ⚙️?it/s"
      ]
     },
     "metadata": {},
     "output_type": "display_data"
    },
    {
     "data": {
      "application/vnd.jupyter.widget-view+json": {
       "model_id": "83e3836a438b4d3f8cf31fd6caecd326",
       "version_major": 2,
       "version_minor": 0
      },
      "text/plain": [
       "📄 0 of 3 📂 ET files____________ processed:            \n",
       "              0% ⏱️00:00 ⏳? ⚙️?it/s"
      ]
     },
     "metadata": {},
     "output_type": "display_data"
    },
    {
     "name": "stdout",
     "output_type": "stream",
     "text": [
      "process file  1023_Session_1_ET_1_data_dupl_clean_smooth.csv\n",
      "process file  1023_Session_1_ET_2_data_dupl_clean_smooth.csv\n",
      "process file  1023_Session_1_ET_3_data_dupl_clean_smooth.csv\n"
     ]
    },
    {
     "data": {
      "application/vnd.jupyter.widget-view+json": {
       "model_id": "d32cb32534354fb49768f8537115b2fd",
       "version_major": 2,
       "version_minor": 0
      },
      "text/plain": [
       "📄 0 of 3 📂 ET files____________ processed:            \n",
       "              0% ⏱️00:00 ⏳? ⚙️?it/s"
      ]
     },
     "metadata": {},
     "output_type": "display_data"
    },
    {
     "name": "stdout",
     "output_type": "stream",
     "text": [
      "process file  1023_Session_2_ET_1_data_dupl_clean_smooth.csv\n",
      "process file  1023_Session_2_ET_2_data_dupl_clean_smooth.csv\n",
      "process file  1023_Session_2_ET_3_data_dupl_clean_smooth.csv\n"
     ]
    },
    {
     "data": {
      "application/vnd.jupyter.widget-view+json": {
       "model_id": "0a26860a4d1d4f94a0e8d67b99b772d0",
       "version_major": 2,
       "version_minor": 0
      },
      "text/plain": [
       "📄 0 of 3 📂 ET files____________ processed:            \n",
       "              0% ⏱️00:00 ⏳? ⚙️?it/s"
      ]
     },
     "metadata": {},
     "output_type": "display_data"
    },
    {
     "name": "stdout",
     "output_type": "stream",
     "text": [
      "process file  1023_Session_3_ET_1_data_dupl_clean_smooth.csv\n",
      "process file  1023_Session_3_ET_2_data_dupl_clean_smooth.csv\n",
      "process file  1023_Session_3_ET_3_data_dupl_clean_smooth.csv\n"
     ]
    },
    {
     "data": {
      "application/vnd.jupyter.widget-view+json": {
       "model_id": "8e8e4af651804f76bde70f78085491d8",
       "version_major": 2,
       "version_minor": 0
      },
      "text/plain": [
       "📄 0 of 3 📂 ET files____________ processed:            \n",
       "              0% ⏱️00:00 ⏳? ⚙️?it/s"
      ]
     },
     "metadata": {},
     "output_type": "display_data"
    },
    {
     "name": "stdout",
     "output_type": "stream",
     "text": [
      "process file  1023_Session_4_ET_1_data_dupl_clean_smooth.csv\n",
      "process file  1023_Session_4_ET_2_data_dupl_clean_smooth.csv\n",
      "process file  1023_Session_4_ET_3_data_dupl_clean_smooth.csv\n"
     ]
    },
    {
     "data": {
      "application/vnd.jupyter.widget-view+json": {
       "model_id": "fc3cb0666c064a26b600ae6683715ee3",
       "version_major": 2,
       "version_minor": 0
      },
      "text/plain": [
       "📄 0 of 3 📂 ET files____________ processed:            \n",
       "              0% ⏱️00:00 ⏳? ⚙️?it/s"
      ]
     },
     "metadata": {},
     "output_type": "display_data"
    },
    {
     "name": "stdout",
     "output_type": "stream",
     "text": [
      "process file  1023_Session_5_ET_1_data_dupl_clean_smooth.csv\n",
      "process file  1023_Session_5_ET_2_data_dupl_clean_smooth.csv\n",
      "process file  1023_Session_5_ET_3_data_dupl_clean_smooth.csv\n",
      "Participant 12 - participant ID 1054\n"
     ]
    },
    {
     "data": {
      "application/vnd.jupyter.widget-view+json": {
       "model_id": "6d41dd7ac3244a7286faa4ea1bb0f58e",
       "version_major": 2,
       "version_minor": 0
      },
      "text/plain": [
       "📄 0 of 5 sessions________ processed:            \n",
       "              0% ⏱️00:00 ⏳? ⚙️?it/s"
      ]
     },
     "metadata": {},
     "output_type": "display_data"
    },
    {
     "data": {
      "application/vnd.jupyter.widget-view+json": {
       "model_id": "854bfda2ebbe44a196708fbc4f0b3b7d",
       "version_major": 2,
       "version_minor": 0
      },
      "text/plain": [
       "📄 0 of 3 📂 ET files____________ processed:            \n",
       "              0% ⏱️00:00 ⏳? ⚙️?it/s"
      ]
     },
     "metadata": {},
     "output_type": "display_data"
    },
    {
     "name": "stdout",
     "output_type": "stream",
     "text": [
      "process file  1054_Session_1_ET_1_data_dupl_clean_smooth.csv\n",
      "process file  1054_Session_1_ET_2_data_dupl_clean_smooth.csv\n",
      "process file  1054_Session_1_ET_3_data_dupl_clean_smooth.csv\n"
     ]
    },
    {
     "data": {
      "application/vnd.jupyter.widget-view+json": {
       "model_id": "a9403639bef94951992c909f68036b43",
       "version_major": 2,
       "version_minor": 0
      },
      "text/plain": [
       "📄 0 of 3 📂 ET files____________ processed:            \n",
       "              0% ⏱️00:00 ⏳? ⚙️?it/s"
      ]
     },
     "metadata": {},
     "output_type": "display_data"
    },
    {
     "name": "stdout",
     "output_type": "stream",
     "text": [
      "process file  1054_Session_2_ET_1_data_dupl_clean_smooth.csv\n",
      "process file  1054_Session_2_ET_2_data_dupl_clean_smooth.csv\n",
      "process file  1054_Session_2_ET_3_data_dupl_clean_smooth.csv\n"
     ]
    },
    {
     "data": {
      "application/vnd.jupyter.widget-view+json": {
       "model_id": "9ade67e38fed4ab383e22feaa9a0ae23",
       "version_major": 2,
       "version_minor": 0
      },
      "text/plain": [
       "📄 0 of 3 📂 ET files____________ processed:            \n",
       "              0% ⏱️00:00 ⏳? ⚙️?it/s"
      ]
     },
     "metadata": {},
     "output_type": "display_data"
    },
    {
     "name": "stdout",
     "output_type": "stream",
     "text": [
      "process file  1054_Session_3_ET_1_data_dupl_clean_smooth.csv\n",
      "process file  1054_Session_3_ET_2_data_dupl_clean_smooth.csv\n",
      "process file  1054_Session_3_ET_3_data_dupl_clean_smooth.csv\n"
     ]
    },
    {
     "data": {
      "application/vnd.jupyter.widget-view+json": {
       "model_id": "dc6b7ff91e624cf1ac97c8dd2bb8b011",
       "version_major": 2,
       "version_minor": 0
      },
      "text/plain": [
       "📄 0 of 3 📂 ET files____________ processed:            \n",
       "              0% ⏱️00:00 ⏳? ⚙️?it/s"
      ]
     },
     "metadata": {},
     "output_type": "display_data"
    },
    {
     "name": "stdout",
     "output_type": "stream",
     "text": [
      "process file  1054_Session_4_ET_1_data_dupl_clean_smooth.csv\n",
      "process file  1054_Session_4_ET_2_data_dupl_clean_smooth.csv\n",
      "process file  1054_Session_4_ET_3_data_dupl_clean_smooth.csv\n"
     ]
    },
    {
     "data": {
      "application/vnd.jupyter.widget-view+json": {
       "model_id": "ebeead4435dc402daca510f9cc1fddfa",
       "version_major": 2,
       "version_minor": 0
      },
      "text/plain": [
       "📄 0 of 3 📂 ET files____________ processed:            \n",
       "              0% ⏱️00:00 ⏳? ⚙️?it/s"
      ]
     },
     "metadata": {},
     "output_type": "display_data"
    },
    {
     "name": "stdout",
     "output_type": "stream",
     "text": [
      "process file  1054_Session_5_ET_1_data_dupl_clean_smooth.csv\n",
      "process file  1054_Session_5_ET_2_data_dupl_clean_smooth.csv\n",
      "process file  1054_Session_5_ET_3_data_dupl_clean_smooth.csv\n",
      "Participant 13 - participant ID 1055\n"
     ]
    },
    {
     "data": {
      "application/vnd.jupyter.widget-view+json": {
       "model_id": "5743b60a890545fc9e4b523b7a453614",
       "version_major": 2,
       "version_minor": 0
      },
      "text/plain": [
       "📄 0 of 5 sessions________ processed:            \n",
       "              0% ⏱️00:00 ⏳? ⚙️?it/s"
      ]
     },
     "metadata": {},
     "output_type": "display_data"
    },
    {
     "data": {
      "application/vnd.jupyter.widget-view+json": {
       "model_id": "19af33d505084b999c2a0161af2b70ca",
       "version_major": 2,
       "version_minor": 0
      },
      "text/plain": [
       "📄 0 of 3 📂 ET files____________ processed:            \n",
       "              0% ⏱️00:00 ⏳? ⚙️?it/s"
      ]
     },
     "metadata": {},
     "output_type": "display_data"
    },
    {
     "name": "stdout",
     "output_type": "stream",
     "text": [
      "process file  1055_Session_1_ET_1_data_dupl_clean_smooth.csv\n",
      "process file  1055_Session_1_ET_2_data_dupl_clean_smooth.csv\n",
      "process file  1055_Session_1_ET_3_data_dupl_clean_smooth.csv\n"
     ]
    },
    {
     "data": {
      "application/vnd.jupyter.widget-view+json": {
       "model_id": "298c07df70c14290b72f03f83eb71a87",
       "version_major": 2,
       "version_minor": 0
      },
      "text/plain": [
       "📄 0 of 3 📂 ET files____________ processed:            \n",
       "              0% ⏱️00:00 ⏳? ⚙️?it/s"
      ]
     },
     "metadata": {},
     "output_type": "display_data"
    },
    {
     "name": "stdout",
     "output_type": "stream",
     "text": [
      "process file  1055_Session_2_ET_1_data_dupl_clean_smooth.csv\n",
      "process file  1055_Session_2_ET_2_data_dupl_clean_smooth.csv\n",
      "process file  1055_Session_2_ET_3_data_dupl_clean_smooth.csv\n"
     ]
    },
    {
     "data": {
      "application/vnd.jupyter.widget-view+json": {
       "model_id": "f3c7bf6a042643b2a3676bfa5bb95147",
       "version_major": 2,
       "version_minor": 0
      },
      "text/plain": [
       "📄 0 of 3 📂 ET files____________ processed:            \n",
       "              0% ⏱️00:00 ⏳? ⚙️?it/s"
      ]
     },
     "metadata": {},
     "output_type": "display_data"
    },
    {
     "name": "stdout",
     "output_type": "stream",
     "text": [
      "process file  1055_Session_3_ET_1_data_dupl_clean_smooth.csv\n",
      "process file  1055_Session_3_ET_2_data_dupl_clean_smooth.csv\n",
      "process file  1055_Session_3_ET_3_data_dupl_clean_smooth.csv\n"
     ]
    },
    {
     "data": {
      "application/vnd.jupyter.widget-view+json": {
       "model_id": "a90de83ae98640e4a08cd2f7a562c11b",
       "version_major": 2,
       "version_minor": 0
      },
      "text/plain": [
       "📄 0 of 4 📂 ET files____________ processed:            \n",
       "              0% ⏱️00:00 ⏳? ⚙️?it/s"
      ]
     },
     "metadata": {},
     "output_type": "display_data"
    },
    {
     "name": "stdout",
     "output_type": "stream",
     "text": [
      "process file  1055_Session_4_ET_1_data_dupl_clean_smooth.csv\n",
      "process file  1055_Session_4_ET_2_data_dupl_clean_smooth.csv\n",
      "process file  1055_Session_4_ET_3_data_dupl_clean_smooth.csv\n",
      "process file  1055_Session_4_ET_4_data_dupl_clean_smooth.csv\n"
     ]
    },
    {
     "data": {
      "application/vnd.jupyter.widget-view+json": {
       "model_id": "33c7d6b13cd240e59c80b6b01ec444af",
       "version_major": 2,
       "version_minor": 0
      },
      "text/plain": [
       "📄 0 of 3 📂 ET files____________ processed:            \n",
       "              0% ⏱️00:00 ⏳? ⚙️?it/s"
      ]
     },
     "metadata": {},
     "output_type": "display_data"
    },
    {
     "name": "stdout",
     "output_type": "stream",
     "text": [
      "process file  1055_Session_5_ET_1_data_dupl_clean_smooth.csv\n",
      "process file  1055_Session_5_ET_2_data_dupl_clean_smooth.csv\n",
      "process file  1055_Session_5_ET_3_data_dupl_clean_smooth.csv\n",
      "Participant 14 - participant ID 1056\n"
     ]
    },
    {
     "data": {
      "application/vnd.jupyter.widget-view+json": {
       "model_id": "e6e2637f43324a3baafb044b71c40647",
       "version_major": 2,
       "version_minor": 0
      },
      "text/plain": [
       "📄 0 of 5 sessions________ processed:            \n",
       "              0% ⏱️00:00 ⏳? ⚙️?it/s"
      ]
     },
     "metadata": {},
     "output_type": "display_data"
    },
    {
     "data": {
      "application/vnd.jupyter.widget-view+json": {
       "model_id": "468c75bceaf54e6dbb639244de7cfb0d",
       "version_major": 2,
       "version_minor": 0
      },
      "text/plain": [
       "📄 0 of 3 📂 ET files____________ processed:            \n",
       "              0% ⏱️00:00 ⏳? ⚙️?it/s"
      ]
     },
     "metadata": {},
     "output_type": "display_data"
    },
    {
     "name": "stdout",
     "output_type": "stream",
     "text": [
      "process file  1056_Session_1_ET_1_data_dupl_clean_smooth.csv\n",
      "process file  1056_Session_1_ET_2_data_dupl_clean_smooth.csv\n",
      "process file  1056_Session_1_ET_3_data_dupl_clean_smooth.csv\n"
     ]
    },
    {
     "data": {
      "application/vnd.jupyter.widget-view+json": {
       "model_id": "72fb8880a51842b0863f0f78d884406b",
       "version_major": 2,
       "version_minor": 0
      },
      "text/plain": [
       "📄 0 of 3 📂 ET files____________ processed:            \n",
       "              0% ⏱️00:00 ⏳? ⚙️?it/s"
      ]
     },
     "metadata": {},
     "output_type": "display_data"
    },
    {
     "name": "stdout",
     "output_type": "stream",
     "text": [
      "process file  1056_Session_2_ET_1_data_dupl_clean_smooth.csv\n",
      "process file  1056_Session_2_ET_2_data_dupl_clean_smooth.csv\n",
      "process file  1056_Session_2_ET_3_data_dupl_clean_smooth.csv\n"
     ]
    },
    {
     "data": {
      "application/vnd.jupyter.widget-view+json": {
       "model_id": "83c35bd4079a4212a8b983b3dfeb4e58",
       "version_major": 2,
       "version_minor": 0
      },
      "text/plain": [
       "📄 0 of 3 📂 ET files____________ processed:            \n",
       "              0% ⏱️00:00 ⏳? ⚙️?it/s"
      ]
     },
     "metadata": {},
     "output_type": "display_data"
    },
    {
     "name": "stdout",
     "output_type": "stream",
     "text": [
      "process file  1056_Session_3_ET_1_data_dupl_clean_smooth.csv\n",
      "process file  1056_Session_3_ET_2_data_dupl_clean_smooth.csv\n",
      "process file  1056_Session_3_ET_3_data_dupl_clean_smooth.csv\n"
     ]
    },
    {
     "data": {
      "application/vnd.jupyter.widget-view+json": {
       "model_id": "cf3de0e6afc8468e8280add5d602570e",
       "version_major": 2,
       "version_minor": 0
      },
      "text/plain": [
       "📄 0 of 3 📂 ET files____________ processed:            \n",
       "              0% ⏱️00:00 ⏳? ⚙️?it/s"
      ]
     },
     "metadata": {},
     "output_type": "display_data"
    },
    {
     "name": "stdout",
     "output_type": "stream",
     "text": [
      "process file  1056_Session_4_ET_1_data_dupl_clean_smooth.csv\n",
      "process file  1056_Session_4_ET_2_data_dupl_clean_smooth.csv\n",
      "process file  1056_Session_4_ET_3_data_dupl_clean_smooth.csv\n"
     ]
    },
    {
     "data": {
      "application/vnd.jupyter.widget-view+json": {
       "model_id": "5c53b37686f3446cb4f0404e8660de07",
       "version_major": 2,
       "version_minor": 0
      },
      "text/plain": [
       "📄 0 of 3 📂 ET files____________ processed:            \n",
       "              0% ⏱️00:00 ⏳? ⚙️?it/s"
      ]
     },
     "metadata": {},
     "output_type": "display_data"
    },
    {
     "name": "stdout",
     "output_type": "stream",
     "text": [
      "process file  1056_Session_5_ET_1_data_dupl_clean_smooth.csv\n",
      "process file  1056_Session_5_ET_2_data_dupl_clean_smooth.csv\n",
      "process file  1056_Session_5_ET_3_data_dupl_clean_smooth.csv\n",
      "Participant 15 - participant ID 1057\n"
     ]
    },
    {
     "data": {
      "application/vnd.jupyter.widget-view+json": {
       "model_id": "2d1c6a70abd94fb8ad7d8bd4fa0ae9fb",
       "version_major": 2,
       "version_minor": 0
      },
      "text/plain": [
       "📄 0 of 5 sessions________ processed:            \n",
       "              0% ⏱️00:00 ⏳? ⚙️?it/s"
      ]
     },
     "metadata": {},
     "output_type": "display_data"
    },
    {
     "data": {
      "application/vnd.jupyter.widget-view+json": {
       "model_id": "2cee7ff4c141456894eea5ce92e95ad8",
       "version_major": 2,
       "version_minor": 0
      },
      "text/plain": [
       "📄 0 of 3 📂 ET files____________ processed:            \n",
       "              0% ⏱️00:00 ⏳? ⚙️?it/s"
      ]
     },
     "metadata": {},
     "output_type": "display_data"
    },
    {
     "name": "stdout",
     "output_type": "stream",
     "text": [
      "process file  1057_Session_1_ET_1_data_dupl_clean_smooth.csv\n",
      "process file  1057_Session_1_ET_2_data_dupl_clean_smooth.csv\n",
      "process file  1057_Session_1_ET_3_data_dupl_clean_smooth.csv\n"
     ]
    },
    {
     "data": {
      "application/vnd.jupyter.widget-view+json": {
       "model_id": "c92d14a64fd94571b8ccc486cd83ef94",
       "version_major": 2,
       "version_minor": 0
      },
      "text/plain": [
       "📄 0 of 3 📂 ET files____________ processed:            \n",
       "              0% ⏱️00:00 ⏳? ⚙️?it/s"
      ]
     },
     "metadata": {},
     "output_type": "display_data"
    },
    {
     "name": "stdout",
     "output_type": "stream",
     "text": [
      "process file  1057_Session_2_ET_1_data_dupl_clean_smooth.csv\n",
      "process file  1057_Session_2_ET_2_data_dupl_clean_smooth.csv\n",
      "process file  1057_Session_2_ET_3_data_dupl_clean_smooth.csv\n"
     ]
    },
    {
     "data": {
      "application/vnd.jupyter.widget-view+json": {
       "model_id": "6a94905afdc34d04bb2793340e4bb31e",
       "version_major": 2,
       "version_minor": 0
      },
      "text/plain": [
       "📄 0 of 3 📂 ET files____________ processed:            \n",
       "              0% ⏱️00:00 ⏳? ⚙️?it/s"
      ]
     },
     "metadata": {},
     "output_type": "display_data"
    },
    {
     "name": "stdout",
     "output_type": "stream",
     "text": [
      "process file  1057_Session_3_ET_1_data_dupl_clean_smooth.csv\n",
      "process file  1057_Session_3_ET_2_data_dupl_clean_smooth.csv\n",
      "process file  1057_Session_3_ET_3_data_dupl_clean_smooth.csv\n"
     ]
    },
    {
     "data": {
      "application/vnd.jupyter.widget-view+json": {
       "model_id": "c7533666ae6041d5bc5c7c982df04a01",
       "version_major": 2,
       "version_minor": 0
      },
      "text/plain": [
       "📄 0 of 3 📂 ET files____________ processed:            \n",
       "              0% ⏱️00:00 ⏳? ⚙️?it/s"
      ]
     },
     "metadata": {},
     "output_type": "display_data"
    },
    {
     "name": "stdout",
     "output_type": "stream",
     "text": [
      "process file  1057_Session_4_ET_1_data_dupl_clean_smooth.csv\n",
      "process file  1057_Session_4_ET_2_data_dupl_clean_smooth.csv\n",
      "process file  1057_Session_4_ET_3_data_dupl_clean_smooth.csv\n"
     ]
    },
    {
     "data": {
      "application/vnd.jupyter.widget-view+json": {
       "model_id": "10989617d1314b1abbf333b67b603842",
       "version_major": 2,
       "version_minor": 0
      },
      "text/plain": [
       "📄 0 of 3 📂 ET files____________ processed:            \n",
       "              0% ⏱️00:00 ⏳? ⚙️?it/s"
      ]
     },
     "metadata": {},
     "output_type": "display_data"
    },
    {
     "name": "stdout",
     "output_type": "stream",
     "text": [
      "process file  1057_Session_5_ET_1_data_dupl_clean_smooth.csv\n",
      "process file  1057_Session_5_ET_2_data_dupl_clean_smooth.csv\n",
      "process file  1057_Session_5_ET_3_data_dupl_clean_smooth.csv\n",
      "Participant 16 - participant ID 1058\n"
     ]
    },
    {
     "data": {
      "application/vnd.jupyter.widget-view+json": {
       "model_id": "a7d2b6d814c547bca45b3e240362d505",
       "version_major": 2,
       "version_minor": 0
      },
      "text/plain": [
       "📄 0 of 5 sessions________ processed:            \n",
       "              0% ⏱️00:00 ⏳? ⚙️?it/s"
      ]
     },
     "metadata": {},
     "output_type": "display_data"
    },
    {
     "data": {
      "application/vnd.jupyter.widget-view+json": {
       "model_id": "fdefe4205d8243b199390db064de889b",
       "version_major": 2,
       "version_minor": 0
      },
      "text/plain": [
       "📄 0 of 4 📂 ET files____________ processed:            \n",
       "              0% ⏱️00:00 ⏳? ⚙️?it/s"
      ]
     },
     "metadata": {},
     "output_type": "display_data"
    },
    {
     "name": "stdout",
     "output_type": "stream",
     "text": [
      "process file  1058_Session_1_ET_1_data_dupl_clean_smooth.csv\n",
      "process file  1058_Session_1_ET_2_data_dupl_clean_smooth.csv\n",
      "process file  1058_Session_1_ET_3_data_dupl_clean_smooth.csv\n",
      "process file  1058_Session_1_ET_4_data_dupl_clean_smooth.csv\n"
     ]
    },
    {
     "data": {
      "application/vnd.jupyter.widget-view+json": {
       "model_id": "814ef5c182cd4ba58f407653ab5c9b95",
       "version_major": 2,
       "version_minor": 0
      },
      "text/plain": [
       "📄 0 of 3 📂 ET files____________ processed:            \n",
       "              0% ⏱️00:00 ⏳? ⚙️?it/s"
      ]
     },
     "metadata": {},
     "output_type": "display_data"
    },
    {
     "name": "stdout",
     "output_type": "stream",
     "text": [
      "process file  1058_Session_2_ET_1_data_dupl_clean_smooth.csv\n",
      "process file  1058_Session_2_ET_2_data_dupl_clean_smooth.csv\n",
      "process file  1058_Session_2_ET_3_data_dupl_clean_smooth.csv\n"
     ]
    },
    {
     "data": {
      "application/vnd.jupyter.widget-view+json": {
       "model_id": "c06c16327f054a74b7687fdae19ca773",
       "version_major": 2,
       "version_minor": 0
      },
      "text/plain": [
       "📄 0 of 3 📂 ET files____________ processed:            \n",
       "              0% ⏱️00:00 ⏳? ⚙️?it/s"
      ]
     },
     "metadata": {},
     "output_type": "display_data"
    },
    {
     "name": "stdout",
     "output_type": "stream",
     "text": [
      "process file  1058_Session_3_ET_1_data_dupl_clean_smooth.csv\n",
      "process file  1058_Session_3_ET_2_data_dupl_clean_smooth.csv\n",
      "process file  1058_Session_3_ET_3_data_dupl_clean_smooth.csv\n"
     ]
    },
    {
     "data": {
      "application/vnd.jupyter.widget-view+json": {
       "model_id": "c3df98b7f89b419ea519b8b21891883b",
       "version_major": 2,
       "version_minor": 0
      },
      "text/plain": [
       "📄 0 of 3 📂 ET files____________ processed:            \n",
       "              0% ⏱️00:00 ⏳? ⚙️?it/s"
      ]
     },
     "metadata": {},
     "output_type": "display_data"
    },
    {
     "name": "stdout",
     "output_type": "stream",
     "text": [
      "process file  1058_Session_4_ET_1_data_dupl_clean_smooth.csv\n",
      "process file  1058_Session_4_ET_2_data_dupl_clean_smooth.csv\n",
      "process file  1058_Session_4_ET_3_data_dupl_clean_smooth.csv\n"
     ]
    },
    {
     "data": {
      "application/vnd.jupyter.widget-view+json": {
       "model_id": "720ec15a8f534628b99e4e27cbfa0b8a",
       "version_major": 2,
       "version_minor": 0
      },
      "text/plain": [
       "📄 0 of 3 📂 ET files____________ processed:            \n",
       "              0% ⏱️00:00 ⏳? ⚙️?it/s"
      ]
     },
     "metadata": {},
     "output_type": "display_data"
    },
    {
     "name": "stdout",
     "output_type": "stream",
     "text": [
      "process file  1058_Session_5_ET_1_data_dupl_clean_smooth.csv\n",
      "process file  1058_Session_5_ET_2_data_dupl_clean_smooth.csv\n",
      "process file  1058_Session_5_ET_3_data_dupl_clean_smooth.csv\n",
      "Participant 17 - participant ID 1068\n"
     ]
    },
    {
     "data": {
      "application/vnd.jupyter.widget-view+json": {
       "model_id": "9a10bd50d66d4233b50680ec91f5fd1f",
       "version_major": 2,
       "version_minor": 0
      },
      "text/plain": [
       "📄 0 of 5 sessions________ processed:            \n",
       "              0% ⏱️00:00 ⏳? ⚙️?it/s"
      ]
     },
     "metadata": {},
     "output_type": "display_data"
    },
    {
     "data": {
      "application/vnd.jupyter.widget-view+json": {
       "model_id": "2418fd68bb464bc0b5e93d8b924c7687",
       "version_major": 2,
       "version_minor": 0
      },
      "text/plain": [
       "📄 0 of 4 📂 ET files____________ processed:            \n",
       "              0% ⏱️00:00 ⏳? ⚙️?it/s"
      ]
     },
     "metadata": {},
     "output_type": "display_data"
    },
    {
     "name": "stdout",
     "output_type": "stream",
     "text": [
      "process file  1068_Session_1_ET_1_data_dupl_clean_smooth.csv\n",
      "process file  1068_Session_1_ET_2_data_dupl_clean_smooth.csv\n",
      "process file  1068_Session_1_ET_3_data_dupl_clean_smooth.csv\n",
      "process file  1068_Session_1_ET_4_data_dupl_clean_smooth.csv\n"
     ]
    },
    {
     "data": {
      "application/vnd.jupyter.widget-view+json": {
       "model_id": "e67aafe094e44f979a80da784d20fdd4",
       "version_major": 2,
       "version_minor": 0
      },
      "text/plain": [
       "📄 0 of 3 📂 ET files____________ processed:            \n",
       "              0% ⏱️00:00 ⏳? ⚙️?it/s"
      ]
     },
     "metadata": {},
     "output_type": "display_data"
    },
    {
     "name": "stdout",
     "output_type": "stream",
     "text": [
      "process file  1068_Session_2_ET_1_data_dupl_clean_smooth.csv\n",
      "process file  1068_Session_2_ET_2_data_dupl_clean_smooth.csv\n",
      "process file  1068_Session_2_ET_3_data_dupl_clean_smooth.csv\n"
     ]
    },
    {
     "data": {
      "application/vnd.jupyter.widget-view+json": {
       "model_id": "66673038f59246e49324ad3cca77e553",
       "version_major": 2,
       "version_minor": 0
      },
      "text/plain": [
       "📄 0 of 3 📂 ET files____________ processed:            \n",
       "              0% ⏱️00:00 ⏳? ⚙️?it/s"
      ]
     },
     "metadata": {},
     "output_type": "display_data"
    },
    {
     "name": "stdout",
     "output_type": "stream",
     "text": [
      "process file  1068_Session_3_ET_1_data_dupl_clean_smooth.csv\n",
      "process file  1068_Session_3_ET_2_data_dupl_clean_smooth.csv\n",
      "process file  1068_Session_3_ET_3_data_dupl_clean_smooth.csv\n"
     ]
    },
    {
     "data": {
      "application/vnd.jupyter.widget-view+json": {
       "model_id": "e6104c06c7f2485c87487ec30cc07f2b",
       "version_major": 2,
       "version_minor": 0
      },
      "text/plain": [
       "📄 0 of 3 📂 ET files____________ processed:            \n",
       "              0% ⏱️00:00 ⏳? ⚙️?it/s"
      ]
     },
     "metadata": {},
     "output_type": "display_data"
    },
    {
     "name": "stdout",
     "output_type": "stream",
     "text": [
      "process file  1068_Session_4_ET_1_data_dupl_clean_smooth.csv\n",
      "process file  1068_Session_4_ET_2_data_dupl_clean_smooth.csv\n",
      "process file  1068_Session_4_ET_3_data_dupl_clean_smooth.csv\n"
     ]
    },
    {
     "data": {
      "application/vnd.jupyter.widget-view+json": {
       "model_id": "0ddcd0064cd94625b5948bb6bdf6c99a",
       "version_major": 2,
       "version_minor": 0
      },
      "text/plain": [
       "📄 0 of 3 📂 ET files____________ processed:            \n",
       "              0% ⏱️00:00 ⏳? ⚙️?it/s"
      ]
     },
     "metadata": {},
     "output_type": "display_data"
    },
    {
     "name": "stdout",
     "output_type": "stream",
     "text": [
      "process file  1068_Session_5_ET_1_data_dupl_clean_smooth.csv\n",
      "process file  1068_Session_5_ET_2_data_dupl_clean_smooth.csv\n",
      "process file  1068_Session_5_ET_3_data_dupl_clean_smooth.csv\n",
      "Participant 18 - participant ID 1069\n"
     ]
    },
    {
     "data": {
      "application/vnd.jupyter.widget-view+json": {
       "model_id": "4d562a56e9dc48f1bd8f67b91b8e40fb",
       "version_major": 2,
       "version_minor": 0
      },
      "text/plain": [
       "📄 0 of 5 sessions________ processed:            \n",
       "              0% ⏱️00:00 ⏳? ⚙️?it/s"
      ]
     },
     "metadata": {},
     "output_type": "display_data"
    },
    {
     "data": {
      "application/vnd.jupyter.widget-view+json": {
       "model_id": "f22587750e9b4ee1a881499e7ab61161",
       "version_major": 2,
       "version_minor": 0
      },
      "text/plain": [
       "📄 0 of 3 📂 ET files____________ processed:            \n",
       "              0% ⏱️00:00 ⏳? ⚙️?it/s"
      ]
     },
     "metadata": {},
     "output_type": "display_data"
    },
    {
     "name": "stdout",
     "output_type": "stream",
     "text": [
      "process file  1069_Session_1_ET_1_data_dupl_clean_smooth.csv\n",
      "process file  1069_Session_1_ET_2_data_dupl_clean_smooth.csv\n",
      "process file  1069_Session_1_ET_3_data_dupl_clean_smooth.csv\n"
     ]
    },
    {
     "data": {
      "application/vnd.jupyter.widget-view+json": {
       "model_id": "580fadd7264943f8ac9c3b73344d7529",
       "version_major": 2,
       "version_minor": 0
      },
      "text/plain": [
       "📄 0 of 3 📂 ET files____________ processed:            \n",
       "              0% ⏱️00:00 ⏳? ⚙️?it/s"
      ]
     },
     "metadata": {},
     "output_type": "display_data"
    },
    {
     "name": "stdout",
     "output_type": "stream",
     "text": [
      "process file  1069_Session_2_ET_1_data_dupl_clean_smooth.csv\n",
      "process file  1069_Session_2_ET_2_data_dupl_clean_smooth.csv\n",
      "process file  1069_Session_2_ET_3_data_dupl_clean_smooth.csv\n"
     ]
    },
    {
     "data": {
      "application/vnd.jupyter.widget-view+json": {
       "model_id": "2a4a1ee6bed24db0ba19b6e49ab79dcc",
       "version_major": 2,
       "version_minor": 0
      },
      "text/plain": [
       "📄 0 of 3 📂 ET files____________ processed:            \n",
       "              0% ⏱️00:00 ⏳? ⚙️?it/s"
      ]
     },
     "metadata": {},
     "output_type": "display_data"
    },
    {
     "name": "stdout",
     "output_type": "stream",
     "text": [
      "process file  1069_Session_3_ET_1_data_dupl_clean_smooth.csv\n",
      "process file  1069_Session_3_ET_2_data_dupl_clean_smooth.csv\n",
      "process file  1069_Session_3_ET_3_data_dupl_clean_smooth.csv\n"
     ]
    },
    {
     "data": {
      "application/vnd.jupyter.widget-view+json": {
       "model_id": "7e3111373c084862821d313b73d3aa2a",
       "version_major": 2,
       "version_minor": 0
      },
      "text/plain": [
       "📄 0 of 3 📂 ET files____________ processed:            \n",
       "              0% ⏱️00:00 ⏳? ⚙️?it/s"
      ]
     },
     "metadata": {},
     "output_type": "display_data"
    },
    {
     "name": "stdout",
     "output_type": "stream",
     "text": [
      "process file  1069_Session_4_ET_1_data_dupl_clean_smooth.csv\n",
      "process file  1069_Session_4_ET_2_data_dupl_clean_smooth.csv\n",
      "process file  1069_Session_4_ET_3_data_dupl_clean_smooth.csv\n"
     ]
    },
    {
     "data": {
      "application/vnd.jupyter.widget-view+json": {
       "model_id": "a1c70d0d5d4a4ab0a6aa50b4606a63dd",
       "version_major": 2,
       "version_minor": 0
      },
      "text/plain": [
       "📄 0 of 3 📂 ET files____________ processed:            \n",
       "              0% ⏱️00:00 ⏳? ⚙️?it/s"
      ]
     },
     "metadata": {},
     "output_type": "display_data"
    },
    {
     "name": "stdout",
     "output_type": "stream",
     "text": [
      "process file  1069_Session_5_ET_1_data_dupl_clean_smooth.csv\n",
      "process file  1069_Session_5_ET_2_data_dupl_clean_smooth.csv\n",
      "process file  1069_Session_5_ET_3_data_dupl_clean_smooth.csv\n",
      "Participant 19 - participant ID 1072\n"
     ]
    },
    {
     "data": {
      "application/vnd.jupyter.widget-view+json": {
       "model_id": "51e18953dd18419fab7069a6d5e0a1fc",
       "version_major": 2,
       "version_minor": 0
      },
      "text/plain": [
       "📄 0 of 5 sessions________ processed:            \n",
       "              0% ⏱️00:00 ⏳? ⚙️?it/s"
      ]
     },
     "metadata": {},
     "output_type": "display_data"
    },
    {
     "data": {
      "application/vnd.jupyter.widget-view+json": {
       "model_id": "0e4dccd500ab451593a2992c9437e55b",
       "version_major": 2,
       "version_minor": 0
      },
      "text/plain": [
       "📄 0 of 3 📂 ET files____________ processed:            \n",
       "              0% ⏱️00:00 ⏳? ⚙️?it/s"
      ]
     },
     "metadata": {},
     "output_type": "display_data"
    },
    {
     "name": "stdout",
     "output_type": "stream",
     "text": [
      "process file  1072_Session_1_ET_1_data_dupl_clean_smooth.csv\n",
      "process file  1072_Session_1_ET_2_data_dupl_clean_smooth.csv\n",
      "process file  1072_Session_1_ET_3_data_dupl_clean_smooth.csv\n"
     ]
    },
    {
     "data": {
      "application/vnd.jupyter.widget-view+json": {
       "model_id": "fdc0a31b9cc245fa809ae66e522f75db",
       "version_major": 2,
       "version_minor": 0
      },
      "text/plain": [
       "📄 0 of 3 📂 ET files____________ processed:            \n",
       "              0% ⏱️00:00 ⏳? ⚙️?it/s"
      ]
     },
     "metadata": {},
     "output_type": "display_data"
    },
    {
     "name": "stdout",
     "output_type": "stream",
     "text": [
      "process file  1072_Session_2_ET_1_data_dupl_clean_smooth.csv\n",
      "process file  1072_Session_2_ET_2_data_dupl_clean_smooth.csv\n",
      "process file  1072_Session_2_ET_3_data_dupl_clean_smooth.csv\n"
     ]
    },
    {
     "data": {
      "application/vnd.jupyter.widget-view+json": {
       "model_id": "6c4a72de63b64d67a8aa8971ef1dc40d",
       "version_major": 2,
       "version_minor": 0
      },
      "text/plain": [
       "📄 0 of 3 📂 ET files____________ processed:            \n",
       "              0% ⏱️00:00 ⏳? ⚙️?it/s"
      ]
     },
     "metadata": {},
     "output_type": "display_data"
    },
    {
     "name": "stdout",
     "output_type": "stream",
     "text": [
      "process file  1072_Session_3_ET_1_data_dupl_clean_smooth.csv\n",
      "process file  1072_Session_3_ET_2_data_dupl_clean_smooth.csv\n",
      "process file  1072_Session_3_ET_3_data_dupl_clean_smooth.csv\n"
     ]
    },
    {
     "data": {
      "application/vnd.jupyter.widget-view+json": {
       "model_id": "74ce13be1366470db14841353c78c60a",
       "version_major": 2,
       "version_minor": 0
      },
      "text/plain": [
       "📄 0 of 3 📂 ET files____________ processed:            \n",
       "              0% ⏱️00:00 ⏳? ⚙️?it/s"
      ]
     },
     "metadata": {},
     "output_type": "display_data"
    },
    {
     "name": "stdout",
     "output_type": "stream",
     "text": [
      "process file  1072_Session_4_ET_1_data_dupl_clean_smooth.csv\n",
      "process file  1072_Session_4_ET_2_data_dupl_clean_smooth.csv\n",
      "process file  1072_Session_4_ET_3_data_dupl_clean_smooth.csv\n"
     ]
    },
    {
     "data": {
      "application/vnd.jupyter.widget-view+json": {
       "model_id": "c56f37c49e01487cb9d50241cc457a36",
       "version_major": 2,
       "version_minor": 0
      },
      "text/plain": [
       "📄 0 of 3 📂 ET files____________ processed:            \n",
       "              0% ⏱️00:00 ⏳? ⚙️?it/s"
      ]
     },
     "metadata": {},
     "output_type": "display_data"
    },
    {
     "name": "stdout",
     "output_type": "stream",
     "text": [
      "process file  1072_Session_5_ET_1_data_dupl_clean_smooth.csv\n",
      "process file  1072_Session_5_ET_2_data_dupl_clean_smooth.csv\n",
      "process file  1072_Session_5_ET_3_data_dupl_clean_smooth.csv\n",
      "Participant 20 - participant ID 1073\n"
     ]
    },
    {
     "data": {
      "application/vnd.jupyter.widget-view+json": {
       "model_id": "838f9a1109384a579b90fa7faf15fe7c",
       "version_major": 2,
       "version_minor": 0
      },
      "text/plain": [
       "📄 0 of 5 sessions________ processed:            \n",
       "              0% ⏱️00:00 ⏳? ⚙️?it/s"
      ]
     },
     "metadata": {},
     "output_type": "display_data"
    },
    {
     "data": {
      "application/vnd.jupyter.widget-view+json": {
       "model_id": "9b4e4bc6dc7648838832802c86fb8562",
       "version_major": 2,
       "version_minor": 0
      },
      "text/plain": [
       "📄 0 of 3 📂 ET files____________ processed:            \n",
       "              0% ⏱️00:00 ⏳? ⚙️?it/s"
      ]
     },
     "metadata": {},
     "output_type": "display_data"
    },
    {
     "name": "stdout",
     "output_type": "stream",
     "text": [
      "process file  1073_Session_1_ET_1_data_dupl_clean_smooth.csv\n",
      "process file  1073_Session_1_ET_2_data_dupl_clean_smooth.csv\n",
      "process file  1073_Session_1_ET_3_data_dupl_clean_smooth.csv\n"
     ]
    },
    {
     "data": {
      "application/vnd.jupyter.widget-view+json": {
       "model_id": "7bfb485ec28a44b790c44a28a019fa43",
       "version_major": 2,
       "version_minor": 0
      },
      "text/plain": [
       "📄 0 of 3 📂 ET files____________ processed:            \n",
       "              0% ⏱️00:00 ⏳? ⚙️?it/s"
      ]
     },
     "metadata": {},
     "output_type": "display_data"
    },
    {
     "name": "stdout",
     "output_type": "stream",
     "text": [
      "process file  1073_Session_2_ET_1_data_dupl_clean_smooth.csv\n",
      "process file  1073_Session_2_ET_2_data_dupl_clean_smooth.csv\n",
      "process file  1073_Session_2_ET_3_data_dupl_clean_smooth.csv\n"
     ]
    },
    {
     "data": {
      "application/vnd.jupyter.widget-view+json": {
       "model_id": "0c2565ce48234ae1b271c0060b136165",
       "version_major": 2,
       "version_minor": 0
      },
      "text/plain": [
       "📄 0 of 3 📂 ET files____________ processed:            \n",
       "              0% ⏱️00:00 ⏳? ⚙️?it/s"
      ]
     },
     "metadata": {},
     "output_type": "display_data"
    },
    {
     "name": "stdout",
     "output_type": "stream",
     "text": [
      "process file  1073_Session_3_ET_1_data_dupl_clean_smooth.csv\n",
      "process file  1073_Session_3_ET_2_data_dupl_clean_smooth.csv\n",
      "process file  1073_Session_3_ET_3_data_dupl_clean_smooth.csv\n"
     ]
    },
    {
     "data": {
      "application/vnd.jupyter.widget-view+json": {
       "model_id": "29b36833e19c41269cdced714afad769",
       "version_major": 2,
       "version_minor": 0
      },
      "text/plain": [
       "📄 0 of 3 📂 ET files____________ processed:            \n",
       "              0% ⏱️00:00 ⏳? ⚙️?it/s"
      ]
     },
     "metadata": {},
     "output_type": "display_data"
    },
    {
     "name": "stdout",
     "output_type": "stream",
     "text": [
      "process file  1073_Session_4_ET_1_data_dupl_clean_smooth.csv\n",
      "process file  1073_Session_4_ET_2_data_dupl_clean_smooth.csv\n",
      "process file  1073_Session_4_ET_3_data_dupl_clean_smooth.csv\n"
     ]
    },
    {
     "data": {
      "application/vnd.jupyter.widget-view+json": {
       "model_id": "5410ff679f1e4978b0bf53d2a2f8ccfe",
       "version_major": 2,
       "version_minor": 0
      },
      "text/plain": [
       "📄 0 of 3 📂 ET files____________ processed:            \n",
       "              0% ⏱️00:00 ⏳? ⚙️?it/s"
      ]
     },
     "metadata": {},
     "output_type": "display_data"
    },
    {
     "name": "stdout",
     "output_type": "stream",
     "text": [
      "process file  1073_Session_5_ET_1_data_dupl_clean_smooth.csv\n",
      "process file  1073_Session_5_ET_2_data_dupl_clean_smooth.csv\n",
      "process file  1073_Session_5_ET_3_data_dupl_clean_smooth.csv\n",
      "Participant 21 - participant ID 1074\n"
     ]
    },
    {
     "data": {
      "application/vnd.jupyter.widget-view+json": {
       "model_id": "70119b6b84f84c04aec1d4eaf06dd62c",
       "version_major": 2,
       "version_minor": 0
      },
      "text/plain": [
       "📄 0 of 5 sessions________ processed:            \n",
       "              0% ⏱️00:00 ⏳? ⚙️?it/s"
      ]
     },
     "metadata": {},
     "output_type": "display_data"
    },
    {
     "data": {
      "application/vnd.jupyter.widget-view+json": {
       "model_id": "ed5e9f2913a445909518a7b967948418",
       "version_major": 2,
       "version_minor": 0
      },
      "text/plain": [
       "📄 0 of 3 📂 ET files____________ processed:            \n",
       "              0% ⏱️00:00 ⏳? ⚙️?it/s"
      ]
     },
     "metadata": {},
     "output_type": "display_data"
    },
    {
     "name": "stdout",
     "output_type": "stream",
     "text": [
      "process file  1074_Session_1_ET_1_data_dupl_clean_smooth.csv\n",
      "process file  1074_Session_1_ET_2_data_dupl_clean_smooth.csv\n",
      "process file  1074_Session_1_ET_3_data_dupl_clean_smooth.csv\n"
     ]
    },
    {
     "data": {
      "application/vnd.jupyter.widget-view+json": {
       "model_id": "53d36841974647b9aff5018787bbccac",
       "version_major": 2,
       "version_minor": 0
      },
      "text/plain": [
       "📄 0 of 3 📂 ET files____________ processed:            \n",
       "              0% ⏱️00:00 ⏳? ⚙️?it/s"
      ]
     },
     "metadata": {},
     "output_type": "display_data"
    },
    {
     "name": "stdout",
     "output_type": "stream",
     "text": [
      "process file  1074_Session_2_ET_1_data_dupl_clean_smooth.csv\n",
      "process file  1074_Session_2_ET_2_data_dupl_clean_smooth.csv\n",
      "process file  1074_Session_2_ET_3_data_dupl_clean_smooth.csv\n"
     ]
    },
    {
     "data": {
      "application/vnd.jupyter.widget-view+json": {
       "model_id": "f4ec62343fa042c78ee979a63f919486",
       "version_major": 2,
       "version_minor": 0
      },
      "text/plain": [
       "📄 0 of 3 📂 ET files____________ processed:            \n",
       "              0% ⏱️00:00 ⏳? ⚙️?it/s"
      ]
     },
     "metadata": {},
     "output_type": "display_data"
    },
    {
     "name": "stdout",
     "output_type": "stream",
     "text": [
      "process file  1074_Session_3_ET_1_data_dupl_clean_smooth.csv\n",
      "process file  1074_Session_3_ET_2_data_dupl_clean_smooth.csv\n",
      "process file  1074_Session_3_ET_3_data_dupl_clean_smooth.csv\n"
     ]
    },
    {
     "data": {
      "application/vnd.jupyter.widget-view+json": {
       "model_id": "3be60c7874c84d7a9b941dc447c57886",
       "version_major": 2,
       "version_minor": 0
      },
      "text/plain": [
       "📄 0 of 3 📂 ET files____________ processed:            \n",
       "              0% ⏱️00:00 ⏳? ⚙️?it/s"
      ]
     },
     "metadata": {},
     "output_type": "display_data"
    },
    {
     "name": "stdout",
     "output_type": "stream",
     "text": [
      "process file  1074_Session_4_ET_1_data_dupl_clean_smooth.csv\n",
      "process file  1074_Session_4_ET_2_data_dupl_clean_smooth.csv\n",
      "process file  1074_Session_4_ET_3_data_dupl_clean_smooth.csv\n"
     ]
    },
    {
     "data": {
      "application/vnd.jupyter.widget-view+json": {
       "model_id": "5a8dbb68f27d4a3ca84fa9b97f7ab746",
       "version_major": 2,
       "version_minor": 0
      },
      "text/plain": [
       "📄 0 of 3 📂 ET files____________ processed:            \n",
       "              0% ⏱️00:00 ⏳? ⚙️?it/s"
      ]
     },
     "metadata": {},
     "output_type": "display_data"
    },
    {
     "name": "stdout",
     "output_type": "stream",
     "text": [
      "process file  1074_Session_5_ET_1_data_dupl_clean_smooth.csv\n",
      "process file  1074_Session_5_ET_2_data_dupl_clean_smooth.csv\n",
      "process file  1074_Session_5_ET_3_data_dupl_clean_smooth.csv\n",
      "Participant 22 - participant ID 1075\n"
     ]
    },
    {
     "data": {
      "application/vnd.jupyter.widget-view+json": {
       "model_id": "96c78b5793704111a528b0eb7a1b36b2",
       "version_major": 2,
       "version_minor": 0
      },
      "text/plain": [
       "📄 0 of 5 sessions________ processed:            \n",
       "              0% ⏱️00:00 ⏳? ⚙️?it/s"
      ]
     },
     "metadata": {},
     "output_type": "display_data"
    },
    {
     "data": {
      "application/vnd.jupyter.widget-view+json": {
       "model_id": "ea10d39e7d184ddb8732205000253868",
       "version_major": 2,
       "version_minor": 0
      },
      "text/plain": [
       "📄 0 of 3 📂 ET files____________ processed:            \n",
       "              0% ⏱️00:00 ⏳? ⚙️?it/s"
      ]
     },
     "metadata": {},
     "output_type": "display_data"
    },
    {
     "name": "stdout",
     "output_type": "stream",
     "text": [
      "process file  1075_Session_1_ET_1_data_dupl_clean_smooth.csv\n",
      "process file  1075_Session_1_ET_2_data_dupl_clean_smooth.csv\n",
      "process file  1075_Session_1_ET_3_data_dupl_clean_smooth.csv\n"
     ]
    },
    {
     "data": {
      "application/vnd.jupyter.widget-view+json": {
       "model_id": "73960f87529e4b58984767f6fbde3fd3",
       "version_major": 2,
       "version_minor": 0
      },
      "text/plain": [
       "📄 0 of 3 📂 ET files____________ processed:            \n",
       "              0% ⏱️00:00 ⏳? ⚙️?it/s"
      ]
     },
     "metadata": {},
     "output_type": "display_data"
    },
    {
     "name": "stdout",
     "output_type": "stream",
     "text": [
      "process file  1075_Session_2_ET_1_data_dupl_clean_smooth.csv\n",
      "process file  1075_Session_2_ET_2_data_dupl_clean_smooth.csv\n",
      "process file  1075_Session_2_ET_3_data_dupl_clean_smooth.csv\n"
     ]
    },
    {
     "data": {
      "application/vnd.jupyter.widget-view+json": {
       "model_id": "cf9721d8a2824dd28b38495bc2d028ad",
       "version_major": 2,
       "version_minor": 0
      },
      "text/plain": [
       "📄 0 of 3 📂 ET files____________ processed:            \n",
       "              0% ⏱️00:00 ⏳? ⚙️?it/s"
      ]
     },
     "metadata": {},
     "output_type": "display_data"
    },
    {
     "name": "stdout",
     "output_type": "stream",
     "text": [
      "process file  1075_Session_3_ET_1_data_dupl_clean_smooth.csv\n",
      "process file  1075_Session_3_ET_2_data_dupl_clean_smooth.csv\n",
      "process file  1075_Session_3_ET_3_data_dupl_clean_smooth.csv\n"
     ]
    },
    {
     "data": {
      "application/vnd.jupyter.widget-view+json": {
       "model_id": "bd2a7c5b63c54132af8be40225d98c39",
       "version_major": 2,
       "version_minor": 0
      },
      "text/plain": [
       "📄 0 of 3 📂 ET files____________ processed:            \n",
       "              0% ⏱️00:00 ⏳? ⚙️?it/s"
      ]
     },
     "metadata": {},
     "output_type": "display_data"
    },
    {
     "name": "stdout",
     "output_type": "stream",
     "text": [
      "process file  1075_Session_4_ET_1_data_dupl_clean_smooth.csv\n",
      "process file  1075_Session_4_ET_2_data_dupl_clean_smooth.csv\n",
      "process file  1075_Session_4_ET_3_data_dupl_clean_smooth.csv\n"
     ]
    },
    {
     "data": {
      "application/vnd.jupyter.widget-view+json": {
       "model_id": "3e3bcfb0b6ae4810b89d2bf1857461d9",
       "version_major": 2,
       "version_minor": 0
      },
      "text/plain": [
       "📄 0 of 3 📂 ET files____________ processed:            \n",
       "              0% ⏱️00:00 ⏳? ⚙️?it/s"
      ]
     },
     "metadata": {},
     "output_type": "display_data"
    },
    {
     "name": "stdout",
     "output_type": "stream",
     "text": [
      "process file  1075_Session_5_ET_1_data_dupl_clean_smooth.csv\n",
      "process file  1075_Session_5_ET_2_data_dupl_clean_smooth.csv\n",
      "process file  1075_Session_5_ET_3_data_dupl_clean_smooth.csv\n",
      "Participant 23 - participant ID 1077\n"
     ]
    },
    {
     "data": {
      "application/vnd.jupyter.widget-view+json": {
       "model_id": "34cc28775d8c4d839fd92afbf48fc506",
       "version_major": 2,
       "version_minor": 0
      },
      "text/plain": [
       "📄 0 of 5 sessions________ processed:            \n",
       "              0% ⏱️00:00 ⏳? ⚙️?it/s"
      ]
     },
     "metadata": {},
     "output_type": "display_data"
    },
    {
     "data": {
      "application/vnd.jupyter.widget-view+json": {
       "model_id": "8943fdbfbb9048ce9d35dc3aa3e5fce0",
       "version_major": 2,
       "version_minor": 0
      },
      "text/plain": [
       "📄 0 of 3 📂 ET files____________ processed:            \n",
       "              0% ⏱️00:00 ⏳? ⚙️?it/s"
      ]
     },
     "metadata": {},
     "output_type": "display_data"
    },
    {
     "name": "stdout",
     "output_type": "stream",
     "text": [
      "process file  1077_Session_1_ET_1_data_dupl_clean_smooth.csv\n",
      "process file  1077_Session_1_ET_2_data_dupl_clean_smooth.csv\n",
      "process file  1077_Session_1_ET_3_data_dupl_clean_smooth.csv\n"
     ]
    },
    {
     "data": {
      "application/vnd.jupyter.widget-view+json": {
       "model_id": "7a318c32725847fdbf271d81c59d46dd",
       "version_major": 2,
       "version_minor": 0
      },
      "text/plain": [
       "📄 0 of 3 📂 ET files____________ processed:            \n",
       "              0% ⏱️00:00 ⏳? ⚙️?it/s"
      ]
     },
     "metadata": {},
     "output_type": "display_data"
    },
    {
     "name": "stdout",
     "output_type": "stream",
     "text": [
      "process file  1077_Session_2_ET_1_data_dupl_clean_smooth.csv\n",
      "process file  1077_Session_2_ET_2_data_dupl_clean_smooth.csv\n",
      "process file  1077_Session_2_ET_3_data_dupl_clean_smooth.csv\n"
     ]
    },
    {
     "data": {
      "application/vnd.jupyter.widget-view+json": {
       "model_id": "c5f56abfbf2a42e491211012391f7910",
       "version_major": 2,
       "version_minor": 0
      },
      "text/plain": [
       "📄 0 of 3 📂 ET files____________ processed:            \n",
       "              0% ⏱️00:00 ⏳? ⚙️?it/s"
      ]
     },
     "metadata": {},
     "output_type": "display_data"
    },
    {
     "name": "stdout",
     "output_type": "stream",
     "text": [
      "process file  1077_Session_3_ET_1_data_dupl_clean_smooth.csv\n",
      "process file  1077_Session_3_ET_2_data_dupl_clean_smooth.csv\n",
      "process file  1077_Session_3_ET_3_data_dupl_clean_smooth.csv\n"
     ]
    },
    {
     "data": {
      "application/vnd.jupyter.widget-view+json": {
       "model_id": "6ff10fbda09e4e0f91bdb02c12c07a70",
       "version_major": 2,
       "version_minor": 0
      },
      "text/plain": [
       "📄 0 of 3 📂 ET files____________ processed:            \n",
       "              0% ⏱️00:00 ⏳? ⚙️?it/s"
      ]
     },
     "metadata": {},
     "output_type": "display_data"
    },
    {
     "name": "stdout",
     "output_type": "stream",
     "text": [
      "process file  1077_Session_4_ET_1_data_dupl_clean_smooth.csv\n",
      "process file  1077_Session_4_ET_2_data_dupl_clean_smooth.csv\n",
      "process file  1077_Session_4_ET_3_data_dupl_clean_smooth.csv\n"
     ]
    },
    {
     "data": {
      "application/vnd.jupyter.widget-view+json": {
       "model_id": "fbb63cdc4ad24b069a63d783a9704109",
       "version_major": 2,
       "version_minor": 0
      },
      "text/plain": [
       "📄 0 of 3 📂 ET files____________ processed:            \n",
       "              0% ⏱️00:00 ⏳? ⚙️?it/s"
      ]
     },
     "metadata": {},
     "output_type": "display_data"
    },
    {
     "name": "stdout",
     "output_type": "stream",
     "text": [
      "process file  1077_Session_5_ET_1_data_dupl_clean_smooth.csv\n",
      "process file  1077_Session_5_ET_2_data_dupl_clean_smooth.csv\n",
      "process file  1077_Session_5_ET_3_data_dupl_clean_smooth.csv\n",
      "Participant 24 - participant ID 1079\n"
     ]
    },
    {
     "data": {
      "application/vnd.jupyter.widget-view+json": {
       "model_id": "83cadac31d9f4e13a8527e3592cc1db4",
       "version_major": 2,
       "version_minor": 0
      },
      "text/plain": [
       "📄 0 of 5 sessions________ processed:            \n",
       "              0% ⏱️00:00 ⏳? ⚙️?it/s"
      ]
     },
     "metadata": {},
     "output_type": "display_data"
    },
    {
     "data": {
      "application/vnd.jupyter.widget-view+json": {
       "model_id": "ef73c1334ec9465aa7d94b623a0973c7",
       "version_major": 2,
       "version_minor": 0
      },
      "text/plain": [
       "📄 0 of 3 📂 ET files____________ processed:            \n",
       "              0% ⏱️00:00 ⏳? ⚙️?it/s"
      ]
     },
     "metadata": {},
     "output_type": "display_data"
    },
    {
     "name": "stdout",
     "output_type": "stream",
     "text": [
      "process file  1079_Session_1_ET_1_data_dupl_clean_smooth.csv\n",
      "process file  1079_Session_1_ET_2_data_dupl_clean_smooth.csv\n",
      "process file  1079_Session_1_ET_3_data_dupl_clean_smooth.csv\n"
     ]
    },
    {
     "data": {
      "application/vnd.jupyter.widget-view+json": {
       "model_id": "c93a75e394954879b4741fd517fc899b",
       "version_major": 2,
       "version_minor": 0
      },
      "text/plain": [
       "📄 0 of 3 📂 ET files____________ processed:            \n",
       "              0% ⏱️00:00 ⏳? ⚙️?it/s"
      ]
     },
     "metadata": {},
     "output_type": "display_data"
    },
    {
     "name": "stdout",
     "output_type": "stream",
     "text": [
      "process file  1079_Session_2_ET_1_data_dupl_clean_smooth.csv\n",
      "process file  1079_Session_2_ET_2_data_dupl_clean_smooth.csv\n",
      "process file  1079_Session_2_ET_3_data_dupl_clean_smooth.csv\n"
     ]
    },
    {
     "data": {
      "application/vnd.jupyter.widget-view+json": {
       "model_id": "e7c9a71796f642e5ace2e77250abb011",
       "version_major": 2,
       "version_minor": 0
      },
      "text/plain": [
       "📄 0 of 3 📂 ET files____________ processed:            \n",
       "              0% ⏱️00:00 ⏳? ⚙️?it/s"
      ]
     },
     "metadata": {},
     "output_type": "display_data"
    },
    {
     "name": "stdout",
     "output_type": "stream",
     "text": [
      "process file  1079_Session_3_ET_1_data_dupl_clean_smooth.csv\n",
      "process file  1079_Session_3_ET_2_data_dupl_clean_smooth.csv\n",
      "process file  1079_Session_3_ET_3_data_dupl_clean_smooth.csv\n"
     ]
    },
    {
     "data": {
      "application/vnd.jupyter.widget-view+json": {
       "model_id": "67de0047056c460880a2a256f69bad3c",
       "version_major": 2,
       "version_minor": 0
      },
      "text/plain": [
       "📄 0 of 3 📂 ET files____________ processed:            \n",
       "              0% ⏱️00:00 ⏳? ⚙️?it/s"
      ]
     },
     "metadata": {},
     "output_type": "display_data"
    },
    {
     "name": "stdout",
     "output_type": "stream",
     "text": [
      "process file  1079_Session_4_ET_1_data_dupl_clean_smooth.csv\n",
      "process file  1079_Session_4_ET_2_data_dupl_clean_smooth.csv\n",
      "process file  1079_Session_4_ET_3_data_dupl_clean_smooth.csv\n"
     ]
    },
    {
     "data": {
      "application/vnd.jupyter.widget-view+json": {
       "model_id": "237281593ffd4125a3874fae8e47557a",
       "version_major": 2,
       "version_minor": 0
      },
      "text/plain": [
       "📄 0 of 3 📂 ET files____________ processed:            \n",
       "              0% ⏱️00:00 ⏳? ⚙️?it/s"
      ]
     },
     "metadata": {},
     "output_type": "display_data"
    },
    {
     "name": "stdout",
     "output_type": "stream",
     "text": [
      "process file  1079_Session_5_ET_1_data_dupl_clean_smooth.csv\n",
      "process file  1079_Session_5_ET_2_data_dupl_clean_smooth.csv\n",
      "process file  1079_Session_5_ET_3_data_dupl_clean_smooth.csv\n",
      "Participant 25 - participant ID 1080\n"
     ]
    },
    {
     "data": {
      "application/vnd.jupyter.widget-view+json": {
       "model_id": "fa7d4e5a58a34b89a662568572fd3668",
       "version_major": 2,
       "version_minor": 0
      },
      "text/plain": [
       "📄 0 of 5 sessions________ processed:            \n",
       "              0% ⏱️00:00 ⏳? ⚙️?it/s"
      ]
     },
     "metadata": {},
     "output_type": "display_data"
    },
    {
     "data": {
      "application/vnd.jupyter.widget-view+json": {
       "model_id": "7d20e5ae34d14a308baca0086533d878",
       "version_major": 2,
       "version_minor": 0
      },
      "text/plain": [
       "📄 0 of 3 📂 ET files____________ processed:            \n",
       "              0% ⏱️00:00 ⏳? ⚙️?it/s"
      ]
     },
     "metadata": {},
     "output_type": "display_data"
    },
    {
     "name": "stdout",
     "output_type": "stream",
     "text": [
      "process file  1080_Session_1_ET_1_data_dupl_clean_smooth.csv\n",
      "process file  1080_Session_1_ET_2_data_dupl_clean_smooth.csv\n",
      "process file  1080_Session_1_ET_3_data_dupl_clean_smooth.csv\n"
     ]
    },
    {
     "data": {
      "application/vnd.jupyter.widget-view+json": {
       "model_id": "9cb655c0693c492ab064c7d0b85d16cb",
       "version_major": 2,
       "version_minor": 0
      },
      "text/plain": [
       "📄 0 of 3 📂 ET files____________ processed:            \n",
       "              0% ⏱️00:00 ⏳? ⚙️?it/s"
      ]
     },
     "metadata": {},
     "output_type": "display_data"
    },
    {
     "name": "stdout",
     "output_type": "stream",
     "text": [
      "process file  1080_Session_2_ET_1_data_dupl_clean_smooth.csv\n",
      "process file  1080_Session_2_ET_2_data_dupl_clean_smooth.csv\n",
      "process file  1080_Session_2_ET_3_data_dupl_clean_smooth.csv\n"
     ]
    },
    {
     "data": {
      "application/vnd.jupyter.widget-view+json": {
       "model_id": "6a507b598e064dfb9e27940750d7f1c0",
       "version_major": 2,
       "version_minor": 0
      },
      "text/plain": [
       "📄 0 of 3 📂 ET files____________ processed:            \n",
       "              0% ⏱️00:00 ⏳? ⚙️?it/s"
      ]
     },
     "metadata": {},
     "output_type": "display_data"
    },
    {
     "name": "stdout",
     "output_type": "stream",
     "text": [
      "process file  1080_Session_3_ET_1_data_dupl_clean_smooth.csv\n",
      "process file  1080_Session_3_ET_2_data_dupl_clean_smooth.csv\n",
      "process file  1080_Session_3_ET_3_data_dupl_clean_smooth.csv\n"
     ]
    },
    {
     "data": {
      "application/vnd.jupyter.widget-view+json": {
       "model_id": "f8153f94dd6b43ce8bf686bf7e902b4a",
       "version_major": 2,
       "version_minor": 0
      },
      "text/plain": [
       "📄 0 of 3 📂 ET files____________ processed:            \n",
       "              0% ⏱️00:00 ⏳? ⚙️?it/s"
      ]
     },
     "metadata": {},
     "output_type": "display_data"
    },
    {
     "name": "stdout",
     "output_type": "stream",
     "text": [
      "process file  1080_Session_4_ET_1_data_dupl_clean_smooth.csv\n",
      "process file  1080_Session_4_ET_2_data_dupl_clean_smooth.csv\n",
      "process file  1080_Session_4_ET_3_data_dupl_clean_smooth.csv\n"
     ]
    },
    {
     "data": {
      "application/vnd.jupyter.widget-view+json": {
       "model_id": "1d3cd29146cc4aa5bffb4ec0ec258890",
       "version_major": 2,
       "version_minor": 0
      },
      "text/plain": [
       "📄 0 of 3 📂 ET files____________ processed:            \n",
       "              0% ⏱️00:00 ⏳? ⚙️?it/s"
      ]
     },
     "metadata": {},
     "output_type": "display_data"
    },
    {
     "name": "stdout",
     "output_type": "stream",
     "text": [
      "process file  1080_Session_5_ET_1_data_dupl_clean_smooth.csv\n",
      "process file  1080_Session_5_ET_2_data_dupl_clean_smooth.csv\n",
      "process file  1080_Session_5_ET_3_data_dupl_clean_smooth.csv\n",
      "All files were found\n"
     ]
    }
   ],
   "source": [
    "print('start')\n",
    "# walking speed lists\n",
    "\n",
    "allWalkingSpeeds = []\n",
    "allWalkingSpeed_means = []\n",
    "\n",
    "allWalkingDistances = []\n",
    "allWalkingDistances_parts = []\n",
    "\n",
    "\n",
    "\n",
    "# useful overviews\n",
    "noFilePartList = [len(PartList)]\n",
    "missingFiles = pd.DataFrame(columns=['Participant', 'Session'])\n",
    "\n",
    "\n",
    "\n",
    "# loop code over all participants in participant list\n",
    "parts_pbar = tqdm(\n",
    "    iterable=PartList,\n",
    "    total=len(PartList),\n",
    "    desc=\"participants\",\n",
    "    dynamic_ncols=True,\n",
    "    bar_format=B_FORMAT,\n",
    ")\n",
    "\n",
    "for indexPart, currentPart in enumerate(parts_pbar):\n",
    "#     currentPart = PartList[indexPart]\n",
    "    print(f'Participant {indexPart} - participant ID {currentPart}')\n",
    "    speed_part = []\n",
    "    dist_part = []\n",
    "    \n",
    "    sessions = list(range(1,6))\n",
    "#     sessions = list(range(2,3))\n",
    "    \n",
    "    session_pbar = tqdm(\n",
    "        iterable=sessions,\n",
    "        total=len(sessions),\n",
    "        desc=\"sessions________\",\n",
    "        dynamic_ncols=True,\n",
    "        bar_format=B_FORMAT,\n",
    "    )\n",
    "    \n",
    "    \n",
    "    # loop over recording sessions (should be 5 for each participant)\n",
    "#     for indexSess in range(1, 6):\n",
    "#     for indexSess in range(1, 2):\n",
    "    for indexSess in session_pbar:\n",
    "        \n",
    "\n",
    "        # get all eye tracking sessions and loop over them (amount of ET files can vary)\n",
    "        fileNames = [f for f in os.listdir(datapath) if f.startswith(f'{currentPart}_Session_{indexSess}') and f.endswith('_data_dupl_clean_smooth.csv')]\n",
    "#         print(dirSess)\n",
    "#         print(f'Session {indexSess}')\n",
    "        \n",
    "        if len(fileNames)< 3:\n",
    "            hMF = pd.DataFrame({'Participant': [currentPart], 'Session': [indexSess], 'onlyExistingFilesInSession': [fileNames]})\n",
    "            missingFiles = pd.concat([missingFiles, hMF], ignore_index=True)\n",
    "            \n",
    "\n",
    "        # runs if files exist\n",
    "\n",
    "############ Main part starts here ######################################################################################\n",
    "        # To use it for later!!!\n",
    "        # based on remodnav --> has almost the same length as our filter\n",
    "\n",
    "        # files progress bar\n",
    "        file_pbar = tqdm(\n",
    "            iterable=fileNames,\n",
    "            total=len(fileNames),\n",
    "            desc=\"📂 ET files____________\",\n",
    "            dynamic_ncols=True,\n",
    "            bar_format=B_FORMAT,\n",
    "        )\n",
    "\n",
    "\n",
    "\n",
    "            # loop necessary for displaying properly the progressbar with multiprocessing\n",
    "            # source: https://stackoverflow.com/a/40133278\n",
    "\n",
    "#             info_list = []\n",
    "\n",
    "        for file in file_pbar:\n",
    "\n",
    "            print('process file ', file)\n",
    "\n",
    "            # read in data\n",
    "            dataVR = pd.read_csv(os.path.join(datapath, file))\n",
    "            \n",
    "            dataVR = calc_walkingSpeed(dataVR)\n",
    "                \n",
    "            # add speed info to overview\n",
    "            speed = dataVR['speed_kmh'].values\n",
    "            allWalkingSpeeds.extend(speed)  # Append speeds to the global list\n",
    "            speed_part.extend(speed)  # Append speeds for the current session\n",
    "            \n",
    "            # add distances to overview\n",
    "            distances = dataVR['distances_m'].values\n",
    "            sumDist = sum(x for x in distances if not math.isnan(x))\n",
    "\n",
    "            allWalkingDistances.append(sumDist)\n",
    "            dist_part.append(sumDist)\n",
    "            \n",
    "            \n",
    "            del dataVR \n",
    "\n",
    "    # Calculate mean speed for the current session and store it\n",
    "    if speed_part:  # Check if the list is not empty\n",
    "        mean_speed = np.nanmean(speed_part)\n",
    "        allWalkingSpeed_means.append(mean_speed)\n",
    "        \n",
    "    # Calculate distance for the current session and store it\n",
    "    if dist_part:  # Check if the list is not empty\n",
    "        sumDist_part = sum(dist_part)\n",
    "        allWalkingDistances_parts.append(sumDist_part)\n",
    "\n",
    "        \n",
    "\n",
    "\n",
    "if len(missingFiles)>0:\n",
    "    \n",
    "    print(\"missing files detected\")\n",
    "    print(missingFiles)\n",
    "    \n",
    "else:\n",
    "    print(\"All files were found\")\n"
   ]
  },
  {
   "cell_type": "code",
   "execution_count": 86,
   "id": "d011b95a",
   "metadata": {},
   "outputs": [
    {
     "name": "stdout",
     "output_type": "stream",
     "text": [
      "-------- sanity checks file lengths -------------\n",
      "15027684\n",
      "26\n",
      "401\n",
      "26\n",
      "-------- walking speeds stats of all data (independent of participants) -------------\n",
      "min speed:  0.0 km/h\n",
      "max speed:  181.22591250213875 km/h\n",
      "mean speed:  13.043709848484939 km/h\n",
      "median speed:  17.41620313462459 km/h\n",
      "---------walking speed means for each participant------------\n",
      "slowest participant mean 6.971844201259982 km/h\n",
      "fastest participant mean 17.314012305341624 km/h\n",
      "grand mean  13.044886590993118 km/h\n",
      "--------- walking distances for 1 file (10min) stats ------------\n",
      "min distance:  0.0 km\n",
      "max distance:  2.9677260713132187 km\n",
      "mean distance:  2.110428797954122 km\n",
      "median distance:  2.272955471104305 km\n",
      "sum all dist / 26:  32.54930569152322 km\n",
      "expectation for 10 min, if walking speed is 5km/h =  0.08333333333333333 km\n",
      "---------------------\n",
      "range of walking distances for each participant \n",
      "Participant with min walking distance 17.369557440204293 km\n",
      "Participant with max walking distance 43.237804889643414 km\n",
      "mean walking distance  32.5493056915232 km\n",
      "---------------------\n",
      "Walking distance of a walking speed of 5 km/h for 150 min\n",
      "12.5 km\n",
      "12500.0 m\n",
      "Walking distance of a walking speed of 5 km/h for 150 min in comparison of mean walking distance in VR should be around:  12.5 km\n",
      "mean walking distance  32.5493056915232 km\n",
      "5km/h dist / walked mean dist:  0.3840327691922279\n",
      "in VR they walked  2.603944455321856 times what they should have with a 5 km/h speed limit\n"
     ]
    }
   ],
   "source": [
    "print('-------- sanity checks file lengths -------------')\n",
    "print(len(allWalkingSpeeds))\n",
    "print(len(allWalkingSpeed_means))\n",
    "\n",
    "print(len(allWalkingDistances))\n",
    "print(len(allWalkingDistances_parts))\n",
    "\n",
    "print('-------- walking speeds stats of all data (independent of participants) -------------')\n",
    "\n",
    "print('min speed: ' , np.nanmin(allWalkingSpeeds), 'km/h')\n",
    "print('max speed: ' , np.nanmax(allWalkingSpeeds), 'km/h')\n",
    "print('mean speed: ', np.nanmean(allWalkingSpeeds), 'km/h')\n",
    "print('median speed: ', np.nanmedian(allWalkingSpeeds), 'km/h')\n",
    "\n",
    "print('---------walking speed means for each participant------------')\n",
    "\n",
    "print('slowest participant mean', min(allWalkingSpeed_means), 'km/h')\n",
    "print('fastest participant mean', max(allWalkingSpeed_means), 'km/h')\n",
    "print('grand mean ', np.mean(allWalkingSpeed_means), 'km/h')\n",
    "\n",
    "\n",
    "\n",
    "\n",
    "print('--------- walking distances for 1 file (10min) stats ------------')\n",
    "\n",
    "print('min distance: ' , np.nanmin(allWalkingDistances)/1000, 'km')\n",
    "print('max distance: ' , np.nanmax(allWalkingDistances)/1000, 'km')\n",
    "print('mean distance: ', np.nanmean(allWalkingDistances)/1000, 'km')\n",
    "print('median distance: ', np.nanmedian(allWalkingDistances)/1000, 'km')\n",
    "\n",
    "print('sum all dist / 26: ', (sum(allWalkingDistances)/1000)/26, 'km')\n",
    "\n",
    "exp = 5* (1/60)\n",
    "print('expectation for 10 min, if walking speed is 5km/h = ', exp , 'km')\n",
    "\n",
    "\n",
    "print('---------------------')\n",
    "\n",
    "print('range of walking distances for each participant ')\n",
    "print('Participant with min walking distance', min(allWalkingDistances_parts)/1000, 'km')\n",
    "print('Participant with max walking distance', max(allWalkingDistances_parts)/1000, 'km')\n",
    "\n",
    "print('mean walking distance ', np.mean(allWalkingDistances_parts)/1000, 'km')\n",
    "\n",
    "\n",
    "print('---------------------')\n",
    "print('Walking distance of a walking speed of 5 km/h for 150 min')\n",
    "walkingTime = 2.5 # hours\n",
    "walkingSpeed = 5 # km/h\n",
    "\n",
    "print(walkingTime * walkingSpeed , 'km')\n",
    "\n",
    "print((walkingTime * walkingSpeed)*1000 , 'm')\n",
    "\n",
    "print('Walking distance of a walking speed of 5 km/h for 150 min in comparison of mean walking distance in VR should be around: ', (walkingTime * walkingSpeed), 'km')\n",
    "print('mean walking distance ', np.mean(allWalkingDistances_parts)/1000, 'km')\n",
    "\n",
    "print('5km/h dist / walked mean dist: ', (walkingTime * walkingSpeed)/(np.mean(allWalkingDistances_parts)/1000))\n",
    "print( 'in VR they walked ', (np.mean(allWalkingDistances_parts)/1000)/(walkingTime * walkingSpeed), 'times what they should have with a 5 km/h speed limit')"
   ]
  },
  {
   "cell_type": "code",
   "execution_count": 87,
   "id": "f480864e",
   "metadata": {},
   "outputs": [
    {
     "data": {
      "image/png": "[encoded data removed]",
      "text/plain": [
       "<Figure size 720x432 with 1 Axes>"
      ]
     },
     "metadata": {
      "needs_background": "light"
     },
     "output_type": "display_data"
    }
   ],
   "source": [
    "# Example data\n",
    "\n",
    "# Create the histogram\n",
    "plt.figure(figsize=(10, 6))\n",
    "sns.histplot(allWalkingSpeeds,kde=False, stat='percent')\n",
    "\n",
    "\n",
    "# Add labels and title\n",
    "plt.xlabel('km/h', fontsize=14)\n",
    "plt.ylabel('%', fontsize=14)\n",
    "plt.title('Walking speed in VR - all participants', fontsize=16)\n",
    "\n",
    "full_path = os.path.join(savepath_walkingPaths, \"walkingSpeed_VR_allParticipants_allRows.png\")\n",
    "\n",
    "plt.savefig(full_path, dpi=300, bbox_inches='tight')\n",
    "\n",
    "# Show the plot\n",
    "plt.show()"
   ]
  },
  {
   "cell_type": "code",
   "execution_count": 88,
   "id": "f70054b2",
   "metadata": {},
   "outputs": [
    {
     "data": {
      "image/png": "[encoded data removed]",
      "text/plain": [
       "<Figure size 576x432 with 1 Axes>"
      ]
     },
     "metadata": {
      "needs_background": "light"
     },
     "output_type": "display_data"
    }
   ],
   "source": [
    "\n",
    "plt.figure(figsize=(8, 6))\n",
    "\n",
    "ax = sns.boxplot(data=allWalkingSpeed_means, palette='viridis')\n",
    "\n",
    "\n",
    "# Add labels and title\n",
    "plt.xlabel('Lists', fontsize=14)\n",
    "plt.ylabel('km/h', fontsize=14)\n",
    "plt.title('Mean walking speed in VR and Limassol', fontsize=12)\n",
    "\n",
    "# save plot\n",
    "\n",
    "full_path = os.path.join(savepath_walkingPaths, \"mean_walking_speeds_allRows.png\")\n",
    "\n",
    "plt.savefig(full_path, dpi=300, bbox_inches='tight')\n",
    "\n",
    "\n",
    "# Show the plot\n",
    "plt.show()"
   ]
  },
  {
   "cell_type": "code",
   "execution_count": 89,
   "id": "5a5dc7cc",
   "metadata": {},
   "outputs": [
    {
     "data": {
      "image/png": "[encoded data removed]",
      "text/plain": [
       "<Figure size 576x432 with 1 Axes>"
      ]
     },
     "metadata": {
      "needs_background": "light"
     },
     "output_type": "display_data"
    }
   ],
   "source": [
    "\n",
    "plt.figure(figsize=(8, 6))\n",
    "\n",
    "ax = sns.boxplot(data=allWalkingDistances, palette='viridis')\n",
    "\n",
    "exp_dist = (5 * (1/60)) * 1000 # 5km/h for 10 min in m \n",
    "# Add a horizontal line representing the Limassol value\n",
    "plt.axhline(y=exp_dist, color='red', linestyle='-', linewidth=2)\n",
    "\n",
    "# Add a label next to the axline\n",
    "plt.text(x=0.7, y=exp_dist, s='expectation', color='red', fontsize=12, verticalalignment='center')\n",
    "# \n",
    "\n",
    "# Add labels and title\n",
    "plt.ylabel('walking distance (m)', fontsize=14)\n",
    "plt.title('Walking distances in VR (1 file / 10 min)', fontsize=12)\n",
    "\n",
    "# save plot\n",
    "\n",
    "full_path = os.path.join(savepath_walkingPaths, 'walking_distances_Westbrook_1file_10min_allRows.png')\n",
    "\n",
    "plt.savefig(full_path, dpi=300, bbox_inches='tight')\n",
    "\n",
    "\n",
    "# Show the plot\n",
    "plt.show()"
   ]
  },
  {
   "cell_type": "code",
   "execution_count": 90,
   "id": "069a2f74",
   "metadata": {},
   "outputs": [
    {
     "data": {
      "image/png": "[encoded data removed]",
      "text/plain": [
       "<Figure size 576x432 with 1 Axes>"
      ]
     },
     "metadata": {
      "needs_background": "light"
     },
     "output_type": "display_data"
    }
   ],
   "source": [
    "\n",
    "plt.figure(figsize=(8, 6))\n",
    "\n",
    "ax = sns.boxplot(data=allWalkingDistances_parts, palette='viridis')\n",
    "\n",
    "exp_m_all = (5* 2.5)*1000 # 5km/h for 150min/2.5 hours in m\n",
    "# Add a horizontal line representing the Limassol value\n",
    "plt.axhline(y=exp_m_all, color='red', linestyle='-', linewidth=2)\n",
    "\n",
    "# Add a label next to the axline\n",
    "plt.text(x=0.7, y=exp_m_all, s='expectation', color='red', fontsize=12, verticalalignment='center')\n",
    "\n",
    "\n",
    "# Add labels and title\n",
    "plt.ylabel('walking distance (m)', fontsize=14)\n",
    "plt.title('Walking distances in VR of each participant', fontsize=12)\n",
    "\n",
    "# save plot\n",
    "\n",
    "full_path = os.path.join(savepath_walkingPaths, 'walking_distances_Westbrook_participants_allRows.png')\n",
    "\n",
    "plt.savefig(full_path, dpi=300, bbox_inches='tight')\n",
    "\n",
    "\n",
    "# Show the plot\n",
    "plt.show()"
   ]
  }
 ],
 "metadata": {
  "kernelspec": {
   "display_name": "Python 3",
   "language": "python",
   "name": "python3"
  },
  "language_info": {
   "codemirror_mode": {
    "name": "ipython",
    "version": 3
   },
   "file_extension": ".py",
   "mimetype": "text/x-python",
   "name": "python",
   "nbconvert_exporter": "python",
   "pygments_lexer": "ipython3",
   "version": "3.6.15"
  },
  "varInspector": {
   "cols": {
    "lenName": 16,
    "lenType": 16,
    "lenVar": 40
   },
   "kernels_config": {
    "python": {
     "delete_cmd_postfix": "",
     "delete_cmd_prefix": "del ",
     "library": "var_list.py",
     "varRefreshCmd": "print(var_dic_list())"
    },
    "r": {
     "delete_cmd_postfix": ") ",
     "delete_cmd_prefix": "rm(",
     "library": "var_list.r",
     "varRefreshCmd": "cat(var_dic_list()) "
    }
   },
   "types_to_exclude": [
    "module",
    "function",
    "builtin_function_or_method",
    "instance",
    "_Feature"
   ],
   "window_display": false
  }
 },
 "nbformat": 4,
 "nbformat_minor": 5
}
