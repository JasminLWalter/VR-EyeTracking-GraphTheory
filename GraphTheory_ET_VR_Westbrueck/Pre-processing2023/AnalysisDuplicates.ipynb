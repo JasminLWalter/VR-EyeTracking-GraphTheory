{
 "cells": [
  {
   "cell_type": "code",
   "execution_count": 71,
   "id": "56984e4c",
   "metadata": {},
   "outputs": [
    {
     "name": "stdout",
     "output_type": "stream",
     "text": [
      "Once deleted, variables cannot be recovered. Proceed (y/[n])? y\n"
     ]
    }
   ],
   "source": [
    "%reset"
   ]
  },
  {
   "cell_type": "markdown",
   "id": "e4d3fa9f",
   "metadata": {},
   "source": [
    "# Import\n"
   ]
  },
  {
   "cell_type": "code",
   "execution_count": 2,
   "id": "6a72807d",
   "metadata": {},
   "outputs": [],
   "source": [
    "import copy  # copy big/deep objects by value\n",
    "import csv\n",
    "import datetime  # datetime operations\n",
    "import itertools  # operate with iterators\n",
    "import json  # read/write from/into json format\n",
    "import math\n",
    "import os  # OS operations (read/write files/folders)\n",
    "import sys\n",
    "import time\n",
    "import warnings  # hide warnings\n",
    "from collections import Counter\n",
    "from itertools import groupby\n",
    "import matplotlib\n",
    "\n",
    "# process parallelization\n",
    "from multiprocessing import Manager, Pool, RawArray, cpu_count\n",
    "from os.path import exists\n",
    "\n",
    "import matplotlib.pyplot as plt  # mother of plots focr Python\n",
    "\n",
    "# import mlxtend\n",
    "import numpy as np  # array/matrix operations (e.g. linear algebra)\n",
    "import pandas as pd  # operate with dataframes\n",
    "import pyxdf  # read XDF files (LSL streams recordings)\n",
    "\n",
    "import scipy.stats\n",
    "import seaborn as sns  # matplotlib plotting nice with shortcuts\n",
    "from IPython.display import Markdown, display  # print nicely\n",
    "from ipywidgets import IntProgress\n",
    "#from matplotlib.pyplot import cm\n",
    "from scipy.signal import savgol_coeffs\n",
    "from tqdm.notebook import tqdm, trange  # mother of progressbars\n",
    "from scipy.stats import ks_2samp\n",
    "from multiprocessing import Pool, cpu_count\n",
    "\n",
    "import scipy.signal"
   ]
  },
  {
   "cell_type": "code",
   "execution_count": 3,
   "id": "8e4e1290",
   "metadata": {},
   "outputs": [
    {
     "name": "stdout",
     "output_type": "stream",
     "text": [
      "Total CPU threads: 8\n"
     ]
    }
   ],
   "source": [
    "# inline static plotting (default)\n",
    "%matplotlib inline\n",
    "# interactive plotting\n",
    "# %matplotlib widget\n",
    "\n",
    "# progress bar customized format\n",
    "B_FORMAT = \"\"\"📄 {n_fmt} of {total_fmt} {desc} processed: {bar} \n",
    "            {percentage:3.0f}% ⏱️{elapsed} ⏳{remaining} ⚙️{rate_fmt}{postfix}\"\"\"\n",
    "\n",
    "\n",
    "CORES = cpu_count()  # number of cpu threads for multiprocessing\n",
    "print(f\"Total CPU threads: {CORES}\")\n",
    "\n",
    "\n",
    "def pbar_fork_hack():\n",
    "    \"\"\"\n",
    "    Hack to enforce progress bars to be displayed by fork processes on\n",
    "    IPython Apps like Jupyter Notebooks.\n",
    "\n",
    "    Avoids [IPKernelApp] WARNING | WARNING: attempted to send message from fork\n",
    "\n",
    "    Important: pass this function as argument for the initializer parameter\n",
    "    while initializing a multiprocessing pool to make it work. E.g.:\n",
    "\n",
    "    pool = Pool(processes=N_CORES, initializer=pbar_fork_hack)\n",
    "\n",
    "    Source:\n",
    "     - https://github.com/ipython/ipython/issues/11049#issue-306086846\n",
    "     - https://github.com/tqdm/tqdm/issues/485#issuecomment-473338308\n",
    "    \"\"\"\n",
    "    print(\" \", end=\"\", flush=True)"
   ]
  },
  {
   "cell_type": "code",
   "execution_count": 4,
   "id": "98faffd6",
   "metadata": {},
   "outputs": [],
   "source": [
    "DATA_PATH = \"E:/WestbrookProject/SpaRe_Data/control_data/pre-processing_2023/step1_preparation\"\n",
    "\n",
    "savepath = \"E:/WestbrookProject/SpaRe_Data/control_data/pre-processing_2023/analysis_duplicates\"\n"
   ]
  },
  {
   "cell_type": "code",
   "execution_count": 5,
   "id": "19f683de",
   "metadata": {},
   "outputs": [
    {
     "name": "stdout",
     "output_type": "stream",
     "text": [
      "26 participants\n"
     ]
    }
   ],
   "source": [
    "# Participant list of all participants that participated 5 sessions x 30 min\n",
    "# in Westbrook city\n",
    "PartList = [1004, 1005, 1008, 1010, 1011, 1013, 1017, 1018, 1019, 1021, 1022, 1023, 1054, 1055, 1056, 1057, 1058, 1068, 1069, 1072, 1073, 1074, 1075, 1077, 1079, 1080]\n",
    "print(len(PartList),'participants') "
   ]
  },
  {
   "cell_type": "code",
   "execution_count": 5,
   "id": "9f262d54",
   "metadata": {},
   "outputs": [],
   "source": [
    "# PartList = [1004]"
   ]
  },
  {
   "cell_type": "markdown",
   "id": "4cfaee33",
   "metadata": {},
   "source": [
    "# Processing"
   ]
  },
  {
   "cell_type": "code",
   "execution_count": 6,
   "id": "8932d0d8",
   "metadata": {},
   "outputs": [],
   "source": [
    "# Convert the Unix timestamps to datetime objects\n",
    "def convertTimeStamp(dataCTS):\n",
    "    \n",
    "    dataCTS['timeStampDataPointStart_converted'] = dataCTS['timeStampDataPointStart'] - dataCTS.loc[0,'timeStampDataPointStart']"
   ]
  },
  {
   "cell_type": "code",
   "execution_count": 7,
   "id": "6fedefa7",
   "metadata": {},
   "outputs": [],
   "source": [
    "def checkDuplicates(data2check, columns_to_check):\n",
    "    \n",
    "    if(len(columns_to_check) == 1):\n",
    "        \n",
    "        repeatedRows = data2check[columns_to_check].diff().eq(0).all(axis=1)\n",
    "        \n",
    "    else:\n",
    "        # Check if differences between consecutive rows are consistently 0 for the selected columns\n",
    "    \n",
    "        # first create df with differences within each column - compare each row with the next\n",
    "        diffDF = data2check[columns_to_check].diff()\n",
    "\n",
    "        # then check, if there are 0 differences (doublicates) in all columns\n",
    "        repeatedRows = diffDF.eq(0).all(axis=1)\n",
    "    \n",
    "    return repeatedRows"
   ]
  },
  {
   "cell_type": "code",
   "execution_count": 6,
   "id": "71ade352",
   "metadata": {},
   "outputs": [],
   "source": [
    "# # test code - load file\n",
    "\n",
    "# file= \"1004_Session_5_ET_1_data_prepared.csv\"\n",
    "# data = pd.read_csv(os.path.join(DATA_PATH, file))\n"
   ]
  },
  {
   "cell_type": "code",
   "execution_count": 35,
   "id": "a36574e7",
   "metadata": {},
   "outputs": [],
   "source": [
    "# dataShort = data.head(20).copy()\n",
    "\n",
    "# # dataShort.loc[3:12, dataShort.columns[3:10]] = 4\n"
   ]
  },
  {
   "cell_type": "code",
   "execution_count": 51,
   "id": "244a0919",
   "metadata": {},
   "outputs": [],
   "source": [
    "# a = np.array([[[1, 2, 3], [4, 5, 6], [7, 8, 9]],\n",
    "#     [[10, 11, 12], [13, 14, 15], [16, 17, 18]],\n",
    "#     [[19, 20, 21], [22, 23, 24], [25, 26, 27]]])\n",
    "\n",
    "# b = a[:,0:2]\n",
    "\n",
    "# # print(b)\n",
    "# df = pd.DataFrame(columns=['A', 'B'])\n",
    "\n",
    "# df = df.append({'A': 2 * 2, 'B': 2 * 3}, ignore_index = True)\n",
    "# df = df.append({'A': 2 * 2, 'c': 2 * 3}, ignore_index = True)\n",
    "\n",
    "# df = df.append({'E': a}, ignore_index = True)\n",
    "# df = df.append({'E': b}, ignore_index = True)\n",
    "\n",
    "# print(df.iloc[1,3])"
   ]
  },
  {
   "cell_type": "code",
   "execution_count": 52,
   "id": "0ff6007c",
   "metadata": {},
   "outputs": [],
   "source": [
    "# # df = pd.DataFrame({'col1': [1, 3, 3, 4, 4, 5,6,6]})\n",
    "\n",
    "\n",
    "# df = pd.DataFrame({'col1': [1, 3, 3, 4, 4, 5,6,6],\n",
    "#                    'col2': [2, 30, 30, 400,400,50,6,6],\n",
    "#                    'col3': [3, 1, 4, 3,3,5,6,6]})\n",
    "\n",
    "\n",
    "# print(df.columns[0])\n",
    "# print(checkDuplicates(df,df.columns[0:1]).sum())\n",
    "\n",
    "# # # df['diff1'] = df['col1'].diff()\n",
    "# # # df['diff2'] = df['col2'].diff()\n",
    "# # # df['diff3'] = df['col3'].diff()\n",
    "\n",
    "# # cols= df.columns[0:3]\n",
    "\n",
    "# # print(cols)\n",
    "\n",
    "# # # df['diffAll']= df[cols].diff(axis=1).fillna(0).eq(0).all(axis=1)\n",
    "\n",
    "# # # df.head(10)\n",
    "\n",
    "# # testiDF = df.copy()\n",
    "\n",
    "# # columns_to_check = df.columns[0:3]\n",
    "\n",
    "# # helperDF2 = pd.DataFrame()\n",
    "\n",
    "\n",
    "# # helperDF2 = df[columns_to_check].diff()\n",
    "\n",
    "# # columns1 = helperDF2.columns[0:3]\n",
    "\n",
    "# # helper3 = helperDF2.eq(0).all(axis=1)\n",
    "# # # for idx, col in enumerate(columns_to_check):\n",
    "# # #     print(col)\n",
    "# # #     helperDF[col] = testiDF[col].diff()\n",
    "    \n",
    "# # # helperDF['allDiff']= helperDF[:].diff(axis=1)\n",
    "# # # print(helper3)\n",
    "\n",
    "# # helper4 = pd.concat([df,helperDF2], axis = 1)\n",
    "# # helper4['allDiff'] = helper3\n",
    "\n",
    "# # print(helper4['allDiff'].sum())\n",
    "\n",
    "\n",
    "\n",
    "# # helper5 = checkDuplicates(df, columns_to_check)\n",
    "# # helper4['newDiff'] = helper5\n",
    "# # helper4.head(10)"
   ]
  },
  {
   "cell_type": "code",
   "execution_count": 53,
   "id": "f6b4a9fc",
   "metadata": {},
   "outputs": [],
   "source": [
    "# sns.set_theme()\n",
    "# a =  np.array([[[1, 2, 3], [4, 5, 6], [7, 8, 9]],\n",
    "#                 [[10, 11, 12], [13, 14, 15], [16, 17, 18]],\n",
    "#                 [[19, 20, 21], [22, 23, 24], [25, np.nan, 27]]])\n",
    "\n",
    "# b = np.array([[[100, 200, 300], [400, 500, 600], [700, 800, 900]]])\n",
    "# # b_expanded = np.expand_dims(b, axis=3)\n",
    "# # print(a)\n",
    "# # print('----------')\n",
    "# # print(b)\n",
    "# c = np.concatenate((a,b),axis=0)\n",
    "# print('----------')\n",
    "\n",
    "# print(c[:,0,0])\n",
    "\n",
    "# print(np.mean(c[:,0,:]))\n",
    "\n",
    "# d = np.zeros([4,4])\n",
    "# print(d)\n",
    "\n",
    "# f, ax = plt.subplots(figsize=(9, 6))\n",
    "# sns.heatmap(a[2,:,:], annot=True, fmt=\".1f\", linewidths=.5, ax=ax, cmap = \"viridis\")\n"
   ]
  },
  {
   "cell_type": "code",
   "execution_count": 54,
   "id": "84218570",
   "metadata": {},
   "outputs": [],
   "source": [
    "# a = np.array([0,0,1,0,0,0])\n",
    "# b = np.array([0,0,1,1,0,0])\n",
    "\n",
    "# c = ~(a==b)\n",
    "# print(sum(c))\n",
    "# # c = [a,b]\n",
    "# # print(c)\n",
    "\n",
    "# # dataLen = len(data)\n",
    "# # eyeVars =  data.columns[3:10]\n",
    "# # check if vars are correctly selected\n",
    "# # for column_name in enumerate(eyeVars):\n",
    "# #     print(column_name)\n",
    "    \n"
   ]
  },
  {
   "cell_type": "code",
   "execution_count": 50,
   "id": "7438f010",
   "metadata": {},
   "outputs": [
    {
     "name": "stdout",
     "output_type": "stream",
     "text": [
      "eye vars sum duplicates percentage 0.5147473368742768\n",
      "--------------------\n",
      "unity vars sum duplicates percentage 0.429824040829649\n",
      "--------------------\n",
      "eye unity combination vars sum duplicates percentage 0.429824040829649\n",
      "--------------------\n",
      "start TS 0.0\n",
      "end TS 0.4295124773745586\n",
      "verbose TS 0.0\n",
      "--------------------\n"
     ]
    },
    {
     "name": "stderr",
     "output_type": "stream",
     "text": [
      "D:\\Software\\Programme\\Anaconda3\\envs\\graphs\\lib\\site-packages\\ipykernel_launcher.py:92: RuntimeWarning: divide by zero encountered in long_scalars\n",
      "D:\\Software\\Programme\\Anaconda3\\envs\\graphs\\lib\\site-packages\\ipykernel_launcher.py:92: RuntimeWarning: invalid value encountered in long_scalars\n"
     ]
    },
    {
     "name": "stdout",
     "output_type": "stream",
     "text": [
      "[[3.4695e+04 5.7240e+03 5.7240e+03 3.4695e+04 5.7450e+03 3.4695e+04]\n",
      " [5.7240e+03 2.8971e+04 0.0000e+00 2.8971e+04 2.1000e+01 2.8971e+04]\n",
      " [5.7240e+03 0.0000e+00 2.8971e+04 2.8971e+04 2.1000e+01 2.8971e+04]\n",
      " [3.4695e+04 2.8971e+04 2.8971e+04 0.0000e+00 2.8950e+04 0.0000e+00]\n",
      " [5.7450e+03 2.1000e+01 2.1000e+01 2.8950e+04 2.8950e+04 2.8950e+04]\n",
      " [3.4695e+04 2.8971e+04 2.8971e+04 0.0000e+00 2.8950e+04 0.0000e+00]]\n",
      "[[5.14747337e-01 1.64980545e-01 1.64980545e-01 1.00000000e+00\n",
      "  1.65585819e-01 1.00000000e+00]\n",
      " [1.97576887e-01 4.29824041e-01 0.00000000e+00 1.00000000e+00\n",
      "  7.24862794e-04 1.00000000e+00]\n",
      " [1.97576887e-01 0.00000000e+00 4.29824041e-01 1.00000000e+00\n",
      "  7.24862794e-04 1.00000000e+00]\n",
      " [           inf            inf            inf 0.00000000e+00\n",
      "             inf            nan]\n",
      " [1.98445596e-01 7.25388601e-04 7.25388601e-04 1.00000000e+00\n",
      "  4.29512477e-01 1.00000000e+00]\n",
      " [           inf            inf            inf            nan\n",
      "             inf 0.00000000e+00]]\n"
     ]
    },
    {
     "data": {
      "image/png": "[encoded data removed]",
      "text/plain": [
       "<Figure size 1080x1080 with 8 Axes>"
      ]
     },
     "metadata": {
      "needs_background": "light"
     },
     "output_type": "display_data"
    }
   ],
   "source": [
    "# test code - apply functions\n",
    "\n",
    "# data = convertTimeStamp(data)\n",
    "\n",
    "dupl_df = pd.DataFrame(columns=['Participant', \n",
    "                                'Session', \n",
    "                                'ETSess', \n",
    "                                'dataLength', \n",
    "                                'eyeVars_dupl', \n",
    "                                'unityVars_dupl',\n",
    "                                'eyeUnityComb_dupl',\n",
    "                                'startTS_dupl',\n",
    "                                'endTS_dupl',\n",
    "                                'verbTS_dupl',\n",
    "                                'matrix'])\n",
    "dataLen = len(data)\n",
    "eyeVars =  data.columns[3:10]\n",
    "# check if vars are correctly selected\n",
    "# for column_name in enumerate(eyeVars):\n",
    "#     print(column_name)\n",
    "    \n",
    "eyeVars_dupl= checkDuplicates(data, eyeVars)\n",
    "\n",
    "print('eye vars sum duplicates percentage', sum(eyeVars_dupl)/len(data))\n",
    "print('--------------------')\n",
    "\n",
    "unityVars = data.columns[37:79]\n",
    "# check if vars are correctly selected\n",
    "# for column_name in enumerate(unityVars):\n",
    "#     print(column_name)\n",
    "    \n",
    "unityVars_dupl = checkDuplicates(data, unityVars)\n",
    "print('unity vars sum duplicates percentage', sum(unityVars_dupl)/len(data))\n",
    "print('--------------------')\n",
    "\n",
    "eyeUnityComb = data.columns[10:37]\n",
    "# check if vars are correctly selected\n",
    "# for column_name in enumerate(eyeUnityComb):\n",
    "#     print(column_name)\n",
    "eyeUnityComb_dupl = checkDuplicates(data, eyeUnityComb)\n",
    "print('eye unity combination vars sum duplicates percentage', sum(eyeUnityComb_dupl)/len(data))\n",
    "print('--------------------')\n",
    "\n",
    "\n",
    "startTS_dupl = checkDuplicates(data, data.columns[0:1])\n",
    "endTS_dupl = checkDuplicates(data, data.columns[1:2])\n",
    "verbTS_dupl = checkDuplicates(data, data.columns[2:3])\n",
    "\n",
    "print('start TS', sum(startTS_dupl)/dataLen)\n",
    "print('end TS', sum(endTS_dupl)/dataLen)\n",
    "print('verbose TS', sum(verbTS_dupl)/dataLen)\n",
    "\n",
    "print('--------------------')\n",
    "\n",
    "# create matrix with combinations of duplocate values\n",
    "dupl_list_sum = [sum(eyeVars_dupl), sum(unityVars_dupl), sum(eyeUnityComb_dupl),sum(startTS_dupl),sum(endTS_dupl),sum(verbTS_dupl)]\n",
    "dupl_list_bools = [eyeVars_dupl, unityVars_dupl, eyeUnityComb_dupl,startTS_dupl,endTS_dupl,verbTS_dupl]\n",
    "dupl_arr_nr = np.zeros([len(dupl_list_sum), len(dupl_list_sum)])\n",
    "dupl_arr_p = np.zeros([len(dupl_list_sum), len(dupl_list_sum)])\n",
    "dupl_arr_p2 = np.zeros([len(dupl_list_sum), len(dupl_list_sum)])\n",
    "dupl_arr_p3 = np.zeros([len(dupl_list_sum), len(dupl_list_sum)])\n",
    "\n",
    "for indexR in range(len(dupl_list_sum)):\n",
    "    \n",
    "    for indexC in range(len(dupl_list_sum)):\n",
    "        \n",
    "        # if condition to handle the diagonale\n",
    "        if indexR == indexC:\n",
    "            dupl_arr_nr[indexR, indexC] = dupl_list_sum[indexR]\n",
    "            dupl_arr_p[indexR, indexC] = dupl_list_sum[indexR]/dataLen\n",
    "            dupl_arr_p2[indexR, indexC] = np.nan\n",
    "            dupl_arr_p3[indexR, indexC] = np.nan\n",
    "            \n",
    "        else:\n",
    "            valueR = np.array(dupl_list_bools[indexR])\n",
    "            valueC = np.array(dupl_list_bools[indexC])\n",
    "            \n",
    "            overlap = ~(valueR == valueC)\n",
    "            \n",
    "            oandvR = overlap & valueR\n",
    "            oandvC = overlap & valueC\n",
    "            \n",
    "#             print([indexR, indexC])\n",
    "#             print('o and vR ' ,sum(oandvR))\n",
    "#             print('o and vC ', sum(oandvC))\n",
    "            \n",
    "            dupl_arr_nr[indexR, indexC] = sum(overlap)\n",
    "            \n",
    "#             if(indexR > indexC):\n",
    "            dupl_arr_nr[indexR, indexC] = sum(overlap)\n",
    "\n",
    "            dupl_arr_p[indexR, indexC] = sum(overlap)/dupl_list_sum[indexR]\n",
    "        \n",
    "            dupl_arr_p2[indexR, indexC] = sum(oandvC)\n",
    "\n",
    "            dupl_arr_p3[indexR, indexC] = sum(oandvR)\n",
    "            \n",
    "#             if(indexR < indexC):\n",
    "                \n",
    "#                 dupl_arr_nr[indexR, indexC] = sum(overlap)\n",
    "                \n",
    "#                 dupl_arr_p[indexR, indexC] = sum(overlap)/dupl_list_sum[indexC]\n",
    "                \n",
    "#                 dupl_arr_p2[indexR, indexC] = sum(oandvC)\n",
    "\n",
    "print(dupl_arr_nr)\n",
    "print(dupl_arr_p)\n",
    "\n",
    "f, ax = plt.subplots(nrows=2, ncols=2, figsize=(15,15))\n",
    "sns.heatmap(dupl_arr_nr, annot=True, fmt=\".0f\", linewidths=.5, ax=ax[0,0], cmap = \"viridis\",\n",
    "            xticklabels=['eyeVars', 'unityVars', 'eyeUnityComb','startTS','endTS','verbTS'],  # Specify x-axis labels\n",
    "            yticklabels=['eyeVars', 'unityVars', 'eyeUnityComb','startTS','endTS','verbTS'])               \n",
    "                \n",
    "ax[0,0].set_title('Diagonale = sum repetitions in variable, rest = number of identical repetitions - how much overlap in repetitions do the variables have?')\n",
    "\n",
    "sns.heatmap(dupl_arr_p, annot=True, fmt=\".5f\", linewidths=.5, ax=ax[0,1], cmap = \"viridis\",\n",
    "            xticklabels=['eyeVars', 'unityVars', 'eyeUnityComb','startTS','endTS','verbTS'],  # Specify x-axis labels\n",
    "            yticklabels=['eyeVars', 'unityVars', 'eyeUnityComb','startTS','endTS','verbTS'])               \n",
    "ax[0,1].set_title('Here in percentages')  \n",
    "\n",
    "sns.heatmap(dupl_arr_p2, annot=True, fmt=\".0f\", linewidths=.5, ax=ax[1,0], cmap = \"viridis\",\n",
    "            xticklabels=['eyeVars', 'unityVars', 'eyeUnityComb','startTS','endTS','verbTS'],  # Specify x-axis labels\n",
    "            yticklabels=['eyeVars', 'unityVars', 'eyeUnityComb','startTS','endTS','verbTS'])               \n",
    "ax[1,0].set_title('Overlap percentages - sum(overlap = ~(valueR == valueC) & column value)')\n",
    "\n",
    "sns.heatmap(dupl_arr_p3, annot=True, fmt=\".0f\", linewidths=.5, ax=ax[1,1], cmap = \"viridis\",\n",
    "            xticklabels=['eyeVars', 'unityVars', 'eyeUnityComb','startTS','endTS','verbTS'],  # Specify x-axis labels\n",
    "            yticklabels=['eyeVars', 'unityVars', 'eyeUnityComb','startTS','endTS','verbTS'])               \n",
    "ax[1,1].set_title('Overlap percentages - sum(overlap = ~(valueR == valueC) & row value)') \n",
    "\n",
    "\n",
    "# Adjust layout and display the plot\n",
    "plt.tight_layout()\n",
    "\n",
    "\n",
    "# save plot\n",
    "\n",
    "# Save the plot to the specified directory\n",
    "save_file = os.path.join(savepath, 'exampleFile_AnalyseRepetitionsDouplicates.png')\n",
    "plt.savefig(save_file, format='png')\n",
    "\n",
    "plt.show()\n",
    "\n",
    "\n",
    "\n",
    "\n",
    "##########################################################################################################################\n",
    "# dupl_df = dupl_df.append({'Participant':1004, \n",
    "#                         'Session':1, \n",
    "#                         'ETSess':1, \n",
    "#                         'dataLength':dataLen, \n",
    "#                         'eyeVars_dupl': eyeVars_dupl, \n",
    "#                         'unityVars_dupl': unityVars_dupl,\n",
    "#                         'eyeUnityComb_dupl': eyeUnityComb_dupl,\n",
    "#                         'startTS_dupl': startTS_dupl,\n",
    "#                         'endTS_dupl': endTS_dupl,\n",
    "#                         'verbTS_dupl': verbTS_dupl}, \n",
    "#                         ignore_index = True)\n",
    "\n",
    "# dupl_df.head()\n",
    "\n",
    "# allEU_dupl = eyeVars_dupl & unityVars_dupl & eyeUnityComb_dupl\n",
    "# print(sum(allEU_dupl)/len(data))\n",
    "\n",
    "\n",
    "# timeDiff_startTS = data['timeStampDataPointStart'].diff()\n",
    "# print('--------start time stamp - sampling rate at duplicate rows ------------')\n",
    "# print(1/np.nanmin(timeDiff_startTS[allEU_dupl]))\n",
    "# print(1/np.nanmax(timeDiff_startTS[allEU_dupl]))\n",
    "# print(1/np.nanmean(timeDiff_startTS[allEU_dupl]))\n",
    "# print(1/np.nanmedian(timeDiff_startTS[allEU_dupl]))\n",
    "\n",
    "\n",
    "# timeDiff_verboseTS = data['timeStampGetVerboseData'].diff()\n",
    "# print('--------verbose time stamp - sampling rate at duplicate rows ------------')\n",
    "# print(1/np.nanmin(timeDiff_verboseTS[allEU_dupl]))\n",
    "# print(1/np.nanmax(timeDiff_verboseTS[allEU_dupl]))\n",
    "# print(1/np.nanmean(timeDiff_verboseTS[allEU_dupl]))\n",
    "# print(1/np.nanmedian(timeDiff_verboseTS[allEU_dupl]))\n",
    "\n",
    "\n",
    "# timeDiff_endTS = data['timeStampDataPointEnd'].diff()\n",
    "# print('--------end time stamp - sampling rate at duplicate rows ------------')\n",
    "# print(1/np.nanmin(timeDiff_endTS[allEU_dupl]))\n",
    "# print(1/np.nanmax(timeDiff_endTS[allEU_dupl]))\n",
    "# print(1/np.nanmean(timeDiff_endTS[allEU_dupl]))\n",
    "# print(1/np.nanmedian(timeDiff_endTS[allEU_dupl]))"
   ]
  },
  {
   "cell_type": "code",
   "execution_count": 13,
   "id": "cfd0f98c",
   "metadata": {},
   "outputs": [
    {
     "data": {
      "text/html": [
       "<div>\n",
       "<style scoped>\n",
       "    .dataframe tbody tr th:only-of-type {\n",
       "        vertical-align: middle;\n",
       "    }\n",
       "\n",
       "    .dataframe tbody tr th {\n",
       "        vertical-align: top;\n",
       "    }\n",
       "\n",
       "    .dataframe thead th {\n",
       "        text-align: right;\n",
       "    }\n",
       "</style>\n",
       "<table border=\"1\" class=\"dataframe\">\n",
       "  <thead>\n",
       "    <tr style=\"text-align: right;\">\n",
       "      <th></th>\n",
       "      <th>Participant</th>\n",
       "      <th>Session</th>\n",
       "      <th>ETSess</th>\n",
       "      <th>dataLength</th>\n",
       "      <th>eyeVars_dupl</th>\n",
       "      <th>unityVars_dupl</th>\n",
       "      <th>eyeUnityComb_dupl</th>\n",
       "      <th>startTS_dupl</th>\n",
       "      <th>endTS_dupl</th>\n",
       "      <th>verbTS_dupl</th>\n",
       "      <th>matrix</th>\n",
       "    </tr>\n",
       "  </thead>\n",
       "  <tbody>\n",
       "  </tbody>\n",
       "</table>\n",
       "</div>"
      ],
      "text/plain": [
       "Empty DataFrame\n",
       "Columns: [Participant, Session, ETSess, dataLength, eyeVars_dupl, unityVars_dupl, eyeUnityComb_dupl, startTS_dupl, endTS_dupl, verbTS_dupl, matrix]\n",
       "Index: []"
      ]
     },
     "execution_count": 13,
     "metadata": {},
     "output_type": "execute_result"
    }
   ],
   "source": [
    "# dupl_df.head()"
   ]
  },
  {
   "cell_type": "code",
   "execution_count": 10,
   "id": "01740bee",
   "metadata": {},
   "outputs": [
    {
     "name": "stdout",
     "output_type": "stream",
     "text": [
      "Index: 0, Column Name: timeStampDataPointStart\n",
      "Index: 1, Column Name: timeStampDataPointEnd\n",
      "Index: 2, Column Name: timeStampGetVerboseData\n",
      "Index: 3, Column Name: eyeOpennessLeft\n",
      "Index: 4, Column Name: eyeOpennessRight\n",
      "Index: 5, Column Name: pupilDiameterMillimetersLeft\n",
      "Index: 6, Column Name: pupilDiameterMillimetersRight\n",
      "Index: 7, Column Name: leftGazeValidityBitmask\n",
      "Index: 8, Column Name: rightGazeValidityBitmask\n",
      "Index: 9, Column Name: combinedGazeValidityBitmask\n",
      "Index: 10, Column Name: eyePositionCombinedWorld_x\n",
      "Index: 11, Column Name: eyePositionCombinedWorld_y\n",
      "Index: 12, Column Name: eyePositionCombinedWorld_z\n",
      "Index: 13, Column Name: eyeDirectionCombinedWorld_x\n",
      "Index: 14, Column Name: eyeDirectionCombinedWorld_y\n",
      "Index: 15, Column Name: eyeDirectionCombinedWorld_z\n",
      "Index: 16, Column Name: eyeDirectionCombinedLocal_x\n",
      "Index: 17, Column Name: eyeDirectionCombinedLocal_y\n",
      "Index: 18, Column Name: eyeDirectionCombinedLocal_z\n",
      "Index: 19, Column Name: eyePositionLeftWorld_x\n",
      "Index: 20, Column Name: eyePositionLeftWorld_y\n",
      "Index: 21, Column Name: eyePositionLeftWorld_z\n",
      "Index: 22, Column Name: eyeDirectionLeftWorld_x\n",
      "Index: 23, Column Name: eyeDirectionLeftWorld_y\n",
      "Index: 24, Column Name: eyeDirectionLeftWorld_z\n",
      "Index: 25, Column Name: eyeDirectionLeftLocal_x\n",
      "Index: 26, Column Name: eyeDirectionLeftLocal_y\n",
      "Index: 27, Column Name: eyeDirectionLeftLocal_z\n",
      "Index: 28, Column Name: eyePositionRightWorld_x\n",
      "Index: 29, Column Name: eyePositionRightWorld_y\n",
      "Index: 30, Column Name: eyePositionRightWorld_z\n",
      "Index: 31, Column Name: eyeDirectionRightWorld_x\n",
      "Index: 32, Column Name: eyeDirectionRightWorld_y\n",
      "Index: 33, Column Name: eyeDirectionRightWorld_z\n",
      "Index: 34, Column Name: eyeDirectionRightLocal_x\n",
      "Index: 35, Column Name: eyeDirectionRightLocal_y\n",
      "Index: 36, Column Name: eyeDirectionRightLocal_z\n",
      "Index: 37, Column Name: hmdPosition_x\n",
      "Index: 38, Column Name: hmdPosition_y\n",
      "Index: 39, Column Name: hmdPosition_z\n",
      "Index: 40, Column Name: hmdDirectionForward_x\n",
      "Index: 41, Column Name: hmdDirectionForward_y\n",
      "Index: 42, Column Name: hmdDirectionForward_z\n",
      "Index: 43, Column Name: hmdDirectionRight_x\n",
      "Index: 44, Column Name: hmdDirectionRight_y\n",
      "Index: 45, Column Name: hmdDirectionRight_z\n",
      "Index: 46, Column Name: hmdRotation_x\n",
      "Index: 47, Column Name: hmdRotation_y\n",
      "Index: 48, Column Name: hmdRotation_z\n",
      "Index: 49, Column Name: hmdDirectionUp_x\n",
      "Index: 50, Column Name: hmdDirectionUp_y\n",
      "Index: 51, Column Name: hmdDirectionUp_z\n",
      "Index: 52, Column Name: handLeftPosition_x\n",
      "Index: 53, Column Name: handLeftPosition_y\n",
      "Index: 54, Column Name: handLeftPosition_z\n",
      "Index: 55, Column Name: handRightPosition_x\n",
      "Index: 56, Column Name: handRightPosition_y\n",
      "Index: 57, Column Name: handRightPosition_z\n",
      "Index: 58, Column Name: handRightRotation_x\n",
      "Index: 59, Column Name: handRightRotation_y\n",
      "Index: 60, Column Name: handRightRotation_z\n",
      "Index: 61, Column Name: handRightDirectionForward_x\n",
      "Index: 62, Column Name: handRightDirectionForward_y\n",
      "Index: 63, Column Name: handRightDirectionForward_z\n",
      "Index: 64, Column Name: handRightDirectionRight_x\n",
      "Index: 65, Column Name: handRightDirectionRight_y\n",
      "Index: 66, Column Name: handRightDirectionRight_z\n",
      "Index: 67, Column Name: handRightDirectionUp_x\n",
      "Index: 68, Column Name: handRightDirectionUp_y\n",
      "Index: 69, Column Name: handRightDirectionUp_z\n",
      "Index: 70, Column Name: playerBodyPosition_x\n",
      "Index: 71, Column Name: playerBodyPosition_y\n",
      "Index: 72, Column Name: playerBodyPosition_z\n",
      "Index: 73, Column Name: bodyTrackerPosition_x\n",
      "Index: 74, Column Name: bodyTrackerPosition_y\n",
      "Index: 75, Column Name: bodyTrackerPosition_z\n",
      "Index: 76, Column Name: bodyTrackerRotation_x\n",
      "Index: 77, Column Name: bodyTrackerRotation_y\n",
      "Index: 78, Column Name: bodyTrackerRotation_z\n",
      "Index: 79, Column Name: hitObjectColliderName_1\n",
      "Index: 80, Column Name: ordinalOfHit_1\n",
      "Index: 81, Column Name: hitPointOnObject_x_1\n",
      "Index: 82, Column Name: hitPointOnObject_y_1\n",
      "Index: 83, Column Name: hitPointOnObject_z_1\n",
      "Index: 84, Column Name: hitObjectColliderBoundsCenter_x_1\n",
      "Index: 85, Column Name: hitObjectColliderBoundsCenter_y_1\n",
      "Index: 86, Column Name: hitObjectColliderBoundsCenter_z_1\n",
      "Index: 87, Column Name: hitObjectColliderName_2\n",
      "Index: 88, Column Name: ordinalOfHit_2\n",
      "Index: 89, Column Name: hitPointOnObject_x_2\n",
      "Index: 90, Column Name: hitPointOnObject_y_2\n",
      "Index: 91, Column Name: hitPointOnObject_z_2\n",
      "Index: 92, Column Name: hitObjectColliderBoundsCenter_x_2\n",
      "Index: 93, Column Name: hitObjectColliderBoundsCenter_y_2\n",
      "Index: 94, Column Name: hitObjectColliderBoundsCenter_z_2\n",
      "Index: 95, Column Name: DataRow\n",
      "Index: 96, Column Name: hitObjectColliderisGraffiti_1\n",
      "Index: 97, Column Name: hitObjectColliderisGraffiti_2\n",
      "Index: 98, Column Name: processedCollider_name\n",
      "Index: 99, Column Name: processedCollider_hitPointOnObject_x\n",
      "Index: 100, Column Name: processedCollider_hitPointOnObject_y\n",
      "Index: 101, Column Name: processedCollider_hitPointOnObject_z\n",
      "Index: 102, Column Name: processedCollider_hitObjectColliderBoundsCenter_x\n",
      "Index: 103, Column Name: processedCollider_hitObjectColliderBoundsCenter_y\n",
      "Index: 104, Column Name: processedCollider_hitObjectColliderBoundsCenter_z\n",
      "Index: 105, Column Name: replacedRows\n",
      "Index: 106, Column Name: processedColliderIsNH\n",
      "Index: 107, Column Name: processedCollider_NH_name\n",
      "Index: 108, Column Name: processedCollider_NH_hitPointOnObject_x\n",
      "Index: 109, Column Name: processedCollider_NH_hitPointOnObject_y\n",
      "Index: 110, Column Name: processedCollider_NH_hitPointOnObject_z\n",
      "Index: 111, Column Name: processedCollider_NH_hitObjectColliderBoundsCenter_x\n",
      "Index: 112, Column Name: processedCollider_NH_hitObjectColliderBoundsCenter_y\n",
      "Index: 113, Column Name: processedCollider_NH_hitObjectColliderBoundsCenter_z\n",
      "Index: 114, Column Name: replacedRows_NH\n",
      "Index: 115, Column Name: processedCollider_NH_IsNH\n"
     ]
    }
   ],
   "source": [
    "# test code - print all columns and index'\n",
    "for idx, column_name in enumerate(data.columns):\n",
    "    print(f\"Index: {idx}, Column Name: {column_name}\")"
   ]
  },
  {
   "cell_type": "code",
   "execution_count": 20,
   "id": "be836c1e",
   "metadata": {},
   "outputs": [
    {
     "name": "stdout",
     "output_type": "stream",
     "text": [
      "start\n"
     ]
    },
    {
     "data": {
      "application/vnd.jupyter.widget-view+json": {
       "model_id": "7d655c1f9a5f47dc82d95b562b4f6689",
       "version_major": 2,
       "version_minor": 0
      },
      "text/plain": [
       "📄 0 of 1 participants processed:            \n",
       "              0% ⏱️00:00 ⏳? ⚙️?it/s"
      ]
     },
     "metadata": {},
     "output_type": "display_data"
    },
    {
     "name": "stdout",
     "output_type": "stream",
     "text": [
      "Participant 0 - participant ID 1004\n"
     ]
    },
    {
     "data": {
      "application/vnd.jupyter.widget-view+json": {
       "model_id": "3d69eb627c864cc782911ff58625b05f",
       "version_major": 2,
       "version_minor": 0
      },
      "text/plain": [
       "📄 0 of 5 sessions________ processed:            \n",
       "              0% ⏱️00:00 ⏳? ⚙️?it/s"
      ]
     },
     "metadata": {},
     "output_type": "display_data"
    },
    {
     "data": {
      "application/vnd.jupyter.widget-view+json": {
       "model_id": "8636e8626e0d4ceba19874995c38a864",
       "version_major": 2,
       "version_minor": 0
      },
      "text/plain": [
       "📄 0 of 3 📂 ET files____________ processed:            \n",
       "              0% ⏱️00:00 ⏳? ⚙️?it/s"
      ]
     },
     "metadata": {},
     "output_type": "display_data"
    },
    {
     "name": "stdout",
     "output_type": "stream",
     "text": [
      "process file  1004_Session_1_ET_1_data_prepared.csv\n",
      "--------------------\n"
     ]
    },
    {
     "name": "stderr",
     "output_type": "stream",
     "text": [
      "D:\\Software\\Programme\\Anaconda3\\envs\\graphs\\lib\\site-packages\\ipykernel_launcher.py:181: RuntimeWarning: divide by zero encountered in long_scalars\n",
      "D:\\Software\\Programme\\Anaconda3\\envs\\graphs\\lib\\site-packages\\ipykernel_launcher.py:181: RuntimeWarning: invalid value encountered in long_scalars\n"
     ]
    },
    {
     "name": "stdout",
     "output_type": "stream",
     "text": [
      "process file  1004_Session_1_ET_2_data_prepared.csv\n",
      "--------------------\n"
     ]
    },
    {
     "name": "stderr",
     "output_type": "stream",
     "text": [
      "D:\\Software\\Programme\\Anaconda3\\envs\\graphs\\lib\\site-packages\\ipykernel_launcher.py:181: RuntimeWarning: divide by zero encountered in long_scalars\n",
      "D:\\Software\\Programme\\Anaconda3\\envs\\graphs\\lib\\site-packages\\ipykernel_launcher.py:181: RuntimeWarning: invalid value encountered in long_scalars\n"
     ]
    },
    {
     "name": "stdout",
     "output_type": "stream",
     "text": [
      "process file  1004_Session_1_ET_3_data_prepared.csv\n",
      "--------------------\n"
     ]
    },
    {
     "name": "stderr",
     "output_type": "stream",
     "text": [
      "D:\\Software\\Programme\\Anaconda3\\envs\\graphs\\lib\\site-packages\\ipykernel_launcher.py:181: RuntimeWarning: divide by zero encountered in long_scalars\n",
      "D:\\Software\\Programme\\Anaconda3\\envs\\graphs\\lib\\site-packages\\ipykernel_launcher.py:181: RuntimeWarning: invalid value encountered in long_scalars\n"
     ]
    },
    {
     "data": {
      "application/vnd.jupyter.widget-view+json": {
       "model_id": "344c7ff1876a41989c4dc88074483178",
       "version_major": 2,
       "version_minor": 0
      },
      "text/plain": [
       "📄 0 of 3 📂 ET files____________ processed:            \n",
       "              0% ⏱️00:00 ⏳? ⚙️?it/s"
      ]
     },
     "metadata": {},
     "output_type": "display_data"
    },
    {
     "name": "stdout",
     "output_type": "stream",
     "text": [
      "process file  1004_Session_2_ET_1_data_prepared.csv\n",
      "--------------------\n"
     ]
    },
    {
     "name": "stderr",
     "output_type": "stream",
     "text": [
      "D:\\Software\\Programme\\Anaconda3\\envs\\graphs\\lib\\site-packages\\ipykernel_launcher.py:181: RuntimeWarning: divide by zero encountered in long_scalars\n",
      "D:\\Software\\Programme\\Anaconda3\\envs\\graphs\\lib\\site-packages\\ipykernel_launcher.py:181: RuntimeWarning: invalid value encountered in long_scalars\n"
     ]
    },
    {
     "name": "stdout",
     "output_type": "stream",
     "text": [
      "process file  1004_Session_2_ET_2_data_prepared.csv\n",
      "--------------------\n",
      "process file  1004_Session_2_ET_3_data_prepared.csv\n",
      "--------------------\n"
     ]
    },
    {
     "name": "stderr",
     "output_type": "stream",
     "text": [
      "D:\\Software\\Programme\\Anaconda3\\envs\\graphs\\lib\\site-packages\\ipykernel_launcher.py:181: RuntimeWarning: divide by zero encountered in long_scalars\n",
      "D:\\Software\\Programme\\Anaconda3\\envs\\graphs\\lib\\site-packages\\ipykernel_launcher.py:181: RuntimeWarning: invalid value encountered in long_scalars\n"
     ]
    },
    {
     "data": {
      "application/vnd.jupyter.widget-view+json": {
       "model_id": "4644ec8810c64426bdb627f3134ef274",
       "version_major": 2,
       "version_minor": 0
      },
      "text/plain": [
       "📄 0 of 3 📂 ET files____________ processed:            \n",
       "              0% ⏱️00:00 ⏳? ⚙️?it/s"
      ]
     },
     "metadata": {},
     "output_type": "display_data"
    },
    {
     "name": "stdout",
     "output_type": "stream",
     "text": [
      "process file  1004_Session_3_ET_1_data_prepared.csv\n",
      "--------------------\n"
     ]
    },
    {
     "name": "stderr",
     "output_type": "stream",
     "text": [
      "D:\\Software\\Programme\\Anaconda3\\envs\\graphs\\lib\\site-packages\\ipykernel_launcher.py:181: RuntimeWarning: divide by zero encountered in long_scalars\n",
      "D:\\Software\\Programme\\Anaconda3\\envs\\graphs\\lib\\site-packages\\ipykernel_launcher.py:181: RuntimeWarning: invalid value encountered in long_scalars\n"
     ]
    },
    {
     "name": "stdout",
     "output_type": "stream",
     "text": [
      "process file  1004_Session_3_ET_2_data_prepared.csv\n",
      "--------------------\n"
     ]
    },
    {
     "name": "stderr",
     "output_type": "stream",
     "text": [
      "D:\\Software\\Programme\\Anaconda3\\envs\\graphs\\lib\\site-packages\\ipykernel_launcher.py:181: RuntimeWarning: divide by zero encountered in long_scalars\n",
      "D:\\Software\\Programme\\Anaconda3\\envs\\graphs\\lib\\site-packages\\ipykernel_launcher.py:181: RuntimeWarning: invalid value encountered in long_scalars\n"
     ]
    },
    {
     "name": "stdout",
     "output_type": "stream",
     "text": [
      "process file  1004_Session_3_ET_3_data_prepared.csv\n",
      "--------------------\n"
     ]
    },
    {
     "name": "stderr",
     "output_type": "stream",
     "text": [
      "D:\\Software\\Programme\\Anaconda3\\envs\\graphs\\lib\\site-packages\\ipykernel_launcher.py:181: RuntimeWarning: divide by zero encountered in long_scalars\n",
      "D:\\Software\\Programme\\Anaconda3\\envs\\graphs\\lib\\site-packages\\ipykernel_launcher.py:181: RuntimeWarning: invalid value encountered in long_scalars\n"
     ]
    },
    {
     "data": {
      "application/vnd.jupyter.widget-view+json": {
       "model_id": "b8f5c8e7980044c985f7948ae8ec1212",
       "version_major": 2,
       "version_minor": 0
      },
      "text/plain": [
       "📄 0 of 3 📂 ET files____________ processed:            \n",
       "              0% ⏱️00:00 ⏳? ⚙️?it/s"
      ]
     },
     "metadata": {},
     "output_type": "display_data"
    },
    {
     "name": "stdout",
     "output_type": "stream",
     "text": [
      "process file  1004_Session_4_ET_1_data_prepared.csv\n",
      "--------------------\n",
      "process file  1004_Session_4_ET_2_data_prepared.csv\n",
      "--------------------\n"
     ]
    },
    {
     "name": "stderr",
     "output_type": "stream",
     "text": [
      "D:\\Software\\Programme\\Anaconda3\\envs\\graphs\\lib\\site-packages\\ipykernel_launcher.py:181: RuntimeWarning: divide by zero encountered in long_scalars\n",
      "D:\\Software\\Programme\\Anaconda3\\envs\\graphs\\lib\\site-packages\\ipykernel_launcher.py:181: RuntimeWarning: invalid value encountered in long_scalars\n"
     ]
    },
    {
     "name": "stdout",
     "output_type": "stream",
     "text": [
      "process file  1004_Session_4_ET_3_data_prepared.csv\n",
      "--------------------\n"
     ]
    },
    {
     "name": "stderr",
     "output_type": "stream",
     "text": [
      "D:\\Software\\Programme\\Anaconda3\\envs\\graphs\\lib\\site-packages\\ipykernel_launcher.py:181: RuntimeWarning: divide by zero encountered in long_scalars\n",
      "D:\\Software\\Programme\\Anaconda3\\envs\\graphs\\lib\\site-packages\\ipykernel_launcher.py:181: RuntimeWarning: invalid value encountered in long_scalars\n"
     ]
    },
    {
     "data": {
      "application/vnd.jupyter.widget-view+json": {
       "model_id": "08e4b5843dc14529a84f6f93660bfec5",
       "version_major": 2,
       "version_minor": 0
      },
      "text/plain": [
       "📄 0 of 3 📂 ET files____________ processed:            \n",
       "              0% ⏱️00:00 ⏳? ⚙️?it/s"
      ]
     },
     "metadata": {},
     "output_type": "display_data"
    },
    {
     "name": "stdout",
     "output_type": "stream",
     "text": [
      "process file  1004_Session_5_ET_1_data_prepared.csv\n",
      "--------------------\n"
     ]
    },
    {
     "name": "stderr",
     "output_type": "stream",
     "text": [
      "D:\\Software\\Programme\\Anaconda3\\envs\\graphs\\lib\\site-packages\\ipykernel_launcher.py:181: RuntimeWarning: divide by zero encountered in long_scalars\n",
      "D:\\Software\\Programme\\Anaconda3\\envs\\graphs\\lib\\site-packages\\ipykernel_launcher.py:181: RuntimeWarning: invalid value encountered in long_scalars\n"
     ]
    },
    {
     "name": "stdout",
     "output_type": "stream",
     "text": [
      "process file  1004_Session_5_ET_2_data_prepared.csv\n",
      "--------------------\n"
     ]
    },
    {
     "name": "stderr",
     "output_type": "stream",
     "text": [
      "D:\\Software\\Programme\\Anaconda3\\envs\\graphs\\lib\\site-packages\\ipykernel_launcher.py:181: RuntimeWarning: divide by zero encountered in long_scalars\n",
      "D:\\Software\\Programme\\Anaconda3\\envs\\graphs\\lib\\site-packages\\ipykernel_launcher.py:181: RuntimeWarning: invalid value encountered in long_scalars\n"
     ]
    },
    {
     "name": "stdout",
     "output_type": "stream",
     "text": [
      "process file  1004_Session_5_ET_3_data_prepared.csv\n",
      "--------------------\n"
     ]
    },
    {
     "name": "stderr",
     "output_type": "stream",
     "text": [
      "D:\\Software\\Programme\\Anaconda3\\envs\\graphs\\lib\\site-packages\\ipykernel_launcher.py:181: RuntimeWarning: divide by zero encountered in long_scalars\n",
      "D:\\Software\\Programme\\Anaconda3\\envs\\graphs\\lib\\site-packages\\ipykernel_launcher.py:181: RuntimeWarning: invalid value encountered in long_scalars\n"
     ]
    }
   ],
   "source": [
    "# os.chdir(DATA_PATH)\n",
    "print('start')\n",
    "# useful overviews\n",
    "noFilePartList = [len(PartList)]\n",
    "missingFiles = pd.DataFrame(columns=['Participant', 'Session'])\n",
    "\n",
    "list_dublicates = []\n",
    "# shared_list_lock = multiprocessing.Lock()\n",
    "\n",
    "\n",
    "# loop code over all participants in participant list\n",
    "parts_pbar = tqdm(\n",
    "    iterable=PartList,\n",
    "    total=len(PartList),\n",
    "    desc=\"participants\",\n",
    "    dynamic_ncols=True,\n",
    "    bar_format=B_FORMAT,\n",
    ")\n",
    "\n",
    "dupl_df = pd.DataFrame(columns=['Participant', \n",
    "                'Session', \n",
    "                'ETSess', \n",
    "                'dataLength', \n",
    "                'eyeVars_dupl', \n",
    "                'unityVars_dupl',\n",
    "                'eyeUnityComb_dupl',\n",
    "                'startTS_dupl',\n",
    "                'endTS_dupl',\n",
    "                'verbTS_dupl',\n",
    "                'matrix'])\n",
    "\n",
    "all_matrices = []\n",
    "\n",
    "overview_dupl_arr_nr = []\n",
    "overview_dupl_arr_p =  []\n",
    "overview_dupl_arr_p2 = []\n",
    "overview_dupl_arr_p3 = []\n",
    "\n",
    "\n",
    "for indexPart, currentPart in enumerate(parts_pbar):\n",
    "#     currentPart = PartList[indexPart]\n",
    "    print(f'Participant {indexPart} - participant ID {currentPart}')\n",
    "    \n",
    "    sessions = list(range(1,6))\n",
    "#     sessions = list(range(2,3))\n",
    "    \n",
    "    session_pbar = tqdm(\n",
    "        iterable=sessions,\n",
    "        total=len(sessions),\n",
    "        desc=\"sessions________\",\n",
    "        dynamic_ncols=True,\n",
    "        bar_format=B_FORMAT,\n",
    "    )\n",
    "    \n",
    "    \n",
    "    # loop over recording sessions (should be 5 for each participant)\n",
    "#     for indexSess in range(1, 6):\n",
    "#     for indexSess in range(1, 2):\n",
    "    for indexSess in session_pbar:\n",
    "\n",
    "        # get eye tracking sessions and loop over them (amount of ET files can vary)\n",
    "        dirSess = [f for f in os.listdir(DATA_PATH) if f.startswith(f'{currentPart}_Session_{indexSess}') and f.endswith('_data_prepared.csv')]\n",
    "#         print(dirSess)\n",
    "#         print(f'Session {indexSess}')\n",
    "        \n",
    "        if not dirSess:\n",
    "            hMF = pd.DataFrame({'Participant': [currentPart], 'Session': [indexSess]})\n",
    "            missingFiles = pd.concat([missingFiles, hMF], ignore_index=True)\n",
    "            \n",
    "        else:\n",
    "            # Main part - runs if files exist\n",
    "            \n",
    "#             participants progress bar\n",
    "            file_pbar = tqdm(\n",
    "                iterable=dirSess,\n",
    "                total=len(dirSess),\n",
    "                desc=\"📂 ET files____________\",\n",
    "                dynamic_ncols=True,\n",
    "                bar_format=B_FORMAT,\n",
    "            )\n",
    "\n",
    "#             parts_pbar = tqdm(\n",
    "#                 iterable=dirSess[:1],\n",
    "#                 total=1,\n",
    "#                 desc=\"📂 participants\",\n",
    "#                 dynamic_ncols=True,\n",
    "#                 bar_format=B_FORMAT,\n",
    "#             )\n",
    "    \n",
    "           \n",
    "            # loop necessary for displaying properly the progressbar with multiprocessing\n",
    "            # source: https://stackoverflow.com/a/40133278\n",
    "            \n",
    "#             info_list = []\n",
    "            \n",
    "            for file in file_pbar:\n",
    "#             for file in dirSess[2]:\n",
    "                print('process file ', file)\n",
    "            \n",
    "                # read in data\n",
    "                data = pd.read_csv(os.path.join(DATA_PATH, file))\n",
    "                \n",
    "#                 data = convertTimeStamp(data)\n",
    "                               \n",
    "                dataLen = len(data)\n",
    "                eyeVars =  data.columns[3:10]\n",
    "                # check if vars are correctly selected\n",
    "                # for column_name in enumerate(eyeVars):\n",
    "                #     print(column_name)\n",
    "\n",
    "                eyeVars_dupl= checkDuplicates(data, eyeVars)\n",
    "\n",
    "#                 print('eye vars sum duplicates percentage', sum(eyeVars_dupl)/len(data))\n",
    "#                 print('--------------------')\n",
    "\n",
    "                unityVars = data.columns[37:79]\n",
    "                # check if vars are correctly selected\n",
    "                # for column_name in enumerate(unityVars):\n",
    "                #     print(column_name)\n",
    "\n",
    "                unityVars_dupl = checkDuplicates(data, unityVars)\n",
    "#                 print('unity vars sum duplicates percentage', sum(unityVars_dupl)/len(data))\n",
    "#                 print('--------------------')\n",
    "\n",
    "                eyeUnityComb = data.columns[10:37]\n",
    "                # check if vars are correctly selected\n",
    "                # for column_name in enumerate(eyeUnityComb):\n",
    "                #     print(column_name)\n",
    "                eyeUnityComb_dupl = checkDuplicates(data, eyeUnityComb)\n",
    "#                 print('eye unity combination vars sum duplicates percentage', sum(eyeUnityComb_dupl)/len(data))\n",
    "#                 print('--------------------')\n",
    "\n",
    "\n",
    "                startTS_dupl = checkDuplicates(data, data.columns[0:1])\n",
    "                endTS_dupl = checkDuplicates(data, data.columns[1:2])\n",
    "                verbTS_dupl = checkDuplicates(data, data.columns[2:3])\n",
    "\n",
    "#                 print('start TS', sum(startTS_dupl)/dataLen)\n",
    "#                 print('end TS', sum(endTS_dupl)/dataLen)\n",
    "#                 print('verbose TS', sum(verbTS_dupl)/dataLen)\n",
    "\n",
    "                print('--------------------')\n",
    "\n",
    "                # create matrix with combinations of duplocate values\n",
    "                dupl_list_sum = [sum(eyeVars_dupl), sum(unityVars_dupl), sum(eyeUnityComb_dupl),sum(startTS_dupl),sum(endTS_dupl),sum(verbTS_dupl)]\n",
    "                dupl_list_bools = [eyeVars_dupl, unityVars_dupl, eyeUnityComb_dupl,startTS_dupl,endTS_dupl,verbTS_dupl]\n",
    "                dupl_arr_nr = np.zeros([len(dupl_list_sum), len(dupl_list_sum)])\n",
    "                dupl_arr_p = np.zeros([len(dupl_list_sum), len(dupl_list_sum)])\n",
    "                dupl_arr_p2 = np.zeros([len(dupl_list_sum), len(dupl_list_sum)])\n",
    "                dupl_arr_p3 = np.zeros([len(dupl_list_sum), len(dupl_list_sum)])\n",
    "\n",
    "                for indexR in range(len(dupl_list_sum)):\n",
    "\n",
    "                    for indexC in range(len(dupl_list_sum)):\n",
    "\n",
    "                        # if condition to handle the diagonale\n",
    "                        if indexR == indexC:\n",
    "                            dupl_arr_nr[indexR, indexC] = dupl_list_sum[indexR]\n",
    "                            dupl_arr_p[indexR, indexC] = dupl_list_sum[indexR]/dataLen\n",
    "                            dupl_arr_p2[indexR, indexC] = np.nan\n",
    "                            dupl_arr_p3[indexR, indexC] = np.nan\n",
    "\n",
    "                        else:\n",
    "                            valueR = np.array(dupl_list_bools[indexR])\n",
    "                            valueC = np.array(dupl_list_bools[indexC])\n",
    "\n",
    "                            overlap = ~(valueR == valueC)\n",
    "\n",
    "                            oandvR = overlap & valueR\n",
    "                            oandvC = overlap & valueC\n",
    "\n",
    "                #             print([indexR, indexC])\n",
    "                #             print('o and vR ' ,sum(oandvR))\n",
    "                #             print('o and vC ', sum(oandvC))\n",
    "\n",
    "                            dupl_arr_nr[indexR, indexC] = sum(overlap)\n",
    "\n",
    "                #             if(indexR > indexC):\n",
    "                            dupl_arr_nr[indexR, indexC] = sum(overlap)\n",
    "\n",
    "                            dupl_arr_p[indexR, indexC] = sum(overlap)/dupl_list_sum[indexR]\n",
    "\n",
    "                            dupl_arr_p2[indexR, indexC] = sum(oandvC)\n",
    "\n",
    "                            dupl_arr_p3[indexR, indexC] = sum(oandvR)\n",
    "                            \n",
    "                overview_dupl_arr_nr.append(dupl_arr_nr)\n",
    "                overview_dupl_arr_p.append(dupl_arr_p)\n",
    "                overview_dupl_arr_p2.append(dupl_arr_p2)\n",
    "                overview_dupl_arr_p3.append(dupl_arr_p3)\n",
    "                \n",
    "                \n",
    "overview_dupl_arr_nr = np.array(overview_dupl_arr_nr)\n",
    "overview_dupl_arr_p = np.array(overview_dupl_arr_p)\n",
    "overview_dupl_arr_p2 = np.array(overview_dupl_arr_p2)\n",
    "overview_dupl_arr_p3 = np.array(overview_dupl_arr_p3)\n",
    "                \n",
    "                \n",
    "                "
   ]
  },
  {
   "cell_type": "code",
   "execution_count": 58,
   "id": "ed92a8f3",
   "metadata": {},
   "outputs": [
    {
     "data": {
      "image/png": "[encoded data removed]",
      "text/plain": [
       "<Figure size 1080x1080 with 8 Axes>"
      ]
     },
     "metadata": {
      "needs_background": "light"
     },
     "output_type": "display_data"
    }
   ],
   "source": [
    "# calculate min\n",
    "\n",
    "min_matrix00 = np.min(overview_dupl_arr_nr, axis=0)\n",
    "min_matrix01 = np.min(overview_dupl_arr_p, axis=0)\n",
    "min_matrix10 = np.min(overview_dupl_arr_p2, axis=0)\n",
    "min_matrix11 = np.min(overview_dupl_arr_p3, axis=0)\n",
    "\n",
    "\n",
    "f, ax = plt.subplots(nrows=2, ncols=2, figsize=(15,15))\n",
    "sns.heatmap(min_matrix00, annot=True, fmt=\".0f\", linewidths=.5, ax=ax[0,0], cmap = \"viridis\",\n",
    "            xticklabels=['eyeVars', 'unityVars', 'eyeUnityComb','startTS','endTS','verbTS'],  # Specify x-axis labels\n",
    "            yticklabels=['eyeVars', 'unityVars', 'eyeUnityComb','startTS','endTS','verbTS'])               \n",
    "                \n",
    "ax[0,0].set_title('Diagonale = sum repetitions in variable, rest = number of identical repetitions - how much overlap in repetitions do the variables have?')\n",
    "\n",
    "sns.heatmap(min_matrix01, annot=True, fmt=\".5f\", linewidths=.5, ax=ax[0,1], cmap = \"viridis\",\n",
    "            xticklabels=['eyeVars', 'unityVars', 'eyeUnityComb','startTS','endTS','verbTS'],  # Specify x-axis labels\n",
    "            yticklabels=['eyeVars', 'unityVars', 'eyeUnityComb','startTS','endTS','verbTS'])               \n",
    "ax[0,1].set_title('Here in percentages')  \n",
    "\n",
    "sns.heatmap(min_matrix10, annot=True, fmt=\".0f\", linewidths=.5, ax=ax[1,0], cmap = \"viridis\",\n",
    "            xticklabels=['eyeVars', 'unityVars', 'eyeUnityComb','startTS','endTS','verbTS'],  # Specify x-axis labels\n",
    "            yticklabels=['eyeVars', 'unityVars', 'eyeUnityComb','startTS','endTS','verbTS'])               \n",
    "ax[1,0].set_title('Overlap percentages - sum(overlap = ~(valueR == valueC) & column value)')\n",
    "\n",
    "sns.heatmap(min_matrix11, annot=True, fmt=\".0f\", linewidths=.5, ax=ax[1,1], cmap = \"viridis\",\n",
    "            xticklabels=['eyeVars', 'unityVars', 'eyeUnityComb','startTS','endTS','verbTS'],  # Specify x-axis labels\n",
    "            yticklabels=['eyeVars', 'unityVars', 'eyeUnityComb','startTS','endTS','verbTS'])               \n",
    "ax[1,1].set_title('Overlap percentages - sum(overlap = ~(valueR == valueC) & row value)') \n",
    "\n",
    "f.suptitle('Min values over all files', fontsize=16)\n",
    "\n",
    "# Adjust layout and display the plot\n",
    "plt.tight_layout()\n",
    "\n",
    "# Save the plot to the specified directory\n",
    "save_file = os.path.join(savepath, 'Min_repetitions_overlap_varGroups.png')\n",
    "plt.savefig(save_file, format='png')\n",
    "\n",
    "plt.show()\n"
   ]
  },
  {
   "cell_type": "code",
   "execution_count": 57,
   "id": "bcd20f0b",
   "metadata": {},
   "outputs": [
    {
     "data": {
      "image/png": "[encoded data removed]",
      "text/plain": [
       "<Figure size 1080x1080 with 8 Axes>"
      ]
     },
     "metadata": {
      "needs_background": "light"
     },
     "output_type": "display_data"
    }
   ],
   "source": [
    "\n",
    "# calculate mean\n",
    "\n",
    "min_matrix00 = np.mean(overview_dupl_arr_nr, axis=0)\n",
    "min_matrix01 = np.mean(overview_dupl_arr_p, axis=0)\n",
    "min_matrix10 = np.mean(overview_dupl_arr_p2, axis=0)\n",
    "min_matrix11 = np.mean(overview_dupl_arr_p3, axis=0)\n",
    "\n",
    "\n",
    "f, ax = plt.subplots(nrows=2, ncols=2, figsize=(15,15))\n",
    "sns.heatmap(min_matrix00, annot=True, fmt=\".0f\", linewidths=.5, ax=ax[0,0], cmap = \"viridis\",\n",
    "            xticklabels=['eyeVars', 'unityVars', 'eyeUnityComb','startTS','endTS','verbTS'],  # Specify x-axis labels\n",
    "            yticklabels=['eyeVars', 'unityVars', 'eyeUnityComb','startTS','endTS','verbTS'])               \n",
    "                \n",
    "ax[0,0].set_title('Diagonale = sum repetitions in variable, rest = number of identical repetitions - how much overlap in repetitions do the variables have?')\n",
    "\n",
    "sns.heatmap(min_matrix01, annot=True, fmt=\".5f\", linewidths=.5, ax=ax[0,1], cmap = \"viridis\",\n",
    "            xticklabels=['eyeVars', 'unityVars', 'eyeUnityComb','startTS','endTS','verbTS'],  # Specify x-axis labels\n",
    "            yticklabels=['eyeVars', 'unityVars', 'eyeUnityComb','startTS','endTS','verbTS'])               \n",
    "ax[0,1].set_title('Here in percentages')  \n",
    "\n",
    "sns.heatmap(min_matrix10, annot=True, fmt=\".0f\", linewidths=.5, ax=ax[1,0], cmap = \"viridis\",\n",
    "            xticklabels=['eyeVars', 'unityVars', 'eyeUnityComb','startTS','endTS','verbTS'],  # Specify x-axis labels\n",
    "            yticklabels=['eyeVars', 'unityVars', 'eyeUnityComb','startTS','endTS','verbTS'])               \n",
    "ax[1,0].set_title('Overlap percentages - sum(overlap = ~(valueR == valueC) & column value)')\n",
    "\n",
    "sns.heatmap(min_matrix11, annot=True, fmt=\".0f\", linewidths=.5, ax=ax[1,1], cmap = \"viridis\",\n",
    "            xticklabels=['eyeVars', 'unityVars', 'eyeUnityComb','startTS','endTS','verbTS'],  # Specify x-axis labels\n",
    "            yticklabels=['eyeVars', 'unityVars', 'eyeUnityComb','startTS','endTS','verbTS'])               \n",
    "ax[1,1].set_title('Overlap percentages - sum(overlap = ~(valueR == valueC) & row value)') \n",
    "\n",
    "f.suptitle('Mean values over all files', fontsize=16)\n",
    "\n",
    "# Adjust layout and display the plot\n",
    "plt.tight_layout()\n",
    "\n",
    "save_file = os.path.join(savepath, 'Mean_repetitions_overlap_varGroups.png')\n",
    "plt.savefig(save_file, format='png')\n",
    "\n",
    "\n",
    "plt.show()\n"
   ]
  },
  {
   "cell_type": "code",
   "execution_count": 59,
   "id": "2e2c7e40",
   "metadata": {
    "scrolled": true
   },
   "outputs": [
    {
     "data": {
      "image/png": "[encoded data removed]",
      "text/plain": [
       "<Figure size 1080x1080 with 8 Axes>"
      ]
     },
     "metadata": {
      "needs_background": "light"
     },
     "output_type": "display_data"
    }
   ],
   "source": [
    "\n",
    "\n",
    "#calculate max\n",
    "\n",
    "\n",
    "\n",
    "min_matrix00 = np.max(overview_dupl_arr_nr, axis=0)\n",
    "min_matrix01 = np.max(overview_dupl_arr_p, axis=0)\n",
    "min_matrix10 = np.max(overview_dupl_arr_p2, axis=0)\n",
    "min_matrix11 = np.max(overview_dupl_arr_p3, axis=0)\n",
    "\n",
    "\n",
    "f, ax = plt.subplots(nrows=2, ncols=2, figsize=(15,15))\n",
    "sns.heatmap(min_matrix00, annot=True, fmt=\".0f\", linewidths=.5, ax=ax[0,0], cmap = \"viridis\",\n",
    "            xticklabels=['eyeVars', 'unityVars', 'eyeUnityComb','startTS','endTS','verbTS'],  # Specify x-axis labels\n",
    "            yticklabels=['eyeVars', 'unityVars', 'eyeUnityComb','startTS','endTS','verbTS'])               \n",
    "                \n",
    "ax[0,0].set_title('Diagonale = sum repetitions in variable, rest = number of identical repetitions - how much overlap in repetitions do the variables have?')\n",
    "\n",
    "sns.heatmap(min_matrix01, annot=True, fmt=\".5f\", linewidths=.5, ax=ax[0,1], cmap = \"viridis\",\n",
    "            xticklabels=['eyeVars', 'unityVars', 'eyeUnityComb','startTS','endTS','verbTS'],  # Specify x-axis labels\n",
    "            yticklabels=['eyeVars', 'unityVars', 'eyeUnityComb','startTS','endTS','verbTS'])               \n",
    "ax[0,1].set_title('Here in percentages')  \n",
    "\n",
    "sns.heatmap(min_matrix10, annot=True, fmt=\".0f\", linewidths=.5, ax=ax[1,0], cmap = \"viridis\",\n",
    "            xticklabels=['eyeVars', 'unityVars', 'eyeUnityComb','startTS','endTS','verbTS'],  # Specify x-axis labels\n",
    "            yticklabels=['eyeVars', 'unityVars', 'eyeUnityComb','startTS','endTS','verbTS'])               \n",
    "ax[1,0].set_title('Overlap percentages - sum(overlap = ~(valueR == valueC) & column value)')\n",
    "\n",
    "sns.heatmap(min_matrix11, annot=True, fmt=\".0f\", linewidths=.5, ax=ax[1,1], cmap = \"viridis\",\n",
    "            xticklabels=['eyeVars', 'unityVars', 'eyeUnityComb','startTS','endTS','verbTS'],  # Specify x-axis labels\n",
    "            yticklabels=['eyeVars', 'unityVars', 'eyeUnityComb','startTS','endTS','verbTS'])               \n",
    "ax[1,1].set_title('Overlap percentages - sum(overlap = ~(valueR == valueC) & row value)') \n",
    "\n",
    "f.suptitle('Max values over all files', fontsize=16)\n",
    "\n",
    "# Adjust layout and display the plot\n",
    "plt.tight_layout()\n",
    "\n",
    "save_file = os.path.join(savepath, 'Max_repetitions_overlap_varGroups.png')\n",
    "plt.savefig(save_file, format='png')\n",
    "\n",
    "plt.show()\n",
    "    "
   ]
  },
  {
   "cell_type": "code",
   "execution_count": 60,
   "id": "13c4ae75",
   "metadata": {},
   "outputs": [
    {
     "data": {
      "image/png": "[encoded data removed]",
      "text/plain": [
       "<Figure size 864x432 with 1 Axes>"
      ]
     },
     "metadata": {
      "needs_background": "light"
     },
     "output_type": "display_data"
    }
   ],
   "source": [
    "diagonal_elements = [[] for _ in range(6)]\n",
    "\n",
    "for matrix in overview_dupl_arr_nr:\n",
    "    for i in range(6):\n",
    "        diagonal_elements[i].append(matrix[i, i])\n",
    "\n",
    "# Create boxplots for each diagonal field\n",
    "plt.figure(figsize=(12, 6))\n",
    "plt.boxplot(diagonal_elements, labels=['eyeVars', 'unityVars', 'eyeUnityComb','startTS','endTS','verbTS'])\n",
    "plt.title('Boxplots of the number of repetitions of each variable group over all participants')\n",
    "plt.xlabel('Variable Groups')\n",
    "plt.ylabel('Number of repetitions')\n",
    "\n",
    "\n",
    "\n",
    "# Save the plot to the specified directory\n",
    "save_file = os.path.join(savepath, 'Boxplot_number_repeptitions_variablesGroups.png')\n",
    "plt.savefig(save_file, format='png')\n",
    "\n",
    "plt.show()"
   ]
  },
  {
   "cell_type": "code",
   "execution_count": 61,
   "id": "5ad8e37a",
   "metadata": {},
   "outputs": [
    {
     "data": {
      "image/png": "[encoded data removed]",
      "text/plain": [
       "<Figure size 864x432 with 2 Axes>"
      ]
     },
     "metadata": {
      "needs_background": "light"
     },
     "output_type": "display_data"
    }
   ],
   "source": [
    "elements = [matrix[4, 2] for matrix in overview_dupl_arr_nr]\n",
    "elements2 = [matrix[4, 4] for matrix in overview_dupl_arr_nr]\n",
    "elements3 = [matrix[2, 2] for matrix in overview_dupl_arr_nr]\n",
    "\n",
    "\n",
    "# Create a boxplot for these elements\n",
    "f, ax = plt.subplots(nrows=1, ncols=2, figsize=(12,6))\n",
    "\n",
    "ax[0].boxplot(elements, labels = ['missing overlapp'])\n",
    "ax[0].set_title('Number of end-TS and eye-unity-combo repetitions not overlapping')\n",
    "ax[0].set_ylabel('Number of repetitions')\n",
    "\n",
    "ax[1].boxplot([elements2,elements3], labels = ['end time stamp', 'eye-unity-combo'])\n",
    "ax[1].set_title('Number of repetitions of end-TS across Participants')\n",
    "ax[1].set_ylabel('Number of repetitions')\n",
    "\n",
    "# f.suptitle('Min values over all files', fontsize=16)\n",
    "\n",
    "# Adjust layout and display the plot\n",
    "plt.tight_layout()\n",
    "\n",
    "# Save the plot to the specified directory\n",
    "save_file = os.path.join(savepath, 'Boxplots_endTS_eyeUnityCombi.png')\n",
    "plt.savefig(save_file, format='png')\n",
    "\n",
    "\n",
    "\n",
    "plt.show()"
   ]
  },
  {
   "cell_type": "code",
   "execution_count": 41,
   "id": "b45a5af1",
   "metadata": {},
   "outputs": [
    {
     "name": "stdout",
     "output_type": "stream",
     "text": [
      "start\n"
     ]
    },
    {
     "data": {
      "application/vnd.jupyter.widget-view+json": {
       "model_id": "113692ff50a44788acebb9db36f6ba4d",
       "version_major": 2,
       "version_minor": 0
      },
      "text/plain": [
       "📄 0 of 26 participants processed:            \n",
       "              0% ⏱️00:00 ⏳? ⚙️?it/s"
      ]
     },
     "metadata": {},
     "output_type": "display_data"
    },
    {
     "name": "stdout",
     "output_type": "stream",
     "text": [
      "Participant 0 - participant ID 1004\n"
     ]
    },
    {
     "data": {
      "application/vnd.jupyter.widget-view+json": {
       "model_id": "cb60385937ba466487ec5b6f801c00bd",
       "version_major": 2,
       "version_minor": 0
      },
      "text/plain": [
       "📄 0 of 5 sessions________ processed:            \n",
       "              0% ⏱️00:00 ⏳? ⚙️?it/s"
      ]
     },
     "metadata": {},
     "output_type": "display_data"
    },
    {
     "data": {
      "application/vnd.jupyter.widget-view+json": {
       "model_id": "4501639c9ed2417b88337a56178faa2a",
       "version_major": 2,
       "version_minor": 0
      },
      "text/plain": [
       "📄 0 of 3 📂 ET files____________ processed:            \n",
       "              0% ⏱️00:00 ⏳? ⚙️?it/s"
      ]
     },
     "metadata": {},
     "output_type": "display_data"
    },
    {
     "name": "stdout",
     "output_type": "stream",
     "text": [
      "process file  1004_Session_1_ET_1_data_prepared.csv\n",
      "process file  1004_Session_1_ET_2_data_prepared.csv\n",
      "process file  1004_Session_1_ET_3_data_prepared.csv\n"
     ]
    },
    {
     "data": {
      "application/vnd.jupyter.widget-view+json": {
       "model_id": "dc3888968a964011a39e02bb38312cb4",
       "version_major": 2,
       "version_minor": 0
      },
      "text/plain": [
       "📄 0 of 3 📂 ET files____________ processed:            \n",
       "              0% ⏱️00:00 ⏳? ⚙️?it/s"
      ]
     },
     "metadata": {},
     "output_type": "display_data"
    },
    {
     "name": "stdout",
     "output_type": "stream",
     "text": [
      "process file  1004_Session_2_ET_1_data_prepared.csv\n",
      "process file  1004_Session_2_ET_2_data_prepared.csv\n",
      "process file  1004_Session_2_ET_3_data_prepared.csv\n"
     ]
    },
    {
     "data": {
      "application/vnd.jupyter.widget-view+json": {
       "model_id": "032b87d671c345c8afc06177cbd15124",
       "version_major": 2,
       "version_minor": 0
      },
      "text/plain": [
       "📄 0 of 3 📂 ET files____________ processed:            \n",
       "              0% ⏱️00:00 ⏳? ⚙️?it/s"
      ]
     },
     "metadata": {},
     "output_type": "display_data"
    },
    {
     "name": "stdout",
     "output_type": "stream",
     "text": [
      "process file  1004_Session_3_ET_1_data_prepared.csv\n",
      "process file  1004_Session_3_ET_2_data_prepared.csv\n",
      "process file  1004_Session_3_ET_3_data_prepared.csv\n"
     ]
    },
    {
     "data": {
      "application/vnd.jupyter.widget-view+json": {
       "model_id": "e197b005ed6d434fbd6f4f3bb6e0fa15",
       "version_major": 2,
       "version_minor": 0
      },
      "text/plain": [
       "📄 0 of 3 📂 ET files____________ processed:            \n",
       "              0% ⏱️00:00 ⏳? ⚙️?it/s"
      ]
     },
     "metadata": {},
     "output_type": "display_data"
    },
    {
     "name": "stdout",
     "output_type": "stream",
     "text": [
      "process file  1004_Session_4_ET_1_data_prepared.csv\n",
      "process file  1004_Session_4_ET_2_data_prepared.csv\n",
      "process file  1004_Session_4_ET_3_data_prepared.csv\n"
     ]
    },
    {
     "data": {
      "application/vnd.jupyter.widget-view+json": {
       "model_id": "5716125f6def4d1fb324840e03355e4d",
       "version_major": 2,
       "version_minor": 0
      },
      "text/plain": [
       "📄 0 of 3 📂 ET files____________ processed:            \n",
       "              0% ⏱️00:00 ⏳? ⚙️?it/s"
      ]
     },
     "metadata": {},
     "output_type": "display_data"
    },
    {
     "name": "stdout",
     "output_type": "stream",
     "text": [
      "process file  1004_Session_5_ET_1_data_prepared.csv\n",
      "process file  1004_Session_5_ET_2_data_prepared.csv\n",
      "process file  1004_Session_5_ET_3_data_prepared.csv\n",
      "Participant 1 - participant ID 1005\n"
     ]
    },
    {
     "data": {
      "application/vnd.jupyter.widget-view+json": {
       "model_id": "2cc11a9810f74fd0b8b274ad89da67f2",
       "version_major": 2,
       "version_minor": 0
      },
      "text/plain": [
       "📄 0 of 5 sessions________ processed:            \n",
       "              0% ⏱️00:00 ⏳? ⚙️?it/s"
      ]
     },
     "metadata": {},
     "output_type": "display_data"
    },
    {
     "data": {
      "application/vnd.jupyter.widget-view+json": {
       "model_id": "db29a4b27fcc41f082aadbb7aae9b30d",
       "version_major": 2,
       "version_minor": 0
      },
      "text/plain": [
       "📄 0 of 3 📂 ET files____________ processed:            \n",
       "              0% ⏱️00:00 ⏳? ⚙️?it/s"
      ]
     },
     "metadata": {},
     "output_type": "display_data"
    },
    {
     "name": "stdout",
     "output_type": "stream",
     "text": [
      "process file  1005_Session_1_ET_1_data_prepared.csv\n",
      "process file  1005_Session_1_ET_2_data_prepared.csv\n",
      "process file  1005_Session_1_ET_3_data_prepared.csv\n"
     ]
    },
    {
     "data": {
      "application/vnd.jupyter.widget-view+json": {
       "model_id": "694028030cec4dcc9c7a4b467b3b1e5e",
       "version_major": 2,
       "version_minor": 0
      },
      "text/plain": [
       "📄 0 of 3 📂 ET files____________ processed:            \n",
       "              0% ⏱️00:00 ⏳? ⚙️?it/s"
      ]
     },
     "metadata": {},
     "output_type": "display_data"
    },
    {
     "name": "stdout",
     "output_type": "stream",
     "text": [
      "process file  1005_Session_2_ET_1_data_prepared.csv\n",
      "process file  1005_Session_2_ET_2_data_prepared.csv\n",
      "process file  1005_Session_2_ET_3_data_prepared.csv\n"
     ]
    },
    {
     "data": {
      "application/vnd.jupyter.widget-view+json": {
       "model_id": "55c1c805ec8e46bb8b020b155e2f2c95",
       "version_major": 2,
       "version_minor": 0
      },
      "text/plain": [
       "📄 0 of 3 📂 ET files____________ processed:            \n",
       "              0% ⏱️00:00 ⏳? ⚙️?it/s"
      ]
     },
     "metadata": {},
     "output_type": "display_data"
    },
    {
     "name": "stdout",
     "output_type": "stream",
     "text": [
      "process file  1005_Session_3_ET_1_data_prepared.csv\n",
      "process file  1005_Session_3_ET_2_data_prepared.csv\n",
      "process file  1005_Session_3_ET_3_data_prepared.csv\n"
     ]
    },
    {
     "data": {
      "application/vnd.jupyter.widget-view+json": {
       "model_id": "8c0c312ca52f4cbfaefbed6ea66354a8",
       "version_major": 2,
       "version_minor": 0
      },
      "text/plain": [
       "📄 0 of 3 📂 ET files____________ processed:            \n",
       "              0% ⏱️00:00 ⏳? ⚙️?it/s"
      ]
     },
     "metadata": {},
     "output_type": "display_data"
    },
    {
     "name": "stdout",
     "output_type": "stream",
     "text": [
      "process file  1005_Session_4_ET_1_data_prepared.csv\n",
      "process file  1005_Session_4_ET_2_data_prepared.csv\n",
      "process file  1005_Session_4_ET_3_data_prepared.csv\n"
     ]
    },
    {
     "data": {
      "application/vnd.jupyter.widget-view+json": {
       "model_id": "90611d18ff474ef5bd0b2c04b73552d7",
       "version_major": 2,
       "version_minor": 0
      },
      "text/plain": [
       "📄 0 of 3 📂 ET files____________ processed:            \n",
       "              0% ⏱️00:00 ⏳? ⚙️?it/s"
      ]
     },
     "metadata": {},
     "output_type": "display_data"
    },
    {
     "name": "stdout",
     "output_type": "stream",
     "text": [
      "process file  1005_Session_5_ET_1_data_prepared.csv\n",
      "process file  1005_Session_5_ET_2_data_prepared.csv\n",
      "process file  1005_Session_5_ET_3_data_prepared.csv\n",
      "Participant 2 - participant ID 1008\n"
     ]
    },
    {
     "data": {
      "application/vnd.jupyter.widget-view+json": {
       "model_id": "5be54ee60aa448d4b58914b89280c114",
       "version_major": 2,
       "version_minor": 0
      },
      "text/plain": [
       "📄 0 of 5 sessions________ processed:            \n",
       "              0% ⏱️00:00 ⏳? ⚙️?it/s"
      ]
     },
     "metadata": {},
     "output_type": "display_data"
    },
    {
     "data": {
      "application/vnd.jupyter.widget-view+json": {
       "model_id": "6979b611010b4cd08a636b1ede82f3af",
       "version_major": 2,
       "version_minor": 0
      },
      "text/plain": [
       "📄 0 of 3 📂 ET files____________ processed:            \n",
       "              0% ⏱️00:00 ⏳? ⚙️?it/s"
      ]
     },
     "metadata": {},
     "output_type": "display_data"
    },
    {
     "name": "stdout",
     "output_type": "stream",
     "text": [
      "process file  1008_Session_1_ET_1_data_prepared.csv\n",
      "process file  1008_Session_1_ET_2_data_prepared.csv\n",
      "process file  1008_Session_1_ET_3_data_prepared.csv\n"
     ]
    },
    {
     "data": {
      "application/vnd.jupyter.widget-view+json": {
       "model_id": "e36dec62cf1247e69e93ebe3e474e6a4",
       "version_major": 2,
       "version_minor": 0
      },
      "text/plain": [
       "📄 0 of 3 📂 ET files____________ processed:            \n",
       "              0% ⏱️00:00 ⏳? ⚙️?it/s"
      ]
     },
     "metadata": {},
     "output_type": "display_data"
    },
    {
     "name": "stdout",
     "output_type": "stream",
     "text": [
      "process file  1008_Session_2_ET_1_data_prepared.csv\n",
      "process file  1008_Session_2_ET_2_data_prepared.csv\n",
      "process file  1008_Session_2_ET_3_data_prepared.csv\n"
     ]
    },
    {
     "data": {
      "application/vnd.jupyter.widget-view+json": {
       "model_id": "308b495d8c2c4d178e9a3c108e66c1e4",
       "version_major": 2,
       "version_minor": 0
      },
      "text/plain": [
       "📄 0 of 3 📂 ET files____________ processed:            \n",
       "              0% ⏱️00:00 ⏳? ⚙️?it/s"
      ]
     },
     "metadata": {},
     "output_type": "display_data"
    },
    {
     "name": "stdout",
     "output_type": "stream",
     "text": [
      "process file  1008_Session_3_ET_1_data_prepared.csv\n",
      "process file  1008_Session_3_ET_2_data_prepared.csv\n",
      "process file  1008_Session_3_ET_3_data_prepared.csv\n"
     ]
    },
    {
     "data": {
      "application/vnd.jupyter.widget-view+json": {
       "model_id": "d8fa374644af41eb842f1b473d827599",
       "version_major": 2,
       "version_minor": 0
      },
      "text/plain": [
       "📄 0 of 3 📂 ET files____________ processed:            \n",
       "              0% ⏱️00:00 ⏳? ⚙️?it/s"
      ]
     },
     "metadata": {},
     "output_type": "display_data"
    },
    {
     "name": "stdout",
     "output_type": "stream",
     "text": [
      "process file  1008_Session_4_ET_1_data_prepared.csv\n",
      "process file  1008_Session_4_ET_2_data_prepared.csv\n",
      "process file  1008_Session_4_ET_3_data_prepared.csv\n"
     ]
    },
    {
     "data": {
      "application/vnd.jupyter.widget-view+json": {
       "model_id": "18575e5cb9384427a6ebe42841a05556",
       "version_major": 2,
       "version_minor": 0
      },
      "text/plain": [
       "📄 0 of 3 📂 ET files____________ processed:            \n",
       "              0% ⏱️00:00 ⏳? ⚙️?it/s"
      ]
     },
     "metadata": {},
     "output_type": "display_data"
    },
    {
     "name": "stdout",
     "output_type": "stream",
     "text": [
      "process file  1008_Session_5_ET_1_data_prepared.csv\n",
      "process file  1008_Session_5_ET_2_data_prepared.csv\n",
      "process file  1008_Session_5_ET_3_data_prepared.csv\n",
      "Participant 3 - participant ID 1010\n"
     ]
    },
    {
     "data": {
      "application/vnd.jupyter.widget-view+json": {
       "model_id": "e642efeda7fa4447828adb607e04a486",
       "version_major": 2,
       "version_minor": 0
      },
      "text/plain": [
       "📄 0 of 5 sessions________ processed:            \n",
       "              0% ⏱️00:00 ⏳? ⚙️?it/s"
      ]
     },
     "metadata": {},
     "output_type": "display_data"
    },
    {
     "data": {
      "application/vnd.jupyter.widget-view+json": {
       "model_id": "7d40a07a20eb4db9bd66cb41a0196c40",
       "version_major": 2,
       "version_minor": 0
      },
      "text/plain": [
       "📄 0 of 4 📂 ET files____________ processed:            \n",
       "              0% ⏱️00:00 ⏳? ⚙️?it/s"
      ]
     },
     "metadata": {},
     "output_type": "display_data"
    },
    {
     "name": "stdout",
     "output_type": "stream",
     "text": [
      "process file  1010_Session_1_ET_1_data_prepared.csv\n",
      "process file  1010_Session_1_ET_2_data_prepared.csv\n",
      "process file  1010_Session_1_ET_3_data_prepared.csv\n",
      "process file  1010_Session_1_ET_4_data_prepared.csv\n"
     ]
    },
    {
     "data": {
      "application/vnd.jupyter.widget-view+json": {
       "model_id": "c2f6f9bc6c934769859f4d285d87a48c",
       "version_major": 2,
       "version_minor": 0
      },
      "text/plain": [
       "📄 0 of 3 📂 ET files____________ processed:            \n",
       "              0% ⏱️00:00 ⏳? ⚙️?it/s"
      ]
     },
     "metadata": {},
     "output_type": "display_data"
    },
    {
     "name": "stdout",
     "output_type": "stream",
     "text": [
      "process file  1010_Session_2_ET_1_data_prepared.csv\n",
      "process file  1010_Session_2_ET_2_data_prepared.csv\n",
      "process file  1010_Session_2_ET_3_data_prepared.csv\n"
     ]
    },
    {
     "data": {
      "application/vnd.jupyter.widget-view+json": {
       "model_id": "f15b5fae6a6046a4925814f7ef00aae0",
       "version_major": 2,
       "version_minor": 0
      },
      "text/plain": [
       "📄 0 of 3 📂 ET files____________ processed:            \n",
       "              0% ⏱️00:00 ⏳? ⚙️?it/s"
      ]
     },
     "metadata": {},
     "output_type": "display_data"
    },
    {
     "name": "stdout",
     "output_type": "stream",
     "text": [
      "process file  1010_Session_3_ET_1_data_prepared.csv\n",
      "process file  1010_Session_3_ET_2_data_prepared.csv\n",
      "process file  1010_Session_3_ET_3_data_prepared.csv\n"
     ]
    },
    {
     "data": {
      "application/vnd.jupyter.widget-view+json": {
       "model_id": "49a0dc25afe6446584dc48223c0d27bc",
       "version_major": 2,
       "version_minor": 0
      },
      "text/plain": [
       "📄 0 of 3 📂 ET files____________ processed:            \n",
       "              0% ⏱️00:00 ⏳? ⚙️?it/s"
      ]
     },
     "metadata": {},
     "output_type": "display_data"
    },
    {
     "name": "stdout",
     "output_type": "stream",
     "text": [
      "process file  1010_Session_4_ET_1_data_prepared.csv\n",
      "process file  1010_Session_4_ET_2_data_prepared.csv\n",
      "process file  1010_Session_4_ET_3_data_prepared.csv\n"
     ]
    },
    {
     "data": {
      "application/vnd.jupyter.widget-view+json": {
       "model_id": "d0a3728553174b90bf190d599f5d8f22",
       "version_major": 2,
       "version_minor": 0
      },
      "text/plain": [
       "📄 0 of 4 📂 ET files____________ processed:            \n",
       "              0% ⏱️00:00 ⏳? ⚙️?it/s"
      ]
     },
     "metadata": {},
     "output_type": "display_data"
    },
    {
     "name": "stdout",
     "output_type": "stream",
     "text": [
      "process file  1010_Session_5_ET_1_data_prepared.csv\n",
      "process file  1010_Session_5_ET_2_data_prepared.csv\n",
      "process file  1010_Session_5_ET_3_data_prepared.csv\n",
      "process file  1010_Session_5_ET_4_data_prepared.csv\n",
      "Participant 4 - participant ID 1011\n"
     ]
    },
    {
     "data": {
      "application/vnd.jupyter.widget-view+json": {
       "model_id": "06126682bfc84197b618a2596dd0fcbe",
       "version_major": 2,
       "version_minor": 0
      },
      "text/plain": [
       "📄 0 of 5 sessions________ processed:            \n",
       "              0% ⏱️00:00 ⏳? ⚙️?it/s"
      ]
     },
     "metadata": {},
     "output_type": "display_data"
    },
    {
     "data": {
      "application/vnd.jupyter.widget-view+json": {
       "model_id": "e65f62b7596848dbbb6c3cbef069a3f5",
       "version_major": 2,
       "version_minor": 0
      },
      "text/plain": [
       "📄 0 of 4 📂 ET files____________ processed:            \n",
       "              0% ⏱️00:00 ⏳? ⚙️?it/s"
      ]
     },
     "metadata": {},
     "output_type": "display_data"
    },
    {
     "name": "stdout",
     "output_type": "stream",
     "text": [
      "process file  1011_Session_1_ET_1_data_prepared.csv\n",
      "process file  1011_Session_1_ET_2_data_prepared.csv\n",
      "process file  1011_Session_1_ET_3_data_prepared.csv\n",
      "process file  1011_Session_1_ET_4_data_prepared.csv\n"
     ]
    },
    {
     "data": {
      "application/vnd.jupyter.widget-view+json": {
       "model_id": "e87104efb5974004833d18058248f033",
       "version_major": 2,
       "version_minor": 0
      },
      "text/plain": [
       "📄 0 of 3 📂 ET files____________ processed:            \n",
       "              0% ⏱️00:00 ⏳? ⚙️?it/s"
      ]
     },
     "metadata": {},
     "output_type": "display_data"
    },
    {
     "name": "stdout",
     "output_type": "stream",
     "text": [
      "process file  1011_Session_2_ET_1_data_prepared.csv\n",
      "process file  1011_Session_2_ET_2_data_prepared.csv\n",
      "process file  1011_Session_2_ET_3_data_prepared.csv\n"
     ]
    },
    {
     "data": {
      "application/vnd.jupyter.widget-view+json": {
       "model_id": "aeb93c94138f4033898caf68b4fda5d7",
       "version_major": 2,
       "version_minor": 0
      },
      "text/plain": [
       "📄 0 of 3 📂 ET files____________ processed:            \n",
       "              0% ⏱️00:00 ⏳? ⚙️?it/s"
      ]
     },
     "metadata": {},
     "output_type": "display_data"
    },
    {
     "name": "stdout",
     "output_type": "stream",
     "text": [
      "process file  1011_Session_3_ET_1_data_prepared.csv\n",
      "process file  1011_Session_3_ET_2_data_prepared.csv\n",
      "process file  1011_Session_3_ET_3_data_prepared.csv\n"
     ]
    },
    {
     "data": {
      "application/vnd.jupyter.widget-view+json": {
       "model_id": "c3830ff5330146dfa9a29fa8d9f75063",
       "version_major": 2,
       "version_minor": 0
      },
      "text/plain": [
       "📄 0 of 3 📂 ET files____________ processed:            \n",
       "              0% ⏱️00:00 ⏳? ⚙️?it/s"
      ]
     },
     "metadata": {},
     "output_type": "display_data"
    },
    {
     "name": "stdout",
     "output_type": "stream",
     "text": [
      "process file  1011_Session_4_ET_1_data_prepared.csv\n",
      "process file  1011_Session_4_ET_2_data_prepared.csv\n",
      "process file  1011_Session_4_ET_3_data_prepared.csv\n"
     ]
    },
    {
     "data": {
      "application/vnd.jupyter.widget-view+json": {
       "model_id": "fdc09530f3324a6f98eaf483d56f243f",
       "version_major": 2,
       "version_minor": 0
      },
      "text/plain": [
       "📄 0 of 3 📂 ET files____________ processed:            \n",
       "              0% ⏱️00:00 ⏳? ⚙️?it/s"
      ]
     },
     "metadata": {},
     "output_type": "display_data"
    },
    {
     "name": "stdout",
     "output_type": "stream",
     "text": [
      "process file  1011_Session_5_ET_1_data_prepared.csv\n",
      "process file  1011_Session_5_ET_2_data_prepared.csv\n",
      "process file  1011_Session_5_ET_3_data_prepared.csv\n",
      "Participant 5 - participant ID 1013\n"
     ]
    },
    {
     "data": {
      "application/vnd.jupyter.widget-view+json": {
       "model_id": "0b2793bc91db44bfa14fda5a6d664436",
       "version_major": 2,
       "version_minor": 0
      },
      "text/plain": [
       "📄 0 of 5 sessions________ processed:            \n",
       "              0% ⏱️00:00 ⏳? ⚙️?it/s"
      ]
     },
     "metadata": {},
     "output_type": "display_data"
    },
    {
     "data": {
      "application/vnd.jupyter.widget-view+json": {
       "model_id": "3b4c297907724e84bdf9c1ded9ace057",
       "version_major": 2,
       "version_minor": 0
      },
      "text/plain": [
       "📄 0 of 3 📂 ET files____________ processed:            \n",
       "              0% ⏱️00:00 ⏳? ⚙️?it/s"
      ]
     },
     "metadata": {},
     "output_type": "display_data"
    },
    {
     "name": "stdout",
     "output_type": "stream",
     "text": [
      "process file  1013_Session_1_ET_1_data_prepared.csv\n",
      "process file  1013_Session_1_ET_2_data_prepared.csv\n",
      "process file  1013_Session_1_ET_3_data_prepared.csv\n"
     ]
    },
    {
     "data": {
      "application/vnd.jupyter.widget-view+json": {
       "model_id": "c99d1d2d5bb3404db5518bddc45c4d29",
       "version_major": 2,
       "version_minor": 0
      },
      "text/plain": [
       "📄 0 of 3 📂 ET files____________ processed:            \n",
       "              0% ⏱️00:00 ⏳? ⚙️?it/s"
      ]
     },
     "metadata": {},
     "output_type": "display_data"
    },
    {
     "name": "stdout",
     "output_type": "stream",
     "text": [
      "process file  1013_Session_2_ET_1_data_prepared.csv\n",
      "process file  1013_Session_2_ET_2_data_prepared.csv\n",
      "process file  1013_Session_2_ET_3_data_prepared.csv\n"
     ]
    },
    {
     "data": {
      "application/vnd.jupyter.widget-view+json": {
       "model_id": "38ec031fd4db48da807e34138bc56966",
       "version_major": 2,
       "version_minor": 0
      },
      "text/plain": [
       "📄 0 of 3 📂 ET files____________ processed:            \n",
       "              0% ⏱️00:00 ⏳? ⚙️?it/s"
      ]
     },
     "metadata": {},
     "output_type": "display_data"
    },
    {
     "name": "stdout",
     "output_type": "stream",
     "text": [
      "process file  1013_Session_3_ET_1_data_prepared.csv\n",
      "process file  1013_Session_3_ET_2_data_prepared.csv\n",
      "process file  1013_Session_3_ET_3_data_prepared.csv\n"
     ]
    },
    {
     "data": {
      "application/vnd.jupyter.widget-view+json": {
       "model_id": "251dd91aadb247378c267cc32005592f",
       "version_major": 2,
       "version_minor": 0
      },
      "text/plain": [
       "📄 0 of 3 📂 ET files____________ processed:            \n",
       "              0% ⏱️00:00 ⏳? ⚙️?it/s"
      ]
     },
     "metadata": {},
     "output_type": "display_data"
    },
    {
     "name": "stdout",
     "output_type": "stream",
     "text": [
      "process file  1013_Session_4_ET_1_data_prepared.csv\n",
      "process file  1013_Session_4_ET_2_data_prepared.csv\n",
      "process file  1013_Session_4_ET_3_data_prepared.csv\n"
     ]
    },
    {
     "data": {
      "application/vnd.jupyter.widget-view+json": {
       "model_id": "cb3d1e45150042eabc78e8c3006acbda",
       "version_major": 2,
       "version_minor": 0
      },
      "text/plain": [
       "📄 0 of 3 📂 ET files____________ processed:            \n",
       "              0% ⏱️00:00 ⏳? ⚙️?it/s"
      ]
     },
     "metadata": {},
     "output_type": "display_data"
    },
    {
     "name": "stdout",
     "output_type": "stream",
     "text": [
      "process file  1013_Session_5_ET_1_data_prepared.csv\n",
      "process file  1013_Session_5_ET_2_data_prepared.csv\n",
      "process file  1013_Session_5_ET_3_data_prepared.csv\n",
      "Participant 6 - participant ID 1017\n"
     ]
    },
    {
     "data": {
      "application/vnd.jupyter.widget-view+json": {
       "model_id": "da8944a4f66c4f0194cf2bf9aeb78e73",
       "version_major": 2,
       "version_minor": 0
      },
      "text/plain": [
       "📄 0 of 5 sessions________ processed:            \n",
       "              0% ⏱️00:00 ⏳? ⚙️?it/s"
      ]
     },
     "metadata": {},
     "output_type": "display_data"
    },
    {
     "data": {
      "application/vnd.jupyter.widget-view+json": {
       "model_id": "77f5b901b3454b15b63d824c1964ed45",
       "version_major": 2,
       "version_minor": 0
      },
      "text/plain": [
       "📄 0 of 5 📂 ET files____________ processed:            \n",
       "              0% ⏱️00:00 ⏳? ⚙️?it/s"
      ]
     },
     "metadata": {},
     "output_type": "display_data"
    },
    {
     "name": "stdout",
     "output_type": "stream",
     "text": [
      "process file  1017_Session_1_ET_1_data_prepared.csv\n",
      "process file  1017_Session_1_ET_2_data_prepared.csv\n",
      "process file  1017_Session_1_ET_3_data_prepared.csv\n",
      "process file  1017_Session_1_ET_4_data_prepared.csv\n",
      "process file  1017_Session_1_ET_5_data_prepared.csv\n"
     ]
    },
    {
     "data": {
      "application/vnd.jupyter.widget-view+json": {
       "model_id": "fdea5c99105342c4bf055b375f6a6711",
       "version_major": 2,
       "version_minor": 0
      },
      "text/plain": [
       "📄 0 of 3 📂 ET files____________ processed:            \n",
       "              0% ⏱️00:00 ⏳? ⚙️?it/s"
      ]
     },
     "metadata": {},
     "output_type": "display_data"
    },
    {
     "name": "stdout",
     "output_type": "stream",
     "text": [
      "process file  1017_Session_2_ET_1_data_prepared.csv\n",
      "process file  1017_Session_2_ET_2_data_prepared.csv\n",
      "process file  1017_Session_2_ET_3_data_prepared.csv\n"
     ]
    },
    {
     "data": {
      "application/vnd.jupyter.widget-view+json": {
       "model_id": "691f773e3bcb4befa48d4f82628ea2ef",
       "version_major": 2,
       "version_minor": 0
      },
      "text/plain": [
       "📄 0 of 3 📂 ET files____________ processed:            \n",
       "              0% ⏱️00:00 ⏳? ⚙️?it/s"
      ]
     },
     "metadata": {},
     "output_type": "display_data"
    },
    {
     "name": "stdout",
     "output_type": "stream",
     "text": [
      "process file  1017_Session_3_ET_1_data_prepared.csv\n",
      "process file  1017_Session_3_ET_2_data_prepared.csv\n",
      "process file  1017_Session_3_ET_3_data_prepared.csv\n"
     ]
    },
    {
     "data": {
      "application/vnd.jupyter.widget-view+json": {
       "model_id": "0bae6a1702e44d4992d0ca3f5042eff7",
       "version_major": 2,
       "version_minor": 0
      },
      "text/plain": [
       "📄 0 of 3 📂 ET files____________ processed:            \n",
       "              0% ⏱️00:00 ⏳? ⚙️?it/s"
      ]
     },
     "metadata": {},
     "output_type": "display_data"
    },
    {
     "name": "stdout",
     "output_type": "stream",
     "text": [
      "process file  1017_Session_4_ET_1_data_prepared.csv\n",
      "process file  1017_Session_4_ET_2_data_prepared.csv\n",
      "process file  1017_Session_4_ET_3_data_prepared.csv\n"
     ]
    },
    {
     "data": {
      "application/vnd.jupyter.widget-view+json": {
       "model_id": "7f78ad8e38b84333944b7b82aebaa1e9",
       "version_major": 2,
       "version_minor": 0
      },
      "text/plain": [
       "📄 0 of 3 📂 ET files____________ processed:            \n",
       "              0% ⏱️00:00 ⏳? ⚙️?it/s"
      ]
     },
     "metadata": {},
     "output_type": "display_data"
    },
    {
     "name": "stdout",
     "output_type": "stream",
     "text": [
      "process file  1017_Session_5_ET_1_data_prepared.csv\n",
      "process file  1017_Session_5_ET_2_data_prepared.csv\n",
      "process file  1017_Session_5_ET_3_data_prepared.csv\n",
      "Participant 7 - participant ID 1018\n"
     ]
    },
    {
     "data": {
      "application/vnd.jupyter.widget-view+json": {
       "model_id": "938dba7a09b746e8a618a06ede87a83f",
       "version_major": 2,
       "version_minor": 0
      },
      "text/plain": [
       "📄 0 of 5 sessions________ processed:            \n",
       "              0% ⏱️00:00 ⏳? ⚙️?it/s"
      ]
     },
     "metadata": {},
     "output_type": "display_data"
    },
    {
     "data": {
      "application/vnd.jupyter.widget-view+json": {
       "model_id": "aa47f4bd379f4d8db5edfe2ec10c8501",
       "version_major": 2,
       "version_minor": 0
      },
      "text/plain": [
       "📄 0 of 4 📂 ET files____________ processed:            \n",
       "              0% ⏱️00:00 ⏳? ⚙️?it/s"
      ]
     },
     "metadata": {},
     "output_type": "display_data"
    },
    {
     "name": "stdout",
     "output_type": "stream",
     "text": [
      "process file  1018_Session_1_ET_1_data_prepared.csv\n",
      "process file  1018_Session_1_ET_2_data_prepared.csv\n",
      "process file  1018_Session_1_ET_3_data_prepared.csv\n",
      "process file  1018_Session_1_ET_4_data_prepared.csv\n"
     ]
    },
    {
     "data": {
      "application/vnd.jupyter.widget-view+json": {
       "model_id": "88c5489f564042ceaca96768c601e41a",
       "version_major": 2,
       "version_minor": 0
      },
      "text/plain": [
       "📄 0 of 3 📂 ET files____________ processed:            \n",
       "              0% ⏱️00:00 ⏳? ⚙️?it/s"
      ]
     },
     "metadata": {},
     "output_type": "display_data"
    },
    {
     "name": "stdout",
     "output_type": "stream",
     "text": [
      "process file  1018_Session_2_ET_1_data_prepared.csv\n",
      "process file  1018_Session_2_ET_2_data_prepared.csv\n",
      "process file  1018_Session_2_ET_3_data_prepared.csv\n"
     ]
    },
    {
     "data": {
      "application/vnd.jupyter.widget-view+json": {
       "model_id": "b4e8c8b5f6cc42038a2e79df1ad915c0",
       "version_major": 2,
       "version_minor": 0
      },
      "text/plain": [
       "📄 0 of 3 📂 ET files____________ processed:            \n",
       "              0% ⏱️00:00 ⏳? ⚙️?it/s"
      ]
     },
     "metadata": {},
     "output_type": "display_data"
    },
    {
     "name": "stdout",
     "output_type": "stream",
     "text": [
      "process file  1018_Session_3_ET_1_data_prepared.csv\n",
      "process file  1018_Session_3_ET_2_data_prepared.csv\n",
      "process file  1018_Session_3_ET_3_data_prepared.csv\n"
     ]
    },
    {
     "data": {
      "application/vnd.jupyter.widget-view+json": {
       "model_id": "f823ac190c634008ab421546b5a63659",
       "version_major": 2,
       "version_minor": 0
      },
      "text/plain": [
       "📄 0 of 3 📂 ET files____________ processed:            \n",
       "              0% ⏱️00:00 ⏳? ⚙️?it/s"
      ]
     },
     "metadata": {},
     "output_type": "display_data"
    },
    {
     "name": "stdout",
     "output_type": "stream",
     "text": [
      "process file  1018_Session_4_ET_1_data_prepared.csv\n",
      "process file  1018_Session_4_ET_2_data_prepared.csv\n",
      "process file  1018_Session_4_ET_3_data_prepared.csv\n"
     ]
    },
    {
     "data": {
      "application/vnd.jupyter.widget-view+json": {
       "model_id": "22fb3a47b61a4012a840153e5eacd9c6",
       "version_major": 2,
       "version_minor": 0
      },
      "text/plain": [
       "📄 0 of 3 📂 ET files____________ processed:            \n",
       "              0% ⏱️00:00 ⏳? ⚙️?it/s"
      ]
     },
     "metadata": {},
     "output_type": "display_data"
    },
    {
     "name": "stdout",
     "output_type": "stream",
     "text": [
      "process file  1018_Session_5_ET_1_data_prepared.csv\n",
      "process file  1018_Session_5_ET_2_data_prepared.csv\n",
      "process file  1018_Session_5_ET_3_data_prepared.csv\n",
      "Participant 8 - participant ID 1019\n"
     ]
    },
    {
     "data": {
      "application/vnd.jupyter.widget-view+json": {
       "model_id": "20c400b97db741c5af920d21aa8b132d",
       "version_major": 2,
       "version_minor": 0
      },
      "text/plain": [
       "📄 0 of 5 sessions________ processed:            \n",
       "              0% ⏱️00:00 ⏳? ⚙️?it/s"
      ]
     },
     "metadata": {},
     "output_type": "display_data"
    },
    {
     "data": {
      "application/vnd.jupyter.widget-view+json": {
       "model_id": "636cf572e2e74714882751513d5cf320",
       "version_major": 2,
       "version_minor": 0
      },
      "text/plain": [
       "📄 0 of 3 📂 ET files____________ processed:            \n",
       "              0% ⏱️00:00 ⏳? ⚙️?it/s"
      ]
     },
     "metadata": {},
     "output_type": "display_data"
    },
    {
     "name": "stdout",
     "output_type": "stream",
     "text": [
      "process file  1019_Session_1_ET_1_data_prepared.csv\n",
      "process file  1019_Session_1_ET_2_data_prepared.csv\n",
      "process file  1019_Session_1_ET_3_data_prepared.csv\n"
     ]
    },
    {
     "data": {
      "application/vnd.jupyter.widget-view+json": {
       "model_id": "43ccd3ea86094dc397b9e3bbed70b45d",
       "version_major": 2,
       "version_minor": 0
      },
      "text/plain": [
       "📄 0 of 3 📂 ET files____________ processed:            \n",
       "              0% ⏱️00:00 ⏳? ⚙️?it/s"
      ]
     },
     "metadata": {},
     "output_type": "display_data"
    },
    {
     "name": "stdout",
     "output_type": "stream",
     "text": [
      "process file  1019_Session_2_ET_1_data_prepared.csv\n",
      "process file  1019_Session_2_ET_2_data_prepared.csv\n",
      "process file  1019_Session_2_ET_3_data_prepared.csv\n"
     ]
    },
    {
     "data": {
      "application/vnd.jupyter.widget-view+json": {
       "model_id": "fe114e00b5c04789a085415bb1c09bf7",
       "version_major": 2,
       "version_minor": 0
      },
      "text/plain": [
       "📄 0 of 3 📂 ET files____________ processed:            \n",
       "              0% ⏱️00:00 ⏳? ⚙️?it/s"
      ]
     },
     "metadata": {},
     "output_type": "display_data"
    },
    {
     "name": "stdout",
     "output_type": "stream",
     "text": [
      "process file  1019_Session_3_ET_1_data_prepared.csv\n",
      "process file  1019_Session_3_ET_2_data_prepared.csv\n",
      "process file  1019_Session_3_ET_3_data_prepared.csv\n"
     ]
    },
    {
     "data": {
      "application/vnd.jupyter.widget-view+json": {
       "model_id": "c063df761360473ca5a7ddcd80e198da",
       "version_major": 2,
       "version_minor": 0
      },
      "text/plain": [
       "📄 0 of 4 📂 ET files____________ processed:            \n",
       "              0% ⏱️00:00 ⏳? ⚙️?it/s"
      ]
     },
     "metadata": {},
     "output_type": "display_data"
    },
    {
     "name": "stdout",
     "output_type": "stream",
     "text": [
      "process file  1019_Session_4_ET_1_data_prepared.csv\n",
      "process file  1019_Session_4_ET_2_data_prepared.csv\n",
      "process file  1019_Session_4_ET_3_data_prepared.csv\n",
      "process file  1019_Session_4_ET_4_data_prepared.csv\n"
     ]
    },
    {
     "data": {
      "application/vnd.jupyter.widget-view+json": {
       "model_id": "789fe663917143b580cfc22edb8cc166",
       "version_major": 2,
       "version_minor": 0
      },
      "text/plain": [
       "📄 0 of 3 📂 ET files____________ processed:            \n",
       "              0% ⏱️00:00 ⏳? ⚙️?it/s"
      ]
     },
     "metadata": {},
     "output_type": "display_data"
    },
    {
     "name": "stdout",
     "output_type": "stream",
     "text": [
      "process file  1019_Session_5_ET_1_data_prepared.csv\n",
      "process file  1019_Session_5_ET_2_data_prepared.csv\n",
      "process file  1019_Session_5_ET_3_data_prepared.csv\n",
      "Participant 9 - participant ID 1021\n"
     ]
    },
    {
     "data": {
      "application/vnd.jupyter.widget-view+json": {
       "model_id": "51b5ff83e2b04c5b8eae4aee7d918d01",
       "version_major": 2,
       "version_minor": 0
      },
      "text/plain": [
       "📄 0 of 5 sessions________ processed:            \n",
       "              0% ⏱️00:00 ⏳? ⚙️?it/s"
      ]
     },
     "metadata": {},
     "output_type": "display_data"
    },
    {
     "data": {
      "application/vnd.jupyter.widget-view+json": {
       "model_id": "8d083d59d29a488fbf0cf8cdb330a0cc",
       "version_major": 2,
       "version_minor": 0
      },
      "text/plain": [
       "📄 0 of 3 📂 ET files____________ processed:            \n",
       "              0% ⏱️00:00 ⏳? ⚙️?it/s"
      ]
     },
     "metadata": {},
     "output_type": "display_data"
    },
    {
     "name": "stdout",
     "output_type": "stream",
     "text": [
      "process file  1021_Session_1_ET_1_data_prepared.csv\n",
      "process file  1021_Session_1_ET_2_data_prepared.csv\n",
      "process file  1021_Session_1_ET_3_data_prepared.csv\n"
     ]
    },
    {
     "data": {
      "application/vnd.jupyter.widget-view+json": {
       "model_id": "42a6115dbb184e708ae693282f5964e3",
       "version_major": 2,
       "version_minor": 0
      },
      "text/plain": [
       "📄 0 of 3 📂 ET files____________ processed:            \n",
       "              0% ⏱️00:00 ⏳? ⚙️?it/s"
      ]
     },
     "metadata": {},
     "output_type": "display_data"
    },
    {
     "name": "stdout",
     "output_type": "stream",
     "text": [
      "process file  1021_Session_2_ET_1_data_prepared.csv\n",
      "process file  1021_Session_2_ET_2_data_prepared.csv\n",
      "process file  1021_Session_2_ET_3_data_prepared.csv\n"
     ]
    },
    {
     "data": {
      "application/vnd.jupyter.widget-view+json": {
       "model_id": "40d2f6ba589344df8ad39885090e73b7",
       "version_major": 2,
       "version_minor": 0
      },
      "text/plain": [
       "📄 0 of 3 📂 ET files____________ processed:            \n",
       "              0% ⏱️00:00 ⏳? ⚙️?it/s"
      ]
     },
     "metadata": {},
     "output_type": "display_data"
    },
    {
     "name": "stdout",
     "output_type": "stream",
     "text": [
      "process file  1021_Session_3_ET_1_data_prepared.csv\n",
      "process file  1021_Session_3_ET_2_data_prepared.csv\n",
      "process file  1021_Session_3_ET_3_data_prepared.csv\n"
     ]
    },
    {
     "data": {
      "application/vnd.jupyter.widget-view+json": {
       "model_id": "732087187d8741a8a1aa98a0dcba412f",
       "version_major": 2,
       "version_minor": 0
      },
      "text/plain": [
       "📄 0 of 3 📂 ET files____________ processed:            \n",
       "              0% ⏱️00:00 ⏳? ⚙️?it/s"
      ]
     },
     "metadata": {},
     "output_type": "display_data"
    },
    {
     "name": "stdout",
     "output_type": "stream",
     "text": [
      "process file  1021_Session_4_ET_1_data_prepared.csv\n",
      "process file  1021_Session_4_ET_2_data_prepared.csv\n",
      "process file  1021_Session_4_ET_3_data_prepared.csv\n"
     ]
    },
    {
     "data": {
      "application/vnd.jupyter.widget-view+json": {
       "model_id": "5551ea8f0bff44199eb1fc60aa043d04",
       "version_major": 2,
       "version_minor": 0
      },
      "text/plain": [
       "📄 0 of 4 📂 ET files____________ processed:            \n",
       "              0% ⏱️00:00 ⏳? ⚙️?it/s"
      ]
     },
     "metadata": {},
     "output_type": "display_data"
    },
    {
     "name": "stdout",
     "output_type": "stream",
     "text": [
      "process file  1021_Session_5_ET_1_data_prepared.csv\n",
      "process file  1021_Session_5_ET_2_data_prepared.csv\n",
      "process file  1021_Session_5_ET_3_data_prepared.csv\n",
      "process file  1021_Session_5_ET_4_data_prepared.csv\n",
      "Participant 10 - participant ID 1022\n"
     ]
    },
    {
     "data": {
      "application/vnd.jupyter.widget-view+json": {
       "model_id": "5f26048d334f47b0abfae3add03e83c7",
       "version_major": 2,
       "version_minor": 0
      },
      "text/plain": [
       "📄 0 of 5 sessions________ processed:            \n",
       "              0% ⏱️00:00 ⏳? ⚙️?it/s"
      ]
     },
     "metadata": {},
     "output_type": "display_data"
    },
    {
     "data": {
      "application/vnd.jupyter.widget-view+json": {
       "model_id": "9b068a62e2054d18a4e33c5d2a3eabec",
       "version_major": 2,
       "version_minor": 0
      },
      "text/plain": [
       "📄 0 of 3 📂 ET files____________ processed:            \n",
       "              0% ⏱️00:00 ⏳? ⚙️?it/s"
      ]
     },
     "metadata": {},
     "output_type": "display_data"
    },
    {
     "name": "stdout",
     "output_type": "stream",
     "text": [
      "process file  1022_Session_1_ET_1_data_prepared.csv\n",
      "process file  1022_Session_1_ET_2_data_prepared.csv\n",
      "process file  1022_Session_1_ET_3_data_prepared.csv\n"
     ]
    },
    {
     "data": {
      "application/vnd.jupyter.widget-view+json": {
       "model_id": "e788af3f3a184c9786f01026e01c720c",
       "version_major": 2,
       "version_minor": 0
      },
      "text/plain": [
       "📄 0 of 3 📂 ET files____________ processed:            \n",
       "              0% ⏱️00:00 ⏳? ⚙️?it/s"
      ]
     },
     "metadata": {},
     "output_type": "display_data"
    },
    {
     "name": "stdout",
     "output_type": "stream",
     "text": [
      "process file  1022_Session_2_ET_1_data_prepared.csv\n",
      "process file  1022_Session_2_ET_2_data_prepared.csv\n",
      "process file  1022_Session_2_ET_3_data_prepared.csv\n"
     ]
    },
    {
     "data": {
      "application/vnd.jupyter.widget-view+json": {
       "model_id": "5f93f45eb98045e0bc2b019a93745dcc",
       "version_major": 2,
       "version_minor": 0
      },
      "text/plain": [
       "📄 0 of 3 📂 ET files____________ processed:            \n",
       "              0% ⏱️00:00 ⏳? ⚙️?it/s"
      ]
     },
     "metadata": {},
     "output_type": "display_data"
    },
    {
     "name": "stdout",
     "output_type": "stream",
     "text": [
      "process file  1022_Session_3_ET_1_data_prepared.csv\n",
      "process file  1022_Session_3_ET_2_data_prepared.csv\n",
      "process file  1022_Session_3_ET_3_data_prepared.csv\n"
     ]
    },
    {
     "data": {
      "application/vnd.jupyter.widget-view+json": {
       "model_id": "cb9883426cc24cba86adcf3508566b42",
       "version_major": 2,
       "version_minor": 0
      },
      "text/plain": [
       "📄 0 of 3 📂 ET files____________ processed:            \n",
       "              0% ⏱️00:00 ⏳? ⚙️?it/s"
      ]
     },
     "metadata": {},
     "output_type": "display_data"
    },
    {
     "name": "stdout",
     "output_type": "stream",
     "text": [
      "process file  1022_Session_4_ET_1_data_prepared.csv\n",
      "process file  1022_Session_4_ET_2_data_prepared.csv\n",
      "process file  1022_Session_4_ET_3_data_prepared.csv\n"
     ]
    },
    {
     "data": {
      "application/vnd.jupyter.widget-view+json": {
       "model_id": "f53e3f52dc124273b94efcfd66618eb1",
       "version_major": 2,
       "version_minor": 0
      },
      "text/plain": [
       "📄 0 of 3 📂 ET files____________ processed:            \n",
       "              0% ⏱️00:00 ⏳? ⚙️?it/s"
      ]
     },
     "metadata": {},
     "output_type": "display_data"
    },
    {
     "name": "stdout",
     "output_type": "stream",
     "text": [
      "process file  1022_Session_5_ET_1_data_prepared.csv\n",
      "process file  1022_Session_5_ET_2_data_prepared.csv\n",
      "process file  1022_Session_5_ET_3_data_prepared.csv\n",
      "Participant 11 - participant ID 1023\n"
     ]
    },
    {
     "data": {
      "application/vnd.jupyter.widget-view+json": {
       "model_id": "242efcedd66244bf8412d233e3ed6c62",
       "version_major": 2,
       "version_minor": 0
      },
      "text/plain": [
       "📄 0 of 5 sessions________ processed:            \n",
       "              0% ⏱️00:00 ⏳? ⚙️?it/s"
      ]
     },
     "metadata": {},
     "output_type": "display_data"
    },
    {
     "data": {
      "application/vnd.jupyter.widget-view+json": {
       "model_id": "8d6a7642cc244a9eae94ac1be3452e1b",
       "version_major": 2,
       "version_minor": 0
      },
      "text/plain": [
       "📄 0 of 3 📂 ET files____________ processed:            \n",
       "              0% ⏱️00:00 ⏳? ⚙️?it/s"
      ]
     },
     "metadata": {},
     "output_type": "display_data"
    },
    {
     "name": "stdout",
     "output_type": "stream",
     "text": [
      "process file  1023_Session_1_ET_1_data_prepared.csv\n",
      "process file  1023_Session_1_ET_2_data_prepared.csv\n",
      "process file  1023_Session_1_ET_3_data_prepared.csv\n"
     ]
    },
    {
     "data": {
      "application/vnd.jupyter.widget-view+json": {
       "model_id": "adf3fbd3bae94a96a509810e59ac94e8",
       "version_major": 2,
       "version_minor": 0
      },
      "text/plain": [
       "📄 0 of 3 📂 ET files____________ processed:            \n",
       "              0% ⏱️00:00 ⏳? ⚙️?it/s"
      ]
     },
     "metadata": {},
     "output_type": "display_data"
    },
    {
     "name": "stdout",
     "output_type": "stream",
     "text": [
      "process file  1023_Session_2_ET_1_data_prepared.csv\n",
      "process file  1023_Session_2_ET_2_data_prepared.csv\n",
      "process file  1023_Session_2_ET_3_data_prepared.csv\n"
     ]
    },
    {
     "data": {
      "application/vnd.jupyter.widget-view+json": {
       "model_id": "04bdf6e237fb4f2eb86df8fd0792dd5e",
       "version_major": 2,
       "version_minor": 0
      },
      "text/plain": [
       "📄 0 of 3 📂 ET files____________ processed:            \n",
       "              0% ⏱️00:00 ⏳? ⚙️?it/s"
      ]
     },
     "metadata": {},
     "output_type": "display_data"
    },
    {
     "name": "stdout",
     "output_type": "stream",
     "text": [
      "process file  1023_Session_3_ET_1_data_prepared.csv\n",
      "process file  1023_Session_3_ET_2_data_prepared.csv\n",
      "process file  1023_Session_3_ET_3_data_prepared.csv\n"
     ]
    },
    {
     "data": {
      "application/vnd.jupyter.widget-view+json": {
       "model_id": "8165214ec45744a9a0e93ef22a6eaa2c",
       "version_major": 2,
       "version_minor": 0
      },
      "text/plain": [
       "📄 0 of 3 📂 ET files____________ processed:            \n",
       "              0% ⏱️00:00 ⏳? ⚙️?it/s"
      ]
     },
     "metadata": {},
     "output_type": "display_data"
    },
    {
     "name": "stdout",
     "output_type": "stream",
     "text": [
      "process file  1023_Session_4_ET_1_data_prepared.csv\n",
      "process file  1023_Session_4_ET_2_data_prepared.csv\n",
      "process file  1023_Session_4_ET_3_data_prepared.csv\n"
     ]
    },
    {
     "data": {
      "application/vnd.jupyter.widget-view+json": {
       "model_id": "85e4567df3384ab988c1fbde13aa361a",
       "version_major": 2,
       "version_minor": 0
      },
      "text/plain": [
       "📄 0 of 3 📂 ET files____________ processed:            \n",
       "              0% ⏱️00:00 ⏳? ⚙️?it/s"
      ]
     },
     "metadata": {},
     "output_type": "display_data"
    },
    {
     "name": "stdout",
     "output_type": "stream",
     "text": [
      "process file  1023_Session_5_ET_1_data_prepared.csv\n",
      "process file  1023_Session_5_ET_2_data_prepared.csv\n",
      "process file  1023_Session_5_ET_3_data_prepared.csv\n",
      "Participant 12 - participant ID 1054\n"
     ]
    },
    {
     "data": {
      "application/vnd.jupyter.widget-view+json": {
       "model_id": "2408699cf8954865b9d1c8e7419228ab",
       "version_major": 2,
       "version_minor": 0
      },
      "text/plain": [
       "📄 0 of 5 sessions________ processed:            \n",
       "              0% ⏱️00:00 ⏳? ⚙️?it/s"
      ]
     },
     "metadata": {},
     "output_type": "display_data"
    },
    {
     "data": {
      "application/vnd.jupyter.widget-view+json": {
       "model_id": "98aa8584b6164dc8a3e03cdfb3ed9204",
       "version_major": 2,
       "version_minor": 0
      },
      "text/plain": [
       "📄 0 of 3 📂 ET files____________ processed:            \n",
       "              0% ⏱️00:00 ⏳? ⚙️?it/s"
      ]
     },
     "metadata": {},
     "output_type": "display_data"
    },
    {
     "name": "stdout",
     "output_type": "stream",
     "text": [
      "process file  1054_Session_1_ET_1_data_prepared.csv\n",
      "process file  1054_Session_1_ET_2_data_prepared.csv\n",
      "process file  1054_Session_1_ET_3_data_prepared.csv\n"
     ]
    },
    {
     "data": {
      "application/vnd.jupyter.widget-view+json": {
       "model_id": "a41e50932c564b5787a1d649e439278d",
       "version_major": 2,
       "version_minor": 0
      },
      "text/plain": [
       "📄 0 of 3 📂 ET files____________ processed:            \n",
       "              0% ⏱️00:00 ⏳? ⚙️?it/s"
      ]
     },
     "metadata": {},
     "output_type": "display_data"
    },
    {
     "name": "stdout",
     "output_type": "stream",
     "text": [
      "process file  1054_Session_2_ET_1_data_prepared.csv\n",
      "process file  1054_Session_2_ET_2_data_prepared.csv\n",
      "process file  1054_Session_2_ET_3_data_prepared.csv\n"
     ]
    },
    {
     "data": {
      "application/vnd.jupyter.widget-view+json": {
       "model_id": "4a8ecf0d63554b7a90bd0ecf122b9e1c",
       "version_major": 2,
       "version_minor": 0
      },
      "text/plain": [
       "📄 0 of 3 📂 ET files____________ processed:            \n",
       "              0% ⏱️00:00 ⏳? ⚙️?it/s"
      ]
     },
     "metadata": {},
     "output_type": "display_data"
    },
    {
     "name": "stdout",
     "output_type": "stream",
     "text": [
      "process file  1054_Session_3_ET_1_data_prepared.csv\n",
      "process file  1054_Session_3_ET_2_data_prepared.csv\n",
      "process file  1054_Session_3_ET_3_data_prepared.csv\n"
     ]
    },
    {
     "data": {
      "application/vnd.jupyter.widget-view+json": {
       "model_id": "bf9b5b519e934c79863975552ad63012",
       "version_major": 2,
       "version_minor": 0
      },
      "text/plain": [
       "📄 0 of 3 📂 ET files____________ processed:            \n",
       "              0% ⏱️00:00 ⏳? ⚙️?it/s"
      ]
     },
     "metadata": {},
     "output_type": "display_data"
    },
    {
     "name": "stdout",
     "output_type": "stream",
     "text": [
      "process file  1054_Session_4_ET_1_data_prepared.csv\n",
      "process file  1054_Session_4_ET_2_data_prepared.csv\n",
      "process file  1054_Session_4_ET_3_data_prepared.csv\n"
     ]
    },
    {
     "data": {
      "application/vnd.jupyter.widget-view+json": {
       "model_id": "1ec7a2122bdb4198a5e7ca620576a0c8",
       "version_major": 2,
       "version_minor": 0
      },
      "text/plain": [
       "📄 0 of 3 📂 ET files____________ processed:            \n",
       "              0% ⏱️00:00 ⏳? ⚙️?it/s"
      ]
     },
     "metadata": {},
     "output_type": "display_data"
    },
    {
     "name": "stdout",
     "output_type": "stream",
     "text": [
      "process file  1054_Session_5_ET_1_data_prepared.csv\n",
      "process file  1054_Session_5_ET_2_data_prepared.csv\n",
      "process file  1054_Session_5_ET_3_data_prepared.csv\n",
      "Participant 13 - participant ID 1055\n"
     ]
    },
    {
     "data": {
      "application/vnd.jupyter.widget-view+json": {
       "model_id": "6ff700dd93e24620b196c796e8ecf0e7",
       "version_major": 2,
       "version_minor": 0
      },
      "text/plain": [
       "📄 0 of 5 sessions________ processed:            \n",
       "              0% ⏱️00:00 ⏳? ⚙️?it/s"
      ]
     },
     "metadata": {},
     "output_type": "display_data"
    },
    {
     "data": {
      "application/vnd.jupyter.widget-view+json": {
       "model_id": "36a6114c905d4eb2aae080a45ca53e9f",
       "version_major": 2,
       "version_minor": 0
      },
      "text/plain": [
       "📄 0 of 3 📂 ET files____________ processed:            \n",
       "              0% ⏱️00:00 ⏳? ⚙️?it/s"
      ]
     },
     "metadata": {},
     "output_type": "display_data"
    },
    {
     "name": "stdout",
     "output_type": "stream",
     "text": [
      "process file  1055_Session_1_ET_1_data_prepared.csv\n",
      "process file  1055_Session_1_ET_2_data_prepared.csv\n",
      "process file  1055_Session_1_ET_3_data_prepared.csv\n"
     ]
    },
    {
     "data": {
      "application/vnd.jupyter.widget-view+json": {
       "model_id": "96b82badec0f411593dbc1a20461c875",
       "version_major": 2,
       "version_minor": 0
      },
      "text/plain": [
       "📄 0 of 3 📂 ET files____________ processed:            \n",
       "              0% ⏱️00:00 ⏳? ⚙️?it/s"
      ]
     },
     "metadata": {},
     "output_type": "display_data"
    },
    {
     "name": "stdout",
     "output_type": "stream",
     "text": [
      "process file  1055_Session_2_ET_1_data_prepared.csv\n",
      "process file  1055_Session_2_ET_2_data_prepared.csv\n",
      "process file  1055_Session_2_ET_3_data_prepared.csv\n"
     ]
    },
    {
     "data": {
      "application/vnd.jupyter.widget-view+json": {
       "model_id": "b76ae1ef01c04625b1b50128fa027955",
       "version_major": 2,
       "version_minor": 0
      },
      "text/plain": [
       "📄 0 of 3 📂 ET files____________ processed:            \n",
       "              0% ⏱️00:00 ⏳? ⚙️?it/s"
      ]
     },
     "metadata": {},
     "output_type": "display_data"
    },
    {
     "name": "stdout",
     "output_type": "stream",
     "text": [
      "process file  1055_Session_3_ET_1_data_prepared.csv\n",
      "process file  1055_Session_3_ET_2_data_prepared.csv\n",
      "process file  1055_Session_3_ET_3_data_prepared.csv\n"
     ]
    },
    {
     "data": {
      "application/vnd.jupyter.widget-view+json": {
       "model_id": "b6eda87457ca41f191fcc32e9709e331",
       "version_major": 2,
       "version_minor": 0
      },
      "text/plain": [
       "📄 0 of 4 📂 ET files____________ processed:            \n",
       "              0% ⏱️00:00 ⏳? ⚙️?it/s"
      ]
     },
     "metadata": {},
     "output_type": "display_data"
    },
    {
     "name": "stdout",
     "output_type": "stream",
     "text": [
      "process file  1055_Session_4_ET_1_data_prepared.csv\n",
      "process file  1055_Session_4_ET_2_data_prepared.csv\n",
      "process file  1055_Session_4_ET_3_data_prepared.csv\n",
      "process file  1055_Session_4_ET_4_data_prepared.csv\n"
     ]
    },
    {
     "data": {
      "application/vnd.jupyter.widget-view+json": {
       "model_id": "ef270d15765c477091d1e22c5093a5af",
       "version_major": 2,
       "version_minor": 0
      },
      "text/plain": [
       "📄 0 of 3 📂 ET files____________ processed:            \n",
       "              0% ⏱️00:00 ⏳? ⚙️?it/s"
      ]
     },
     "metadata": {},
     "output_type": "display_data"
    },
    {
     "name": "stdout",
     "output_type": "stream",
     "text": [
      "process file  1055_Session_5_ET_1_data_prepared.csv\n",
      "process file  1055_Session_5_ET_2_data_prepared.csv\n",
      "process file  1055_Session_5_ET_3_data_prepared.csv\n",
      "Participant 14 - participant ID 1056\n"
     ]
    },
    {
     "data": {
      "application/vnd.jupyter.widget-view+json": {
       "model_id": "304f66eec62c47438c4f7cb30a74837b",
       "version_major": 2,
       "version_minor": 0
      },
      "text/plain": [
       "📄 0 of 5 sessions________ processed:            \n",
       "              0% ⏱️00:00 ⏳? ⚙️?it/s"
      ]
     },
     "metadata": {},
     "output_type": "display_data"
    },
    {
     "data": {
      "application/vnd.jupyter.widget-view+json": {
       "model_id": "89e65a1f74b742ec86f271e05fadcd17",
       "version_major": 2,
       "version_minor": 0
      },
      "text/plain": [
       "📄 0 of 3 📂 ET files____________ processed:            \n",
       "              0% ⏱️00:00 ⏳? ⚙️?it/s"
      ]
     },
     "metadata": {},
     "output_type": "display_data"
    },
    {
     "name": "stdout",
     "output_type": "stream",
     "text": [
      "process file  1056_Session_1_ET_1_data_prepared.csv\n",
      "process file  1056_Session_1_ET_2_data_prepared.csv\n",
      "process file  1056_Session_1_ET_3_data_prepared.csv\n"
     ]
    },
    {
     "data": {
      "application/vnd.jupyter.widget-view+json": {
       "model_id": "1c80bb92138540ebbaf609b295add27b",
       "version_major": 2,
       "version_minor": 0
      },
      "text/plain": [
       "📄 0 of 3 📂 ET files____________ processed:            \n",
       "              0% ⏱️00:00 ⏳? ⚙️?it/s"
      ]
     },
     "metadata": {},
     "output_type": "display_data"
    },
    {
     "name": "stdout",
     "output_type": "stream",
     "text": [
      "process file  1056_Session_2_ET_1_data_prepared.csv\n",
      "process file  1056_Session_2_ET_2_data_prepared.csv\n",
      "process file  1056_Session_2_ET_3_data_prepared.csv\n"
     ]
    },
    {
     "data": {
      "application/vnd.jupyter.widget-view+json": {
       "model_id": "7296d3fcc99c404797d6323f8f5cb3ae",
       "version_major": 2,
       "version_minor": 0
      },
      "text/plain": [
       "📄 0 of 3 📂 ET files____________ processed:            \n",
       "              0% ⏱️00:00 ⏳? ⚙️?it/s"
      ]
     },
     "metadata": {},
     "output_type": "display_data"
    },
    {
     "name": "stdout",
     "output_type": "stream",
     "text": [
      "process file  1056_Session_3_ET_1_data_prepared.csv\n",
      "process file  1056_Session_3_ET_2_data_prepared.csv\n",
      "process file  1056_Session_3_ET_3_data_prepared.csv\n"
     ]
    },
    {
     "data": {
      "application/vnd.jupyter.widget-view+json": {
       "model_id": "81fbb87b4c864cf895862bde8329546b",
       "version_major": 2,
       "version_minor": 0
      },
      "text/plain": [
       "📄 0 of 3 📂 ET files____________ processed:            \n",
       "              0% ⏱️00:00 ⏳? ⚙️?it/s"
      ]
     },
     "metadata": {},
     "output_type": "display_data"
    },
    {
     "name": "stdout",
     "output_type": "stream",
     "text": [
      "process file  1056_Session_4_ET_1_data_prepared.csv\n",
      "process file  1056_Session_4_ET_2_data_prepared.csv\n",
      "process file  1056_Session_4_ET_3_data_prepared.csv\n"
     ]
    },
    {
     "data": {
      "application/vnd.jupyter.widget-view+json": {
       "model_id": "8c65d384ac324f4291dd51315e153f29",
       "version_major": 2,
       "version_minor": 0
      },
      "text/plain": [
       "📄 0 of 3 📂 ET files____________ processed:            \n",
       "              0% ⏱️00:00 ⏳? ⚙️?it/s"
      ]
     },
     "metadata": {},
     "output_type": "display_data"
    },
    {
     "name": "stdout",
     "output_type": "stream",
     "text": [
      "process file  1056_Session_5_ET_1_data_prepared.csv\n",
      "process file  1056_Session_5_ET_2_data_prepared.csv\n",
      "process file  1056_Session_5_ET_3_data_prepared.csv\n",
      "Participant 15 - participant ID 1057\n"
     ]
    },
    {
     "data": {
      "application/vnd.jupyter.widget-view+json": {
       "model_id": "6416419402fb4c33a51ec9ee9d5f3901",
       "version_major": 2,
       "version_minor": 0
      },
      "text/plain": [
       "📄 0 of 5 sessions________ processed:            \n",
       "              0% ⏱️00:00 ⏳? ⚙️?it/s"
      ]
     },
     "metadata": {},
     "output_type": "display_data"
    },
    {
     "data": {
      "application/vnd.jupyter.widget-view+json": {
       "model_id": "4381583165774a7992f49788ae394f8b",
       "version_major": 2,
       "version_minor": 0
      },
      "text/plain": [
       "📄 0 of 3 📂 ET files____________ processed:            \n",
       "              0% ⏱️00:00 ⏳? ⚙️?it/s"
      ]
     },
     "metadata": {},
     "output_type": "display_data"
    },
    {
     "name": "stdout",
     "output_type": "stream",
     "text": [
      "process file  1057_Session_1_ET_1_data_prepared.csv\n",
      "process file  1057_Session_1_ET_2_data_prepared.csv\n",
      "process file  1057_Session_1_ET_3_data_prepared.csv\n"
     ]
    },
    {
     "data": {
      "application/vnd.jupyter.widget-view+json": {
       "model_id": "08d9bcec1f8846728b3a06a262e93f1f",
       "version_major": 2,
       "version_minor": 0
      },
      "text/plain": [
       "📄 0 of 3 📂 ET files____________ processed:            \n",
       "              0% ⏱️00:00 ⏳? ⚙️?it/s"
      ]
     },
     "metadata": {},
     "output_type": "display_data"
    },
    {
     "name": "stdout",
     "output_type": "stream",
     "text": [
      "process file  1057_Session_2_ET_1_data_prepared.csv\n",
      "process file  1057_Session_2_ET_2_data_prepared.csv\n",
      "process file  1057_Session_2_ET_3_data_prepared.csv\n"
     ]
    },
    {
     "data": {
      "application/vnd.jupyter.widget-view+json": {
       "model_id": "4af4bcc29a4c4ee2a64afd4ee97759b2",
       "version_major": 2,
       "version_minor": 0
      },
      "text/plain": [
       "📄 0 of 3 📂 ET files____________ processed:            \n",
       "              0% ⏱️00:00 ⏳? ⚙️?it/s"
      ]
     },
     "metadata": {},
     "output_type": "display_data"
    },
    {
     "name": "stdout",
     "output_type": "stream",
     "text": [
      "process file  1057_Session_3_ET_1_data_prepared.csv\n",
      "process file  1057_Session_3_ET_2_data_prepared.csv\n",
      "process file  1057_Session_3_ET_3_data_prepared.csv\n"
     ]
    },
    {
     "data": {
      "application/vnd.jupyter.widget-view+json": {
       "model_id": "2c5158e5f6404989a98013490e3e1967",
       "version_major": 2,
       "version_minor": 0
      },
      "text/plain": [
       "📄 0 of 3 📂 ET files____________ processed:            \n",
       "              0% ⏱️00:00 ⏳? ⚙️?it/s"
      ]
     },
     "metadata": {},
     "output_type": "display_data"
    },
    {
     "name": "stdout",
     "output_type": "stream",
     "text": [
      "process file  1057_Session_4_ET_1_data_prepared.csv\n",
      "process file  1057_Session_4_ET_2_data_prepared.csv\n",
      "process file  1057_Session_4_ET_3_data_prepared.csv\n"
     ]
    },
    {
     "data": {
      "application/vnd.jupyter.widget-view+json": {
       "model_id": "ebfe6e9a1a02491c919ebe9356b3b7a9",
       "version_major": 2,
       "version_minor": 0
      },
      "text/plain": [
       "📄 0 of 3 📂 ET files____________ processed:            \n",
       "              0% ⏱️00:00 ⏳? ⚙️?it/s"
      ]
     },
     "metadata": {},
     "output_type": "display_data"
    },
    {
     "name": "stdout",
     "output_type": "stream",
     "text": [
      "process file  1057_Session_5_ET_1_data_prepared.csv\n",
      "process file  1057_Session_5_ET_2_data_prepared.csv\n",
      "process file  1057_Session_5_ET_3_data_prepared.csv\n",
      "Participant 16 - participant ID 1058\n"
     ]
    },
    {
     "data": {
      "application/vnd.jupyter.widget-view+json": {
       "model_id": "10acd73500374e7fb55d1512a7d9ddf1",
       "version_major": 2,
       "version_minor": 0
      },
      "text/plain": [
       "📄 0 of 5 sessions________ processed:            \n",
       "              0% ⏱️00:00 ⏳? ⚙️?it/s"
      ]
     },
     "metadata": {},
     "output_type": "display_data"
    },
    {
     "data": {
      "application/vnd.jupyter.widget-view+json": {
       "model_id": "db339bce98424a2596e77d623ab148d1",
       "version_major": 2,
       "version_minor": 0
      },
      "text/plain": [
       "📄 0 of 4 📂 ET files____________ processed:            \n",
       "              0% ⏱️00:00 ⏳? ⚙️?it/s"
      ]
     },
     "metadata": {},
     "output_type": "display_data"
    },
    {
     "name": "stdout",
     "output_type": "stream",
     "text": [
      "process file  1058_Session_1_ET_1_data_prepared.csv\n",
      "process file  1058_Session_1_ET_2_data_prepared.csv\n",
      "process file  1058_Session_1_ET_3_data_prepared.csv\n",
      "process file  1058_Session_1_ET_4_data_prepared.csv\n"
     ]
    },
    {
     "data": {
      "application/vnd.jupyter.widget-view+json": {
       "model_id": "6a7c4e113ebe4116b4bcc25c36c820f9",
       "version_major": 2,
       "version_minor": 0
      },
      "text/plain": [
       "📄 0 of 3 📂 ET files____________ processed:            \n",
       "              0% ⏱️00:00 ⏳? ⚙️?it/s"
      ]
     },
     "metadata": {},
     "output_type": "display_data"
    },
    {
     "name": "stdout",
     "output_type": "stream",
     "text": [
      "process file  1058_Session_2_ET_1_data_prepared.csv\n",
      "process file  1058_Session_2_ET_2_data_prepared.csv\n",
      "process file  1058_Session_2_ET_3_data_prepared.csv\n"
     ]
    },
    {
     "data": {
      "application/vnd.jupyter.widget-view+json": {
       "model_id": "3b6b0d2370914b98b10f339c9328cf51",
       "version_major": 2,
       "version_minor": 0
      },
      "text/plain": [
       "📄 0 of 3 📂 ET files____________ processed:            \n",
       "              0% ⏱️00:00 ⏳? ⚙️?it/s"
      ]
     },
     "metadata": {},
     "output_type": "display_data"
    },
    {
     "name": "stdout",
     "output_type": "stream",
     "text": [
      "process file  1058_Session_3_ET_1_data_prepared.csv\n",
      "process file  1058_Session_3_ET_2_data_prepared.csv\n",
      "process file  1058_Session_3_ET_3_data_prepared.csv\n"
     ]
    },
    {
     "data": {
      "application/vnd.jupyter.widget-view+json": {
       "model_id": "e3f7c781c5d34077b116237380fe8d1e",
       "version_major": 2,
       "version_minor": 0
      },
      "text/plain": [
       "📄 0 of 3 📂 ET files____________ processed:            \n",
       "              0% ⏱️00:00 ⏳? ⚙️?it/s"
      ]
     },
     "metadata": {},
     "output_type": "display_data"
    },
    {
     "name": "stdout",
     "output_type": "stream",
     "text": [
      "process file  1058_Session_4_ET_1_data_prepared.csv\n",
      "process file  1058_Session_4_ET_2_data_prepared.csv\n",
      "process file  1058_Session_4_ET_3_data_prepared.csv\n"
     ]
    },
    {
     "data": {
      "application/vnd.jupyter.widget-view+json": {
       "model_id": "9b309b71b7cb40e58e609baf8071816d",
       "version_major": 2,
       "version_minor": 0
      },
      "text/plain": [
       "📄 0 of 3 📂 ET files____________ processed:            \n",
       "              0% ⏱️00:00 ⏳? ⚙️?it/s"
      ]
     },
     "metadata": {},
     "output_type": "display_data"
    },
    {
     "name": "stdout",
     "output_type": "stream",
     "text": [
      "process file  1058_Session_5_ET_1_data_prepared.csv\n",
      "process file  1058_Session_5_ET_2_data_prepared.csv\n",
      "process file  1058_Session_5_ET_3_data_prepared.csv\n",
      "Participant 17 - participant ID 1068\n"
     ]
    },
    {
     "data": {
      "application/vnd.jupyter.widget-view+json": {
       "model_id": "fd9f20845a7d48a29884c7f7b03a2411",
       "version_major": 2,
       "version_minor": 0
      },
      "text/plain": [
       "📄 0 of 5 sessions________ processed:            \n",
       "              0% ⏱️00:00 ⏳? ⚙️?it/s"
      ]
     },
     "metadata": {},
     "output_type": "display_data"
    },
    {
     "data": {
      "application/vnd.jupyter.widget-view+json": {
       "model_id": "d673bfd49b58423ea401001facb62665",
       "version_major": 2,
       "version_minor": 0
      },
      "text/plain": [
       "📄 0 of 4 📂 ET files____________ processed:            \n",
       "              0% ⏱️00:00 ⏳? ⚙️?it/s"
      ]
     },
     "metadata": {},
     "output_type": "display_data"
    },
    {
     "name": "stdout",
     "output_type": "stream",
     "text": [
      "process file  1068_Session_1_ET_1_data_prepared.csv\n",
      "process file  1068_Session_1_ET_2_data_prepared.csv\n",
      "process file  1068_Session_1_ET_3_data_prepared.csv\n",
      "process file  1068_Session_1_ET_4_data_prepared.csv\n"
     ]
    },
    {
     "data": {
      "application/vnd.jupyter.widget-view+json": {
       "model_id": "ad50a838fc1f41e7b067c5e657e60a2c",
       "version_major": 2,
       "version_minor": 0
      },
      "text/plain": [
       "📄 0 of 3 📂 ET files____________ processed:            \n",
       "              0% ⏱️00:00 ⏳? ⚙️?it/s"
      ]
     },
     "metadata": {},
     "output_type": "display_data"
    },
    {
     "name": "stdout",
     "output_type": "stream",
     "text": [
      "process file  1068_Session_2_ET_1_data_prepared.csv\n",
      "process file  1068_Session_2_ET_2_data_prepared.csv\n",
      "process file  1068_Session_2_ET_3_data_prepared.csv\n"
     ]
    },
    {
     "data": {
      "application/vnd.jupyter.widget-view+json": {
       "model_id": "c30fc558dacb47ef9f0e610177c4094f",
       "version_major": 2,
       "version_minor": 0
      },
      "text/plain": [
       "📄 0 of 3 📂 ET files____________ processed:            \n",
       "              0% ⏱️00:00 ⏳? ⚙️?it/s"
      ]
     },
     "metadata": {},
     "output_type": "display_data"
    },
    {
     "name": "stdout",
     "output_type": "stream",
     "text": [
      "process file  1068_Session_3_ET_1_data_prepared.csv\n",
      "process file  1068_Session_3_ET_2_data_prepared.csv\n",
      "process file  1068_Session_3_ET_3_data_prepared.csv\n"
     ]
    },
    {
     "data": {
      "application/vnd.jupyter.widget-view+json": {
       "model_id": "1ae46678f4f8418daa78bbab437fcfb6",
       "version_major": 2,
       "version_minor": 0
      },
      "text/plain": [
       "📄 0 of 3 📂 ET files____________ processed:            \n",
       "              0% ⏱️00:00 ⏳? ⚙️?it/s"
      ]
     },
     "metadata": {},
     "output_type": "display_data"
    },
    {
     "name": "stdout",
     "output_type": "stream",
     "text": [
      "process file  1068_Session_4_ET_1_data_prepared.csv\n",
      "process file  1068_Session_4_ET_2_data_prepared.csv\n",
      "process file  1068_Session_4_ET_3_data_prepared.csv\n"
     ]
    },
    {
     "data": {
      "application/vnd.jupyter.widget-view+json": {
       "model_id": "d31481b043e748b6b286bbca6295a4bc",
       "version_major": 2,
       "version_minor": 0
      },
      "text/plain": [
       "📄 0 of 3 📂 ET files____________ processed:            \n",
       "              0% ⏱️00:00 ⏳? ⚙️?it/s"
      ]
     },
     "metadata": {},
     "output_type": "display_data"
    },
    {
     "name": "stdout",
     "output_type": "stream",
     "text": [
      "process file  1068_Session_5_ET_1_data_prepared.csv\n",
      "process file  1068_Session_5_ET_2_data_prepared.csv\n",
      "process file  1068_Session_5_ET_3_data_prepared.csv\n",
      "Participant 18 - participant ID 1069\n"
     ]
    },
    {
     "data": {
      "application/vnd.jupyter.widget-view+json": {
       "model_id": "151a04b2d6c342f3aff47e69e5cd60b6",
       "version_major": 2,
       "version_minor": 0
      },
      "text/plain": [
       "📄 0 of 5 sessions________ processed:            \n",
       "              0% ⏱️00:00 ⏳? ⚙️?it/s"
      ]
     },
     "metadata": {},
     "output_type": "display_data"
    },
    {
     "data": {
      "application/vnd.jupyter.widget-view+json": {
       "model_id": "50103c1bb16f428eaa3b58c94e854cde",
       "version_major": 2,
       "version_minor": 0
      },
      "text/plain": [
       "📄 0 of 3 📂 ET files____________ processed:            \n",
       "              0% ⏱️00:00 ⏳? ⚙️?it/s"
      ]
     },
     "metadata": {},
     "output_type": "display_data"
    },
    {
     "name": "stdout",
     "output_type": "stream",
     "text": [
      "process file  1069_Session_1_ET_1_data_prepared.csv\n",
      "process file  1069_Session_1_ET_2_data_prepared.csv\n",
      "process file  1069_Session_1_ET_3_data_prepared.csv\n"
     ]
    },
    {
     "data": {
      "application/vnd.jupyter.widget-view+json": {
       "model_id": "97c0ac67de9c449aa7160a9326f98514",
       "version_major": 2,
       "version_minor": 0
      },
      "text/plain": [
       "📄 0 of 3 📂 ET files____________ processed:            \n",
       "              0% ⏱️00:00 ⏳? ⚙️?it/s"
      ]
     },
     "metadata": {},
     "output_type": "display_data"
    },
    {
     "name": "stdout",
     "output_type": "stream",
     "text": [
      "process file  1069_Session_2_ET_1_data_prepared.csv\n",
      "process file  1069_Session_2_ET_2_data_prepared.csv\n",
      "process file  1069_Session_2_ET_3_data_prepared.csv\n"
     ]
    },
    {
     "data": {
      "application/vnd.jupyter.widget-view+json": {
       "model_id": "2093e450add1466d8d06ad61f05d8b6b",
       "version_major": 2,
       "version_minor": 0
      },
      "text/plain": [
       "📄 0 of 3 📂 ET files____________ processed:            \n",
       "              0% ⏱️00:00 ⏳? ⚙️?it/s"
      ]
     },
     "metadata": {},
     "output_type": "display_data"
    },
    {
     "name": "stdout",
     "output_type": "stream",
     "text": [
      "process file  1069_Session_3_ET_1_data_prepared.csv\n",
      "process file  1069_Session_3_ET_2_data_prepared.csv\n",
      "process file  1069_Session_3_ET_3_data_prepared.csv\n"
     ]
    },
    {
     "data": {
      "application/vnd.jupyter.widget-view+json": {
       "model_id": "877b202b1c3b4b5bbc5c0e148571b452",
       "version_major": 2,
       "version_minor": 0
      },
      "text/plain": [
       "📄 0 of 3 📂 ET files____________ processed:            \n",
       "              0% ⏱️00:00 ⏳? ⚙️?it/s"
      ]
     },
     "metadata": {},
     "output_type": "display_data"
    },
    {
     "name": "stdout",
     "output_type": "stream",
     "text": [
      "process file  1069_Session_4_ET_1_data_prepared.csv\n",
      "process file  1069_Session_4_ET_2_data_prepared.csv\n",
      "process file  1069_Session_4_ET_3_data_prepared.csv\n"
     ]
    },
    {
     "data": {
      "application/vnd.jupyter.widget-view+json": {
       "model_id": "1fce9f4108ba461eb0c7528966196e08",
       "version_major": 2,
       "version_minor": 0
      },
      "text/plain": [
       "📄 0 of 3 📂 ET files____________ processed:            \n",
       "              0% ⏱️00:00 ⏳? ⚙️?it/s"
      ]
     },
     "metadata": {},
     "output_type": "display_data"
    },
    {
     "name": "stdout",
     "output_type": "stream",
     "text": [
      "process file  1069_Session_5_ET_1_data_prepared.csv\n",
      "process file  1069_Session_5_ET_2_data_prepared.csv\n",
      "process file  1069_Session_5_ET_3_data_prepared.csv\n",
      "Participant 19 - participant ID 1072\n"
     ]
    },
    {
     "data": {
      "application/vnd.jupyter.widget-view+json": {
       "model_id": "5889380134c8446aac27bc2a1f9fc2ae",
       "version_major": 2,
       "version_minor": 0
      },
      "text/plain": [
       "📄 0 of 5 sessions________ processed:            \n",
       "              0% ⏱️00:00 ⏳? ⚙️?it/s"
      ]
     },
     "metadata": {},
     "output_type": "display_data"
    },
    {
     "data": {
      "application/vnd.jupyter.widget-view+json": {
       "model_id": "7462125bd42d4388abfe3007890f91d8",
       "version_major": 2,
       "version_minor": 0
      },
      "text/plain": [
       "📄 0 of 3 📂 ET files____________ processed:            \n",
       "              0% ⏱️00:00 ⏳? ⚙️?it/s"
      ]
     },
     "metadata": {},
     "output_type": "display_data"
    },
    {
     "name": "stdout",
     "output_type": "stream",
     "text": [
      "process file  1072_Session_1_ET_1_data_prepared.csv\n",
      "process file  1072_Session_1_ET_2_data_prepared.csv\n",
      "process file  1072_Session_1_ET_3_data_prepared.csv\n"
     ]
    },
    {
     "data": {
      "application/vnd.jupyter.widget-view+json": {
       "model_id": "3fbed36b30014b6fb989737abee36d31",
       "version_major": 2,
       "version_minor": 0
      },
      "text/plain": [
       "📄 0 of 3 📂 ET files____________ processed:            \n",
       "              0% ⏱️00:00 ⏳? ⚙️?it/s"
      ]
     },
     "metadata": {},
     "output_type": "display_data"
    },
    {
     "name": "stdout",
     "output_type": "stream",
     "text": [
      "process file  1072_Session_2_ET_1_data_prepared.csv\n",
      "process file  1072_Session_2_ET_2_data_prepared.csv\n",
      "process file  1072_Session_2_ET_3_data_prepared.csv\n"
     ]
    },
    {
     "data": {
      "application/vnd.jupyter.widget-view+json": {
       "model_id": "030abe49e2114070aae797b8c139116f",
       "version_major": 2,
       "version_minor": 0
      },
      "text/plain": [
       "📄 0 of 3 📂 ET files____________ processed:            \n",
       "              0% ⏱️00:00 ⏳? ⚙️?it/s"
      ]
     },
     "metadata": {},
     "output_type": "display_data"
    },
    {
     "name": "stdout",
     "output_type": "stream",
     "text": [
      "process file  1072_Session_3_ET_1_data_prepared.csv\n",
      "process file  1072_Session_3_ET_2_data_prepared.csv\n",
      "process file  1072_Session_3_ET_3_data_prepared.csv\n"
     ]
    },
    {
     "data": {
      "application/vnd.jupyter.widget-view+json": {
       "model_id": "be9e4a3c9077404c83793ad4337766bd",
       "version_major": 2,
       "version_minor": 0
      },
      "text/plain": [
       "📄 0 of 3 📂 ET files____________ processed:            \n",
       "              0% ⏱️00:00 ⏳? ⚙️?it/s"
      ]
     },
     "metadata": {},
     "output_type": "display_data"
    },
    {
     "name": "stdout",
     "output_type": "stream",
     "text": [
      "process file  1072_Session_4_ET_1_data_prepared.csv\n",
      "process file  1072_Session_4_ET_2_data_prepared.csv\n",
      "process file  1072_Session_4_ET_3_data_prepared.csv\n"
     ]
    },
    {
     "data": {
      "application/vnd.jupyter.widget-view+json": {
       "model_id": "b32d79b991354df99b0b13be9f6f9b79",
       "version_major": 2,
       "version_minor": 0
      },
      "text/plain": [
       "📄 0 of 3 📂 ET files____________ processed:            \n",
       "              0% ⏱️00:00 ⏳? ⚙️?it/s"
      ]
     },
     "metadata": {},
     "output_type": "display_data"
    },
    {
     "name": "stdout",
     "output_type": "stream",
     "text": [
      "process file  1072_Session_5_ET_1_data_prepared.csv\n",
      "process file  1072_Session_5_ET_2_data_prepared.csv\n",
      "process file  1072_Session_5_ET_3_data_prepared.csv\n",
      "Participant 20 - participant ID 1073\n"
     ]
    },
    {
     "data": {
      "application/vnd.jupyter.widget-view+json": {
       "model_id": "5e4527dfd894453f810c90a335ccd921",
       "version_major": 2,
       "version_minor": 0
      },
      "text/plain": [
       "📄 0 of 5 sessions________ processed:            \n",
       "              0% ⏱️00:00 ⏳? ⚙️?it/s"
      ]
     },
     "metadata": {},
     "output_type": "display_data"
    },
    {
     "data": {
      "application/vnd.jupyter.widget-view+json": {
       "model_id": "d20c4c57a09c4f069a5a5bba61acdce3",
       "version_major": 2,
       "version_minor": 0
      },
      "text/plain": [
       "📄 0 of 3 📂 ET files____________ processed:            \n",
       "              0% ⏱️00:00 ⏳? ⚙️?it/s"
      ]
     },
     "metadata": {},
     "output_type": "display_data"
    },
    {
     "name": "stdout",
     "output_type": "stream",
     "text": [
      "process file  1073_Session_1_ET_1_data_prepared.csv\n",
      "process file  1073_Session_1_ET_2_data_prepared.csv\n",
      "process file  1073_Session_1_ET_3_data_prepared.csv\n"
     ]
    },
    {
     "data": {
      "application/vnd.jupyter.widget-view+json": {
       "model_id": "aa380e210be145afb5506d22b5ee194b",
       "version_major": 2,
       "version_minor": 0
      },
      "text/plain": [
       "📄 0 of 3 📂 ET files____________ processed:            \n",
       "              0% ⏱️00:00 ⏳? ⚙️?it/s"
      ]
     },
     "metadata": {},
     "output_type": "display_data"
    },
    {
     "name": "stdout",
     "output_type": "stream",
     "text": [
      "process file  1073_Session_2_ET_1_data_prepared.csv\n",
      "process file  1073_Session_2_ET_2_data_prepared.csv\n",
      "process file  1073_Session_2_ET_3_data_prepared.csv\n"
     ]
    },
    {
     "data": {
      "application/vnd.jupyter.widget-view+json": {
       "model_id": "1d696482c9064806891401557b3c8c5a",
       "version_major": 2,
       "version_minor": 0
      },
      "text/plain": [
       "📄 0 of 3 📂 ET files____________ processed:            \n",
       "              0% ⏱️00:00 ⏳? ⚙️?it/s"
      ]
     },
     "metadata": {},
     "output_type": "display_data"
    },
    {
     "name": "stdout",
     "output_type": "stream",
     "text": [
      "process file  1073_Session_3_ET_1_data_prepared.csv\n",
      "process file  1073_Session_3_ET_2_data_prepared.csv\n",
      "process file  1073_Session_3_ET_3_data_prepared.csv\n"
     ]
    },
    {
     "data": {
      "application/vnd.jupyter.widget-view+json": {
       "model_id": "8bde5cf9b063460e9860ec864b261e3b",
       "version_major": 2,
       "version_minor": 0
      },
      "text/plain": [
       "📄 0 of 3 📂 ET files____________ processed:            \n",
       "              0% ⏱️00:00 ⏳? ⚙️?it/s"
      ]
     },
     "metadata": {},
     "output_type": "display_data"
    },
    {
     "name": "stdout",
     "output_type": "stream",
     "text": [
      "process file  1073_Session_4_ET_1_data_prepared.csv\n",
      "process file  1073_Session_4_ET_2_data_prepared.csv\n",
      "process file  1073_Session_4_ET_3_data_prepared.csv\n"
     ]
    },
    {
     "data": {
      "application/vnd.jupyter.widget-view+json": {
       "model_id": "61df954abad543b8b021cc80a48646e9",
       "version_major": 2,
       "version_minor": 0
      },
      "text/plain": [
       "📄 0 of 3 📂 ET files____________ processed:            \n",
       "              0% ⏱️00:00 ⏳? ⚙️?it/s"
      ]
     },
     "metadata": {},
     "output_type": "display_data"
    },
    {
     "name": "stdout",
     "output_type": "stream",
     "text": [
      "process file  1073_Session_5_ET_1_data_prepared.csv\n",
      "process file  1073_Session_5_ET_2_data_prepared.csv\n",
      "process file  1073_Session_5_ET_3_data_prepared.csv\n",
      "Participant 21 - participant ID 1074\n"
     ]
    },
    {
     "data": {
      "application/vnd.jupyter.widget-view+json": {
       "model_id": "664f70e387074799b2dcb80df1a1b124",
       "version_major": 2,
       "version_minor": 0
      },
      "text/plain": [
       "📄 0 of 5 sessions________ processed:            \n",
       "              0% ⏱️00:00 ⏳? ⚙️?it/s"
      ]
     },
     "metadata": {},
     "output_type": "display_data"
    },
    {
     "data": {
      "application/vnd.jupyter.widget-view+json": {
       "model_id": "84e488a2fa7347bfbfd7fb9866fd2948",
       "version_major": 2,
       "version_minor": 0
      },
      "text/plain": [
       "📄 0 of 3 📂 ET files____________ processed:            \n",
       "              0% ⏱️00:00 ⏳? ⚙️?it/s"
      ]
     },
     "metadata": {},
     "output_type": "display_data"
    },
    {
     "name": "stdout",
     "output_type": "stream",
     "text": [
      "process file  1074_Session_1_ET_1_data_prepared.csv\n",
      "process file  1074_Session_1_ET_2_data_prepared.csv\n",
      "process file  1074_Session_1_ET_3_data_prepared.csv\n"
     ]
    },
    {
     "data": {
      "application/vnd.jupyter.widget-view+json": {
       "model_id": "508aa577512d4a178ed85bbbfe5829c3",
       "version_major": 2,
       "version_minor": 0
      },
      "text/plain": [
       "📄 0 of 3 📂 ET files____________ processed:            \n",
       "              0% ⏱️00:00 ⏳? ⚙️?it/s"
      ]
     },
     "metadata": {},
     "output_type": "display_data"
    },
    {
     "name": "stdout",
     "output_type": "stream",
     "text": [
      "process file  1074_Session_2_ET_1_data_prepared.csv\n",
      "process file  1074_Session_2_ET_2_data_prepared.csv\n",
      "process file  1074_Session_2_ET_3_data_prepared.csv\n"
     ]
    },
    {
     "data": {
      "application/vnd.jupyter.widget-view+json": {
       "model_id": "bf87557fc50d4883a58a91a84ee8d8e6",
       "version_major": 2,
       "version_minor": 0
      },
      "text/plain": [
       "📄 0 of 3 📂 ET files____________ processed:            \n",
       "              0% ⏱️00:00 ⏳? ⚙️?it/s"
      ]
     },
     "metadata": {},
     "output_type": "display_data"
    },
    {
     "name": "stdout",
     "output_type": "stream",
     "text": [
      "process file  1074_Session_3_ET_1_data_prepared.csv\n",
      "process file  1074_Session_3_ET_2_data_prepared.csv\n",
      "process file  1074_Session_3_ET_3_data_prepared.csv\n"
     ]
    },
    {
     "data": {
      "application/vnd.jupyter.widget-view+json": {
       "model_id": "e0348f0a51b9424586c9853c8730a98f",
       "version_major": 2,
       "version_minor": 0
      },
      "text/plain": [
       "📄 0 of 3 📂 ET files____________ processed:            \n",
       "              0% ⏱️00:00 ⏳? ⚙️?it/s"
      ]
     },
     "metadata": {},
     "output_type": "display_data"
    },
    {
     "name": "stdout",
     "output_type": "stream",
     "text": [
      "process file  1074_Session_4_ET_1_data_prepared.csv\n",
      "process file  1074_Session_4_ET_2_data_prepared.csv\n",
      "process file  1074_Session_4_ET_3_data_prepared.csv\n"
     ]
    },
    {
     "data": {
      "application/vnd.jupyter.widget-view+json": {
       "model_id": "31fcb24465cd4b84978efc61ae662b60",
       "version_major": 2,
       "version_minor": 0
      },
      "text/plain": [
       "📄 0 of 3 📂 ET files____________ processed:            \n",
       "              0% ⏱️00:00 ⏳? ⚙️?it/s"
      ]
     },
     "metadata": {},
     "output_type": "display_data"
    },
    {
     "name": "stdout",
     "output_type": "stream",
     "text": [
      "process file  1074_Session_5_ET_1_data_prepared.csv\n",
      "process file  1074_Session_5_ET_2_data_prepared.csv\n",
      "process file  1074_Session_5_ET_3_data_prepared.csv\n",
      "Participant 22 - participant ID 1075\n"
     ]
    },
    {
     "data": {
      "application/vnd.jupyter.widget-view+json": {
       "model_id": "bf7c97f06b124f98b5b7572e63a52f17",
       "version_major": 2,
       "version_minor": 0
      },
      "text/plain": [
       "📄 0 of 5 sessions________ processed:            \n",
       "              0% ⏱️00:00 ⏳? ⚙️?it/s"
      ]
     },
     "metadata": {},
     "output_type": "display_data"
    },
    {
     "data": {
      "application/vnd.jupyter.widget-view+json": {
       "model_id": "9907d2dc5da1413a9bc09c04b31e8f61",
       "version_major": 2,
       "version_minor": 0
      },
      "text/plain": [
       "📄 0 of 3 📂 ET files____________ processed:            \n",
       "              0% ⏱️00:00 ⏳? ⚙️?it/s"
      ]
     },
     "metadata": {},
     "output_type": "display_data"
    },
    {
     "name": "stdout",
     "output_type": "stream",
     "text": [
      "process file  1075_Session_1_ET_1_data_prepared.csv\n",
      "process file  1075_Session_1_ET_2_data_prepared.csv\n",
      "process file  1075_Session_1_ET_3_data_prepared.csv\n"
     ]
    },
    {
     "data": {
      "application/vnd.jupyter.widget-view+json": {
       "model_id": "473cc52f24654909a9e2c5b818692c3b",
       "version_major": 2,
       "version_minor": 0
      },
      "text/plain": [
       "📄 0 of 3 📂 ET files____________ processed:            \n",
       "              0% ⏱️00:00 ⏳? ⚙️?it/s"
      ]
     },
     "metadata": {},
     "output_type": "display_data"
    },
    {
     "name": "stdout",
     "output_type": "stream",
     "text": [
      "process file  1075_Session_2_ET_1_data_prepared.csv\n",
      "process file  1075_Session_2_ET_2_data_prepared.csv\n",
      "process file  1075_Session_2_ET_3_data_prepared.csv\n"
     ]
    },
    {
     "data": {
      "application/vnd.jupyter.widget-view+json": {
       "model_id": "ac62df38d0bf4300927875db0d7bb269",
       "version_major": 2,
       "version_minor": 0
      },
      "text/plain": [
       "📄 0 of 3 📂 ET files____________ processed:            \n",
       "              0% ⏱️00:00 ⏳? ⚙️?it/s"
      ]
     },
     "metadata": {},
     "output_type": "display_data"
    },
    {
     "name": "stdout",
     "output_type": "stream",
     "text": [
      "process file  1075_Session_3_ET_1_data_prepared.csv\n",
      "process file  1075_Session_3_ET_2_data_prepared.csv\n",
      "process file  1075_Session_3_ET_3_data_prepared.csv\n"
     ]
    },
    {
     "data": {
      "application/vnd.jupyter.widget-view+json": {
       "model_id": "2d9a43985eeb472682b88e8080bd3393",
       "version_major": 2,
       "version_minor": 0
      },
      "text/plain": [
       "📄 0 of 3 📂 ET files____________ processed:            \n",
       "              0% ⏱️00:00 ⏳? ⚙️?it/s"
      ]
     },
     "metadata": {},
     "output_type": "display_data"
    },
    {
     "name": "stdout",
     "output_type": "stream",
     "text": [
      "process file  1075_Session_4_ET_1_data_prepared.csv\n",
      "process file  1075_Session_4_ET_2_data_prepared.csv\n",
      "process file  1075_Session_4_ET_3_data_prepared.csv\n"
     ]
    },
    {
     "data": {
      "application/vnd.jupyter.widget-view+json": {
       "model_id": "9f53746a71dd4c28abd40e9fc6c9339c",
       "version_major": 2,
       "version_minor": 0
      },
      "text/plain": [
       "📄 0 of 3 📂 ET files____________ processed:            \n",
       "              0% ⏱️00:00 ⏳? ⚙️?it/s"
      ]
     },
     "metadata": {},
     "output_type": "display_data"
    },
    {
     "name": "stdout",
     "output_type": "stream",
     "text": [
      "process file  1075_Session_5_ET_1_data_prepared.csv\n",
      "process file  1075_Session_5_ET_2_data_prepared.csv\n",
      "process file  1075_Session_5_ET_3_data_prepared.csv\n",
      "Participant 23 - participant ID 1077\n"
     ]
    },
    {
     "data": {
      "application/vnd.jupyter.widget-view+json": {
       "model_id": "c9258c9cef264b16b35fb6f84e02cb04",
       "version_major": 2,
       "version_minor": 0
      },
      "text/plain": [
       "📄 0 of 5 sessions________ processed:            \n",
       "              0% ⏱️00:00 ⏳? ⚙️?it/s"
      ]
     },
     "metadata": {},
     "output_type": "display_data"
    },
    {
     "data": {
      "application/vnd.jupyter.widget-view+json": {
       "model_id": "f883a5c88d114f7b8087beb7088e1169",
       "version_major": 2,
       "version_minor": 0
      },
      "text/plain": [
       "📄 0 of 3 📂 ET files____________ processed:            \n",
       "              0% ⏱️00:00 ⏳? ⚙️?it/s"
      ]
     },
     "metadata": {},
     "output_type": "display_data"
    },
    {
     "name": "stdout",
     "output_type": "stream",
     "text": [
      "process file  1077_Session_1_ET_1_data_prepared.csv\n",
      "process file  1077_Session_1_ET_2_data_prepared.csv\n",
      "process file  1077_Session_1_ET_3_data_prepared.csv\n"
     ]
    },
    {
     "data": {
      "application/vnd.jupyter.widget-view+json": {
       "model_id": "bbd301daa8a141c6b7961fe9727ac91f",
       "version_major": 2,
       "version_minor": 0
      },
      "text/plain": [
       "📄 0 of 3 📂 ET files____________ processed:            \n",
       "              0% ⏱️00:00 ⏳? ⚙️?it/s"
      ]
     },
     "metadata": {},
     "output_type": "display_data"
    },
    {
     "name": "stdout",
     "output_type": "stream",
     "text": [
      "process file  1077_Session_2_ET_1_data_prepared.csv\n",
      "process file  1077_Session_2_ET_2_data_prepared.csv\n",
      "process file  1077_Session_2_ET_3_data_prepared.csv\n"
     ]
    },
    {
     "data": {
      "application/vnd.jupyter.widget-view+json": {
       "model_id": "64bdc3cb997241319161976875efbafd",
       "version_major": 2,
       "version_minor": 0
      },
      "text/plain": [
       "📄 0 of 3 📂 ET files____________ processed:            \n",
       "              0% ⏱️00:00 ⏳? ⚙️?it/s"
      ]
     },
     "metadata": {},
     "output_type": "display_data"
    },
    {
     "name": "stdout",
     "output_type": "stream",
     "text": [
      "process file  1077_Session_3_ET_1_data_prepared.csv\n",
      "process file  1077_Session_3_ET_2_data_prepared.csv\n",
      "process file  1077_Session_3_ET_3_data_prepared.csv\n"
     ]
    },
    {
     "data": {
      "application/vnd.jupyter.widget-view+json": {
       "model_id": "7ece5e38d45b48f48fba4870d0c3c015",
       "version_major": 2,
       "version_minor": 0
      },
      "text/plain": [
       "📄 0 of 3 📂 ET files____________ processed:            \n",
       "              0% ⏱️00:00 ⏳? ⚙️?it/s"
      ]
     },
     "metadata": {},
     "output_type": "display_data"
    },
    {
     "name": "stdout",
     "output_type": "stream",
     "text": [
      "process file  1077_Session_4_ET_1_data_prepared.csv\n",
      "process file  1077_Session_4_ET_2_data_prepared.csv\n",
      "process file  1077_Session_4_ET_3_data_prepared.csv\n"
     ]
    },
    {
     "data": {
      "application/vnd.jupyter.widget-view+json": {
       "model_id": "283e27f868094261b7ca4dbb2eb39a05",
       "version_major": 2,
       "version_minor": 0
      },
      "text/plain": [
       "📄 0 of 3 📂 ET files____________ processed:            \n",
       "              0% ⏱️00:00 ⏳? ⚙️?it/s"
      ]
     },
     "metadata": {},
     "output_type": "display_data"
    },
    {
     "name": "stdout",
     "output_type": "stream",
     "text": [
      "process file  1077_Session_5_ET_1_data_prepared.csv\n",
      "process file  1077_Session_5_ET_2_data_prepared.csv\n",
      "process file  1077_Session_5_ET_3_data_prepared.csv\n",
      "Participant 24 - participant ID 1079\n"
     ]
    },
    {
     "data": {
      "application/vnd.jupyter.widget-view+json": {
       "model_id": "4a28ad885d494890ba01e5c0c6b05cad",
       "version_major": 2,
       "version_minor": 0
      },
      "text/plain": [
       "📄 0 of 5 sessions________ processed:            \n",
       "              0% ⏱️00:00 ⏳? ⚙️?it/s"
      ]
     },
     "metadata": {},
     "output_type": "display_data"
    },
    {
     "data": {
      "application/vnd.jupyter.widget-view+json": {
       "model_id": "5d03acd02a764520a379e732fae07abf",
       "version_major": 2,
       "version_minor": 0
      },
      "text/plain": [
       "📄 0 of 3 📂 ET files____________ processed:            \n",
       "              0% ⏱️00:00 ⏳? ⚙️?it/s"
      ]
     },
     "metadata": {},
     "output_type": "display_data"
    },
    {
     "name": "stdout",
     "output_type": "stream",
     "text": [
      "process file  1079_Session_1_ET_1_data_prepared.csv\n",
      "process file  1079_Session_1_ET_2_data_prepared.csv\n",
      "process file  1079_Session_1_ET_3_data_prepared.csv\n"
     ]
    },
    {
     "data": {
      "application/vnd.jupyter.widget-view+json": {
       "model_id": "e34fb87ca7d34f4290e22e3c51891079",
       "version_major": 2,
       "version_minor": 0
      },
      "text/plain": [
       "📄 0 of 3 📂 ET files____________ processed:            \n",
       "              0% ⏱️00:00 ⏳? ⚙️?it/s"
      ]
     },
     "metadata": {},
     "output_type": "display_data"
    },
    {
     "name": "stdout",
     "output_type": "stream",
     "text": [
      "process file  1079_Session_2_ET_1_data_prepared.csv\n",
      "process file  1079_Session_2_ET_2_data_prepared.csv\n",
      "process file  1079_Session_2_ET_3_data_prepared.csv\n"
     ]
    },
    {
     "data": {
      "application/vnd.jupyter.widget-view+json": {
       "model_id": "f7001658e9914922a286e52a162e72ae",
       "version_major": 2,
       "version_minor": 0
      },
      "text/plain": [
       "📄 0 of 3 📂 ET files____________ processed:            \n",
       "              0% ⏱️00:00 ⏳? ⚙️?it/s"
      ]
     },
     "metadata": {},
     "output_type": "display_data"
    },
    {
     "name": "stdout",
     "output_type": "stream",
     "text": [
      "process file  1079_Session_3_ET_1_data_prepared.csv\n",
      "process file  1079_Session_3_ET_2_data_prepared.csv\n",
      "process file  1079_Session_3_ET_3_data_prepared.csv\n"
     ]
    },
    {
     "data": {
      "application/vnd.jupyter.widget-view+json": {
       "model_id": "0d42a995835e4189ba6d3a8d3aab0c69",
       "version_major": 2,
       "version_minor": 0
      },
      "text/plain": [
       "📄 0 of 3 📂 ET files____________ processed:            \n",
       "              0% ⏱️00:00 ⏳? ⚙️?it/s"
      ]
     },
     "metadata": {},
     "output_type": "display_data"
    },
    {
     "name": "stdout",
     "output_type": "stream",
     "text": [
      "process file  1079_Session_4_ET_1_data_prepared.csv\n",
      "process file  1079_Session_4_ET_2_data_prepared.csv\n",
      "process file  1079_Session_4_ET_3_data_prepared.csv\n"
     ]
    },
    {
     "data": {
      "application/vnd.jupyter.widget-view+json": {
       "model_id": "0174176ad45847dcb507439cfb40fdf4",
       "version_major": 2,
       "version_minor": 0
      },
      "text/plain": [
       "📄 0 of 3 📂 ET files____________ processed:            \n",
       "              0% ⏱️00:00 ⏳? ⚙️?it/s"
      ]
     },
     "metadata": {},
     "output_type": "display_data"
    },
    {
     "name": "stdout",
     "output_type": "stream",
     "text": [
      "process file  1079_Session_5_ET_1_data_prepared.csv\n",
      "process file  1079_Session_5_ET_2_data_prepared.csv\n",
      "process file  1079_Session_5_ET_3_data_prepared.csv\n",
      "Participant 25 - participant ID 1080\n"
     ]
    },
    {
     "data": {
      "application/vnd.jupyter.widget-view+json": {
       "model_id": "c3f7f8abac0f43f781f851be6b51813d",
       "version_major": 2,
       "version_minor": 0
      },
      "text/plain": [
       "📄 0 of 5 sessions________ processed:            \n",
       "              0% ⏱️00:00 ⏳? ⚙️?it/s"
      ]
     },
     "metadata": {},
     "output_type": "display_data"
    },
    {
     "data": {
      "application/vnd.jupyter.widget-view+json": {
       "model_id": "16983a968f9f4c9fadf517459361d49e",
       "version_major": 2,
       "version_minor": 0
      },
      "text/plain": [
       "📄 0 of 3 📂 ET files____________ processed:            \n",
       "              0% ⏱️00:00 ⏳? ⚙️?it/s"
      ]
     },
     "metadata": {},
     "output_type": "display_data"
    },
    {
     "name": "stdout",
     "output_type": "stream",
     "text": [
      "process file  1080_Session_1_ET_1_data_prepared.csv\n",
      "process file  1080_Session_1_ET_2_data_prepared.csv\n",
      "process file  1080_Session_1_ET_3_data_prepared.csv\n"
     ]
    },
    {
     "data": {
      "application/vnd.jupyter.widget-view+json": {
       "model_id": "da9e9ec3d7ea4791bfda5e9b13a0011a",
       "version_major": 2,
       "version_minor": 0
      },
      "text/plain": [
       "📄 0 of 3 📂 ET files____________ processed:            \n",
       "              0% ⏱️00:00 ⏳? ⚙️?it/s"
      ]
     },
     "metadata": {},
     "output_type": "display_data"
    },
    {
     "name": "stdout",
     "output_type": "stream",
     "text": [
      "process file  1080_Session_2_ET_1_data_prepared.csv\n",
      "process file  1080_Session_2_ET_2_data_prepared.csv\n",
      "process file  1080_Session_2_ET_3_data_prepared.csv\n"
     ]
    },
    {
     "data": {
      "application/vnd.jupyter.widget-view+json": {
       "model_id": "f48ecd85930e41a2aae8ed9dd4051dbf",
       "version_major": 2,
       "version_minor": 0
      },
      "text/plain": [
       "📄 0 of 3 📂 ET files____________ processed:            \n",
       "              0% ⏱️00:00 ⏳? ⚙️?it/s"
      ]
     },
     "metadata": {},
     "output_type": "display_data"
    },
    {
     "name": "stdout",
     "output_type": "stream",
     "text": [
      "process file  1080_Session_3_ET_1_data_prepared.csv\n",
      "process file  1080_Session_3_ET_2_data_prepared.csv\n",
      "process file  1080_Session_3_ET_3_data_prepared.csv\n"
     ]
    },
    {
     "data": {
      "application/vnd.jupyter.widget-view+json": {
       "model_id": "2348fb54a7be409a8c64893f115dba13",
       "version_major": 2,
       "version_minor": 0
      },
      "text/plain": [
       "📄 0 of 3 📂 ET files____________ processed:            \n",
       "              0% ⏱️00:00 ⏳? ⚙️?it/s"
      ]
     },
     "metadata": {},
     "output_type": "display_data"
    },
    {
     "name": "stdout",
     "output_type": "stream",
     "text": [
      "process file  1080_Session_4_ET_1_data_prepared.csv\n",
      "process file  1080_Session_4_ET_2_data_prepared.csv\n",
      "process file  1080_Session_4_ET_3_data_prepared.csv\n"
     ]
    },
    {
     "data": {
      "application/vnd.jupyter.widget-view+json": {
       "model_id": "a8cb39947c3d442fa03b19523ba4aab7",
       "version_major": 2,
       "version_minor": 0
      },
      "text/plain": [
       "📄 0 of 3 📂 ET files____________ processed:            \n",
       "              0% ⏱️00:00 ⏳? ⚙️?it/s"
      ]
     },
     "metadata": {},
     "output_type": "display_data"
    },
    {
     "name": "stdout",
     "output_type": "stream",
     "text": [
      "process file  1080_Session_5_ET_1_data_prepared.csv\n",
      "process file  1080_Session_5_ET_2_data_prepared.csv\n",
      "process file  1080_Session_5_ET_3_data_prepared.csv\n"
     ]
    }
   ],
   "source": [
    "# os.chdir(DATA_PATH)\n",
    "print('start')\n",
    "# useful overviews\n",
    "noFilePartList = [len(PartList)]\n",
    "missingFiles = pd.DataFrame(columns=['Participant', 'Session'])\n",
    "\n",
    "list_dublicates = []\n",
    "# shared_list_lock = multiprocessing.Lock()\n",
    "\n",
    "\n",
    "# loop code over all participants in participant list\n",
    "parts_pbar = tqdm(\n",
    "    iterable=PartList,\n",
    "    total=len(PartList),\n",
    "    desc=\"participants\",\n",
    "    dynamic_ncols=True,\n",
    "    bar_format=B_FORMAT,\n",
    ")\n",
    "\n",
    "dupl_df2 = pd.DataFrame(columns=['Participant', \n",
    "                'Session', \n",
    "                'ETSess', \n",
    "                'dataLength', \n",
    "                'streak_lengths'])\n",
    "\n",
    "allStreaksLengths = []\n",
    "\n",
    "\n",
    "for indexPart, currentPart in enumerate(parts_pbar):\n",
    "#     currentPart = PartList[indexPart]\n",
    "    print(f'Participant {indexPart} - participant ID {currentPart}')\n",
    "    \n",
    "    sessions = list(range(1,6))\n",
    "#     sessions = list(range(2,3))\n",
    "    \n",
    "    session_pbar = tqdm(\n",
    "        iterable=sessions,\n",
    "        total=len(sessions),\n",
    "        desc=\"sessions________\",\n",
    "        dynamic_ncols=True,\n",
    "        bar_format=B_FORMAT,\n",
    "    )\n",
    "    \n",
    "    \n",
    "    # loop over recording sessions (should be 5 for each participant)\n",
    "#     for indexSess in range(1, 6):\n",
    "#     for indexSess in range(1, 2):\n",
    "    for indexSess in session_pbar:\n",
    "\n",
    "        # get eye tracking sessions and loop over them (amount of ET files can vary)\n",
    "        dirSess = [f for f in os.listdir(DATA_PATH) if f.startswith(f'{currentPart}_Session_{indexSess}') and f.endswith('_data_prepared.csv')]\n",
    "#         print(dirSess)\n",
    "#         print(f'Session {indexSess}')\n",
    "        \n",
    "        if not dirSess:\n",
    "            hMF = pd.DataFrame({'Participant': [currentPart], 'Session': [indexSess]})\n",
    "            missingFiles = pd.concat([missingFiles, hMF], ignore_index=True)\n",
    "            \n",
    "        else:\n",
    "            # Main part - runs if files exist\n",
    "            \n",
    "#             participants progress bar\n",
    "            file_pbar = tqdm(\n",
    "                iterable=dirSess,\n",
    "                total=len(dirSess),\n",
    "                desc=\"📂 ET files____________\",\n",
    "                dynamic_ncols=True,\n",
    "                bar_format=B_FORMAT,\n",
    "            )\n",
    "\n",
    "#             parts_pbar = tqdm(\n",
    "#                 iterable=dirSess[:1],\n",
    "#                 total=1,\n",
    "#                 desc=\"📂 participants\",\n",
    "#                 dynamic_ncols=True,\n",
    "#                 bar_format=B_FORMAT,\n",
    "#             )\n",
    "    \n",
    "           \n",
    "            # loop necessary for displaying properly the progressbar with multiprocessing\n",
    "            # source: https://stackoverflow.com/a/40133278\n",
    "            \n",
    "#             info_list = []\n",
    "            \n",
    "            for file in file_pbar:\n",
    "#             for file in dirSess[2]:\n",
    "                print('process file ', file)\n",
    "            \n",
    "                # read in data\n",
    "                data = pd.read_csv(os.path.join(DATA_PATH, file))\n",
    "                \n",
    "#                 data = convertTimeStamp(data)\n",
    "                               \n",
    "                dataLen = len(data)\n",
    "\n",
    "                eyeUnityComb = data.columns[10:37]\n",
    "                # check if vars are correctly selected\n",
    "                # for column_name in enumerate(eyeUnityComb):\n",
    "                #     print(column_name)\n",
    "                eyeUnityComb_dupl = checkDuplicates(data, eyeUnityComb)\n",
    "#                 print('eye unity combination vars sum duplicates percentage', sum(eyeUnityComb_dupl)/len(data))\n",
    "#                 print('--------------------')\n",
    "                # Initialize variables to track the lengths of streaks\n",
    "                current_streak = 0\n",
    "\n",
    "                # Iterate through the boolean variable column to count streak lengths\n",
    "                for value in eyeUnityComb_dupl:\n",
    "                    if value == 1:\n",
    "                        current_streak += 1\n",
    "                    else:\n",
    "                        if current_streak > 0:\n",
    "                            allStreaksLengths.append(current_streak)\n",
    "                        current_streak = 0\n",
    "\n",
    "                # Append the last streak if it ended at the end of the series\n",
    "                if current_streak > 0:\n",
    "                    allStreaksLengths.append(current_streak)\n",
    "                    \n",
    "\n",
    "allStreaksLengths = np.array(allStreaksLengths)\n",
    "\n",
    "\n",
    "                \n",
    "\n",
    "                \n",
    "                "
   ]
  },
  {
   "cell_type": "code",
   "execution_count": 46,
   "id": "dc6723b8",
   "metadata": {},
   "outputs": [
    {
     "name": "stdout",
     "output_type": "stream",
     "text": [
      "Length of all Streaks =  11598880\n",
      "min repetition streak length =  1\n",
      "max repetition streak length =  20\n",
      "mean repetition streak length =  1.0000356068861822\n",
      "amount of streaks with other lengths than 1 =  355\n",
      "percentage of streaks other than 1 =  3.060640337687777e-05\n",
      "amount of streaks with length 2 =  336\n",
      "percentage of streaks with length 2 =  0.9464788732394366\n",
      "[ 3  3  3  3  3  3 20 11  3  3  9  3  3  3 11  3  3  3  3]\n"
     ]
    },
    {
     "data": {
      "image/png": "[encoded data removed]",
      "text/plain": [
       "<Figure size 864x432 with 2 Axes>"
      ]
     },
     "metadata": {
      "needs_background": "light"
     },
     "output_type": "display_data"
    }
   ],
   "source": [
    "\n",
    "allStreaksLengths = np.array(allStreaksLengths)\n",
    "\n",
    "print(\"Length of all Streaks = \",len(allStreaksLengths))\n",
    "print(\"min repetition streak length = \", np.min(allStreaksLengths))\n",
    "print(\"max repetition streak length = \",np.max(allStreaksLengths))\n",
    "print(\"mean repetition streak length = \", np.mean(allStreaksLengths))\n",
    "\n",
    "checkOther1 =   allStreaksLengths == 1\n",
    "print(\"amount of streaks with other lengths than 1 = \", sum(~checkOther1))\n",
    "print(\"percentage of streaks other than 1 = \", sum(~checkOther1) / len(allStreaksLengths))\n",
    "check2 =   allStreaksLengths == 2\n",
    "print(\"amount of streaks with length 2 = \", sum(check2))\n",
    "print(\"percentage of streaks with length 2 = \", sum(check2) / sum(~checkOther1))\n",
    "\n",
    "print(allStreaksLengths[~check2 & ~checkOther1])\n",
    "\n",
    "# Create a boxplot for these elements\n",
    "f, ax = plt.subplots(nrows=1, ncols=2, figsize=(12,6))\n",
    "\n",
    "ax[0].hist(allStreaksLengths, bins=range(1, max(streak_lengths) + 2), edgecolor='black', align='left')\n",
    "ax[0].set_title('Consecutive Repeated Row Lengths')\n",
    "ax[0].set_xlabel('Length of consecutive repeated rows')\n",
    "ax[0].set_ylabel('Frequency')\n",
    "\n",
    "ax[1].hist(allStreaksLengths[~checkOther1])\n",
    "ax[1].set_title('Consecutive Repeated Row Lengths that are not 1')\n",
    "ax[1].set_xlabel('Length of consecutive repeated rows')\n",
    "ax[1].set_ylabel('Frequency')\n",
    "\n",
    "f.suptitle('Min values over all files', fontsize=16)\n",
    "\n",
    "\n",
    "# Save the plot to the specified directory\n",
    "save_file = os.path.join(savepath, 'Histogram_consecutiveRepeatedRows.png')\n",
    "plt.savefig(save_file, format='png')\n",
    "\n",
    "\n",
    "\n",
    "plt.show()"
   ]
  },
  {
   "cell_type": "markdown",
   "id": "17fe21bd",
   "metadata": {},
   "source": [
    "## test removal and impact on sampling rate"
   ]
  },
  {
   "cell_type": "code",
   "execution_count": 8,
   "id": "42af7eae",
   "metadata": {},
   "outputs": [],
   "source": [
    "def removeDuplicates(dataframe):\n",
    "\n",
    "    # remove rows based on duplicates in the unity and eye tracking variables\n",
    "    \n",
    "    eyeUnityComb = dataframe.columns[10:37]\n",
    "    # check if vars are correctly selected\n",
    "    for column_name in enumerate(eyeUnityComb):\n",
    "        print(column_name)\n",
    "    \n",
    "    \n",
    "    # Check if differences between consecutive rows are consistently 0 for the selected columns\n",
    "\n",
    "    # first create df with differences within each column - compare each row with the next\n",
    "    diffDF = dataframe[eyeUnityComb].diff()\n",
    "\n",
    "    # then check, if there are 0 differences (doublicates) in all columns\n",
    "    repeatedRows = diffDF.eq(0).all(axis=1)\n",
    "    \n",
    "    \n",
    "\n",
    "    # Remove duplicate rows\n",
    "    df_no_duplicates = dataframe[~repeatedRows]\n",
    "\n",
    "    # Reset index of the new DataFrame\n",
    "    df_no_duplicates.reset_index(drop=True, inplace=True)\n",
    "    \n",
    "    \n",
    "    return df_no_duplicates\n",
    "    "
   ]
  },
  {
   "cell_type": "code",
   "execution_count": 9,
   "id": "70ffdb20",
   "metadata": {},
   "outputs": [
    {
     "name": "stdout",
     "output_type": "stream",
     "text": [
      "(0, 'eyePositionCombinedWorld_x')\n",
      "(1, 'eyePositionCombinedWorld_y')\n",
      "(2, 'eyePositionCombinedWorld_z')\n",
      "(3, 'eyeDirectionCombinedWorld_x')\n",
      "(4, 'eyeDirectionCombinedWorld_y')\n",
      "(5, 'eyeDirectionCombinedWorld_z')\n",
      "(6, 'eyeDirectionCombinedLocal_x')\n",
      "(7, 'eyeDirectionCombinedLocal_y')\n",
      "(8, 'eyeDirectionCombinedLocal_z')\n",
      "(9, 'eyePositionLeftWorld_x')\n",
      "(10, 'eyePositionLeftWorld_y')\n",
      "(11, 'eyePositionLeftWorld_z')\n",
      "(12, 'eyeDirectionLeftWorld_x')\n",
      "(13, 'eyeDirectionLeftWorld_y')\n",
      "(14, 'eyeDirectionLeftWorld_z')\n",
      "(15, 'eyeDirectionLeftLocal_x')\n",
      "(16, 'eyeDirectionLeftLocal_y')\n",
      "(17, 'eyeDirectionLeftLocal_z')\n",
      "(18, 'eyePositionRightWorld_x')\n",
      "(19, 'eyePositionRightWorld_y')\n",
      "(20, 'eyePositionRightWorld_z')\n",
      "(21, 'eyeDirectionRightWorld_x')\n",
      "(22, 'eyeDirectionRightWorld_y')\n",
      "(23, 'eyeDirectionRightWorld_z')\n",
      "(24, 'eyeDirectionRightLocal_x')\n",
      "(25, 'eyeDirectionRightLocal_y')\n",
      "(26, 'eyeDirectionRightLocal_z')\n"
     ]
    }
   ],
   "source": [
    "# test code\n",
    "file= \"1004_Session_2_ET_1_data_prepared.csv\"\n",
    "data = pd.read_csv(os.path.join(DATA_PATH, file))\n",
    "\n",
    "# data = convertTimeStamp(data)\n",
    "dataNew = removeDuplicates(data)\n",
    "\n"
   ]
  },
  {
   "cell_type": "code",
   "execution_count": 10,
   "id": "5b1ee896",
   "metadata": {},
   "outputs": [
    {
     "name": "stdout",
     "output_type": "stream",
     "text": [
      "68703\n",
      "39089\n",
      "---------------------------------\n",
      "max sampling rate 1  403.2596865685992\n",
      "max sampling rate 2  223.72007680819289\n",
      "---------------------------------\n",
      "mean sampling rate 1  114.46361446333545\n",
      "mean sampling rate 2  65.1243919814048\n",
      "---------------------------------\n",
      "median sampling rate 1  125.94372879320181\n",
      "median sampling rate 2  87.64243475353658\n",
      "---------------------------------\n"
     ]
    },
    {
     "data": {
      "image/png": "[encoded data removed]",
      "text/plain": [
       "<Figure size 1440x720 with 2 Axes>"
      ]
     },
     "metadata": {
      "needs_background": "light"
     },
     "output_type": "display_data"
    }
   ],
   "source": [
    "print(len(data))\n",
    "print(len(dataNew))\n",
    "\n",
    "samplingRate1 = data['timeStampDataPointStart'].diff()\n",
    "samplingRate2 = dataNew['timeStampDataPointStart'].diff()\n",
    "\n",
    "print(\"---------------------------------\")\n",
    "\n",
    "print(\"max sampling rate 1 \", 1/np.nanmin(samplingRate1))\n",
    "print(\"max sampling rate 2 \", 1/np.nanmin(samplingRate2))\n",
    "print(\"---------------------------------\")\n",
    "\n",
    "print(\"mean sampling rate 1 \", 1/np.nanmean(samplingRate1))\n",
    "print(\"mean sampling rate 2 \", 1/np.nanmean(samplingRate2))\n",
    "print(\"---------------------------------\")\n",
    "\n",
    "print(\"median sampling rate 1 \", 1/np.nanmedian(samplingRate1))\n",
    "print(\"median sampling rate 2 \", 1/np.nanmedian(samplingRate2))\n",
    "\n",
    "print(\"---------------------------------\")\n",
    "\n",
    "\n",
    "\n",
    "fig, axes = plt.subplots(nrows=2, ncols=1, figsize=(20, 10))\n",
    "\n",
    "axes[0].hist(1/samplingRate1, color='blue')\n",
    "axes[0].set_title('sampling rate data original data')\n",
    "\n",
    "\n",
    "axes[1].hist(1/samplingRate2, color= 'red')\n",
    "\n",
    "axes[1].set_title('sampling rate after removal of duplicates')\n",
    "\n",
    "save_file = os.path.join(savepath, 'SamplingRate_1004_Session_2_ET_1_data.png')\n",
    "plt.savefig(save_file, format='png')\n"
   ]
  }
 ],
 "metadata": {
  "kernelspec": {
   "display_name": "Python 3",
   "language": "python",
   "name": "python3"
  },
  "language_info": {
   "codemirror_mode": {
    "name": "ipython",
    "version": 3
   },
   "file_extension": ".py",
   "mimetype": "text/x-python",
   "name": "python",
   "nbconvert_exporter": "python",
   "pygments_lexer": "ipython3",
   "version": "3.6.15"
  },
  "varInspector": {
   "cols": {
    "lenName": 16,
    "lenType": 16,
    "lenVar": 40
   },
   "kernels_config": {
    "python": {
     "delete_cmd_postfix": "",
     "delete_cmd_prefix": "del ",
     "library": "var_list.py",
     "varRefreshCmd": "print(var_dic_list())"
    },
    "r": {
     "delete_cmd_postfix": ") ",
     "delete_cmd_prefix": "rm(",
     "library": "var_list.r",
     "varRefreshCmd": "cat(var_dic_list()) "
    }
   },
   "types_to_exclude": [
    "module",
    "function",
    "builtin_function_or_method",
    "instance",
    "_Feature"
   ],
   "window_display": false
  }
 },
 "nbformat": 4,
 "nbformat_minor": 5
}
