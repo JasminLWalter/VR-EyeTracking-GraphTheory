{
 "cells": [
  {
   "cell_type": "code",
   "execution_count": null,
   "id": "1d6a1a27",
   "metadata": {},
   "outputs": [],
   "source": []
  },
  {
   "cell_type": "markdown",
   "id": "6bcf1fe9",
   "metadata": {},
   "source": [
    "# Step 3  gaze processing\n"
   ]
  },
  {
   "cell_type": "markdown",
   "id": "15304d89",
   "metadata": {},
   "source": [
    "This code was developed and written originally by Debora Nolte. Then extended and adapted by Jasmin L. Walter"
   ]
  },
  {
   "cell_type": "code",
   "execution_count": null,
   "id": "e6dd86b0-7e28-46d4-84f0-79d5570d2a6d",
   "metadata": {},
   "outputs": [],
   "source": [
    "%reset"
   ]
  },
  {
   "cell_type": "markdown",
   "id": "ceef06cb-ed7e-459f-ad6a-32f88829b077",
   "metadata": {
    "tags": []
   },
   "source": [
    "# Preprocessing"
   ]
  },
  {
   "cell_type": "markdown",
   "id": "4e5facd4",
   "metadata": {},
   "source": [
    "## import"
   ]
  },
  {
   "cell_type": "code",
   "execution_count": 42,
   "id": "76aec9af-0062-4528-94f7-37c5e27955e4",
   "metadata": {
    "scrolled": true,
    "tags": []
   },
   "outputs": [],
   "source": [
    "import copy  # copy big/deep objects by value\n",
    "import csv\n",
    "import datetime  # datetime operations\n",
    "import itertools  # operate with iterators\n",
    "import json  # read/write from/into json format\n",
    "import math\n",
    "import os  # OS operations (read/write files/folders)\n",
    "import sys\n",
    "import time\n",
    "import warnings  # hide warnings\n",
    "from collections import Counter\n",
    "from itertools import groupby\n",
    "import matplotlib\n",
    "\n",
    "# process parallelization\n",
    "from multiprocessing import Manager, Pool, RawArray, cpu_count\n",
    "from os.path import exists\n",
    "\n",
    "import matplotlib.pyplot as plt  # mother of plots focr Python\n",
    "\n",
    "# import mlxtend\n",
    "import numpy as np  # array/matrix operations (e.g. linear algebra)\n",
    "import pandas as pd  # operate with dataframes\n",
    "import pyxdf  # read XDF files (LSL streams recordings)\n",
    "\n",
    "import scipy.stats\n",
    "import seaborn as sns  # matplotlib plotting nice with shortcuts\n",
    "from IPython.display import Markdown, display  # print nicely\n",
    "from ipywidgets import IntProgress\n",
    "#from matplotlib.pyplot import cm\n",
    "from scipy.signal import savgol_coeffs\n",
    "from tqdm.notebook import tqdm, trange  # mother of progressbars\n",
    "from scipy.stats import ks_2samp\n",
    "from multiprocessing import Pool, cpu_count\n",
    "\n",
    "import scipy.signal"
   ]
  },
  {
   "cell_type": "markdown",
   "id": "30847ee6",
   "metadata": {},
   "source": [
    "## optimization"
   ]
  },
  {
   "cell_type": "code",
   "execution_count": 43,
   "id": "84cb98c2-f949-4d7a-b0c5-36ce51720427",
   "metadata": {},
   "outputs": [
    {
     "name": "stdout",
     "output_type": "stream",
     "text": [
      "Total CPU threads: 8\n"
     ]
    }
   ],
   "source": [
    "# warnings.simplefilter(action=\"ignore\", category=FutureWarning)\n",
    "\n",
    "# raw and processed data paths\n",
    "# PATH_RAW = \"C:/Users/schmi/Documents/PhD_Osnabruck_University/SpaRe-VR/Spare-VR-EEG/27.07.23/data\"\n",
    "# PATH_PROC = \"C:/Users/schmi/Documents/PhD_Osnabruck_University/SpaRe-VR/Spare-VR-EEG/EEG_Data_Skripte_Debbie/Events\"\n",
    "# PATH_FOREYE = \"C:/Users/schmi/Documents/PhD_Osnabruck_University/SpaRe-VR/Spare-VR-EEG/EEG_Data_Skripte_Debbie/ET_Output_MAD-sacc\"\n",
    "# PATH_TRG = \"C:/Users/schmi/Documents/PhD_Osnabruck_University/SpaRe-VR/Spare-VR-EEG/EEG_Data_Skripte_Debbie/TriggerFiles_fEEG\"\n",
    "\n",
    "\n",
    "# specify decimals format on pandas tables\n",
    "# pd.options.display.float_format = \"{:.5f}\".format\n",
    "\n",
    "# inline static plotting (default)\n",
    "%matplotlib inline\n",
    "# interactive plotting\n",
    "# %matplotlib widget\n",
    "\n",
    "# progress bar customized format\n",
    "B_FORMAT = \"\"\"📄 {n_fmt} of {total_fmt} {desc} processed: {bar} \n",
    "            {percentage:3.0f}% ⏱️{elapsed} ⏳{remaining} ⚙️{rate_fmt}{postfix}\"\"\"\n",
    "\n",
    "\n",
    "CORES = cpu_count()  # number of cpu threads for multiprocessing\n",
    "print(f\"Total CPU threads: {CORES}\")\n",
    "\n",
    "\n",
    "def pbar_fork_hack():\n",
    "    \"\"\"\n",
    "    Hack to enforce progress bars to be displayed by fork processes on\n",
    "    IPython Apps like Jupyter Notebooks.\n",
    "\n",
    "    Avoids [IPKernelApp] WARNING | WARNING: attempted to send message from fork\n",
    "\n",
    "    Important: pass this function as argument for the initializer parameter\n",
    "    while initializing a multiprocessing pool to make it work. E.g.:\n",
    "\n",
    "    pool = Pool(processes=N_CORES, initializer=pbar_fork_hack)\n",
    "\n",
    "    Source:\n",
    "     - https://github.com/ipython/ipython/issues/11049#issue-306086846\n",
    "     - https://github.com/tqdm/tqdm/issues/485#issuecomment-473338308\n",
    "    \"\"\"\n",
    "    print(\" \", end=\"\", flush=True)"
   ]
  },
  {
   "cell_type": "markdown",
   "id": "b502623e",
   "metadata": {},
   "source": [
    "## data paths & participant list"
   ]
  },
  {
   "cell_type": "code",
   "execution_count": 44,
   "id": "ccebc7db",
   "metadata": {},
   "outputs": [],
   "source": [
    "\n",
    "data_savepath_cleaned = \"E:/WestbrookProject/SpaRe_Data/control_data/pre-processing_2023/velocity_based/step1_2_cleaning_gazeProcessing/1_cleaned\"\n",
    "data_savepath_interpolated = \"E:/WestbrookProject/SpaRe_Data/control_data/pre-processing_2023/velocity_based/step1_2_cleaning_gazeProcessing/2_interpolated\"\n",
    "\n",
    "data_savepath_intermediateP = \"E:/WestbrookProject/SpaRe_Data/control_data/pre-processing_2023/velocity_based/step3_gazeProcessing/intermediateProcessing\"\n",
    "data_savepath_intervals = \"E:/WestbrookProject/SpaRe_Data/control_data/pre-processing_2023/velocity_based/step3_gazeProcessing/intervals\"\n",
    "data_savepath_processed_gazes = \"E:/WestbrookProject/SpaRe_Data/control_data/pre-processing_2023/velocity_based/step3_gazeProcessing\"\n",
    "\n",
    "\n",
    "\n",
    "# Getting the Folder without hidden files in ascending order \n",
    "# DATA_FOLDER = sorted([f for f in os.listdir(DATA_PATH) if not f.startswith('.')], key=str.lower)\n",
    "# PROCESSED_DATA_FOLDER = sorted([f for f in os.listdir(PROCESSED_DATA_PATH) if not f.startswith('.')], key=str.lower)\n",
    "\n",
    "# savepath = r'F:\\WestbrookProject\\SpaRe_Data\\pre-processing_2023\\step1_preparation\\'\n",
    "# os.chdir(r'F:\\WestbrookProject\\SpaRe_Data\\pre-processed_csv\\')"
   ]
  },
  {
   "cell_type": "code",
   "execution_count": 45,
   "id": "12b71b30",
   "metadata": {},
   "outputs": [],
   "source": [
    "# identify all participants from folder, use this code instead of the participant list based approach\n",
    "# subIDs = []\n",
    "# for sub in DATA_FOLDER:\n",
    "#     if sub[0:4].isdigit() and sub.startswith('1'):\n",
    "#         subIDs.append(int(sub[0:4]))\n",
    "#     else:\n",
    "#         pass\n",
    "# subIDs = np.unique(subIDs)\n",
    "# print(subIDs)"
   ]
  },
  {
   "cell_type": "code",
   "execution_count": 46,
   "id": "14c08f8f",
   "metadata": {},
   "outputs": [],
   "source": [
    "# Participant list of all participants that participated 5 sessions x 30 min\n",
    "# in Westbrook city\n",
    "# PartList = [1004, 1005, 1008, 1010, 1011, 1013, 1017, 1018, 1019, 1021, 1022, 1023, 1054, 1055, 1056, 1057, 1058, 1068, 1069, 1072, 1073, 1074, 1075, 1077, 1079, 1080]\n",
    "# print(len(PartList),'participants') "
   ]
  },
  {
   "cell_type": "code",
   "execution_count": 47,
   "id": "ee015398",
   "metadata": {},
   "outputs": [],
   "source": [
    "# # custom participant list, if only a subset of participants should be processed\n",
    "PartList = [1004]"
   ]
  },
  {
   "cell_type": "markdown",
   "id": "1f4fc715",
   "metadata": {},
   "source": [
    "## test code"
   ]
  },
  {
   "cell_type": "code",
   "execution_count": 48,
   "id": "572b6492",
   "metadata": {},
   "outputs": [],
   "source": [
    "# # # test code\n",
    "# file= \"1004_Session_1_ET_1_data_interpolated.csv\"\n",
    "# data = pd.read_csv(os.path.join(data_savepath_interpolated, file))\n",
    "# data.head()\n"
   ]
  },
  {
   "cell_type": "code",
   "execution_count": 49,
   "id": "ada57322",
   "metadata": {
    "scrolled": true
   },
   "outputs": [],
   "source": [
    "# pd.set_option('display.max_columns', None)\n",
    "\n",
    "# # # Assuming 'data' is your DataFrame\n",
    "# data_head = data.head(10)\n",
    "\n",
    "# # Display head horizontally\n",
    "# with pd.option_context('display.max_rows', None, 'display.width', 1000):\n",
    "#     display(data_head)\n",
    "# #     display(data.iloc[100:170])"
   ]
  },
  {
   "cell_type": "code",
   "execution_count": 50,
   "id": "bdb22606",
   "metadata": {},
   "outputs": [],
   "source": [
    "# # kick out rows that have a timestamp too close to the rest\n",
    "# def droppRows(file, oldData):\n",
    "    \n",
    "#     oldLength = len(oldData)\n",
    "    \n",
    "#     # Step 2: Calculate time difference between consecutive timestamps\n",
    "#     oldData['time_diff'] = oldData['timeStampDataPointStart_converted'].diff()\n",
    "\n",
    "#     # Step 3: Filter out rows where time difference is less than 0.001 seconds\n",
    "#     data = oldData[oldData['time_diff'] >= 0.006]\n",
    "#     data = data.reset_index(drop=True)\n",
    "\n",
    "#     # Step 4: Count the number of rows removed\n",
    "#     rows_removed = oldLength -len(data)\n",
    "#     per_removed = rows_removed/oldLength\n",
    "\n",
    "#     # Step 5: Save the amount of rows removed\n",
    "#     # You can save it to a variable, print it, or save it to a file/database\n",
    "#     print(\"Number of removed data rows:\", rows_removed)\n",
    "#     print(\"Percentage of removed data:\", per_removed)\n",
    "\n",
    "#     # Optional: Drop the time_diff column if not needed\n",
    "# #     data = data.drop(columns=['time_diff'])\n",
    "    \n",
    "#     return data\n",
    "\n",
    "#     # Now filtered_df contains the DataFrame with rows removed where time difference is less than 0.001 seconds"
   ]
  },
  {
   "cell_type": "markdown",
   "id": "e3307ff2",
   "metadata": {},
   "source": [
    "# Remove doublicates\n"
   ]
  },
  {
   "cell_type": "code",
   "execution_count": 51,
   "id": "3137c10c",
   "metadata": {},
   "outputs": [],
   "source": [
    "# tryout 2 different removal options and compare them\n",
    "\n",
    "# option 1 - delete everything sampled faster than 160 Hz\n",
    "\n",
    "# option 2 - check if coordinates are identical (eye + head ) (-- with or without sampling rate?)\n",
    "# + maybe add velocity filter with velocity information in case it is zero with non-zero before and after\n"
   ]
  },
  {
   "cell_type": "markdown",
   "id": "b78e0819",
   "metadata": {},
   "source": [
    "# Gaze Processing\n"
   ]
  },
  {
   "cell_type": "code",
   "execution_count": 52,
   "id": "92584981-ae30-40e5-a069-f22765bd2b23",
   "metadata": {},
   "outputs": [],
   "source": [
    "# This will be used to select which version to use\n",
    "# 1 == MAD_woBig # this is the version we should use (data-driven)\n",
    "# 2 == 10_sec\n",
    "define_intervals = 1"
   ]
  },
  {
   "cell_type": "markdown",
   "id": "9a891f7f-8954-44af-918e-b2c8ae20e2e6",
   "metadata": {
    "jp-MarkdownHeadingCollapsed": true,
    "tags": []
   },
   "source": [
    "# Smoothing the Data: 5-point median Filter"
   ]
  },
  {
   "cell_type": "code",
   "execution_count": 53,
   "id": "85b7f2cb",
   "metadata": {},
   "outputs": [],
   "source": [
    "# smooth coordinates with 5-point median filter\n",
    "# based on remodnav --> has almost the same length as our filter\n",
    "def smooth_coordinates(file, data):\n",
    "    \n",
    "    # the coordinates to be smoothed\n",
    "    Xcorr_position_old = data[\"eyePositionCombinedWorld_x\"].tolist()\n",
    "    Ycorr_position_old = data[\"eyePositionCombinedWorld_y\"].tolist()\n",
    "    Zcorr_position_old = data[\"eyePositionCombinedWorld_z\"].tolist()\n",
    "    hpooX_old = data[\"processedCollider_hitPointOnObject_x\"].tolist()\n",
    "    hpooY_old = data[\"processedCollider_hitPointOnObject_y\"].tolist()\n",
    "    hpooZ_old = data[\"processedCollider_hitPointOnObject_z\"].tolist()\n",
    "\n",
    "    Xcorr_position = []\n",
    "    Ycorr_position = []\n",
    "    Zcorr_position = []\n",
    "    hpooX = []\n",
    "    hpooY = []\n",
    "    hpooZ = []\n",
    "    # for NH collider column as well\n",
    "    hpooX_NH_old = data[\"processedCollider_NH_hitPointOnObject_x\"].tolist()\n",
    "    hpooY_NH_old = data[\"processedCollider_NH_hitPointOnObject_y\"].tolist()\n",
    "    hpooZ_NH_old = data[\"processedCollider_NH_hitPointOnObject_z\"].tolist()\n",
    "\n",
    "    hpooX_NH = []\n",
    "    hpooY_NH = []\n",
    "    hpooZ_NH = []\n",
    "    \n",
    "    # adapt algorithm to varying sampling rate --> first identify necessary sample window to cover a duration of 0.05 sec min\n",
    "    # .... then apply nanmedian --> handle the edge cases approrpiately (start and end of file). \n",
    "\n",
    "    # smooth it:\n",
    "    for s in range(len(Xcorr_position_old)):\n",
    "        if s - 2 >= 0 and s + 2 <= len(Xcorr_position_old):\n",
    "            Xcorr_position.append(\n",
    "                np.nanmedian([Xcorr_position_old[s - 2 : s + 3]])\n",
    "            )\n",
    "            Ycorr_position.append(\n",
    "                np.nanmedian([Ycorr_position_old[s - 2 : s + 3]])\n",
    "            )\n",
    "            Zcorr_position.append(\n",
    "                np.nanmedian([Zcorr_position_old[s - 2 : s + 3]])\n",
    "            )\n",
    "\n",
    "            hpooX.append(np.nanmedian([hpooX_old[s - 2 : s + 3]]))\n",
    "            hpooY.append(np.nanmedian([hpooY_old[s - 2 : s + 3]]))\n",
    "            hpooZ.append(np.nanmedian([hpooZ_old[s - 2 : s + 3]]))\n",
    "\n",
    "            # for NH as well\n",
    "            hpooX_NH.append(np.nanmedian([hpooX_NH_old[s - 2 : s + 3]]))\n",
    "            hpooY_NH.append(np.nanmedian([hpooY_NH_old[s - 2 : s + 3]]))\n",
    "            hpooZ_NH.append(np.nanmedian([hpooZ_NH_old[s - 2 : s + 3]]))\n",
    "\n",
    "        elif s - 2 < 0:\n",
    "            Xcorr_position.append(np.nanmedian([Xcorr_position_old[: s + 3]]))\n",
    "            Ycorr_position.append(np.nanmedian([Ycorr_position_old[: s + 3]]))\n",
    "            Zcorr_position.append(np.nanmedian([Zcorr_position_old[: s + 3]]))\n",
    "\n",
    "            hpooX.append(np.nanmedian([hpooX_old[: s + 3]]))\n",
    "            hpooY.append(np.nanmedian([hpooY_old[: s + 3]]))\n",
    "            hpooZ.append(np.nanmedian([hpooZ_old[: s + 3]]))\n",
    "\n",
    "            # NH\n",
    "            hpooX_NH.append(np.nanmedian([hpooX_NH_old[: s + 3]]))\n",
    "            hpooY_NH.append(np.nanmedian([hpooY_NH_old[: s + 3]]))\n",
    "            hpooZ_NH.append(np.nanmedian([hpooZ_NH_old[: s + 3]]))\n",
    "        else:\n",
    "            Xcorr_position.append(np.nanmedian([Xcorr_position_old[s - 2 :]]))\n",
    "            Ycorr_position.append(np.nanmedian([Ycorr_position_old[s - 2 :]]))\n",
    "            Zcorr_position.append(np.nanmedian([Zcorr_position_old[s - 2 :]]))\n",
    "\n",
    "            hpooX.append(np.nanmedian([hpooX_old[s - 2 :]]))\n",
    "            hpooY.append(np.nanmedian([hpooY_old[s - 2 :]]))\n",
    "            hpooZ.append(np.nanmedian([hpooZ_old[s - 2 :]]))\n",
    "\n",
    "            # NH\n",
    "            hpooX_NH.append(np.nanmedian([hpooX_NH_old[s - 2 :]]))\n",
    "            hpooY_NH.append(np.nanmedian([hpooY_NH_old[s - 2 :]]))\n",
    "            hpooZ_NH.append(np.nanmedian([hpooZ_NH_old[s - 2 :]]))\n",
    "\n",
    "#     for_eye_n = pd.read_csv(f\"{PATH_FOREYE}/correTS_{uid}.csv\", index_col=0) # unclear why this line exists (Jasmin)\n",
    "    data[\"eyePositionCombinedWorld_x\"] = Xcorr_position\n",
    "    data[\"eyePositionCombinedWorld_y\"] = Ycorr_position\n",
    "    data[\"eyePositionCombinedWorld_z\"] = Zcorr_position\n",
    "\n",
    "    data[\"processedCollider_hitPointOnObject_x\"]= hpooX\n",
    "    data[\"processedCollider_hitPointOnObject_y\"] = hpooY\n",
    "    data[\"processedCollider_hitPointOnObject_z\"] = hpooZ\n",
    "\n",
    "    data[\"processedCollider_NH_hitPointOnObject_x\"] = hpooX_NH\n",
    "    data[\"processedCollider_NH_hitPointOnObject_y\"] = hpooY_NH\n",
    "    data[\"processedCollider_NH_hitPointOnObject_z\"] = hpooZ_NH\n",
    "\n",
    "   \n",
    "    # save data --> to facilitate runtime, save data only in last processing funtion\n",
    "#     newName = file.replace(\"data_interpolated.csv\",\"data_smoothed.csv\")\n",
    "#     data.to_csv(os.path.join(data_savepath_intermediateP, newName), index = False)\n",
    "    \n",
    "    return data\n"
   ]
  },
  {
   "cell_type": "markdown",
   "id": "015a6e44-a77f-4ee9-a779-743e6dc089ee",
   "metadata": {
    "tags": []
   },
   "source": [
    "# Caluclate angles & velocities"
   ]
  },
  {
   "cell_type": "markdown",
   "id": "b6a5100a-ac5c-46ed-b11a-df6e54567c4b",
   "metadata": {
    "jp-MarkdownHeadingCollapsed": true,
    "tags": []
   },
   "source": [
    "## Calculate the eye-tracking veloctiy"
   ]
  },
  {
   "cell_type": "code",
   "execution_count": 54,
   "id": "9a05f069-a203-4828-a934-f030df63e388",
   "metadata": {
    "jupyter": {
     "source_hidden": true
    },
    "tags": []
   },
   "outputs": [],
   "source": [
    "# p.s.\n",
    "#\n",
    "# v_gaze_vec(t) = [Xhpoo(t) - Xhpoo(t-1), Yhpoo(t) - Yhpoo(t-1), Zhpoo(t) - Zhpoo(t-1)]\n",
    "#\n",
    "# Now we project this velocity onto the plane orthogonal to the viewing\n",
    "# direction at time t and determine the length. For simplicity we assume\n",
    "# that all vertical distances are small and keep the plane vertically\n",
    "# oriented.\n",
    "#\n",
    "# v_gaze_inplane(t) = ||v_gaze_vec(t) - (<v_gaze_vec(t), gaze_vec(t)> * gaze_vec(t))||\n",
    "#\n",
    "# where <> indicates the scalar product\n",
    "# gaze_vec(t) is a unit vector in the direction of the gaze (eye+head) in\n",
    "# world coordinates.\n",
    "# v_gaze_inplane is a scalar indicating the velocity in world coordinates\n",
    "# at the location that is gazed at orthogonal to the gaze axis.\n",
    "# || ... || indicates the euclidian norm\n",
    "#\n",
    "# w_gaze(t) = arctan2(distance(subject(i), hpoo(t)), v_gaze_inplane)\n",
    "#\n",
    "# distance(subject(i), hpoo(t)) could be equivalently written as ||\n",
    "# subject_vec(t) - hpoo_vec(t)||\n",
    "#\n",
    "# w_gaze is the instantaneous angular velocity of the eye movement and\n",
    "# what we want to know."
   ]
  },
  {
   "cell_type": "code",
   "execution_count": 55,
   "id": "ddf4f66e-4221-4c95-8604-077482e7fdce",
   "metadata": {
    "tags": []
   },
   "outputs": [],
   "source": [
    "# note this code calculates the velocity between the rows gaze coordinates\n",
    "# note 2 the velocity calculation takes the time difference between rows into account, so it should not be affected by the \n",
    "# varying sampling rate\n",
    "\n",
    "def velocity_calc(file, data):\n",
    "\n",
    "    time = data[\"timeStampDataPointStart_converted\"].tolist()\n",
    "\n",
    "    # get individual coordinates\n",
    "    # position\n",
    "    Xcorr_position = data[\"eyePositionCombinedWorld_x\"].tolist()\n",
    "    Ycorr_position = data[\"eyePositionCombinedWorld_y\"].tolist()\n",
    "    Zcorr_position = data[\"eyePositionCombinedWorld_z\"].tolist()\n",
    "    subj = list(zip(Xcorr_position, Ycorr_position, Zcorr_position))\n",
    "\n",
    "    # hpoo\n",
    "    hpooX = data[\"processedCollider_hitPointOnObject_x\"].tolist()\n",
    "    hpooY = data[\"processedCollider_hitPointOnObject_y\"].tolist()\n",
    "    hpooZ = data[\"processedCollider_hitPointOnObject_z\"].tolist()\n",
    "   \n",
    "    hpoo = list(zip(hpooX, hpooY, hpooZ))\n",
    "\n",
    "    # v_gaze_vec: get difference in hpoo\n",
    "    v_vX = pd.DataFrame(hpooX).apply(lambda x: x.diff())[0].tolist()\n",
    "    v_vY = pd.DataFrame(hpooY).apply(lambda x: x.diff())[0].tolist()\n",
    "    v_vZ = pd.DataFrame(hpooZ).apply(lambda x: x.diff())[0].tolist()\n",
    "\n",
    "    # get difference in time:\n",
    "    ts = pd.DataFrame(time).apply(lambda x: x.diff())[0].tolist()\n",
    "\n",
    "    v_gaze_vec = list(zip(v_vX, v_vY, v_vZ))\n",
    "\n",
    "    # gaze_vec(t) is a unit vector in the direction of the gaze (eye+head) in world coordinates\n",
    "    g_vec = [np.array(hpoo[v] - np.array(subj[v])) for v in range(len(subj))]\n",
    "    gaze_vec = [np.array(v) / np.linalg.norm(np.array(v)) for v in g_vec]\n",
    "    # display(np.linalg.norm(gaze_vec[1]))\n",
    "\n",
    "    # v_gaze_inplane: is a scalar indicating the velocity in world coordinates at the location that is gazed at orthogonal to the gaze axis.\n",
    "    # v_gaze_inplane(t) = ||v_gaze_vec(t) - (<v_gaze_vec(t), gaze_vec(t)> * gaze_vec(t))||:\n",
    "    # z1 = (<v_gaze_vec(t), gaze_vec(t)>)\n",
    "    z1 = [\n",
    "        np.array(v_gaze_vec[t]).dot(np.array(gaze_vec[t]))\n",
    "        for t in range(len(v_vX))\n",
    "    ]\n",
    "\n",
    "    # z = (<v_gaze_vec(t), gaze_vec(t)> * gaze_vec(t))\n",
    "    z = [z1[t] * np.array(gaze_vec[t]) for t in range(len(v_vX))]\n",
    "\n",
    "    # ||v_gaze_vec(t) - z||\n",
    "    v_gaze_inplane = [\n",
    "        np.linalg.norm((np.array(v_gaze_vec[t]) - z[t]).tolist())\n",
    "        for t in range(len(v_gaze_vec))\n",
    "    ]\n",
    "    # w_gaze(t) = arctan2(||subject_vec(t) - hpoo_vec(t)||, v_gaze_inplane)\n",
    "\n",
    "    # sub_hpoo = ||subject_vec(t) - hpoo_vec(t)||\n",
    "    sub_hpoo = [\n",
    "        np.linalg.norm(np.array(subj[t]) - np.array(hpoo[t]))\n",
    "        for t in range(len(hpoo))\n",
    "    ]\n",
    "\n",
    "    # arctan2(v_gaze_inplane, sub_hpoo)\n",
    "    w_gaze = np.arctan2(v_gaze_inplane, sub_hpoo).tolist()\n",
    "\n",
    "    # turn angle of radians into degrees\n",
    "    w_gaze = [(w / ts[idx] * 180 / math.pi) for idx, w in enumerate(w_gaze)]\n",
    "    # w_gaze = [(w*180/math.pi) for idx,w in enumerate(w_gaze)]\n",
    "\n",
    "    # add 0 to first sample, since NaN will throw an error in the Savitzky-Golay filter\n",
    "    w_gaze[0]=0\n",
    "    \n",
    "    # save df --> to facilitate runtime, save data only in last processing function\n",
    "    data[\"combined_vel\"] = w_gaze\n",
    "    \n",
    "    # 1 == MAD_woBig\n",
    "#     if define_intervals == 1:\n",
    "#         newName = file.replace(\"data_interpolated.csv\",\"data_correTS_mad_wobig.csv\")\n",
    "#         data.to_csv(os.path.join(data_savepath_intermediateP, newName), index = False)\n",
    "        \n",
    "#     # 2 == 10_sec\n",
    "#     else:\n",
    "#         print(\"why are you using the 10 sec interval, it is not fully adapted in this script\")\n",
    "\n",
    "    return data\n",
    "        "
   ]
  },
  {
   "cell_type": "code",
   "execution_count": 56,
   "id": "4c752e49-b960-49bc-9664-9945339c8a5a",
   "metadata": {},
   "outputs": [],
   "source": [
    "### MAXIMUM VELOCITY THRESHOLD (1000deg/sec)\n",
    "# note: this function just replaces all velocity values exceeding the max threshold of 1000deg/sec with 1000.0. \n",
    "# this part should not be affected by the varying sampling rate\n",
    " \n",
    "def max_vel_threshold(file, data):\n",
    "    \n",
    "    # max_vel threshold\n",
    "    max_vel = 1000.0\n",
    "\n",
    "    combined_vel = data[\"combined_vel\"].tolist()\n",
    "    c_v = [max_vel if cv > max_vel else cv for cv in combined_vel]\n",
    "    data[\"combined_vel\"] = c_v\n",
    "    \n",
    "#     # save data --> to improve runtime, only save data in last processing function\n",
    "#     if define_intervals == 1:\n",
    "#         newName = file.replace(\"data_interpolated.csv\",\"data_correTS_mad_wobig.csv\")\n",
    "#         data.to_csv(os.path.join(data_savepath_intermediateP, newName), index = False)\n",
    "        \n",
    "#     # 2 == 10_sec\n",
    "#     else:\n",
    "#         print(\"why are you using the 10 sec interval, it is not fully adapted in this script\")\n",
    "    \n",
    "    return data\n",
    "        "
   ]
  },
  {
   "cell_type": "markdown",
   "id": "f4b0b714-0948-46bc-9147-fb9d6ab67272",
   "metadata": {
    "jp-MarkdownHeadingCollapsed": true,
    "tags": []
   },
   "source": [
    "# Smooth the Data (Savitzky–Golay)"
   ]
  },
  {
   "cell_type": "code",
   "execution_count": 57,
   "id": "dcab8dc6-9277-4d67-9aa3-39a793f41667",
   "metadata": {
    "tags": []
   },
   "outputs": [],
   "source": [
    "# Taken from NYSTRÖM AND HOLMQVIST, 2010\n",
    "# Filter: Savitzky–Golay (sgolay in MATLAB)\n",
    "# Filter order: 2\n",
    "# Filter length: 2* min saccade duration Peak\n",
    "\n",
    "# this might need adjustment, since the sampling rate is taken into consideration for savgol_length...\n",
    "\n",
    "def savitzky_golay(file, data): \n",
    "\n",
    "    # define parameters\n",
    "    savgol_length = 3  # 0.01 * 90 #window size = int(savgol_length * sr); sr = 90; remodnav = 0.019 -->  int(savgol_length * sr) not possible with our SR\n",
    "    savgol_polyord = 2  # polynomial order\n",
    "\n",
    "\n",
    "    combined_vel = data[\"combined_vel\"].tolist()\n",
    "\n",
    "    # filter\n",
    "    combined_vel = scipy.signal.savgol_filter(\n",
    "        combined_vel, savgol_length, savgol_polyord\n",
    "    )\n",
    "\n",
    "    # save data\n",
    "    data[\"combined_vel\"] = combined_vel\n",
    "    \n",
    "#     # save df: --> to improve runtime, only save data at last processing function\n",
    "# #     1 == MAD_woBig\n",
    "#     if define_intervals == 1:\n",
    "#         newName = file.replace(\"data_interpolated.csv\",\"data_correTS_mad_wobig.csv\")\n",
    "#         data.to_csv(os.path.join(data_savepath_intermediateP, newName), index = False)\n",
    "        \n",
    "#     # 2 == 10_sec\n",
    "#     else:\n",
    "#         print(\"why are you using the 10 sec interval, it is not fully adapted in this script\")\n",
    "        \n",
    "    return data"
   ]
  },
  {
   "cell_type": "markdown",
   "id": "c3527758-eda8-4190-a428-676dc33dfb1a",
   "metadata": {
    "jp-MarkdownHeadingCollapsed": true,
    "tags": []
   },
   "source": [
    "# Function at_mad"
   ]
  },
  {
   "cell_type": "code",
   "execution_count": 58,
   "id": "8fe9cdae-d23b-4091-bfe8-6227e270b81b",
   "metadata": {},
   "outputs": [],
   "source": [
    "# Function: calculate MAD saccade\n",
    "def at_mad(angular_vel, th_0=200):\n",
    "    # defines the saccade threshold (code from Ashima)\n",
    "    threshs = []\n",
    "    while True:\n",
    "        # take th_0\n",
    "        threshs.append(th_0)\n",
    "        \n",
    "        # get all angles smaller than this\n",
    "        angular_vel = angular_vel[angular_vel < th_0]\n",
    "        angular_vel = angular_vel[angular_vel != 0]\n",
    "               \n",
    "        # check if angular_vel contains any values to avoid warnings in the calculation of the median ect. (modification by Jasmin)\n",
    "        if(angular_vel.size == 0):\n",
    "            th_1 = np.nan\n",
    "        \n",
    "        else:\n",
    "            # MAD:\n",
    "            # take the median of all angles smaller than th_0 \n",
    "            median = np.median(angular_vel)            \n",
    "            # substract the median value\n",
    "            diff = np.sqrt((angular_vel - median) ** 2)\n",
    "            # get the median of these values\n",
    "            med_abs_deviation = np.median(diff)\n",
    "            # calcualte the next threshold with the median\n",
    "            # 1.486 used when assuming a normal distribution\n",
    "            th_1 = median + 3 * 1.486 * med_abs_deviation\n",
    "                    # if the thresholds are too different, redo the while loop\n",
    "        if abs(th_0 - th_1) > 1:\n",
    "            th_0 = th_1\n",
    "        # else, set the final threshold to the current one, break the while loop and return values\n",
    "        else:\n",
    "            saccade_thresh = th_1\n",
    "            threshs.append(saccade_thresh)\n",
    "            break\n",
    "    return saccade_thresh, threshs"
   ]
  },
  {
   "cell_type": "code",
   "execution_count": 59,
   "id": "2838599a",
   "metadata": {},
   "outputs": [],
   "source": [
    "# Function: calculate MAD saccade\n",
    "def at_mad_mean(angular_vel, th_0=200):\n",
    "    # defines the saccade threshold (code from Ashima)\n",
    "    threshs = []\n",
    "    while True:\n",
    "        # take th_0\n",
    "        threshs.append(th_0)\n",
    "        \n",
    "        # get all angles smaller than this\n",
    "        angular_vel = angular_vel[angular_vel < th_0]\n",
    "        angular_vel = angular_vel[angular_vel != 0]\n",
    "               \n",
    "        # check if angular_vel contains any values to avoid warnings in the calculation of the median ect. (modification by Jasmin)\n",
    "        if(angular_vel.size == 0):\n",
    "            th_1 = np.nan\n",
    "        \n",
    "        else:\n",
    "            # MAD:\n",
    "            # take the median of all angles smaller than th_0 \n",
    "            median = np.mean(angular_vel)\n",
    "            print('median ',median)\n",
    "            \n",
    "            # substract the median value\n",
    "            diff = np.sqrt((angular_vel - median) ** 2)\n",
    "            # get the median of these values\n",
    "            med_abs_deviation = np.median(diff)\n",
    "            # calcualte the next threshold with the median\n",
    "            # 1.486 used when assuming a normal distribution\n",
    "            th_1 = median + 3 * 1.486 * med_abs_deviation\n",
    "            \n",
    "        print( abs(th_0 - th_1))\n",
    "        # if the thresholds are too different, redo the while loop\n",
    "        if abs(th_0 - th_1) > 1:\n",
    "            th_0 = th_1\n",
    "        # else, set the final threshold to the current one, break the while loop and return values\n",
    "        else:\n",
    "            saccade_thresh = th_1\n",
    "            threshs.append(saccade_thresh)\n",
    "            break\n",
    "    return saccade_thresh, threshs"
   ]
  },
  {
   "cell_type": "code",
   "execution_count": 60,
   "id": "108e368c",
   "metadata": {},
   "outputs": [],
   "source": [
    "# Function: calculate MAD saccade\n",
    "def at_mad_normalized(angular_vel, th_0=200):\n",
    "    # defines the saccade threshold (code from Ashima)\n",
    "    threshs = []\n",
    "    \n",
    "    \n",
    "    while True:\n",
    "        threshs.append(th_0)\n",
    "        \n",
    "        # Normalize angular velocity values\n",
    "        max_angular_vel = np.max(np.abs(angular_vel))\n",
    "        normalized_angular_vel = angular_vel / max_angular_vel\n",
    "        \n",
    "        # Filter normalized angular velocity\n",
    "        normalized_angular_vel = normalized_angular_vel[normalized_angular_vel < th_0]\n",
    "        normalized_angular_vel = normalized_angular_vel[normalized_angular_vel != 0]\n",
    "        \n",
    "        print('length angular vel', len(angular_vel))\n",
    "        \n",
    "        if normalized_angular_vel.size == 0:\n",
    "            th_1 = np.nan\n",
    "        else:\n",
    "             # MAD:\n",
    "            # Calculate median and MAD on normalized data\n",
    "            median = np.median(normalized_angular_vel)\n",
    "            print('median',median)\n",
    "            diff = np.abs(normalized_angular_vel - median)\n",
    "            med_abs_deviation = np.median(diff)\n",
    "            # Calculate threshold based on normalized values\n",
    "            th_1 = median + 3 * 1.486 * med_abs_deviation\n",
    "            \n",
    "            # Scale threshold back to original units\n",
    "            th_1 = th_1 * max_angular_vel\n",
    "        \n",
    "        print(th_1)\n",
    "        print( abs(th_0 - th_1))\n",
    "        \n",
    "        if abs(th_0 - th_1) > 1:\n",
    "            th_0 = th_1\n",
    "        else:\n",
    "            saccade_thresh = th_1\n",
    "            threshs.append(saccade_thresh)\n",
    "            break\n",
    "    return saccade_thresh, threshs\n",
    "\n"
   ]
  },
  {
   "cell_type": "code",
   "execution_count": 61,
   "id": "21fd0558",
   "metadata": {},
   "outputs": [],
   "source": [
    "# # testi = data.head(20);\n",
    "# file = '1004_Session_1_ET_1_data_correTS_mad_wobig.csv'\n",
    "# data = pd.read_csv(os.path.join(data_savepath_intermediateP, file)) \n",
    "\n",
    "# # print(data[\"combined_vel\"].head(20))\n",
    "\n",
    "# print('data length', len(data))\n",
    "# saccade_thresh, thresh = at_mad(data[\"combined_vel\"])\n",
    "\n",
    "# print('----------------')\n",
    "# print(saccade_thresh)\n",
    "# print('-----------------')\n",
    "# print(thresh)\n"
   ]
  },
  {
   "cell_type": "code",
   "execution_count": 62,
   "id": "c1301146",
   "metadata": {},
   "outputs": [],
   "source": [
    "# # testi = data.head(20);\n",
    "# file2 = '1004_Session_5_ET_1_data_correTS_mad_wobig.csv'\n",
    "# data2 = pd.read_csv(os.path.join(data_savepath_intermediateP, file2)) \n",
    "\n",
    "# # print(data2[\"combined_vel\"].head(20))\n",
    "# print('data length', len(data2))\n",
    "# saccade_thresh, thresh = at_mad_mean(data2[\"combined_vel\"])\n",
    "\n",
    "# print('----------------')\n",
    "# print(saccade_thresh)\n",
    "# print('-----------------')\n",
    "# print(thresh)\n",
    "# print('-----------------')"
   ]
  },
  {
   "cell_type": "code",
   "execution_count": 63,
   "id": "07eb0945",
   "metadata": {},
   "outputs": [],
   "source": [
    "# goodData = pd.read_csv('E:/WestbrookProject/DebbiesData//correTS_mad_wobig_70656182-09b3-4c19-9ae2-0a2ab2e19fed.csv')\n",
    "\n",
    "# # print(goodData[\"combined_vel\"].head(20))\n",
    "\n",
    "# print('data length', len(goodData))\n",
    "\n",
    "# saccade_thresh, thresh= at_mad_mean(goodData[\"combined_vel\"])\n",
    "\n",
    "# print('----------------')\n",
    "# print(saccade_thresh)\n",
    "# print('-----------------')\n",
    "# print(thresh)\n",
    "# print('-----------------')"
   ]
  },
  {
   "cell_type": "markdown",
   "id": "a93c13e9-0c99-4591-9fb4-65e2fa6dd191",
   "metadata": {
    "jp-MarkdownHeadingCollapsed": true,
    "tags": []
   },
   "source": [
    "# Calculate the data segmenation intervals"
   ]
  },
  {
   "cell_type": "markdown",
   "id": "bcd3ee25-2067-4c79-8f07-8d8c889bd564",
   "metadata": {
    "jp-MarkdownHeadingCollapsed": true,
    "tags": []
   },
   "source": [
    "## Exclude big saccs"
   ]
  },
  {
   "cell_type": "code",
   "execution_count": 64,
   "id": "4db648eb-1b27-4ed7-9374-097edff5a2ea",
   "metadata": {
    "tags": []
   },
   "outputs": [],
   "source": [
    "# Calcualte the threshold across the entire dataset\n",
    "\n",
    "# determining a critical velocity on a median-filtered (median filter length) time series comprising\n",
    "# the full duration of a recording. All such periods of consecutive above-threshold velocities are\n",
    "# weighted by the sum of these velocities. Boundaries of time series chunks are determined by selecting\n",
    "# such events sequentially (starting with the largest sums) until a maximum average frequency across\n",
    "# the whole time series is reached resulting chunks represent data intervals between saccades of maximum\n",
    "# magnitude in the respective data.\n",
    "\n",
    "\n",
    "def calc_mad_wobig_interval(file, data):\n",
    "    \n",
    "    # get time\n",
    "    time = data[\"timeStampDataPointStart_converted\"].tolist()\n",
    "\n",
    "    # run MAD saccade on the entire data\n",
    "    saccade_th, thres = at_mad(data[\"combined_vel\"])\n",
    "\n",
    "    # detect all periods above the calculated threshold\n",
    "    fast_sacc = [\n",
    "        ti if ti >= saccade_th else np.nan\n",
    "        for ti in data[\"combined_vel\"].tolist()\n",
    "    ]\n",
    "    \n",
    "#     test = pd.DataFrame(data[\"combined_vel\"])\n",
    "#     test[\"fast_sacc\"] = fast_sacc\n",
    "#     print(test[:15])\n",
    "    \n",
    "#     interv = [np.nan] * len(time)  # rem\n",
    "#     interv[0] = 600  # rem\n",
    "#     total_v = [np.nan] * len(time)  # rem\n",
    "    start = [time[0]]  # onset time\n",
    "    start_idx = [0]  # onset idx\n",
    "    end = []  # offset time\n",
    "    end_idx = []  # offset index\n",
    "    total_vels = []  # save the velocities to sort the fast_sacc\n",
    "\n",
    "    # to add and update for each interval\n",
    "    starts = []  # save the indicies in\n",
    "    vels = []  # save the velocities in\n",
    "    cnt = True  # every time it will be set to true, add the velocity\n",
    "    curr_end = 0 ############################################################## to fix code --> assign curr_end to 0 to catch the case that fast_sacc[0] is not NaN\n",
    "\n",
    "    for v in range(1, (len(fast_sacc) - 1)): ################################## to fix code --> range(0, (lenfast_sacc )-1) --> why would it not start with the first data point anyway???\n",
    "        # if you start an event higher than the threshold:\n",
    "        \n",
    "        # if current line is NaN and next line is not NaN\n",
    "        if pd.isnull(fast_sacc[v]) and not pd.isnull(fast_sacc[v + 1]):\n",
    "            cnt = True\n",
    "            curr_end = v + 1\n",
    "        # if current line is not NaN and next line is NaN\n",
    "        elif not pd.isnull(fast_sacc[v]) and pd.isnull(fast_sacc[v + 1]) and curr_end > 0:\n",
    "                    \n",
    "#             print(\"enter if - v= \", v, \"fast_sacc[v]\",fast_sacc[v], \"fast_sacc[v + 1]\", fast_sacc[v + 1])\n",
    "            # vels:\n",
    "            total_vels.append(np.nansum(vels))\n",
    "#             print(total_v[starts[vels.index(np.nanmax(vels))]])\n",
    "#             print(\"here\")\n",
    "#             total_v[starts[vels.index(np.nanmax(vels))]] = np.nansum(\n",
    "#                 vels\n",
    "#             )  # rem\n",
    "            # start\n",
    "            start_idx.append(v + 1)\n",
    "            start.append(time[v + 1])\n",
    "            # end\n",
    "            end_idx.append(curr_end)\n",
    "            end.append(time[curr_end])\n",
    "#             interv[starts[vels.index(np.nanmax(vels))] + 1] = 600  # rem\n",
    "            # interv[starts[vels.index(np.nanmax(vels))]] = 400 #rem\n",
    "            # reset:\n",
    "            cnt = False\n",
    "            starts = []  # save the indicies in\n",
    "            vels = []  # save the velocities in\n",
    "        # if you are currently looking at intervals higher than the theshold: add them to the lists\n",
    "        if (\n",
    "            cnt == True\n",
    "        ):  # and not pd.isnull(fast_sacc[v]) and pd.isnull(fast_sacc[v+1]):\n",
    "            starts.append(v + 1)  # get the index\n",
    "            vels.append(fast_sacc[v + 1])  # get the velocities\n",
    "\n",
    "    end.append(time[-1])\n",
    "    end_idx.append(len(fast_sacc))\n",
    "    total_vels.append(np.nansum(vels))\n",
    "    # interv[-1] = 400 #rem\n",
    "\n",
    "    # order the data\n",
    "    int_data = pd.DataFrame(\n",
    "        list(zip(start, end, start_idx, end_idx, total_vels)),\n",
    "        columns=[\"start\", \"end\", \"start_idx\", \"end_idx\", \"total_vels\"],\n",
    "    )\n",
    "\n",
    "    # only get the big saccades\n",
    "    max_initial_saccade_freq = 0.5\n",
    "    # order the indicies according to the frequencies\n",
    "    int_data = int_data.sort_values(\"total_vels\", ascending=False)\n",
    "\n",
    "    # if still smaller than max_initial_saccade_freq, keep adding nr to list, else, add 0\n",
    "    new_start = [int_data[\"start\"][0]]\n",
    "    to_keep = [1]\n",
    "    for st in int_data[\"start\"][1:].tolist():\n",
    "        new_start.append(st)\n",
    "        new_start.sort()\n",
    "        new_dist = [\n",
    "            new_start[i + 1] - new_start[i] for i in range(len(new_start) - 1)\n",
    "        ]\n",
    "        if sum(new_dist) / len(new_dist) > max_initial_saccade_freq:\n",
    "            to_keep = to_keep + [1]\n",
    "        else:\n",
    "            break\n",
    "\n",
    "    to_keep = to_keep + [0] * (len(start) - len(to_keep))\n",
    "    int_data[\"to_keep\"] = to_keep\n",
    "    int_data = int_data.sort_values(\"start_idx\")\n",
    "\n",
    "    # so we can make sure we will cover the entire duration\n",
    "    to_keep = int_data[\"to_keep\"].tolist()\n",
    "    to_keep[0] = 1\n",
    "    to_keep[-1] = 1\n",
    "    int_data[\"to_keep\"] = to_keep\n",
    "\n",
    "    # now only save the list-elements we want to keep\n",
    "    adjusted = True\n",
    "    for v, val in enumerate(int_data[\"to_keep\"].tolist()):\n",
    "        if val == 0 and adjusted:\n",
    "            curr_idx = v\n",
    "            adjusted = False\n",
    "        elif val == 1 and not adjusted:\n",
    "            int_data.loc[v, \"start\"] = int_data[\"start\"][curr_idx]\n",
    "            int_data.loc[v, \"start_idx\"] = int_data[\"start_idx\"][curr_idx]\n",
    "            adjusted = True\n",
    "\n",
    "    # delete all rows with 0\n",
    "    int_data = int_data[int_data[\"to_keep\"] == 1].reset_index()\n",
    "    int_data = int_data.drop(columns=[\"to_keep\"])\n",
    " \n",
    "    # save interval --> to improve runtime, save interval only at last processing function\n",
    "#     saveName = file.replace(\"data_interpolated.csv\",\"interval_mad_wobig.csv\")\n",
    "#     int_data.to_csv(os.path.join(data_savepath_intervals, saveName), index = False)\n",
    "\n",
    "    return data, int_data"
   ]
  },
  {
   "cell_type": "code",
   "execution_count": 65,
   "id": "86990e33",
   "metadata": {},
   "outputs": [],
   "source": [
    "# int_data.head(15)"
   ]
  },
  {
   "cell_type": "code",
   "execution_count": 66,
   "id": "3e852b93",
   "metadata": {},
   "outputs": [],
   "source": [
    "# # test code\n",
    "# # read in data\n",
    "# file= \"1004_Session_1_ET_1_data_interpolated.csv\"\n",
    "# data = pd.read_csv(os.path.join(data_savepath_interpolated, file))\n",
    "\n",
    "\n",
    "# # apply the smooth coordinate processing step to data\n",
    "# data = smooth_coordinates(file, data)\n",
    "\n",
    "# # do the velocity calculation\n",
    "# data = velocity_calc(file, data)\n",
    "\n",
    "# # cut off max velocity threshold\n",
    "# data = max_vel_threshold(file, data)\n",
    "\n",
    "# # apply Savitzky Golay filter\n",
    "# data = savitzky_golay(file, data)\n",
    "\n",
    "# calculate the segmentation interval\n",
    "# data, int_data = calc_mad_wobig_interval(file, data)\n"
   ]
  },
  {
   "cell_type": "markdown",
   "id": "4b1714dc-e34c-47fc-b5bc-663d6551c263",
   "metadata": {
    "jp-MarkdownHeadingCollapsed": true,
    "tags": []
   },
   "source": [
    "## 10 sec intervals (if you don't do the previous code) -- not adapted (J)"
   ]
  },
  {
   "cell_type": "code",
   "execution_count": 67,
   "id": "7a8e9be3-236f-4ca5-8cf3-cac34a6c977c",
   "metadata": {
    "tags": []
   },
   "outputs": [],
   "source": [
    "################################################################ NOT ADAPTED HERE!!!!!!!!!!!!!!!\n",
    "\n",
    "# code comes from 5v_investigate_fixations\n",
    "# ids = recordings.index.tolist()\n",
    "# idd = ids[:]\n",
    "\n",
    "# def ten_sec_interval(file,data):\n",
    "\n",
    "#     int_len = 10  # number of seconds of the interval\n",
    "\n",
    "#     time = data[\"timeStampDataPointStart_converted\"].tolist()\n",
    "\n",
    "#     start = []\n",
    "#     end = []\n",
    "#     start_idx = []\n",
    "#     end_idx = []\n",
    "#     # go through the dataframe and save the start and end each turn\n",
    "#     for t, ti in enumerate(time):\n",
    "#         if ti == time[0]:\n",
    "#             start.append(ti)\n",
    "#             start_idx.append(t)\n",
    "#         if ti - start[-1] > int_len:\n",
    "#             # if the current timepoint is more than int_len away from start, set it to new start\n",
    "#             start.append(ti)\n",
    "#             start_idx.append(t)\n",
    "#             # and set end to the timepoint before that\n",
    "#             end.append(time[t - 1])\n",
    "#             end_idx.append(t - 1)\n",
    "#     # add the last timepoint to end\n",
    "#     # (there is a very slim chance that the last start and end are the same timepoint --> might cause errors)\n",
    "#     end.append(time[-1])\n",
    "#     end_idx.append(len(time))\n",
    "\n",
    "#     # save it as new df\n",
    "#     int_data = list(zip(start, end, start_idx, end_idx))\n",
    "#     int_data = pd.DataFrame(\n",
    "#         int_data, columns=[\"start\", \"end\", \"start_idx\", \"end_idx\"]\n",
    "#     )\n",
    "\n",
    "#     return data, int_data"
   ]
  },
  {
   "cell_type": "markdown",
   "id": "8c166961-2041-4b0c-abf0-ed62b406ff33",
   "metadata": {
    "tags": []
   },
   "source": [
    "# Calculate MAD Saccade"
   ]
  },
  {
   "cell_type": "markdown",
   "id": "82f3f06f-6ae1-416b-82b2-a317978603d8",
   "metadata": {
    "jp-MarkdownHeadingCollapsed": true,
    "tags": []
   },
   "source": [
    "## Get the thresholds for each interval"
   ]
  },
  {
   "cell_type": "code",
   "execution_count": 68,
   "id": "bb196894-ff2a-4fc0-8acc-f6cedc34ecbc",
   "metadata": {
    "tags": []
   },
   "outputs": [],
   "source": [
    "# go through the caclulated intervals, run at_mad on each of these intervals and save the thresholds\n",
    "\n",
    "def mad_saccade(file, data, int_data):\n",
    "\n",
    "    combined_vel = data[\"combined_vel\"]\n",
    "        \n",
    "    # to shorten the slicing in the next for loop\n",
    "    start_idx = int_data[\"start_idx\"].tolist()\n",
    "    end_idx = int_data[\"end_idx\"].tolist()\n",
    "\n",
    "    # to add the final thresholds to for each segement\n",
    "    scct = []\n",
    "    for s, srt in enumerate(int_data[\"start\"].tolist()):            \n",
    "\n",
    "        # get the slice of the combined velocity\n",
    "        angular_vel = combined_vel[start_idx[s] : end_idx[s]]\n",
    "        # use the at_mad function to caluclate the threshold\n",
    "        saccade_th, thres = at_mad(angular_vel)\n",
    "        if np.isnan(saccade_th):\n",
    "            scct.append(thres[0])\n",
    "        else:\n",
    "            # add it to scct\n",
    "            scct.append(saccade_th)\n",
    "\n",
    "    # add it to int_data and save\n",
    "    int_data[\"thresh\"] = scct\n",
    "\n",
    "#     display(len(scct))\n",
    "    int_data = pd.DataFrame(int_data)\n",
    "\n",
    "    \n",
    "    # save intervals \n",
    "#     # 1 == MAD_woBig\n",
    "    if define_intervals == 1:\n",
    "        # save interval\n",
    "        saveName = file.replace(\"data_interpolated.csv\",\"interval_mad_wobig.csv\")\n",
    "        int_data.to_csv(os.path.join(data_savepath_intervals, saveName), index = False)\n",
    "    # 2 == 10_sec\n",
    "    else:\n",
    "        print(\"why are you using the 10 sec interval, it is not fully adapted in this script\")\n",
    "    \n",
    "    \n",
    "    return data, int_data"
   ]
  },
  {
   "cell_type": "markdown",
   "id": "65a284a9-6331-4923-93cf-e900037ddf33",
   "metadata": {
    "jp-MarkdownHeadingCollapsed": true,
    "tags": []
   },
   "source": [
    "## Add the threshold to data df"
   ]
  },
  {
   "cell_type": "code",
   "execution_count": 69,
   "id": "39ed6851-fa5e-4087-ba2a-0b26df00eca1",
   "metadata": {
    "tags": []
   },
   "outputs": [],
   "source": [
    "# go through the caclulated intervals, run at_mad on each of these intervals and save the thresholds\n",
    "\n",
    "def add_threshold(file, data, int_data):\n",
    "\n",
    "    time = data.index.tolist()\n",
    "    start_idx = int_data[\"start_idx\"].tolist()\n",
    "    end_idx = int_data[\"end_idx\"].tolist()\n",
    "    thr = int_data[\"thresh\"].tolist()\n",
    "\n",
    "    # go through all time intervals\n",
    "    thresh = [0.0] * len(time)\n",
    "    for s, srt in enumerate(int_data[\"start\"].tolist()):\n",
    "        # repeat the threshold as often as the time interval is long\n",
    "        thresh = (\n",
    "            thresh[: start_idx[s]]\n",
    "            + [thr[s]] * len(time[start_idx[s] : end_idx[s]])\n",
    "            + thresh[end_idx[s] :]\n",
    "        )\n",
    "\n",
    "    # add the two lists (ht & et) to for_eye df\n",
    "    data[\"thresh\"] = thresh\n",
    "\n",
    "    # save for_eye df\n",
    "    data = pd.DataFrame(data)\n",
    "#     display(data)\n",
    "    \n",
    "#     # save df: --> to improve runtime, only save data in last processing step\n",
    "#     # 1 == MAD_woBig\n",
    "#     if define_intervals == 1:\n",
    "#         newName = file.replace(\"data_interpolated.csv\",\"data_correTS_mad_wobig.csv\")\n",
    "#         data.to_csv(os.path.join(data_savepath_intermediateP, newName), index = False)\n",
    "        \n",
    "#     # 2 == 10_sec\n",
    "#     else:\n",
    "#         print(\"why are you using the 10 sec interval, it is not fully adapted in this script\")\n",
    "\n",
    "    return data, int_data"
   ]
  },
  {
   "cell_type": "markdown",
   "id": "136c81d8-f771-44e4-98ed-9698451e8eda",
   "metadata": {
    "jp-MarkdownHeadingCollapsed": true,
    "tags": []
   },
   "source": [
    "## Define Fixations"
   ]
  },
  {
   "cell_type": "code",
   "execution_count": 70,
   "id": "6fd6cc8f-b8f0-45e1-a541-ca96693ac72e",
   "metadata": {
    "tags": []
   },
   "outputs": [],
   "source": [
    "def define_fixations(file,data,int_data):\n",
    "    \n",
    "    start = int_data[\"start_idx\"].tolist()\n",
    "    end = int_data[\"end_idx\"].tolist()\n",
    "    thres = int_data[\"thresh\"].tolist()\n",
    "    combined_vel = data[\"combined_vel\"].tolist()\n",
    "\n",
    "    # define list where the fixations will be added too\n",
    "    is_fix = [np.nan] * len(combined_vel)\n",
    "\n",
    "    for i in range(len(start)):\n",
    "        av = combined_vel[start[i] : end[i]]\n",
    "        # go through combined velocity and save all that are bigger than the threshold\n",
    "        fix = [ti if ti < thres[i] else np.nan for ti in av]\n",
    "        is_fix[start[i] : end[i]] = fix\n",
    "\n",
    "    # save\n",
    "    data[\"isFix\"] = is_fix\n",
    "\n",
    "    # save data\n",
    "    data = pd.DataFrame(data)\n",
    "\n",
    "    # save df: --> to improve runtime, only save data at last processing step\n",
    "#     # 1 == MAD_woBig        \n",
    "#     if define_intervals == 1:\n",
    "#         # save data\n",
    "#         saveName = file.replace(\"data_interpolated.csv\",\"data_correTS_mad_wobig.csv\")\n",
    "#         data.to_csv(os.path.join(data_savepath_intermediateP, saveName), index = False)\n",
    "#     # 2 == 10_sec\n",
    "#     else:\n",
    "#         print(\"why are you using the 10 sec interval, it is not fully adapted in this script\")\n",
    "\n",
    "    return data, int_data"
   ]
  },
  {
   "cell_type": "markdown",
   "id": "6df98a4a-5187-4d61-b86e-6b09556d6431",
   "metadata": {
    "jp-MarkdownHeadingCollapsed": true,
    "tags": []
   },
   "source": [
    "## Correct small saccades and add gaze length + event onset/offset to list"
   ]
  },
  {
   "cell_type": "code",
   "execution_count": 71,
   "id": "dbfa2528-6506-4099-b261-2dd6eaf411ea",
   "metadata": {
    "tags": []
   },
   "outputs": [],
   "source": [
    "##### CODE WORKING SO FAR\n",
    "def correct_small_events(file,data):\n",
    "    \"\"\"\n",
    "    Correct is an event is too small.\n",
    "\n",
    "    Parameters:\n",
    "    \"\"\"\n",
    "\n",
    "\n",
    "    min_sacc_dur = 0.02  # min sacc duration\n",
    "    min_gaze_dur = 0.04  # min gaze duration (Ashima uses 0.05)\n",
    "\n",
    "    index = data.index.tolist()  # index of df for easier use\n",
    "    start_time = data.iloc[0][\"timeStampDataPointStart_converted\"]  # update for each change\n",
    "    start_idx = index[\n",
    "        0\n",
    "    ]  # will be updated each event and used to add to the lists\n",
    "\n",
    "    # to save:\n",
    "    isFix = []\n",
    "    combined_vel = []\n",
    "\n",
    "    # if the first sample does not have any data\n",
    "    if math.isnan(data.iloc[0][\"combined_vel\"]) and not math.isnan(\n",
    "        data.iloc[1][\"combined_vel\"]\n",
    "    ):\n",
    "        start_time = data.iloc[1][\"timeStampDataPointStart_converted\"]  # update for each change\n",
    "        start_idx = index[\n",
    "            1\n",
    "        ]  # will be updated each event and used to add to the lists\n",
    "        isFix = [np.nan]\n",
    "        combined_vel = [np.nan]\n",
    "\n",
    "    # starting with a sacc\n",
    "    if math.isnan(data.loc[start_idx][\"isFix\"]):\n",
    "        event = 0  # == sacc\n",
    "    # starting with a gaze\n",
    "    else:\n",
    "        event = 1  # == gaze\n",
    "\n",
    "    # hits progress bar\n",
    "    index_pbar = tqdm(\n",
    "        iterable=index[index.index(start_idx) : -1],\n",
    "        desc=f\"⌚ timestamps from file {file}\",\n",
    "        dynamic_ncols=True,\n",
    "        bar_format=B_FORMAT,\n",
    "    )\n",
    "\n",
    "    # display(for_eye[['time','isFix']])\n",
    "    # go through the list:\n",
    "    for idx in index_pbar:\n",
    "        curr_line = data.loc[idx]\n",
    "        next_line = data.loc[idx + 1]\n",
    "\n",
    "        # gaze (--> sacc): now gaze, next one is sacc\n",
    "        if not math.isnan(curr_line.isFix) and math.isnan(next_line.isFix):\n",
    "            # if the event is too small but we are currently in a big gaze, keep isFix change combined_vel\n",
    "            if event == 1 and next_line.timeStampDataPointStart_converted - start_time < min_gaze_dur:\n",
    "                isFix = (\n",
    "                    isFix + data.loc[start_idx:idx, \"isFix\"].values.tolist()\n",
    "                )  # keep isFix\n",
    "                combined_vel = combined_vel + [np.nan] * (\n",
    "                    idx + 1 - start_idx\n",
    "                )  # change combined_vel\n",
    "            # elif current event to small and we are in big saccade, change isFix, change combined_vel\n",
    "            elif event == 0 and next_line.timeStampDataPointStart_converted - start_time < min_gaze_dur:\n",
    "                isFix = isFix + [np.nan] * (idx + 1 - start_idx)\n",
    "                combined_vel = combined_vel + [np.nan] * (idx + 1 - start_idx)\n",
    "            # elif current event big enough, keep isFix and keep combined_vel and change event to 1,update length\n",
    "            elif next_line.timeStampDataPointStart_converted - start_time >= min_gaze_dur:\n",
    "                isFix = (\n",
    "                    isFix + data.loc[start_idx:idx, \"isFix\"].values.tolist()\n",
    "                )  # keep isFix\n",
    "                combined_vel = (\n",
    "                    combined_vel\n",
    "                    + data.loc[\n",
    "                        start_idx:idx, \"combined_vel\"\n",
    "                    ].values.tolist()\n",
    "                )  # keep combined_vel\n",
    "                event = 1  # change events\n",
    "            # update start_time and start_idx\n",
    "            start_idx = idx + 1\n",
    "            start_time = data.loc[idx + 1][\"timeStampDataPointStart_converted\"]\n",
    "\n",
    "        # sacc (--> gaze): now sacc, next one is gaze\n",
    "        elif math.isnan(curr_line.isFix) and not math.isnan(next_line.isFix):\n",
    "            # if the event is too small and we are currently in a big sacc, keep isFix change combined_vel\n",
    "            if event == 0 and next_line.timeStampDataPointStart_converted - start_time < min_sacc_dur:\n",
    "                isFix = (\n",
    "                    isFix + data.loc[start_idx:idx, \"isFix\"].values.tolist()\n",
    "                )  # keep isFix\n",
    "                combined_vel = combined_vel + [np.nan] * (\n",
    "                    idx + 1 - start_idx\n",
    "                )  # change combined_vel\n",
    "            # elif current event to small but we are in big gaze, change isFix, change combined_vel\n",
    "            elif event == 1 and next_line.timeStampDataPointStart_converted - start_time < min_sacc_dur:\n",
    "                isFix = (\n",
    "                    isFix\n",
    "                    + data.loc[\n",
    "                        start_idx:idx, \"combined_vel\"\n",
    "                    ].values.tolist()\n",
    "                )  # change isFix\n",
    "                combined_vel = combined_vel + [np.nan] * (\n",
    "                    idx + 1 - start_idx\n",
    "                )  # change combined_vel\n",
    "            # elif current event big enough, keep isFix and keep combined_vel and change event to 0,update length\n",
    "            elif next_line.timeStampDataPointStart_converted - start_time >= min_sacc_dur:\n",
    "                isFix = (\n",
    "                    isFix + data.loc[start_idx:idx, \"isFix\"].values.tolist()\n",
    "                )  # keep isFix\n",
    "                combined_vel = (\n",
    "                    combined_vel\n",
    "                    + data.loc[\n",
    "                        start_idx:idx, \"combined_vel\"\n",
    "                    ].values.tolist()\n",
    "                )  # keep combined_vel\n",
    "                event = 0  # change events\n",
    "            # update start_time and start_idx\n",
    "            start_idx = idx + 1\n",
    "            start_time = data.loc[idx + 1][\"timeStampDataPointStart_converted\"]\n",
    "\n",
    "        # last index:\n",
    "        if idx + 1 == index[-1]:\n",
    "            # gaze:\n",
    "            if not math.isnan(next_line.isFix):\n",
    "                # if the event is too small but we are currently in a big gaze, keep isFix change combined_vel\n",
    "                if (\n",
    "                    event == 1\n",
    "                    and next_line.timeStampDataPointStart_converted + 0.011 - start_time < min_gaze_dur\n",
    "                ):\n",
    "                    isFix = (\n",
    "                        isFix\n",
    "                        + data.loc[start_idx:, \"isFix\"].values.tolist()\n",
    "                    )  # keep isFix\n",
    "                    combined_vel = combined_vel + [np.nan] * (\n",
    "                        idx + 2 - start_idx\n",
    "                    )  # change combined_vel\n",
    "                # elif current event to small and we are in big saccade, change isFix, change combined_vel\n",
    "                elif (\n",
    "                    event == 0\n",
    "                    and next_line.timeStampDataPointStart_converted + 0.011 - start_time < min_gaze_dur\n",
    "                ):\n",
    "                    isFix = isFix + [np.nan] * (idx + 2 - start_idx)\n",
    "                    combined_vel = combined_vel + [np.nan] * (\n",
    "                        idx + 2 - start_idx\n",
    "                    )\n",
    "                # elif current event big enough, keep isFix and keep combined_vel and change event to 1,update length\n",
    "                elif next_line.timeStampDataPointStart_converted + 0.011 - start_time >= min_gaze_dur:\n",
    "                    isFix = (\n",
    "                        isFix\n",
    "                        + data.loc[start_idx:, \"isFix\"].values.tolist()\n",
    "                    )  # keep isFix\n",
    "                    combined_vel = (\n",
    "                        combined_vel\n",
    "                        + data.loc[\n",
    "                            start_idx:, \"combined_vel\"\n",
    "                        ].values.tolist()\n",
    "                    )  # keep combined_vel\n",
    "            # sacc:\n",
    "            elif math.isnan(next_line.isFix):\n",
    "                # if the event is too small and we are currently in a big sacc, keep isFix change combined_vel\n",
    "                if (\n",
    "                    event == 0\n",
    "                    and next_line.timeStampDataPointStart_converted + 0.011 - start_time < min_sacc_dur\n",
    "                ):\n",
    "                    isFix = (\n",
    "                        isFix\n",
    "                        + data.loc[start_idx:, \"isFix\"].values.tolist()\n",
    "                    )  # keep isFix\n",
    "                    combined_vel = combined_vel + [np.nan] * (\n",
    "                        idx + 2 - start_idx\n",
    "                    )  # change combined_vel\n",
    "                # elif current event to small but we are in big gaze, change isFix, change combined_vel\n",
    "                elif (\n",
    "                    event == 1\n",
    "                    and next_line.timeStampDataPointStart_converted + 0.011 - start_time < min_sacc_dur\n",
    "                ):\n",
    "                    isFix = (\n",
    "                        isFix\n",
    "                        + data.loc[\n",
    "                            start_idx:, \"combined_vel\"\n",
    "                        ].values.tolist()\n",
    "                    )  # change isFix\n",
    "                    combined_vel = combined_vel + [np.nan] * (\n",
    "                        idx + 2 - start_idx\n",
    "                    )  # change combined_vel\n",
    "                # elif current event big enough, keep isFix and keep combined_vel and change event to 0,update length\n",
    "                elif next_line.timeStampDataPointStart_converted + 0.011 - start_time >= min_sacc_dur:\n",
    "                    isFix = (\n",
    "                        isFix\n",
    "                        + data.loc[start_idx:, \"isFix\"].values.tolist()\n",
    "                    )  # keep isFix\n",
    "                    combined_vel = (\n",
    "                        combined_vel\n",
    "                        + data.loc[\n",
    "                            start_idx:, \"combined_vel\"\n",
    "                        ].values.tolist()\n",
    "                    )  # keep combined_vel\n",
    "\n",
    "    # save everything:\n",
    "    data[\"isFix\"] = isFix\n",
    "    data[\"corrected_vel\"] = combined_vel\n",
    "    # save data\n",
    "    data = pd.DataFrame(data)\n",
    "\n",
    "    # save df: --> to improve runtime, only save data at last processing function\n",
    "    # 1 == MAD_woBig\n",
    "        \n",
    "#     if define_intervals == 1:\n",
    "#         saveName = file.replace(\"data_interpolated.csv\",\"data_correTS_mad_wobig.csv\")\n",
    "#         data.to_csv(os.path.join(data_savepath_intermediateP, saveName), index = False)\n",
    "#     # 2 == 10_sec\n",
    "#     else:\n",
    "#         print(\"why are you using the 10 sec interval, it is not fully adapted in this script\")\n",
    "\n",
    "    return data\n",
    "\n"
   ]
  },
  {
   "cell_type": "markdown",
   "id": "61e6b0da-92d9-40da-9783-9597e908a1f2",
   "metadata": {
    "jp-MarkdownHeadingCollapsed": true,
    "tags": []
   },
   "source": [
    "## Define events, duration etc. "
   ]
  },
  {
   "cell_type": "code",
   "execution_count": 72,
   "id": "869d0212-690b-423f-902a-8f76721df5ac",
   "metadata": {
    "tags": []
   },
   "outputs": [],
   "source": [
    "def get_events_len_dist(file, data):\n",
    "    \"\"\"\n",
    "    Correct is an event is too small.\n",
    "\n",
    "    Parameters:\n",
    "        uid (str): Participant identifier.\n",
    "    \"\"\"\n",
    "\n",
    "\n",
    "    min_sacc_dur = 0.02  # min sacc duration\n",
    "    min_gaze_dur = 0.04  # min gaze duration (Ashima uses 0.05)\n",
    "\n",
    "    time = data[\"timeStampDataPointStart_converted\"].tolist()\n",
    "\n",
    "\n",
    "    ########## EVENTS, LENGTH, AVG DISTANCE, NAME OF OBJECT ##########\n",
    "    index = data.index.tolist()  # index of df for easier use\n",
    "\n",
    "    events = [np.nan] * len(\n",
    "        data\n",
    "    )  # sacc begin == 1, sacc end == -1; gaze begin == 2, gaze end == -2\n",
    "\n",
    "    # if the first sample does not have any data\n",
    "    if math.isnan(data.iloc[0][\"combined_vel\"]) and not math.isnan(\n",
    "        data.iloc[1][\"combined_vel\"]\n",
    "    ):\n",
    "        start_idx = index[\n",
    "            1\n",
    "        ]  # will be updated each event and used to add to the lists\n",
    "        events[1] = 2\n",
    "        length = [np.nan]\n",
    "        dist = [\n",
    "            np.nan\n",
    "        ]  # to save the distance to the hitpoint at each timestamps\n",
    "        avg_dist = [\n",
    "            np.nan\n",
    "        ]  # to save the average distance of collider(s) during event\n",
    "        names = [np.nan]  # to save the name of the current gaze\n",
    "        \n",
    "        ## NH\n",
    "        \n",
    "        distNH = [\n",
    "            np.nan\n",
    "        ]  # to save the distance to the hitpoint at each timestamps\n",
    "        avg_distNH = [\n",
    "            np.nan\n",
    "        ]  # to save the average distance of collider(s) during event\n",
    "        namesNH = [np.nan]  # to save the name of the current gaze\n",
    "    else:\n",
    "        start_idx = index[\n",
    "            0\n",
    "        ]  # will be updated each event and used to add to the lists\n",
    "        length = []\n",
    "        dist = []  # to save the distance to the hitpoint at each timestamps\n",
    "        avg_dist = (\n",
    "            []\n",
    "        )  # to save the average distance of collider(s) during event\n",
    "        names = []  # to save the name of the current gaze\n",
    "        \n",
    "        ## NH\n",
    "        distNH = []  # to save the distance to the hitpoint at each timestamps\n",
    "        avg_distNH = (\n",
    "            []\n",
    "        )  # to save the average distance of collider(s) during event\n",
    "        namesNH = []  # to save the name of the current gaze\n",
    "        ###\n",
    "        \n",
    "        if math.isnan(data.iloc[0][\"combined_vel\"]):\n",
    "            events[0] = 1\n",
    "        else:\n",
    "            events[0] = 2\n",
    "    start_time = data.loc[start_idx][\"timeStampDataPointStart_converted\"].tolist()\n",
    "\n",
    "    # hits progress bar\n",
    "    index_pbar = tqdm(\n",
    "        iterable=index[index.index(start_idx) : -1],\n",
    "        desc=f\"⌚ timestamps from file {file}\",\n",
    "        dynamic_ncols=True,\n",
    "        bar_format=B_FORMAT,\n",
    "    )\n",
    "    # go through the list:\n",
    "    for idx in index_pbar:\n",
    "        curr_line = data.loc[idx]\n",
    "        next_line = data.loc[idx + 1]\n",
    "\n",
    "        # distance:\n",
    "        hpoo = np.array(\n",
    "            [curr_line[\"processedCollider_hitPointOnObject_x\"], \n",
    "             curr_line[\"processedCollider_hitPointOnObject_y\"], \n",
    "             curr_line[\"processedCollider_hitPointOnObject_z\"]]\n",
    "        )  # hitpoints on object\n",
    "        \n",
    "                    # NH hpoo\n",
    "        hpooNH = np.array(\n",
    "            [curr_line[\"processedCollider_NH_hitPointOnObject_x\"], \n",
    "             curr_line[\"processedCollider_NH_hitPointOnObject_y\"], \n",
    "             curr_line[\"processedCollider_NH_hitPointOnObject_z\"]]\n",
    "        )  \n",
    "            \n",
    "        \n",
    "        coord_orig = np.array(\n",
    "            [\n",
    "                curr_line[\"eyePositionCombinedWorld_x\"],                           \n",
    "                curr_line[\"eyePositionCombinedWorld_y\"],                          \n",
    "                curr_line[\"eyePositionCombinedWorld_z\"],\n",
    "            ]\n",
    "        )  # position of eyes\n",
    "        dist = dist + [\n",
    "            np.linalg.norm(hpoo - coord_orig)\n",
    "        ]  # calculate to distance at this timpoint\n",
    "        \n",
    "        distNH = distNH + [\n",
    "            np.linalg.norm(hpooNH - coord_orig)\n",
    "        ]  # calculate to distance at this timpoint\n",
    "\n",
    "\n",
    "        # gaze --> sacc: now gaze, next one is sacc\n",
    "        if not math.isnan(curr_line.isFix) and math.isnan(next_line.isFix):\n",
    "            \n",
    "            # get name:\n",
    "            res = dict(\n",
    "                Counter(data.loc[start_idx:idx, \"processedCollider_name\"].values.tolist())\n",
    "            )\n",
    "            # this case in case there is mostly nans but some names (so we don't get an nan in these cases)\n",
    "            try:\n",
    "                max_keys = max((key for key in res.keys() if isinstance(key, str)), key=(lambda new_k: res[new_k]))\n",
    "            except ValueError:\n",
    "                max_keys = np.nan\n",
    "            names = names + [max_keys] * (idx + 1 - start_idx)\n",
    "            res = []\n",
    "            \n",
    "            ############# same for NH names\n",
    "\n",
    "            resNH = dict(\n",
    "                Counter(data.loc[start_idx:idx, \"processedCollider_NH_name\"].values.tolist())\n",
    "            )\n",
    "            # this case in case there is mostly nans but some names (so we don't get an nan in these cases)\n",
    "            try:\n",
    "                max_keysNH = max((key for key in resNH.keys() if isinstance(key, str)), key=(lambda new_k: resNH[new_k]))\n",
    "            except ValueError:\n",
    "                max_keysNH = np.nan\n",
    "            namesNH = namesNH + [max_keysNH] * (idx + 1 - start_idx)\n",
    "            resNH = []\n",
    "            \n",
    "            \n",
    "            #######################\n",
    "            \n",
    "            # length, distance, events\n",
    "            length = length + [curr_line.timeStampDataPointStart_converted - start_time] * (\n",
    "                idx + 1 - start_idx\n",
    "            )  # length of event\n",
    "            \n",
    "            avg_dist = avg_dist + [\n",
    "                np.nanmean(dist[index.index(start_idx) :])\n",
    "            ] * (\n",
    "                idx + 1 - start_idx\n",
    "            )  # average distance to collider(s) during event\n",
    "            \n",
    "            ## NH avg_dist\n",
    "            avg_distNH = avg_distNH + [\n",
    "                np.nanmean(distNH[index.index(start_idx) :])\n",
    "            ] * (\n",
    "                idx + 1 - start_idx\n",
    "            )  # average distance to collider(s) during event\n",
    "            \n",
    "            events[index.index(idx)] = -2  # end of gaze\n",
    "            events[index.index(idx) + 1] = 1  # beginning of sacc\n",
    "            # new idx\n",
    "            start_time = curr_line.timeStampDataPointStart_converted\n",
    "            start_idx = idx + 1\n",
    "\n",
    "        # sacc --> gaze: now sacc, next one is gaze\n",
    "        elif math.isnan(curr_line.isFix) and not math.isnan(next_line.isFix):\n",
    "            \n",
    "            # get name:\n",
    "            res = dict(\n",
    "                Counter(data.loc[start_idx:idx, \"processedCollider_name\"].values.tolist())\n",
    "            )\n",
    "            # this case in case there is mostly nans but some names (so we don't get an nan in these cases)\n",
    "            try:\n",
    "                max_keys = max((key for key in res.keys() if isinstance(key, str)), key=(lambda new_k: res[new_k]))\n",
    "                \n",
    "            except ValueError:\n",
    "                max_keys = np.nan\n",
    "            names = names + [max_keys] * (idx + 1 - start_idx)\n",
    "            res = []\n",
    "            \n",
    "            ############# same for NH names\n",
    "            \n",
    "            resNH = dict(\n",
    "                Counter(data.loc[start_idx:idx, \"processedCollider_NH_name\"].values.tolist())\n",
    "            )\n",
    "            # this case in case there is mostly nans but some names (so we don't get an nan in these cases)\n",
    "            try:\n",
    "                max_keysNH = max((key for key in resNH.keys() if isinstance(key, str)), key=(lambda new_k: resNH[new_k]))\n",
    "                \n",
    "            except ValueError:\n",
    "                max_keysNH = np.nan\n",
    "            namesNH = namesNH + [max_keysNH] * (idx + 1 - start_idx)\n",
    "            resNH = []\n",
    "            \n",
    "            \n",
    "            ###############################\n",
    "            \n",
    "            \n",
    "            # length, distance, events\n",
    "            length = length + [curr_line.timeStampDataPointStart_converted - start_time] * (\n",
    "                idx + 1 - start_idx\n",
    "            )  # length of event\n",
    "            avg_dist = avg_dist + [\n",
    "                np.nanmean(dist[index.index(start_idx) :])\n",
    "            ] * (\n",
    "                idx + 1 - start_idx\n",
    "            )  # average distance to collider(s) during event\n",
    "            \n",
    "            ## NH\n",
    "            avg_distNH = avg_distNH + [\n",
    "                np.nanmean(distNH[index.index(start_idx) :])\n",
    "            ] * (\n",
    "                idx + 1 - start_idx\n",
    "            )  # average distance to collider(s) during event\n",
    "            \n",
    "            \n",
    "            events[index.index(idx) + 1] = 2  # beginning of gaze\n",
    "            ###### TO CHANGE POSSIBLY\n",
    "            if events[index.index(idx)] != 1:\n",
    "                events[index.index(idx)] = -1  # end of sacc\n",
    "            # new idx\n",
    "            start_time = curr_line.timeStampDataPointStart_converted\n",
    "            start_idx = idx + 1\n",
    "\n",
    "        # last index:\n",
    "        if idx + 1 == index[-1]:\n",
    "            # gaze:\n",
    "            if not math.isnan(next_line.isFix):\n",
    "                events[-1] = -2  # end of gaze\n",
    "            # sacc:\n",
    "            elif math.isnan(next_line.isFix):\n",
    "                events[-1] = -1  # end of sacc\n",
    "            length = length + [next_line.timeStampDataPointStart_converted - start_time] * (\n",
    "                idx + 2 - start_idx\n",
    "            )  # length of event\n",
    "            # distance\n",
    "            avg_dist = avg_dist + [\n",
    "                np.nanmean(dist[index.index(start_idx) :])\n",
    "            ] * (\n",
    "                idx + 2 - start_idx\n",
    "            )  # average distance to collider(s) during event\n",
    "            \n",
    "            ## NH\n",
    "            avg_distNH = avg_distNH + [\n",
    "                np.nanmean(distNH  [index.index(start_idx) :])\n",
    "            ] * (\n",
    "                idx + 2 - start_idx\n",
    "            )  # average distance to collider(s) during event\n",
    "            \n",
    "             # hitpoints on object\n",
    "                \n",
    "            hpoo = np.array(\n",
    "                [next_line[\"processedCollider_hitPointOnObject_x\"], \n",
    "                 next_line[\"processedCollider_hitPointOnObject_y\"], \n",
    "                 next_line[\"processedCollider_hitPointOnObject_z\"]]\n",
    "            )  \n",
    "            # NH hpoo\n",
    "            hpooNH = np.array(\n",
    "                [next_line[\"processedCollider_NH_hitPointOnObject_x\"], \n",
    "                 next_line[\"processedCollider_NH_hitPointOnObject_y\"], \n",
    "                 next_line[\"processedCollider_NH_hitPointOnObject_z\"]]\n",
    "            )  \n",
    "            \n",
    "            coord_orig = np.array(\n",
    "                [\n",
    "                    next_line[\"eyePositionCombinedWorld_x\"],\n",
    "                    next_line[\"eyePositionCombinedWorld_y\"],\n",
    "                    next_line[\"eyePositionCombinedWorld_z\"],\n",
    "                ]\n",
    "            )  # position of eyes\n",
    "            dist = dist + [\n",
    "                np.linalg.norm(hpoo - coord_orig)\n",
    "            ]  # calculate to distance at this timpoint\n",
    "            \n",
    "            # NH dist\n",
    "            distNH = distNH + [\n",
    "                np.linalg.norm(hpooNH - coord_orig)\n",
    "            ]  # calculate to distance at this timpoint\n",
    "            \n",
    "            \n",
    "            # names\n",
    "            res = dict(\n",
    "                Counter(data.loc[start_idx:, \"processedCollider_name\"].values.tolist())\n",
    "            )\n",
    "            # this case in case there is mostly nans but some names (so we don't get an nan in these cases)\n",
    "            try:\n",
    "                max_keys = max((key for key in res.keys() if isinstance(key, str)), key=(lambda new_k: res[new_k]))\n",
    "            except ValueError:\n",
    "                max_keys = np.nan\n",
    "            names = names + [max_keys] * (idx + 2 - start_idx)\n",
    "            res = []\n",
    "            \n",
    "            ############# same for NH names\n",
    "            \n",
    "            resNH = dict(\n",
    "                Counter(data.loc[start_idx:, \"processedCollider_NH_name\"].values.tolist())\n",
    "            )\n",
    "            # this case in case there is mostly nans but some names (so we don't get an nan in these cases)\n",
    "            try:\n",
    "                max_keysNH = max((key for key in resNH.keys() if isinstance(key, str)), key=(lambda new_k: resNH[new_k]))\n",
    "            except ValueError:\n",
    "                max_keysNH = np.nan\n",
    "            namesNH = namesNH + [max_keysNH] * (idx + 2 - start_idx)\n",
    "            resNH = []\n",
    "            \n",
    "            #############################\n",
    "            \n",
    "        # display(len(names))\n",
    "        # display(len(avg_dist))\n",
    "    # save everything:\n",
    "    data[\"events\"] = events\n",
    "    data[\"length\"] = length\n",
    "    data[\"distance\"] = dist\n",
    "    data[\"distance_NH\"] = distNH\n",
    "    data[\"avg_dist\"] = avg_dist\n",
    "    data[\"avg_dist_NH\"] = avg_distNH\n",
    "    data[\"names\"] = names\n",
    "    data[\"namesNH\"] = namesNH\n",
    "\n",
    "    # save data\n",
    "    data = pd.DataFrame(data)\n",
    "\n",
    "    # save df: --> to improve runtime, only save data at last processing step\n",
    "    # 1 == MAD_woBig\n",
    "    \n",
    "#     if define_intervals == 1:\n",
    "#         saveName = file.replace(\"data_interpolated.csv\",\"data_correTS_mad_wobig.csv\")\n",
    "#         data.to_csv(os.path.join(data_savepath_intermediateP, saveName), index = False)\n",
    "#     # 2 == 10_sec\n",
    "#     else:\n",
    "#         print(\"why are you using the 10 sec interval, it is not fully adapted in this script\")\n",
    "\n",
    "    return data\n",
    "\n"
   ]
  },
  {
   "cell_type": "markdown",
   "id": "ff85292f-6271-4439-b171-74e6d1368de3",
   "metadata": {
    "jp-MarkdownHeadingCollapsed": true,
    "tags": []
   },
   "source": [
    "## Adjust the distance"
   ]
  },
  {
   "cell_type": "code",
   "execution_count": 73,
   "id": "d9b7000e-18fb-4323-83df-19a45cd9d60b",
   "metadata": {
    "tags": []
   },
   "outputs": [],
   "source": [
    "# Change average distance to correct for the potential of other events\n",
    "# so distance and avg_dist\n",
    "# plot average duration of gazes and saccades\n",
    "\n",
    "def adjust_distance(file, data):\n",
    "\n",
    "    # total lists:\n",
    "    all_dist = []\n",
    "    avg_dist = []\n",
    "    # updated after each gaze\n",
    "    dist = []\n",
    "    hon_pos = []\n",
    "    \n",
    "    \n",
    "    dur_gaze = False\n",
    "    \n",
    "    # during gaze:\n",
    "    # go through the list:\n",
    "    for g, gz in enumerate(data[\"events\"]):\n",
    "        curr_line = data.loc[g]\n",
    "        if gz == 2.0 or gz == 1.0:\n",
    "            dur_gaze = True\n",
    "            # get the gazed at object\n",
    "            curr_gaze = curr_line.names\n",
    "        # if you are currently in a gaze:\n",
    "        if dur_gaze:\n",
    "            # if you are currently having the correct element, add the position\n",
    "            if curr_line.processedCollider_name == curr_gaze:\n",
    "                hon_pos = hon_pos + [\n",
    "                    [\n",
    "                        curr_line[\"processedCollider_hitPointOnObject_x\"], \n",
    "                        curr_line[\"processedCollider_hitPointOnObject_y\"], \n",
    "                        curr_line[\"processedCollider_hitPointOnObject_z\"]\n",
    "                    ]\n",
    "                ]\n",
    "            dist = dist + [\n",
    "                np.array(\n",
    "                    [\n",
    "                        curr_line[\"eyePositionCombinedWorld_x\"],\n",
    "                        curr_line[\"eyePositionCombinedWorld_y\"],\n",
    "                        curr_line[\"eyePositionCombinedWorld_z\"],\n",
    "                    ]\n",
    "                )\n",
    "            ]\n",
    "\n",
    "        # once the gaze is over, take the avg_dist\n",
    "        if gz == -2.0 or gz == -1.0:\n",
    "            hon_pos = [np.nanmean(hon_pos, axis=0)] * len(dist)\n",
    "            # calculate to distance at this timpoint\n",
    "            dist = [\n",
    "                np.linalg.norm(hon_pos[c] - dist[c]) for c in range(len(dist))\n",
    "            ]\n",
    "            all_dist = all_dist + dist\n",
    "            # average distance during the gaze event\n",
    "            avg_dist = avg_dist + [np.nanmean(dist)] * len(dist)\n",
    "\n",
    "            # reset everything:\n",
    "            dist = []\n",
    "            hon_pos = []\n",
    "            dur_gaze = False\n",
    "\n",
    "        # if there are parts that are neither gaze nor saccade:\n",
    "        if (\n",
    "            (not dur_gaze)\n",
    "            and (gz not in [2.0, 1.0])\n",
    "            and (len(all_dist) + len(dist) != g + 1)\n",
    "        ):\n",
    "            all_dist = all_dist + [np.nan]\n",
    "            avg_dist = avg_dist + [np.nan]\n",
    "\n",
    "        if len(all_dist) + len(dist) != g + 1:\n",
    "            display(g)\n",
    "\n",
    "    if dur_gaze:\n",
    "        hon_pos = [np.nanmean(hon_pos, axis=0)] * len(dist)\n",
    "        # calculate to distance at this timpoint\n",
    "        dist = [np.linalg.norm(hon_pos[c] - dist[c]) for c in range(len(dist))]\n",
    "        all_dist = all_dist + dist\n",
    "        # average distance during the gaze event\n",
    "        avg_dist = avg_dist + [np.nanmean(dist)] * len(dist)\n",
    "\n",
    "    # add them to for_eye\n",
    "    data[\"distance\"] = all_dist\n",
    "    data[\"avg_dist\"] = avg_dist\n",
    "\n",
    "    # save data\n",
    "    data = pd.DataFrame(data)\n",
    "    \n",
    "    \n",
    "    # save df:\n",
    "    # 1 == MAD_woBig\n",
    "    \n",
    "    if define_intervals == 1:\n",
    "        # save interval\n",
    "        saveName = file.replace(\"data_interpolated.csv\",\"data_correTS_mad_wobig.csv\")\n",
    "        data.to_csv(os.path.join(data_savepath_intermediateP, saveName), index = False)\n",
    "        \n",
    "    # 2 == 10_sec\n",
    "    else:\n",
    "        print(\"why are you using the 10 sec interval, it is not fully adapted in this script\")\n",
    "\n",
    "    return data"
   ]
  },
  {
   "cell_type": "code",
   "execution_count": 74,
   "id": "d8b9adf7",
   "metadata": {},
   "outputs": [],
   "source": [
    "# Same function as above just for NH variables\n",
    "\n",
    "# Change average distance to correct for the potential of other events\n",
    "# so distance and avg_dist\n",
    "# plot average duration of gazes and saccades\n",
    "\n",
    "def adjust_distance_NH(file, data):\n",
    "\n",
    "    # total lists:\n",
    "    all_distNH = []\n",
    "    avg_distNH = []\n",
    "    # updated after each gaze\n",
    "    distNH = []\n",
    "    hon_posNH = []\n",
    "    \n",
    "    dur_gazeNH = False\n",
    "    \n",
    "    # during gaze:\n",
    "    # go through the list:\n",
    "    for g, gz in enumerate(data[\"events\"]):\n",
    "        curr_line = data.loc[g]\n",
    "        if gz == 2.0 or gz == 1.0:\n",
    "            dur_gazeNH = True\n",
    "            # get the gazed at object\n",
    "            curr_gazeNH = curr_line.namesNH\n",
    "        # if you are currently in a gaze:\n",
    "        if dur_gazeNH:\n",
    "            # if you are currently having the correct element, add the position\n",
    "            if curr_line.processedCollider_NH_name == curr_gazeNH:\n",
    "                hon_posNH = hon_posNH + [\n",
    "                    [\n",
    "                        curr_line[\"processedCollider_NH_hitPointOnObject_x\"], \n",
    "                        curr_line[\"processedCollider_NH_hitPointOnObject_y\"], \n",
    "                        curr_line[\"processedCollider_NH_hitPointOnObject_z\"]\n",
    "                    ]\n",
    "                ]\n",
    "            distNH = distNH + [\n",
    "                np.array(\n",
    "                    [\n",
    "                        curr_line[\"eyePositionCombinedWorld_x\"],\n",
    "                        curr_line[\"eyePositionCombinedWorld_y\"],\n",
    "                        curr_line[\"eyePositionCombinedWorld_z\"],\n",
    "                    ]\n",
    "                )\n",
    "            ]\n",
    "\n",
    "        # once the gaze is over, take the avg_dist\n",
    "        if gz == -2.0 or gz == -1.0:\n",
    "            hon_posNH = [np.nanmean(hon_posNH, axis=0)] * len(distNH)\n",
    "            # calculate to distance at this timpoint\n",
    "            distNH = [\n",
    "                np.linalg.norm(hon_posNH[c] - distNH[c]) for c in range(len(distNH))\n",
    "            ]\n",
    "            all_distNH = all_distNH + distNH\n",
    "            # average distance during the gaze event\n",
    "            avg_distNH = avg_distNH + [np.nanmean(distNH)] * len(distNH)\n",
    "\n",
    "            # reset everything:\n",
    "            distNH = []\n",
    "            hon_posNH = []\n",
    "            dur_gazeNH = False\n",
    "\n",
    "        # if there are parts that are neither gaze nor saccade:\n",
    "        if (\n",
    "            (not dur_gazeNH)\n",
    "            and (gz not in [2.0, 1.0])\n",
    "            and (len(all_distNH) + len(distNH) != g + 1)\n",
    "        ):\n",
    "            all_distNH = all_distNH + [np.nan]\n",
    "            avg_distNH = avg_distNH + [np.nan]\n",
    "\n",
    "        if len(all_distNH) + len(distNH) != g + 1:\n",
    "            display(g)\n",
    "\n",
    "    if dur_gazeNH:\n",
    "        hon_posNH = [np.nanmean(hon_posNH, axis=0)] * len(distNH)\n",
    "        # calculate to distance at this timpoint\n",
    "        distNH = [np.linalg.norm(hon_posNH[c] - distNH[c]) for c in range(len(distNH))]\n",
    "        all_distNH = all_distNH + distNH\n",
    "        # average distance during the gaze event\n",
    "        avg_distNH = avg_distNH + [np.nanmean(distNH)] * len(distNH)\n",
    "\n",
    "    # add them to for_eye\n",
    "    data[\"distance_NH\"] = all_distNH\n",
    "    data[\"avg_dist_NH\"] = avg_distNH\n",
    "\n",
    "    # save data\n",
    "    data = pd.DataFrame(data)\n",
    "    \n",
    "    \n",
    "    # save df:\n",
    "    # 1 == MAD_woBig\n",
    "    \n",
    "    if define_intervals == 1:\n",
    "        # save interval\n",
    "        saveName = file.replace(\"data_interpolated.csv\",\"data_correTS_mad_wobig.csv\")\n",
    "        data.to_csv(os.path.join(data_savepath_intermediateP, saveName), index = False)\n",
    "        \n",
    "    # 2 == 10_sec\n",
    "    else:\n",
    "        print(\"why are you using the 10 sec interval, it is not fully adapted in this script\")\n",
    "\n",
    "    return data"
   ]
  },
  {
   "cell_type": "markdown",
   "id": "f6969cce",
   "metadata": {},
   "source": [
    "# Loop over all files and apply all above processing functions"
   ]
  },
  {
   "cell_type": "code",
   "execution_count": 75,
   "id": "7e435c2c-ee50-443b-98f2-9d43f391ff09",
   "metadata": {
    "tags": []
   },
   "outputs": [
    {
     "name": "stdout",
     "output_type": "stream",
     "text": [
      "start\n"
     ]
    },
    {
     "data": {
      "application/vnd.jupyter.widget-view+json": {
       "model_id": "42eebf530b32461986262bbb6b82d1d2",
       "version_major": 2,
       "version_minor": 0
      },
      "text/plain": [
       "📄 0 of 1 participants processed:            \n",
       "              0% ⏱️00:00 ⏳? ⚙️?it/s"
      ]
     },
     "metadata": {},
     "output_type": "display_data"
    },
    {
     "name": "stdout",
     "output_type": "stream",
     "text": [
      "Participant 0 - participant ID 1004\n"
     ]
    },
    {
     "data": {
      "application/vnd.jupyter.widget-view+json": {
       "model_id": "2e4fa384f45a40edbe712bfe6b929dec",
       "version_major": 2,
       "version_minor": 0
      },
      "text/plain": [
       "📄 0 of 5 sessions________ processed:            \n",
       "              0% ⏱️00:00 ⏳? ⚙️?it/s"
      ]
     },
     "metadata": {},
     "output_type": "display_data"
    },
    {
     "data": {
      "application/vnd.jupyter.widget-view+json": {
       "model_id": "6999a79f3c1b4b68b177f8436c9114b4",
       "version_major": 2,
       "version_minor": 0
      },
      "text/plain": [
       "📄 0 of 3 📂 ET files____________ processed:            \n",
       "              0% ⏱️00:00 ⏳? ⚙️?it/s"
      ]
     },
     "metadata": {},
     "output_type": "display_data"
    },
    {
     "name": "stdout",
     "output_type": "stream",
     "text": [
      "process file  1004_Session_1_ET_1_data_interpolated.csv\n"
     ]
    },
    {
     "name": "stderr",
     "output_type": "stream",
     "text": [
      "D:\\Software\\Programme\\Anaconda3\\envs\\graphs\\lib\\site-packages\\numpy\\lib\\nanfunctions.py:1114: RuntimeWarning: All-NaN slice encountered\n",
      "  overwrite_input=overwrite_input)\n"
     ]
    },
    {
     "data": {
      "application/vnd.jupyter.widget-view+json": {
       "model_id": "fd3e813515a54751b6c9df4e3518ff0a",
       "version_major": 2,
       "version_minor": 0
      },
      "text/plain": [
       "📄 0 of 38275 ⌚ timestamps from file 1004_Session_1_ET_1_data_interpolated.csv processed:            \n",
       "         …"
      ]
     },
     "metadata": {},
     "output_type": "display_data"
    },
    {
     "data": {
      "application/vnd.jupyter.widget-view+json": {
       "model_id": "824266acea4948a7bcad7b9234a6f9bf",
       "version_major": 2,
       "version_minor": 0
      },
      "text/plain": [
       "📄 0 of 38275 ⌚ timestamps from file 1004_Session_1_ET_1_data_interpolated.csv processed:            \n",
       "         …"
      ]
     },
     "metadata": {},
     "output_type": "display_data"
    },
    {
     "name": "stderr",
     "output_type": "stream",
     "text": [
      "D:\\Software\\Programme\\Anaconda3\\envs\\graphs\\lib\\site-packages\\ipykernel_launcher.py:48: RuntimeWarning: Mean of empty slice\n",
      "D:\\Software\\Programme\\Anaconda3\\envs\\graphs\\lib\\site-packages\\ipykernel_launcher.py:55: RuntimeWarning: Mean of empty slice\n",
      "D:\\Software\\Programme\\Anaconda3\\envs\\graphs\\lib\\site-packages\\ipykernel_launcher.py:49: RuntimeWarning: Mean of empty slice\n",
      "D:\\Software\\Programme\\Anaconda3\\envs\\graphs\\lib\\site-packages\\ipykernel_launcher.py:56: RuntimeWarning: Mean of empty slice\n"
     ]
    },
    {
     "name": "stdout",
     "output_type": "stream",
     "text": [
      "process file  1004_Session_1_ET_2_data_interpolated.csv\n"
     ]
    },
    {
     "name": "stderr",
     "output_type": "stream",
     "text": [
      "D:\\Software\\Programme\\Anaconda3\\envs\\graphs\\lib\\site-packages\\numpy\\lib\\nanfunctions.py:1114: RuntimeWarning: All-NaN slice encountered\n",
      "  overwrite_input=overwrite_input)\n"
     ]
    },
    {
     "data": {
      "application/vnd.jupyter.widget-view+json": {
       "model_id": "4669c997351d475f9abb2da0c7d8f35c",
       "version_major": 2,
       "version_minor": 0
      },
      "text/plain": [
       "📄 0 of 39444 ⌚ timestamps from file 1004_Session_1_ET_2_data_interpolated.csv processed:            \n",
       "         …"
      ]
     },
     "metadata": {},
     "output_type": "display_data"
    },
    {
     "data": {
      "application/vnd.jupyter.widget-view+json": {
       "model_id": "96f78afa69e14afd9d03349788263260",
       "version_major": 2,
       "version_minor": 0
      },
      "text/plain": [
       "📄 0 of 39444 ⌚ timestamps from file 1004_Session_1_ET_2_data_interpolated.csv processed:            \n",
       "         …"
      ]
     },
     "metadata": {},
     "output_type": "display_data"
    },
    {
     "name": "stderr",
     "output_type": "stream",
     "text": [
      "D:\\Software\\Programme\\Anaconda3\\envs\\graphs\\lib\\site-packages\\ipykernel_launcher.py:48: RuntimeWarning: Mean of empty slice\n",
      "D:\\Software\\Programme\\Anaconda3\\envs\\graphs\\lib\\site-packages\\ipykernel_launcher.py:55: RuntimeWarning: Mean of empty slice\n",
      "D:\\Software\\Programme\\Anaconda3\\envs\\graphs\\lib\\site-packages\\ipykernel_launcher.py:49: RuntimeWarning: Mean of empty slice\n",
      "D:\\Software\\Programme\\Anaconda3\\envs\\graphs\\lib\\site-packages\\ipykernel_launcher.py:56: RuntimeWarning: Mean of empty slice\n"
     ]
    },
    {
     "name": "stdout",
     "output_type": "stream",
     "text": [
      "process file  1004_Session_1_ET_3_data_interpolated.csv\n"
     ]
    },
    {
     "name": "stderr",
     "output_type": "stream",
     "text": [
      "D:\\Software\\Programme\\Anaconda3\\envs\\graphs\\lib\\site-packages\\numpy\\lib\\nanfunctions.py:1114: RuntimeWarning: All-NaN slice encountered\n",
      "  overwrite_input=overwrite_input)\n"
     ]
    },
    {
     "data": {
      "application/vnd.jupyter.widget-view+json": {
       "model_id": "b42cbd71ad2c41d08c353dbd7adcc98a",
       "version_major": 2,
       "version_minor": 0
      },
      "text/plain": [
       "📄 0 of 38113 ⌚ timestamps from file 1004_Session_1_ET_3_data_interpolated.csv processed:            \n",
       "         …"
      ]
     },
     "metadata": {},
     "output_type": "display_data"
    },
    {
     "data": {
      "application/vnd.jupyter.widget-view+json": {
       "model_id": "5a0c0ddf2e9e476292b88a1ee79976c2",
       "version_major": 2,
       "version_minor": 0
      },
      "text/plain": [
       "📄 0 of 38113 ⌚ timestamps from file 1004_Session_1_ET_3_data_interpolated.csv processed:            \n",
       "         …"
      ]
     },
     "metadata": {},
     "output_type": "display_data"
    },
    {
     "name": "stderr",
     "output_type": "stream",
     "text": [
      "D:\\Software\\Programme\\Anaconda3\\envs\\graphs\\lib\\site-packages\\ipykernel_launcher.py:48: RuntimeWarning: Mean of empty slice\n",
      "D:\\Software\\Programme\\Anaconda3\\envs\\graphs\\lib\\site-packages\\ipykernel_launcher.py:55: RuntimeWarning: Mean of empty slice\n",
      "D:\\Software\\Programme\\Anaconda3\\envs\\graphs\\lib\\site-packages\\ipykernel_launcher.py:49: RuntimeWarning: Mean of empty slice\n",
      "D:\\Software\\Programme\\Anaconda3\\envs\\graphs\\lib\\site-packages\\ipykernel_launcher.py:56: RuntimeWarning: Mean of empty slice\n"
     ]
    },
    {
     "data": {
      "application/vnd.jupyter.widget-view+json": {
       "model_id": "65e924e5b6de49dbae20d7a3f90aa9bf",
       "version_major": 2,
       "version_minor": 0
      },
      "text/plain": [
       "📄 0 of 3 📂 ET files____________ processed:            \n",
       "              0% ⏱️00:00 ⏳? ⚙️?it/s"
      ]
     },
     "metadata": {},
     "output_type": "display_data"
    },
    {
     "name": "stdout",
     "output_type": "stream",
     "text": [
      "process file  1004_Session_2_ET_1_data_interpolated.csv\n"
     ]
    },
    {
     "name": "stderr",
     "output_type": "stream",
     "text": [
      "D:\\Software\\Programme\\Anaconda3\\envs\\graphs\\lib\\site-packages\\numpy\\lib\\nanfunctions.py:1114: RuntimeWarning: All-NaN slice encountered\n",
      "  overwrite_input=overwrite_input)\n"
     ]
    },
    {
     "data": {
      "application/vnd.jupyter.widget-view+json": {
       "model_id": "c07793ddd6b94798857f282178f21554",
       "version_major": 2,
       "version_minor": 0
      },
      "text/plain": [
       "📄 0 of 39088 ⌚ timestamps from file 1004_Session_2_ET_1_data_interpolated.csv processed:            \n",
       "         …"
      ]
     },
     "metadata": {},
     "output_type": "display_data"
    },
    {
     "data": {
      "application/vnd.jupyter.widget-view+json": {
       "model_id": "b866668b344e4af9a02604e0ec7181ae",
       "version_major": 2,
       "version_minor": 0
      },
      "text/plain": [
       "📄 0 of 39088 ⌚ timestamps from file 1004_Session_2_ET_1_data_interpolated.csv processed:            \n",
       "         …"
      ]
     },
     "metadata": {},
     "output_type": "display_data"
    },
    {
     "name": "stderr",
     "output_type": "stream",
     "text": [
      "D:\\Software\\Programme\\Anaconda3\\envs\\graphs\\lib\\site-packages\\ipykernel_launcher.py:48: RuntimeWarning: Mean of empty slice\n",
      "D:\\Software\\Programme\\Anaconda3\\envs\\graphs\\lib\\site-packages\\ipykernel_launcher.py:55: RuntimeWarning: Mean of empty slice\n",
      "D:\\Software\\Programme\\Anaconda3\\envs\\graphs\\lib\\site-packages\\ipykernel_launcher.py:49: RuntimeWarning: Mean of empty slice\n",
      "D:\\Software\\Programme\\Anaconda3\\envs\\graphs\\lib\\site-packages\\ipykernel_launcher.py:56: RuntimeWarning: Mean of empty slice\n"
     ]
    },
    {
     "name": "stdout",
     "output_type": "stream",
     "text": [
      "process file  1004_Session_2_ET_2_data_interpolated.csv\n"
     ]
    },
    {
     "name": "stderr",
     "output_type": "stream",
     "text": [
      "D:\\Software\\Programme\\Anaconda3\\envs\\graphs\\lib\\site-packages\\numpy\\lib\\nanfunctions.py:1114: RuntimeWarning: All-NaN slice encountered\n",
      "  overwrite_input=overwrite_input)\n"
     ]
    },
    {
     "data": {
      "application/vnd.jupyter.widget-view+json": {
       "model_id": "8b472b468d5140f1a2e5d73f4bf4b577",
       "version_major": 2,
       "version_minor": 0
      },
      "text/plain": [
       "📄 0 of 37992 ⌚ timestamps from file 1004_Session_2_ET_2_data_interpolated.csv processed:            \n",
       "         …"
      ]
     },
     "metadata": {},
     "output_type": "display_data"
    },
    {
     "data": {
      "application/vnd.jupyter.widget-view+json": {
       "model_id": "819a61b8bba546d6b96d61d5d2a15726",
       "version_major": 2,
       "version_minor": 0
      },
      "text/plain": [
       "📄 0 of 37992 ⌚ timestamps from file 1004_Session_2_ET_2_data_interpolated.csv processed:            \n",
       "         …"
      ]
     },
     "metadata": {},
     "output_type": "display_data"
    },
    {
     "name": "stderr",
     "output_type": "stream",
     "text": [
      "D:\\Software\\Programme\\Anaconda3\\envs\\graphs\\lib\\site-packages\\ipykernel_launcher.py:48: RuntimeWarning: Mean of empty slice\n",
      "D:\\Software\\Programme\\Anaconda3\\envs\\graphs\\lib\\site-packages\\ipykernel_launcher.py:55: RuntimeWarning: Mean of empty slice\n",
      "D:\\Software\\Programme\\Anaconda3\\envs\\graphs\\lib\\site-packages\\ipykernel_launcher.py:49: RuntimeWarning: Mean of empty slice\n",
      "D:\\Software\\Programme\\Anaconda3\\envs\\graphs\\lib\\site-packages\\ipykernel_launcher.py:56: RuntimeWarning: Mean of empty slice\n"
     ]
    },
    {
     "name": "stdout",
     "output_type": "stream",
     "text": [
      "process file  1004_Session_2_ET_3_data_interpolated.csv\n"
     ]
    },
    {
     "name": "stderr",
     "output_type": "stream",
     "text": [
      "D:\\Software\\Programme\\Anaconda3\\envs\\graphs\\lib\\site-packages\\numpy\\lib\\nanfunctions.py:1114: RuntimeWarning: All-NaN slice encountered\n",
      "  overwrite_input=overwrite_input)\n"
     ]
    },
    {
     "data": {
      "application/vnd.jupyter.widget-view+json": {
       "model_id": "b4d410de875e416f8aef03cad27299e8",
       "version_major": 2,
       "version_minor": 0
      },
      "text/plain": [
       "📄 0 of 38383 ⌚ timestamps from file 1004_Session_2_ET_3_data_interpolated.csv processed:            \n",
       "         …"
      ]
     },
     "metadata": {},
     "output_type": "display_data"
    },
    {
     "data": {
      "application/vnd.jupyter.widget-view+json": {
       "model_id": "fb3578ac3a3a47839bdf9f22e94e97cb",
       "version_major": 2,
       "version_minor": 0
      },
      "text/plain": [
       "📄 0 of 38383 ⌚ timestamps from file 1004_Session_2_ET_3_data_interpolated.csv processed:            \n",
       "         …"
      ]
     },
     "metadata": {},
     "output_type": "display_data"
    },
    {
     "name": "stderr",
     "output_type": "stream",
     "text": [
      "D:\\Software\\Programme\\Anaconda3\\envs\\graphs\\lib\\site-packages\\ipykernel_launcher.py:48: RuntimeWarning: Mean of empty slice\n",
      "D:\\Software\\Programme\\Anaconda3\\envs\\graphs\\lib\\site-packages\\ipykernel_launcher.py:55: RuntimeWarning: Mean of empty slice\n",
      "D:\\Software\\Programme\\Anaconda3\\envs\\graphs\\lib\\site-packages\\ipykernel_launcher.py:49: RuntimeWarning: Mean of empty slice\n",
      "D:\\Software\\Programme\\Anaconda3\\envs\\graphs\\lib\\site-packages\\ipykernel_launcher.py:56: RuntimeWarning: Mean of empty slice\n"
     ]
    },
    {
     "data": {
      "application/vnd.jupyter.widget-view+json": {
       "model_id": "f3986abac2c14ae49e6e3a2a2b3d3f16",
       "version_major": 2,
       "version_minor": 0
      },
      "text/plain": [
       "📄 0 of 3 📂 ET files____________ processed:            \n",
       "              0% ⏱️00:00 ⏳? ⚙️?it/s"
      ]
     },
     "metadata": {},
     "output_type": "display_data"
    },
    {
     "name": "stdout",
     "output_type": "stream",
     "text": [
      "process file  1004_Session_3_ET_1_data_interpolated.csv\n"
     ]
    },
    {
     "name": "stderr",
     "output_type": "stream",
     "text": [
      "D:\\Software\\Programme\\Anaconda3\\envs\\graphs\\lib\\site-packages\\numpy\\lib\\nanfunctions.py:1114: RuntimeWarning: All-NaN slice encountered\n",
      "  overwrite_input=overwrite_input)\n"
     ]
    },
    {
     "data": {
      "application/vnd.jupyter.widget-view+json": {
       "model_id": "5b3223c29d6a47a5ae55fee7ddbf0d38",
       "version_major": 2,
       "version_minor": 0
      },
      "text/plain": [
       "📄 0 of 38515 ⌚ timestamps from file 1004_Session_3_ET_1_data_interpolated.csv processed:            \n",
       "         …"
      ]
     },
     "metadata": {},
     "output_type": "display_data"
    },
    {
     "data": {
      "application/vnd.jupyter.widget-view+json": {
       "model_id": "29af6a33fab44b49831d73fd625b8ee2",
       "version_major": 2,
       "version_minor": 0
      },
      "text/plain": [
       "📄 0 of 38515 ⌚ timestamps from file 1004_Session_3_ET_1_data_interpolated.csv processed:            \n",
       "         …"
      ]
     },
     "metadata": {},
     "output_type": "display_data"
    },
    {
     "name": "stderr",
     "output_type": "stream",
     "text": [
      "D:\\Software\\Programme\\Anaconda3\\envs\\graphs\\lib\\site-packages\\ipykernel_launcher.py:48: RuntimeWarning: Mean of empty slice\n",
      "D:\\Software\\Programme\\Anaconda3\\envs\\graphs\\lib\\site-packages\\ipykernel_launcher.py:55: RuntimeWarning: Mean of empty slice\n",
      "D:\\Software\\Programme\\Anaconda3\\envs\\graphs\\lib\\site-packages\\ipykernel_launcher.py:49: RuntimeWarning: Mean of empty slice\n",
      "D:\\Software\\Programme\\Anaconda3\\envs\\graphs\\lib\\site-packages\\ipykernel_launcher.py:56: RuntimeWarning: Mean of empty slice\n"
     ]
    },
    {
     "name": "stdout",
     "output_type": "stream",
     "text": [
      "process file  1004_Session_3_ET_2_data_interpolated.csv\n"
     ]
    },
    {
     "name": "stderr",
     "output_type": "stream",
     "text": [
      "D:\\Software\\Programme\\Anaconda3\\envs\\graphs\\lib\\site-packages\\numpy\\lib\\nanfunctions.py:1114: RuntimeWarning: All-NaN slice encountered\n",
      "  overwrite_input=overwrite_input)\n"
     ]
    },
    {
     "data": {
      "application/vnd.jupyter.widget-view+json": {
       "model_id": "12f2b08f78ef47eebfbd5b7e87850f97",
       "version_major": 2,
       "version_minor": 0
      },
      "text/plain": [
       "📄 0 of 39152 ⌚ timestamps from file 1004_Session_3_ET_2_data_interpolated.csv processed:            \n",
       "         …"
      ]
     },
     "metadata": {},
     "output_type": "display_data"
    },
    {
     "data": {
      "application/vnd.jupyter.widget-view+json": {
       "model_id": "7f2bdcc6ae6a417884c1a9a94f417a77",
       "version_major": 2,
       "version_minor": 0
      },
      "text/plain": [
       "📄 0 of 39152 ⌚ timestamps from file 1004_Session_3_ET_2_data_interpolated.csv processed:            \n",
       "         …"
      ]
     },
     "metadata": {},
     "output_type": "display_data"
    },
    {
     "name": "stderr",
     "output_type": "stream",
     "text": [
      "D:\\Software\\Programme\\Anaconda3\\envs\\graphs\\lib\\site-packages\\ipykernel_launcher.py:48: RuntimeWarning: Mean of empty slice\n",
      "D:\\Software\\Programme\\Anaconda3\\envs\\graphs\\lib\\site-packages\\ipykernel_launcher.py:55: RuntimeWarning: Mean of empty slice\n",
      "D:\\Software\\Programme\\Anaconda3\\envs\\graphs\\lib\\site-packages\\ipykernel_launcher.py:49: RuntimeWarning: Mean of empty slice\n",
      "D:\\Software\\Programme\\Anaconda3\\envs\\graphs\\lib\\site-packages\\ipykernel_launcher.py:56: RuntimeWarning: Mean of empty slice\n"
     ]
    },
    {
     "name": "stdout",
     "output_type": "stream",
     "text": [
      "process file  1004_Session_3_ET_3_data_interpolated.csv\n"
     ]
    },
    {
     "name": "stderr",
     "output_type": "stream",
     "text": [
      "D:\\Software\\Programme\\Anaconda3\\envs\\graphs\\lib\\site-packages\\numpy\\lib\\nanfunctions.py:1114: RuntimeWarning: All-NaN slice encountered\n",
      "  overwrite_input=overwrite_input)\n"
     ]
    },
    {
     "data": {
      "application/vnd.jupyter.widget-view+json": {
       "model_id": "25dae0b1435549d89e1ff1bcf1fd20d6",
       "version_major": 2,
       "version_minor": 0
      },
      "text/plain": [
       "📄 0 of 38648 ⌚ timestamps from file 1004_Session_3_ET_3_data_interpolated.csv processed:            \n",
       "         …"
      ]
     },
     "metadata": {},
     "output_type": "display_data"
    },
    {
     "data": {
      "application/vnd.jupyter.widget-view+json": {
       "model_id": "ff4db36480bd42a8ba552494f2f6ce40",
       "version_major": 2,
       "version_minor": 0
      },
      "text/plain": [
       "📄 0 of 38648 ⌚ timestamps from file 1004_Session_3_ET_3_data_interpolated.csv processed:            \n",
       "         …"
      ]
     },
     "metadata": {},
     "output_type": "display_data"
    },
    {
     "name": "stderr",
     "output_type": "stream",
     "text": [
      "D:\\Software\\Programme\\Anaconda3\\envs\\graphs\\lib\\site-packages\\ipykernel_launcher.py:48: RuntimeWarning: Mean of empty slice\n",
      "D:\\Software\\Programme\\Anaconda3\\envs\\graphs\\lib\\site-packages\\ipykernel_launcher.py:55: RuntimeWarning: Mean of empty slice\n",
      "D:\\Software\\Programme\\Anaconda3\\envs\\graphs\\lib\\site-packages\\ipykernel_launcher.py:49: RuntimeWarning: Mean of empty slice\n",
      "D:\\Software\\Programme\\Anaconda3\\envs\\graphs\\lib\\site-packages\\ipykernel_launcher.py:56: RuntimeWarning: Mean of empty slice\n"
     ]
    },
    {
     "data": {
      "application/vnd.jupyter.widget-view+json": {
       "model_id": "a045b75c52154bd9abdd60eeecf6bf17",
       "version_major": 2,
       "version_minor": 0
      },
      "text/plain": [
       "📄 0 of 3 📂 ET files____________ processed:            \n",
       "              0% ⏱️00:00 ⏳? ⚙️?it/s"
      ]
     },
     "metadata": {},
     "output_type": "display_data"
    },
    {
     "name": "stdout",
     "output_type": "stream",
     "text": [
      "process file  1004_Session_4_ET_1_data_interpolated.csv\n"
     ]
    },
    {
     "name": "stderr",
     "output_type": "stream",
     "text": [
      "D:\\Software\\Programme\\Anaconda3\\envs\\graphs\\lib\\site-packages\\numpy\\lib\\nanfunctions.py:1114: RuntimeWarning: All-NaN slice encountered\n",
      "  overwrite_input=overwrite_input)\n"
     ]
    },
    {
     "data": {
      "application/vnd.jupyter.widget-view+json": {
       "model_id": "30e9b22220414a318a3c531e0d184496",
       "version_major": 2,
       "version_minor": 0
      },
      "text/plain": [
       "📄 0 of 38747 ⌚ timestamps from file 1004_Session_4_ET_1_data_interpolated.csv processed:            \n",
       "         …"
      ]
     },
     "metadata": {},
     "output_type": "display_data"
    },
    {
     "data": {
      "application/vnd.jupyter.widget-view+json": {
       "model_id": "27a92a3dff4d46dba6d36cdf13b361b6",
       "version_major": 2,
       "version_minor": 0
      },
      "text/plain": [
       "📄 0 of 38747 ⌚ timestamps from file 1004_Session_4_ET_1_data_interpolated.csv processed:            \n",
       "         …"
      ]
     },
     "metadata": {},
     "output_type": "display_data"
    },
    {
     "name": "stderr",
     "output_type": "stream",
     "text": [
      "D:\\Software\\Programme\\Anaconda3\\envs\\graphs\\lib\\site-packages\\ipykernel_launcher.py:48: RuntimeWarning: Mean of empty slice\n",
      "D:\\Software\\Programme\\Anaconda3\\envs\\graphs\\lib\\site-packages\\ipykernel_launcher.py:55: RuntimeWarning: Mean of empty slice\n",
      "D:\\Software\\Programme\\Anaconda3\\envs\\graphs\\lib\\site-packages\\ipykernel_launcher.py:49: RuntimeWarning: Mean of empty slice\n",
      "D:\\Software\\Programme\\Anaconda3\\envs\\graphs\\lib\\site-packages\\ipykernel_launcher.py:56: RuntimeWarning: Mean of empty slice\n"
     ]
    },
    {
     "name": "stdout",
     "output_type": "stream",
     "text": [
      "process file  1004_Session_4_ET_2_data_interpolated.csv\n"
     ]
    },
    {
     "name": "stderr",
     "output_type": "stream",
     "text": [
      "D:\\Software\\Programme\\Anaconda3\\envs\\graphs\\lib\\site-packages\\numpy\\lib\\nanfunctions.py:1114: RuntimeWarning: All-NaN slice encountered\n",
      "  overwrite_input=overwrite_input)\n"
     ]
    },
    {
     "data": {
      "application/vnd.jupyter.widget-view+json": {
       "model_id": "62774fb852784695aaf194eb5b4eece9",
       "version_major": 2,
       "version_minor": 0
      },
      "text/plain": [
       "📄 0 of 38679 ⌚ timestamps from file 1004_Session_4_ET_2_data_interpolated.csv processed:            \n",
       "         …"
      ]
     },
     "metadata": {},
     "output_type": "display_data"
    },
    {
     "data": {
      "application/vnd.jupyter.widget-view+json": {
       "model_id": "41d97d5a0ee34cfd8b4c7d63b67eec81",
       "version_major": 2,
       "version_minor": 0
      },
      "text/plain": [
       "📄 0 of 38679 ⌚ timestamps from file 1004_Session_4_ET_2_data_interpolated.csv processed:            \n",
       "         …"
      ]
     },
     "metadata": {},
     "output_type": "display_data"
    },
    {
     "name": "stderr",
     "output_type": "stream",
     "text": [
      "D:\\Software\\Programme\\Anaconda3\\envs\\graphs\\lib\\site-packages\\ipykernel_launcher.py:48: RuntimeWarning: Mean of empty slice\n",
      "D:\\Software\\Programme\\Anaconda3\\envs\\graphs\\lib\\site-packages\\ipykernel_launcher.py:55: RuntimeWarning: Mean of empty slice\n",
      "D:\\Software\\Programme\\Anaconda3\\envs\\graphs\\lib\\site-packages\\ipykernel_launcher.py:49: RuntimeWarning: Mean of empty slice\n",
      "D:\\Software\\Programme\\Anaconda3\\envs\\graphs\\lib\\site-packages\\ipykernel_launcher.py:56: RuntimeWarning: Mean of empty slice\n"
     ]
    },
    {
     "name": "stdout",
     "output_type": "stream",
     "text": [
      "process file  1004_Session_4_ET_3_data_interpolated.csv\n"
     ]
    },
    {
     "name": "stderr",
     "output_type": "stream",
     "text": [
      "D:\\Software\\Programme\\Anaconda3\\envs\\graphs\\lib\\site-packages\\numpy\\lib\\nanfunctions.py:1114: RuntimeWarning: All-NaN slice encountered\n",
      "  overwrite_input=overwrite_input)\n"
     ]
    },
    {
     "data": {
      "application/vnd.jupyter.widget-view+json": {
       "model_id": "8acaf702b1b04c9b87fc99d261674384",
       "version_major": 2,
       "version_minor": 0
      },
      "text/plain": [
       "📄 0 of 38814 ⌚ timestamps from file 1004_Session_4_ET_3_data_interpolated.csv processed:            \n",
       "         …"
      ]
     },
     "metadata": {},
     "output_type": "display_data"
    },
    {
     "data": {
      "application/vnd.jupyter.widget-view+json": {
       "model_id": "29e20e5e544c4c9e8a6337a53cdf35b0",
       "version_major": 2,
       "version_minor": 0
      },
      "text/plain": [
       "📄 0 of 38814 ⌚ timestamps from file 1004_Session_4_ET_3_data_interpolated.csv processed:            \n",
       "         …"
      ]
     },
     "metadata": {},
     "output_type": "display_data"
    },
    {
     "name": "stderr",
     "output_type": "stream",
     "text": [
      "D:\\Software\\Programme\\Anaconda3\\envs\\graphs\\lib\\site-packages\\ipykernel_launcher.py:48: RuntimeWarning: Mean of empty slice\n",
      "D:\\Software\\Programme\\Anaconda3\\envs\\graphs\\lib\\site-packages\\ipykernel_launcher.py:55: RuntimeWarning: Mean of empty slice\n",
      "D:\\Software\\Programme\\Anaconda3\\envs\\graphs\\lib\\site-packages\\ipykernel_launcher.py:49: RuntimeWarning: Mean of empty slice\n",
      "D:\\Software\\Programme\\Anaconda3\\envs\\graphs\\lib\\site-packages\\ipykernel_launcher.py:56: RuntimeWarning: Mean of empty slice\n"
     ]
    },
    {
     "data": {
      "application/vnd.jupyter.widget-view+json": {
       "model_id": "836ef68576cb4bf3808fca7f1e44ad8a",
       "version_major": 2,
       "version_minor": 0
      },
      "text/plain": [
       "📄 0 of 3 📂 ET files____________ processed:            \n",
       "              0% ⏱️00:00 ⏳? ⚙️?it/s"
      ]
     },
     "metadata": {},
     "output_type": "display_data"
    },
    {
     "name": "stdout",
     "output_type": "stream",
     "text": [
      "process file  1004_Session_5_ET_1_data_interpolated.csv\n"
     ]
    },
    {
     "name": "stderr",
     "output_type": "stream",
     "text": [
      "D:\\Software\\Programme\\Anaconda3\\envs\\graphs\\lib\\site-packages\\numpy\\lib\\nanfunctions.py:1114: RuntimeWarning: All-NaN slice encountered\n",
      "  overwrite_input=overwrite_input)\n"
     ]
    },
    {
     "data": {
      "application/vnd.jupyter.widget-view+json": {
       "model_id": "233438d0c0df4e5592867a445fb570a1",
       "version_major": 2,
       "version_minor": 0
      },
      "text/plain": [
       "📄 0 of 38582 ⌚ timestamps from file 1004_Session_5_ET_1_data_interpolated.csv processed:            \n",
       "         …"
      ]
     },
     "metadata": {},
     "output_type": "display_data"
    },
    {
     "data": {
      "application/vnd.jupyter.widget-view+json": {
       "model_id": "7424f5e04ff14fc6a860f139d558efba",
       "version_major": 2,
       "version_minor": 0
      },
      "text/plain": [
       "📄 0 of 38582 ⌚ timestamps from file 1004_Session_5_ET_1_data_interpolated.csv processed:            \n",
       "         …"
      ]
     },
     "metadata": {},
     "output_type": "display_data"
    },
    {
     "name": "stderr",
     "output_type": "stream",
     "text": [
      "D:\\Software\\Programme\\Anaconda3\\envs\\graphs\\lib\\site-packages\\ipykernel_launcher.py:48: RuntimeWarning: Mean of empty slice\n",
      "D:\\Software\\Programme\\Anaconda3\\envs\\graphs\\lib\\site-packages\\ipykernel_launcher.py:55: RuntimeWarning: Mean of empty slice\n",
      "D:\\Software\\Programme\\Anaconda3\\envs\\graphs\\lib\\site-packages\\ipykernel_launcher.py:49: RuntimeWarning: Mean of empty slice\n",
      "D:\\Software\\Programme\\Anaconda3\\envs\\graphs\\lib\\site-packages\\ipykernel_launcher.py:56: RuntimeWarning: Mean of empty slice\n"
     ]
    },
    {
     "name": "stdout",
     "output_type": "stream",
     "text": [
      "process file  1004_Session_5_ET_2_data_interpolated.csv\n"
     ]
    },
    {
     "name": "stderr",
     "output_type": "stream",
     "text": [
      "D:\\Software\\Programme\\Anaconda3\\envs\\graphs\\lib\\site-packages\\numpy\\lib\\nanfunctions.py:1114: RuntimeWarning: All-NaN slice encountered\n",
      "  overwrite_input=overwrite_input)\n"
     ]
    },
    {
     "data": {
      "application/vnd.jupyter.widget-view+json": {
       "model_id": "348b0a7f3f8447bbb2ff9507a6a223c9",
       "version_major": 2,
       "version_minor": 0
      },
      "text/plain": [
       "📄 0 of 38392 ⌚ timestamps from file 1004_Session_5_ET_2_data_interpolated.csv processed:            \n",
       "         …"
      ]
     },
     "metadata": {},
     "output_type": "display_data"
    },
    {
     "data": {
      "application/vnd.jupyter.widget-view+json": {
       "model_id": "b4359172857c40a193dc3eafc9e30ab4",
       "version_major": 2,
       "version_minor": 0
      },
      "text/plain": [
       "📄 0 of 38392 ⌚ timestamps from file 1004_Session_5_ET_2_data_interpolated.csv processed:            \n",
       "         …"
      ]
     },
     "metadata": {},
     "output_type": "display_data"
    },
    {
     "name": "stderr",
     "output_type": "stream",
     "text": [
      "D:\\Software\\Programme\\Anaconda3\\envs\\graphs\\lib\\site-packages\\ipykernel_launcher.py:48: RuntimeWarning: Mean of empty slice\n",
      "D:\\Software\\Programme\\Anaconda3\\envs\\graphs\\lib\\site-packages\\ipykernel_launcher.py:55: RuntimeWarning: Mean of empty slice\n",
      "D:\\Software\\Programme\\Anaconda3\\envs\\graphs\\lib\\site-packages\\ipykernel_launcher.py:49: RuntimeWarning: Mean of empty slice\n",
      "D:\\Software\\Programme\\Anaconda3\\envs\\graphs\\lib\\site-packages\\ipykernel_launcher.py:56: RuntimeWarning: Mean of empty slice\n"
     ]
    },
    {
     "name": "stdout",
     "output_type": "stream",
     "text": [
      "process file  1004_Session_5_ET_3_data_interpolated.csv\n"
     ]
    },
    {
     "name": "stderr",
     "output_type": "stream",
     "text": [
      "D:\\Software\\Programme\\Anaconda3\\envs\\graphs\\lib\\site-packages\\numpy\\lib\\nanfunctions.py:1114: RuntimeWarning: All-NaN slice encountered\n",
      "  overwrite_input=overwrite_input)\n"
     ]
    },
    {
     "data": {
      "application/vnd.jupyter.widget-view+json": {
       "model_id": "808de05fe7b743729b4a1dd709569548",
       "version_major": 2,
       "version_minor": 0
      },
      "text/plain": [
       "📄 0 of 38430 ⌚ timestamps from file 1004_Session_5_ET_3_data_interpolated.csv processed:            \n",
       "         …"
      ]
     },
     "metadata": {},
     "output_type": "display_data"
    },
    {
     "data": {
      "application/vnd.jupyter.widget-view+json": {
       "model_id": "c668bf681758450b926c781f32278e69",
       "version_major": 2,
       "version_minor": 0
      },
      "text/plain": [
       "📄 0 of 38430 ⌚ timestamps from file 1004_Session_5_ET_3_data_interpolated.csv processed:            \n",
       "         …"
      ]
     },
     "metadata": {},
     "output_type": "display_data"
    },
    {
     "name": "stderr",
     "output_type": "stream",
     "text": [
      "D:\\Software\\Programme\\Anaconda3\\envs\\graphs\\lib\\site-packages\\ipykernel_launcher.py:48: RuntimeWarning: Mean of empty slice\n",
      "D:\\Software\\Programme\\Anaconda3\\envs\\graphs\\lib\\site-packages\\ipykernel_launcher.py:55: RuntimeWarning: Mean of empty slice\n",
      "D:\\Software\\Programme\\Anaconda3\\envs\\graphs\\lib\\site-packages\\ipykernel_launcher.py:49: RuntimeWarning: Mean of empty slice\n",
      "D:\\Software\\Programme\\Anaconda3\\envs\\graphs\\lib\\site-packages\\ipykernel_launcher.py:56: RuntimeWarning: Mean of empty slice\n"
     ]
    },
    {
     "name": "stdout",
     "output_type": "stream",
     "text": [
      "All files were found\n"
     ]
    }
   ],
   "source": [
    "print('start')\n",
    "# useful overviews\n",
    "noFilePartList = [len(PartList)]\n",
    "missingFiles = pd.DataFrame(columns=['Participant', 'Session'])\n",
    "\n",
    "\n",
    "\n",
    "# loop code over all participants in participant list\n",
    "parts_pbar = tqdm(\n",
    "    iterable=PartList,\n",
    "    total=len(PartList),\n",
    "    desc=\"participants\",\n",
    "    dynamic_ncols=True,\n",
    "    bar_format=B_FORMAT,\n",
    ")\n",
    "\n",
    "for indexPart, currentPart in enumerate(parts_pbar):\n",
    "#     currentPart = PartList[indexPart]\n",
    "    print(f'Participant {indexPart} - participant ID {currentPart}')\n",
    "    \n",
    "    sessions = list(range(1,6))\n",
    "#     sessions = list(range(2,3))\n",
    "    \n",
    "    session_pbar = tqdm(\n",
    "        iterable=sessions,\n",
    "        total=len(sessions),\n",
    "        desc=\"sessions________\",\n",
    "        dynamic_ncols=True,\n",
    "        bar_format=B_FORMAT,\n",
    "    )\n",
    "    \n",
    "    \n",
    "    # loop over recording sessions (should be 5 for each participant)\n",
    "#     for indexSess in range(1, 6):\n",
    "#     for indexSess in range(1, 2):\n",
    "    for indexSess in session_pbar:\n",
    "\n",
    "        # get all eye tracking sessions and loop over them (amount of ET files can vary)\n",
    "        fileNames = [f for f in os.listdir(data_savepath_interpolated) if f.startswith(f'{currentPart}_Session_{indexSess}') and f.endswith('_data_interpolated.csv')]\n",
    "#         print(dirSess)\n",
    "#         print(f'Session {indexSess}')\n",
    "        \n",
    "        if len(fileNames)< 3:\n",
    "            hMF = pd.DataFrame({'Participant': [currentPart], 'Session': [indexSess], 'onlyExistingFilesInSession': [fileNames]})\n",
    "            missingFiles = pd.concat([missingFiles, hMF], ignore_index=True)\n",
    "            \n",
    "\n",
    "        # runs if files exist\n",
    "\n",
    "############ Main part starts here ######################################################################################\n",
    "        # To use it for later!!!\n",
    "        # based on remodnav --> has almost the same length as our filter\n",
    "\n",
    "        # files progress bar\n",
    "        file_pbar = tqdm(\n",
    "            iterable=fileNames,\n",
    "            total=len(fileNames),\n",
    "            desc=\"📂 ET files____________\",\n",
    "            dynamic_ncols=True,\n",
    "            bar_format=B_FORMAT,\n",
    "        )\n",
    "\n",
    "\n",
    "\n",
    "            # loop necessary for displaying properly the progressbar with multiprocessing\n",
    "            # source: https://stackoverflow.com/a/40133278\n",
    "\n",
    "#             info_list = []\n",
    "\n",
    "        for file in file_pbar:\n",
    "\n",
    "            print('process file ', file)\n",
    "\n",
    "            # read in data\n",
    "            data = pd.read_csv(os.path.join(data_savepath_interpolated, file))\n",
    "\n",
    "\n",
    "            # apply the smooth coordinate processing step to data\n",
    "            data = smooth_coordinates(file, data)\n",
    "\n",
    "            # do the velocity calculation\n",
    "            data = velocity_calc(file, data)\n",
    "\n",
    "            # cut off max velocity threshold\n",
    "            data = max_vel_threshold(file, data)\n",
    "\n",
    "            # apply Savitzky Golay filter\n",
    "            data = savitzky_golay(file, data)\n",
    "\n",
    "            # calculate the segmentation interval\n",
    "            data, int_data = calc_mad_wobig_interval(file, data)\n",
    "\n",
    "            # calculate the MAD saccade\n",
    "            data, int_data = mad_saccade(file, data, int_data)\n",
    "\n",
    "            # add the threshold to the data df\n",
    "            data, int_data = add_threshold(file, data, int_data)\n",
    "\n",
    "            # define fixations\n",
    "            data, int_data = define_fixations(file,data,int_data)\n",
    "\n",
    "            # correct small events\n",
    "            data = correct_small_events(file, data)\n",
    "\n",
    "            # Correct is an event is too small.\n",
    "            data = get_events_len_dist(file, data)\n",
    "\n",
    "            # adjust the distances\n",
    "            data = adjust_distance(file, data)\n",
    "\n",
    "            # adjust the distances for NH variables\n",
    "            data = adjust_distance_NH(file, data)\n",
    "\n",
    "\n",
    "            del data             \n",
    "\n",
    "\n",
    "\n",
    "if len(missingFiles)>0:\n",
    "    \n",
    "    print(\"missing files detected\")\n",
    "    print(missingFiles)\n",
    "    \n",
    "else:\n",
    "    print(\"All files were found\")\n"
   ]
  },
  {
   "cell_type": "code",
   "execution_count": 227,
   "id": "10e183bd",
   "metadata": {},
   "outputs": [
    {
     "name": "stderr",
     "output_type": "stream",
     "text": [
      "D:\\Software\\Programme\\Anaconda3\\envs\\graphs\\lib\\site-packages\\numpy\\lib\\nanfunctions.py:1114: RuntimeWarning: All-NaN slice encountered\n",
      "  overwrite_input=overwrite_input)\n"
     ]
    }
   ],
   "source": [
    "# # test code\n",
    "# # read in data\n",
    "# # file= \"1005_Session_1_ET_1_data_interpolated.csv\"\n",
    "# file= \"1004_Session_1_ET_1_data_interpolated.csv\"\n",
    "\n",
    "# dataUnfilt = pd.read_csv(os.path.join(data_savepath_interpolated, file))\n",
    "\n",
    "# dataUnfilt = velocity_calc(file, dataUnfilt)\n",
    "\n",
    "#  ###### drop rows test#################\n",
    "# # data = droppRows(file, data)\n",
    "\n",
    "# data = pd.read_csv(os.path.join(data_savepath_interpolated, file))\n",
    "\n",
    "#  # apply the smooth coordinate processing step to data\n",
    "# data = smooth_coordinates(file, data)\n",
    "\n",
    "# # do the velocity calculation\n",
    "# data = velocity_calc(file, data)\n",
    "\n",
    "# # cut off max velocity threshold\n",
    "# data = max_vel_threshold(file, data)\n",
    "\n",
    "# # apply Savitzky Golay filter\n",
    "# data = savitzky_golay(file, data)\n",
    "\n",
    "\n",
    "\n",
    "# # # # calculate the segmentation interval\n",
    "# # data, int_data = calc_mad_wobig_interval(file, data)\n",
    "\n",
    "# # # data, int_data = ten_sec_interval(file, data)\n",
    "\n",
    "# # # # calculate the MAD saccade\n",
    "# # data, int_data = mad_saccade(file, data, int_data)\n",
    "\n",
    "# # # # add the threshold to the data df\n",
    "# # data, int_data = add_threshold(file, data, int_data)\n",
    "\n",
    "# # # # define fixations\n",
    "# # data, int_data = define_fixations(file,data,int_data)\n",
    "\n",
    "# # # correct small events\n",
    "# # data = correct_small_events(file, data)\n",
    "\n",
    "# # # Correct is an event is too small.\n",
    "# # data = get_events_len_dist(file, data)\n",
    "\n",
    "# # data = adjust_distance(file, data)\n",
    "\n",
    "# # data = adjust_distance_NH(file, data)\n",
    "\n",
    "\n"
   ]
  },
  {
   "cell_type": "code",
   "execution_count": 77,
   "id": "06ebf4e3",
   "metadata": {},
   "outputs": [],
   "source": [
    "# pd.set_option('display.max_columns', None)\n",
    "\n",
    "# # # Assuming 'data' is your DataFrame\n",
    "# data_head = data.head(10)\n",
    "\n",
    "# # Display head horizontally\n",
    "# with pd.option_context('display.max_rows', None, 'display.width', 1000):\n",
    "#     display(data_head)\n",
    "# #     display(data.iloc[100:170])"
   ]
  },
  {
   "cell_type": "code",
   "execution_count": 78,
   "id": "ff89ab73",
   "metadata": {},
   "outputs": [],
   "source": [
    "# fileDS = \"1004_Session_1_ET_1_interval_mad_wobig.csv\"\n",
    "# fileNS = \"1004_Session_5_ET_1_interval_mad_wobig.csv\"\n",
    "\n",
    "# intervalDS = pd.read_csv(os.path.join(data_savepath_intervals, fileDS))\n",
    "# intervalNS = pd.read_csv(os.path.join(data_savepath_intervals, fileNS))\n",
    "\n",
    "# fileDS2 = '1004_Session_1_ET_1_data_correTS_mad_wobig.csv'\n",
    "# dataDS = pd.read_csv(os.path.join(data_savepath_intermediateP, fileDS2))  \n",
    "\n",
    "# goodData = pd.read_csv('E:/WestbrookProject/DebbiesData//correTS_mad_wobig_70656182-09b3-4c19-9ae2-0a2ab2e19fed.csv')"
   ]
  },
  {
   "cell_type": "code",
   "execution_count": 80,
   "id": "995c5843",
   "metadata": {},
   "outputs": [],
   "source": [
    "# intervalDS.head(10)"
   ]
  },
  {
   "cell_type": "code",
   "execution_count": 138,
   "id": "963ec394",
   "metadata": {},
   "outputs": [
    {
     "data": {
      "text/html": [
       "<div>\n",
       "<style scoped>\n",
       "    .dataframe tbody tr th:only-of-type {\n",
       "        vertical-align: middle;\n",
       "    }\n",
       "\n",
       "    .dataframe tbody tr th {\n",
       "        vertical-align: top;\n",
       "    }\n",
       "\n",
       "    .dataframe thead th {\n",
       "        text-align: right;\n",
       "    }\n",
       "</style>\n",
       "<table border=\"1\" class=\"dataframe\">\n",
       "  <thead>\n",
       "    <tr style=\"text-align: right;\">\n",
       "      <th></th>\n",
       "      <th>index</th>\n",
       "      <th>start</th>\n",
       "      <th>end</th>\n",
       "      <th>start_idx</th>\n",
       "      <th>end_idx</th>\n",
       "      <th>total_vels</th>\n",
       "      <th>thresh</th>\n",
       "    </tr>\n",
       "  </thead>\n",
       "  <tbody>\n",
       "    <tr>\n",
       "      <th>0</th>\n",
       "      <td>0</td>\n",
       "      <td>0.00000</td>\n",
       "      <td>0.08631</td>\n",
       "      <td>0</td>\n",
       "      <td>9</td>\n",
       "      <td>60.046091</td>\n",
       "      <td>1.352072e+01</td>\n",
       "    </tr>\n",
       "    <tr>\n",
       "      <th>1</th>\n",
       "      <td>28</td>\n",
       "      <td>0.09722</td>\n",
       "      <td>0.86701</td>\n",
       "      <td>11</td>\n",
       "      <td>99</td>\n",
       "      <td>2245.980228</td>\n",
       "      <td>9.114586e-15</td>\n",
       "    </tr>\n",
       "    <tr>\n",
       "      <th>2</th>\n",
       "      <td>35</td>\n",
       "      <td>0.94488</td>\n",
       "      <td>1.12245</td>\n",
       "      <td>107</td>\n",
       "      <td>125</td>\n",
       "      <td>972.642616</td>\n",
       "      <td>1.008828e-14</td>\n",
       "    </tr>\n",
       "    <tr>\n",
       "      <th>3</th>\n",
       "      <td>57</td>\n",
       "      <td>1.17800</td>\n",
       "      <td>1.63382</td>\n",
       "      <td>132</td>\n",
       "      <td>180</td>\n",
       "      <td>2000.704320</td>\n",
       "      <td>4.831535e-15</td>\n",
       "    </tr>\n",
       "    <tr>\n",
       "      <th>4</th>\n",
       "      <td>63</td>\n",
       "      <td>1.71418</td>\n",
       "      <td>1.85554</td>\n",
       "      <td>190</td>\n",
       "      <td>207</td>\n",
       "      <td>1798.296674</td>\n",
       "      <td>1.010846e-14</td>\n",
       "    </tr>\n",
       "    <tr>\n",
       "      <th>5</th>\n",
       "      <td>71</td>\n",
       "      <td>1.97805</td>\n",
       "      <td>2.17793</td>\n",
       "      <td>220</td>\n",
       "      <td>242</td>\n",
       "      <td>778.800046</td>\n",
       "      <td>1.037508e-14</td>\n",
       "    </tr>\n",
       "    <tr>\n",
       "      <th>6</th>\n",
       "      <td>81</td>\n",
       "      <td>2.21117</td>\n",
       "      <td>2.48843</td>\n",
       "      <td>246</td>\n",
       "      <td>277</td>\n",
       "      <td>1899.680295</td>\n",
       "      <td>6.104495e-15</td>\n",
       "    </tr>\n",
       "    <tr>\n",
       "      <th>7</th>\n",
       "      <td>83</td>\n",
       "      <td>2.63773</td>\n",
       "      <td>2.68038</td>\n",
       "      <td>295</td>\n",
       "      <td>299</td>\n",
       "      <td>1377.300049</td>\n",
       "      <td>5.780310e-15</td>\n",
       "    </tr>\n",
       "    <tr>\n",
       "      <th>8</th>\n",
       "      <td>100</td>\n",
       "      <td>2.73643</td>\n",
       "      <td>3.14315</td>\n",
       "      <td>306</td>\n",
       "      <td>351</td>\n",
       "      <td>8376.759518</td>\n",
       "      <td>8.864943e-15</td>\n",
       "    </tr>\n",
       "    <tr>\n",
       "      <th>9</th>\n",
       "      <td>105</td>\n",
       "      <td>3.36784</td>\n",
       "      <td>3.55433</td>\n",
       "      <td>375</td>\n",
       "      <td>394</td>\n",
       "      <td>907.009969</td>\n",
       "      <td>2.306137e-14</td>\n",
       "    </tr>\n",
       "  </tbody>\n",
       "</table>\n",
       "</div>"
      ],
      "text/plain": [
       "   index    start      end  start_idx  end_idx   total_vels        thresh\n",
       "0      0  0.00000  0.08631          0        9    60.046091  1.352072e+01\n",
       "1     28  0.09722  0.86701         11       99  2245.980228  9.114586e-15\n",
       "2     35  0.94488  1.12245        107      125   972.642616  1.008828e-14\n",
       "3     57  1.17800  1.63382        132      180  2000.704320  4.831535e-15\n",
       "4     63  1.71418  1.85554        190      207  1798.296674  1.010846e-14\n",
       "5     71  1.97805  2.17793        220      242   778.800046  1.037508e-14\n",
       "6     81  2.21117  2.48843        246      277  1899.680295  6.104495e-15\n",
       "7     83  2.63773  2.68038        295      299  1377.300049  5.780310e-15\n",
       "8    100  2.73643  3.14315        306      351  8376.759518  8.864943e-15\n",
       "9    105  3.36784  3.55433        375      394   907.009969  2.306137e-14"
      ]
     },
     "execution_count": 138,
     "metadata": {},
     "output_type": "execute_result"
    }
   ],
   "source": [
    "# int_data.head(10)"
   ]
  },
  {
   "cell_type": "code",
   "execution_count": 81,
   "id": "f6089afd",
   "metadata": {},
   "outputs": [],
   "source": [
    "# variable_name = 'eyePositionCombinedWorld_x'\n",
    "# differences = data[variable_name] != dataUnfilt[variable_name]\n",
    "# num_differences = differences.sum()\n",
    "# print(num_differences)"
   ]
  },
  {
   "cell_type": "code",
   "execution_count": 82,
   "id": "462e3282",
   "metadata": {},
   "outputs": [],
   "source": [
    "# df1 = pd.DataFrame({'A': [1, 2, 3, 4, 5],\n",
    "#                     'B': [2, 3, 4, 5, 6]})\n",
    "\n",
    "# df2 = pd.DataFrame({'A': [1, 2, 3, 3, 3],\n",
    "#                     'B': [2, 3, 5, 5, 6]})\n",
    "\n",
    "# variable_name = 'A'\n",
    "# differences = (df1[variable_name] != df2[variable_name])\n",
    "# num_differences = differences.sum()\n",
    "# print(num_differences)"
   ]
  },
  {
   "cell_type": "code",
   "execution_count": 194,
   "id": "35bfa14b",
   "metadata": {},
   "outputs": [
    {
     "data": {
      "image/png": "[encoded data removed]",
      "text/plain": [
       "<Figure size 720x576 with 2 Axes>"
      ]
     },
     "metadata": {
      "needs_background": "light"
     },
     "output_type": "display_data"
    }
   ],
   "source": [
    "# test plot\n",
    "\n",
    "\n",
    "import pandas as pd\n",
    "import matplotlib.pyplot as plt\n",
    "\n",
    "# Load your data frames (replace 'file1.csv' and 'file2.csv' with your file paths)\n",
    "file= \"1004_Session_1_ET_1_data_correTS_mad_wobig.csv\"\n",
    "\n",
    "data = pd.read_csv(os.path.join(data_savepath_intermediateP, file))\n",
    "\n",
    "goodData = pd.read_csv('E:/WestbrookProject/DebbiesData//correTS_mad_wobig_70656182-09b3-4c19-9ae2-0a2ab2e19fed.csv')\n",
    "file2 = \"1004_Session_1_ET_1_interval_mad_wobig.csv\"\n",
    "int_data = pd.read_csv(os.path.join(data_savepath_intervals, file2))\n",
    "\n",
    "# Specify the variable you want to compare\n",
    "variable_name = 'combined_vel'\n",
    "binVar = 3000\n",
    "\n",
    "# Create subplots\n",
    "fig, axes = plt.subplots(nrows=2, ncols=1, figsize=(10, 8))\n",
    "\n",
    "# Plot the distribution of the variable in the first subplot\n",
    "axes[0].hist(data[variable_name], bins = binVar, color='orange', alpha=0.7, label='original Data')\n",
    "axes[0].set_title(f'Distribution of {variable_name} - Westbrook Control data')\n",
    "axes[0].legend()\n",
    "# axes[0].set_xlim(0, 200)\n",
    "axes[0].set_ylim(0, 3000)\n",
    "# axes[0].set_xticks(bins)\n",
    "\n",
    "\n",
    "# Plot the distribution of the variable in the second subplot\n",
    "axes[1].hist(goodData[variable_name], bins = binVar, color='blue', alpha=0.7, label='Good Data')\n",
    "axes[1].set_title(f'Distribution of {variable_name} - Debbies data')\n",
    "axes[1].legend()\n",
    "# axes[1].set_xlim(0, 200)\n",
    "axes[1].set_ylim(0, 3000)\n",
    "# axes[1].set_xticks(bins[0:10])\n",
    "\n",
    "\n",
    "# Adjust layout\n",
    "plt.tight_layout()\n",
    "\n",
    "# Show the plots\n",
    "plt.show()\n"
   ]
  },
  {
   "cell_type": "code",
   "execution_count": 84,
   "id": "17c03a9d",
   "metadata": {},
   "outputs": [],
   "source": [
    "# # test plot\n",
    "\n",
    "\n",
    "# import pandas as pd\n",
    "# import matplotlib.pyplot as plt\n",
    "\n",
    "# # # Load your data frames (replace 'file1.csv' and 'file2.csv' with your file paths)\n",
    "# # file= \"1004_Session_1_ET_1_data_correTS_mad_wobig.csv\"\n",
    "\n",
    "# # data = pd.read_csv(os.path.join(data_savepath_intermediateP, file))\n",
    "\n",
    "# # goodData = pd.read_csv('E:/WestbrookProject/DebbiesData//correTS_mad_wobig_70656182-09b3-4c19-9ae2-0a2ab2e19fed.csv')\n",
    "# # file2 = \"1004_Session_1_ET_1_interval_mad_wobig.csv\"\n",
    "# # int_data = pd.read_csv(os.path.join(data_savepath_intervals, file2))\n",
    "\n",
    "# # Specify the variable you want to compare\n",
    "# variable_name = 'combined_vel'\n",
    "\n",
    "# # Create subplots\n",
    "# # fig, axes = plt.subplots(nrows=4, ncols=1, figsize=(10, 8))\n",
    "\n",
    "# # Plot the distribution of the variable in the first subplot\n",
    "# plt.hist(data[variable_name], bins = 300, color='blue', alpha=0.5, label='original Data',density = True)\n",
    "\n",
    "# plt.hist(dataUnfilt[variable_name], bins = 300, color='red', alpha=0.5, label='original Data',density = True)\n",
    "\n",
    "\n",
    "\n",
    "# # Plot the distribution of the variable in the second subplot\n",
    "# # plt.hist(dataDS[variable_name], bins = 300, color='red', alpha=0.5, label='Downsampled Data',density = True)\n",
    "# # axes[1].set_title(f'Distribution of {variable_name} - downsampled data')\n",
    "# # axes[1].legend()\n",
    "# # axes[1].set_xlim(0, 200)\n",
    "# # axes[1].set_ylim(0, 0.001)\n",
    "# # axes[1].set_xticks(bins)\n",
    "\n",
    "# # Plot the distribution of the variable in the second subplot\n",
    "# # plt.hist(goodData[variable_name], bins = 300, color='green', alpha=0.5, label='Good Data',density = True)\n",
    "# # axes[2].set_title(f'Distribution of {variable_name} - good data')\n",
    "# # axes[2].legend()\n",
    "# # axes[2].set_xlim(0, 200)\n",
    "# # axes[2].set_ylim(0, 0.001)\n",
    "# # axes[2].set_xticks(bins[0:10])\n",
    "\n",
    "\n",
    "# # Plot the distribution of the variable in the first subplot\n",
    "# # axes[3].set_title(f'Distribution of {variable_name} - original')\n",
    "# # axes[3].legend()\n",
    "# # axes[3].set_xlim(0, 200)\n",
    "\n",
    "\n",
    "# # Adjust layout\n",
    "# # plt.tight_layout()\n",
    "\n",
    "# # Show the plots\n",
    "# plt.legend()\n",
    "# plt.xlim(0, 100)\n",
    "# plt.show()\n"
   ]
  },
  {
   "cell_type": "code",
   "execution_count": 85,
   "id": "4dabba0f",
   "metadata": {},
   "outputs": [],
   "source": [
    "# # test plot\n",
    "\n",
    "\n",
    "# import pandas as pd\n",
    "# import matplotlib.pyplot as plt\n",
    "\n",
    "# # # Load your data frames (replace 'file1.csv' and 'file2.csv' with your file paths)\n",
    "# # file= \"1004_Session_1_ET_1_data_correTS_mad_wobig.csv\"\n",
    "\n",
    "# # data = pd.read_csv(os.path.join(data_savepath_intermediateP, file))\n",
    "\n",
    "# # goodData = pd.read_csv('E:/WestbrookProject/DebbiesData//correTS_mad_wobig_70656182-09b3-4c19-9ae2-0a2ab2e19fed.csv')\n",
    "# # file2 = \"1004_Session_1_ET_1_interval_mad_wobig.csv\"\n",
    "# # int_data = pd.read_csv(os.path.join(data_savepath_intervals, file2))\n",
    "\n",
    "# # Specify the variable you want to compare\n",
    "# variable_name = 'combined_vel'\n",
    "\n",
    "# # data_norm = data[variable_name]/len(data)\n",
    "# # dataUnfilt_norm = dataUnfilt[variable_name]/len(dataUnfilt)\n",
    "# # dataDS_norm = dataDS[variable_name]/len(dataDS)\n",
    "# # dataGood_norm = goodData[variable_name]/len(goodData)\n",
    "\n",
    "# # # Plot kernel density estimates of normalized data on top of each other\n",
    "# # sns.kdeplot(data_norm, label='original data', color='orange')\n",
    "# # sns.kdeplot(dataUnfilt_norm, label='unfilt original data', color='red')\n",
    "# # sns.kdeplot(dataDS_norm, label='downsampled data', color='green')\n",
    "# # sns.kdeplot(dataGood_norm, label='Debbies data', color='blue')\n",
    "\n",
    "\n",
    "# # data_norm = data[variable_name]/len(data)\n",
    "# # dataUnfilt_norm = dataUnfilt[variable_name]/len(dataUnfilt)\n",
    "# # dataDS_norm = dataDS[variable_name]/len(dataDS)\n",
    "# # dataGood_norm = goodData[variable_name]/len(goodData)\n",
    "\n",
    "# # Plot kernel density estimates of normalized data on top of each other\n",
    "# sns.kdeplot(data[variable_name], label='original data', color='orange')\n",
    "# sns.kdeplot(dataUnfilt[variable_name], label='unfilt original data', color='red')\n",
    "# sns.kdeplot(dataDS[variable_name], label='downsampled data', color='green')\n",
    "# sns.kdeplot(goodData[variable_name], label='Debbies data', color='blue')\n",
    "\n",
    "\n",
    "\n",
    "# plt.xlabel(variable_name)\n",
    "# plt.ylabel('Density')\n",
    "# plt.title('Normalized Kernel Density Estimates')\n",
    "# plt.legend()\n",
    "\n",
    "# plt.xlim(0, 100)\n",
    "\n",
    "# plt.show()\n",
    "\n",
    "# # Create subplots\n",
    "# # fig, axes = plt.subplots(nrows=4, ncols=1, figsize=(10, 8))\n",
    "\n",
    "# # Plot the distribution of the variable in the first subplot\n",
    "# # sns.kdeplot(data=data[variable_name])\n",
    "# # axes[0].set_title(f'Distribution of {variable_name} - original')\n",
    "# # axes[0].legend()\n",
    "# # axes[0].set_xlim(0, 200)\n",
    "# # # axes[0].set_ylim(0, 0.001)\n",
    "# # # axes[0].set_xticks(bins)\n",
    "\n",
    "# # # Plot the distribution of the variable in the second subplot\n",
    "# # axes[1].hist(dataDS[variable_name], bins = 300, color='blue', alpha=0.7, label='Downsampled Data')\n",
    "# # axes[1].set_title(f'Distribution of {variable_name} - downsampled data')\n",
    "# # axes[1].legend()\n",
    "# # axes[1].set_xlim(0, 200)\n",
    "# # # axes[1].set_ylim(0, 0.001)\n",
    "# # # axes[1].set_xticks(bins)\n",
    "\n",
    "# # # Plot the distribution of the variable in the second subplot\n",
    "# # axes[2].hist(goodData[variable_name], bins = 300, color='blue', alpha=0.7, label='Good Data')\n",
    "# # axes[2].set_title(f'Distribution of {variable_name} - good data')\n",
    "# # axes[2].legend()\n",
    "# # axes[2].set_xlim(0, 200)\n",
    "# # # axes[2].set_ylim(0, 0.001)\n",
    "# # # axes[2].set_xticks(bins[0:10])\n",
    "\n",
    "\n",
    "# # # Plot the distribution of the variable in the first subplot\n",
    "# # axes[3].hist(dataUnfilt[variable_name], bins = 300, color='orange', alpha=0.7, label='original Data')\n",
    "# # axes[3].set_title(f'Distribution of {variable_name} - original')\n",
    "# # axes[3].legend()\n",
    "# # axes[3].set_xlim(0, 200)\n",
    "\n",
    "\n",
    "# # # Adjust layout\n",
    "# # plt.tight_layout()\n",
    "\n",
    "# # # Show the plots\n",
    "# # plt.show()\n"
   ]
  },
  {
   "cell_type": "code",
   "execution_count": 86,
   "id": "08d41419",
   "metadata": {},
   "outputs": [],
   "source": [
    "# # test plot\n",
    "\n",
    "\n",
    "# import pandas as pd\n",
    "# import matplotlib.pyplot as plt\n",
    "\n",
    "# # # Load your data frames (replace 'file1.csv' and 'file2.csv' with your file paths)\n",
    "# # file= \"1004_Session_1_ET_1_data_correTS_mad_wobig.csv\"\n",
    "\n",
    "# # data = pd.read_csv(os.path.join(data_savepath_intermediateP, file))\n",
    "\n",
    "# # goodData = pd.read_csv('E:/WestbrookProject/DebbiesData//correTS_mad_wobig_70656182-09b3-4c19-9ae2-0a2ab2e19fed.csv')\n",
    "# # file2 = \"1004_Session_1_ET_1_interval_mad_wobig.csv\"\n",
    "# # int_data = pd.read_csv(os.path.join(data_savepath_intervals, file2))\n",
    "\n",
    "# # Specify the variable you want to compare\n",
    "# variable_name = 'isFix'\n",
    "\n",
    "# # Create subplots\n",
    "# fig, axes = plt.subplots(nrows=3, ncols=1, figsize=(10, 8))\n",
    "\n",
    "# # Plot the distribution of the variable in the first subplot\n",
    "# axes[0].hist(data.loc[data['isFix'].notna(), 'combined_vel'], bins = 1000, color='orange', alpha=0.7, label='original Data', density=True)\n",
    "# axes[0].set_title(f'Distribution of {variable_name} - original')\n",
    "# axes[0].legend()\n",
    "# axes[0].set_xlim(0, 1)\n",
    "# # axes[0].set_ylim(0, 0.001)\n",
    "# # axes[0].set_xticks(bins)\n",
    "\n",
    "# # Plot the distribution of the variable in the second subplot\n",
    "# axes[1].hist(dataDS.loc[dataDS['isFix'].notna(), 'combined_vel'], bins = 1000, color='blue', alpha=0.7, label='Downsampled Data', density=True)\n",
    "# axes[1].set_title(f'Distribution of {variable_name} - downsampled data')\n",
    "# axes[1].legend()\n",
    "# axes[1].set_xlim(0, 1)\n",
    "# # axes[1].set_ylim(0, 0.001)\n",
    "# # axes[1].set_xticks(bins)\n",
    "\n",
    "# # Plot the distribution of the variable in the second subplot\n",
    "# axes[2].hist(goodData.loc[goodData['isFix'].notna(), 'combined_vel'], bins = 1000, color='blue', alpha=0.7, label='Good Data', density=True)\n",
    "# axes[2].set_title(f'Distribution of {variable_name} - good data')\n",
    "# axes[2].legend()\n",
    "# axes[2].set_xlim(0, 1)\n",
    "# # axes[2].set_ylim(0, 0.001)\n",
    "# # axes[2].set_xticks(bins[0:10])\n",
    "\n",
    "\n",
    "# # Adjust layout\n",
    "# plt.tight_layout()\n",
    "\n",
    "# # Show the plots\n",
    "# plt.show()\n"
   ]
  },
  {
   "cell_type": "code",
   "execution_count": 87,
   "id": "7ecb85e7",
   "metadata": {},
   "outputs": [],
   "source": [
    "# print(hist.bins)"
   ]
  },
  {
   "cell_type": "code",
   "execution_count": 88,
   "id": "49b3fbdb",
   "metadata": {},
   "outputs": [],
   "source": [
    "# print('--------- median all velocities----------')\n",
    "# print(np.nanmedian(data['combined_vel']))\n",
    "# print(np.nanmedian(dataUnfilt['combined_vel']))\n",
    "# print(np.nanmedian(dataDS['combined_vel']))\n",
    "# print(np.nanmedian(goodData['combined_vel']))\n",
    "\n",
    "# print('--------- mean all velocities----------')\n",
    "# print(np.mean(data['combined_vel']))\n",
    "# print(np.mean(dataUnfilt['combined_vel']))\n",
    "# print(np.mean(dataDS['combined_vel']))\n",
    "# print(np.mean(goodData['combined_vel']))\n",
    "\n",
    "\n",
    "# print('--------- 0s in velocities----------')\n",
    "# print((data['combined_vel']== 0).sum()/len(data))\n",
    "# print((dataUnfilt['combined_vel']== 0).sum()/len(dataUnfilt))\n",
    "# print((dataDS['combined_vel']== 0).sum()/len(dataDS))\n",
    "# print((goodData['combined_vel']== 0).sum()/len(goodData))\n",
    "\n",
    "\n",
    "# print('--------- NaNs in velocities----------')\n",
    "# print(data['combined_vel'].isna().sum()/len(data))\n",
    "# print(dataUnfilt['combined_vel'].isna().sum()/len(dataUnfilt))\n",
    "# print(dataDS['combined_vel'].isna().sum()/len(dataDS))\n",
    "# print(goodData['combined_vel'].isna().sum()/len(goodData))"
   ]
  },
  {
   "cell_type": "code",
   "execution_count": 103,
   "id": "d125f1fc",
   "metadata": {},
   "outputs": [],
   "source": [
    "# def count_consecutive_zeros(dataVar):\n",
    "    \n",
    "#     # Initialize variables\n",
    "#     consecutive_zeros = 0\n",
    "#     consecutive_zero_clusters = []\n",
    "\n",
    "#     # Iterate over 'A' column to count consecutive zero clusters\n",
    "#     for value in dataVar:\n",
    "#         if value == 0:\n",
    "#             consecutive_zeros += 1\n",
    "#         elif consecutive_zeros > 0:\n",
    "#             consecutive_zero_clusters.append(consecutive_zeros)\n",
    "#             consecutive_zeros = 0\n",
    "\n",
    "#     # Add last cluster if it ends with zero\n",
    "#     if consecutive_zeros > 0:\n",
    "#         consecutive_zero_clusters.append(consecutive_zeros)\n",
    "\n",
    "#     return consecutive_zero_clusters"
   ]
  },
  {
   "cell_type": "code",
   "execution_count": 102,
   "id": "7755f003",
   "metadata": {},
   "outputs": [],
   "source": [
    "# # count consecutive zero clusters\n",
    "\n",
    "# # Example DataFrame\n",
    "# df1 = pd.DataFrame({'A': [0, 1, 0, 0, 0, 2, 0, 0, 3, 0, 0, 0, 4, 0, 5, 0]})\n",
    "\n",
    "# zeroClusters_data = count_consecutive_zeros(data['combined_vel'])\n",
    "\n",
    "# zeroClusters_unfilt = count_consecutive_zeros(dataUnfilt['combined_vel'])\n",
    "\n",
    "\n",
    "# zeroClusters_DS = count_consecutive_zeros(dataDS['combined_vel'])\n",
    "\n",
    "# zeroClusters_goodData = count_consecutive_zeros(goodData['combined_vel'])\n",
    "\n",
    "# maxBins = max([max(zeroClusters_data),max(zeroClusters_unfilt), max(zeroClusters_DS), max(zeroClusters_goodData)])\n",
    "\n",
    "\n",
    "# # Create histogram\n",
    "# plt.hist(zeroClusters_data, bins=maxBins+1, color='orange')\n",
    "\n",
    "# plt.hist(zeroClusters_unfilt,maxBins+1, color='red')\n",
    "\n",
    "# # plt.hist(zeroClusters_DS,maxBins+1, color='green')\n",
    "\n",
    "# # plt.hist(zeroClusters_goodData,maxBins+1, color='blue')\n",
    "\n",
    "\n",
    "# plt.xlabel('Consecutive Zeroes')\n",
    "# plt.ylabel('Frequency')\n",
    "# plt.title('Distribution of Consecutive Zero Clusters')\n",
    "# plt.show()\n",
    "\n",
    "# plt.hist(zeroClusters_unfilt,maxBins+1, edgecolor='black')\n"
   ]
  },
  {
   "cell_type": "code",
   "execution_count": 101,
   "id": "0b654106",
   "metadata": {},
   "outputs": [],
   "source": [
    "# dataUnfilt['time_diff'] = dataUnfilt['timeStampDataPointStart_converted'].diff()\n",
    "\n",
    "\n",
    "# dataVel0 = dataUnfilt.loc[dataUnfilt['combined_vel'] == 0, 'time_diff']\n",
    "\n",
    "# print('---------- time differences /sampling rate in hz when combined vel is 0---------')\n",
    "\n",
    "# print(1/np.nanmin(dataVel0))\n",
    "# print(1/np.nanmax(dataVel0))\n",
    "# print(1/np.nanmean(dataVel0))\n",
    "# print(1/np.nanmedian(dataVel0))\n",
    "\n",
    "# print('---------- all time differences---------')\n",
    "# print(1/np.nanmin(dataUnfilt['time_diff']))\n",
    "# print(1/np.nanmax(dataUnfilt['time_diff']))\n",
    "# print(1/np.nanmean(dataUnfilt['time_diff']))\n",
    "# print(1/np.nanmedian(dataUnfilt['time_diff']))\n",
    "\n",
    "# fig, axes = plt.subplots(nrows=2, ncols=1, figsize=(10, 8))\n",
    "\n",
    "# axes[0].hist(1/dataVel0, color='red')\n",
    "# axes[0].set_title('time difference, when vel == 0 - sampling rate in hz')\n",
    "\n",
    "\n",
    "# axes[1].hist(1/dataUnfilt['time_diff'], color= 'green')\n",
    "# axes[1].set_title('all time differences - sampling rate in hz')\n",
    "\n",
    "\n",
    "# # plt.xlabel('combined velocity')\n",
    "# # plt.ylabel('Frequency')\n",
    "# # plt.title('Distribution of time differences')\n",
    "# plt.show()# dataUnfilt.head()"
   ]
  },
  {
   "cell_type": "code",
   "execution_count": 100,
   "id": "a4d8a6a4",
   "metadata": {},
   "outputs": [],
   "source": [
    "# testData = dataUnfilt\n",
    "\n",
    "# testData = droppRows(file, testData)\n",
    "# testData['time_diff_afterRM'] = testData['timeStampDataPointStart_converted'].diff()\n",
    "\n",
    "# dataUnfilt['time_diff'] = dataUnfilt['timeStampDataPointStart_converted'].diff()\n",
    "\n",
    "# print('----------------------')\n",
    "# print('length raw file ', len(dataUnfilt))\n",
    "# print('length file after downsampling ', len(testData))\n",
    "\n",
    "# print('----------------------')\n",
    "\n",
    "# print('slowest sampling rate raw ', 1/ np.nanmax(dataUnfilt['time_diff']))\n",
    "\n",
    "# print('slowest sampling rate after removal ', 1/np.nanmax(testData['time_diff_afterRM']))\n",
    "\n",
    "# print('----------------------')\n",
    "\n",
    "# print('fastest sampling rate raw ', 1/np.nanmin(dataUnfilt['time_diff']))\n",
    "\n",
    "# print('fastest sampling rate after removal ', 1/np.nanmin(testData['time_diff_afterRM']))\n",
    "\n",
    "# print('----------------------')\n",
    "\n",
    "# print('mean sampling rate raw ', 1/np.nanmean(dataUnfilt['time_diff']))\n",
    "\n",
    "# print('mean sampling rate after removal ', 1/np.nanmean(testData['time_diff_afterRM']))\n",
    "\n",
    "# print('----------------------')\n",
    "\n",
    "# print('median sampling rate raw ', 1/np.nanmedian(dataUnfilt['time_diff']))\n",
    "\n",
    "# print('median sampling rate after removal ', 1/np.nanmedian(testData['time_diff_afterRM']))\n",
    "\n",
    "\n",
    "# print('----------------------')\n",
    "\n",
    "# print('120 sampling rate = ', 1/120)\n",
    "# print('90 sampling rate = ', 1/90)\n",
    "\n",
    "# fig, axes = plt.subplots(nrows=3, ncols=1, figsize=(20, 20), sharex=True, gridspec_kw={'hspace': 0.5})\n",
    "\n",
    "# axes[0].hist(1/testData['time_diff_afterRM'], color='orange')\n",
    "# axes[0].set_title('sampling rate after downsampling hz')\n",
    "\n",
    "# zerosData = dataUnfilt[dataUnfilt['combined_vel']==0]\n",
    "# axes[1].hist(1/dataUnfilt['time_diff'], color= 'red')\n",
    "# axes[1].hist(1/zerosData['time_diff'], color='blue')\n",
    "\n",
    "# axes[1].set_title('raw sampling rate hz')\n",
    "\n",
    "\n",
    "# notZerosData = dataUnfilt[dataUnfilt['combined_vel']!=0]\n",
    "# notZerosData['newTimeDiff'] = notZerosData['timeStampDataPointStart_converted'].diff()\n",
    "\n",
    "\n",
    "# columns_to_check = dataUnfilt.columns[10:13]\n",
    "# print(columns_to_check)\n",
    "\n",
    "# testi = dataUnfilt.copy()\n",
    "# # Check if differences between consecutive rows are consistently 0 for the selected columns\n",
    "# testi['repeated_rows'] =  dataUnfilt[columns_to_check].diff(axis=1).fillna(0).eq(0).all(axis=1)\n",
    "\n",
    "# testi = testi[testi['repeated_rows']!= 0]\n",
    "# testi['newTimeDiff'] = testi['timeStampDataPointStart_converted'].diff()\n",
    "\n",
    "\n",
    "# # axes[2].hist(1/dataUnfilt['time_diff'], color= 'orange', label='original data')\n",
    "# # axes[2].hist(1/notZerosData['newTimeDiff'], color='red', label= 'data filtered where vel is not 0')\n",
    "# axes[2].hist(1/testi['newTimeDiff'], color='purple', label= 'data filtered by repeated eye data')\n",
    "\n",
    "\n",
    "# axes[2].set_title('filtered by repeated eye info')\n",
    "# axes[2].legend()\n",
    "\n",
    "# # testData.head()\n"
   ]
  },
  {
   "cell_type": "code",
   "execution_count": 99,
   "id": "035d3e7a",
   "metadata": {},
   "outputs": [],
   "source": [
    "# # Select columns 30-70\n",
    "# columns_to_check = dataUnfilt.columns[10:13]\n",
    "# print(columns_to_check)\n",
    "\n",
    "# testi = dataUnfilt.copy()\n",
    "# # Check if differences between consecutive rows are consistently 0 for the selected columns\n",
    "# testi['repeated_rows'] =  dataUnfilt[columns_to_check].diff(axis=1).fillna(0).eq(0).all(axis=1)\n",
    "\n",
    "# testi = testi[testi['repeated_rows']!= 0]\n",
    "# testi['newTimeDiff'] = testi['timeStampDataPointStart_converted'].diff()\n",
    "# testi.head()"
   ]
  },
  {
   "cell_type": "code",
   "execution_count": 98,
   "id": "9e7c9292",
   "metadata": {},
   "outputs": [],
   "source": [
    "# for idx, column_name in enumerate(data.columns):\n",
    "#     print(f\"Index: {idx}, Column Name: {column_name}\")"
   ]
  },
  {
   "cell_type": "code",
   "execution_count": 97,
   "id": "d18862ab",
   "metadata": {},
   "outputs": [],
   "source": [
    "# fig, axes = plt.subplots(nrows=4, ncols=1, figsize=(20, 20), sharex=True, gridspec_kw={'hspace': 0.5})\n",
    "\n",
    "# showVel_unfilt = np.copy(dataUnfilt['combined_vel'])\n",
    "\n",
    "# showVel_unfilt[showVel_unfilt != 0] = 20\n",
    "# limMin = 0\n",
    "# limMax = 10\n",
    "\n",
    "# zerosData = dataUnfilt[dataUnfilt['combined_vel'] == 0]\n",
    "# # zerosData.head()\n",
    "\n",
    "# axes[0].plot(dataUnfilt['timeStampDataPointStart_converted'],1/dataUnfilt['time_diff'], color = 'blue')\n",
    "# axes[0].scatter(dataUnfilt['timeStampDataPointStart_converted'],1/dataUnfilt['time_diff'], color = 'blue')\n",
    "# axes[0].plot(dataUnfilt['timeStampDataPointStart_converted'],showVel_unfilt, color = 'red')\n",
    "# axes[0].scatter(zerosData['timeStampDataPointStart_converted'],1/zerosData['time_diff'], color = 'red')\n",
    "\n",
    "# axes[0].axhline(y=90, color='green')\n",
    "\n",
    "# axes[0].axhline(y=150, color='orange')\n",
    "\n",
    "# axes[0].set_xlim(limMin, limMax)\n",
    "# axes[0].set_title('Sampling rate and zero velocity - raw data file')\n",
    "\n",
    "# # for timestamps in testData['timeStampDataPointStart_converted']:\n",
    "# #     axes[0].axvline(x=1 / timestamps , color='red', linestyle='--', linewidth=0.5)\n",
    "\n",
    "# showVel_testi = np.copy(testData['combined_vel'])\n",
    "\n",
    "# showVel_testi[showVel_testi != 0] = 20\n",
    "\n",
    "# zerosData2 = testData[testData['combined_vel'] == 0]\n",
    "\n",
    "# axes[1].plot(testData['timeStampDataPointStart_converted'],1/testData['time_diff_afterRM'], color = 'blue')\n",
    "# axes[1].scatter(testData['timeStampDataPointStart_converted'],1/testData['time_diff_afterRM'], color = 'blue')\n",
    "# axes[1].plot(testData['timeStampDataPointStart_converted'],showVel_testi, color = 'red')\n",
    "# axes[1].scatter(zerosData2['timeStampDataPointStart_converted'],1/zerosData2['time_diff'], color = 'red')\n",
    "\n",
    "# axes[1].axhline(y=90, color='green')\n",
    "\n",
    "# axes[1].axhline(y=120, color='orange')\n",
    "\n",
    "# axes[1].set_xlim(limMin, limMax)\n",
    "\n",
    "# axes[1].set_title('Sampling rate and zero velocity - downsampled data file')\n",
    "# ###########################\n",
    "\n",
    "# data_newThreshDS = dataUnfilt[dataUnfilt['time_diff']> 0.0067]\n",
    "\n",
    "# data_newThreshDS['newTimeDiff'] = data_newThreshDS['timeStampDataPointStart_converted'].diff() \n",
    "\n",
    "# showVel_newThresh= np.copy(data_newThreshDS['combined_vel'])\n",
    "\n",
    "# showVel_newThresh[showVel_newThresh != 0] = 20\n",
    "\n",
    "# zerosData3 = data_newThreshDS[data_newThreshDS['combined_vel'] == 0]\n",
    "\n",
    "\n",
    "# axes[2].plot(data_newThreshDS['timeStampDataPointStart_converted'],1/data_newThreshDS['newTimeDiff'], color = 'blue')\n",
    "# axes[2].scatter(data_newThreshDS['timeStampDataPointStart_converted'],1/data_newThreshDS['newTimeDiff'], color = 'blue')\n",
    "# axes[2].plot(data_newThreshDS['timeStampDataPointStart_converted'],showVel_newThresh, color = 'red')\n",
    "# axes[2].scatter(zerosData3['timeStampDataPointStart_converted'],1/zerosData3['newTimeDiff'], color = 'red')\n",
    "\n",
    "# axes[2].axhline(y=90, color='green')\n",
    "\n",
    "# axes[2].axhline(y=120, color='orange')\n",
    "\n",
    "# axes[2].set_xlim(limMin, limMax)\n",
    "# axes[2].set_title('Sampling rate and zero velocity - newly downsampled data file')\n",
    "# ###############################################\n",
    "\n",
    "# goodData['timeDiff'] = goodData['time'].diff()\n",
    "\n",
    "# axes[3].plot(goodData['time'],1/goodData['timeDiff'], color = 'blue')\n",
    "# axes[3].scatter(goodData['time'],1/goodData['timeDiff'], color = 'blue')\n",
    "\n",
    "# axes[3].axhline(y=90, color='green')\n",
    "\n",
    "# axes[3].axhline(y=120, color='orange')\n",
    "\n",
    "# axes[3].set_xlim(limMin, limMax)\n",
    "# axes[3].set_ylim(0,150)\n",
    "\n",
    "# axes[3].set_title('Sampling rate - Debbies data')"
   ]
  },
  {
   "cell_type": "code",
   "execution_count": 96,
   "id": "078bccf5",
   "metadata": {},
   "outputs": [],
   "source": [
    "# # test plot\n",
    "\n",
    "\n",
    "# import pandas as pd\n",
    "# import matplotlib.pyplot as plt\n",
    "\n",
    "# # # Load your data frames (replace 'file1.csv' and 'file2.csv' with your file paths)\n",
    "# # file= \"1004_Session_1_ET_1_data_correTS_mad_wobig.csv\"\n",
    "\n",
    "# # data = pd.read_csv(os.path.join(data_savepath_intermediateP, file))\n",
    "\n",
    "# # goodData = pd.read_csv('E:/WestbrookProject/DebbiesData//correTS_mad_wobig_70656182-09b3-4c19-9ae2-0a2ab2e19fed.csv')\n",
    "# # file2 = \"1004_Session_1_ET_1_interval_mad_wobig.csv\"\n",
    "# # int_data = pd.read_csv(os.path.join(data_savepath_intervals, file2))\n",
    "\n",
    "# # Specify the variable you want to compare\n",
    "# variable_name = 'combined_vel'\n",
    "\n",
    "# # Create subplots\n",
    "# fig, axes = plt.subplots(nrows=3, ncols=1, figsize=(10, 8))\n",
    "\n",
    "\n",
    "# # Plot the distribution of the variable in each subplot\n",
    "# for i, dataset in enumerate([data[variable_name], data2[variable_name], goodData[variable_name]]):\n",
    "#     # Plot histogram and capture bin edges\n",
    "#     n, bins, _ = axes[i].hist(dataset, bins=1000, color='blue', alpha=0.7, label='Data', density=True)\n",
    "#     axes[i].set_title(f'Distribution of {variable_name} - Dataset {i+1}')\n",
    "#     axes[i].legend()\n",
    "#     axes[i].set_ylim(0, 0.05)\n",
    "#     axes[i].set_xlim(0,bins[10])\n",
    "\n",
    "#     # Set bin edges as x-labels\n",
    "#     axes[i].set_xticks(bins)\n",
    "\n",
    "\n",
    "\n",
    "# # Adjust layout\n",
    "# plt.tight_layout()\n",
    "\n",
    "# # Show the plots\n",
    "# plt.show()\n"
   ]
  },
  {
   "cell_type": "code",
   "execution_count": 95,
   "id": "2794f3de",
   "metadata": {},
   "outputs": [],
   "source": [
    "# import pandas as pd\n",
    "# import matplotlib.pyplot as plt\n",
    "\n",
    "# # Load your data frames (replace 'file1.csv' and 'file2.csv' with your file paths)\n",
    "# goodData = pd.read_csv('E:/WestbrookProject/DebbiesData//correTS_mad_wobig_70656182-09b3-4c19-9ae2-0a2ab2e19fed.csv')\n",
    "# file2 = \"1004_Session_5_ET_1_interval_mad_wobig.csv\"\n",
    "# int_data = pd.read_csv(os.path.join(data_savepath_intervals, file2))\n",
    "\n",
    "# # Specify the variable you want to compare\n",
    "# variable_name = 'combined_vel'\n",
    "\n",
    "# # Create subplots\n",
    "# fig, axes = plt.subplots(nrows=2, ncols=1, figsize=(10, 8))\n",
    "\n",
    "# # Plot the distribution of the variable in the first subplot\n",
    "# hist1, bins1, _ = axes[0].hist(data[variable_name], bins=6000, color='blue', alpha=0.7, label='My Data')\n",
    "# axes[0].set_title(f'Distribution of {variable_name} - my data')\n",
    "# axes[0].legend()\n",
    "# axes[0].set_xlim(0, 1)\n",
    "\n",
    "# # Plot the distribution of the variable in the second subplot\n",
    "# hist2, bins2, _ = axes[1].hist(goodData[variable_name], bins=6000, color='orange', alpha=0.7, label='Good Data')\n",
    "# axes[1].set_title(f'Distribution of {variable_name} - good data')\n",
    "# axes[1].legend()\n",
    "# axes[1].set_xlim(0, 1)\n",
    "\n",
    "# # # Scale the y-axis to represent percentages (0-100%)\n",
    "# # max_density = max(max(hist1), max(hist2))  # Maximum density among the two histograms\n",
    "# # for ax in axes:\n",
    "# #     ax.set_ylim(0, max_density * 100)  # Set y-axis limits to 0-100%\n",
    "\n",
    "# # Adjust layout\n",
    "# plt.tight_layout()\n",
    "\n",
    "# # Show the plots\n",
    "# plt.show()\n"
   ]
  },
  {
   "cell_type": "code",
   "execution_count": 94,
   "id": "3d89ecc5",
   "metadata": {},
   "outputs": [],
   "source": [
    "# print('------------mean velocity-------------')\n",
    "# print(np.mean(goodData['combined_vel']))\n",
    "# print(np.mean(dataDS['combined_vel']))\n",
    "# print(np.mean(data['combined_vel']))\n",
    "\n",
    "# print('-------------median velocity--------------')\n",
    "# print(np.nanmedian(goodData['combined_vel']))\n",
    "# print(np.nanmedian(dataDS['combined_vel']))\n",
    "# print(np.nanmedian(data['combined_vel']))\n",
    "\n",
    "# # print(np.max(goodData['combined_vel']))\n",
    "# # print(np.max(data['combined_vel']))\n",
    "\n",
    "# # print(np.mean(goodData['isFix']))\n",
    "# # print(np.mean(data['isFix']))\n",
    "# # print('----------------')\n",
    "\n",
    "# # print(goodData['events'].value_counts().get(2, 0))\n",
    "# # print(data['events'].value_counts().get(2, 0))\n",
    "\n",
    "# # print(goodData['events'].value_counts().get(-2, 0))\n",
    "# # print(data['events'].value_counts().get(-2, 0))\n",
    "\n",
    "# # print(goodData['events'].value_counts().get(1, 0))\n",
    "# # print(data['events'].value_counts().get(1, 0))\n",
    "\n",
    "# # print(goodData['events'].value_counts().get(-1, 0))\n",
    "# # print(data['events'].value_counts().get(-1, 0))\n",
    "\n",
    "# print('-------fixation count----------------')\n",
    "# sGood = goodData['isFix'].notna().sum()/len(goodData)\n",
    "# sDS = dataDS['isFix'].notna().sum()/len(dataDS)\n",
    "# sN = data['isFix'].notna().sum()/len(data)\n",
    "\n",
    "# print(sGood)\n",
    "# print(sDS)\n",
    "# print(sN)\n",
    "    \n",
    "# print('-------mean fixation vel----------------')\n",
    "\n",
    "# mean1_combined_vel = goodData.loc[goodData['isFix'].notna(), 'combined_vel'].mean()\n",
    "# mean3_combined_vel = dataDS.loc[data['isFix'].notna(), 'combined_vel'].mean()\n",
    "# mean2_combined_vel = data.loc[data['isFix'].notna(), 'combined_vel'].mean()\n",
    "\n",
    "# print(mean1_combined_vel)\n",
    "# print(mean3_combined_vel)\n",
    "# print(mean2_combined_vel)\n",
    "\n",
    "# print('-------median fixation vel----------------')\n",
    "\n",
    "# mean1_combined_vel = goodData.loc[goodData['isFix'].notna(), 'combined_vel'].median()\n",
    "# mean3_combined_vel = dataDS.loc[data['isFix'].notna(), 'combined_vel'].median()\n",
    "# mean2_combined_vel = data.loc[data['isFix'].notna(), 'combined_vel'].median()\n",
    "\n",
    "# print(mean1_combined_vel)\n",
    "# print(mean3_combined_vel)\n",
    "# print(mean2_combined_vel)\n",
    "\n",
    "# # print('---------saccade vel -------------------')\n",
    "\n",
    "# # mean1_combined_vel = goodData.loc[goodData['isFix'].isna(), 'combined_vel'].mean()\n",
    "# # mean2_combined_vel = data.loc[data['isFix'].isna(), 'combined_vel'].mean()\n",
    "\n",
    "# # print(mean1_combined_vel)\n",
    "# # print(mean2_combined_vel)\n",
    "\n",
    "# # print('-------------------')\n",
    "# # print('percentage fixations')\n",
    "# # print(goodData['isFix'].notna().sum()/len(goodData))\n",
    "# # print(data['isFix'].notna().sum()/len(data))\n",
    "\n",
    "# # print('percentage saccades')\n",
    "# # print(goodData['isFix'].isna().sum()/len(goodData))\n",
    "# # print(data['isFix'].isna().sum()/len(data))"
   ]
  },
  {
   "cell_type": "code",
   "execution_count": 93,
   "id": "973d9fd1",
   "metadata": {},
   "outputs": [],
   "source": [
    "# # plt.hist(data['timeStampDataPointStart_converted'], bins= 1000)\n",
    "# # plt.hist(goodData['time'].diff(), bins=10)\n",
    "\n",
    "# file = '1004_Session_5_ET_1_data_correTS_mad_wobig.csv'\n",
    "# data = pd.read_csv(os.path.join(data_savepath_intermediateP, file))  \n",
    "\n",
    "# sampleRate = data['timeStampDataPointStart_converted'].diff()\n",
    "# # plt.hist(data['timeStampDataPointStart_converted'].diff(), bins=10)\n",
    "\n",
    "# print(1/(np.min(sampleRate)))\n",
    "# print(1/(np.mean(sampleRate)))\n",
    "# print(1/(np.max(sampleRate)))\n",
    "\n",
    "# #sampleRate2 = goodData['time'].diff()\n",
    "# # plt.hist(data['timeStampDataPointStart_converted'].diff(), bins=10)\n",
    "# # print(1/np.min(sampleRate2))\n",
    "# # print(1/np.mean(sampleRate2))\n",
    "# # print(1/np.max(sampleRate2))\n",
    "\n",
    "# plt.hist(sampleRate, bins=10, range=(0, 0.04))\n",
    "\n",
    "# # plt.hist(sampleRate2)"
   ]
  },
  {
   "cell_type": "code",
   "execution_count": 92,
   "id": "9fd007b3",
   "metadata": {},
   "outputs": [],
   "source": [
    "# pd.set_option('display.max_columns', None)\n",
    "\n",
    "# # Assuming 'data' is your DataFrame\n",
    "# data_head = data.head()\n",
    "\n",
    "# # Display head horizontally\n",
    "# with pd.option_context('display.max_rows', None, 'display.width', 1000):\n",
    "# #     display(data_head)\n",
    "#     display(goodData.iloc[0:100])\n"
   ]
  },
  {
   "cell_type": "code",
   "execution_count": 91,
   "id": "ed293487",
   "metadata": {},
   "outputs": [],
   "source": [
    "# # test plot\n",
    "\n",
    "\n",
    "# # # Load your data frames (replace 'file1.csv' and 'file2.csv' with your file paths)\n",
    "# # file= \"1004_Session_1_ET_1_data_correTS_mad_wobig.csv\"\n",
    "# # data = pd.read_csv(os.path.join(data_savepath_intermediateP, file))\n",
    "\n",
    "# # file= \"1004_Session_1_ET_1_data_processed_gazes.csv\"\n",
    "# # data = pd.read_csv(os.path.join(data_savepath_processed_gazes, file))  \n",
    "\n",
    "# goodData = pd.read_csv('E:/WestbrookProject/DebbiesData//correTS_mad_wobig_70656182-09b3-4c19-9ae2-0a2ab2e19fed.csv')\n",
    "# file2 = \"1004_Session_1_ET_1_interval_mad_wobig.csv\"\n",
    "# int_data = pd.read_csv(os.path.join(data_savepath_intervals, file2))\n",
    "\n",
    "# # Specify the variable you want to compare\n",
    "# variable_name = 'combined_vel'\n",
    "\n",
    "# print(\"median of both data types\")\n",
    "# print(np.nanmedian(data[variable_name]))\n",
    "# print(np.nanmedian(goodData[variable_name]))\n",
    "\n",
    "# print(\"mean of both data types\")\n",
    "# print(np.nanmean(data[variable_name]))\n",
    "# print(np.nanmean(goodData[variable_name]))\n",
    "\n",
    "\n",
    "# # # Create subplots\n",
    "# fig, axes = plt.subplots(nrows=1, ncols=2, figsize=(10, 8))\n",
    "\n",
    "# axes[0].boxplot(data[variable_name])\n",
    "# # axes[0].set_title(f'Boxplot of {variable_name} - my data')\n",
    "# # axes[0].legend()\n",
    "\n",
    "# axes[1].boxplot(goodData[variable_name])\n",
    "# # axes[1].set_title(f'Boxplot of {variable_name} - Debbies data')\n",
    "# # axes[1].legend()\n",
    "\n",
    "\n",
    "# # # Add labels and title\n",
    "# # for ax in axes:\n",
    "# #     ax.set_xlabel('Combined Velocity')\n",
    "# #     ax.set_ylabel('Values')\n",
    "\n",
    "# # Adjust layout\n",
    "# plt.tight_layout()\n",
    "\n",
    "# # Show the plots\n",
    "# plt.show()\n",
    "\n",
    "# # # Create subplots\n",
    "# # fig, axes = plt.subplots(nrows=2, ncols=1, figsize=(10, 8))\n",
    "\n",
    "# # # Plot the distribution of the variable in the first subplot\n",
    "# # axes[0].hist(data[variable_name], color='blue', alpha=0.7, label='My Data')\n",
    "# # axes[0].set_title(f'Distribution of {variable_name} - my data')\n",
    "# # axes[0].legend()\n",
    "# # axes[0].set_xlim(0, 10)\n",
    "\n",
    "\n",
    "# # # Plot the distribution of the variable in the second subplot\n",
    "# # axes[1].hist(goodData[variable_name], color='orange', alpha=0.7, label='Good Data')\n",
    "# # axes[1].set_title(f'Distribution of {variable_name} - good data')\n",
    "# # axes[1].legend()\n",
    "# # axes[1].set_xlim(0, 10)\n",
    "\n",
    "# # # Adjust layout\n",
    "# # plt.tight_layout()\n",
    "\n",
    "# # # Show the plots\n",
    "# # plt.show()\n",
    "\n",
    "\n",
    "\n",
    "# print(\"Lenght data\", len(data))\n",
    "# print(\"Lenght good data\", len(goodData))\n",
    "\n",
    "# count_zeros = (data[variable_name] == 0).sum()\n",
    "# count_zeros2 = (goodData[variable_name] == 0).sum()\n",
    "\n",
    "\n",
    "# print(\"number of zeros\", count_zeros)\n",
    "# print(\"number of zeros good data\", count_zeros2)\n",
    "\n",
    "\n",
    "# count_nans = data[variable_name].isna().sum()\n",
    "# count_nans2 = goodData[variable_name].isna().sum()\n",
    "\n",
    "# print(\"number of nans\", count_nans)\n",
    "# print(\"number of nans good data\", count_nans2)\n",
    "\n",
    "\n",
    "# # Plotting\n",
    "# labels = ['Length', 'Count Zeros', 'Count NaNs']\n",
    "# data1_values = [len(data), count_zeros, count_nans]\n",
    "# data2_values = [len(goodData), count_zeros2, count_nans2]\n",
    "\n",
    "# bar_width = 0.35\n",
    "# index = np.arange(len(labels))\n",
    "\n",
    "# fig, ax = plt.subplots()\n",
    "\n",
    "# bar1 = ax.bar(index, data1_values, bar_width, label='Data 1')\n",
    "# bar2 = ax.bar(index + bar_width, data2_values, bar_width, label='Data 2')\n",
    "\n",
    "# ax.set_xlabel('Metrics')\n",
    "# ax.set_ylabel('Counts')\n",
    "# ax.set_title('Comparison of Metrics between Data 1 and Data 2')\n",
    "# ax.set_xticks(index + bar_width / 2)\n",
    "# ax.set_xticklabels(labels)\n",
    "# ax.legend()\n",
    "\n",
    "# plt.show()\n",
    "\n",
    "\n",
    "# # Plotting\n",
    "# labels = ['Count Zeros', 'Count NaNs']\n",
    "# data1_values = [count_zeros/len(data), count_nans/len(data)]\n",
    "# data2_values = [count_zeros2/len(goodData), count_nans2/len(goodData)]\n",
    "\n",
    "# bar_width = 0.35\n",
    "# index = np.arange(len(labels))\n",
    "\n",
    "# fig, ax = plt.subplots()\n",
    "\n",
    "# bar1 = ax.bar(index, data1_values, bar_width, label='My')\n",
    "# bar2 = ax.bar(index + bar_width, data2_values, bar_width, label='Debbies Data')\n",
    "\n",
    "# ax.set_xlabel('Metrics')\n",
    "# ax.set_ylabel('Counts')\n",
    "# ax.set_title('Comparison of Metrics between Data 1 and Data 2')\n",
    "# ax.set_xticks(index + bar_width / 2)\n",
    "# ax.set_xticklabels(labels)\n",
    "# ax.legend()\n",
    "\n",
    "# plt.show()\n"
   ]
  },
  {
   "cell_type": "code",
   "execution_count": 146,
   "id": "2b127d88",
   "metadata": {},
   "outputs": [],
   "source": [
    "# # Assuming you have a DataFrame df with columns 'time_stamp', 'isFix' indicating fixations (1) and saccades (0)\n",
    "# file = '1004_Session_1_ET_1_data_correTS_mad_wobig.csv'\n",
    "# data = pd.read_csv(os.path.join(data_savepath_intermediateP, file))  \n",
    "\n",
    "# import pandas as pd\n",
    "# import matplotlib.pyplot as plt\n",
    "\n",
    "# # Assuming you have a DataFrame df with columns 'time_stamp', 'isFix' indicating fixations (True) and saccades (False)\n",
    "\n",
    "# # Step 1: Preprocess the data to calculate fixation and saccade lengths\n",
    "# fix_lengths = []  # List to store fixation lengths\n",
    "# saccade_lengths = []  # List to store saccade lengths\n",
    "\n",
    "# fix_start_time = None  # Variable to store start time of fixation\n",
    "# saccade_start_time = None  # Variable to store start time of saccade\n",
    "\n",
    "# for index, row in data.iterrows():\n",
    "#     if row['isFix']:  # If fixation\n",
    "#         if fix_start_time is None:\n",
    "#             fix_start_time = row['timeStampDataPointStart_converted']\n",
    "#         fix_end_time = row['timeStampDataPointStart_converted']\n",
    "#     else:  # If saccade\n",
    "#         if fix_start_time is not None:  # If a fixation was started\n",
    "#             fix_lengths.append(fix_end_time - fix_start_time)\n",
    "#             fix_start_time = None  # Reset fix_start_time\n",
    "#     if not row['isFix']:  # If saccade\n",
    "#         if saccade_start_time is None:\n",
    "#             saccade_start_time = row['timeStampDataPointStart_converted']\n",
    "#         saccade_end_time = row['timeStampDataPointStart_converted']\n",
    "#     else:  # If fixation\n",
    "#         if saccade_start_time is not None:  # If a saccade was started\n",
    "#             saccade_lengths.append(saccade_end_time - saccade_start_time)\n",
    "#             saccade_start_time = None  # Reset saccade_start_time\n",
    "\n",
    "# # # Convert lengths to milliseconds for easier plotting (assuming timestamps are in milliseconds)\n",
    "# # fix_lengths_ms = [length.total_seconds() * 1000 for length in fix_lengths]\n",
    "# # saccade_lengths_ms = [length.total_seconds() * 1000 for length in saccade_lengths]\n",
    "\n",
    "# # Step 2: Create a density plot and histogram of fixation and saccade lengths\n",
    "# fig, axs = plt.subplots(2)\n",
    "\n",
    "# axs[0].hist(fix_lengths,  bins=1000,density=True, color='blue', alpha=0.7, label='Fixation Lengths')\n",
    "# axs[0].set_title('Density Plot of Fixation Lengths')\n",
    "# axs[0].set_xlabel('Fixation Length (ms)')\n",
    "# axs[0].set_ylabel('Density')\n",
    "\n",
    "# axs[1].hist(saccade_lengths, bins=1000, density=True, color='red', alpha=0.7, label='Saccade Lengths')\n",
    "# axs[1].set_title('Density Plot of Saccade Lengths')\n",
    "# axs[1].set_xlabel('Saccade Length (ms)')\n",
    "# axs[1].set_ylabel('Density')\n",
    "\n",
    "# plt.tight_layout()\n",
    "# # plt.show()\n",
    "\n",
    "# print(np.mean(fix_lengths))\n",
    "# print(np.mean(saccade_lengths))\n",
    "\n",
    "# print(np.median(fix_lengths))\n",
    "# print(np.median(saccade_lengths))\n",
    "\n",
    "# print(len(fix_lengths))\n",
    "# print(len(saccade_lengths))"
   ]
  },
  {
   "cell_type": "markdown",
   "id": "f74b9da9-61e3-4ec0-8d88-7cb0f5920df4",
   "metadata": {
    "jp-MarkdownHeadingCollapsed": true,
    "tags": []
   },
   "source": [
    "# Length: Correct for long Events (outliers)"
   ]
  },
  {
   "cell_type": "code",
   "execution_count": 104,
   "id": "a0613445-d4a2-46dc-8ed8-61774033f1ec",
   "metadata": {},
   "outputs": [
    {
     "data": {
      "text/plain": [
       "1"
      ]
     },
     "execution_count": 104,
     "metadata": {},
     "output_type": "execute_result"
    }
   ],
   "source": [
    "define_intervals"
   ]
  },
  {
   "cell_type": "code",
   "execution_count": 105,
   "id": "7eb39715-486a-41ba-844d-d0ec9017ea8d",
   "metadata": {
    "tags": []
   },
   "outputs": [
    {
     "name": "stdout",
     "output_type": "stream",
     "text": [
      "start round 1\n"
     ]
    },
    {
     "data": {
      "application/vnd.jupyter.widget-view+json": {
       "model_id": "04c95f2110cb490c8dc2b4858c778f6a",
       "version_major": 2,
       "version_minor": 0
      },
      "text/plain": [
       "📄 0 of 1 participants processed:            \n",
       "              0% ⏱️00:00 ⏳? ⚙️?it/s"
      ]
     },
     "metadata": {},
     "output_type": "display_data"
    },
    {
     "name": "stdout",
     "output_type": "stream",
     "text": [
      "Participant 0 - participant ID 1004\n"
     ]
    },
    {
     "data": {
      "application/vnd.jupyter.widget-view+json": {
       "model_id": "708d283ee65e43a4ae853103075e2afe",
       "version_major": 2,
       "version_minor": 0
      },
      "text/plain": [
       "📄 0 of 5 sessions________ processed:            \n",
       "              0% ⏱️00:00 ⏳? ⚙️?it/s"
      ]
     },
     "metadata": {},
     "output_type": "display_data"
    },
    {
     "data": {
      "application/vnd.jupyter.widget-view+json": {
       "model_id": "d0a14fc702504d21b3d050a0a05e9c67",
       "version_major": 2,
       "version_minor": 0
      },
      "text/plain": [
       "📄 0 of 3 📂 ET files____________ processed:            \n",
       "              0% ⏱️00:00 ⏳? ⚙️?it/s"
      ]
     },
     "metadata": {},
     "output_type": "display_data"
    },
    {
     "name": "stdout",
     "output_type": "stream",
     "text": [
      "process file  1004_Session_1_ET_1_data_correTS_mad_wobig.csv\n",
      "process file  1004_Session_1_ET_2_data_correTS_mad_wobig.csv\n",
      "process file  1004_Session_1_ET_3_data_correTS_mad_wobig.csv\n"
     ]
    },
    {
     "data": {
      "application/vnd.jupyter.widget-view+json": {
       "model_id": "98fe392f31d54cac9848020a4d24216c",
       "version_major": 2,
       "version_minor": 0
      },
      "text/plain": [
       "📄 0 of 3 📂 ET files____________ processed:            \n",
       "              0% ⏱️00:00 ⏳? ⚙️?it/s"
      ]
     },
     "metadata": {},
     "output_type": "display_data"
    },
    {
     "name": "stdout",
     "output_type": "stream",
     "text": [
      "process file  1004_Session_2_ET_1_data_correTS_mad_wobig.csv\n",
      "process file  1004_Session_2_ET_2_data_correTS_mad_wobig.csv\n",
      "process file  1004_Session_2_ET_3_data_correTS_mad_wobig.csv\n"
     ]
    },
    {
     "data": {
      "application/vnd.jupyter.widget-view+json": {
       "model_id": "c23bcae568eb4bdd8d03220ae548fbaa",
       "version_major": 2,
       "version_minor": 0
      },
      "text/plain": [
       "📄 0 of 3 📂 ET files____________ processed:            \n",
       "              0% ⏱️00:00 ⏳? ⚙️?it/s"
      ]
     },
     "metadata": {},
     "output_type": "display_data"
    },
    {
     "name": "stdout",
     "output_type": "stream",
     "text": [
      "process file  1004_Session_3_ET_1_data_correTS_mad_wobig.csv\n",
      "process file  1004_Session_3_ET_2_data_correTS_mad_wobig.csv\n",
      "process file  1004_Session_3_ET_3_data_correTS_mad_wobig.csv\n"
     ]
    },
    {
     "data": {
      "application/vnd.jupyter.widget-view+json": {
       "model_id": "89115d88f9a343edb2ab6985ff14fb60",
       "version_major": 2,
       "version_minor": 0
      },
      "text/plain": [
       "📄 0 of 3 📂 ET files____________ processed:            \n",
       "              0% ⏱️00:00 ⏳? ⚙️?it/s"
      ]
     },
     "metadata": {},
     "output_type": "display_data"
    },
    {
     "name": "stdout",
     "output_type": "stream",
     "text": [
      "process file  1004_Session_4_ET_1_data_correTS_mad_wobig.csv\n",
      "process file  1004_Session_4_ET_2_data_correTS_mad_wobig.csv\n",
      "process file  1004_Session_4_ET_3_data_correTS_mad_wobig.csv\n"
     ]
    },
    {
     "data": {
      "application/vnd.jupyter.widget-view+json": {
       "model_id": "f5a72296402e4e5aa6764ade056499c4",
       "version_major": 2,
       "version_minor": 0
      },
      "text/plain": [
       "📄 0 of 3 📂 ET files____________ processed:            \n",
       "              0% ⏱️00:00 ⏳? ⚙️?it/s"
      ]
     },
     "metadata": {},
     "output_type": "display_data"
    },
    {
     "name": "stdout",
     "output_type": "stream",
     "text": [
      "process file  1004_Session_5_ET_1_data_correTS_mad_wobig.csv\n",
      "process file  1004_Session_5_ET_2_data_correTS_mad_wobig.csv\n",
      "process file  1004_Session_5_ET_3_data_correTS_mad_wobig.csv\n",
      "All files were found\n",
      "start round 2\n"
     ]
    },
    {
     "data": {
      "application/vnd.jupyter.widget-view+json": {
       "model_id": "d641e302d0844eed8e593bed95da5589",
       "version_major": 2,
       "version_minor": 0
      },
      "text/plain": [
       "📄 0 of 1 participants processed:            \n",
       "              0% ⏱️00:00 ⏳? ⚙️?it/s"
      ]
     },
     "metadata": {},
     "output_type": "display_data"
    },
    {
     "name": "stdout",
     "output_type": "stream",
     "text": [
      "Participant 0 - participant ID 1004\n"
     ]
    },
    {
     "data": {
      "application/vnd.jupyter.widget-view+json": {
       "model_id": "363618b0097f49bd9b401494f5d53973",
       "version_major": 2,
       "version_minor": 0
      },
      "text/plain": [
       "📄 0 of 5 sessions________ processed:            \n",
       "              0% ⏱️00:00 ⏳? ⚙️?it/s"
      ]
     },
     "metadata": {},
     "output_type": "display_data"
    },
    {
     "data": {
      "application/vnd.jupyter.widget-view+json": {
       "model_id": "1b1f0a1dc4db4ddb83c77c68821bb04c",
       "version_major": 2,
       "version_minor": 0
      },
      "text/plain": [
       "📄 0 of 3 📂 ET files____________ processed:            \n",
       "              0% ⏱️00:00 ⏳? ⚙️?it/s"
      ]
     },
     "metadata": {},
     "output_type": "display_data"
    },
    {
     "name": "stdout",
     "output_type": "stream",
     "text": [
      "process file  1004_Session_1_ET_1_data_correTS_mad_wobig.csv\n",
      "process file  1004_Session_1_ET_2_data_correTS_mad_wobig.csv\n",
      "process file  1004_Session_1_ET_3_data_correTS_mad_wobig.csv\n"
     ]
    },
    {
     "data": {
      "application/vnd.jupyter.widget-view+json": {
       "model_id": "3e5136323f1d424195c07837647593f5",
       "version_major": 2,
       "version_minor": 0
      },
      "text/plain": [
       "📄 0 of 3 📂 ET files____________ processed:            \n",
       "              0% ⏱️00:00 ⏳? ⚙️?it/s"
      ]
     },
     "metadata": {},
     "output_type": "display_data"
    },
    {
     "name": "stdout",
     "output_type": "stream",
     "text": [
      "process file  1004_Session_2_ET_1_data_correTS_mad_wobig.csv\n",
      "process file  1004_Session_2_ET_2_data_correTS_mad_wobig.csv\n",
      "process file  1004_Session_2_ET_3_data_correTS_mad_wobig.csv\n"
     ]
    },
    {
     "data": {
      "application/vnd.jupyter.widget-view+json": {
       "model_id": "4964e949d8dd45568cacdbd4b7251b1d",
       "version_major": 2,
       "version_minor": 0
      },
      "text/plain": [
       "📄 0 of 3 📂 ET files____________ processed:            \n",
       "              0% ⏱️00:00 ⏳? ⚙️?it/s"
      ]
     },
     "metadata": {},
     "output_type": "display_data"
    },
    {
     "name": "stdout",
     "output_type": "stream",
     "text": [
      "process file  1004_Session_3_ET_1_data_correTS_mad_wobig.csv\n",
      "process file  1004_Session_3_ET_2_data_correTS_mad_wobig.csv\n",
      "process file  1004_Session_3_ET_3_data_correTS_mad_wobig.csv\n"
     ]
    },
    {
     "data": {
      "application/vnd.jupyter.widget-view+json": {
       "model_id": "058c80f2adfe4d46bc3470b8c734e4a5",
       "version_major": 2,
       "version_minor": 0
      },
      "text/plain": [
       "📄 0 of 3 📂 ET files____________ processed:            \n",
       "              0% ⏱️00:00 ⏳? ⚙️?it/s"
      ]
     },
     "metadata": {},
     "output_type": "display_data"
    },
    {
     "name": "stdout",
     "output_type": "stream",
     "text": [
      "process file  1004_Session_4_ET_1_data_correTS_mad_wobig.csv\n",
      "process file  1004_Session_4_ET_2_data_correTS_mad_wobig.csv\n",
      "process file  1004_Session_4_ET_3_data_correTS_mad_wobig.csv\n"
     ]
    },
    {
     "data": {
      "application/vnd.jupyter.widget-view+json": {
       "model_id": "3287d98a5c654f33ae942deb9ec1dce5",
       "version_major": 2,
       "version_minor": 0
      },
      "text/plain": [
       "📄 0 of 3 📂 ET files____________ processed:            \n",
       "              0% ⏱️00:00 ⏳? ⚙️?it/s"
      ]
     },
     "metadata": {},
     "output_type": "display_data"
    },
    {
     "name": "stdout",
     "output_type": "stream",
     "text": [
      "process file  1004_Session_5_ET_1_data_correTS_mad_wobig.csv\n",
      "process file  1004_Session_5_ET_2_data_correTS_mad_wobig.csv\n",
      "process file  1004_Session_5_ET_3_data_correTS_mad_wobig.csv\n",
      "All files were found\n"
     ]
    }
   ],
   "source": [
    "# perform median absolute deviation to find outliers in the event durations:\n",
    "# https://hausetutorials.netlify.app/posts/2019-10-07-outlier-detection-with-median-absolute-deviation/\n",
    "\n",
    "# Ashima:\n",
    "# Finally, we rejected all fixations with a duration greater than 3.5 times the median absolute deviation of the\n",
    "# population fixation duration...\n",
    "\n",
    "\n",
    "plotting = False\n",
    "g_len = []\n",
    "s_len = []\n",
    "\n",
    "######################################### start file loop\n",
    "\n",
    "print('start round 1')\n",
    "# useful overviews\n",
    "noFilePartList = [len(PartList)]\n",
    "missingFiles = pd.DataFrame(columns=['Participant', 'Session'])\n",
    "\n",
    "\n",
    "\n",
    "# loop code over all participants in participant list\n",
    "parts_pbar = tqdm(\n",
    "    iterable=PartList,\n",
    "    total=len(PartList),\n",
    "    desc=\"participants\",\n",
    "    dynamic_ncols=True,\n",
    "    bar_format=B_FORMAT,\n",
    ")\n",
    "\n",
    "for indexPart, currentPart in enumerate(parts_pbar):\n",
    "#     currentPart = PartList[indexPart]\n",
    "    print(f'Participant {indexPart} - participant ID {currentPart}')\n",
    "    \n",
    "    sessions = list(range(1,6))\n",
    "#     sessions = list(range(2,3))\n",
    "    \n",
    "    session_pbar = tqdm(\n",
    "        iterable=sessions,\n",
    "        total=len(sessions),\n",
    "        desc=\"sessions________\",\n",
    "        dynamic_ncols=True,\n",
    "        bar_format=B_FORMAT,\n",
    "    )\n",
    "    \n",
    "    \n",
    "    # loop over recording sessions (should be 5 for each participant)\n",
    "#     for indexSess in range(1, 6):\n",
    "#     for indexSess in range(1, 2):\n",
    "    for indexSess in session_pbar:\n",
    "\n",
    "        # get all eye tracking sessions and loop over them (amount of ET files can vary)\n",
    "        fileNames = [f for f in os.listdir(data_savepath_intermediateP) if f.startswith(f'{currentPart}_Session_{indexSess}') and f.endswith('_data_correTS_mad_wobig.csv')]\n",
    "#         print(dirSess)\n",
    "#         print(f'Session {indexSess}')\n",
    "        \n",
    "        if len(fileNames)< 3:\n",
    "            hMF = pd.DataFrame({'Participant': [currentPart], 'Session': [indexSess], 'onlyExistingFilesInSession': [fileNames]})\n",
    "            missingFiles = pd.concat([missingFiles, hMF], ignore_index=True)\n",
    "            \n",
    "\n",
    "        # files progress bar\n",
    "        file_pbar = tqdm(\n",
    "            iterable=fileNames,\n",
    "            total=len(fileNames),\n",
    "            desc=\"📂 ET files____________\",\n",
    "            dynamic_ncols=True,\n",
    "            bar_format=B_FORMAT,\n",
    "        )\n",
    "\n",
    "            # loop necessary for displaying properly the progressbar with multiprocessing\n",
    "            # source: https://stackoverflow.com/a/40133278\n",
    "\n",
    "#             info_list = []\n",
    "\n",
    "        for file in file_pbar:\n",
    "\n",
    "            print('process file ', file)\n",
    "\n",
    "            # read in data\n",
    "            data = pd.read_csv(os.path.join(data_savepath_intermediateP, file))\n",
    "\n",
    "    ######################## start main code here:\n",
    "\n",
    "            data = data[data['cleanData'] == True]\n",
    "\n",
    "            data = data[~data[\"isBlink\"].isnull()]\n",
    "\n",
    "            # separate between gaze and saccade\n",
    "            gaze = data[data[\"events\"] == 2.0]\n",
    "            sacc = data[\n",
    "                data[\"events\"] == 1.0\n",
    "            ]  # as we do not always have 1.0 in the data, we take the end\n",
    "\n",
    "            g_len = g_len + gaze[\"length\"].tolist()\n",
    "            s_len = s_len + sacc[\"length\"].tolist()\n",
    "            \n",
    "                    \n",
    "if len(missingFiles)>0:\n",
    "    \n",
    "    print(\"missing files detected in part 1\")\n",
    "    print(missingFiles)\n",
    "    \n",
    "else:\n",
    "    print(\"All files were found\")\n",
    "                \n",
    "#########################\n",
    "\n",
    "# median of the absolute deviation (* 1.4826 when assuming normal distribution):\n",
    "gaze_mad = np.nanmedian(abs(g_len - np.nanmedian(g_len))) * 1.4826\n",
    "sacc_mad = np.nanmedian(abs(s_len - np.nanmedian(s_len))) * 1.4826\n",
    "\n",
    "# calculate the median to reject data\n",
    "g_len_med = np.nanmedian(g_len)\n",
    "s_len_med = np.nanmedian(s_len)\n",
    "\n",
    "\n",
    "################# start second loop here\n",
    "\n",
    "print('start round 2')\n",
    "# useful overviews\n",
    "noFilePartList = [len(PartList)]\n",
    "missingFiles = pd.DataFrame(columns=['Participant', 'Session'])\n",
    "\n",
    "\n",
    "\n",
    "# loop code over all participants in participant list\n",
    "parts_pbar = tqdm(\n",
    "    iterable=PartList,\n",
    "    total=len(PartList),\n",
    "    desc=\"participants\",\n",
    "    dynamic_ncols=True,\n",
    "    bar_format=B_FORMAT,\n",
    ")\n",
    "\n",
    "for indexPart, currentPart in enumerate(parts_pbar):\n",
    "#     currentPart = PartList[indexPart]\n",
    "    print(f'Participant {indexPart} - participant ID {currentPart}')\n",
    "    \n",
    "    sessions = list(range(1,6))\n",
    "#     sessions = list(range(2,3))\n",
    "    \n",
    "    session_pbar = tqdm(\n",
    "        iterable=sessions,\n",
    "        total=len(sessions),\n",
    "        desc=\"sessions________\",\n",
    "        dynamic_ncols=True,\n",
    "        bar_format=B_FORMAT,\n",
    "    )\n",
    "    \n",
    "    # loop over recording sessions (should be 5 for each participant)\n",
    "#     for indexSess in range(1, 6):\n",
    "#     for indexSess in range(1, 2):\n",
    "    for indexSess in session_pbar:\n",
    "\n",
    "        # get all eye tracking sessions and loop over them (amount of ET files can vary)\n",
    "        fileNames = [f for f in os.listdir(data_savepath_intermediateP) if f.startswith(f'{currentPart}_Session_{indexSess}') and f.endswith('_data_correTS_mad_wobig.csv')]\n",
    "#         print(dirSess)\n",
    "#         print(f'Session {indexSess}')\n",
    "        \n",
    "        if len(fileNames)< 3:\n",
    "            hMF = pd.DataFrame({'Participant': [currentPart], 'Session': [indexSess], 'onlyExistingFilesInSession': [fileNames]})\n",
    "            missingFiles = pd.concat([missingFiles, hMF], ignore_index=True)\n",
    "            \n",
    "        \n",
    "        # runs if files exist\n",
    "\n",
    "        # files progress bar\n",
    "        file_pbar = tqdm(\n",
    "            iterable=fileNames,\n",
    "            total=len(fileNames),\n",
    "            desc=\"📂 ET files____________\",\n",
    "            dynamic_ncols=True,\n",
    "            bar_format=B_FORMAT,\n",
    "        )\n",
    "\n",
    "            # loop necessary for displaying properly the progressbar with multiprocessing\n",
    "            # source: https://stackoverflow.com/a/40133278\n",
    "\n",
    "#             info_list = []\n",
    "\n",
    "        for file in file_pbar:\n",
    "\n",
    "            print('process file ', file)\n",
    "\n",
    "            # read in data\n",
    "            data = pd.read_csv(os.path.join(data_savepath_intermediateP, file))\n",
    "\n",
    "    ################ main code starts here#######\n",
    "\n",
    "            invalid = data[data['cleanData'] == False]\n",
    "            data = data[data['cleanData'] == True]\n",
    "\n",
    "            # separate between gaze and saccade\n",
    "            gaze = data[~data[\"isFix\"].isnull()]\n",
    "            sacc = data[data[\"isFix\"].isnull()]\n",
    "\n",
    "            # Deviations:\n",
    "            # then to calculate the deviations using the entire df for easy lookup later\n",
    "            gaze_mad_z = abs(gaze[\"length\"].tolist() - g_len_med) / gaze_mad\n",
    "            sacc_mad_z = abs(sacc[\"length\"].tolist() - s_len_med) / sacc_mad\n",
    "\n",
    "            # get the outliers:\n",
    "            gaze_mad_z[gaze_mad_z > 3.5] = np.nan\n",
    "            sacc_mad_z[sacc_mad_z > 3.5] = np.nan\n",
    "\n",
    "            # save the data:\n",
    "            data = pd.concat([gaze, sacc, invalid])\n",
    "            data[\"long_events\"] = gaze_mad_z.tolist() + sacc_mad_z.tolist() + [np.nan] * len(invalid)\n",
    "            data = data.sort_index()\n",
    "\n",
    "            # save df:\n",
    "            # 1 == MAD_woBig\n",
    "\n",
    "            if define_intervals == 1:\n",
    "                # save interval\n",
    "                saveName = file.replace(\"data_correTS_mad_wobig.csv\", \"data_processed_gazes.csv\")\n",
    "                data.to_csv(os.path.join(data_savepath_processed_gazes, saveName), index = False)\n",
    "            # 2 == 10_sec\n",
    "            else:\n",
    "                print(\"why are you using the 10 sec interval, it is not fully adapted in this script\")\n",
    "                    \n",
    "if len(missingFiles)>0:\n",
    "    \n",
    "    print(\"missing files detected in part 2\")\n",
    "    print(missingFiles)\n",
    "    \n",
    "else:\n",
    "    print(\"All files were found\")\n",
    "        "
   ]
  },
  {
   "cell_type": "code",
   "execution_count": 109,
   "id": "62c9b3bc",
   "metadata": {},
   "outputs": [
    {
     "data": {
      "text/html": [
       "<div>\n",
       "<style scoped>\n",
       "    .dataframe tbody tr th:only-of-type {\n",
       "        vertical-align: middle;\n",
       "    }\n",
       "\n",
       "    .dataframe tbody tr th {\n",
       "        vertical-align: top;\n",
       "    }\n",
       "\n",
       "    .dataframe thead th {\n",
       "        text-align: right;\n",
       "    }\n",
       "</style>\n",
       "<table border=\"1\" class=\"dataframe\">\n",
       "  <thead>\n",
       "    <tr style=\"text-align: right;\">\n",
       "      <th></th>\n",
       "      <th>timeStampDataPointStart</th>\n",
       "      <th>timeStampDataPointEnd</th>\n",
       "      <th>timeStampGetVerboseData</th>\n",
       "      <th>eyeOpennessLeft</th>\n",
       "      <th>eyeOpennessRight</th>\n",
       "      <th>pupilDiameterMillimetersLeft</th>\n",
       "      <th>pupilDiameterMillimetersRight</th>\n",
       "      <th>leftGazeValidityBitmask</th>\n",
       "      <th>rightGazeValidityBitmask</th>\n",
       "      <th>combinedGazeValidityBitmask</th>\n",
       "      <th>eyePositionCombinedWorld_x</th>\n",
       "      <th>eyePositionCombinedWorld_y</th>\n",
       "      <th>eyePositionCombinedWorld_z</th>\n",
       "      <th>eyeDirectionCombinedWorld_x</th>\n",
       "      <th>eyeDirectionCombinedWorld_y</th>\n",
       "      <th>eyeDirectionCombinedWorld_z</th>\n",
       "      <th>eyeDirectionCombinedLocal_x</th>\n",
       "      <th>eyeDirectionCombinedLocal_y</th>\n",
       "      <th>eyeDirectionCombinedLocal_z</th>\n",
       "      <th>eyePositionLeftWorld_x</th>\n",
       "      <th>eyePositionLeftWorld_y</th>\n",
       "      <th>eyePositionLeftWorld_z</th>\n",
       "      <th>eyeDirectionLeftWorld_x</th>\n",
       "      <th>eyeDirectionLeftWorld_y</th>\n",
       "      <th>eyeDirectionLeftWorld_z</th>\n",
       "      <th>eyeDirectionLeftLocal_x</th>\n",
       "      <th>eyeDirectionLeftLocal_y</th>\n",
       "      <th>eyeDirectionLeftLocal_z</th>\n",
       "      <th>eyePositionRightWorld_x</th>\n",
       "      <th>eyePositionRightWorld_y</th>\n",
       "      <th>eyePositionRightWorld_z</th>\n",
       "      <th>eyeDirectionRightWorld_x</th>\n",
       "      <th>eyeDirectionRightWorld_y</th>\n",
       "      <th>eyeDirectionRightWorld_z</th>\n",
       "      <th>eyeDirectionRightLocal_x</th>\n",
       "      <th>eyeDirectionRightLocal_y</th>\n",
       "      <th>eyeDirectionRightLocal_z</th>\n",
       "      <th>hmdPosition_x</th>\n",
       "      <th>hmdPosition_y</th>\n",
       "      <th>hmdPosition_z</th>\n",
       "      <th>hmdDirectionForward_x</th>\n",
       "      <th>hmdDirectionForward_y</th>\n",
       "      <th>hmdDirectionForward_z</th>\n",
       "      <th>hmdDirectionRight_x</th>\n",
       "      <th>hmdDirectionRight_y</th>\n",
       "      <th>hmdDirectionRight_z</th>\n",
       "      <th>hmdRotation_x</th>\n",
       "      <th>hmdRotation_y</th>\n",
       "      <th>hmdRotation_z</th>\n",
       "      <th>hmdDirectionUp_x</th>\n",
       "      <th>hmdDirectionUp_y</th>\n",
       "      <th>hmdDirectionUp_z</th>\n",
       "      <th>handLeftPosition_x</th>\n",
       "      <th>handLeftPosition_y</th>\n",
       "      <th>handLeftPosition_z</th>\n",
       "      <th>handRightPosition_x</th>\n",
       "      <th>handRightPosition_y</th>\n",
       "      <th>handRightPosition_z</th>\n",
       "      <th>handRightRotation_x</th>\n",
       "      <th>handRightRotation_y</th>\n",
       "      <th>handRightRotation_z</th>\n",
       "      <th>handRightDirectionForward_x</th>\n",
       "      <th>handRightDirectionForward_y</th>\n",
       "      <th>handRightDirectionForward_z</th>\n",
       "      <th>handRightDirectionRight_x</th>\n",
       "      <th>handRightDirectionRight_y</th>\n",
       "      <th>handRightDirectionRight_z</th>\n",
       "      <th>handRightDirectionUp_x</th>\n",
       "      <th>handRightDirectionUp_y</th>\n",
       "      <th>handRightDirectionUp_z</th>\n",
       "      <th>playerBodyPosition_x</th>\n",
       "      <th>playerBodyPosition_y</th>\n",
       "      <th>playerBodyPosition_z</th>\n",
       "      <th>bodyTrackerPosition_x</th>\n",
       "      <th>bodyTrackerPosition_y</th>\n",
       "      <th>bodyTrackerPosition_z</th>\n",
       "      <th>bodyTrackerRotation_x</th>\n",
       "      <th>bodyTrackerRotation_y</th>\n",
       "      <th>bodyTrackerRotation_z</th>\n",
       "      <th>hitObjectColliderName_1</th>\n",
       "      <th>ordinalOfHit_1</th>\n",
       "      <th>hitPointOnObject_x_1</th>\n",
       "      <th>hitPointOnObject_y_1</th>\n",
       "      <th>hitPointOnObject_z_1</th>\n",
       "      <th>hitObjectColliderBoundsCenter_x_1</th>\n",
       "      <th>hitObjectColliderBoundsCenter_y_1</th>\n",
       "      <th>hitObjectColliderBoundsCenter_z_1</th>\n",
       "      <th>hitObjectColliderName_2</th>\n",
       "      <th>ordinalOfHit_2</th>\n",
       "      <th>hitPointOnObject_x_2</th>\n",
       "      <th>hitPointOnObject_y_2</th>\n",
       "      <th>hitPointOnObject_z_2</th>\n",
       "      <th>hitObjectColliderBoundsCenter_x_2</th>\n",
       "      <th>hitObjectColliderBoundsCenter_y_2</th>\n",
       "      <th>hitObjectColliderBoundsCenter_z_2</th>\n",
       "      <th>DataRow</th>\n",
       "      <th>hitObjectColliderisGraffiti_1</th>\n",
       "      <th>hitObjectColliderisGraffiti_2</th>\n",
       "      <th>processedCollider_name</th>\n",
       "      <th>processedCollider_hitPointOnObject_x</th>\n",
       "      <th>processedCollider_hitPointOnObject_y</th>\n",
       "      <th>processedCollider_hitPointOnObject_z</th>\n",
       "      <th>processedCollider_hitObjectColliderBoundsCenter_x</th>\n",
       "      <th>processedCollider_hitObjectColliderBoundsCenter_y</th>\n",
       "      <th>processedCollider_hitObjectColliderBoundsCenter_z</th>\n",
       "      <th>replacedRows</th>\n",
       "      <th>processedColliderIsNH</th>\n",
       "      <th>processedCollider_NH_name</th>\n",
       "      <th>processedCollider_NH_hitPointOnObject_x</th>\n",
       "      <th>processedCollider_NH_hitPointOnObject_y</th>\n",
       "      <th>processedCollider_NH_hitPointOnObject_z</th>\n",
       "      <th>processedCollider_NH_hitObjectColliderBoundsCenter_x</th>\n",
       "      <th>processedCollider_NH_hitObjectColliderBoundsCenter_y</th>\n",
       "      <th>processedCollider_NH_hitObjectColliderBoundsCenter_z</th>\n",
       "      <th>replacedRows_NH</th>\n",
       "      <th>processedCollider_NH_IsNH</th>\n",
       "      <th>timeStampDataPointStart_converted</th>\n",
       "      <th>cleanData</th>\n",
       "      <th>isBlink</th>\n",
       "      <th>combined_vel</th>\n",
       "      <th>thresh</th>\n",
       "      <th>isFix</th>\n",
       "      <th>corrected_vel</th>\n",
       "      <th>events</th>\n",
       "      <th>length</th>\n",
       "      <th>distance</th>\n",
       "      <th>distance_NH</th>\n",
       "      <th>avg_dist</th>\n",
       "      <th>avg_dist_NH</th>\n",
       "      <th>names</th>\n",
       "      <th>namesNH</th>\n",
       "      <th>long_events</th>\n",
       "    </tr>\n",
       "  </thead>\n",
       "  <tbody>\n",
       "    <tr>\n",
       "      <th>0</th>\n",
       "      <td>1.618996e+09</td>\n",
       "      <td>1.618996e+09</td>\n",
       "      <td>1.618996e+09</td>\n",
       "      <td>1.000000</td>\n",
       "      <td>1.000000</td>\n",
       "      <td>3.698715</td>\n",
       "      <td>4.148895</td>\n",
       "      <td>31</td>\n",
       "      <td>31</td>\n",
       "      <td>3</td>\n",
       "      <td>-59.137527</td>\n",
       "      <td>2.383395</td>\n",
       "      <td>34.781815</td>\n",
       "      <td>-0.347088</td>\n",
       "      <td>-0.231328</td>\n",
       "      <td>0.908838</td>\n",
       "      <td>-0.071732</td>\n",
       "      <td>-0.018448</td>\n",
       "      <td>0.997238</td>\n",
       "      <td>-59.101711</td>\n",
       "      <td>2.384678</td>\n",
       "      <td>34.781570</td>\n",
       "      <td>-0.338667</td>\n",
       "      <td>-0.231240</td>\n",
       "      <td>0.912037</td>\n",
       "      <td>-0.062744</td>\n",
       "      <td>-0.018478</td>\n",
       "      <td>0.997849</td>\n",
       "      <td>-59.163315</td>\n",
       "      <td>2.382413</td>\n",
       "      <td>34.782089</td>\n",
       "      <td>-0.352012</td>\n",
       "      <td>-0.231392</td>\n",
       "      <td>0.906939</td>\n",
       "      <td>-0.076996</td>\n",
       "      <td>-0.018448</td>\n",
       "      <td>0.996857</td>\n",
       "      <td>-59.133713</td>\n",
       "      <td>2.385427</td>\n",
       "      <td>34.810440</td>\n",
       "      <td>-0.280929</td>\n",
       "      <td>-0.211922</td>\n",
       "      <td>0.936038</td>\n",
       "      <td>0.955704</td>\n",
       "      <td>0.027456</td>\n",
       "      <td>0.293047</td>\n",
       "      <td>12.235023</td>\n",
       "      <td>343.294128</td>\n",
       "      <td>1.609863</td>\n",
       "      <td>-0.087803</td>\n",
       "      <td>0.976901</td>\n",
       "      <td>0.194822</td>\n",
       "      <td>-59.099991</td>\n",
       "      <td>0.858675</td>\n",
       "      <td>34.790001</td>\n",
       "      <td>-59.178268</td>\n",
       "      <td>1.870465</td>\n",
       "      <td>35.084145</td>\n",
       "      <td>345.605347</td>\n",
       "      <td>335.328613</td>\n",
       "      <td>342.422760</td>\n",
       "      <td>-0.404309</td>\n",
       "      <td>0.248600</td>\n",
       "      <td>0.880189</td>\n",
       "      <td>0.834952</td>\n",
       "      <td>-0.292510</td>\n",
       "      <td>0.466147</td>\n",
       "      <td>0.373348</td>\n",
       "      <td>0.923383</td>\n",
       "      <td>-0.089304</td>\n",
       "      <td>-59.099991</td>\n",
       "      <td>0.858675</td>\n",
       "      <td>34.790001</td>\n",
       "      <td>-59.110550</td>\n",
       "      <td>1.955546</td>\n",
       "      <td>34.745995</td>\n",
       "      <td>344.902771</td>\n",
       "      <td>359.210938</td>\n",
       "      <td>354.450653</td>\n",
       "      <td>pavement_O.002</td>\n",
       "      <td>1.0</td>\n",
       "      <td>-61.306915</td>\n",
       "      <td>0.939402</td>\n",
       "      <td>40.454468</td>\n",
       "      <td>-165.163147</td>\n",
       "      <td>1.451688</td>\n",
       "      <td>-15.555870</td>\n",
       "      <td>terrain_O.001</td>\n",
       "      <td>2.0</td>\n",
       "      <td>-61.602016</td>\n",
       "      <td>0.742721</td>\n",
       "      <td>41.227188</td>\n",
       "      <td>-165.372559</td>\n",
       "      <td>-0.466505</td>\n",
       "      <td>-15.987518</td>\n",
       "      <td>0</td>\n",
       "      <td>0</td>\n",
       "      <td>0</td>\n",
       "      <td>pavement_O.002</td>\n",
       "      <td>-61.311642</td>\n",
       "      <td>0.939402</td>\n",
       "      <td>40.473656</td>\n",
       "      <td>-165.163147</td>\n",
       "      <td>1.451688</td>\n",
       "      <td>-15.555870</td>\n",
       "      <td>notReplaced</td>\n",
       "      <td>1</td>\n",
       "      <td>pavement_O.002</td>\n",
       "      <td>-61.311642</td>\n",
       "      <td>0.939402</td>\n",
       "      <td>40.473656</td>\n",
       "      <td>-165.163147</td>\n",
       "      <td>1.451688</td>\n",
       "      <td>-15.555870</td>\n",
       "      <td>notReplaced</td>\n",
       "      <td>1</td>\n",
       "      <td>0.00000</td>\n",
       "      <td>True</td>\n",
       "      <td>False</td>\n",
       "      <td>1.900148e-17</td>\n",
       "      <td>23.091412</td>\n",
       "      <td>1.900148e-17</td>\n",
       "      <td>1.900148e-17</td>\n",
       "      <td>2.0</td>\n",
       "      <td>0.13045</td>\n",
       "      <td>6.315280</td>\n",
       "      <td>6.315280</td>\n",
       "      <td>6.317395</td>\n",
       "      <td>6.317395</td>\n",
       "      <td>pavement_O.002</td>\n",
       "      <td>pavement_O.002</td>\n",
       "      <td>0.139915</td>\n",
       "    </tr>\n",
       "    <tr>\n",
       "      <th>13</th>\n",
       "      <td>1.618996e+09</td>\n",
       "      <td>1.618996e+09</td>\n",
       "      <td>1.618996e+09</td>\n",
       "      <td>1.000000</td>\n",
       "      <td>1.000000</td>\n",
       "      <td>3.328857</td>\n",
       "      <td>3.712921</td>\n",
       "      <td>31</td>\n",
       "      <td>31</td>\n",
       "      <td>3</td>\n",
       "      <td>-59.102238</td>\n",
       "      <td>2.385627</td>\n",
       "      <td>34.781189</td>\n",
       "      <td>-0.219317</td>\n",
       "      <td>-0.226426</td>\n",
       "      <td>0.949005</td>\n",
       "      <td>0.051926</td>\n",
       "      <td>-0.023346</td>\n",
       "      <td>0.998367</td>\n",
       "      <td>-59.101505</td>\n",
       "      <td>2.385807</td>\n",
       "      <td>34.781162</td>\n",
       "      <td>-0.219288</td>\n",
       "      <td>-0.226425</td>\n",
       "      <td>0.949013</td>\n",
       "      <td>0.051956</td>\n",
       "      <td>-0.023346</td>\n",
       "      <td>0.998367</td>\n",
       "      <td>-59.163086</td>\n",
       "      <td>2.383179</td>\n",
       "      <td>34.782738</td>\n",
       "      <td>-0.234538</td>\n",
       "      <td>-0.224019</td>\n",
       "      <td>0.945930</td>\n",
       "      <td>0.036530</td>\n",
       "      <td>-0.020294</td>\n",
       "      <td>0.999115</td>\n",
       "      <td>-59.133072</td>\n",
       "      <td>2.386233</td>\n",
       "      <td>34.810699</td>\n",
       "      <td>-0.271507</td>\n",
       "      <td>-0.205356</td>\n",
       "      <td>0.940273</td>\n",
       "      <td>0.958758</td>\n",
       "      <td>0.027629</td>\n",
       "      <td>0.282879</td>\n",
       "      <td>11.850368</td>\n",
       "      <td>343.893738</td>\n",
       "      <td>1.617720</td>\n",
       "      <td>-0.084070</td>\n",
       "      <td>0.978297</td>\n",
       "      <td>0.189386</td>\n",
       "      <td>-59.099991</td>\n",
       "      <td>0.858675</td>\n",
       "      <td>34.790001</td>\n",
       "      <td>-59.187119</td>\n",
       "      <td>1.870193</td>\n",
       "      <td>35.078201</td>\n",
       "      <td>345.167664</td>\n",
       "      <td>332.181183</td>\n",
       "      <td>345.742554</td>\n",
       "      <td>-0.451127</td>\n",
       "      <td>0.255992</td>\n",
       "      <td>0.854958</td>\n",
       "      <td>0.827765</td>\n",
       "      <td>-0.238073</td>\n",
       "      <td>0.508062</td>\n",
       "      <td>0.333602</td>\n",
       "      <td>0.936904</td>\n",
       "      <td>-0.104500</td>\n",
       "      <td>-59.099991</td>\n",
       "      <td>0.858675</td>\n",
       "      <td>34.790001</td>\n",
       "      <td>-59.110184</td>\n",
       "      <td>1.955436</td>\n",
       "      <td>34.745613</td>\n",
       "      <td>344.829224</td>\n",
       "      <td>359.407959</td>\n",
       "      <td>354.344910</td>\n",
       "      <td>pavement_O.002</td>\n",
       "      <td>1.0</td>\n",
       "      <td>-60.494385</td>\n",
       "      <td>0.947906</td>\n",
       "      <td>40.807724</td>\n",
       "      <td>-165.163147</td>\n",
       "      <td>1.451688</td>\n",
       "      <td>-15.555870</td>\n",
       "      <td>terrain_O.001</td>\n",
       "      <td>2.0</td>\n",
       "      <td>-60.691746</td>\n",
       "      <td>0.744146</td>\n",
       "      <td>41.661728</td>\n",
       "      <td>-165.372559</td>\n",
       "      <td>-0.466505</td>\n",
       "      <td>-15.987518</td>\n",
       "      <td>21</td>\n",
       "      <td>0</td>\n",
       "      <td>0</td>\n",
       "      <td>pavement_O.002</td>\n",
       "      <td>-60.526730</td>\n",
       "      <td>0.947743</td>\n",
       "      <td>40.807724</td>\n",
       "      <td>-165.163147</td>\n",
       "      <td>1.451688</td>\n",
       "      <td>-15.555870</td>\n",
       "      <td>notReplaced</td>\n",
       "      <td>1</td>\n",
       "      <td>pavement_O.002</td>\n",
       "      <td>-60.526730</td>\n",
       "      <td>0.947743</td>\n",
       "      <td>40.807724</td>\n",
       "      <td>-165.163147</td>\n",
       "      <td>1.451688</td>\n",
       "      <td>-15.555870</td>\n",
       "      <td>notReplaced</td>\n",
       "      <td>1</td>\n",
       "      <td>0.18650</td>\n",
       "      <td>True</td>\n",
       "      <td>False</td>\n",
       "      <td>5.133069e+00</td>\n",
       "      <td>45.658778</td>\n",
       "      <td>5.133069e+00</td>\n",
       "      <td>5.133069e+00</td>\n",
       "      <td>2.0</td>\n",
       "      <td>0.15525</td>\n",
       "      <td>6.244033</td>\n",
       "      <td>6.244033</td>\n",
       "      <td>6.244239</td>\n",
       "      <td>6.244239</td>\n",
       "      <td>pavement_O.002</td>\n",
       "      <td>pavement_O.002</td>\n",
       "      <td>0.109897</td>\n",
       "    </tr>\n",
       "    <tr>\n",
       "      <th>24</th>\n",
       "      <td>1.618996e+09</td>\n",
       "      <td>1.618996e+09</td>\n",
       "      <td>1.618996e+09</td>\n",
       "      <td>1.000000</td>\n",
       "      <td>1.000000</td>\n",
       "      <td>3.242981</td>\n",
       "      <td>3.252075</td>\n",
       "      <td>31</td>\n",
       "      <td>31</td>\n",
       "      <td>3</td>\n",
       "      <td>-59.102390</td>\n",
       "      <td>2.386460</td>\n",
       "      <td>34.780300</td>\n",
       "      <td>-0.278076</td>\n",
       "      <td>-0.072034</td>\n",
       "      <td>0.957846</td>\n",
       "      <td>0.008957</td>\n",
       "      <td>0.139282</td>\n",
       "      <td>0.990204</td>\n",
       "      <td>-59.102375</td>\n",
       "      <td>2.386461</td>\n",
       "      <td>34.780594</td>\n",
       "      <td>-0.278076</td>\n",
       "      <td>-0.072034</td>\n",
       "      <td>0.957846</td>\n",
       "      <td>0.008957</td>\n",
       "      <td>0.139282</td>\n",
       "      <td>0.990204</td>\n",
       "      <td>-59.163723</td>\n",
       "      <td>2.383891</td>\n",
       "      <td>34.781685</td>\n",
       "      <td>-0.259899</td>\n",
       "      <td>-0.052530</td>\n",
       "      <td>0.964200</td>\n",
       "      <td>0.028717</td>\n",
       "      <td>0.158005</td>\n",
       "      <td>0.987015</td>\n",
       "      <td>-59.133835</td>\n",
       "      <td>2.386223</td>\n",
       "      <td>34.809631</td>\n",
       "      <td>-0.277342</td>\n",
       "      <td>-0.210449</td>\n",
       "      <td>0.937439</td>\n",
       "      <td>0.956887</td>\n",
       "      <td>0.027146</td>\n",
       "      <td>0.289190</td>\n",
       "      <td>12.148677</td>\n",
       "      <td>343.519104</td>\n",
       "      <td>1.591206</td>\n",
       "      <td>-0.086308</td>\n",
       "      <td>0.977228</td>\n",
       "      <td>0.193847</td>\n",
       "      <td>-59.099991</td>\n",
       "      <td>0.858675</td>\n",
       "      <td>34.790001</td>\n",
       "      <td>-59.187576</td>\n",
       "      <td>1.856107</td>\n",
       "      <td>35.083755</td>\n",
       "      <td>348.801575</td>\n",
       "      <td>334.341125</td>\n",
       "      <td>350.829041</td>\n",
       "      <td>-0.424768</td>\n",
       "      <td>0.194207</td>\n",
       "      <td>0.884226</td>\n",
       "      <td>0.876463</td>\n",
       "      <td>-0.156346</td>\n",
       "      <td>0.455378</td>\n",
       "      <td>0.226683</td>\n",
       "      <td>0.968421</td>\n",
       "      <td>-0.103805</td>\n",
       "      <td>-59.099991</td>\n",
       "      <td>0.858675</td>\n",
       "      <td>34.790001</td>\n",
       "      <td>-59.110336</td>\n",
       "      <td>1.955461</td>\n",
       "      <td>34.745697</td>\n",
       "      <td>344.828827</td>\n",
       "      <td>359.395264</td>\n",
       "      <td>354.396423</td>\n",
       "      <td>terrain_O.001</td>\n",
       "      <td>1.0</td>\n",
       "      <td>-64.907341</td>\n",
       "      <td>0.882722</td>\n",
       "      <td>54.776054</td>\n",
       "      <td>-165.372559</td>\n",
       "      <td>-0.466505</td>\n",
       "      <td>-15.987518</td>\n",
       "      <td>noHit</td>\n",
       "      <td>NaN</td>\n",
       "      <td>NaN</td>\n",
       "      <td>NaN</td>\n",
       "      <td>NaN</td>\n",
       "      <td>NaN</td>\n",
       "      <td>NaN</td>\n",
       "      <td>NaN</td>\n",
       "      <td>41</td>\n",
       "      <td>0</td>\n",
       "      <td>0</td>\n",
       "      <td>terrain_O.001</td>\n",
       "      <td>-64.569527</td>\n",
       "      <td>0.882722</td>\n",
       "      <td>53.693695</td>\n",
       "      <td>-165.372559</td>\n",
       "      <td>-0.466505</td>\n",
       "      <td>-15.987518</td>\n",
       "      <td>notReplaced</td>\n",
       "      <td>1</td>\n",
       "      <td>terrain_O.001</td>\n",
       "      <td>-64.569527</td>\n",
       "      <td>0.882722</td>\n",
       "      <td>53.693695</td>\n",
       "      <td>-165.372559</td>\n",
       "      <td>-0.466505</td>\n",
       "      <td>-15.987518</td>\n",
       "      <td>notReplaced</td>\n",
       "      <td>1</td>\n",
       "      <td>0.37498</td>\n",
       "      <td>True</td>\n",
       "      <td>False</td>\n",
       "      <td>3.426843e+01</td>\n",
       "      <td>45.658778</td>\n",
       "      <td>3.426843e+01</td>\n",
       "      <td>3.426843e+01</td>\n",
       "      <td>2.0</td>\n",
       "      <td>0.23610</td>\n",
       "      <td>22.263807</td>\n",
       "      <td>22.263807</td>\n",
       "      <td>22.261350</td>\n",
       "      <td>22.261350</td>\n",
       "      <td>terrain_O.001</td>\n",
       "      <td>terrain_O.001</td>\n",
       "      <td>0.924303</td>\n",
       "    </tr>\n",
       "    <tr>\n",
       "      <th>42</th>\n",
       "      <td>1.618996e+09</td>\n",
       "      <td>1.618996e+09</td>\n",
       "      <td>1.618996e+09</td>\n",
       "      <td>1.000000</td>\n",
       "      <td>1.000000</td>\n",
       "      <td>3.180649</td>\n",
       "      <td>3.276321</td>\n",
       "      <td>31</td>\n",
       "      <td>31</td>\n",
       "      <td>3</td>\n",
       "      <td>-59.117920</td>\n",
       "      <td>2.387322</td>\n",
       "      <td>34.780659</td>\n",
       "      <td>-0.329990</td>\n",
       "      <td>0.013847</td>\n",
       "      <td>0.943867</td>\n",
       "      <td>-0.039185</td>\n",
       "      <td>0.216919</td>\n",
       "      <td>0.975388</td>\n",
       "      <td>-59.103249</td>\n",
       "      <td>2.387967</td>\n",
       "      <td>34.780453</td>\n",
       "      <td>-0.336320</td>\n",
       "      <td>0.013862</td>\n",
       "      <td>0.941643</td>\n",
       "      <td>-0.045883</td>\n",
       "      <td>0.217102</td>\n",
       "      <td>0.975067</td>\n",
       "      <td>-59.164543</td>\n",
       "      <td>2.385583</td>\n",
       "      <td>34.781311</td>\n",
       "      <td>-0.309818</td>\n",
       "      <td>0.013776</td>\n",
       "      <td>0.950691</td>\n",
       "      <td>-0.017914</td>\n",
       "      <td>0.216263</td>\n",
       "      <td>0.976166</td>\n",
       "      <td>-59.134903</td>\n",
       "      <td>2.387401</td>\n",
       "      <td>34.809769</td>\n",
       "      <td>-0.279646</td>\n",
       "      <td>-0.202099</td>\n",
       "      <td>0.938592</td>\n",
       "      <td>0.955765</td>\n",
       "      <td>0.034229</td>\n",
       "      <td>0.292133</td>\n",
       "      <td>11.659719</td>\n",
       "      <td>343.408997</td>\n",
       "      <td>2.002932</td>\n",
       "      <td>-0.091167</td>\n",
       "      <td>0.978767</td>\n",
       "      <td>0.183587</td>\n",
       "      <td>-59.099991</td>\n",
       "      <td>0.858675</td>\n",
       "      <td>34.790001</td>\n",
       "      <td>-59.181961</td>\n",
       "      <td>1.846608</td>\n",
       "      <td>35.091125</td>\n",
       "      <td>350.598663</td>\n",
       "      <td>338.682648</td>\n",
       "      <td>357.249756</td>\n",
       "      <td>-0.358650</td>\n",
       "      <td>0.163349</td>\n",
       "      <td>0.919069</td>\n",
       "      <td>0.927659</td>\n",
       "      <td>-0.047338</td>\n",
       "      <td>0.370416</td>\n",
       "      <td>0.104014</td>\n",
       "      <td>0.985432</td>\n",
       "      <td>-0.134554</td>\n",
       "      <td>-59.099991</td>\n",
       "      <td>0.858675</td>\n",
       "      <td>34.790001</td>\n",
       "      <td>-59.110245</td>\n",
       "      <td>1.955453</td>\n",
       "      <td>34.745407</td>\n",
       "      <td>344.852234</td>\n",
       "      <td>359.457001</td>\n",
       "      <td>354.471222</td>\n",
       "      <td>Body</td>\n",
       "      <td>1.0</td>\n",
       "      <td>-88.208069</td>\n",
       "      <td>3.608083</td>\n",
       "      <td>117.986794</td>\n",
       "      <td>-88.419983</td>\n",
       "      <td>2.948229</td>\n",
       "      <td>119.199997</td>\n",
       "      <td>noHit</td>\n",
       "      <td>NaN</td>\n",
       "      <td>NaN</td>\n",
       "      <td>NaN</td>\n",
       "      <td>NaN</td>\n",
       "      <td>NaN</td>\n",
       "      <td>NaN</td>\n",
       "      <td>NaN</td>\n",
       "      <td>74</td>\n",
       "      <td>0</td>\n",
       "      <td>0</td>\n",
       "      <td>Body</td>\n",
       "      <td>-88.208069</td>\n",
       "      <td>3.556060</td>\n",
       "      <td>118.035774</td>\n",
       "      <td>-88.419983</td>\n",
       "      <td>2.948229</td>\n",
       "      <td>119.199997</td>\n",
       "      <td>notReplaced</td>\n",
       "      <td>1</td>\n",
       "      <td>Body</td>\n",
       "      <td>-88.208069</td>\n",
       "      <td>3.556060</td>\n",
       "      <td>118.035774</td>\n",
       "      <td>-88.419983</td>\n",
       "      <td>2.948229</td>\n",
       "      <td>119.199997</td>\n",
       "      <td>notReplaced</td>\n",
       "      <td>1</td>\n",
       "      <td>0.62248</td>\n",
       "      <td>True</td>\n",
       "      <td>False</td>\n",
       "      <td>5.233364e+00</td>\n",
       "      <td>45.658778</td>\n",
       "      <td>5.233364e+00</td>\n",
       "      <td>5.233364e+00</td>\n",
       "      <td>2.0</td>\n",
       "      <td>0.25544</td>\n",
       "      <td>83.219156</td>\n",
       "      <td>83.219156</td>\n",
       "      <td>83.214628</td>\n",
       "      <td>83.214628</td>\n",
       "      <td>Fence_34</td>\n",
       "      <td>Fence_34</td>\n",
       "      <td>1.119117</td>\n",
       "    </tr>\n",
       "    <tr>\n",
       "      <th>60</th>\n",
       "      <td>1.618996e+09</td>\n",
       "      <td>1.618996e+09</td>\n",
       "      <td>1.618996e+09</td>\n",
       "      <td>1.000000</td>\n",
       "      <td>1.000000</td>\n",
       "      <td>3.188950</td>\n",
       "      <td>3.376450</td>\n",
       "      <td>31</td>\n",
       "      <td>31</td>\n",
       "      <td>3</td>\n",
       "      <td>-59.158768</td>\n",
       "      <td>2.384192</td>\n",
       "      <td>34.782387</td>\n",
       "      <td>-0.232662</td>\n",
       "      <td>-0.284352</td>\n",
       "      <td>0.930059</td>\n",
       "      <td>0.028519</td>\n",
       "      <td>-0.083191</td>\n",
       "      <td>0.996124</td>\n",
       "      <td>-59.102722</td>\n",
       "      <td>2.386532</td>\n",
       "      <td>34.781494</td>\n",
       "      <td>-0.228346</td>\n",
       "      <td>-0.294671</td>\n",
       "      <td>0.927911</td>\n",
       "      <td>0.031769</td>\n",
       "      <td>-0.094055</td>\n",
       "      <td>0.995056</td>\n",
       "      <td>-59.163944</td>\n",
       "      <td>2.383977</td>\n",
       "      <td>34.782471</td>\n",
       "      <td>-0.233064</td>\n",
       "      <td>-0.283394</td>\n",
       "      <td>0.930250</td>\n",
       "      <td>0.028214</td>\n",
       "      <td>-0.082184</td>\n",
       "      <td>0.996216</td>\n",
       "      <td>-59.134048</td>\n",
       "      <td>2.387166</td>\n",
       "      <td>34.811386</td>\n",
       "      <td>-0.268047</td>\n",
       "      <td>-0.204555</td>\n",
       "      <td>0.941439</td>\n",
       "      <td>0.959751</td>\n",
       "      <td>0.028345</td>\n",
       "      <td>0.279419</td>\n",
       "      <td>11.803467</td>\n",
       "      <td>344.107269</td>\n",
       "      <td>1.659376</td>\n",
       "      <td>-0.083842</td>\n",
       "      <td>0.978445</td>\n",
       "      <td>0.188724</td>\n",
       "      <td>-59.099991</td>\n",
       "      <td>0.858675</td>\n",
       "      <td>34.790001</td>\n",
       "      <td>-59.182938</td>\n",
       "      <td>1.834557</td>\n",
       "      <td>35.095116</td>\n",
       "      <td>353.429443</td>\n",
       "      <td>339.659790</td>\n",
       "      <td>0.311770</td>\n",
       "      <td>-0.345311</td>\n",
       "      <td>0.114427</td>\n",
       "      <td>0.931486</td>\n",
       "      <td>0.937848</td>\n",
       "      <td>0.005406</td>\n",
       "      <td>0.347005</td>\n",
       "      <td>0.034671</td>\n",
       "      <td>0.993417</td>\n",
       "      <td>-0.109182</td>\n",
       "      <td>-59.099991</td>\n",
       "      <td>0.858675</td>\n",
       "      <td>34.790001</td>\n",
       "      <td>-59.110641</td>\n",
       "      <td>1.955508</td>\n",
       "      <td>34.745537</td>\n",
       "      <td>344.912292</td>\n",
       "      <td>359.487122</td>\n",
       "      <td>354.559937</td>\n",
       "      <td>pavement_O.002</td>\n",
       "      <td>1.0</td>\n",
       "      <td>-60.335403</td>\n",
       "      <td>0.946183</td>\n",
       "      <td>39.485832</td>\n",
       "      <td>-165.163147</td>\n",
       "      <td>1.451688</td>\n",
       "      <td>-15.555870</td>\n",
       "      <td>terrain_O.001</td>\n",
       "      <td>2.0</td>\n",
       "      <td>-60.529362</td>\n",
       "      <td>0.709135</td>\n",
       "      <td>40.261169</td>\n",
       "      <td>-165.372559</td>\n",
       "      <td>-0.466505</td>\n",
       "      <td>-15.987518</td>\n",
       "      <td>106</td>\n",
       "      <td>0</td>\n",
       "      <td>0</td>\n",
       "      <td>pavement_O.002</td>\n",
       "      <td>-60.328552</td>\n",
       "      <td>0.946217</td>\n",
       "      <td>39.484543</td>\n",
       "      <td>-165.163147</td>\n",
       "      <td>1.451688</td>\n",
       "      <td>-15.555870</td>\n",
       "      <td>notReplaced</td>\n",
       "      <td>1</td>\n",
       "      <td>pavement_O.002</td>\n",
       "      <td>-60.328552</td>\n",
       "      <td>0.946217</td>\n",
       "      <td>39.484543</td>\n",
       "      <td>-165.163147</td>\n",
       "      <td>1.451688</td>\n",
       "      <td>-15.555870</td>\n",
       "      <td>notReplaced</td>\n",
       "      <td>1</td>\n",
       "      <td>0.93397</td>\n",
       "      <td>True</td>\n",
       "      <td>False</td>\n",
       "      <td>6.348961e+00</td>\n",
       "      <td>32.377300</td>\n",
       "      <td>6.348961e+00</td>\n",
       "      <td>6.348961e+00</td>\n",
       "      <td>2.0</td>\n",
       "      <td>0.11110</td>\n",
       "      <td>4.988218</td>\n",
       "      <td>4.988218</td>\n",
       "      <td>4.988123</td>\n",
       "      <td>4.988123</td>\n",
       "      <td>pavement_O.002</td>\n",
       "      <td>pavement_O.002</td>\n",
       "      <td>0.334829</td>\n",
       "    </tr>\n",
       "    <tr>\n",
       "      <th>...</th>\n",
       "      <td>...</td>\n",
       "      <td>...</td>\n",
       "      <td>...</td>\n",
       "      <td>...</td>\n",
       "      <td>...</td>\n",
       "      <td>...</td>\n",
       "      <td>...</td>\n",
       "      <td>...</td>\n",
       "      <td>...</td>\n",
       "      <td>...</td>\n",
       "      <td>...</td>\n",
       "      <td>...</td>\n",
       "      <td>...</td>\n",
       "      <td>...</td>\n",
       "      <td>...</td>\n",
       "      <td>...</td>\n",
       "      <td>...</td>\n",
       "      <td>...</td>\n",
       "      <td>...</td>\n",
       "      <td>...</td>\n",
       "      <td>...</td>\n",
       "      <td>...</td>\n",
       "      <td>...</td>\n",
       "      <td>...</td>\n",
       "      <td>...</td>\n",
       "      <td>...</td>\n",
       "      <td>...</td>\n",
       "      <td>...</td>\n",
       "      <td>...</td>\n",
       "      <td>...</td>\n",
       "      <td>...</td>\n",
       "      <td>...</td>\n",
       "      <td>...</td>\n",
       "      <td>...</td>\n",
       "      <td>...</td>\n",
       "      <td>...</td>\n",
       "      <td>...</td>\n",
       "      <td>...</td>\n",
       "      <td>...</td>\n",
       "      <td>...</td>\n",
       "      <td>...</td>\n",
       "      <td>...</td>\n",
       "      <td>...</td>\n",
       "      <td>...</td>\n",
       "      <td>...</td>\n",
       "      <td>...</td>\n",
       "      <td>...</td>\n",
       "      <td>...</td>\n",
       "      <td>...</td>\n",
       "      <td>...</td>\n",
       "      <td>...</td>\n",
       "      <td>...</td>\n",
       "      <td>...</td>\n",
       "      <td>...</td>\n",
       "      <td>...</td>\n",
       "      <td>...</td>\n",
       "      <td>...</td>\n",
       "      <td>...</td>\n",
       "      <td>...</td>\n",
       "      <td>...</td>\n",
       "      <td>...</td>\n",
       "      <td>...</td>\n",
       "      <td>...</td>\n",
       "      <td>...</td>\n",
       "      <td>...</td>\n",
       "      <td>...</td>\n",
       "      <td>...</td>\n",
       "      <td>...</td>\n",
       "      <td>...</td>\n",
       "      <td>...</td>\n",
       "      <td>...</td>\n",
       "      <td>...</td>\n",
       "      <td>...</td>\n",
       "      <td>...</td>\n",
       "      <td>...</td>\n",
       "      <td>...</td>\n",
       "      <td>...</td>\n",
       "      <td>...</td>\n",
       "      <td>...</td>\n",
       "      <td>...</td>\n",
       "      <td>...</td>\n",
       "      <td>...</td>\n",
       "      <td>...</td>\n",
       "      <td>...</td>\n",
       "      <td>...</td>\n",
       "      <td>...</td>\n",
       "      <td>...</td>\n",
       "      <td>...</td>\n",
       "      <td>...</td>\n",
       "      <td>...</td>\n",
       "      <td>...</td>\n",
       "      <td>...</td>\n",
       "      <td>...</td>\n",
       "      <td>...</td>\n",
       "      <td>...</td>\n",
       "      <td>...</td>\n",
       "      <td>...</td>\n",
       "      <td>...</td>\n",
       "      <td>...</td>\n",
       "      <td>...</td>\n",
       "      <td>...</td>\n",
       "      <td>...</td>\n",
       "      <td>...</td>\n",
       "      <td>...</td>\n",
       "      <td>...</td>\n",
       "      <td>...</td>\n",
       "      <td>...</td>\n",
       "      <td>...</td>\n",
       "      <td>...</td>\n",
       "      <td>...</td>\n",
       "      <td>...</td>\n",
       "      <td>...</td>\n",
       "      <td>...</td>\n",
       "      <td>...</td>\n",
       "      <td>...</td>\n",
       "      <td>...</td>\n",
       "      <td>...</td>\n",
       "      <td>...</td>\n",
       "      <td>...</td>\n",
       "      <td>...</td>\n",
       "      <td>...</td>\n",
       "      <td>...</td>\n",
       "      <td>...</td>\n",
       "      <td>...</td>\n",
       "      <td>...</td>\n",
       "      <td>...</td>\n",
       "      <td>...</td>\n",
       "      <td>...</td>\n",
       "      <td>...</td>\n",
       "      <td>...</td>\n",
       "      <td>...</td>\n",
       "      <td>...</td>\n",
       "    </tr>\n",
       "    <tr>\n",
       "      <th>38196</th>\n",
       "      <td>1.618997e+09</td>\n",
       "      <td>1.618997e+09</td>\n",
       "      <td>1.618997e+09</td>\n",
       "      <td>0.924052</td>\n",
       "      <td>0.939526</td>\n",
       "      <td>3.783386</td>\n",
       "      <td>3.852570</td>\n",
       "      <td>31</td>\n",
       "      <td>31</td>\n",
       "      <td>3</td>\n",
       "      <td>344.285645</td>\n",
       "      <td>-0.247706</td>\n",
       "      <td>131.110306</td>\n",
       "      <td>0.586434</td>\n",
       "      <td>-0.019487</td>\n",
       "      <td>0.809751</td>\n",
       "      <td>0.419510</td>\n",
       "      <td>-0.011368</td>\n",
       "      <td>0.907669</td>\n",
       "      <td>344.312073</td>\n",
       "      <td>-0.246375</td>\n",
       "      <td>131.109634</td>\n",
       "      <td>0.592999</td>\n",
       "      <td>-0.019672</td>\n",
       "      <td>0.804946</td>\n",
       "      <td>0.426880</td>\n",
       "      <td>-0.011444</td>\n",
       "      <td>0.904221</td>\n",
       "      <td>344.250854</td>\n",
       "      <td>-0.249458</td>\n",
       "      <td>131.111176</td>\n",
       "      <td>0.577753</td>\n",
       "      <td>-0.019251</td>\n",
       "      <td>0.815967</td>\n",
       "      <td>0.409790</td>\n",
       "      <td>-0.011276</td>\n",
       "      <td>0.912094</td>\n",
       "      <td>344.282990</td>\n",
       "      <td>-0.248755</td>\n",
       "      <td>131.138367</td>\n",
       "      <td>0.192833</td>\n",
       "      <td>-0.001719</td>\n",
       "      <td>0.981230</td>\n",
       "      <td>0.981106</td>\n",
       "      <td>-0.015637</td>\n",
       "      <td>-0.192836</td>\n",
       "      <td>0.098505</td>\n",
       "      <td>11.118182</td>\n",
       "      <td>359.104004</td>\n",
       "      <td>0.015675</td>\n",
       "      <td>0.999876</td>\n",
       "      <td>-0.001329</td>\n",
       "      <td>344.311188</td>\n",
       "      <td>-1.782490</td>\n",
       "      <td>131.077667</td>\n",
       "      <td>344.182281</td>\n",
       "      <td>-0.793627</td>\n",
       "      <td>131.321732</td>\n",
       "      <td>339.398773</td>\n",
       "      <td>334.099426</td>\n",
       "      <td>330.788422</td>\n",
       "      <td>-0.408878</td>\n",
       "      <td>0.351862</td>\n",
       "      <td>0.842029</td>\n",
       "      <td>0.710142</td>\n",
       "      <td>-0.456827</td>\n",
       "      <td>0.535731</td>\n",
       "      <td>0.573165</td>\n",
       "      <td>0.817008</td>\n",
       "      <td>-0.063085</td>\n",
       "      <td>344.363312</td>\n",
       "      <td>-1.782844</td>\n",
       "      <td>131.074417</td>\n",
       "      <td>344.277161</td>\n",
       "      <td>-0.682665</td>\n",
       "      <td>131.069351</td>\n",
       "      <td>350.594604</td>\n",
       "      <td>352.947784</td>\n",
       "      <td>355.408997</td>\n",
       "      <td>House_10</td>\n",
       "      <td>1.0</td>\n",
       "      <td>360.783447</td>\n",
       "      <td>-0.795918</td>\n",
       "      <td>153.890518</td>\n",
       "      <td>339.544708</td>\n",
       "      <td>5.255099</td>\n",
       "      <td>163.682312</td>\n",
       "      <td>noHit</td>\n",
       "      <td>NaN</td>\n",
       "      <td>NaN</td>\n",
       "      <td>NaN</td>\n",
       "      <td>NaN</td>\n",
       "      <td>NaN</td>\n",
       "      <td>NaN</td>\n",
       "      <td>NaN</td>\n",
       "      <td>66653</td>\n",
       "      <td>0</td>\n",
       "      <td>0</td>\n",
       "      <td>House_10</td>\n",
       "      <td>360.442780</td>\n",
       "      <td>-0.795918</td>\n",
       "      <td>154.071457</td>\n",
       "      <td>339.544708</td>\n",
       "      <td>5.255099</td>\n",
       "      <td>163.682312</td>\n",
       "      <td>notReplaced</td>\n",
       "      <td>0</td>\n",
       "      <td>House_10</td>\n",
       "      <td>360.442780</td>\n",
       "      <td>-0.795918</td>\n",
       "      <td>154.071457</td>\n",
       "      <td>339.544708</td>\n",
       "      <td>5.255099</td>\n",
       "      <td>163.682312</td>\n",
       "      <td>notReplaced</td>\n",
       "      <td>0</td>\n",
       "      <td>598.98555</td>\n",
       "      <td>True</td>\n",
       "      <td>False</td>\n",
       "      <td>9.348789e+00</td>\n",
       "      <td>25.638728</td>\n",
       "      <td>9.348789e+00</td>\n",
       "      <td>9.348789e+00</td>\n",
       "      <td>2.0</td>\n",
       "      <td>0.36655</td>\n",
       "      <td>28.153454</td>\n",
       "      <td>28.153454</td>\n",
       "      <td>27.972378</td>\n",
       "      <td>27.972378</td>\n",
       "      <td>House_10</td>\n",
       "      <td>House_10</td>\n",
       "      <td>2.238334</td>\n",
       "    </tr>\n",
       "    <tr>\n",
       "      <th>38221</th>\n",
       "      <td>1.618997e+09</td>\n",
       "      <td>1.618997e+09</td>\n",
       "      <td>1.618997e+09</td>\n",
       "      <td>0.872757</td>\n",
       "      <td>0.885701</td>\n",
       "      <td>3.786743</td>\n",
       "      <td>3.934616</td>\n",
       "      <td>31</td>\n",
       "      <td>31</td>\n",
       "      <td>3</td>\n",
       "      <td>345.140045</td>\n",
       "      <td>-0.252676</td>\n",
       "      <td>131.396530</td>\n",
       "      <td>0.555388</td>\n",
       "      <td>-0.011300</td>\n",
       "      <td>0.831493</td>\n",
       "      <td>0.291626</td>\n",
       "      <td>-0.015335</td>\n",
       "      <td>0.956390</td>\n",
       "      <td>345.171722</td>\n",
       "      <td>-0.251082</td>\n",
       "      <td>131.395782</td>\n",
       "      <td>0.551430</td>\n",
       "      <td>-0.018447</td>\n",
       "      <td>0.834001</td>\n",
       "      <td>0.287231</td>\n",
       "      <td>-0.022568</td>\n",
       "      <td>0.957581</td>\n",
       "      <td>345.110352</td>\n",
       "      <td>-0.254171</td>\n",
       "      <td>131.397247</td>\n",
       "      <td>0.559082</td>\n",
       "      <td>-0.004591</td>\n",
       "      <td>0.829085</td>\n",
       "      <td>0.295746</td>\n",
       "      <td>-0.008545</td>\n",
       "      <td>0.955215</td>\n",
       "      <td>345.141907</td>\n",
       "      <td>-0.253506</td>\n",
       "      <td>131.424149</td>\n",
       "      <td>0.289045</td>\n",
       "      <td>0.009293</td>\n",
       "      <td>0.957270</td>\n",
       "      <td>0.957224</td>\n",
       "      <td>-0.016652</td>\n",
       "      <td>-0.288869</td>\n",
       "      <td>359.467529</td>\n",
       "      <td>16.801546</td>\n",
       "      <td>359.045837</td>\n",
       "      <td>0.013256</td>\n",
       "      <td>0.999818</td>\n",
       "      <td>-0.013709</td>\n",
       "      <td>345.159119</td>\n",
       "      <td>-1.788002</td>\n",
       "      <td>131.365204</td>\n",
       "      <td>345.045135</td>\n",
       "      <td>-0.796789</td>\n",
       "      <td>131.611542</td>\n",
       "      <td>338.803528</td>\n",
       "      <td>335.901367</td>\n",
       "      <td>331.106689</td>\n",
       "      <td>-0.380685</td>\n",
       "      <td>0.361567</td>\n",
       "      <td>0.851086</td>\n",
       "      <td>0.727881</td>\n",
       "      <td>-0.450491</td>\n",
       "      <td>0.516958</td>\n",
       "      <td>0.570322</td>\n",
       "      <td>0.816288</td>\n",
       "      <td>-0.091683</td>\n",
       "      <td>345.208252</td>\n",
       "      <td>-1.788313</td>\n",
       "      <td>131.393951</td>\n",
       "      <td>345.131073</td>\n",
       "      <td>-0.687514</td>\n",
       "      <td>131.356186</td>\n",
       "      <td>350.011139</td>\n",
       "      <td>355.867889</td>\n",
       "      <td>355.408569</td>\n",
       "      <td>House_10</td>\n",
       "      <td>1.0</td>\n",
       "      <td>360.404175</td>\n",
       "      <td>-0.563249</td>\n",
       "      <td>154.249023</td>\n",
       "      <td>339.544708</td>\n",
       "      <td>5.255099</td>\n",
       "      <td>163.682312</td>\n",
       "      <td>terrain_G.001</td>\n",
       "      <td>2.0</td>\n",
       "      <td>509.559814</td>\n",
       "      <td>-3.598033</td>\n",
       "      <td>377.555634</td>\n",
       "      <td>658.501465</td>\n",
       "      <td>8.831285</td>\n",
       "      <td>479.094727</td>\n",
       "      <td>66696</td>\n",
       "      <td>0</td>\n",
       "      <td>0</td>\n",
       "      <td>House_10</td>\n",
       "      <td>360.404175</td>\n",
       "      <td>-0.498511</td>\n",
       "      <td>154.249023</td>\n",
       "      <td>339.544708</td>\n",
       "      <td>5.255099</td>\n",
       "      <td>163.682312</td>\n",
       "      <td>notReplaced</td>\n",
       "      <td>0</td>\n",
       "      <td>House_10</td>\n",
       "      <td>360.404175</td>\n",
       "      <td>-0.498511</td>\n",
       "      <td>154.249023</td>\n",
       "      <td>339.544708</td>\n",
       "      <td>5.255099</td>\n",
       "      <td>163.682312</td>\n",
       "      <td>notReplaced</td>\n",
       "      <td>0</td>\n",
       "      <td>599.37442</td>\n",
       "      <td>True</td>\n",
       "      <td>False</td>\n",
       "      <td>1.513841e+01</td>\n",
       "      <td>25.638728</td>\n",
       "      <td>1.513841e+01</td>\n",
       "      <td>1.513841e+01</td>\n",
       "      <td>2.0</td>\n",
       "      <td>0.13293</td>\n",
       "      <td>27.467410</td>\n",
       "      <td>27.467410</td>\n",
       "      <td>27.259237</td>\n",
       "      <td>27.259237</td>\n",
       "      <td>House_10</td>\n",
       "      <td>House_10</td>\n",
       "      <td>0.114934</td>\n",
       "    </tr>\n",
       "    <tr>\n",
       "      <th>38238</th>\n",
       "      <td>1.618997e+09</td>\n",
       "      <td>1.618997e+09</td>\n",
       "      <td>1.618997e+09</td>\n",
       "      <td>0.726463</td>\n",
       "      <td>0.797785</td>\n",
       "      <td>3.562866</td>\n",
       "      <td>4.249023</td>\n",
       "      <td>31</td>\n",
       "      <td>31</td>\n",
       "      <td>3</td>\n",
       "      <td>345.679413</td>\n",
       "      <td>-0.259579</td>\n",
       "      <td>131.913208</td>\n",
       "      <td>0.506218</td>\n",
       "      <td>0.044799</td>\n",
       "      <td>0.861228</td>\n",
       "      <td>0.175583</td>\n",
       "      <td>0.031540</td>\n",
       "      <td>0.983948</td>\n",
       "      <td>345.740692</td>\n",
       "      <td>-0.256234</td>\n",
       "      <td>131.910812</td>\n",
       "      <td>0.488018</td>\n",
       "      <td>-0.036360</td>\n",
       "      <td>0.872071</td>\n",
       "      <td>0.156219</td>\n",
       "      <td>-0.050034</td>\n",
       "      <td>0.986450</td>\n",
       "      <td>345.679413</td>\n",
       "      <td>-0.259579</td>\n",
       "      <td>131.913208</td>\n",
       "      <td>0.506218</td>\n",
       "      <td>0.044799</td>\n",
       "      <td>0.861228</td>\n",
       "      <td>0.175583</td>\n",
       "      <td>0.031540</td>\n",
       "      <td>0.983948</td>\n",
       "      <td>345.710297</td>\n",
       "      <td>-0.259097</td>\n",
       "      <td>131.939911</td>\n",
       "      <td>0.346756</td>\n",
       "      <td>0.016700</td>\n",
       "      <td>0.937807</td>\n",
       "      <td>0.937890</td>\n",
       "      <td>-0.018016</td>\n",
       "      <td>-0.346466</td>\n",
       "      <td>359.043152</td>\n",
       "      <td>20.291983</td>\n",
       "      <td>358.967529</td>\n",
       "      <td>0.011110</td>\n",
       "      <td>0.999698</td>\n",
       "      <td>-0.021910</td>\n",
       "      <td>345.718994</td>\n",
       "      <td>-1.794493</td>\n",
       "      <td>131.882675</td>\n",
       "      <td>345.617950</td>\n",
       "      <td>-0.800848</td>\n",
       "      <td>132.130630</td>\n",
       "      <td>338.175079</td>\n",
       "      <td>337.890106</td>\n",
       "      <td>331.032898</td>\n",
       "      <td>-0.349406</td>\n",
       "      <td>0.371772</td>\n",
       "      <td>0.860059</td>\n",
       "      <td>0.742792</td>\n",
       "      <td>-0.449594</td>\n",
       "      <td>0.496109</td>\n",
       "      <td>0.571117</td>\n",
       "      <td>0.812189</td>\n",
       "      <td>-0.119058</td>\n",
       "      <td>345.762268</td>\n",
       "      <td>-1.794622</td>\n",
       "      <td>131.915680</td>\n",
       "      <td>345.694885</td>\n",
       "      <td>-0.693780</td>\n",
       "      <td>131.872498</td>\n",
       "      <td>349.587128</td>\n",
       "      <td>357.975647</td>\n",
       "      <td>355.168213</td>\n",
       "      <td>House_10</td>\n",
       "      <td>1.0</td>\n",
       "      <td>359.193634</td>\n",
       "      <td>0.936381</td>\n",
       "      <td>154.904938</td>\n",
       "      <td>339.544708</td>\n",
       "      <td>5.255099</td>\n",
       "      <td>163.682312</td>\n",
       "      <td>noHit</td>\n",
       "      <td>NaN</td>\n",
       "      <td>NaN</td>\n",
       "      <td>NaN</td>\n",
       "      <td>NaN</td>\n",
       "      <td>NaN</td>\n",
       "      <td>NaN</td>\n",
       "      <td>NaN</td>\n",
       "      <td>66723</td>\n",
       "      <td>0</td>\n",
       "      <td>0</td>\n",
       "      <td>House_10</td>\n",
       "      <td>359.193634</td>\n",
       "      <td>0.954247</td>\n",
       "      <td>154.904938</td>\n",
       "      <td>339.544708</td>\n",
       "      <td>5.255099</td>\n",
       "      <td>163.682312</td>\n",
       "      <td>notReplaced</td>\n",
       "      <td>0</td>\n",
       "      <td>House_10</td>\n",
       "      <td>359.193634</td>\n",
       "      <td>0.954247</td>\n",
       "      <td>154.904938</td>\n",
       "      <td>339.544708</td>\n",
       "      <td>5.255099</td>\n",
       "      <td>163.682312</td>\n",
       "      <td>notReplaced</td>\n",
       "      <td>0</td>\n",
       "      <td>599.60753</td>\n",
       "      <td>True</td>\n",
       "      <td>False</td>\n",
       "      <td>1.007970e+01</td>\n",
       "      <td>25.638728</td>\n",
       "      <td>1.007970e+01</td>\n",
       "      <td>1.007970e+01</td>\n",
       "      <td>2.0</td>\n",
       "      <td>0.05555</td>\n",
       "      <td>26.695131</td>\n",
       "      <td>26.695131</td>\n",
       "      <td>26.619160</td>\n",
       "      <td>26.619160</td>\n",
       "      <td>House_10</td>\n",
       "      <td>House_10</td>\n",
       "      <td>0.894387</td>\n",
       "    </tr>\n",
       "    <tr>\n",
       "      <th>38243</th>\n",
       "      <td>1.618997e+09</td>\n",
       "      <td>1.618997e+09</td>\n",
       "      <td>1.618997e+09</td>\n",
       "      <td>0.721244</td>\n",
       "      <td>0.776155</td>\n",
       "      <td>3.917511</td>\n",
       "      <td>4.203064</td>\n",
       "      <td>31</td>\n",
       "      <td>31</td>\n",
       "      <td>3</td>\n",
       "      <td>346.001221</td>\n",
       "      <td>-0.260288</td>\n",
       "      <td>132.132065</td>\n",
       "      <td>0.511320</td>\n",
       "      <td>0.069088</td>\n",
       "      <td>0.856600</td>\n",
       "      <td>0.163177</td>\n",
       "      <td>0.052643</td>\n",
       "      <td>0.985184</td>\n",
       "      <td>346.062622</td>\n",
       "      <td>-0.257359</td>\n",
       "      <td>132.131119</td>\n",
       "      <td>0.508851</td>\n",
       "      <td>0.017957</td>\n",
       "      <td>0.860652</td>\n",
       "      <td>0.160355</td>\n",
       "      <td>0.001404</td>\n",
       "      <td>0.987045</td>\n",
       "      <td>346.001221</td>\n",
       "      <td>-0.260288</td>\n",
       "      <td>132.132065</td>\n",
       "      <td>0.511320</td>\n",
       "      <td>0.069088</td>\n",
       "      <td>0.856600</td>\n",
       "      <td>0.163177</td>\n",
       "      <td>0.052643</td>\n",
       "      <td>0.985184</td>\n",
       "      <td>346.032043</td>\n",
       "      <td>-0.259781</td>\n",
       "      <td>132.158798</td>\n",
       "      <td>0.364224</td>\n",
       "      <td>0.019791</td>\n",
       "      <td>0.931101</td>\n",
       "      <td>0.931256</td>\n",
       "      <td>-0.018587</td>\n",
       "      <td>-0.363890</td>\n",
       "      <td>358.865997</td>\n",
       "      <td>21.364237</td>\n",
       "      <td>358.934784</td>\n",
       "      <td>0.010105</td>\n",
       "      <td>0.999631</td>\n",
       "      <td>-0.025200</td>\n",
       "      <td>346.037933</td>\n",
       "      <td>-1.795443</td>\n",
       "      <td>132.102386</td>\n",
       "      <td>345.941833</td>\n",
       "      <td>-0.801501</td>\n",
       "      <td>132.350937</td>\n",
       "      <td>338.042236</td>\n",
       "      <td>338.699463</td>\n",
       "      <td>331.075897</td>\n",
       "      <td>-0.336909</td>\n",
       "      <td>0.373923</td>\n",
       "      <td>0.864103</td>\n",
       "      <td>0.749775</td>\n",
       "      <td>-0.448566</td>\n",
       "      <td>0.486442</td>\n",
       "      <td>0.569499</td>\n",
       "      <td>0.811769</td>\n",
       "      <td>-0.129232</td>\n",
       "      <td>346.085724</td>\n",
       "      <td>-1.795585</td>\n",
       "      <td>132.133606</td>\n",
       "      <td>346.015564</td>\n",
       "      <td>-0.694614</td>\n",
       "      <td>132.091751</td>\n",
       "      <td>349.417633</td>\n",
       "      <td>358.744446</td>\n",
       "      <td>355.111084</td>\n",
       "      <td>noHit</td>\n",
       "      <td>NaN</td>\n",
       "      <td>NaN</td>\n",
       "      <td>NaN</td>\n",
       "      <td>NaN</td>\n",
       "      <td>NaN</td>\n",
       "      <td>NaN</td>\n",
       "      <td>NaN</td>\n",
       "      <td>noHit</td>\n",
       "      <td>NaN</td>\n",
       "      <td>NaN</td>\n",
       "      <td>NaN</td>\n",
       "      <td>NaN</td>\n",
       "      <td>NaN</td>\n",
       "      <td>NaN</td>\n",
       "      <td>NaN</td>\n",
       "      <td>66731</td>\n",
       "      <td>0</td>\n",
       "      <td>0</td>\n",
       "      <td>noHit</td>\n",
       "      <td>359.203979</td>\n",
       "      <td>0.273184</td>\n",
       "      <td>154.880127</td>\n",
       "      <td>NaN</td>\n",
       "      <td>NaN</td>\n",
       "      <td>NaN</td>\n",
       "      <td>notReplaced</td>\n",
       "      <td>1</td>\n",
       "      <td>noHit</td>\n",
       "      <td>359.203979</td>\n",
       "      <td>0.273184</td>\n",
       "      <td>154.880127</td>\n",
       "      <td>NaN</td>\n",
       "      <td>NaN</td>\n",
       "      <td>NaN</td>\n",
       "      <td>notReplaced</td>\n",
       "      <td>1</td>\n",
       "      <td>599.68541</td>\n",
       "      <td>True</td>\n",
       "      <td>False</td>\n",
       "      <td>1.204345e+01</td>\n",
       "      <td>25.638728</td>\n",
       "      <td>1.204345e+01</td>\n",
       "      <td>1.204345e+01</td>\n",
       "      <td>2.0</td>\n",
       "      <td>0.06646</td>\n",
       "      <td>26.298969</td>\n",
       "      <td>26.298969</td>\n",
       "      <td>26.249373</td>\n",
       "      <td>26.249373</td>\n",
       "      <td>House_10</td>\n",
       "      <td>House_10</td>\n",
       "      <td>0.784491</td>\n",
       "    </tr>\n",
       "    <tr>\n",
       "      <th>38253</th>\n",
       "      <td>1.618997e+09</td>\n",
       "      <td>1.618997e+09</td>\n",
       "      <td>1.618997e+09</td>\n",
       "      <td>0.768145</td>\n",
       "      <td>0.806269</td>\n",
       "      <td>3.879852</td>\n",
       "      <td>4.141449</td>\n",
       "      <td>31</td>\n",
       "      <td>31</td>\n",
       "      <td>3</td>\n",
       "      <td>346.402191</td>\n",
       "      <td>-0.260968</td>\n",
       "      <td>132.430420</td>\n",
       "      <td>0.532210</td>\n",
       "      <td>0.018068</td>\n",
       "      <td>0.846407</td>\n",
       "      <td>0.156082</td>\n",
       "      <td>0.001602</td>\n",
       "      <td>0.987732</td>\n",
       "      <td>346.463379</td>\n",
       "      <td>-0.258143</td>\n",
       "      <td>132.429718</td>\n",
       "      <td>0.514006</td>\n",
       "      <td>-0.002421</td>\n",
       "      <td>0.857769</td>\n",
       "      <td>0.135315</td>\n",
       "      <td>-0.019394</td>\n",
       "      <td>0.990601</td>\n",
       "      <td>346.402039</td>\n",
       "      <td>-0.260975</td>\n",
       "      <td>132.430420</td>\n",
       "      <td>0.532253</td>\n",
       "      <td>0.018129</td>\n",
       "      <td>0.846387</td>\n",
       "      <td>0.156128</td>\n",
       "      <td>0.001663</td>\n",
       "      <td>0.987732</td>\n",
       "      <td>346.432678</td>\n",
       "      <td>-0.260279</td>\n",
       "      <td>132.457001</td>\n",
       "      <td>0.393544</td>\n",
       "      <td>0.020019</td>\n",
       "      <td>0.919088</td>\n",
       "      <td>0.919233</td>\n",
       "      <td>-0.021185</td>\n",
       "      <td>-0.393145</td>\n",
       "      <td>358.852905</td>\n",
       "      <td>23.180117</td>\n",
       "      <td>358.785858</td>\n",
       "      <td>0.011600</td>\n",
       "      <td>0.999575</td>\n",
       "      <td>-0.026739</td>\n",
       "      <td>346.432892</td>\n",
       "      <td>-1.796619</td>\n",
       "      <td>132.403152</td>\n",
       "      <td>346.349731</td>\n",
       "      <td>-0.799931</td>\n",
       "      <td>132.654236</td>\n",
       "      <td>337.353119</td>\n",
       "      <td>341.427734</td>\n",
       "      <td>330.583038</td>\n",
       "      <td>-0.293943</td>\n",
       "      <td>0.385051</td>\n",
       "      <td>0.874834</td>\n",
       "      <td>0.765470</td>\n",
       "      <td>-0.453291</td>\n",
       "      <td>0.456709</td>\n",
       "      <td>0.572410</td>\n",
       "      <td>0.803905</td>\n",
       "      <td>-0.161503</td>\n",
       "      <td>346.432892</td>\n",
       "      <td>-1.796619</td>\n",
       "      <td>132.403152</td>\n",
       "      <td>346.413757</td>\n",
       "      <td>-0.695388</td>\n",
       "      <td>132.391998</td>\n",
       "      <td>348.910950</td>\n",
       "      <td>0.513914</td>\n",
       "      <td>354.960144</td>\n",
       "      <td>House_10</td>\n",
       "      <td>1.0</td>\n",
       "      <td>360.203461</td>\n",
       "      <td>0.207582</td>\n",
       "      <td>154.379395</td>\n",
       "      <td>339.544708</td>\n",
       "      <td>5.255099</td>\n",
       "      <td>163.682312</td>\n",
       "      <td>terrain_G.001</td>\n",
       "      <td>2.0</td>\n",
       "      <td>639.052368</td>\n",
       "      <td>9.674502</td>\n",
       "      <td>597.849731</td>\n",
       "      <td>658.501465</td>\n",
       "      <td>8.831285</td>\n",
       "      <td>479.094727</td>\n",
       "      <td>66749</td>\n",
       "      <td>0</td>\n",
       "      <td>0</td>\n",
       "      <td>House_10</td>\n",
       "      <td>360.185242</td>\n",
       "      <td>0.207582</td>\n",
       "      <td>154.387634</td>\n",
       "      <td>339.544708</td>\n",
       "      <td>5.255099</td>\n",
       "      <td>163.682312</td>\n",
       "      <td>notReplaced</td>\n",
       "      <td>0</td>\n",
       "      <td>House_10</td>\n",
       "      <td>360.185242</td>\n",
       "      <td>0.207582</td>\n",
       "      <td>154.387634</td>\n",
       "      <td>339.544708</td>\n",
       "      <td>5.255099</td>\n",
       "      <td>163.682312</td>\n",
       "      <td>notReplaced</td>\n",
       "      <td>0</td>\n",
       "      <td>599.87389</td>\n",
       "      <td>True</td>\n",
       "      <td>False</td>\n",
       "      <td>1.405944e+00</td>\n",
       "      <td>25.638728</td>\n",
       "      <td>1.405944e+00</td>\n",
       "      <td>1.405944e+00</td>\n",
       "      <td>2.0</td>\n",
       "      <td>0.39977</td>\n",
       "      <td>25.904337</td>\n",
       "      <td>25.904337</td>\n",
       "      <td>25.885568</td>\n",
       "      <td>25.885568</td>\n",
       "      <td>House_10</td>\n",
       "      <td>House_10</td>\n",
       "      <td>2.572962</td>\n",
       "    </tr>\n",
       "  </tbody>\n",
       "</table>\n",
       "<p>2285 rows × 132 columns</p>\n",
       "</div>"
      ],
      "text/plain": [
       "       timeStampDataPointStart  timeStampDataPointEnd  \\\n",
       "0                 1.618996e+09           1.618996e+09   \n",
       "13                1.618996e+09           1.618996e+09   \n",
       "24                1.618996e+09           1.618996e+09   \n",
       "42                1.618996e+09           1.618996e+09   \n",
       "60                1.618996e+09           1.618996e+09   \n",
       "...                        ...                    ...   \n",
       "38196             1.618997e+09           1.618997e+09   \n",
       "38221             1.618997e+09           1.618997e+09   \n",
       "38238             1.618997e+09           1.618997e+09   \n",
       "38243             1.618997e+09           1.618997e+09   \n",
       "38253             1.618997e+09           1.618997e+09   \n",
       "\n",
       "       timeStampGetVerboseData  eyeOpennessLeft  eyeOpennessRight  \\\n",
       "0                 1.618996e+09         1.000000          1.000000   \n",
       "13                1.618996e+09         1.000000          1.000000   \n",
       "24                1.618996e+09         1.000000          1.000000   \n",
       "42                1.618996e+09         1.000000          1.000000   \n",
       "60                1.618996e+09         1.000000          1.000000   \n",
       "...                        ...              ...               ...   \n",
       "38196             1.618997e+09         0.924052          0.939526   \n",
       "38221             1.618997e+09         0.872757          0.885701   \n",
       "38238             1.618997e+09         0.726463          0.797785   \n",
       "38243             1.618997e+09         0.721244          0.776155   \n",
       "38253             1.618997e+09         0.768145          0.806269   \n",
       "\n",
       "       pupilDiameterMillimetersLeft  pupilDiameterMillimetersRight  \\\n",
       "0                          3.698715                       4.148895   \n",
       "13                         3.328857                       3.712921   \n",
       "24                         3.242981                       3.252075   \n",
       "42                         3.180649                       3.276321   \n",
       "60                         3.188950                       3.376450   \n",
       "...                             ...                            ...   \n",
       "38196                      3.783386                       3.852570   \n",
       "38221                      3.786743                       3.934616   \n",
       "38238                      3.562866                       4.249023   \n",
       "38243                      3.917511                       4.203064   \n",
       "38253                      3.879852                       4.141449   \n",
       "\n",
       "       leftGazeValidityBitmask  rightGazeValidityBitmask  \\\n",
       "0                           31                        31   \n",
       "13                          31                        31   \n",
       "24                          31                        31   \n",
       "42                          31                        31   \n",
       "60                          31                        31   \n",
       "...                        ...                       ...   \n",
       "38196                       31                        31   \n",
       "38221                       31                        31   \n",
       "38238                       31                        31   \n",
       "38243                       31                        31   \n",
       "38253                       31                        31   \n",
       "\n",
       "       combinedGazeValidityBitmask  eyePositionCombinedWorld_x  \\\n",
       "0                                3                  -59.137527   \n",
       "13                               3                  -59.102238   \n",
       "24                               3                  -59.102390   \n",
       "42                               3                  -59.117920   \n",
       "60                               3                  -59.158768   \n",
       "...                            ...                         ...   \n",
       "38196                            3                  344.285645   \n",
       "38221                            3                  345.140045   \n",
       "38238                            3                  345.679413   \n",
       "38243                            3                  346.001221   \n",
       "38253                            3                  346.402191   \n",
       "\n",
       "       eyePositionCombinedWorld_y  eyePositionCombinedWorld_z  \\\n",
       "0                        2.383395                   34.781815   \n",
       "13                       2.385627                   34.781189   \n",
       "24                       2.386460                   34.780300   \n",
       "42                       2.387322                   34.780659   \n",
       "60                       2.384192                   34.782387   \n",
       "...                           ...                         ...   \n",
       "38196                   -0.247706                  131.110306   \n",
       "38221                   -0.252676                  131.396530   \n",
       "38238                   -0.259579                  131.913208   \n",
       "38243                   -0.260288                  132.132065   \n",
       "38253                   -0.260968                  132.430420   \n",
       "\n",
       "       eyeDirectionCombinedWorld_x  eyeDirectionCombinedWorld_y  \\\n",
       "0                        -0.347088                    -0.231328   \n",
       "13                       -0.219317                    -0.226426   \n",
       "24                       -0.278076                    -0.072034   \n",
       "42                       -0.329990                     0.013847   \n",
       "60                       -0.232662                    -0.284352   \n",
       "...                            ...                          ...   \n",
       "38196                     0.586434                    -0.019487   \n",
       "38221                     0.555388                    -0.011300   \n",
       "38238                     0.506218                     0.044799   \n",
       "38243                     0.511320                     0.069088   \n",
       "38253                     0.532210                     0.018068   \n",
       "\n",
       "       eyeDirectionCombinedWorld_z  eyeDirectionCombinedLocal_x  \\\n",
       "0                         0.908838                    -0.071732   \n",
       "13                        0.949005                     0.051926   \n",
       "24                        0.957846                     0.008957   \n",
       "42                        0.943867                    -0.039185   \n",
       "60                        0.930059                     0.028519   \n",
       "...                            ...                          ...   \n",
       "38196                     0.809751                     0.419510   \n",
       "38221                     0.831493                     0.291626   \n",
       "38238                     0.861228                     0.175583   \n",
       "38243                     0.856600                     0.163177   \n",
       "38253                     0.846407                     0.156082   \n",
       "\n",
       "       eyeDirectionCombinedLocal_y  eyeDirectionCombinedLocal_z  \\\n",
       "0                        -0.018448                     0.997238   \n",
       "13                       -0.023346                     0.998367   \n",
       "24                        0.139282                     0.990204   \n",
       "42                        0.216919                     0.975388   \n",
       "60                       -0.083191                     0.996124   \n",
       "...                            ...                          ...   \n",
       "38196                    -0.011368                     0.907669   \n",
       "38221                    -0.015335                     0.956390   \n",
       "38238                     0.031540                     0.983948   \n",
       "38243                     0.052643                     0.985184   \n",
       "38253                     0.001602                     0.987732   \n",
       "\n",
       "       eyePositionLeftWorld_x  eyePositionLeftWorld_y  eyePositionLeftWorld_z  \\\n",
       "0                  -59.101711                2.384678               34.781570   \n",
       "13                 -59.101505                2.385807               34.781162   \n",
       "24                 -59.102375                2.386461               34.780594   \n",
       "42                 -59.103249                2.387967               34.780453   \n",
       "60                 -59.102722                2.386532               34.781494   \n",
       "...                       ...                     ...                     ...   \n",
       "38196              344.312073               -0.246375              131.109634   \n",
       "38221              345.171722               -0.251082              131.395782   \n",
       "38238              345.740692               -0.256234              131.910812   \n",
       "38243              346.062622               -0.257359              132.131119   \n",
       "38253              346.463379               -0.258143              132.429718   \n",
       "\n",
       "       eyeDirectionLeftWorld_x  eyeDirectionLeftWorld_y  \\\n",
       "0                    -0.338667                -0.231240   \n",
       "13                   -0.219288                -0.226425   \n",
       "24                   -0.278076                -0.072034   \n",
       "42                   -0.336320                 0.013862   \n",
       "60                   -0.228346                -0.294671   \n",
       "...                        ...                      ...   \n",
       "38196                 0.592999                -0.019672   \n",
       "38221                 0.551430                -0.018447   \n",
       "38238                 0.488018                -0.036360   \n",
       "38243                 0.508851                 0.017957   \n",
       "38253                 0.514006                -0.002421   \n",
       "\n",
       "       eyeDirectionLeftWorld_z  eyeDirectionLeftLocal_x  \\\n",
       "0                     0.912037                -0.062744   \n",
       "13                    0.949013                 0.051956   \n",
       "24                    0.957846                 0.008957   \n",
       "42                    0.941643                -0.045883   \n",
       "60                    0.927911                 0.031769   \n",
       "...                        ...                      ...   \n",
       "38196                 0.804946                 0.426880   \n",
       "38221                 0.834001                 0.287231   \n",
       "38238                 0.872071                 0.156219   \n",
       "38243                 0.860652                 0.160355   \n",
       "38253                 0.857769                 0.135315   \n",
       "\n",
       "       eyeDirectionLeftLocal_y  eyeDirectionLeftLocal_z  \\\n",
       "0                    -0.018478                 0.997849   \n",
       "13                   -0.023346                 0.998367   \n",
       "24                    0.139282                 0.990204   \n",
       "42                    0.217102                 0.975067   \n",
       "60                   -0.094055                 0.995056   \n",
       "...                        ...                      ...   \n",
       "38196                -0.011444                 0.904221   \n",
       "38221                -0.022568                 0.957581   \n",
       "38238                -0.050034                 0.986450   \n",
       "38243                 0.001404                 0.987045   \n",
       "38253                -0.019394                 0.990601   \n",
       "\n",
       "       eyePositionRightWorld_x  eyePositionRightWorld_y  \\\n",
       "0                   -59.163315                 2.382413   \n",
       "13                  -59.163086                 2.383179   \n",
       "24                  -59.163723                 2.383891   \n",
       "42                  -59.164543                 2.385583   \n",
       "60                  -59.163944                 2.383977   \n",
       "...                        ...                      ...   \n",
       "38196               344.250854                -0.249458   \n",
       "38221               345.110352                -0.254171   \n",
       "38238               345.679413                -0.259579   \n",
       "38243               346.001221                -0.260288   \n",
       "38253               346.402039                -0.260975   \n",
       "\n",
       "       eyePositionRightWorld_z  eyeDirectionRightWorld_x  \\\n",
       "0                    34.782089                 -0.352012   \n",
       "13                   34.782738                 -0.234538   \n",
       "24                   34.781685                 -0.259899   \n",
       "42                   34.781311                 -0.309818   \n",
       "60                   34.782471                 -0.233064   \n",
       "...                        ...                       ...   \n",
       "38196               131.111176                  0.577753   \n",
       "38221               131.397247                  0.559082   \n",
       "38238               131.913208                  0.506218   \n",
       "38243               132.132065                  0.511320   \n",
       "38253               132.430420                  0.532253   \n",
       "\n",
       "       eyeDirectionRightWorld_y  eyeDirectionRightWorld_z  \\\n",
       "0                     -0.231392                  0.906939   \n",
       "13                    -0.224019                  0.945930   \n",
       "24                    -0.052530                  0.964200   \n",
       "42                     0.013776                  0.950691   \n",
       "60                    -0.283394                  0.930250   \n",
       "...                         ...                       ...   \n",
       "38196                 -0.019251                  0.815967   \n",
       "38221                 -0.004591                  0.829085   \n",
       "38238                  0.044799                  0.861228   \n",
       "38243                  0.069088                  0.856600   \n",
       "38253                  0.018129                  0.846387   \n",
       "\n",
       "       eyeDirectionRightLocal_x  eyeDirectionRightLocal_y  \\\n",
       "0                     -0.076996                 -0.018448   \n",
       "13                     0.036530                 -0.020294   \n",
       "24                     0.028717                  0.158005   \n",
       "42                    -0.017914                  0.216263   \n",
       "60                     0.028214                 -0.082184   \n",
       "...                         ...                       ...   \n",
       "38196                  0.409790                 -0.011276   \n",
       "38221                  0.295746                 -0.008545   \n",
       "38238                  0.175583                  0.031540   \n",
       "38243                  0.163177                  0.052643   \n",
       "38253                  0.156128                  0.001663   \n",
       "\n",
       "       eyeDirectionRightLocal_z  hmdPosition_x  hmdPosition_y  hmdPosition_z  \\\n",
       "0                      0.996857     -59.133713       2.385427      34.810440   \n",
       "13                     0.999115     -59.133072       2.386233      34.810699   \n",
       "24                     0.987015     -59.133835       2.386223      34.809631   \n",
       "42                     0.976166     -59.134903       2.387401      34.809769   \n",
       "60                     0.996216     -59.134048       2.387166      34.811386   \n",
       "...                         ...            ...            ...            ...   \n",
       "38196                  0.912094     344.282990      -0.248755     131.138367   \n",
       "38221                  0.955215     345.141907      -0.253506     131.424149   \n",
       "38238                  0.983948     345.710297      -0.259097     131.939911   \n",
       "38243                  0.985184     346.032043      -0.259781     132.158798   \n",
       "38253                  0.987732     346.432678      -0.260279     132.457001   \n",
       "\n",
       "       hmdDirectionForward_x  hmdDirectionForward_y  hmdDirectionForward_z  \\\n",
       "0                  -0.280929              -0.211922               0.936038   \n",
       "13                 -0.271507              -0.205356               0.940273   \n",
       "24                 -0.277342              -0.210449               0.937439   \n",
       "42                 -0.279646              -0.202099               0.938592   \n",
       "60                 -0.268047              -0.204555               0.941439   \n",
       "...                      ...                    ...                    ...   \n",
       "38196               0.192833              -0.001719               0.981230   \n",
       "38221               0.289045               0.009293               0.957270   \n",
       "38238               0.346756               0.016700               0.937807   \n",
       "38243               0.364224               0.019791               0.931101   \n",
       "38253               0.393544               0.020019               0.919088   \n",
       "\n",
       "       hmdDirectionRight_x  hmdDirectionRight_y  hmdDirectionRight_z  \\\n",
       "0                 0.955704             0.027456             0.293047   \n",
       "13                0.958758             0.027629             0.282879   \n",
       "24                0.956887             0.027146             0.289190   \n",
       "42                0.955765             0.034229             0.292133   \n",
       "60                0.959751             0.028345             0.279419   \n",
       "...                    ...                  ...                  ...   \n",
       "38196             0.981106            -0.015637            -0.192836   \n",
       "38221             0.957224            -0.016652            -0.288869   \n",
       "38238             0.937890            -0.018016            -0.346466   \n",
       "38243             0.931256            -0.018587            -0.363890   \n",
       "38253             0.919233            -0.021185            -0.393145   \n",
       "\n",
       "       hmdRotation_x  hmdRotation_y  hmdRotation_z  hmdDirectionUp_x  \\\n",
       "0          12.235023     343.294128       1.609863         -0.087803   \n",
       "13         11.850368     343.893738       1.617720         -0.084070   \n",
       "24         12.148677     343.519104       1.591206         -0.086308   \n",
       "42         11.659719     343.408997       2.002932         -0.091167   \n",
       "60         11.803467     344.107269       1.659376         -0.083842   \n",
       "...              ...            ...            ...               ...   \n",
       "38196       0.098505      11.118182     359.104004          0.015675   \n",
       "38221     359.467529      16.801546     359.045837          0.013256   \n",
       "38238     359.043152      20.291983     358.967529          0.011110   \n",
       "38243     358.865997      21.364237     358.934784          0.010105   \n",
       "38253     358.852905      23.180117     358.785858          0.011600   \n",
       "\n",
       "       hmdDirectionUp_y  hmdDirectionUp_z  handLeftPosition_x  \\\n",
       "0              0.976901          0.194822          -59.099991   \n",
       "13             0.978297          0.189386          -59.099991   \n",
       "24             0.977228          0.193847          -59.099991   \n",
       "42             0.978767          0.183587          -59.099991   \n",
       "60             0.978445          0.188724          -59.099991   \n",
       "...                 ...               ...                 ...   \n",
       "38196          0.999876         -0.001329          344.311188   \n",
       "38221          0.999818         -0.013709          345.159119   \n",
       "38238          0.999698         -0.021910          345.718994   \n",
       "38243          0.999631         -0.025200          346.037933   \n",
       "38253          0.999575         -0.026739          346.432892   \n",
       "\n",
       "       handLeftPosition_y  handLeftPosition_z  handRightPosition_x  \\\n",
       "0                0.858675           34.790001           -59.178268   \n",
       "13               0.858675           34.790001           -59.187119   \n",
       "24               0.858675           34.790001           -59.187576   \n",
       "42               0.858675           34.790001           -59.181961   \n",
       "60               0.858675           34.790001           -59.182938   \n",
       "...                   ...                 ...                  ...   \n",
       "38196           -1.782490          131.077667           344.182281   \n",
       "38221           -1.788002          131.365204           345.045135   \n",
       "38238           -1.794493          131.882675           345.617950   \n",
       "38243           -1.795443          132.102386           345.941833   \n",
       "38253           -1.796619          132.403152           346.349731   \n",
       "\n",
       "       handRightPosition_y  handRightPosition_z  handRightRotation_x  \\\n",
       "0                 1.870465            35.084145           345.605347   \n",
       "13                1.870193            35.078201           345.167664   \n",
       "24                1.856107            35.083755           348.801575   \n",
       "42                1.846608            35.091125           350.598663   \n",
       "60                1.834557            35.095116           353.429443   \n",
       "...                    ...                  ...                  ...   \n",
       "38196            -0.793627           131.321732           339.398773   \n",
       "38221            -0.796789           131.611542           338.803528   \n",
       "38238            -0.800848           132.130630           338.175079   \n",
       "38243            -0.801501           132.350937           338.042236   \n",
       "38253            -0.799931           132.654236           337.353119   \n",
       "\n",
       "       handRightRotation_y  handRightRotation_z  handRightDirectionForward_x  \\\n",
       "0               335.328613           342.422760                    -0.404309   \n",
       "13              332.181183           345.742554                    -0.451127   \n",
       "24              334.341125           350.829041                    -0.424768   \n",
       "42              338.682648           357.249756                    -0.358650   \n",
       "60              339.659790             0.311770                    -0.345311   \n",
       "...                    ...                  ...                          ...   \n",
       "38196           334.099426           330.788422                    -0.408878   \n",
       "38221           335.901367           331.106689                    -0.380685   \n",
       "38238           337.890106           331.032898                    -0.349406   \n",
       "38243           338.699463           331.075897                    -0.336909   \n",
       "38253           341.427734           330.583038                    -0.293943   \n",
       "\n",
       "       handRightDirectionForward_y  handRightDirectionForward_z  \\\n",
       "0                         0.248600                     0.880189   \n",
       "13                        0.255992                     0.854958   \n",
       "24                        0.194207                     0.884226   \n",
       "42                        0.163349                     0.919069   \n",
       "60                        0.114427                     0.931486   \n",
       "...                            ...                          ...   \n",
       "38196                     0.351862                     0.842029   \n",
       "38221                     0.361567                     0.851086   \n",
       "38238                     0.371772                     0.860059   \n",
       "38243                     0.373923                     0.864103   \n",
       "38253                     0.385051                     0.874834   \n",
       "\n",
       "       handRightDirectionRight_x  handRightDirectionRight_y  \\\n",
       "0                       0.834952                  -0.292510   \n",
       "13                      0.827765                  -0.238073   \n",
       "24                      0.876463                  -0.156346   \n",
       "42                      0.927659                  -0.047338   \n",
       "60                      0.937848                   0.005406   \n",
       "...                          ...                        ...   \n",
       "38196                   0.710142                  -0.456827   \n",
       "38221                   0.727881                  -0.450491   \n",
       "38238                   0.742792                  -0.449594   \n",
       "38243                   0.749775                  -0.448566   \n",
       "38253                   0.765470                  -0.453291   \n",
       "\n",
       "       handRightDirectionRight_z  handRightDirectionUp_x  \\\n",
       "0                       0.466147                0.373348   \n",
       "13                      0.508062                0.333602   \n",
       "24                      0.455378                0.226683   \n",
       "42                      0.370416                0.104014   \n",
       "60                      0.347005                0.034671   \n",
       "...                          ...                     ...   \n",
       "38196                   0.535731                0.573165   \n",
       "38221                   0.516958                0.570322   \n",
       "38238                   0.496109                0.571117   \n",
       "38243                   0.486442                0.569499   \n",
       "38253                   0.456709                0.572410   \n",
       "\n",
       "       handRightDirectionUp_y  handRightDirectionUp_z  playerBodyPosition_x  \\\n",
       "0                    0.923383               -0.089304            -59.099991   \n",
       "13                   0.936904               -0.104500            -59.099991   \n",
       "24                   0.968421               -0.103805            -59.099991   \n",
       "42                   0.985432               -0.134554            -59.099991   \n",
       "60                   0.993417               -0.109182            -59.099991   \n",
       "...                       ...                     ...                   ...   \n",
       "38196                0.817008               -0.063085            344.363312   \n",
       "38221                0.816288               -0.091683            345.208252   \n",
       "38238                0.812189               -0.119058            345.762268   \n",
       "38243                0.811769               -0.129232            346.085724   \n",
       "38253                0.803905               -0.161503            346.432892   \n",
       "\n",
       "       playerBodyPosition_y  playerBodyPosition_z  bodyTrackerPosition_x  \\\n",
       "0                  0.858675             34.790001             -59.110550   \n",
       "13                 0.858675             34.790001             -59.110184   \n",
       "24                 0.858675             34.790001             -59.110336   \n",
       "42                 0.858675             34.790001             -59.110245   \n",
       "60                 0.858675             34.790001             -59.110641   \n",
       "...                     ...                   ...                    ...   \n",
       "38196             -1.782844            131.074417             344.277161   \n",
       "38221             -1.788313            131.393951             345.131073   \n",
       "38238             -1.794622            131.915680             345.694885   \n",
       "38243             -1.795585            132.133606             346.015564   \n",
       "38253             -1.796619            132.403152             346.413757   \n",
       "\n",
       "       bodyTrackerPosition_y  bodyTrackerPosition_z  bodyTrackerRotation_x  \\\n",
       "0                   1.955546              34.745995             344.902771   \n",
       "13                  1.955436              34.745613             344.829224   \n",
       "24                  1.955461              34.745697             344.828827   \n",
       "42                  1.955453              34.745407             344.852234   \n",
       "60                  1.955508              34.745537             344.912292   \n",
       "...                      ...                    ...                    ...   \n",
       "38196              -0.682665             131.069351             350.594604   \n",
       "38221              -0.687514             131.356186             350.011139   \n",
       "38238              -0.693780             131.872498             349.587128   \n",
       "38243              -0.694614             132.091751             349.417633   \n",
       "38253              -0.695388             132.391998             348.910950   \n",
       "\n",
       "       bodyTrackerRotation_y  bodyTrackerRotation_z hitObjectColliderName_1  \\\n",
       "0                 359.210938             354.450653          pavement_O.002   \n",
       "13                359.407959             354.344910          pavement_O.002   \n",
       "24                359.395264             354.396423           terrain_O.001   \n",
       "42                359.457001             354.471222                    Body   \n",
       "60                359.487122             354.559937          pavement_O.002   \n",
       "...                      ...                    ...                     ...   \n",
       "38196             352.947784             355.408997                House_10   \n",
       "38221             355.867889             355.408569                House_10   \n",
       "38238             357.975647             355.168213                House_10   \n",
       "38243             358.744446             355.111084                   noHit   \n",
       "38253               0.513914             354.960144                House_10   \n",
       "\n",
       "       ordinalOfHit_1  hitPointOnObject_x_1  hitPointOnObject_y_1  \\\n",
       "0                 1.0            -61.306915              0.939402   \n",
       "13                1.0            -60.494385              0.947906   \n",
       "24                1.0            -64.907341              0.882722   \n",
       "42                1.0            -88.208069              3.608083   \n",
       "60                1.0            -60.335403              0.946183   \n",
       "...               ...                   ...                   ...   \n",
       "38196             1.0            360.783447             -0.795918   \n",
       "38221             1.0            360.404175             -0.563249   \n",
       "38238             1.0            359.193634              0.936381   \n",
       "38243             NaN                   NaN                   NaN   \n",
       "38253             1.0            360.203461              0.207582   \n",
       "\n",
       "       hitPointOnObject_z_1  hitObjectColliderBoundsCenter_x_1  \\\n",
       "0                 40.454468                        -165.163147   \n",
       "13                40.807724                        -165.163147   \n",
       "24                54.776054                        -165.372559   \n",
       "42               117.986794                         -88.419983   \n",
       "60                39.485832                        -165.163147   \n",
       "...                     ...                                ...   \n",
       "38196            153.890518                         339.544708   \n",
       "38221            154.249023                         339.544708   \n",
       "38238            154.904938                         339.544708   \n",
       "38243                   NaN                                NaN   \n",
       "38253            154.379395                         339.544708   \n",
       "\n",
       "       hitObjectColliderBoundsCenter_y_1  hitObjectColliderBoundsCenter_z_1  \\\n",
       "0                               1.451688                         -15.555870   \n",
       "13                              1.451688                         -15.555870   \n",
       "24                             -0.466505                         -15.987518   \n",
       "42                              2.948229                         119.199997   \n",
       "60                              1.451688                         -15.555870   \n",
       "...                                  ...                                ...   \n",
       "38196                           5.255099                         163.682312   \n",
       "38221                           5.255099                         163.682312   \n",
       "38238                           5.255099                         163.682312   \n",
       "38243                                NaN                                NaN   \n",
       "38253                           5.255099                         163.682312   \n",
       "\n",
       "      hitObjectColliderName_2  ordinalOfHit_2  hitPointOnObject_x_2  \\\n",
       "0               terrain_O.001             2.0            -61.602016   \n",
       "13              terrain_O.001             2.0            -60.691746   \n",
       "24                      noHit             NaN                   NaN   \n",
       "42                      noHit             NaN                   NaN   \n",
       "60              terrain_O.001             2.0            -60.529362   \n",
       "...                       ...             ...                   ...   \n",
       "38196                   noHit             NaN                   NaN   \n",
       "38221           terrain_G.001             2.0            509.559814   \n",
       "38238                   noHit             NaN                   NaN   \n",
       "38243                   noHit             NaN                   NaN   \n",
       "38253           terrain_G.001             2.0            639.052368   \n",
       "\n",
       "       hitPointOnObject_y_2  hitPointOnObject_z_2  \\\n",
       "0                  0.742721             41.227188   \n",
       "13                 0.744146             41.661728   \n",
       "24                      NaN                   NaN   \n",
       "42                      NaN                   NaN   \n",
       "60                 0.709135             40.261169   \n",
       "...                     ...                   ...   \n",
       "38196                   NaN                   NaN   \n",
       "38221             -3.598033            377.555634   \n",
       "38238                   NaN                   NaN   \n",
       "38243                   NaN                   NaN   \n",
       "38253              9.674502            597.849731   \n",
       "\n",
       "       hitObjectColliderBoundsCenter_x_2  hitObjectColliderBoundsCenter_y_2  \\\n",
       "0                            -165.372559                          -0.466505   \n",
       "13                           -165.372559                          -0.466505   \n",
       "24                                   NaN                                NaN   \n",
       "42                                   NaN                                NaN   \n",
       "60                           -165.372559                          -0.466505   \n",
       "...                                  ...                                ...   \n",
       "38196                                NaN                                NaN   \n",
       "38221                         658.501465                           8.831285   \n",
       "38238                                NaN                                NaN   \n",
       "38243                                NaN                                NaN   \n",
       "38253                         658.501465                           8.831285   \n",
       "\n",
       "       hitObjectColliderBoundsCenter_z_2  DataRow  \\\n",
       "0                             -15.987518        0   \n",
       "13                            -15.987518       21   \n",
       "24                                   NaN       41   \n",
       "42                                   NaN       74   \n",
       "60                            -15.987518      106   \n",
       "...                                  ...      ...   \n",
       "38196                                NaN    66653   \n",
       "38221                         479.094727    66696   \n",
       "38238                                NaN    66723   \n",
       "38243                                NaN    66731   \n",
       "38253                         479.094727    66749   \n",
       "\n",
       "       hitObjectColliderisGraffiti_1  hitObjectColliderisGraffiti_2  \\\n",
       "0                                  0                              0   \n",
       "13                                 0                              0   \n",
       "24                                 0                              0   \n",
       "42                                 0                              0   \n",
       "60                                 0                              0   \n",
       "...                              ...                            ...   \n",
       "38196                              0                              0   \n",
       "38221                              0                              0   \n",
       "38238                              0                              0   \n",
       "38243                              0                              0   \n",
       "38253                              0                              0   \n",
       "\n",
       "      processedCollider_name  processedCollider_hitPointOnObject_x  \\\n",
       "0             pavement_O.002                            -61.311642   \n",
       "13            pavement_O.002                            -60.526730   \n",
       "24             terrain_O.001                            -64.569527   \n",
       "42                      Body                            -88.208069   \n",
       "60            pavement_O.002                            -60.328552   \n",
       "...                      ...                                   ...   \n",
       "38196               House_10                            360.442780   \n",
       "38221               House_10                            360.404175   \n",
       "38238               House_10                            359.193634   \n",
       "38243                  noHit                            359.203979   \n",
       "38253               House_10                            360.185242   \n",
       "\n",
       "       processedCollider_hitPointOnObject_y  \\\n",
       "0                                  0.939402   \n",
       "13                                 0.947743   \n",
       "24                                 0.882722   \n",
       "42                                 3.556060   \n",
       "60                                 0.946217   \n",
       "...                                     ...   \n",
       "38196                             -0.795918   \n",
       "38221                             -0.498511   \n",
       "38238                              0.954247   \n",
       "38243                              0.273184   \n",
       "38253                              0.207582   \n",
       "\n",
       "       processedCollider_hitPointOnObject_z  \\\n",
       "0                                 40.473656   \n",
       "13                                40.807724   \n",
       "24                                53.693695   \n",
       "42                               118.035774   \n",
       "60                                39.484543   \n",
       "...                                     ...   \n",
       "38196                            154.071457   \n",
       "38221                            154.249023   \n",
       "38238                            154.904938   \n",
       "38243                            154.880127   \n",
       "38253                            154.387634   \n",
       "\n",
       "       processedCollider_hitObjectColliderBoundsCenter_x  \\\n",
       "0                                            -165.163147   \n",
       "13                                           -165.163147   \n",
       "24                                           -165.372559   \n",
       "42                                            -88.419983   \n",
       "60                                           -165.163147   \n",
       "...                                                  ...   \n",
       "38196                                         339.544708   \n",
       "38221                                         339.544708   \n",
       "38238                                         339.544708   \n",
       "38243                                                NaN   \n",
       "38253                                         339.544708   \n",
       "\n",
       "       processedCollider_hitObjectColliderBoundsCenter_y  \\\n",
       "0                                               1.451688   \n",
       "13                                              1.451688   \n",
       "24                                             -0.466505   \n",
       "42                                              2.948229   \n",
       "60                                              1.451688   \n",
       "...                                                  ...   \n",
       "38196                                           5.255099   \n",
       "38221                                           5.255099   \n",
       "38238                                           5.255099   \n",
       "38243                                                NaN   \n",
       "38253                                           5.255099   \n",
       "\n",
       "       processedCollider_hitObjectColliderBoundsCenter_z replacedRows  \\\n",
       "0                                             -15.555870  notReplaced   \n",
       "13                                            -15.555870  notReplaced   \n",
       "24                                            -15.987518  notReplaced   \n",
       "42                                            119.199997  notReplaced   \n",
       "60                                            -15.555870  notReplaced   \n",
       "...                                                  ...          ...   \n",
       "38196                                         163.682312  notReplaced   \n",
       "38221                                         163.682312  notReplaced   \n",
       "38238                                         163.682312  notReplaced   \n",
       "38243                                                NaN  notReplaced   \n",
       "38253                                         163.682312  notReplaced   \n",
       "\n",
       "       processedColliderIsNH processedCollider_NH_name  \\\n",
       "0                          1            pavement_O.002   \n",
       "13                         1            pavement_O.002   \n",
       "24                         1             terrain_O.001   \n",
       "42                         1                      Body   \n",
       "60                         1            pavement_O.002   \n",
       "...                      ...                       ...   \n",
       "38196                      0                  House_10   \n",
       "38221                      0                  House_10   \n",
       "38238                      0                  House_10   \n",
       "38243                      1                     noHit   \n",
       "38253                      0                  House_10   \n",
       "\n",
       "       processedCollider_NH_hitPointOnObject_x  \\\n",
       "0                                   -61.311642   \n",
       "13                                  -60.526730   \n",
       "24                                  -64.569527   \n",
       "42                                  -88.208069   \n",
       "60                                  -60.328552   \n",
       "...                                        ...   \n",
       "38196                               360.442780   \n",
       "38221                               360.404175   \n",
       "38238                               359.193634   \n",
       "38243                               359.203979   \n",
       "38253                               360.185242   \n",
       "\n",
       "       processedCollider_NH_hitPointOnObject_y  \\\n",
       "0                                     0.939402   \n",
       "13                                    0.947743   \n",
       "24                                    0.882722   \n",
       "42                                    3.556060   \n",
       "60                                    0.946217   \n",
       "...                                        ...   \n",
       "38196                                -0.795918   \n",
       "38221                                -0.498511   \n",
       "38238                                 0.954247   \n",
       "38243                                 0.273184   \n",
       "38253                                 0.207582   \n",
       "\n",
       "       processedCollider_NH_hitPointOnObject_z  \\\n",
       "0                                    40.473656   \n",
       "13                                   40.807724   \n",
       "24                                   53.693695   \n",
       "42                                  118.035774   \n",
       "60                                   39.484543   \n",
       "...                                        ...   \n",
       "38196                               154.071457   \n",
       "38221                               154.249023   \n",
       "38238                               154.904938   \n",
       "38243                               154.880127   \n",
       "38253                               154.387634   \n",
       "\n",
       "       processedCollider_NH_hitObjectColliderBoundsCenter_x  \\\n",
       "0                                            -165.163147      \n",
       "13                                           -165.163147      \n",
       "24                                           -165.372559      \n",
       "42                                            -88.419983      \n",
       "60                                           -165.163147      \n",
       "...                                                  ...      \n",
       "38196                                         339.544708      \n",
       "38221                                         339.544708      \n",
       "38238                                         339.544708      \n",
       "38243                                                NaN      \n",
       "38253                                         339.544708      \n",
       "\n",
       "       processedCollider_NH_hitObjectColliderBoundsCenter_y  \\\n",
       "0                                               1.451688      \n",
       "13                                              1.451688      \n",
       "24                                             -0.466505      \n",
       "42                                              2.948229      \n",
       "60                                              1.451688      \n",
       "...                                                  ...      \n",
       "38196                                           5.255099      \n",
       "38221                                           5.255099      \n",
       "38238                                           5.255099      \n",
       "38243                                                NaN      \n",
       "38253                                           5.255099      \n",
       "\n",
       "       processedCollider_NH_hitObjectColliderBoundsCenter_z replacedRows_NH  \\\n",
       "0                                             -15.555870        notReplaced   \n",
       "13                                            -15.555870        notReplaced   \n",
       "24                                            -15.987518        notReplaced   \n",
       "42                                            119.199997        notReplaced   \n",
       "60                                            -15.555870        notReplaced   \n",
       "...                                                  ...                ...   \n",
       "38196                                         163.682312        notReplaced   \n",
       "38221                                         163.682312        notReplaced   \n",
       "38238                                         163.682312        notReplaced   \n",
       "38243                                                NaN        notReplaced   \n",
       "38253                                         163.682312        notReplaced   \n",
       "\n",
       "       processedCollider_NH_IsNH  timeStampDataPointStart_converted  \\\n",
       "0                              1                            0.00000   \n",
       "13                             1                            0.18650   \n",
       "24                             1                            0.37498   \n",
       "42                             1                            0.62248   \n",
       "60                             1                            0.93397   \n",
       "...                          ...                                ...   \n",
       "38196                          0                          598.98555   \n",
       "38221                          0                          599.37442   \n",
       "38238                          0                          599.60753   \n",
       "38243                          1                          599.68541   \n",
       "38253                          0                          599.87389   \n",
       "\n",
       "       cleanData  isBlink  combined_vel     thresh         isFix  \\\n",
       "0           True    False  1.900148e-17  23.091412  1.900148e-17   \n",
       "13          True    False  5.133069e+00  45.658778  5.133069e+00   \n",
       "24          True    False  3.426843e+01  45.658778  3.426843e+01   \n",
       "42          True    False  5.233364e+00  45.658778  5.233364e+00   \n",
       "60          True    False  6.348961e+00  32.377300  6.348961e+00   \n",
       "...          ...      ...           ...        ...           ...   \n",
       "38196       True    False  9.348789e+00  25.638728  9.348789e+00   \n",
       "38221       True    False  1.513841e+01  25.638728  1.513841e+01   \n",
       "38238       True    False  1.007970e+01  25.638728  1.007970e+01   \n",
       "38243       True    False  1.204345e+01  25.638728  1.204345e+01   \n",
       "38253       True    False  1.405944e+00  25.638728  1.405944e+00   \n",
       "\n",
       "       corrected_vel  events   length   distance  distance_NH   avg_dist  \\\n",
       "0       1.900148e-17     2.0  0.13045   6.315280     6.315280   6.317395   \n",
       "13      5.133069e+00     2.0  0.15525   6.244033     6.244033   6.244239   \n",
       "24      3.426843e+01     2.0  0.23610  22.263807    22.263807  22.261350   \n",
       "42      5.233364e+00     2.0  0.25544  83.219156    83.219156  83.214628   \n",
       "60      6.348961e+00     2.0  0.11110   4.988218     4.988218   4.988123   \n",
       "...              ...     ...      ...        ...          ...        ...   \n",
       "38196   9.348789e+00     2.0  0.36655  28.153454    28.153454  27.972378   \n",
       "38221   1.513841e+01     2.0  0.13293  27.467410    27.467410  27.259237   \n",
       "38238   1.007970e+01     2.0  0.05555  26.695131    26.695131  26.619160   \n",
       "38243   1.204345e+01     2.0  0.06646  26.298969    26.298969  26.249373   \n",
       "38253   1.405944e+00     2.0  0.39977  25.904337    25.904337  25.885568   \n",
       "\n",
       "       avg_dist_NH           names         namesNH  long_events  \n",
       "0         6.317395  pavement_O.002  pavement_O.002     0.139915  \n",
       "13        6.244239  pavement_O.002  pavement_O.002     0.109897  \n",
       "24       22.261350   terrain_O.001   terrain_O.001     0.924303  \n",
       "42       83.214628        Fence_34        Fence_34     1.119117  \n",
       "60        4.988123  pavement_O.002  pavement_O.002     0.334829  \n",
       "...            ...             ...             ...          ...  \n",
       "38196    27.972378        House_10        House_10     2.238334  \n",
       "38221    27.259237        House_10        House_10     0.114934  \n",
       "38238    26.619160        House_10        House_10     0.894387  \n",
       "38243    26.249373        House_10        House_10     0.784491  \n",
       "38253    25.885568        House_10        House_10     2.572962  \n",
       "\n",
       "[2285 rows x 132 columns]"
      ]
     },
     "metadata": {},
     "output_type": "display_data"
    },
    {
     "data": {
      "text/plain": [
       "0.16277380281777998"
      ]
     },
     "metadata": {},
     "output_type": "display_data"
    }
   ],
   "source": [
    "# plotting some gazes\n",
    "# ids = recordings.index.tolist()\n",
    "idd = [1]\n",
    "for uid in idd:\n",
    "    file = \"1004_Session_1_ET_1_data_processed_gazes.csv\"\n",
    "    data = pd.read_csv(os.path.join(data_savepath_processed_gazes, file))\n",
    "        \n",
    "    gaze = data[data[\"events\"] == 2.0]\n",
    "    gaze = gaze[~gaze[\"long_events\"].isnull()]\n",
    "\n",
    "    gaze = gaze[~gaze[\"names\"].isnull()]\n",
    "#     display(gaze)\n",
    "#     display(np.mean(gaze['length']))\n",
    "\n"
   ]
  },
  {
   "cell_type": "code",
   "execution_count": 148,
   "id": "7507b0e7",
   "metadata": {},
   "outputs": [
    {
     "name": "stdout",
     "output_type": "stream",
     "text": [
      "start\n"
     ]
    },
    {
     "data": {
      "application/vnd.jupyter.widget-view+json": {
       "model_id": "69b220074dd5431d9d4e20c7f9280dde",
       "version_major": 2,
       "version_minor": 0
      },
      "text/plain": [
       "📄 0 of 1 participants processed:            \n",
       "              0% ⏱️00:00 ⏳? ⚙️?it/s"
      ]
     },
     "metadata": {},
     "output_type": "display_data"
    },
    {
     "name": "stdout",
     "output_type": "stream",
     "text": [
      "Participant 0 - participant ID 1004\n"
     ]
    },
    {
     "data": {
      "application/vnd.jupyter.widget-view+json": {
       "model_id": "07d88a0736ca400ba573f8bc94f847a9",
       "version_major": 2,
       "version_minor": 0
      },
      "text/plain": [
       "📄 0 of 5 sessions________ processed:            \n",
       "              0% ⏱️00:00 ⏳? ⚙️?it/s"
      ]
     },
     "metadata": {},
     "output_type": "display_data"
    },
    {
     "data": {
      "application/vnd.jupyter.widget-view+json": {
       "model_id": "88419799c1d74303b68e64b49959812a",
       "version_major": 2,
       "version_minor": 0
      },
      "text/plain": [
       "📄 0 of 3 📂 ET files____________ processed:            \n",
       "              0% ⏱️00:00 ⏳? ⚙️?it/s"
      ]
     },
     "metadata": {},
     "output_type": "display_data"
    },
    {
     "name": "stdout",
     "output_type": "stream",
     "text": [
      "process file  1004_Session_1_ET_1_data_processed_gazes.csv\n",
      "process file  1004_Session_1_ET_2_data_processed_gazes.csv\n",
      "process file  1004_Session_1_ET_3_data_processed_gazes.csv\n"
     ]
    },
    {
     "data": {
      "application/vnd.jupyter.widget-view+json": {
       "model_id": "3a997c0086b2433086382afe2cb7a358",
       "version_major": 2,
       "version_minor": 0
      },
      "text/plain": [
       "📄 0 of 3 📂 ET files____________ processed:            \n",
       "              0% ⏱️00:00 ⏳? ⚙️?it/s"
      ]
     },
     "metadata": {},
     "output_type": "display_data"
    },
    {
     "name": "stdout",
     "output_type": "stream",
     "text": [
      "process file  1004_Session_2_ET_1_data_processed_gazes.csv\n",
      "process file  1004_Session_2_ET_2_data_processed_gazes.csv\n",
      "process file  1004_Session_2_ET_3_data_processed_gazes.csv\n"
     ]
    },
    {
     "data": {
      "application/vnd.jupyter.widget-view+json": {
       "model_id": "bdffce0d749d46f49b38c46ffa279190",
       "version_major": 2,
       "version_minor": 0
      },
      "text/plain": [
       "📄 0 of 3 📂 ET files____________ processed:            \n",
       "              0% ⏱️00:00 ⏳? ⚙️?it/s"
      ]
     },
     "metadata": {},
     "output_type": "display_data"
    },
    {
     "name": "stdout",
     "output_type": "stream",
     "text": [
      "process file  1004_Session_3_ET_1_data_processed_gazes.csv\n",
      "process file  1004_Session_3_ET_2_data_processed_gazes.csv\n",
      "process file  1004_Session_3_ET_3_data_processed_gazes.csv\n"
     ]
    },
    {
     "data": {
      "application/vnd.jupyter.widget-view+json": {
       "model_id": "cd8ca71a00be457db94ef86aa31a54fe",
       "version_major": 2,
       "version_minor": 0
      },
      "text/plain": [
       "📄 0 of 3 📂 ET files____________ processed:            \n",
       "              0% ⏱️00:00 ⏳? ⚙️?it/s"
      ]
     },
     "metadata": {},
     "output_type": "display_data"
    },
    {
     "name": "stdout",
     "output_type": "stream",
     "text": [
      "process file  1004_Session_4_ET_1_data_processed_gazes.csv\n",
      "process file  1004_Session_4_ET_2_data_processed_gazes.csv\n",
      "process file  1004_Session_4_ET_3_data_processed_gazes.csv\n"
     ]
    },
    {
     "data": {
      "application/vnd.jupyter.widget-view+json": {
       "model_id": "41e017a452b84ee0a89bf6024da147e9",
       "version_major": 2,
       "version_minor": 0
      },
      "text/plain": [
       "📄 0 of 3 📂 ET files____________ processed:            \n",
       "              0% ⏱️00:00 ⏳? ⚙️?it/s"
      ]
     },
     "metadata": {},
     "output_type": "display_data"
    },
    {
     "name": "stdout",
     "output_type": "stream",
     "text": [
      "process file  1004_Session_5_ET_1_data_processed_gazes.csv\n",
      "process file  1004_Session_5_ET_2_data_processed_gazes.csv\n",
      "process file  1004_Session_5_ET_3_data_processed_gazes.csv\n"
     ]
    }
   ],
   "source": [
    "print('start')\n",
    "\n",
    "\n",
    "\n",
    "# Initialize lists to store durations\n",
    "fixation_durations = []\n",
    "saccade_durations = []\n",
    "\n",
    "\n",
    "\n",
    "\n",
    "# useful overviews\n",
    "noFilePartList = [len(PartList)]\n",
    "missingFiles = pd.DataFrame(columns=['Participant', 'Session'])\n",
    "\n",
    "\n",
    "\n",
    "# loop code over all participants in participant list\n",
    "parts_pbar = tqdm(\n",
    "    iterable=PartList,\n",
    "    total=len(PartList),\n",
    "    desc=\"participants\",\n",
    "    dynamic_ncols=True,\n",
    "    bar_format=B_FORMAT,\n",
    ")\n",
    "\n",
    "for indexPart, currentPart in enumerate(parts_pbar):\n",
    "#     currentPart = PartList[indexPart]\n",
    "    print(f'Participant {indexPart} - participant ID {currentPart}')\n",
    "    \n",
    "    sessions = list(range(1,6))\n",
    "#     sessions = list(range(2,3))\n",
    "    \n",
    "    session_pbar = tqdm(\n",
    "        iterable=sessions,\n",
    "        total=len(sessions),\n",
    "        desc=\"sessions________\",\n",
    "        dynamic_ncols=True,\n",
    "        bar_format=B_FORMAT,\n",
    "    )\n",
    "    \n",
    "    \n",
    "    # loop over recording sessions (should be 5 for each participant)\n",
    "#     for indexSess in range(1, 6):\n",
    "#     for indexSess in range(1, 2):\n",
    "    for indexSess in session_pbar:\n",
    "\n",
    "        # get all eye tracking sessions and loop over them (amount of ET files can vary)\n",
    "        fileNames = [f for f in os.listdir(data_savepath_processed_gazes) if f.startswith(f'{currentPart}_Session_{indexSess}') and f.endswith('_data_processed_gazes.csv')]\n",
    "#         print(dirSess)\n",
    "#         print(f'Session {indexSess}')\n",
    "        \n",
    "        if len(fileNames)< 3:\n",
    "            hMF = pd.DataFrame({'Participant': [currentPart], 'Session': [indexSess], 'onlyExistingFilesInSession': [fileNames]})\n",
    "            missingFiles = pd.concat([missingFiles, hMF], ignore_index=True)\n",
    "            \n",
    "\n",
    "        # runs if files exist\n",
    "\n",
    "############ Main part starts here ######################################################################################\n",
    "        # To use it for later!!!\n",
    "        # based on remodnav --> has almost the same length as our filter\n",
    "\n",
    "        # files progress bar\n",
    "        file_pbar = tqdm(\n",
    "            iterable=fileNames,\n",
    "            total=len(fileNames),\n",
    "            desc=\"📂 ET files____________\",\n",
    "            dynamic_ncols=True,\n",
    "            bar_format=B_FORMAT,\n",
    "        )\n",
    "\n",
    "\n",
    "\n",
    "            # loop necessary for displaying properly the progressbar with multiprocessing\n",
    "            # source: https://stackoverflow.com/a/40133278\n",
    "\n",
    "#             info_list = []\n",
    "\n",
    "        for file in file_pbar:\n",
    "\n",
    "            print('process file ', file)\n",
    "\n",
    "            # read in data\n",
    "            data = pd.read_csv(os.path.join(data_savepath_processed_gazes, file))\n",
    "\n",
    "\n",
    "            # file = \"1004_Session_1_ET_1_data_processed_gazes.csv\"\n",
    "            # data = pd.read_csv(os.path.join(data_savepath_processed_gazes, file))\n",
    "\n",
    "\n",
    "            # Variables to store start times\n",
    "            fixation_start_time = None\n",
    "            saccade_start_time = None\n",
    "\n",
    "            # Iterate through the DataFrame to find start and end times\n",
    "            for index, row in data.iterrows():\n",
    "                if row['events'] == 2.0:\n",
    "                    fixation_start_time = row['timeStampDataPointStart_converted']\n",
    "                elif row['events'] == -2.0 and fixation_start_time is not None:\n",
    "                    fixation_durations.append((row['timeStampDataPointStart_converted'] - fixation_start_time))\n",
    "                    fixation_start_time = None\n",
    "                elif row['events'] == 1.0:\n",
    "                    saccade_start_time = row['timeStampDataPointStart_converted']\n",
    "                elif row['events'] == -1.0 and saccade_start_time is not None:\n",
    "                    saccade_durations.append((row['timeStampDataPointStart_converted'] - saccade_start_time))\n",
    "                    saccade_start_time = None"
   ]
  },
  {
   "cell_type": "code",
   "execution_count": null,
   "id": "4b64c13d",
   "metadata": {},
   "outputs": [],
   "source": [
    "\n",
    "\n"
   ]
  },
  {
   "cell_type": "code",
   "execution_count": 201,
   "id": "c3fc47c6",
   "metadata": {},
   "outputs": [],
   "source": [
    "goodData.head()\n",
    "fixation_durations2 = []\n",
    "saccade_durations2 = []\n",
    "\n",
    "fixation_start_time = None\n",
    "saccade_start_time = None\n",
    "\n",
    "# Iterate through the DataFrame to find start and end times\n",
    "for index, row in goodData.iterrows():\n",
    "    if row['events'] == 2.0:\n",
    "        fixation_start_time = row['time']\n",
    "    elif row['events'] == -2.0 and fixation_start_time is not None:\n",
    "        fixation_durations2.append((row['time'] - fixation_start_time))\n",
    "        fixation_start_time = None\n",
    "    elif row['events'] == 1.0:\n",
    "        saccade_start_time = row['time']\n",
    "    elif row['events'] == -1.0 and saccade_start_time is not None:\n",
    "        saccade_durations2.append((row['time'] - saccade_start_time))\n",
    "        saccade_start_time = None"
   ]
  },
  {
   "cell_type": "code",
   "execution_count": 217,
   "id": "1397bc96",
   "metadata": {},
   "outputs": [
    {
     "data": {
      "image/png": "[encoded data removed]",
      "text/plain": [
       "<Figure size 1440x1080 with 4 Axes>"
      ]
     },
     "metadata": {
      "needs_background": "light"
     },
     "output_type": "display_data"
    }
   ],
   "source": [
    "# Step 2: Create a density plot and histogram of fixation and saccade lengths\n",
    "fig, axs = plt.subplots(nrows=2, ncols=2, figsize=(20, 15))\n",
    "\n",
    "# axs[0].hist(fixation_durations,  bins=155,color='blue', alpha=0.7, label='Fixation Lengths')\n",
    "sns.histplot(fixation_durations, kde=True, ax = axs[0,0])\n",
    "axs[0,0].set_title('Westbrook Data - Density Plot of Fixation Lengths')\n",
    "axs[0,0].set_xlabel('Fixation Length (ms)')\n",
    "axs[0,0].set_ylabel('Density')\n",
    "axs[0,0].set_xlim(0,2)\n",
    "\n",
    "# axs[1].hist(saccade_durations, bins=155,  color='red', alpha=0.7, label='Saccade Lengths')\n",
    "sns.histplot(saccade_durations, kde=True,color='red', ax = axs[0,1])\n",
    "axs[0,1].set_title('Westbrook Data - Density Plot of Saccade Lengths')\n",
    "axs[0,1].set_xlabel('Saccade Length (ms)')\n",
    "axs[0,1].set_ylabel('Density')\n",
    "axs[0,1].set_xlim(0,2)\n",
    "\n",
    "\n",
    "# axs[0].hist(fixation_durations,  bins=155,color='blue', alpha=0.7, label='Fixation Lengths')\n",
    "sns.histplot(fixation_durations2, kde=True, ax = axs[1,0])\n",
    "axs[1,0].set_title('Debbies Data - Density Plot of Fixation Lengths')\n",
    "axs[1,0].set_xlabel('Fixation Length (ms)')\n",
    "axs[1,0].set_ylabel('Density')\n",
    "axs[1,0].set_xlim(0,2)\n",
    "\n",
    "# axs[1].hist(saccade_durations, bins=155,  color='red', alpha=0.7, label='Saccade Lengths')\n",
    "sns.histplot(saccade_durations2, kde=True, color='red',ax = axs[1,1])\n",
    "axs[1,1].set_title('Debbies Data - Density Plot of Saccade Lengths')\n",
    "axs[1,1].set_xlabel('Saccade Length (ms)')\n",
    "axs[1,1].set_ylabel('Density')\n",
    "axs[1,1].set_xlim(0,2)\n",
    "\n",
    "plt.tight_layout()\n",
    "plt.show()"
   ]
  },
  {
   "cell_type": "code",
   "execution_count": 221,
   "id": "5dabf740",
   "metadata": {},
   "outputs": [
    {
     "data": {
      "image/png": "[encoded data removed]",
      "text/plain": [
       "<Figure size 1440x1440 with 2 Axes>"
      ]
     },
     "metadata": {
      "needs_background": "light"
     },
     "output_type": "display_data"
    }
   ],
   "source": [
    "\n",
    "\n",
    "fig, axs = plt.subplots(nrows=2, ncols=1, figsize=(20, 20))\n",
    "\n",
    "# Plot histogram and density plot for fixation durations\n",
    "sns.histplot(fixation_durations, bins='auto', kde=True, color='blue', label='Fixation Lengths', alpha=0.6, stat=\"density\", ax = axs[0] )\n",
    "sns.histplot(saccade_durations, bins='auto', kde=True, color='red', label='Saccade Lengths', alpha=0.6, stat=\"density\", ax = axs[0])\n",
    "\n",
    "axs[0].set_title('Westbrook Data - Density Plot of Fixation and Saccade Lengths')\n",
    "axs[0].set_xlabel('Saccade Length (ms)')\n",
    "axs[0].set_ylabel('Density')\n",
    "axs[0].set_xlim(0,1)\n",
    "\n",
    "\n",
    "sns.histplot(fixation_durations2, bins='auto', kde=True, color='blue', label='Fixation Lengths', alpha=0.6, stat=\"density\", ax = axs[1] )\n",
    "sns.histplot(saccade_durations2, bins='auto', kde=True, color='red', label='Saccade Lengths', alpha=0.6, stat=\"density\", ax = axs[1])\n",
    "\n",
    "axs[1].set_title('Westbrook Data - Density Plot of Fixation and Saccade Lengths')\n",
    "axs[1].set_xlabel('Saccade Length (ms)')\n",
    "axs[1].set_ylabel('Density')\n",
    "axs[1].set_xlim(0,1)\n",
    "plt.legend()\n",
    "\n",
    "\n",
    "# Show plot\n",
    "plt.tight_layout()\n",
    "plt.show()"
   ]
  },
  {
   "cell_type": "code",
   "execution_count": 206,
   "id": "ff9c0cc4",
   "metadata": {},
   "outputs": [
    {
     "name": "stdout",
     "output_type": "stream",
     "text": [
      "mean fixation duration (ms) =  158.9314601384161\n",
      "mean saccade duration  (ms) =  96.09192686124473\n",
      "-----------------------\n",
      "median fixation duration (ms) =  125.48995018005371\n",
      "median saccade duration  (ms) =  55.56011199950106\n",
      "-----------------------\n",
      "33202\n",
      "27172\n",
      "-----------------------\n",
      "Sum fixation durations =  5276.842339515685\n",
      "Sum saccade durations =  2611.009836673739\n",
      "Sum all durations =  7887.852176189424\n",
      "-----------------------\n",
      "Fraction fixation durations of total data =  0.6689834218045523\n",
      "Fraction saccade durations of total data =  0.33101657819544766\n"
     ]
    },
    {
     "data": {
      "image/png": "[encoded data removed]",
      "text/plain": [
       "<Figure size 576x576 with 1 Axes>"
      ]
     },
     "metadata": {},
     "output_type": "display_data"
    }
   ],
   "source": [
    "\n",
    "print(\"mean fixation duration (ms) = \", np.mean(fixation_durations)*1000)\n",
    "print(\"mean saccade duration  (ms) = \",np.mean(saccade_durations)*1000)\n",
    "\n",
    "print(\"-----------------------\")\n",
    "print(\"median fixation duration (ms) = \",np.median(fixation_durations)*1000)\n",
    "print(\"median saccade duration  (ms) = \",np.median(saccade_durations)*1000)\n",
    "\n",
    "print(\"-----------------------\")\n",
    "\n",
    "print(len(fixation_durations))\n",
    "print(len(saccade_durations))\n",
    "\n",
    "\n",
    "sum_fixation = sum(fixation_durations)\n",
    "sum_saccade = sum(saccade_durations)\n",
    "total_durations = sum_fixation + sum_saccade\n",
    "\n",
    "print(\"-----------------------\")\n",
    "print(\"Sum fixation durations = \",sum_fixation)\n",
    "print(\"Sum saccade durations = \", sum_saccade)\n",
    "print(\"Sum all durations = \",total_durations)\n",
    "\n",
    "print(\"-----------------------\")\n",
    "print(\"Fraction fixation durations of total data = \", (sum_fixation/total_durations))\n",
    "print(\"Fraction saccade durations of total data = \", (sum_saccade / total_durations))\n",
    "\n",
    "# Step 2: Create a pie chart\n",
    "labels = ['Fixation', 'Saccade']\n",
    "sizes = [sum_fixation, sum_saccade]\n",
    "colors = ['green', 'grey']\n",
    "explode = (0.1, 0)  # explode the first slice for emphasis\n",
    "\n",
    "plt.figure(figsize=(8, 8))\n",
    "plt.pie(sizes, labels=labels, colors=colors, autopct='%1.1f%%', startangle= 90)\n",
    "plt.title('Proportion of Total Durations for Fixations and Saccades')\n",
    "plt.axis('equal')  # Equal aspect ratio ensures that pie is drawn as a circle.\n",
    "\n",
    "\n",
    "# Show plot\n",
    "plt.show()"
   ]
  },
  {
   "cell_type": "code",
   "execution_count": 226,
   "id": "c835a5d1",
   "metadata": {},
   "outputs": [
    {
     "name": "stdout",
     "output_type": "stream",
     "text": [
      "mean fixation duration (ms) =  242.03439515341043\n",
      "mean saccade duration  (ms) =  104.81775426219792\n",
      "-----------------------\n",
      "median fixation duration (ms) =  184.00000000008276\n",
      "median saccade duration  (ms) =  56.00000000004002\n",
      "-----------------------\n",
      "5117\n",
      "5103\n",
      "-----------------------\n",
      "Sum fixation durations =  1238.4900000000011\n",
      "Sum saccade durations =  534.884999999996\n",
      "Sum all durations =  1773.3749999999973\n",
      "-----------------------\n",
      "Fraction fixation durations of total data =  0.6983802072319747\n",
      "Fraction saccade durations of total data =  0.3016197927680253\n"
     ]
    },
    {
     "data": {
      "image/png": "[encoded data removed]",
      "text/plain": [
       "<Figure size 576x576 with 1 Axes>"
      ]
     },
     "metadata": {},
     "output_type": "display_data"
    }
   ],
   "source": [
    "\n",
    "print(\"mean fixation duration (ms) = \", np.mean(fixation_durations2)*1000)\n",
    "print(\"mean saccade duration  (ms) = \",np.mean(saccade_durations2)*1000)\n",
    "\n",
    "print(\"-----------------------\")\n",
    "print(\"median fixation duration (ms) = \",np.median(fixation_durations2)*1000)\n",
    "print(\"median saccade duration  (ms) = \",np.median(saccade_durations2)*1000)\n",
    "\n",
    "print(\"-----------------------\")\n",
    "\n",
    "print(len(fixation_durations2))\n",
    "print(len(saccade_durations2))\n",
    "\n",
    "\n",
    "sum_fixation = sum(fixation_durations2)\n",
    "sum_saccade = sum(saccade_durations2)\n",
    "total_durations = sum_fixation + sum_saccade\n",
    "\n",
    "print(\"-----------------------\")\n",
    "print(\"Sum fixation durations = \",sum_fixation)\n",
    "print(\"Sum saccade durations = \", sum_saccade)\n",
    "print(\"Sum all durations = \",total_durations)\n",
    "\n",
    "print(\"-----------------------\")\n",
    "print(\"Fraction fixation durations of total data = \", (sum_fixation/total_durations))\n",
    "print(\"Fraction saccade durations of total data = \", (sum_saccade / total_durations))\n",
    "\n",
    "# Step 2: Create a pie chart\n",
    "labels = ['Fixation', 'Saccade']\n",
    "sizes = [sum_fixation, sum_saccade]\n",
    "colors = ['blue', 'grey']\n",
    "explode = (0.1, 0)  # explode the first slice for emphasis\n",
    "\n",
    "plt.figure(figsize=(8, 8))\n",
    "plt.pie(sizes, labels=labels, colors=colors, autopct='%1.1f%%', startangle= 90)\n",
    "plt.title('Proportion of Total Durations for Fixations and Saccades')\n",
    "plt.axis('equal')  # Equal aspect ratio ensures that pie is drawn as a circle.\n",
    "\n",
    "\n",
    "# Show plot\n",
    "plt.show()"
   ]
  },
  {
   "cell_type": "code",
   "execution_count": 223,
   "id": "6d0e4c18",
   "metadata": {},
   "outputs": [
    {
     "data": {
      "image/png": "[encoded data removed]",
      "text/plain": [
       "<Figure size 432x288 with 1 Axes>"
      ]
     },
     "metadata": {
      "needs_background": "light"
     },
     "output_type": "display_data"
    }
   ],
   "source": [
    "variable_name = 'combined_vel'\n",
    "\n",
    "sns.kdeplot(data[variable_name], label='Westbrook data', color='orange')\n",
    "sns.kdeplot(goodData[variable_name], label='Debbies data', color='blue')\n",
    "\n",
    "\n",
    "\n",
    "plt.xlabel(variable_name)\n",
    "plt.ylabel('Density')\n",
    "plt.title('Normalized Kernel Density Estimates')\n",
    "plt.legend()\n",
    "\n",
    "plt.xlim(0, 100)\n",
    "\n",
    "plt.show()"
   ]
  },
  {
   "cell_type": "code",
   "execution_count": 232,
   "id": "5cb3ed9a",
   "metadata": {},
   "outputs": [],
   "source": [
    "file2 = \"1004_Session_1_ET_1_interval_mad_wobig.csv\"\n",
    "int_data = pd.read_csv(os.path.join(data_savepath_intervals, file2))\n",
    "\n",
    "goodInterval = pd.read_csv('E:/WestbrookProject/DebbiesData//interval_mad_wobig_70656182-09b3-4c19-9ae2-0a2ab2e19fed.csv')\n"
   ]
  },
  {
   "cell_type": "code",
   "execution_count": 241,
   "id": "2bee0029",
   "metadata": {},
   "outputs": [
    {
     "data": {
      "text/plain": [
       "(0.0, 250.0)"
      ]
     },
     "execution_count": 241,
     "metadata": {},
     "output_type": "execute_result"
    },
    {
     "data": {
      "image/png": "[encoded data removed]",
      "text/plain": [
       "<Figure size 1440x720 with 2 Axes>"
      ]
     },
     "metadata": {
      "needs_background": "light"
     },
     "output_type": "display_data"
    }
   ],
   "source": [
    "fig, axs = plt.subplots(nrows=1, ncols=2, figsize=(20, 10))\n",
    "\n",
    "sns.histplot(int_data[\"thresh\"], bins='auto', kde=True, color='blue', label='Threshs', alpha=0.6, stat=\"density\", ax = axs[0])\n",
    "axs[0].set_ylim(0, 0.02)\n",
    "axs[0].set_xlim(0, 250)\n",
    "sns.histplot(goodInterval[\"thresh\"], bins='auto', kde=True, color='green', label='Threshs', alpha=0.6, stat=\"density\",ax = axs[1])\n",
    "axs[1].set_ylim(0 ,0.02)\n",
    "axs[1].set_xlim(0, 250)"
   ]
  },
  {
   "cell_type": "code",
   "execution_count": 231,
   "id": "0f440a8e",
   "metadata": {},
   "outputs": [
    {
     "name": "stdout",
     "output_type": "stream",
     "text": [
      "--------- median all velocities----------\n",
      "10.616655872568824\n",
      "10.67012299410869\n",
      "--------- mean all velocities----------\n",
      "56.52722392317094\n",
      "45.063388349829836\n",
      "--------- 0s in velocities----------\n",
      "0.0005747727035217891\n",
      "0.0019456094081023822\n",
      "--------- NaNs in velocities----------\n",
      "0.004807189884000418\n",
      "0.013662501621341173\n"
     ]
    }
   ],
   "source": [
    "print('--------- median all velocities----------')\n",
    "print(np.nanmedian(data['combined_vel']))\n",
    "print(np.nanmedian(goodData['combined_vel']))\n",
    "\n",
    "print('--------- mean all velocities----------')\n",
    "print(np.mean(data['combined_vel']))\n",
    "print(np.mean(goodData['combined_vel']))\n",
    "\n",
    "\n",
    "print('--------- 0s in velocities----------')\n",
    "print((data['combined_vel']== 0).sum()/len(data))\n",
    "print((goodData['combined_vel']== 0).sum()/len(goodData))\n",
    "\n",
    "\n",
    "print('--------- NaNs in velocities----------')\n",
    "print(data['combined_vel'].isna().sum()/len(data))\n",
    "print(goodData['combined_vel'].isna().sum()/len(goodData))"
   ]
  },
  {
   "cell_type": "code",
   "execution_count": 265,
   "id": "96bda303",
   "metadata": {},
   "outputs": [
    {
     "name": "stdout",
     "output_type": "stream",
     "text": [
      "---------------------------------\n",
      "max sampling rate 1  201.6201509397683\n",
      "max sampling rate 2  1000.0000002510205\n",
      "---------------------------------\n",
      "mean sampling rate 1  63.764955510773426\n",
      "mean sampling rate 2  85.79712172495128\n",
      "---------------------------------\n",
      "median sampling rate 1  87.64243475353658\n",
      "median sampling rate 2  90.90909090912662\n",
      "---------------------------------\n"
     ]
    },
    {
     "data": {
      "text/plain": [
       "Text(0.5, 1.0, 'both sampling rates')"
      ]
     },
     "execution_count": 265,
     "metadata": {},
     "output_type": "execute_result"
    },
    {
     "data": {
      "image/png": "[encoded data removed]",
      "text/plain": [
       "<Figure size 1440x1080 with 3 Axes>"
      ]
     },
     "metadata": {
      "needs_background": "light"
     },
     "output_type": "display_data"
    }
   ],
   "source": [
    "samplingRate1 = data['timeStampDataPointStart'].diff()\n",
    "samplingRate2 = goodData['time'].diff()\n",
    "\n",
    "print(\"---------------------------------\")\n",
    "\n",
    "print(\"max sampling rate 1 \", 1/np.nanmin(samplingRate1))\n",
    "print(\"max sampling rate 2 \", 1/np.nanmin(samplingRate2))\n",
    "print(\"---------------------------------\")\n",
    "\n",
    "print(\"mean sampling rate 1 \", 1/np.nanmean(samplingRate1))\n",
    "print(\"mean sampling rate 2 \", 1/np.nanmean(samplingRate2))\n",
    "print(\"---------------------------------\")\n",
    "\n",
    "print(\"median sampling rate 1 \", 1/np.nanmedian(samplingRate1))\n",
    "print(\"median sampling rate 2 \", 1/np.nanmedian(samplingRate2))\n",
    "\n",
    "print(\"---------------------------------\")\n",
    "\n",
    "\n",
    "\n",
    "fig, axes = plt.subplots(nrows=3, ncols=1, figsize=(20, 15))\n",
    "\n",
    "axes[0].hist(1/samplingRate1, color='blue', bins = 1000, density = True)\n",
    "axes[0].set_title('sampling rate data original data')\n",
    "\n",
    "\n",
    "axes[1].hist(1/samplingRate2, color= 'red', bins = 1000, density = True)\n",
    "\n",
    "axes[1].set_title('sampling rate Debbies data')\n",
    "axes[1].set_ylim(0, 0.01)\n",
    "\n",
    "axes[2].hist(1/samplingRate1, color='blue', bins = 90, density = True)\n",
    "axes[2].hist(1/samplingRate2, color= 'red', bins = 90, density = True)\n",
    "\n",
    "axes[2].set_title('both sampling rates')"
   ]
  },
  {
   "cell_type": "code",
   "execution_count": 277,
   "id": "09920a1c",
   "metadata": {},
   "outputs": [
    {
     "ename": "MemoryError",
     "evalue": "Unable to allocate 106. TiB for an array with shape (14501269310888,) and data type float64",
     "output_type": "error",
     "traceback": [
      "\u001b[1;31m---------------------------------------------------------------------------\u001b[0m",
      "\u001b[1;31mMemoryError\u001b[0m                               Traceback (most recent call last)",
      "\u001b[1;32m<ipython-input-277-a68b418c5776>\u001b[0m in \u001b[0;36m<module>\u001b[1;34m\u001b[0m\n\u001b[0;32m      4\u001b[0m \u001b[1;31m# Plot histograms and density plots for both datasets on the same axis\u001b[0m\u001b[1;33m\u001b[0m\u001b[1;33m\u001b[0m\u001b[1;33m\u001b[0m\u001b[0m\n\u001b[0;32m      5\u001b[0m \u001b[0maxs\u001b[0m\u001b[1;33m[\u001b[0m\u001b[1;36m0\u001b[0m\u001b[1;33m]\u001b[0m\u001b[1;33m.\u001b[0m\u001b[0mhist\u001b[0m\u001b[1;33m(\u001b[0m\u001b[1;36m1\u001b[0m\u001b[1;33m/\u001b[0m\u001b[0msamplingRate1\u001b[0m\u001b[1;33m,\u001b[0m \u001b[0mbins\u001b[0m\u001b[1;33m=\u001b[0m\u001b[1;34m'auto'\u001b[0m\u001b[1;33m,\u001b[0m \u001b[0mcolor\u001b[0m\u001b[1;33m=\u001b[0m\u001b[1;34m'blue'\u001b[0m\u001b[1;33m,\u001b[0m  \u001b[0malpha\u001b[0m\u001b[1;33m=\u001b[0m\u001b[1;36m0.6\u001b[0m\u001b[1;33m)\u001b[0m\u001b[1;33m\u001b[0m\u001b[1;33m\u001b[0m\u001b[0m\n\u001b[1;32m----> 6\u001b[1;33m \u001b[0maxs\u001b[0m\u001b[1;33m[\u001b[0m\u001b[1;36m1\u001b[0m\u001b[1;33m]\u001b[0m\u001b[1;33m.\u001b[0m\u001b[0mhist\u001b[0m\u001b[1;33m(\u001b[0m\u001b[1;36m1\u001b[0m\u001b[1;33m/\u001b[0m\u001b[0msamplingRate2\u001b[0m\u001b[1;33m,\u001b[0m \u001b[0mbins\u001b[0m\u001b[1;33m=\u001b[0m\u001b[1;34m'auto'\u001b[0m\u001b[1;33m,\u001b[0m \u001b[0mcolor\u001b[0m\u001b[1;33m=\u001b[0m\u001b[1;34m'red'\u001b[0m\u001b[1;33m,\u001b[0m  \u001b[0malpha\u001b[0m\u001b[1;33m=\u001b[0m\u001b[1;36m0.6\u001b[0m\u001b[1;33m)\u001b[0m\u001b[1;33m\u001b[0m\u001b[1;33m\u001b[0m\u001b[0m\n\u001b[0m\u001b[0;32m      7\u001b[0m \u001b[1;31m# # Set titles and labels\u001b[0m\u001b[1;33m\u001b[0m\u001b[1;33m\u001b[0m\u001b[1;33m\u001b[0m\u001b[0m\n\u001b[0;32m      8\u001b[0m \u001b[1;31m# ax[0].set_title('Density Plot of Sampling Rates')\u001b[0m\u001b[1;33m\u001b[0m\u001b[1;33m\u001b[0m\u001b[1;33m\u001b[0m\u001b[0m\n",
      "\u001b[1;32mD:\\Software\\Programme\\Anaconda3\\envs\\graphs\\lib\\site-packages\\matplotlib\\__init__.py\u001b[0m in \u001b[0;36minner\u001b[1;34m(ax, data, *args, **kwargs)\u001b[0m\n\u001b[0;32m   1445\u001b[0m     \u001b[1;32mdef\u001b[0m \u001b[0minner\u001b[0m\u001b[1;33m(\u001b[0m\u001b[0max\u001b[0m\u001b[1;33m,\u001b[0m \u001b[1;33m*\u001b[0m\u001b[0margs\u001b[0m\u001b[1;33m,\u001b[0m \u001b[0mdata\u001b[0m\u001b[1;33m=\u001b[0m\u001b[1;32mNone\u001b[0m\u001b[1;33m,\u001b[0m \u001b[1;33m**\u001b[0m\u001b[0mkwargs\u001b[0m\u001b[1;33m)\u001b[0m\u001b[1;33m:\u001b[0m\u001b[1;33m\u001b[0m\u001b[1;33m\u001b[0m\u001b[0m\n\u001b[0;32m   1446\u001b[0m         \u001b[1;32mif\u001b[0m \u001b[0mdata\u001b[0m \u001b[1;32mis\u001b[0m \u001b[1;32mNone\u001b[0m\u001b[1;33m:\u001b[0m\u001b[1;33m\u001b[0m\u001b[1;33m\u001b[0m\u001b[0m\n\u001b[1;32m-> 1447\u001b[1;33m             \u001b[1;32mreturn\u001b[0m \u001b[0mfunc\u001b[0m\u001b[1;33m(\u001b[0m\u001b[0max\u001b[0m\u001b[1;33m,\u001b[0m \u001b[1;33m*\u001b[0m\u001b[0mmap\u001b[0m\u001b[1;33m(\u001b[0m\u001b[0msanitize_sequence\u001b[0m\u001b[1;33m,\u001b[0m \u001b[0margs\u001b[0m\u001b[1;33m)\u001b[0m\u001b[1;33m,\u001b[0m \u001b[1;33m**\u001b[0m\u001b[0mkwargs\u001b[0m\u001b[1;33m)\u001b[0m\u001b[1;33m\u001b[0m\u001b[1;33m\u001b[0m\u001b[0m\n\u001b[0m\u001b[0;32m   1448\u001b[0m \u001b[1;33m\u001b[0m\u001b[0m\n\u001b[0;32m   1449\u001b[0m         \u001b[0mbound\u001b[0m \u001b[1;33m=\u001b[0m \u001b[0mnew_sig\u001b[0m\u001b[1;33m.\u001b[0m\u001b[0mbind\u001b[0m\u001b[1;33m(\u001b[0m\u001b[0max\u001b[0m\u001b[1;33m,\u001b[0m \u001b[1;33m*\u001b[0m\u001b[0margs\u001b[0m\u001b[1;33m,\u001b[0m \u001b[1;33m**\u001b[0m\u001b[0mkwargs\u001b[0m\u001b[1;33m)\u001b[0m\u001b[1;33m\u001b[0m\u001b[1;33m\u001b[0m\u001b[0m\n",
      "\u001b[1;32mD:\\Software\\Programme\\Anaconda3\\envs\\graphs\\lib\\site-packages\\matplotlib\\axes\\_axes.py\u001b[0m in \u001b[0;36mhist\u001b[1;34m(self, x, bins, range, density, weights, cumulative, bottom, histtype, align, orientation, rwidth, log, color, label, stacked, **kwargs)\u001b[0m\n\u001b[0;32m   6649\u001b[0m             \u001b[1;31m# this will automatically overwrite bins,\u001b[0m\u001b[1;33m\u001b[0m\u001b[1;33m\u001b[0m\u001b[1;33m\u001b[0m\u001b[0m\n\u001b[0;32m   6650\u001b[0m             \u001b[1;31m# so that each histogram uses the same bins\u001b[0m\u001b[1;33m\u001b[0m\u001b[1;33m\u001b[0m\u001b[1;33m\u001b[0m\u001b[0m\n\u001b[1;32m-> 6651\u001b[1;33m             \u001b[0mm\u001b[0m\u001b[1;33m,\u001b[0m \u001b[0mbins\u001b[0m \u001b[1;33m=\u001b[0m \u001b[0mnp\u001b[0m\u001b[1;33m.\u001b[0m\u001b[0mhistogram\u001b[0m\u001b[1;33m(\u001b[0m\u001b[0mx\u001b[0m\u001b[1;33m[\u001b[0m\u001b[0mi\u001b[0m\u001b[1;33m]\u001b[0m\u001b[1;33m,\u001b[0m \u001b[0mbins\u001b[0m\u001b[1;33m,\u001b[0m \u001b[0mweights\u001b[0m\u001b[1;33m=\u001b[0m\u001b[0mw\u001b[0m\u001b[1;33m[\u001b[0m\u001b[0mi\u001b[0m\u001b[1;33m]\u001b[0m\u001b[1;33m,\u001b[0m \u001b[1;33m**\u001b[0m\u001b[0mhist_kwargs\u001b[0m\u001b[1;33m)\u001b[0m\u001b[1;33m\u001b[0m\u001b[1;33m\u001b[0m\u001b[0m\n\u001b[0m\u001b[0;32m   6652\u001b[0m             \u001b[0mtops\u001b[0m\u001b[1;33m.\u001b[0m\u001b[0mappend\u001b[0m\u001b[1;33m(\u001b[0m\u001b[0mm\u001b[0m\u001b[1;33m)\u001b[0m\u001b[1;33m\u001b[0m\u001b[1;33m\u001b[0m\u001b[0m\n\u001b[0;32m   6653\u001b[0m         \u001b[0mtops\u001b[0m \u001b[1;33m=\u001b[0m \u001b[0mnp\u001b[0m\u001b[1;33m.\u001b[0m\u001b[0marray\u001b[0m\u001b[1;33m(\u001b[0m\u001b[0mtops\u001b[0m\u001b[1;33m,\u001b[0m \u001b[0mfloat\u001b[0m\u001b[1;33m)\u001b[0m  \u001b[1;31m# causes problems later if it's an int\u001b[0m\u001b[1;33m\u001b[0m\u001b[1;33m\u001b[0m\u001b[0m\n",
      "\u001b[1;32m<__array_function__ internals>\u001b[0m in \u001b[0;36mhistogram\u001b[1;34m(*args, **kwargs)\u001b[0m\n",
      "\u001b[1;32mD:\\Software\\Programme\\Anaconda3\\envs\\graphs\\lib\\site-packages\\numpy\\lib\\histograms.py\u001b[0m in \u001b[0;36mhistogram\u001b[1;34m(a, bins, range, normed, weights, density)\u001b[0m\n\u001b[0;32m    790\u001b[0m     \u001b[0ma\u001b[0m\u001b[1;33m,\u001b[0m \u001b[0mweights\u001b[0m \u001b[1;33m=\u001b[0m \u001b[0m_ravel_and_check_weights\u001b[0m\u001b[1;33m(\u001b[0m\u001b[0ma\u001b[0m\u001b[1;33m,\u001b[0m \u001b[0mweights\u001b[0m\u001b[1;33m)\u001b[0m\u001b[1;33m\u001b[0m\u001b[1;33m\u001b[0m\u001b[0m\n\u001b[0;32m    791\u001b[0m \u001b[1;33m\u001b[0m\u001b[0m\n\u001b[1;32m--> 792\u001b[1;33m     \u001b[0mbin_edges\u001b[0m\u001b[1;33m,\u001b[0m \u001b[0muniform_bins\u001b[0m \u001b[1;33m=\u001b[0m \u001b[0m_get_bin_edges\u001b[0m\u001b[1;33m(\u001b[0m\u001b[0ma\u001b[0m\u001b[1;33m,\u001b[0m \u001b[0mbins\u001b[0m\u001b[1;33m,\u001b[0m \u001b[0mrange\u001b[0m\u001b[1;33m,\u001b[0m \u001b[0mweights\u001b[0m\u001b[1;33m)\u001b[0m\u001b[1;33m\u001b[0m\u001b[1;33m\u001b[0m\u001b[0m\n\u001b[0m\u001b[0;32m    793\u001b[0m \u001b[1;33m\u001b[0m\u001b[0m\n\u001b[0;32m    794\u001b[0m     \u001b[1;31m# Histogram is an integer or a float array depending on the weights.\u001b[0m\u001b[1;33m\u001b[0m\u001b[1;33m\u001b[0m\u001b[1;33m\u001b[0m\u001b[0m\n",
      "\u001b[1;32mD:\\Software\\Programme\\Anaconda3\\envs\\graphs\\lib\\site-packages\\numpy\\lib\\histograms.py\u001b[0m in \u001b[0;36m_get_bin_edges\u001b[1;34m(a, bins, range, weights)\u001b[0m\n\u001b[0;32m    446\u001b[0m         bin_edges = np.linspace(\n\u001b[0;32m    447\u001b[0m             \u001b[0mfirst_edge\u001b[0m\u001b[1;33m,\u001b[0m \u001b[0mlast_edge\u001b[0m\u001b[1;33m,\u001b[0m \u001b[0mn_equal_bins\u001b[0m \u001b[1;33m+\u001b[0m \u001b[1;36m1\u001b[0m\u001b[1;33m,\u001b[0m\u001b[1;33m\u001b[0m\u001b[1;33m\u001b[0m\u001b[0m\n\u001b[1;32m--> 448\u001b[1;33m             endpoint=True, dtype=bin_type)\n\u001b[0m\u001b[0;32m    449\u001b[0m         \u001b[1;32mreturn\u001b[0m \u001b[0mbin_edges\u001b[0m\u001b[1;33m,\u001b[0m \u001b[1;33m(\u001b[0m\u001b[0mfirst_edge\u001b[0m\u001b[1;33m,\u001b[0m \u001b[0mlast_edge\u001b[0m\u001b[1;33m,\u001b[0m \u001b[0mn_equal_bins\u001b[0m\u001b[1;33m)\u001b[0m\u001b[1;33m\u001b[0m\u001b[1;33m\u001b[0m\u001b[0m\n\u001b[0;32m    450\u001b[0m     \u001b[1;32melse\u001b[0m\u001b[1;33m:\u001b[0m\u001b[1;33m\u001b[0m\u001b[1;33m\u001b[0m\u001b[0m\n",
      "\u001b[1;32m<__array_function__ internals>\u001b[0m in \u001b[0;36mlinspace\u001b[1;34m(*args, **kwargs)\u001b[0m\n",
      "\u001b[1;32mD:\\Software\\Programme\\Anaconda3\\envs\\graphs\\lib\\site-packages\\numpy\\core\\function_base.py\u001b[0m in \u001b[0;36mlinspace\u001b[1;34m(start, stop, num, endpoint, retstep, dtype, axis)\u001b[0m\n\u001b[0;32m    126\u001b[0m \u001b[1;33m\u001b[0m\u001b[0m\n\u001b[0;32m    127\u001b[0m     \u001b[0mdelta\u001b[0m \u001b[1;33m=\u001b[0m \u001b[0mstop\u001b[0m \u001b[1;33m-\u001b[0m \u001b[0mstart\u001b[0m\u001b[1;33m\u001b[0m\u001b[1;33m\u001b[0m\u001b[0m\n\u001b[1;32m--> 128\u001b[1;33m     \u001b[0my\u001b[0m \u001b[1;33m=\u001b[0m \u001b[0m_nx\u001b[0m\u001b[1;33m.\u001b[0m\u001b[0marange\u001b[0m\u001b[1;33m(\u001b[0m\u001b[1;36m0\u001b[0m\u001b[1;33m,\u001b[0m \u001b[0mnum\u001b[0m\u001b[1;33m,\u001b[0m \u001b[0mdtype\u001b[0m\u001b[1;33m=\u001b[0m\u001b[0mdt\u001b[0m\u001b[1;33m)\u001b[0m\u001b[1;33m.\u001b[0m\u001b[0mreshape\u001b[0m\u001b[1;33m(\u001b[0m\u001b[1;33m(\u001b[0m\u001b[1;33m-\u001b[0m\u001b[1;36m1\u001b[0m\u001b[1;33m,\u001b[0m\u001b[1;33m)\u001b[0m \u001b[1;33m+\u001b[0m \u001b[1;33m(\u001b[0m\u001b[1;36m1\u001b[0m\u001b[1;33m,\u001b[0m\u001b[1;33m)\u001b[0m \u001b[1;33m*\u001b[0m \u001b[0mndim\u001b[0m\u001b[1;33m(\u001b[0m\u001b[0mdelta\u001b[0m\u001b[1;33m)\u001b[0m\u001b[1;33m)\u001b[0m\u001b[1;33m\u001b[0m\u001b[1;33m\u001b[0m\u001b[0m\n\u001b[0m\u001b[0;32m    129\u001b[0m     \u001b[1;31m# In-place multiplication y *= delta/div is faster, but prevents the multiplicant\u001b[0m\u001b[1;33m\u001b[0m\u001b[1;33m\u001b[0m\u001b[1;33m\u001b[0m\u001b[0m\n\u001b[0;32m    130\u001b[0m     \u001b[1;31m# from overriding what class is produced, and thus prevents, e.g. use of Quantities,\u001b[0m\u001b[1;33m\u001b[0m\u001b[1;33m\u001b[0m\u001b[1;33m\u001b[0m\u001b[0m\n",
      "\u001b[1;31mMemoryError\u001b[0m: Unable to allocate 106. TiB for an array with shape (14501269310888,) and data type float64"
     ]
    },
    {
     "data": {
      "image/png": "[encoded data removed]",
      "text/plain": [
       "<Figure size 1440x720 with 2 Axes>"
      ]
     },
     "metadata": {
      "needs_background": "light"
     },
     "output_type": "display_data"
    }
   ],
   "source": [
    "# Create a single subplot\n",
    "fig, axs = plt.subplots(nrows=1, ncols=2, figsize=(20, 10))\n",
    "\n",
    "# Plot histograms and density plots for both datasets on the same axis\n",
    "axs[0].hist(1/samplingRate1, bins='auto', color='blue',  alpha=0.6)\n",
    "axs[1].hist(1/samplingRate2, bins='auto', color='red',  alpha=0.6)\n",
    "# # Set titles and labels\n",
    "# ax[0].set_title('Density Plot of Sampling Rates')\n",
    "# ax[0].set_xlabel('Sampling Rate (ms)')\n",
    "# ax[0].set_ylabel('Density')\n",
    "# ax[0].legend()\n",
    "\n",
    "# Show plot\n",
    "plt.tight_layout()\n",
    "plt.show()"
   ]
  },
  {
   "cell_type": "code",
   "execution_count": null,
   "id": "56f5d346",
   "metadata": {},
   "outputs": [],
   "source": []
  }
 ],
 "metadata": {
  "kernelspec": {
   "display_name": "Python 3",
   "language": "python",
   "name": "python3"
  },
  "language_info": {
   "codemirror_mode": {
    "name": "ipython",
    "version": 3
   },
   "file_extension": ".py",
   "mimetype": "text/x-python",
   "name": "python",
   "nbconvert_exporter": "python",
   "pygments_lexer": "ipython3",
   "version": "3.6.15"
  },
  "varInspector": {
   "cols": {
    "lenName": 16,
    "lenType": 16,
    "lenVar": 40
   },
   "kernels_config": {
    "python": {
     "delete_cmd_postfix": "",
     "delete_cmd_prefix": "del ",
     "library": "var_list.py",
     "varRefreshCmd": "print(var_dic_list())"
    },
    "r": {
     "delete_cmd_postfix": ") ",
     "delete_cmd_prefix": "rm(",
     "library": "var_list.r",
     "varRefreshCmd": "cat(var_dic_list()) "
    }
   },
   "types_to_exclude": [
    "module",
    "function",
    "builtin_function_or_method",
    "instance",
    "_Feature"
   ],
   "window_display": false
  },
  "widgets": {
   "application/vnd.jupyter.widget-state+json": {
    "state": {
     "008be0f294564cbe8b191ced0d3630be": {
      "model_module": "@jupyter-widgets/controls",
      "model_module_version": "1.5.0",
      "model_name": "DescriptionStyleModel",
      "state": {
       "description_width": ""
      }
     },
     "00ae76c620ef445f9c219c11133abcd4": {
      "model_module": "@jupyter-widgets/base",
      "model_module_version": "1.2.0",
      "model_name": "LayoutModel",
      "state": {}
     },
     "00bf8ece494b4ef59c53fd59aa09c069": {
      "model_module": "@jupyter-widgets/controls",
      "model_module_version": "1.5.0",
      "model_name": "FloatProgressModel",
      "state": {
       "bar_style": "success",
       "layout": "IPY_MODEL_3a42ddbd420f4eb1a98c3c3af5588fd6",
       "max": 163088,
       "style": "IPY_MODEL_0a292a3090474475977ba552c93bacd1",
       "value": 163088
      }
     },
     "01078d060d53458b8fc57447bc64f3d7": {
      "model_module": "@jupyter-widgets/controls",
      "model_module_version": "1.5.0",
      "model_name": "HBoxModel",
      "state": {
       "children": [
        "IPY_MODEL_81b74d1fada5471db0a63a50d24e3ec3",
        "IPY_MODEL_cde63203fd364a89b786cde4d291689d",
        "IPY_MODEL_0b99f3400b274304b95cd8dc6c1a4fa2"
       ],
       "layout": "IPY_MODEL_5d44661c22c24278a45a49bca6e791ed"
      }
     },
     "01758d77bbf346e8833b4eb50bbed2fd": {
      "model_module": "@jupyter-widgets/controls",
      "model_module_version": "1.5.0",
      "model_name": "ProgressStyleModel",
      "state": {
       "description_width": ""
      }
     },
     "0176614ddea24c8fba933bef575a5dfa": {
      "model_module": "@jupyter-widgets/controls",
      "model_module_version": "1.5.0",
      "model_name": "FloatProgressModel",
      "state": {
       "bar_style": "success",
       "layout": "IPY_MODEL_3f56665f307f4f58ace64d7d0bfc7be5",
       "max": 161208,
       "style": "IPY_MODEL_01758d77bbf346e8833b4eb50bbed2fd",
       "value": 161208
      }
     },
     "01d38ce532f247fb966260429ee92be4": {
      "model_module": "@jupyter-widgets/controls",
      "model_module_version": "1.5.0",
      "model_name": "HTMLModel",
      "state": {
       "layout": "IPY_MODEL_0f17639a2d2d43509f6ac217df139603",
       "style": "IPY_MODEL_4d6c86c31a324920a0cd45f71c78c72b",
       "value": "📄 162464 of 162464 ⌚ timestamps from participant c4400578-a590-4cf5-abc2-0f634fb4443c processed: "
      }
     },
     "01d506eb5e514f0f90a1d03ab15bc5da": {
      "model_module": "@jupyter-widgets/controls",
      "model_module_version": "1.5.0",
      "model_name": "FloatProgressModel",
      "state": {
       "bar_style": "success",
       "layout": "IPY_MODEL_22da0d6825b34315a5584dd24a774a70",
       "max": 162468,
       "style": "IPY_MODEL_45950694f77748709f03b034630b9b8d",
       "value": 162468
      }
     },
     "01e30e936b68490eb7bc4da4050f9db3": {
      "model_module": "@jupyter-widgets/controls",
      "model_module_version": "1.5.0",
      "model_name": "ProgressStyleModel",
      "state": {
       "description_width": ""
      }
     },
     "02282c3ced1e42ec8bf5e4d8819cbd75": {
      "model_module": "@jupyter-widgets/controls",
      "model_module_version": "1.5.0",
      "model_name": "DescriptionStyleModel",
      "state": {
       "description_width": ""
      }
     },
     "023ec4c56feb468d8db24275b6dc92c4": {
      "model_module": "@jupyter-widgets/controls",
      "model_module_version": "1.5.0",
      "model_name": "HTMLModel",
      "state": {
       "layout": "IPY_MODEL_a43eaa9244b448cda2a402753b544856",
       "style": "IPY_MODEL_5dde899b1893446e95405a0fbb9596fe",
       "value": " \n             91% ⏱️11:25 ⏳01:26 ⚙️161.30it/s"
      }
     },
     "029ded9c5f224347a2a85749a80d1f85": {
      "model_module": "@jupyter-widgets/controls",
      "model_module_version": "1.5.0",
      "model_name": "FloatProgressModel",
      "state": {
       "layout": "IPY_MODEL_dfe9aa00ca2042efad876744a49f66ef",
       "max": 162613,
       "style": "IPY_MODEL_253d7b0732ea4ccc91a80af4c793675b",
       "value": 144385
      }
     },
     "02c1013f9b874b95ad8dafcaf941c77f": {
      "model_module": "@jupyter-widgets/base",
      "model_module_version": "1.2.0",
      "model_name": "LayoutModel",
      "state": {}
     },
     "02cab98d225d4409b7530c7d636f2b55": {
      "model_module": "@jupyter-widgets/base",
      "model_module_version": "1.2.0",
      "model_name": "LayoutModel",
      "state": {
       "flex": "2"
      }
     },
     "036b37321cbc479a9646d0b2e8283f85": {
      "model_module": "@jupyter-widgets/base",
      "model_module_version": "1.2.0",
      "model_name": "LayoutModel",
      "state": {}
     },
     "0452d28f842a4ce2a030d3da6f8fcdcb": {
      "model_module": "@jupyter-widgets/controls",
      "model_module_version": "1.5.0",
      "model_name": "HTMLModel",
      "state": {
       "layout": "IPY_MODEL_0cff0938de7a4419a9c9f3df31021864",
       "style": "IPY_MODEL_aa110c8337e24087b631f02495b72fdc",
       "value": " \n            100% ⏱️02:12 ⏳00:00 ⚙️1319.75it/s"
      }
     },
     "0517e64dd25547ed929ef36cdd74ff27": {
      "model_module": "@jupyter-widgets/controls",
      "model_module_version": "1.5.0",
      "model_name": "FloatProgressModel",
      "state": {
       "bar_style": "success",
       "layout": "IPY_MODEL_a75f51e803494d2db0f51085b96ca269",
       "max": 162466,
       "style": "IPY_MODEL_f10990a669f54d27bcc34557113cd0ea",
       "value": 162466
      }
     },
     "0539d5ddc9d8400a8fcc02535865847e": {
      "model_module": "@jupyter-widgets/controls",
      "model_module_version": "1.5.0",
      "model_name": "HTMLModel",
      "state": {
       "layout": "IPY_MODEL_f52b35a65f2f45748e54c5cbce7b80af",
       "style": "IPY_MODEL_0ab0f92450f64f4ab6d793c7851947aa",
       "value": "📄 162599 of 162599 ⌚ timestamps from participant e28fbd3e-516f-4c89-bc54-3cb32ddd5ef7 processed: "
      }
     },
     "053f3b6c889447b1ac8799155ba0edf1": {
      "model_module": "@jupyter-widgets/controls",
      "model_module_version": "1.5.0",
      "model_name": "HTMLModel",
      "state": {
       "layout": "IPY_MODEL_6cb16d9e328047c7a8790a6763b106f2",
       "style": "IPY_MODEL_6c265ccdf2ad4b3ea2e92bf66fa4c9df",
       "value": "📄 162482 of 162482 ⌚ timestamps from participant 61c0f1aa-b3ef-497b-8b6e-8ec6f05f6c42 processed: "
      }
     },
     "0553be36a583495899af720ad1eba520": {
      "model_module": "@jupyter-widgets/base",
      "model_module_version": "1.2.0",
      "model_name": "LayoutModel",
      "state": {}
     },
     "057046e7a9334a14b12501e9a0e5a9db": {
      "model_module": "@jupyter-widgets/controls",
      "model_module_version": "1.5.0",
      "model_name": "FloatProgressModel",
      "state": {
       "layout": "IPY_MODEL_2efea6b7656e4f61834f39e5b9564ddd",
       "max": 162832,
       "style": "IPY_MODEL_5d7493115734467ea208874103e09900",
       "value": 142435
      }
     },
     "06e69bdfa54b4cd8a204875197027f7e": {
      "model_module": "@jupyter-widgets/controls",
      "model_module_version": "1.5.0",
      "model_name": "ProgressStyleModel",
      "state": {
       "description_width": ""
      }
     },
     "06e907f67a644797a5144f039885302c": {
      "model_module": "@jupyter-widgets/controls",
      "model_module_version": "1.5.0",
      "model_name": "DescriptionStyleModel",
      "state": {
       "description_width": ""
      }
     },
     "07b6e578918e4f0f9f760e93606c0df9": {
      "model_module": "@jupyter-widgets/controls",
      "model_module_version": "1.5.0",
      "model_name": "ProgressStyleModel",
      "state": {
       "description_width": ""
      }
     },
     "08f339db20844c2f89ab1d6311ff522a": {
      "model_module": "@jupyter-widgets/controls",
      "model_module_version": "1.5.0",
      "model_name": "DescriptionStyleModel",
      "state": {
       "description_width": ""
      }
     },
     "098651dcf41246649a259c95790046ee": {
      "model_module": "@jupyter-widgets/base",
      "model_module_version": "1.2.0",
      "model_name": "LayoutModel",
      "state": {}
     },
     "0a292a3090474475977ba552c93bacd1": {
      "model_module": "@jupyter-widgets/controls",
      "model_module_version": "1.5.0",
      "model_name": "ProgressStyleModel",
      "state": {
       "description_width": ""
      }
     },
     "0a296f9e10e64cb0b3363cf7b9024dd1": {
      "model_module": "@jupyter-widgets/controls",
      "model_module_version": "1.5.0",
      "model_name": "HBoxModel",
      "state": {
       "children": [
        "IPY_MODEL_3a057ba3ceef4e2bb805d0c217aac3c0",
        "IPY_MODEL_0517e64dd25547ed929ef36cdd74ff27",
        "IPY_MODEL_6f09ccdb94324437b0e25ff9a059ebeb"
       ],
       "layout": "IPY_MODEL_72d7ee7461eb40d2a9944ed9f95b4263"
      }
     },
     "0aa238678c62437e8760523eface0cea": {
      "model_module": "@jupyter-widgets/controls",
      "model_module_version": "1.5.0",
      "model_name": "HTMLModel",
      "state": {
       "layout": "IPY_MODEL_c49785c35d044f2092c939be0f75d7ec",
       "style": "IPY_MODEL_2321f17f94ab4a2abbc23d4e950b98e6",
       "value": "📄 162601 of 162601 ⌚ timestamps from participant e28fbd3e-516f-4c89-bc54-3cb32ddd5ef7 processed: "
      }
     },
     "0ab0f92450f64f4ab6d793c7851947aa": {
      "model_module": "@jupyter-widgets/controls",
      "model_module_version": "1.5.0",
      "model_name": "DescriptionStyleModel",
      "state": {
       "description_width": ""
      }
     },
     "0ae709e0acc249969eb09bf9f90deadf": {
      "model_module": "@jupyter-widgets/controls",
      "model_module_version": "1.5.0",
      "model_name": "HTMLModel",
      "state": {
       "layout": "IPY_MODEL_6ff65b9ada48427281a516b49c6141e7",
       "style": "IPY_MODEL_88918fbe065d408bbda2e2eb69ddc93c",
       "value": " \n            100% ⏱️00:56 ⏳00:00 ⚙️56.06s/it"
      }
     },
     "0b0f6ad5ae754ccfa67f10b634a55f00": {
      "model_module": "@jupyter-widgets/base",
      "model_module_version": "1.2.0",
      "model_name": "LayoutModel",
      "state": {}
     },
     "0b44395e9b844f9a85e77ea1d1660008": {
      "model_module": "@jupyter-widgets/controls",
      "model_module_version": "1.5.0",
      "model_name": "FloatProgressModel",
      "state": {
       "bar_style": "success",
       "layout": "IPY_MODEL_e2f2ca5704c7476fb468a73b2a8f63a9",
       "max": 162357,
       "style": "IPY_MODEL_a8fecbba6f3845b09b022f7bff2aff88",
       "value": 162357
      }
     },
     "0b779af6578f45f7b68bdcee211aaad0": {
      "model_module": "@jupyter-widgets/controls",
      "model_module_version": "1.5.0",
      "model_name": "HBoxModel",
      "state": {
       "children": [
        "IPY_MODEL_9caabc6fc1be4593a084c69f476e8211",
        "IPY_MODEL_6748e15945814ab680ba86281c2d7d6c",
        "IPY_MODEL_0ae709e0acc249969eb09bf9f90deadf"
       ],
       "layout": "IPY_MODEL_3ded23a044ec41409636c0303a999def"
      }
     },
     "0b99f3400b274304b95cd8dc6c1a4fa2": {
      "model_module": "@jupyter-widgets/controls",
      "model_module_version": "1.5.0",
      "model_name": "HTMLModel",
      "state": {
       "layout": "IPY_MODEL_4b9356a452564e8188018bcbe2465cde",
       "style": "IPY_MODEL_c968e203891b4341b8c3a50ecad1790e",
       "value": " \n             92% ⏱️11:25 ⏳01:13 ⚙️186.37it/s"
      }
     },
     "0bae81e922554c83a87ea68c249909c8": {
      "model_module": "@jupyter-widgets/controls",
      "model_module_version": "1.5.0",
      "model_name": "DescriptionStyleModel",
      "state": {
       "description_width": ""
      }
     },
     "0bc21aae4e5645388e6ae0ba46ca38f7": {
      "model_module": "@jupyter-widgets/base",
      "model_module_version": "1.2.0",
      "model_name": "LayoutModel",
      "state": {
       "display": "inline-flex",
       "flex_flow": "row wrap",
       "width": "100%"
      }
     },
     "0c18ac21ece84de1b20daa8c5c6ca807": {
      "model_module": "@jupyter-widgets/controls",
      "model_module_version": "1.5.0",
      "model_name": "HBoxModel",
      "state": {
       "children": [
        "IPY_MODEL_77f7a9cd06d344288a73ee67aae344fb",
        "IPY_MODEL_ba2463ff2aa74a75845cef0941ca4f40",
        "IPY_MODEL_f2ef7a2955af4ec796b25bdf9f216cb1"
       ],
       "layout": "IPY_MODEL_9104f1c6fefd47149c3b6cb436d1bb9f"
      }
     },
     "0ca1eef21b5f4619bc09e5c8bd68dea9": {
      "model_module": "@jupyter-widgets/controls",
      "model_module_version": "1.5.0",
      "model_name": "DescriptionStyleModel",
      "state": {
       "description_width": ""
      }
     },
     "0cab7366974448a993dd4052bbd8f33d": {
      "model_module": "@jupyter-widgets/controls",
      "model_module_version": "1.5.0",
      "model_name": "DescriptionStyleModel",
      "state": {
       "description_width": ""
      }
     },
     "0ccecca563454aeeab1fee7dd266d70e": {
      "model_module": "@jupyter-widgets/base",
      "model_module_version": "1.2.0",
      "model_name": "LayoutModel",
      "state": {}
     },
     "0cf052aae00648ac958366ec03c87c47": {
      "model_module": "@jupyter-widgets/controls",
      "model_module_version": "1.5.0",
      "model_name": "ProgressStyleModel",
      "state": {
       "description_width": ""
      }
     },
     "0cff0938de7a4419a9c9f3df31021864": {
      "model_module": "@jupyter-widgets/base",
      "model_module_version": "1.2.0",
      "model_name": "LayoutModel",
      "state": {}
     },
     "0d1f5a6257d74440abb5893977233a25": {
      "model_module": "@jupyter-widgets/controls",
      "model_module_version": "1.5.0",
      "model_name": "HBoxModel",
      "state": {
       "children": [
        "IPY_MODEL_fba5055906c1472c96de81d2a6af1604",
        "IPY_MODEL_3fe745fcbebb4b2b826f5f89963f1973",
        "IPY_MODEL_84243c878c134b75b2d34a8a71524a3c"
       ],
       "layout": "IPY_MODEL_d8fb878c0a974022a9da552aac652e98"
      }
     },
     "0df226b68c5648ff9b8d2ec9531e3f6b": {
      "model_module": "@jupyter-widgets/base",
      "model_module_version": "1.2.0",
      "model_name": "LayoutModel",
      "state": {}
     },
     "0e83fc6e8d2e47029a38f5e6180b1363": {
      "model_module": "@jupyter-widgets/controls",
      "model_module_version": "1.5.0",
      "model_name": "HBoxModel",
      "state": {
       "children": [
        "IPY_MODEL_f782e9d006d94d7eaccd6cf1f69a8971",
        "IPY_MODEL_fb532cab745b4345a03b31bb23ed45d2",
        "IPY_MODEL_6232e5bf52e94ec897f828fdab4ac740"
       ],
       "layout": "IPY_MODEL_fe5dda15073e4bf4809bcfba2abd7224"
      }
     },
     "0f06023ffc114f4e874b4e681d4b10fd": {
      "model_module": "@jupyter-widgets/controls",
      "model_module_version": "1.5.0",
      "model_name": "HTMLModel",
      "state": {
       "layout": "IPY_MODEL_35324f52113c4032b2607a9ba0f98c1f",
       "style": "IPY_MODEL_df747f66bb6b4fcb9354c44205450804",
       "value": " \n             94% ⏱️11:25 ⏳02:05 ⚙️75.32it/s"
      }
     },
     "0f17639a2d2d43509f6ac217df139603": {
      "model_module": "@jupyter-widgets/base",
      "model_module_version": "1.2.0",
      "model_name": "LayoutModel",
      "state": {}
     },
     "0f385d4dfbdb4b83b49f8ddc1c1836bb": {
      "model_module": "@jupyter-widgets/controls",
      "model_module_version": "1.5.0",
      "model_name": "HTMLModel",
      "state": {
       "layout": "IPY_MODEL_6dd1be94711a489e9cff3f50a61df62a",
       "style": "IPY_MODEL_a50b43b496f04765967e763e5ce8f892",
       "value": "📄 153520 of 163020 ⌚ timestamps from participant 097837f9-9a11-41f4-9c23-03987ba3ed9a processed: "
      }
     },
     "0f9940f6f5a34de1b1b118b7bbf924df": {
      "model_module": "@jupyter-widgets/controls",
      "model_module_version": "1.5.0",
      "model_name": "ProgressStyleModel",
      "state": {
       "description_width": ""
      }
     },
     "0f9d6622f12342b7b41fb9b75298d6dd": {
      "model_module": "@jupyter-widgets/controls",
      "model_module_version": "1.5.0",
      "model_name": "DescriptionStyleModel",
      "state": {
       "description_width": ""
      }
     },
     "105eab6e7c1643b3a5b01383886c6cd9": {
      "model_module": "@jupyter-widgets/base",
      "model_module_version": "1.2.0",
      "model_name": "LayoutModel",
      "state": {}
     },
     "1079142a4ff442238a6695c4ea41c2d5": {
      "model_module": "@jupyter-widgets/base",
      "model_module_version": "1.2.0",
      "model_name": "LayoutModel",
      "state": {}
     },
     "113acea858844739b8356fe209db8231": {
      "model_module": "@jupyter-widgets/controls",
      "model_module_version": "1.5.0",
      "model_name": "DescriptionStyleModel",
      "state": {
       "description_width": ""
      }
     },
     "11682e102cd2438a989138128de87318": {
      "model_module": "@jupyter-widgets/controls",
      "model_module_version": "1.5.0",
      "model_name": "HTMLModel",
      "state": {
       "layout": "IPY_MODEL_1c77705c284e446c96549fe3b656c4be",
       "style": "IPY_MODEL_0cab7366974448a993dd4052bbd8f33d",
       "value": " \n            100% ⏱️18:04 ⏳00:00 ⚙️206.56it/s"
      }
     },
     "12414fc57fe4492592cd158f9e451ff5": {
      "model_module": "@jupyter-widgets/controls",
      "model_module_version": "1.5.0",
      "model_name": "ProgressStyleModel",
      "state": {
       "description_width": ""
      }
     },
     "12689fe03d5045d784770db64163aab0": {
      "model_module": "@jupyter-widgets/controls",
      "model_module_version": "1.5.0",
      "model_name": "HBoxModel",
      "state": {
       "children": [
        "IPY_MODEL_f870422b0f494ff99848645c36c5087d",
        "IPY_MODEL_7a75c3a7b42640baa66930927502a815",
        "IPY_MODEL_87a62fc8e1a847c3b38e59b603443d14"
       ],
       "layout": "IPY_MODEL_55c7cb9704b24c8ba0c784b47d5df64e"
      }
     },
     "129689e7b3e8487c9c32ebc7a8810030": {
      "model_module": "@jupyter-widgets/controls",
      "model_module_version": "1.5.0",
      "model_name": "HTMLModel",
      "state": {
       "layout": "IPY_MODEL_1b6cc15871244b858511bb910651c0bd",
       "style": "IPY_MODEL_c819c40b484c472ea1855396810f96f8",
       "value": " \n            100% ⏱️15:39 ⏳00:00 ⚙️303.20it/s"
      }
     },
     "13097a57f5504831a14fcb04285e171a": {
      "model_module": "@jupyter-widgets/controls",
      "model_module_version": "1.5.0",
      "model_name": "DescriptionStyleModel",
      "state": {
       "description_width": ""
      }
     },
     "13a45a0d447e4250ae35fbfb567ecd52": {
      "model_module": "@jupyter-widgets/controls",
      "model_module_version": "1.5.0",
      "model_name": "DescriptionStyleModel",
      "state": {
       "description_width": ""
      }
     },
     "13c736a24ee0498589bf274fceb0168d": {
      "model_module": "@jupyter-widgets/controls",
      "model_module_version": "1.5.0",
      "model_name": "ProgressStyleModel",
      "state": {
       "description_width": ""
      }
     },
     "13f1586ab3d4467ebf274c800d88b61a": {
      "model_module": "@jupyter-widgets/base",
      "model_module_version": "1.2.0",
      "model_name": "LayoutModel",
      "state": {}
     },
     "1446ae31226c448689c3acf779f39729": {
      "model_module": "@jupyter-widgets/base",
      "model_module_version": "1.2.0",
      "model_name": "LayoutModel",
      "state": {
       "display": "inline-flex",
       "flex_flow": "row wrap",
       "width": "100%"
      }
     },
     "144e89e697604780912500f73da3884a": {
      "model_module": "@jupyter-widgets/controls",
      "model_module_version": "1.5.0",
      "model_name": "HTMLModel",
      "state": {
       "layout": "IPY_MODEL_17f0928a60fa4b22ac31b54a8c3b3bf3",
       "style": "IPY_MODEL_76a10a79954f4199a5bc08422ac6d8c8",
       "value": " \n             11% ⏱️11:01 ⏳1:16:17 ⚙️286.09s/it"
      }
     },
     "14b381c55e2e4a75ae9a02cb21587811": {
      "model_module": "@jupyter-widgets/controls",
      "model_module_version": "1.5.0",
      "model_name": "HTMLModel",
      "state": {
       "layout": "IPY_MODEL_c842cf34d1f74e5eae092d2a013ca556",
       "style": "IPY_MODEL_4bcca697ca914ceebeb2697029ab93df",
       "value": " \n             86% ⏱️11:25 ⏳02:21 ⚙️163.60it/s"
      }
     },
     "14cc88f17778487fab9201d67b1b6c68": {
      "model_module": "@jupyter-widgets/controls",
      "model_module_version": "1.5.0",
      "model_name": "HTMLModel",
      "state": {
       "layout": "IPY_MODEL_3ca3f2dd1f1a4058b9e289e16096106a",
       "style": "IPY_MODEL_61ecdeda047e4b7ea7f2420a84b2c567",
       "value": " \n            100% ⏱️28:44 ⏳00:00 ⚙️111.33it/s"
      }
     },
     "1546a2382a5d4470a21fc881b9117914": {
      "model_module": "@jupyter-widgets/controls",
      "model_module_version": "1.5.0",
      "model_name": "HTMLModel",
      "state": {
       "layout": "IPY_MODEL_0df226b68c5648ff9b8d2ec9531e3f6b",
       "style": "IPY_MODEL_a338223bd72048758c8f53e1a2b188ab",
       "value": "📄 162527 of 162527 ⌚ timestamps from participant 623664e8-1ceb-48e0-abd0-46d447285980 processed: "
      }
     },
     "154beebbce5a45a59eae28821ece7423": {
      "model_module": "@jupyter-widgets/controls",
      "model_module_version": "1.5.0",
      "model_name": "FloatProgressModel",
      "state": {
       "layout": "IPY_MODEL_72d81b8bf0584e7e9f6b8a5c986b4b5f",
       "max": 162466,
       "style": "IPY_MODEL_83e845b3decc4f408b363bec4be53470",
       "value": 155054
      }
     },
     "159a7071f2054525a965317c7d13e115": {
      "model_module": "@jupyter-widgets/base",
      "model_module_version": "1.2.0",
      "model_name": "LayoutModel",
      "state": {
       "display": "inline-flex",
       "flex_flow": "row wrap",
       "width": "100%"
      }
     },
     "16f0c880317b4bc7989e1b397b12878a": {
      "model_module": "@jupyter-widgets/base",
      "model_module_version": "1.2.0",
      "model_name": "LayoutModel",
      "state": {
       "flex": "2"
      }
     },
     "17f0928a60fa4b22ac31b54a8c3b3bf3": {
      "model_module": "@jupyter-widgets/base",
      "model_module_version": "1.2.0",
      "model_name": "LayoutModel",
      "state": {}
     },
     "17f8cfa7ec904001ac1eef0d7ac8c31d": {
      "model_module": "@jupyter-widgets/base",
      "model_module_version": "1.2.0",
      "model_name": "LayoutModel",
      "state": {}
     },
     "1844de45a2f44186b81995a43f171919": {
      "model_module": "@jupyter-widgets/controls",
      "model_module_version": "1.5.0",
      "model_name": "HTMLModel",
      "state": {
       "layout": "IPY_MODEL_7cb36408b607492681479ab25c049883",
       "style": "IPY_MODEL_d9ca9c0f464442298512c23ed671efa4",
       "value": "📄 163026 of 163026 ⌚ timestamps from participant d764851f-717d-4944-9023-74dda394f96e processed: "
      }
     },
     "1846b7d254e2434db517e45895051823": {
      "model_module": "@jupyter-widgets/controls",
      "model_module_version": "1.5.0",
      "model_name": "HBoxModel",
      "state": {
       "children": [
        "IPY_MODEL_f2c3cbbbfd06421f9c684855d250973e",
        "IPY_MODEL_8102b635cba74c3d9e94b3a0647cea78",
        "IPY_MODEL_9bca6db180904983b31741fb245fc9c6"
       ],
       "layout": "IPY_MODEL_58644129865440e48487dab411033a72"
      }
     },
     "1857d839764c4a229018226eeb3736a9": {
      "model_module": "@jupyter-widgets/controls",
      "model_module_version": "1.5.0",
      "model_name": "HBoxModel",
      "state": {
       "children": [
        "IPY_MODEL_80058ae36e7c40578a072bcf6055f5ab",
        "IPY_MODEL_01d506eb5e514f0f90a1d03ab15bc5da",
        "IPY_MODEL_b1e57dae806142dab5e79ae91589d49a"
       ],
       "layout": "IPY_MODEL_24ef72874f9f49708d3fd08dabfdb4af"
      }
     },
     "18fd66d26e944d15b0feb1ccd067e63b": {
      "model_module": "@jupyter-widgets/controls",
      "model_module_version": "1.5.0",
      "model_name": "DescriptionStyleModel",
      "state": {
       "description_width": ""
      }
     },
     "195af0a30c904217b4670dae6f33139f": {
      "model_module": "@jupyter-widgets/controls",
      "model_module_version": "1.5.0",
      "model_name": "DescriptionStyleModel",
      "state": {
       "description_width": ""
      }
     },
     "197ed8415d514b5ab231e0ef9e640d5b": {
      "model_module": "@jupyter-widgets/base",
      "model_module_version": "1.2.0",
      "model_name": "LayoutModel",
      "state": {
       "display": "inline-flex",
       "flex_flow": "row wrap",
       "width": "100%"
      }
     },
     "19825c4c9b1948c1891f4e76ecf91576": {
      "model_module": "@jupyter-widgets/controls",
      "model_module_version": "1.5.0",
      "model_name": "DescriptionStyleModel",
      "state": {
       "description_width": ""
      }
     },
     "1a0920f4ee0044fca493efe48c085341": {
      "model_module": "@jupyter-widgets/base",
      "model_module_version": "1.2.0",
      "model_name": "LayoutModel",
      "state": {
       "flex": "2"
      }
     },
     "1acf9a0a2b4d489fa1ba4119b0c6636e": {
      "model_module": "@jupyter-widgets/base",
      "model_module_version": "1.2.0",
      "model_name": "LayoutModel",
      "state": {}
     },
     "1b34ce8c77d94feb8939ac8223d0bec4": {
      "model_module": "@jupyter-widgets/controls",
      "model_module_version": "1.5.0",
      "model_name": "DescriptionStyleModel",
      "state": {
       "description_width": ""
      }
     },
     "1b6cc15871244b858511bb910651c0bd": {
      "model_module": "@jupyter-widgets/base",
      "model_module_version": "1.2.0",
      "model_name": "LayoutModel",
      "state": {}
     },
     "1bb7b8eb345e491987e11af63a78f240": {
      "model_module": "@jupyter-widgets/base",
      "model_module_version": "1.2.0",
      "model_name": "LayoutModel",
      "state": {
       "display": "inline-flex",
       "flex_flow": "row wrap",
       "width": "100%"
      }
     },
     "1bf5b490df7e47c59611c697e5c02c2e": {
      "model_module": "@jupyter-widgets/base",
      "model_module_version": "1.2.0",
      "model_name": "LayoutModel",
      "state": {
       "flex": "2"
      }
     },
     "1c6716a0800d4b5fa34023451f1e3299": {
      "model_module": "@jupyter-widgets/base",
      "model_module_version": "1.2.0",
      "model_name": "LayoutModel",
      "state": {
       "display": "inline-flex",
       "flex_flow": "row wrap",
       "width": "100%"
      }
     },
     "1c68c5f589974c9dabed239cff50e45f": {
      "model_module": "@jupyter-widgets/controls",
      "model_module_version": "1.5.0",
      "model_name": "HTMLModel",
      "state": {
       "layout": "IPY_MODEL_3321fce023a245f5a4c87de88c71c677",
       "style": "IPY_MODEL_a6b1e36f5c6844a5b6e4d9849e693d97",
       "value": "📄 162528 of 162528 ⌚ timestamps from participant 623664e8-1ceb-48e0-abd0-46d447285980 processed: "
      }
     },
     "1c77705c284e446c96549fe3b656c4be": {
      "model_module": "@jupyter-widgets/base",
      "model_module_version": "1.2.0",
      "model_name": "LayoutModel",
      "state": {}
     },
     "1caff43326d74d208d2aeb061776042a": {
      "model_module": "@jupyter-widgets/controls",
      "model_module_version": "1.5.0",
      "model_name": "FloatProgressModel",
      "state": {
       "bar_style": "success",
       "layout": "IPY_MODEL_86f7d5904a144cee831cdc6ff45a0ffb",
       "max": 163026,
       "style": "IPY_MODEL_9d4cacd6e47f4d84bb650540914b1122",
       "value": 163026
      }
     },
     "1cbd48df4d304d31a087bf392c96159b": {
      "model_module": "@jupyter-widgets/base",
      "model_module_version": "1.2.0",
      "model_name": "LayoutModel",
      "state": {
       "display": "inline-flex",
       "flex_flow": "row wrap",
       "width": "100%"
      }
     },
     "1d9970a01bbc4eb2ad0af63266eddc63": {
      "model_module": "@jupyter-widgets/controls",
      "model_module_version": "1.5.0",
      "model_name": "ProgressStyleModel",
      "state": {
       "description_width": ""
      }
     },
     "1f4b822213c24b6d95cdf8c7622f45d6": {
      "model_module": "@jupyter-widgets/controls",
      "model_module_version": "1.5.0",
      "model_name": "DescriptionStyleModel",
      "state": {
       "description_width": ""
      }
     },
     "1f83cb9703684eae838908b7a7c30c28": {
      "model_module": "@jupyter-widgets/controls",
      "model_module_version": "1.5.0",
      "model_name": "ProgressStyleModel",
      "state": {
       "description_width": ""
      }
     },
     "2084272826494f68bc369ea95a3f6c96": {
      "model_module": "@jupyter-widgets/base",
      "model_module_version": "1.2.0",
      "model_name": "LayoutModel",
      "state": {
       "display": "inline-flex",
       "flex_flow": "row wrap",
       "width": "100%"
      }
     },
     "20cb230faf034e9790ee4a857fdee16e": {
      "model_module": "@jupyter-widgets/controls",
      "model_module_version": "1.5.0",
      "model_name": "ProgressStyleModel",
      "state": {
       "description_width": ""
      }
     },
     "217d0ec9f49e412e9f5e4b15e1610838": {
      "model_module": "@jupyter-widgets/base",
      "model_module_version": "1.2.0",
      "model_name": "LayoutModel",
      "state": {}
     },
     "219a8249f0214b0a8708a6619d56d0f0": {
      "model_module": "@jupyter-widgets/base",
      "model_module_version": "1.2.0",
      "model_name": "LayoutModel",
      "state": {
       "flex": "2"
      }
     },
     "22b4768efd6a4283828db5cdd991165d": {
      "model_module": "@jupyter-widgets/controls",
      "model_module_version": "1.5.0",
      "model_name": "DescriptionStyleModel",
      "state": {
       "description_width": ""
      }
     },
     "22da0d6825b34315a5584dd24a774a70": {
      "model_module": "@jupyter-widgets/base",
      "model_module_version": "1.2.0",
      "model_name": "LayoutModel",
      "state": {
       "flex": "2"
      }
     },
     "2321f17f94ab4a2abbc23d4e950b98e6": {
      "model_module": "@jupyter-widgets/controls",
      "model_module_version": "1.5.0",
      "model_name": "DescriptionStyleModel",
      "state": {
       "description_width": ""
      }
     },
     "232c7120eba4417db51d69aace8cbe02": {
      "model_module": "@jupyter-widgets/controls",
      "model_module_version": "1.5.0",
      "model_name": "FloatProgressModel",
      "state": {
       "layout": "IPY_MODEL_8b43e53ab2fd4d23a9efcbceb57279ce",
       "max": 162480,
       "style": "IPY_MODEL_4bd6173631e74a7ea9a64818148b52bd",
       "value": 151358
      }
     },
     "24165e255d364cefaba7d381a3b424fe": {
      "model_module": "@jupyter-widgets/controls",
      "model_module_version": "1.5.0",
      "model_name": "HTMLModel",
      "state": {
       "layout": "IPY_MODEL_217d0ec9f49e412e9f5e4b15e1610838",
       "style": "IPY_MODEL_6c47a3580b464b43a104a2f8f45e943e",
       "value": " \n             87% ⏱️11:25 ⏳04:11 ⚙️81.16it/s"
      }
     },
     "2476e9d64e1f461bb9dd7c9ec7ff9d72": {
      "model_module": "@jupyter-widgets/controls",
      "model_module_version": "1.5.0",
      "model_name": "ProgressStyleModel",
      "state": {
       "description_width": ""
      }
     },
     "24cfc338c56a40edb2db046ceee76065": {
      "model_module": "@jupyter-widgets/controls",
      "model_module_version": "1.5.0",
      "model_name": "ProgressStyleModel",
      "state": {
       "description_width": ""
      }
     },
     "24e01bb411754db596f89c57f18b28cb": {
      "model_module": "@jupyter-widgets/controls",
      "model_module_version": "1.5.0",
      "model_name": "HBoxModel",
      "state": {
       "children": [
        "IPY_MODEL_dc8dec1f08304349a8c543fb25ba67dc",
        "IPY_MODEL_3d0f6cbf268b485f8ed5974638fdaace",
        "IPY_MODEL_023ec4c56feb468d8db24275b6dc92c4"
       ],
       "layout": "IPY_MODEL_7151072e07e94cb0bdce58a0ce583596"
      }
     },
     "24ef72874f9f49708d3fd08dabfdb4af": {
      "model_module": "@jupyter-widgets/base",
      "model_module_version": "1.2.0",
      "model_name": "LayoutModel",
      "state": {
       "display": "inline-flex",
       "flex_flow": "row wrap",
       "width": "100%"
      }
     },
     "253d7b0732ea4ccc91a80af4c793675b": {
      "model_module": "@jupyter-widgets/controls",
      "model_module_version": "1.5.0",
      "model_name": "ProgressStyleModel",
      "state": {
       "description_width": ""
      }
     },
     "256540c7c3c64081993da666cf53863c": {
      "model_module": "@jupyter-widgets/base",
      "model_module_version": "1.2.0",
      "model_name": "LayoutModel",
      "state": {}
     },
     "25b408cbdbb44d9baa2f5d62fc873b12": {
      "model_module": "@jupyter-widgets/controls",
      "model_module_version": "1.5.0",
      "model_name": "DescriptionStyleModel",
      "state": {
       "description_width": ""
      }
     },
     "26455b3a9d4a4a50b50f7afb914fa177": {
      "model_module": "@jupyter-widgets/controls",
      "model_module_version": "1.5.0",
      "model_name": "FloatProgressModel",
      "state": {
       "bar_style": "success",
       "layout": "IPY_MODEL_73f70cd0f9d34bc0ba40849bdd6ed6b7",
       "max": 161902,
       "style": "IPY_MODEL_ae227c31b15b4bf18004461539bc04c8",
       "value": 161902
      }
     },
     "265b86330f2b478eaa0f31eb0cfa9784": {
      "model_module": "@jupyter-widgets/controls",
      "model_module_version": "1.5.0",
      "model_name": "HTMLModel",
      "state": {
       "layout": "IPY_MODEL_3cb1e78f91974b389a6862f2d6f1552d",
       "style": "IPY_MODEL_ccb53eeacaf940b79178cb6bee0af372",
       "value": "📄 163026 of 163026 ⌚ timestamps from participant d764851f-717d-4944-9023-74dda394f96e processed: "
      }
     },
     "2683c43047bd42f998908675f3bdc722": {
      "model_module": "@jupyter-widgets/controls",
      "model_module_version": "1.5.0",
      "model_name": "HTMLModel",
      "state": {
       "layout": "IPY_MODEL_ec8efa26d066478e8c6140f09ff0aa03",
       "style": "IPY_MODEL_7df776ee896b48de937b5f8e97d47e88",
       "value": "📄 161903 of 161903 ⌚ timestamps from participant 70656182-09b3-4c19-9ae2-0a2ab2e19fed processed: "
      }
     },
     "273c3fc6a5bb4bee8c02e5398cddb9d5": {
      "model_module": "@jupyter-widgets/controls",
      "model_module_version": "1.5.0",
      "model_name": "DescriptionStyleModel",
      "state": {
       "description_width": ""
      }
     },
     "27648e61d996415b91b05803bcf23fa0": {
      "model_module": "@jupyter-widgets/controls",
      "model_module_version": "1.5.0",
      "model_name": "FloatProgressModel",
      "state": {
       "bar_style": "success",
       "layout": "IPY_MODEL_44f5f84a31aa42adbfc72854767d5849",
       "max": 162464,
       "style": "IPY_MODEL_24cfc338c56a40edb2db046ceee76065",
       "value": 162464
      }
     },
     "276daa1d973b4ea980578c9c7ba93a85": {
      "model_module": "@jupyter-widgets/controls",
      "model_module_version": "1.5.0",
      "model_name": "HBoxModel",
      "state": {
       "children": [
        "IPY_MODEL_1844de45a2f44186b81995a43f171919",
        "IPY_MODEL_1caff43326d74d208d2aeb061776042a",
        "IPY_MODEL_d230e0346ee04b82b82be2c08645ee85"
       ],
       "layout": "IPY_MODEL_2b473691f1fd46babb4ac20725b7e576"
      }
     },
     "285016c534a6404e923e3d3efaf25f42": {
      "model_module": "@jupyter-widgets/base",
      "model_module_version": "1.2.0",
      "model_name": "LayoutModel",
      "state": {}
     },
     "289a6f0da33448c095442d7d6e45f0df": {
      "model_module": "@jupyter-widgets/controls",
      "model_module_version": "1.5.0",
      "model_name": "HTMLModel",
      "state": {
       "layout": "IPY_MODEL_5ec8e457c2174b4a93dbbec402564a5d",
       "style": "IPY_MODEL_4e4b3721a5d54c3285ef15601055360d",
       "value": "📄 142435 of 162832 ⌚ timestamps from participant c6c110c9-2efe-44e7-914f-d6052e2ab784 processed: "
      }
     },
     "290ca6eba9be4750a0f7ecdf4006350d": {
      "model_module": "@jupyter-widgets/controls",
      "model_module_version": "1.5.0",
      "model_name": "DescriptionStyleModel",
      "state": {
       "description_width": ""
      }
     },
     "29aeb6b0b16942a6aec0eff5dbf4ee5f": {
      "model_module": "@jupyter-widgets/controls",
      "model_module_version": "1.5.0",
      "model_name": "HBoxModel",
      "state": {
       "children": [
        "IPY_MODEL_1c68c5f589974c9dabed239cff50e45f",
        "IPY_MODEL_4d0e5db55b0945b7b63d8e2f73be8f70",
        "IPY_MODEL_ed6b20e0de0647dfa20fca9bcc5031ad"
       ],
       "layout": "IPY_MODEL_af1a4b8618c7476e864b58ca9f80f27f"
      }
     },
     "29b52eb8f7784838b98094108856cb09": {
      "model_module": "@jupyter-widgets/controls",
      "model_module_version": "1.5.0",
      "model_name": "ProgressStyleModel",
      "state": {
       "description_width": ""
      }
     },
     "29ec7afa19604f7d88af3ccf8705e6eb": {
      "model_module": "@jupyter-widgets/base",
      "model_module_version": "1.2.0",
      "model_name": "LayoutModel",
      "state": {}
     },
     "2ac0e5f506e44d8790057ebbddee6bf4": {
      "model_module": "@jupyter-widgets/controls",
      "model_module_version": "1.5.0",
      "model_name": "ProgressStyleModel",
      "state": {
       "description_width": ""
      }
     },
     "2b109b51177c438187885c825d030d0c": {
      "model_module": "@jupyter-widgets/controls",
      "model_module_version": "1.5.0",
      "model_name": "HBoxModel",
      "state": {
       "children": [
        "IPY_MODEL_eea82f55892443b6984f8765431d834e",
        "IPY_MODEL_f539f9a2fe50408c9045e9ea7144b007",
        "IPY_MODEL_6e7e6aa3a6614d7b8ce01448acc66873"
       ],
       "layout": "IPY_MODEL_0bc21aae4e5645388e6ae0ba46ca38f7"
      }
     },
     "2b473691f1fd46babb4ac20725b7e576": {
      "model_module": "@jupyter-widgets/base",
      "model_module_version": "1.2.0",
      "model_name": "LayoutModel",
      "state": {
       "display": "inline-flex",
       "flex_flow": "row wrap",
       "width": "100%"
      }
     },
     "2b6bef7165d545efb74a5157eccbf24c": {
      "model_module": "@jupyter-widgets/controls",
      "model_module_version": "1.5.0",
      "model_name": "HBoxModel",
      "state": {
       "children": [
        "IPY_MODEL_e3b28a6bc8bf4861b0e99ac9c953640a",
        "IPY_MODEL_96ff0dc530b046669d67e4b9fe0654da",
        "IPY_MODEL_593fd10272194b05892391c77dbbb57b"
       ],
       "layout": "IPY_MODEL_7ae02c598f774f3db68acd7e9fecc9f3"
      }
     },
     "2bd2fc1c7ca1476daab14365c62e4601": {
      "model_module": "@jupyter-widgets/controls",
      "model_module_version": "1.5.0",
      "model_name": "FloatProgressModel",
      "state": {
       "bar_style": "success",
       "layout": "IPY_MODEL_b1eac2bc3f4744a88ec1e8574d2b56e3",
       "max": 18,
       "style": "IPY_MODEL_45318edebb8348a5923dd958a1492ff2",
       "value": 18
      }
     },
     "2bdd815d34dd40938730c83699b3269e": {
      "model_module": "@jupyter-widgets/controls",
      "model_module_version": "1.5.0",
      "model_name": "HBoxModel",
      "state": {
       "children": [
        "IPY_MODEL_0539d5ddc9d8400a8fcc02535865847e",
        "IPY_MODEL_b10a78531e714cffbbb30c70943f4b82",
        "IPY_MODEL_a54ef15125674f9396b5e58e37ac35ad"
       ],
       "layout": "IPY_MODEL_96fad596fb4f43fea4d73062943fb2dc"
      }
     },
     "2be5df54fe204fcaa3534c8ec002950f": {
      "model_module": "@jupyter-widgets/controls",
      "model_module_version": "1.5.0",
      "model_name": "DescriptionStyleModel",
      "state": {
       "description_width": ""
      }
     },
     "2c0bd3faf9cc4ffb968205cf32327794": {
      "model_module": "@jupyter-widgets/base",
      "model_module_version": "1.2.0",
      "model_name": "LayoutModel",
      "state": {}
     },
     "2c36f153e2b641a1bc3e7e272a1256d7": {
      "model_module": "@jupyter-widgets/base",
      "model_module_version": "1.2.0",
      "model_name": "LayoutModel",
      "state": {}
     },
     "2ca26dbf837c43c59944e7c4ec688708": {
      "model_module": "@jupyter-widgets/controls",
      "model_module_version": "1.5.0",
      "model_name": "HTMLModel",
      "state": {
       "layout": "IPY_MODEL_ce0ffe15f4ed4ff4864252c9ef976f08",
       "style": "IPY_MODEL_290ca6eba9be4750a0f7ecdf4006350d",
       "value": " \n            100% ⏱️14:39 ⏳00:00 ⚙️100.07it/s"
      }
     },
     "2d5b406f800448138eb4438936075dc3": {
      "model_module": "@jupyter-widgets/controls",
      "model_module_version": "1.5.0",
      "model_name": "HTMLModel",
      "state": {
       "layout": "IPY_MODEL_a33b60e7465e4e258d23ad80bb2094cb",
       "style": "IPY_MODEL_2e66f0d0bd9b4f0c8156dc152db7a7b8",
       "value": "📄 143438 of 162917 ⌚ timestamps from participant caf93a54-5b95-4c55-ace9-619a0ca2dd98 processed: "
      }
     },
     "2e063d4e73e843979606237dfbb9ec7c": {
      "model_module": "@jupyter-widgets/controls",
      "model_module_version": "1.5.0",
      "model_name": "DescriptionStyleModel",
      "state": {
       "description_width": ""
      }
     },
     "2e3b5167029a4e298292937bb5646833": {
      "model_module": "@jupyter-widgets/base",
      "model_module_version": "1.2.0",
      "model_name": "LayoutModel",
      "state": {
       "flex": "2"
      }
     },
     "2e66f0d0bd9b4f0c8156dc152db7a7b8": {
      "model_module": "@jupyter-widgets/controls",
      "model_module_version": "1.5.0",
      "model_name": "DescriptionStyleModel",
      "state": {
       "description_width": ""
      }
     },
     "2efea6b7656e4f61834f39e5b9564ddd": {
      "model_module": "@jupyter-widgets/base",
      "model_module_version": "1.2.0",
      "model_name": "LayoutModel",
      "state": {
       "flex": "2"
      }
     },
     "2f737dc2e8574b89b83f29252030b9b1": {
      "model_module": "@jupyter-widgets/controls",
      "model_module_version": "1.5.0",
      "model_name": "ProgressStyleModel",
      "state": {
       "description_width": ""
      }
     },
     "2f9f654c86e44f179f1a9f434e28bacf": {
      "model_module": "@jupyter-widgets/controls",
      "model_module_version": "1.5.0",
      "model_name": "HTMLModel",
      "state": {
       "layout": "IPY_MODEL_5e2f327af54b497eaf1392b25c85abab",
       "style": "IPY_MODEL_dbd323d050f74666a88422e2d97cdb7c",
       "value": "📄 163090 of 163090 ⌚ timestamps from participant d4bf073c-a3cc-450c-9412-ef15538ee293 processed: "
      }
     },
     "309fac78451a47d2bec9e24a3b4d1853": {
      "model_module": "@jupyter-widgets/controls",
      "model_module_version": "1.5.0",
      "model_name": "HTMLModel",
      "state": {
       "layout": "IPY_MODEL_bc13066a2a084101a2661f05f6905d21",
       "style": "IPY_MODEL_3855342fd9cc46b4b5dcc696d880abbf",
       "value": " \n             95% ⏱️11:26 ⏳00:44 ⚙️191.31it/s"
      }
     },
     "3107b67d99ea45a29c0d3801e0b9abf0": {
      "model_module": "@jupyter-widgets/controls",
      "model_module_version": "1.5.0",
      "model_name": "HTMLModel",
      "state": {
       "layout": "IPY_MODEL_b5bd0a9949cc46fb87a3b293867c2066",
       "style": "IPY_MODEL_f1a7e6989e2f483eafea948252d6a937",
       "value": " \n            100% ⏱️28:55 ⏳00:00 ⚙️120.50it/s"
      }
     },
     "32745a052b7c44b885a914a4ab580b1a": {
      "model_module": "@jupyter-widgets/base",
      "model_module_version": "1.2.0",
      "model_name": "LayoutModel",
      "state": {}
     },
     "32d0c83330464a838e0c42ba8350f057": {
      "model_module": "@jupyter-widgets/controls",
      "model_module_version": "1.5.0",
      "model_name": "HBoxModel",
      "state": {
       "children": [
        "IPY_MODEL_92eadf38eb454244bfcc9fb171fea9d8",
        "IPY_MODEL_7c00447fbc1b41bc947e3753ff5c7896",
        "IPY_MODEL_2ca26dbf837c43c59944e7c4ec688708"
       ],
       "layout": "IPY_MODEL_84b570a878dd482fbfd0385e60e5f1b1"
      }
     },
     "3321fce023a245f5a4c87de88c71c677": {
      "model_module": "@jupyter-widgets/base",
      "model_module_version": "1.2.0",
      "model_name": "LayoutModel",
      "state": {}
     },
     "35324f52113c4032b2607a9ba0f98c1f": {
      "model_module": "@jupyter-widgets/base",
      "model_module_version": "1.2.0",
      "model_name": "LayoutModel",
      "state": {}
     },
     "356ce1d2b6144147ad368a03d6d48e78": {
      "model_module": "@jupyter-widgets/controls",
      "model_module_version": "1.5.0",
      "model_name": "FloatProgressModel",
      "state": {
       "bar_style": "success",
       "layout": "IPY_MODEL_67208beb172f41a1b9a9e217a3ce3bb5",
       "max": 161902,
       "style": "IPY_MODEL_90c00d7065484951a3d75526663a3441",
       "value": 161902
      }
     },
     "359ac11176964937942dd9e9ec7d8cfe": {
      "model_module": "@jupyter-widgets/controls",
      "model_module_version": "1.5.0",
      "model_name": "HBoxModel",
      "state": {
       "children": [
        "IPY_MODEL_9995a9a8b19b4176959ab6da5503ed06",
        "IPY_MODEL_b05641aa42524f27a896aead65306cf9",
        "IPY_MODEL_513d6b4ef1b9415ab48639035e241bd6"
       ],
       "layout": "IPY_MODEL_74b72cf4ca7446549e0f7c1a8c6b58d3"
      }
     },
     "35ed0d2dcfcd4a33ad4e6b28a24140b3": {
      "model_module": "@jupyter-widgets/base",
      "model_module_version": "1.2.0",
      "model_name": "LayoutModel",
      "state": {}
     },
     "36602c2d9c354c439519579d9fa4b6f7": {
      "model_module": "@jupyter-widgets/controls",
      "model_module_version": "1.5.0",
      "model_name": "HBoxModel",
      "state": {
       "children": [
        "IPY_MODEL_7619744db2f0422db6d34af91765a042",
        "IPY_MODEL_b3933abc6bf8483fa8820c19049e66a9",
        "IPY_MODEL_0452d28f842a4ce2a030d3da6f8fcdcb"
       ],
       "layout": "IPY_MODEL_42b0213068e34a91a3fe498587494127"
      }
     },
     "36e5888787e147c2a7e5466c95e90604": {
      "model_module": "@jupyter-widgets/base",
      "model_module_version": "1.2.0",
      "model_name": "LayoutModel",
      "state": {}
     },
     "36fef5e908404ab8bfd0b7283639bbf0": {
      "model_module": "@jupyter-widgets/controls",
      "model_module_version": "1.5.0",
      "model_name": "ProgressStyleModel",
      "state": {
       "description_width": ""
      }
     },
     "37137a0c4dde41bc84856c2dba3c475f": {
      "model_module": "@jupyter-widgets/controls",
      "model_module_version": "1.5.0",
      "model_name": "HBoxModel",
      "state": {
       "children": [
        "IPY_MODEL_63ebc4c9687f44b383b334470c0c1568",
        "IPY_MODEL_dd342a61d5fc4c1d8a74b35df5cb5fd5",
        "IPY_MODEL_c78b66609dbc4e6ea6c28c7900e9ea5d"
       ],
       "layout": "IPY_MODEL_e28c0dae06b24ad88fb8a147f605ee1b"
      }
     },
     "3732cff6545444c28d7763548993980d": {
      "model_module": "@jupyter-widgets/base",
      "model_module_version": "1.2.0",
      "model_name": "LayoutModel",
      "state": {
       "flex": "2"
      }
     },
     "3756c25c36ac466ebd7d074e28fc2d51": {
      "model_module": "@jupyter-widgets/controls",
      "model_module_version": "1.5.0",
      "model_name": "DescriptionStyleModel",
      "state": {
       "description_width": ""
      }
     },
     "375c264a79a14c1995bed37fbcc45b86": {
      "model_module": "@jupyter-widgets/controls",
      "model_module_version": "1.5.0",
      "model_name": "FloatProgressModel",
      "state": {
       "bar_style": "success",
       "layout": "IPY_MODEL_d11cf3f6bc5a4160a19d817d0cee57b3",
       "max": 161903,
       "style": "IPY_MODEL_c7ddd2c7e66c417eb6cd81b566330419",
       "value": 161903
      }
     },
     "383ba83c6d8041f08f43916f96d40100": {
      "model_module": "@jupyter-widgets/controls",
      "model_module_version": "1.5.0",
      "model_name": "HBoxModel",
      "state": {
       "children": [
        "IPY_MODEL_f4d6cedffaa046caa9722d2c0cc81ee2",
        "IPY_MODEL_c5bc760a18dd4c679fd6016c8d3c003a",
        "IPY_MODEL_b87b0166a4364d08a9b1977b8f5490ab"
       ],
       "layout": "IPY_MODEL_1bb7b8eb345e491987e11af63a78f240"
      }
     },
     "3855342fd9cc46b4b5dcc696d880abbf": {
      "model_module": "@jupyter-widgets/controls",
      "model_module_version": "1.5.0",
      "model_name": "DescriptionStyleModel",
      "state": {
       "description_width": ""
      }
     },
     "39b15813c1034f06b194beb18fdf6baf": {
      "model_module": "@jupyter-widgets/controls",
      "model_module_version": "1.5.0",
      "model_name": "HTMLModel",
      "state": {
       "layout": "IPY_MODEL_cb96c0237a574345b11505fea102ae6d",
       "style": "IPY_MODEL_829621a2bf624cd58ebe36ed237945a8",
       "value": " \n             95% ⏱️11:25 ⏳00:45 ⚙️163.47it/s"
      }
     },
     "3a057ba3ceef4e2bb805d0c217aac3c0": {
      "model_module": "@jupyter-widgets/controls",
      "model_module_version": "1.5.0",
      "model_name": "HTMLModel",
      "state": {
       "layout": "IPY_MODEL_6165b61f562f48ac899f253d8db6e2e0",
       "style": "IPY_MODEL_90f7f0c3675a480cbd10d19925379ec1",
       "value": "📄 162466 of 162466 ⌚ timestamps from participant 20e8d35c-e7aa-4be3-a6e2-5b78f4cd44d8 processed: "
      }
     },
     "3a2ceb71b1b543c7ab6d5d8f7f597e1f": {
      "model_module": "@jupyter-widgets/base",
      "model_module_version": "1.2.0",
      "model_name": "LayoutModel",
      "state": {}
     },
     "3a332b48925a416689f084d8c63b68e9": {
      "model_module": "@jupyter-widgets/base",
      "model_module_version": "1.2.0",
      "model_name": "LayoutModel",
      "state": {}
     },
     "3a35cac7b4fa4fe084ae9d31bad1cdd1": {
      "model_module": "@jupyter-widgets/base",
      "model_module_version": "1.2.0",
      "model_name": "LayoutModel",
      "state": {
       "display": "inline-flex",
       "flex_flow": "row wrap",
       "width": "100%"
      }
     },
     "3a42ddbd420f4eb1a98c3c3af5588fd6": {
      "model_module": "@jupyter-widgets/base",
      "model_module_version": "1.2.0",
      "model_name": "LayoutModel",
      "state": {
       "flex": "2"
      }
     },
     "3a9b7cdcf03d4344aae8c554e7863cbe": {
      "model_module": "@jupyter-widgets/controls",
      "model_module_version": "1.5.0",
      "model_name": "HBoxModel",
      "state": {
       "children": [
        "IPY_MODEL_dd14838357c943a492163293a0706f45",
        "IPY_MODEL_550f2872193a4a2c94a46707e03e0246",
        "IPY_MODEL_791bd052c76c4e779c3986c430476230"
       ],
       "layout": "IPY_MODEL_87bcef32f4ef488f9590c5187bfa2c5f"
      }
     },
     "3b05f7c122884fc1bf057fa5c97dd2e7": {
      "model_module": "@jupyter-widgets/base",
      "model_module_version": "1.2.0",
      "model_name": "LayoutModel",
      "state": {
       "flex": "2"
      }
     },
     "3b3f94c181804dada3d89c12d75c67b2": {
      "model_module": "@jupyter-widgets/base",
      "model_module_version": "1.2.0",
      "model_name": "LayoutModel",
      "state": {}
     },
     "3b9275afb74d40d383269bdf8c267d80": {
      "model_module": "@jupyter-widgets/controls",
      "model_module_version": "1.5.0",
      "model_name": "DescriptionStyleModel",
      "state": {
       "description_width": ""
      }
     },
     "3c52bfe96a4140b389fa4a26a355a9a3": {
      "model_module": "@jupyter-widgets/base",
      "model_module_version": "1.2.0",
      "model_name": "LayoutModel",
      "state": {
       "flex": "2"
      }
     },
     "3ca3f2dd1f1a4058b9e289e16096106a": {
      "model_module": "@jupyter-widgets/base",
      "model_module_version": "1.2.0",
      "model_name": "LayoutModel",
      "state": {}
     },
     "3cb1e78f91974b389a6862f2d6f1552d": {
      "model_module": "@jupyter-widgets/base",
      "model_module_version": "1.2.0",
      "model_name": "LayoutModel",
      "state": {}
     },
     "3d0f6cbf268b485f8ed5974638fdaace": {
      "model_module": "@jupyter-widgets/controls",
      "model_module_version": "1.5.0",
      "model_name": "FloatProgressModel",
      "state": {
       "layout": "IPY_MODEL_a013e73bf7044902b851ac9a359f38d6",
       "max": 161208,
       "style": "IPY_MODEL_6488ab7dd38c4d8cbf4ab1fb7716ca36",
       "value": 147251
      }
     },
     "3d5218420cf0450ca7a36291d0711819": {
      "model_module": "@jupyter-widgets/base",
      "model_module_version": "1.2.0",
      "model_name": "LayoutModel",
      "state": {}
     },
     "3d8042de78af4e118d4c19504feb8f7f": {
      "model_module": "@jupyter-widgets/controls",
      "model_module_version": "1.5.0",
      "model_name": "HTMLModel",
      "state": {
       "layout": "IPY_MODEL_105eab6e7c1643b3a5b01383886c6cd9",
       "style": "IPY_MODEL_2be5df54fe204fcaa3534c8ec002950f",
       "value": "📄 162527 of 162527 ⌚ timestamps from participant 6f6719eb-8c89-46fe-8b5e-3c81e0e40a84 processed: "
      }
     },
     "3ded23a044ec41409636c0303a999def": {
      "model_module": "@jupyter-widgets/base",
      "model_module_version": "1.2.0",
      "model_name": "LayoutModel",
      "state": {
       "display": "inline-flex",
       "flex_flow": "row wrap",
       "width": "100%"
      }
     },
     "3e1b14015a284b4294ef04232302526e": {
      "model_module": "@jupyter-widgets/controls",
      "model_module_version": "1.5.0",
      "model_name": "HTMLModel",
      "state": {
       "layout": "IPY_MODEL_8c276149812a4c0f9c0f90ee1c17bbbb",
       "style": "IPY_MODEL_ab37d6460ce742839de08efef7fded90",
       "value": " \n            100% ⏱️20:17 ⏳00:00 ⚙️41.66s/it"
      }
     },
     "3f4f756fdabb4b5ca6aa9d549a7047ba": {
      "model_module": "@jupyter-widgets/base",
      "model_module_version": "1.2.0",
      "model_name": "LayoutModel",
      "state": {}
     },
     "3f56665f307f4f58ace64d7d0bfc7be5": {
      "model_module": "@jupyter-widgets/base",
      "model_module_version": "1.2.0",
      "model_name": "LayoutModel",
      "state": {
       "flex": "2"
      }
     },
     "3fe745fcbebb4b2b826f5f89963f1973": {
      "model_module": "@jupyter-widgets/controls",
      "model_module_version": "1.5.0",
      "model_name": "FloatProgressModel",
      "state": {
       "layout": "IPY_MODEL_5ddef74fcee84ec0a9805bb6806b8bd4",
       "max": 162462,
       "style": "IPY_MODEL_2476e9d64e1f461bb9dd7c9ec7ff9d72",
       "value": 144401
      }
     },
     "41d0e622ef804793b75d69dcbbe56d75": {
      "model_module": "@jupyter-widgets/base",
      "model_module_version": "1.2.0",
      "model_name": "LayoutModel",
      "state": {
       "display": "inline-flex",
       "flex_flow": "row wrap",
       "width": "100%"
      }
     },
     "420183e437a9430bac2f5d9edc3786d4": {
      "model_module": "@jupyter-widgets/controls",
      "model_module_version": "1.5.0",
      "model_name": "HBoxModel",
      "state": {
       "children": [
        "IPY_MODEL_2f9f654c86e44f179f1a9f434e28bacf",
        "IPY_MODEL_c4a4b94df3c643bc827076f61efaf3cf",
        "IPY_MODEL_aa48b86c30fd4059923e1a393360f939"
       ],
       "layout": "IPY_MODEL_fd6ce13dd8af44ba95c00a24e22ad4d6"
      }
     },
     "4223276b518e45039a49f25bf5e6ad15": {
      "model_module": "@jupyter-widgets/base",
      "model_module_version": "1.2.0",
      "model_name": "LayoutModel",
      "state": {}
     },
     "42424eaf63484bed9e8aaacde81db6c9": {
      "model_module": "@jupyter-widgets/controls",
      "model_module_version": "1.5.0",
      "model_name": "DescriptionStyleModel",
      "state": {
       "description_width": ""
      }
     },
     "42b0213068e34a91a3fe498587494127": {
      "model_module": "@jupyter-widgets/base",
      "model_module_version": "1.2.0",
      "model_name": "LayoutModel",
      "state": {
       "display": "inline-flex",
       "flex_flow": "row wrap",
       "width": "100%"
      }
     },
     "42e9ddadee6e4366a1c8e6abf7d2c6bb": {
      "model_module": "@jupyter-widgets/controls",
      "model_module_version": "1.5.0",
      "model_name": "DescriptionStyleModel",
      "state": {
       "description_width": ""
      }
     },
     "443b468f0fe043fdb5f52e03ec41bebb": {
      "model_module": "@jupyter-widgets/controls",
      "model_module_version": "1.5.0",
      "model_name": "HTMLModel",
      "state": {
       "layout": "IPY_MODEL_5a819ad818074299a4dd225a9fef4c9f",
       "style": "IPY_MODEL_ac350fb3c07a4002b3b8eb7e3a4100f2",
       "value": "📄 162834 of 162834 ⌚ timestamps from participant c6c110c9-2efe-44e7-914f-d6052e2ab784 processed: "
      }
     },
     "44a12d480e12435d84fc12d653b26772": {
      "model_module": "@jupyter-widgets/controls",
      "model_module_version": "1.5.0",
      "model_name": "FloatProgressModel",
      "state": {
       "bar_style": "success",
       "layout": "IPY_MODEL_6172beaaf0e04a50b209f14e2911640a",
       "max": 18,
       "style": "IPY_MODEL_50b27fee3ea24b54a570a99521b5e5e8",
       "value": 18
      }
     },
     "44f5f84a31aa42adbfc72854767d5849": {
      "model_module": "@jupyter-widgets/base",
      "model_module_version": "1.2.0",
      "model_name": "LayoutModel",
      "state": {
       "flex": "2"
      }
     },
     "45318edebb8348a5923dd958a1492ff2": {
      "model_module": "@jupyter-widgets/controls",
      "model_module_version": "1.5.0",
      "model_name": "ProgressStyleModel",
      "state": {
       "description_width": ""
      }
     },
     "4535a03b7f3347a8b74e2a0a361a8d1e": {
      "model_module": "@jupyter-widgets/controls",
      "model_module_version": "1.5.0",
      "model_name": "FloatProgressModel",
      "state": {
       "bar_style": "success",
       "layout": "IPY_MODEL_84abd6c7e77a4b79a7944edf900f7212",
       "max": 157535,
       "style": "IPY_MODEL_553e27555d114199a6dac5f940b54ae9",
       "value": 157535
      }
     },
     "4564b98bc46148a1b6254611655afe5c": {
      "model_module": "@jupyter-widgets/controls",
      "model_module_version": "1.5.0",
      "model_name": "DescriptionStyleModel",
      "state": {
       "description_width": ""
      }
     },
     "456b2d8d1b724706804706ed3bd52c2d": {
      "model_module": "@jupyter-widgets/base",
      "model_module_version": "1.2.0",
      "model_name": "LayoutModel",
      "state": {
       "flex": "2"
      }
     },
     "45950694f77748709f03b034630b9b8d": {
      "model_module": "@jupyter-widgets/controls",
      "model_module_version": "1.5.0",
      "model_name": "ProgressStyleModel",
      "state": {
       "description_width": ""
      }
     },
     "467783a431574887a07e859711ada829": {
      "model_module": "@jupyter-widgets/base",
      "model_module_version": "1.2.0",
      "model_name": "LayoutModel",
      "state": {}
     },
     "46dc7573b5e345ad8805c2ccec5cefa8": {
      "model_module": "@jupyter-widgets/base",
      "model_module_version": "1.2.0",
      "model_name": "LayoutModel",
      "state": {
       "display": "inline-flex",
       "flex_flow": "row wrap",
       "width": "100%"
      }
     },
     "472d7ad3477a42a6a7308fe7a8806fb9": {
      "model_module": "@jupyter-widgets/base",
      "model_module_version": "1.2.0",
      "model_name": "LayoutModel",
      "state": {
       "flex": "2"
      }
     },
     "47c36c1245e34f36aa667f0ab98337de": {
      "model_module": "@jupyter-widgets/base",
      "model_module_version": "1.2.0",
      "model_name": "LayoutModel",
      "state": {
       "flex": "2"
      }
     },
     "47c56383c84c413c82b887939e04da7d": {
      "model_module": "@jupyter-widgets/controls",
      "model_module_version": "1.5.0",
      "model_name": "DescriptionStyleModel",
      "state": {
       "description_width": ""
      }
     },
     "48204da2e1aa44a39b4786c1ed17ed5b": {
      "model_module": "@jupyter-widgets/base",
      "model_module_version": "1.2.0",
      "model_name": "LayoutModel",
      "state": {
       "display": "inline-flex",
       "flex_flow": "row wrap",
       "width": "100%"
      }
     },
     "48321a072bc04133b65012340ffc941d": {
      "model_module": "@jupyter-widgets/base",
      "model_module_version": "1.2.0",
      "model_name": "LayoutModel",
      "state": {
       "display": "inline-flex",
       "flex_flow": "row wrap",
       "width": "100%"
      }
     },
     "4856134b97044956a979fb80c47faee0": {
      "model_module": "@jupyter-widgets/controls",
      "model_module_version": "1.5.0",
      "model_name": "DescriptionStyleModel",
      "state": {
       "description_width": ""
      }
     },
     "4890c7e53b584a8f967b8475e8c3b037": {
      "model_module": "@jupyter-widgets/base",
      "model_module_version": "1.2.0",
      "model_name": "LayoutModel",
      "state": {
       "display": "inline-flex",
       "flex_flow": "row wrap",
       "width": "100%"
      }
     },
     "49a369ddb4144a9e91fe113125c2195a": {
      "model_module": "@jupyter-widgets/base",
      "model_module_version": "1.2.0",
      "model_name": "LayoutModel",
      "state": {
       "flex": "2"
      }
     },
     "4a9c1f4c8a92434ea1130e04de6959a7": {
      "model_module": "@jupyter-widgets/controls",
      "model_module_version": "1.5.0",
      "model_name": "HTMLModel",
      "state": {
       "layout": "IPY_MODEL_b4fb5dc831db40af9b18513d07a50450",
       "style": "IPY_MODEL_42424eaf63484bed9e8aaacde81db6c9",
       "value": " \n             29% ⏱️01:41 ⏳05:11 ⚙️368.09it/s"
      }
     },
     "4ab700e9f93142478c3ae59621900d6f": {
      "model_module": "@jupyter-widgets/controls",
      "model_module_version": "1.5.0",
      "model_name": "DescriptionStyleModel",
      "state": {
       "description_width": ""
      }
     },
     "4b9356a452564e8188018bcbe2465cde": {
      "model_module": "@jupyter-widgets/base",
      "model_module_version": "1.2.0",
      "model_name": "LayoutModel",
      "state": {}
     },
     "4bcca697ca914ceebeb2697029ab93df": {
      "model_module": "@jupyter-widgets/controls",
      "model_module_version": "1.5.0",
      "model_name": "DescriptionStyleModel",
      "state": {
       "description_width": ""
      }
     },
     "4bd6173631e74a7ea9a64818148b52bd": {
      "model_module": "@jupyter-widgets/controls",
      "model_module_version": "1.5.0",
      "model_name": "ProgressStyleModel",
      "state": {
       "description_width": ""
      }
     },
     "4bee14d9fdd34b7f9d913debae69f621": {
      "model_module": "@jupyter-widgets/base",
      "model_module_version": "1.2.0",
      "model_name": "LayoutModel",
      "state": {
       "display": "inline-flex",
       "flex_flow": "row wrap",
       "width": "100%"
      }
     },
     "4c4ee0deb71e439084ad01dd91e42d37": {
      "model_module": "@jupyter-widgets/base",
      "model_module_version": "1.2.0",
      "model_name": "LayoutModel",
      "state": {}
     },
     "4cdc57b5b14f44f889d1b266a5e88037": {
      "model_module": "@jupyter-widgets/controls",
      "model_module_version": "1.5.0",
      "model_name": "FloatProgressModel",
      "state": {
       "bar_style": "success",
       "layout": "IPY_MODEL_47c36c1245e34f36aa667f0ab98337de",
       "max": 163022,
       "style": "IPY_MODEL_12414fc57fe4492592cd158f9e451ff5",
       "value": 163022
      }
     },
     "4d0e5db55b0945b7b63d8e2f73be8f70": {
      "model_module": "@jupyter-widgets/controls",
      "model_module_version": "1.5.0",
      "model_name": "FloatProgressModel",
      "state": {
       "bar_style": "success",
       "layout": "IPY_MODEL_49a369ddb4144a9e91fe113125c2195a",
       "max": 162528,
       "style": "IPY_MODEL_06e69bdfa54b4cd8a204875197027f7e",
       "value": 162528
      }
     },
     "4d6c86c31a324920a0cd45f71c78c72b": {
      "model_module": "@jupyter-widgets/controls",
      "model_module_version": "1.5.0",
      "model_name": "DescriptionStyleModel",
      "state": {
       "description_width": ""
      }
     },
     "4d89238e0d464335837dad654d0990c6": {
      "model_module": "@jupyter-widgets/controls",
      "model_module_version": "1.5.0",
      "model_name": "FloatProgressModel",
      "state": {
       "bar_style": "success",
       "layout": "IPY_MODEL_472d7ad3477a42a6a7308fe7a8806fb9",
       "max": 162834,
       "style": "IPY_MODEL_aca1bfa311e34250b4881ccf18de62a9",
       "value": 162834
      }
     },
     "4da2b40f3c604177a0a0b7d6bc41f728": {
      "model_module": "@jupyter-widgets/base",
      "model_module_version": "1.2.0",
      "model_name": "LayoutModel",
      "state": {
       "display": "inline-flex",
       "flex_flow": "row wrap",
       "width": "100%"
      }
     },
     "4e4b3721a5d54c3285ef15601055360d": {
      "model_module": "@jupyter-widgets/controls",
      "model_module_version": "1.5.0",
      "model_name": "DescriptionStyleModel",
      "state": {
       "description_width": ""
      }
     },
     "4e520340f61240b5b0f1c25fb7664900": {
      "model_module": "@jupyter-widgets/controls",
      "model_module_version": "1.5.0",
      "model_name": "FloatProgressModel",
      "state": {
       "bar_style": "success",
       "layout": "IPY_MODEL_ac00886c74a44277a2af92c1282cb5e9",
       "max": 162462,
       "style": "IPY_MODEL_79d8ee353f18410aa6c9c71104c1836d",
       "value": 162462
      }
     },
     "4e89e10718d84bdf845b90e63410bf4c": {
      "model_module": "@jupyter-widgets/base",
      "model_module_version": "1.2.0",
      "model_name": "LayoutModel",
      "state": {
       "display": "inline-flex",
       "flex_flow": "row wrap",
       "width": "100%"
      }
     },
     "4eeb0eb2a9024c9db0612e5354c38fbf": {
      "model_module": "@jupyter-widgets/base",
      "model_module_version": "1.2.0",
      "model_name": "LayoutModel",
      "state": {}
     },
     "4ef6cdcc795840528063fc1c3efd5178": {
      "model_module": "@jupyter-widgets/base",
      "model_module_version": "1.2.0",
      "model_name": "LayoutModel",
      "state": {}
     },
     "4f1e0ba5ee8848168cfa3044cfcd1116": {
      "model_module": "@jupyter-widgets/base",
      "model_module_version": "1.2.0",
      "model_name": "LayoutModel",
      "state": {}
     },
     "4f5111ec64b747d4b353ab2113f59800": {
      "model_module": "@jupyter-widgets/base",
      "model_module_version": "1.2.0",
      "model_name": "LayoutModel",
      "state": {}
     },
     "4f62899990794d05a4f5c41f5abfeb70": {
      "model_module": "@jupyter-widgets/controls",
      "model_module_version": "1.5.0",
      "model_name": "HTMLModel",
      "state": {
       "layout": "IPY_MODEL_8f872b4ec50049f88b09cc8e2ee3208d",
       "style": "IPY_MODEL_ccee08807f9248fc9d3dc802d4a40501",
       "value": " \n            100% ⏱️29:11 ⏳00:00 ⚙️371.96it/s"
      }
     },
     "4fb4405a62ce408e8a470a61f01c2b30": {
      "model_module": "@jupyter-widgets/base",
      "model_module_version": "1.2.0",
      "model_name": "LayoutModel",
      "state": {}
     },
     "4fee0a0620484c149628326b5aa0a7ba": {
      "model_module": "@jupyter-widgets/controls",
      "model_module_version": "1.5.0",
      "model_name": "DescriptionStyleModel",
      "state": {
       "description_width": ""
      }
     },
     "504540e331e74191955dfacd3bb993aa": {
      "model_module": "@jupyter-widgets/base",
      "model_module_version": "1.2.0",
      "model_name": "LayoutModel",
      "state": {
       "flex": "2"
      }
     },
     "50b27fee3ea24b54a570a99521b5e5e8": {
      "model_module": "@jupyter-widgets/controls",
      "model_module_version": "1.5.0",
      "model_name": "ProgressStyleModel",
      "state": {
       "description_width": ""
      }
     },
     "513d6b4ef1b9415ab48639035e241bd6": {
      "model_module": "@jupyter-widgets/controls",
      "model_module_version": "1.5.0",
      "model_name": "HTMLModel",
      "state": {
       "layout": "IPY_MODEL_256540c7c3c64081993da666cf53863c",
       "style": "IPY_MODEL_273c3fc6a5bb4bee8c02e5398cddb9d5",
       "value": " \n            100% ⏱️28:51 ⏳00:00 ⚙️113.85it/s"
      }
     },
     "51ff25b54f8f4fd9bb66e1b50dbb6ab1": {
      "model_module": "@jupyter-widgets/controls",
      "model_module_version": "1.5.0",
      "model_name": "HBoxModel",
      "state": {
       "children": [
        "IPY_MODEL_cf1d5fa9eecb42a2a46778c33376b52b",
        "IPY_MODEL_0176614ddea24c8fba933bef575a5dfa",
        "IPY_MODEL_eeb6c3d3f2cc40c9a3defb6447fa0d75"
       ],
       "layout": "IPY_MODEL_fe8c61c850f340a0a6f9ffbd7df21e93"
      }
     },
     "5229443fce6e4d7d8e52584f6cfb185c": {
      "model_module": "@jupyter-widgets/controls",
      "model_module_version": "1.5.0",
      "model_name": "HTMLModel",
      "state": {
       "layout": "IPY_MODEL_a701bf94d9854f71aa79db5613e8fae9",
       "style": "IPY_MODEL_e2dc13ff156b44959fa6c8b3fd1a45f5",
       "value": " \n             93% ⏱️11:25 ⏳01:18 ⚙️141.99it/s"
      }
     },
     "5278bf0cac9e4b8a8585d90a1f087e57": {
      "model_module": "@jupyter-widgets/base",
      "model_module_version": "1.2.0",
      "model_name": "LayoutModel",
      "state": {}
     },
     "5315c9c5c15f4cf88424b50ccad71d22": {
      "model_module": "@jupyter-widgets/base",
      "model_module_version": "1.2.0",
      "model_name": "LayoutModel",
      "state": {}
     },
     "53e4924bf9e14744938bf9e0c6d94824": {
      "model_module": "@jupyter-widgets/controls",
      "model_module_version": "1.5.0",
      "model_name": "HTMLModel",
      "state": {
       "layout": "IPY_MODEL_9298afc2f9ea45d6a823d71eef8cce07",
       "style": "IPY_MODEL_f16fcf962e584a41b1f710062a2e20a5",
       "value": " \n            100% ⏱️28:34 ⏳00:00 ⚙️23.47it/s"
      }
     },
     "542a43e9191743c98ae9579d7d7c493e": {
      "model_module": "@jupyter-widgets/controls",
      "model_module_version": "1.5.0",
      "model_name": "DescriptionStyleModel",
      "state": {
       "description_width": ""
      }
     },
     "550074983ba84c3c8ad627e149dbc1c3": {
      "model_module": "@jupyter-widgets/controls",
      "model_module_version": "1.5.0",
      "model_name": "DescriptionStyleModel",
      "state": {
       "description_width": ""
      }
     },
     "550f2872193a4a2c94a46707e03e0246": {
      "model_module": "@jupyter-widgets/controls",
      "model_module_version": "1.5.0",
      "model_name": "FloatProgressModel",
      "state": {
       "layout": "IPY_MODEL_f1bc87248a84468a9fc73f3e91cf0db1",
       "max": 162355,
       "style": "IPY_MODEL_c203a7058f6d4cc6a82c097568740f7a",
       "value": 152446
      }
     },
     "553e27555d114199a6dac5f940b54ae9": {
      "model_module": "@jupyter-widgets/controls",
      "model_module_version": "1.5.0",
      "model_name": "ProgressStyleModel",
      "state": {
       "description_width": ""
      }
     },
     "55c603cb855b4475b391ca2db0893569": {
      "model_module": "@jupyter-widgets/base",
      "model_module_version": "1.2.0",
      "model_name": "LayoutModel",
      "state": {}
     },
     "55c7cb9704b24c8ba0c784b47d5df64e": {
      "model_module": "@jupyter-widgets/base",
      "model_module_version": "1.2.0",
      "model_name": "LayoutModel",
      "state": {
       "display": "inline-flex",
       "flex_flow": "row wrap",
       "width": "100%"
      }
     },
     "573a65c7cc0f44f487ae2e4d8588a661": {
      "model_module": "@jupyter-widgets/controls",
      "model_module_version": "1.5.0",
      "model_name": "HBoxModel",
      "state": {
       "children": [
        "IPY_MODEL_86bef891bd404b7a81a78d3a9f048d16",
        "IPY_MODEL_abd40bfc7dcf44c8a5637e40f83d61c7",
        "IPY_MODEL_309fac78451a47d2bec9e24a3b4d1853"
       ],
       "layout": "IPY_MODEL_91e7103b5d2946c38368ba5147bb2ec8"
      }
     },
     "583cb5f426754ddbbccf53cda549c686": {
      "model_module": "@jupyter-widgets/base",
      "model_module_version": "1.2.0",
      "model_name": "LayoutModel",
      "state": {}
     },
     "58644129865440e48487dab411033a72": {
      "model_module": "@jupyter-widgets/base",
      "model_module_version": "1.2.0",
      "model_name": "LayoutModel",
      "state": {
       "display": "inline-flex",
       "flex_flow": "row wrap",
       "width": "100%"
      }
     },
     "593fd10272194b05892391c77dbbb57b": {
      "model_module": "@jupyter-widgets/controls",
      "model_module_version": "1.5.0",
      "model_name": "HTMLModel",
      "state": {
       "layout": "IPY_MODEL_9ae61a844f7c4eea94dd6678dbc606ff",
       "style": "IPY_MODEL_70db6fe47d984da789bad4d01f52e37c",
       "value": " \n            100% ⏱️02:19 ⏳00:00 ⚙️139.02s/it"
      }
     },
     "5a15619dd1444db4a081cac2de77c1e7": {
      "model_module": "@jupyter-widgets/base",
      "model_module_version": "1.2.0",
      "model_name": "LayoutModel",
      "state": {}
     },
     "5a482b7afd224b92aae87d94ee7f05d7": {
      "model_module": "@jupyter-widgets/controls",
      "model_module_version": "1.5.0",
      "model_name": "FloatProgressModel",
      "state": {
       "layout": "IPY_MODEL_1a0920f4ee0044fca493efe48c085341",
       "max": 163020,
       "style": "IPY_MODEL_1f83cb9703684eae838908b7a7c30c28",
       "value": 153520
      }
     },
     "5a819ad818074299a4dd225a9fef4c9f": {
      "model_module": "@jupyter-widgets/base",
      "model_module_version": "1.2.0",
      "model_name": "LayoutModel",
      "state": {}
     },
     "5abba9485b374d1cac9c77fdfd27966e": {
      "model_module": "@jupyter-widgets/base",
      "model_module_version": "1.2.0",
      "model_name": "LayoutModel",
      "state": {
       "flex": "2"
      }
     },
     "5ae4fc9247044a6092c37f4d31af3ac0": {
      "model_module": "@jupyter-widgets/controls",
      "model_module_version": "1.5.0",
      "model_name": "HBoxModel",
      "state": {
       "children": [
        "IPY_MODEL_705873660f4f49209d0b070881271159",
        "IPY_MODEL_99ea0a62cb3d48e6a11a504b1def8cab",
        "IPY_MODEL_4a9c1f4c8a92434ea1130e04de6959a7"
       ],
       "layout": "IPY_MODEL_a854dced24ae4d46bc86c779f8016c21"
      }
     },
     "5b9a3530945e4bb583aff6d776a285fa": {
      "model_module": "@jupyter-widgets/controls",
      "model_module_version": "1.5.0",
      "model_name": "FloatProgressModel",
      "state": {
       "layout": "IPY_MODEL_456b2d8d1b724706804706ed3bd52c2d",
       "max": 163088,
       "style": "IPY_MODEL_07b6e578918e4f0f9f760e93606c0df9",
       "value": 139944
      }
     },
     "5bacd394754249c9a864fa8c66f3032d": {
      "model_module": "@jupyter-widgets/base",
      "model_module_version": "1.2.0",
      "model_name": "LayoutModel",
      "state": {
       "display": "inline-flex",
       "flex_flow": "row wrap",
       "width": "100%"
      }
     },
     "5c3ab7654ae144b2a38901382d49935c": {
      "model_module": "@jupyter-widgets/base",
      "model_module_version": "1.2.0",
      "model_name": "LayoutModel",
      "state": {}
     },
     "5c86e6c7dfca487e9bf86c1a4738d214": {
      "model_module": "@jupyter-widgets/controls",
      "model_module_version": "1.5.0",
      "model_name": "FloatProgressModel",
      "state": {
       "layout": "IPY_MODEL_ac06b8e14d80462a9389b047ebb8e9f4",
       "max": 162525,
       "style": "IPY_MODEL_9c8ca3e5e75d4aaba939da489a44371b",
       "value": 12088
      }
     },
     "5d0c03fbc5bf453fb643abbc1d5186d4": {
      "model_module": "@jupyter-widgets/controls",
      "model_module_version": "1.5.0",
      "model_name": "FloatProgressModel",
      "state": {
       "bar_style": "success",
       "layout": "IPY_MODEL_8d9df07aa3fc4668b4559921fc9385c6",
       "max": 157537,
       "style": "IPY_MODEL_803e30e9bcbe45cda6cdd63e29ef73eb",
       "value": 157537
      }
     },
     "5d178b13fe53439eb0cde7f6791d5069": {
      "model_module": "@jupyter-widgets/controls",
      "model_module_version": "1.5.0",
      "model_name": "DescriptionStyleModel",
      "state": {
       "description_width": ""
      }
     },
     "5d44661c22c24278a45a49bca6e791ed": {
      "model_module": "@jupyter-widgets/base",
      "model_module_version": "1.2.0",
      "model_name": "LayoutModel",
      "state": {
       "display": "inline-flex",
       "flex_flow": "row wrap",
       "width": "100%"
      }
     },
     "5d558e4c0d0a4d3f91bc64b798b8eede": {
      "model_module": "@jupyter-widgets/controls",
      "model_module_version": "1.5.0",
      "model_name": "FloatProgressModel",
      "state": {
       "bar_style": "success",
       "layout": "IPY_MODEL_02cab98d225d4409b7530c7d636f2b55",
       "max": 162482,
       "style": "IPY_MODEL_f9a3251a479f423f8d9d9aa22f770e0f",
       "value": 162482
      }
     },
     "5d7493115734467ea208874103e09900": {
      "model_module": "@jupyter-widgets/controls",
      "model_module_version": "1.5.0",
      "model_name": "ProgressStyleModel",
      "state": {
       "description_width": ""
      }
     },
     "5d9ec992f5814c859219268d0bd845a7": {
      "model_module": "@jupyter-widgets/controls",
      "model_module_version": "1.5.0",
      "model_name": "DescriptionStyleModel",
      "state": {
       "description_width": ""
      }
     },
     "5dde899b1893446e95405a0fbb9596fe": {
      "model_module": "@jupyter-widgets/controls",
      "model_module_version": "1.5.0",
      "model_name": "DescriptionStyleModel",
      "state": {
       "description_width": ""
      }
     },
     "5ddef74fcee84ec0a9805bb6806b8bd4": {
      "model_module": "@jupyter-widgets/base",
      "model_module_version": "1.2.0",
      "model_name": "LayoutModel",
      "state": {
       "flex": "2"
      }
     },
     "5de05111432d4957bc4deb61704780cd": {
      "model_module": "@jupyter-widgets/controls",
      "model_module_version": "1.5.0",
      "model_name": "DescriptionStyleModel",
      "state": {
       "description_width": ""
      }
     },
     "5e2f327af54b497eaf1392b25c85abab": {
      "model_module": "@jupyter-widgets/base",
      "model_module_version": "1.2.0",
      "model_name": "LayoutModel",
      "state": {}
     },
     "5e784d8811614f01a46294d4431d5d63": {
      "model_module": "@jupyter-widgets/base",
      "model_module_version": "1.2.0",
      "model_name": "LayoutModel",
      "state": {
       "flex": "2"
      }
     },
     "5ec8e457c2174b4a93dbbec402564a5d": {
      "model_module": "@jupyter-widgets/base",
      "model_module_version": "1.2.0",
      "model_name": "LayoutModel",
      "state": {}
     },
     "60ab8b2efd55482495b327969886d6e6": {
      "model_module": "@jupyter-widgets/controls",
      "model_module_version": "1.5.0",
      "model_name": "HTMLModel",
      "state": {
       "layout": "IPY_MODEL_e2a9cb12c5054f95bcd30eb5dbed8d09",
       "style": "IPY_MODEL_b7d77a4dbfcf411e89d81a470997dd27",
       "value": "📄 12088 of 162525 ⌚ timestamps from participant 6f6719eb-8c89-46fe-8b5e-3c81e0e40a84 processed: "
      }
     },
     "6165b61f562f48ac899f253d8db6e2e0": {
      "model_module": "@jupyter-widgets/base",
      "model_module_version": "1.2.0",
      "model_name": "LayoutModel",
      "state": {}
     },
     "6172beaaf0e04a50b209f14e2911640a": {
      "model_module": "@jupyter-widgets/base",
      "model_module_version": "1.2.0",
      "model_name": "LayoutModel",
      "state": {
       "flex": "2"
      }
     },
     "61d82c5cab8640a389f274be120b3ef1": {
      "model_module": "@jupyter-widgets/controls",
      "model_module_version": "1.5.0",
      "model_name": "HBoxModel",
      "state": {
       "children": [
        "IPY_MODEL_053f3b6c889447b1ac8799155ba0edf1",
        "IPY_MODEL_5d558e4c0d0a4d3f91bc64b798b8eede",
        "IPY_MODEL_a5d2d3e43b4e47348575f69fc05b4cdf"
       ],
       "layout": "IPY_MODEL_66d3f5f5b9c54089aacea28502ae3736"
      }
     },
     "61ecdeda047e4b7ea7f2420a84b2c567": {
      "model_module": "@jupyter-widgets/controls",
      "model_module_version": "1.5.0",
      "model_name": "DescriptionStyleModel",
      "state": {
       "description_width": ""
      }
     },
     "61fcf6e11b604486bfaa5fb8eea8ddc8": {
      "model_module": "@jupyter-widgets/base",
      "model_module_version": "1.2.0",
      "model_name": "LayoutModel",
      "state": {
       "flex": "2"
      }
     },
     "6232e5bf52e94ec897f828fdab4ac740": {
      "model_module": "@jupyter-widgets/controls",
      "model_module_version": "1.5.0",
      "model_name": "HTMLModel",
      "state": {
       "layout": "IPY_MODEL_36e5888787e147c2a7e5466c95e90604",
       "style": "IPY_MODEL_d06109c1322f4f86b0481ffbe758e4a0",
       "value": " \n            100% ⏱️02:18 ⏳00:00 ⚙️138.08s/it"
      }
     },
     "62d7aef5db764518950139a7701595cf": {
      "model_module": "@jupyter-widgets/controls",
      "model_module_version": "1.5.0",
      "model_name": "DescriptionStyleModel",
      "state": {
       "description_width": ""
      }
     },
     "62da7c7422864a64840d054176f80f96": {
      "model_module": "@jupyter-widgets/base",
      "model_module_version": "1.2.0",
      "model_name": "LayoutModel",
      "state": {}
     },
     "6341c92ed49943d3b0c0190ce437b4e9": {
      "model_module": "@jupyter-widgets/controls",
      "model_module_version": "1.5.0",
      "model_name": "FloatProgressModel",
      "state": {
       "bar_style": "success",
       "layout": "IPY_MODEL_2e3b5167029a4e298292937bb5646833",
       "max": 161901,
       "style": "IPY_MODEL_e2fc3b5792e8463a85b0972789920dbe",
       "value": 161901
      }
     },
     "63b044479ab14973bd02ec2f61addd9e": {
      "model_module": "@jupyter-widgets/controls",
      "model_module_version": "1.5.0",
      "model_name": "HTMLModel",
      "state": {
       "layout": "IPY_MODEL_94fb8cbf923d4e959119507d821ae1b7",
       "style": "IPY_MODEL_d38692631d784c569e3e23c4aa3ca177",
       "value": "📄 2 of 18 📂 participants processed: "
      }
     },
     "63ebc4c9687f44b383b334470c0c1568": {
      "model_module": "@jupyter-widgets/controls",
      "model_module_version": "1.5.0",
      "model_name": "HTMLModel",
      "state": {
       "layout": "IPY_MODEL_4eeb0eb2a9024c9db0612e5354c38fbf",
       "style": "IPY_MODEL_bbdc6a9c5cc44667bd6c1813514627c5",
       "value": "📄 161210 of 161210 ⌚ timestamps from participant 95184b7a-42f1-40b0-ae36-be6ef1e33f1d processed: "
      }
     },
     "640cafe653824903a70e8d26e3089830": {
      "model_module": "@jupyter-widgets/base",
      "model_module_version": "1.2.0",
      "model_name": "LayoutModel",
      "state": {}
     },
     "642f944513e04498be3a8315e50967d3": {
      "model_module": "@jupyter-widgets/controls",
      "model_module_version": "1.5.0",
      "model_name": "DescriptionStyleModel",
      "state": {
       "description_width": ""
      }
     },
     "6436faec2b8e49c28e2292de6c653a4b": {
      "model_module": "@jupyter-widgets/controls",
      "model_module_version": "1.5.0",
      "model_name": "HTMLModel",
      "state": {
       "layout": "IPY_MODEL_cf4c4b478c6a4f6c99f03573d55193eb",
       "style": "IPY_MODEL_74b68ae90f094647bb33395f50f03c09",
       "value": "📄 162462 of 162462 ⌚ timestamps from participant c4400578-a590-4cf5-abc2-0f634fb4443c processed: "
      }
     },
     "6488ab7dd38c4d8cbf4ab1fb7716ca36": {
      "model_module": "@jupyter-widgets/controls",
      "model_module_version": "1.5.0",
      "model_name": "ProgressStyleModel",
      "state": {
       "description_width": ""
      }
     },
     "66819c2b9106406e82bc70642bf13efc": {
      "model_module": "@jupyter-widgets/base",
      "model_module_version": "1.2.0",
      "model_name": "LayoutModel",
      "state": {}
     },
     "66d3f5f5b9c54089aacea28502ae3736": {
      "model_module": "@jupyter-widgets/base",
      "model_module_version": "1.2.0",
      "model_name": "LayoutModel",
      "state": {
       "display": "inline-flex",
       "flex_flow": "row wrap",
       "width": "100%"
      }
     },
     "670445b5aa2f4111a92b87d6bc67126d": {
      "model_module": "@jupyter-widgets/base",
      "model_module_version": "1.2.0",
      "model_name": "LayoutModel",
      "state": {
       "flex": "2"
      }
     },
     "67208beb172f41a1b9a9e217a3ce3bb5": {
      "model_module": "@jupyter-widgets/base",
      "model_module_version": "1.2.0",
      "model_name": "LayoutModel",
      "state": {
       "flex": "2"
      }
     },
     "6748e15945814ab680ba86281c2d7d6c": {
      "model_module": "@jupyter-widgets/controls",
      "model_module_version": "1.5.0",
      "model_name": "FloatProgressModel",
      "state": {
       "bar_style": "success",
       "layout": "IPY_MODEL_ee6d9df139044ebb8658307c661f31d0",
       "max": 1,
       "style": "IPY_MODEL_2f737dc2e8574b89b83f29252030b9b1",
       "value": 1
      }
     },
     "678dfd4de9a9449cad1b566d9eac8d84": {
      "model_module": "@jupyter-widgets/base",
      "model_module_version": "1.2.0",
      "model_name": "LayoutModel",
      "state": {
       "flex": "2"
      }
     },
     "69ec218dd00d42cd88c3e2e59ebc0eef": {
      "model_module": "@jupyter-widgets/base",
      "model_module_version": "1.2.0",
      "model_name": "LayoutModel",
      "state": {
       "flex": "2"
      }
     },
     "6ac545cc25804b5b851401ae4752ad64": {
      "model_module": "@jupyter-widgets/controls",
      "model_module_version": "1.5.0",
      "model_name": "HTMLModel",
      "state": {
       "layout": "IPY_MODEL_098651dcf41246649a259c95790046ee",
       "style": "IPY_MODEL_e1bb06e082104aa89defe21c69661c58",
       "value": " \n            100% ⏱️28:15 ⏳00:00 ⚙️65.76it/s"
      }
     },
     "6bd00904232648d99ede1510d533c324": {
      "model_module": "@jupyter-widgets/base",
      "model_module_version": "1.2.0",
      "model_name": "LayoutModel",
      "state": {}
     },
     "6bee7608b7ed4998bffd134a3f1b7b89": {
      "model_module": "@jupyter-widgets/controls",
      "model_module_version": "1.5.0",
      "model_name": "HTMLModel",
      "state": {
       "layout": "IPY_MODEL_fd55c6fd2c58430685f2edee1f7dd37e",
       "style": "IPY_MODEL_b478455834cf4dcdb6f12d2893adda2c",
       "value": " \n            100% ⏱️01:40 ⏳00:00 ⚙️100.29s/it"
      }
     },
     "6c265ccdf2ad4b3ea2e92bf66fa4c9df": {
      "model_module": "@jupyter-widgets/controls",
      "model_module_version": "1.5.0",
      "model_name": "DescriptionStyleModel",
      "state": {
       "description_width": ""
      }
     },
     "6c31d9b5b8124a8f9ab4a86e27c6a505": {
      "model_module": "@jupyter-widgets/controls",
      "model_module_version": "1.5.0",
      "model_name": "ProgressStyleModel",
      "state": {
       "description_width": ""
      }
     },
     "6c47a3580b464b43a104a2f8f45e943e": {
      "model_module": "@jupyter-widgets/controls",
      "model_module_version": "1.5.0",
      "model_name": "DescriptionStyleModel",
      "state": {
       "description_width": ""
      }
     },
     "6c4d0407149241fbaeeb3b724f385eb9": {
      "model_module": "@jupyter-widgets/base",
      "model_module_version": "1.2.0",
      "model_name": "LayoutModel",
      "state": {
       "display": "inline-flex",
       "flex_flow": "row wrap",
       "width": "100%"
      }
     },
     "6cb16d9e328047c7a8790a6763b106f2": {
      "model_module": "@jupyter-widgets/base",
      "model_module_version": "1.2.0",
      "model_name": "LayoutModel",
      "state": {}
     },
     "6d145ac422774f27b1ef80ed709e2ded": {
      "model_module": "@jupyter-widgets/base",
      "model_module_version": "1.2.0",
      "model_name": "LayoutModel",
      "state": {}
     },
     "6dbafb7f2a384254abd44a4752204751": {
      "model_module": "@jupyter-widgets/controls",
      "model_module_version": "1.5.0",
      "model_name": "HTMLModel",
      "state": {
       "layout": "IPY_MODEL_55c603cb855b4475b391ca2db0893569",
       "style": "IPY_MODEL_42e9ddadee6e4366a1c8e6abf7d2c6bb",
       "value": "📄 162917 of 162917 ⌚ timestamps from participant caf93a54-5b95-4c55-ace9-619a0ca2dd98 processed: "
      }
     },
     "6dd1be94711a489e9cff3f50a61df62a": {
      "model_module": "@jupyter-widgets/base",
      "model_module_version": "1.2.0",
      "model_name": "LayoutModel",
      "state": {}
     },
     "6e7e6aa3a6614d7b8ce01448acc66873": {
      "model_module": "@jupyter-widgets/controls",
      "model_module_version": "1.5.0",
      "model_name": "HTMLModel",
      "state": {
       "layout": "IPY_MODEL_c10cdc066c184796a3500ba469c5ac1c",
       "style": "IPY_MODEL_22b4768efd6a4283828db5cdd991165d",
       "value": " \n            100% ⏱️07:53 ⏳00:00 ⚙️577.56it/s"
      }
     },
     "6f09ccdb94324437b0e25ff9a059ebeb": {
      "model_module": "@jupyter-widgets/controls",
      "model_module_version": "1.5.0",
      "model_name": "HTMLModel",
      "state": {
       "layout": "IPY_MODEL_8912667cea3f4d5894514786309614ca",
       "style": "IPY_MODEL_ad06ddb0905d45dbbae4936a130ac5e7",
       "value": " \n            100% ⏱️28:46 ⏳00:00 ⚙️91.15it/s"
      }
     },
     "6fe96fcdfccc488fbfe5fd78e0aa297d": {
      "model_module": "@jupyter-widgets/base",
      "model_module_version": "1.2.0",
      "model_name": "LayoutModel",
      "state": {
       "display": "inline-flex",
       "flex_flow": "row wrap",
       "width": "100%"
      }
     },
     "6ff65b9ada48427281a516b49c6141e7": {
      "model_module": "@jupyter-widgets/base",
      "model_module_version": "1.2.0",
      "model_name": "LayoutModel",
      "state": {}
     },
     "705873660f4f49209d0b070881271159": {
      "model_module": "@jupyter-widgets/controls",
      "model_module_version": "1.5.0",
      "model_name": "HTMLModel",
      "state": {
       "layout": "IPY_MODEL_810eefc6b8f8437091f7c7b2e4fd7308",
       "style": "IPY_MODEL_8b5d013c5ff744b2baff49b2a0891cf9",
       "value": "📄 47615 of 162385 ⌚ timestamps from participant 817cb93e-061d-4ea6-a13d-31226246ff34 processed: "
      }
     },
     "705fb0de0cb14ca788fc8cba0df3c19a": {
      "model_module": "@jupyter-widgets/controls",
      "model_module_version": "1.5.0",
      "model_name": "ProgressStyleModel",
      "state": {
       "description_width": ""
      }
     },
     "70c2f60c6abf4921af5115ca0cfb941c": {
      "model_module": "@jupyter-widgets/controls",
      "model_module_version": "1.5.0",
      "model_name": "HBoxModel",
      "state": {
       "children": [
        "IPY_MODEL_1546a2382a5d4470a21fc881b9117914",
        "IPY_MODEL_95ee70dd688b4303bd45e13b4e9035f5",
        "IPY_MODEL_fef7dc94785441c69af7cf13559b3e2f"
       ],
       "layout": "IPY_MODEL_4bee14d9fdd34b7f9d913debae69f621"
      }
     },
     "70db6fe47d984da789bad4d01f52e37c": {
      "model_module": "@jupyter-widgets/controls",
      "model_module_version": "1.5.0",
      "model_name": "DescriptionStyleModel",
      "state": {
       "description_width": ""
      }
     },
     "71394c8d8f004126ae92da7ace3a5355": {
      "model_module": "@jupyter-widgets/controls",
      "model_module_version": "1.5.0",
      "model_name": "ProgressStyleModel",
      "state": {
       "description_width": ""
      }
     },
     "7151072e07e94cb0bdce58a0ce583596": {
      "model_module": "@jupyter-widgets/base",
      "model_module_version": "1.2.0",
      "model_name": "LayoutModel",
      "state": {
       "display": "inline-flex",
       "flex_flow": "row wrap",
       "width": "100%"
      }
     },
     "72758c0fb9ff452bbbd9b7edb6bfd435": {
      "model_module": "@jupyter-widgets/controls",
      "model_module_version": "1.5.0",
      "model_name": "HBoxModel",
      "state": {
       "children": [
        "IPY_MODEL_c5eab7517a2443ec887dfa4c111fe683",
        "IPY_MODEL_00bf8ece494b4ef59c53fd59aa09c069",
        "IPY_MODEL_f908d0e970214b22af0adb43c82d9841"
       ],
       "layout": "IPY_MODEL_6c4d0407149241fbaeeb3b724f385eb9"
      }
     },
     "729b8b4cd6d94b379fdcccbee012207a": {
      "model_module": "@jupyter-widgets/controls",
      "model_module_version": "1.5.0",
      "model_name": "ProgressStyleModel",
      "state": {
       "description_width": ""
      }
     },
     "72d7ee7461eb40d2a9944ed9f95b4263": {
      "model_module": "@jupyter-widgets/base",
      "model_module_version": "1.2.0",
      "model_name": "LayoutModel",
      "state": {
       "display": "inline-flex",
       "flex_flow": "row wrap",
       "width": "100%"
      }
     },
     "72d81b8bf0584e7e9f6b8a5c986b4b5f": {
      "model_module": "@jupyter-widgets/base",
      "model_module_version": "1.2.0",
      "model_name": "LayoutModel",
      "state": {
       "flex": "2"
      }
     },
     "7334e50fe9ba407a984bfccced953b6f": {
      "model_module": "@jupyter-widgets/controls",
      "model_module_version": "1.5.0",
      "model_name": "HTMLModel",
      "state": {
       "layout": "IPY_MODEL_66819c2b9106406e82bc70642bf13efc",
       "style": "IPY_MODEL_1f4b822213c24b6d95cdf8c7622f45d6",
       "value": "📄 18 of 18 📂 participants processed: "
      }
     },
     "735d15ea3c2a4f4ab9fca9456674e092": {
      "model_module": "@jupyter-widgets/controls",
      "model_module_version": "1.5.0",
      "model_name": "ProgressStyleModel",
      "state": {
       "description_width": ""
      }
     },
     "73932cef64d84d5689de150791a98ad5": {
      "model_module": "@jupyter-widgets/base",
      "model_module_version": "1.2.0",
      "model_name": "LayoutModel",
      "state": {
       "flex": "2"
      }
     },
     "73a54f3ef1344a6c87e7471382783d04": {
      "model_module": "@jupyter-widgets/controls",
      "model_module_version": "1.5.0",
      "model_name": "FloatProgressModel",
      "state": {
       "bar_style": "success",
       "layout": "IPY_MODEL_9fb910e3d54b4d9bb2adf8e4e0685cd6",
       "max": 162527,
       "style": "IPY_MODEL_13c736a24ee0498589bf274fceb0168d",
       "value": 162527
      }
     },
     "73d43b3120314a28bc538babb7069d0b": {
      "model_module": "@jupyter-widgets/controls",
      "model_module_version": "1.5.0",
      "model_name": "ProgressStyleModel",
      "state": {
       "description_width": ""
      }
     },
     "73f70cd0f9d34bc0ba40849bdd6ed6b7": {
      "model_module": "@jupyter-widgets/base",
      "model_module_version": "1.2.0",
      "model_name": "LayoutModel",
      "state": {
       "flex": "2"
      }
     },
     "74b68ae90f094647bb33395f50f03c09": {
      "model_module": "@jupyter-widgets/controls",
      "model_module_version": "1.5.0",
      "model_name": "DescriptionStyleModel",
      "state": {
       "description_width": ""
      }
     },
     "74b72cf4ca7446549e0f7c1a8c6b58d3": {
      "model_module": "@jupyter-widgets/base",
      "model_module_version": "1.2.0",
      "model_name": "LayoutModel",
      "state": {
       "display": "inline-flex",
       "flex_flow": "row wrap",
       "width": "100%"
      }
     },
     "7572901b77454ba2b8fb435e115efbf7": {
      "model_module": "@jupyter-widgets/controls",
      "model_module_version": "1.5.0",
      "model_name": "FloatProgressModel",
      "state": {
       "bar_style": "success",
       "layout": "IPY_MODEL_3c52bfe96a4140b389fa4a26a355a9a3",
       "max": 162613,
       "style": "IPY_MODEL_71394c8d8f004126ae92da7ace3a5355",
       "value": 162613
      }
     },
     "75ecf0ed9e3740a2a8e6216e4f1e5e74": {
      "model_module": "@jupyter-widgets/controls",
      "model_module_version": "1.5.0",
      "model_name": "HTMLModel",
      "state": {
       "layout": "IPY_MODEL_3f4f756fdabb4b5ca6aa9d549a7047ba",
       "style": "IPY_MODEL_7e6256ea7ed6471ab351226f4023126b",
       "value": " \n            100% ⏱️29:01 ⏳00:00 ⚙️155.60it/s"
      }
     },
     "75f1054218e743d28f16e1f2284ffad2": {
      "model_module": "@jupyter-widgets/base",
      "model_module_version": "1.2.0",
      "model_name": "LayoutModel",
      "state": {
       "display": "inline-flex",
       "flex_flow": "row wrap",
       "width": "100%"
      }
     },
     "7619744db2f0422db6d34af91765a042": {
      "model_module": "@jupyter-widgets/controls",
      "model_module_version": "1.5.0",
      "model_name": "HTMLModel",
      "state": {
       "layout": "IPY_MODEL_e980daba879c4fd59fd0bfc0c3b5eff3",
       "style": "IPY_MODEL_76d4e7d213fe43cd80c2c2d9a617a24e",
       "value": "📄 161903 of 161903 ⌚ timestamps from participant 70656182-09b3-4c19-9ae2-0a2ab2e19fed processed: "
      }
     },
     "76a10a79954f4199a5bc08422ac6d8c8": {
      "model_module": "@jupyter-widgets/controls",
      "model_module_version": "1.5.0",
      "model_name": "DescriptionStyleModel",
      "state": {
       "description_width": ""
      }
     },
     "76d4e7d213fe43cd80c2c2d9a617a24e": {
      "model_module": "@jupyter-widgets/controls",
      "model_module_version": "1.5.0",
      "model_name": "DescriptionStyleModel",
      "state": {
       "description_width": ""
      }
     },
     "7767807511b04b6ca605e41b9c53f59c": {
      "model_module": "@jupyter-widgets/controls",
      "model_module_version": "1.5.0",
      "model_name": "DescriptionStyleModel",
      "state": {
       "description_width": ""
      }
     },
     "77a6097a1b3041c18e214ef1dfe9171c": {
      "model_module": "@jupyter-widgets/controls",
      "model_module_version": "1.5.0",
      "model_name": "HTMLModel",
      "state": {
       "layout": "IPY_MODEL_3a2ceb71b1b543c7ab6d5d8f7f597e1f",
       "style": "IPY_MODEL_25b408cbdbb44d9baa2f5d62fc873b12",
       "value": "📄 156621 of 157535 ⌚ timestamps from participant c4cb86a2-c2d6-40f0-b594-9bb3eb769189 processed: "
      }
     },
     "77abf0d7fb8444cbae47fcfecc6eddc5": {
      "model_module": "@jupyter-widgets/base",
      "model_module_version": "1.2.0",
      "model_name": "LayoutModel",
      "state": {
       "flex": "2"
      }
     },
     "77cf74d64a5a4c15b5ab1e9793eabd3c": {
      "model_module": "@jupyter-widgets/controls",
      "model_module_version": "1.5.0",
      "model_name": "HBoxModel",
      "state": {
       "children": [
        "IPY_MODEL_60ab8b2efd55482495b327969886d6e6",
        "IPY_MODEL_5c86e6c7dfca487e9bf86c1a4738d214",
        "IPY_MODEL_ca756c989bf84193b5754df3392636f2"
       ],
       "layout": "IPY_MODEL_efc36b3f6ea142fcbcc8cdf97827c420"
      }
     },
     "77edb731bb6147eba2ee3ded89957d9e": {
      "model_module": "@jupyter-widgets/base",
      "model_module_version": "1.2.0",
      "model_name": "LayoutModel",
      "state": {}
     },
     "77f7a9cd06d344288a73ee67aae344fb": {
      "model_module": "@jupyter-widgets/controls",
      "model_module_version": "1.5.0",
      "model_name": "HTMLModel",
      "state": {
       "layout": "IPY_MODEL_5c3ab7654ae144b2a38901382d49935c",
       "style": "IPY_MODEL_642f944513e04498be3a8315e50967d3",
       "value": "📄 162599 of 162599 ⌚ timestamps from participant e28fbd3e-516f-4c89-bc54-3cb32ddd5ef7 processed: "
      }
     },
     "786b4296278a4e6c92941781d9fa5759": {
      "model_module": "@jupyter-widgets/base",
      "model_module_version": "1.2.0",
      "model_name": "LayoutModel",
      "state": {}
     },
     "78af2621b0114fc795ae7c7c2262cd35": {
      "model_module": "@jupyter-widgets/base",
      "model_module_version": "1.2.0",
      "model_name": "LayoutModel",
      "state": {}
     },
     "78e4d2a05f34414196bcedcd7e35df38": {
      "model_module": "@jupyter-widgets/controls",
      "model_module_version": "1.5.0",
      "model_name": "HTMLModel",
      "state": {
       "layout": "IPY_MODEL_a94a1bff120b4755ad8b0c1e62f62f58",
       "style": "IPY_MODEL_796fb55c4228465698a5ce34d92a1862",
       "value": " \n            100% ⏱️29:05 ⏳00:00 ⚙️190.77it/s"
      }
     },
     "791bd052c76c4e779c3986c430476230": {
      "model_module": "@jupyter-widgets/controls",
      "model_module_version": "1.5.0",
      "model_name": "HTMLModel",
      "state": {
       "layout": "IPY_MODEL_6bd00904232648d99ede1510d533c324",
       "style": "IPY_MODEL_a0de1b374ec14df4988413b64bd3b7e5",
       "value": " \n             94% ⏱️11:26 ⏳01:22 ⚙️120.68it/s"
      }
     },
     "7959a6946b47463c85bf7bf5e2150c0f": {
      "model_module": "@jupyter-widgets/controls",
      "model_module_version": "1.5.0",
      "model_name": "HBoxModel",
      "state": {
       "children": [
        "IPY_MODEL_443b468f0fe043fdb5f52e03ec41bebb",
        "IPY_MODEL_4d89238e0d464335837dad654d0990c6",
        "IPY_MODEL_bac0cd682d924140a5acad92258f76c5"
       ],
       "layout": "IPY_MODEL_ac6083aa8a604657a6745b677dc7ec50"
      }
     },
     "796fb55c4228465698a5ce34d92a1862": {
      "model_module": "@jupyter-widgets/controls",
      "model_module_version": "1.5.0",
      "model_name": "DescriptionStyleModel",
      "state": {
       "description_width": ""
      }
     },
     "79aa603293394c1b9627a46cd2cad983": {
      "model_module": "@jupyter-widgets/base",
      "model_module_version": "1.2.0",
      "model_name": "LayoutModel",
      "state": {
       "display": "inline-flex",
       "flex_flow": "row wrap",
       "width": "100%"
      }
     },
     "79d8ee353f18410aa6c9c71104c1836d": {
      "model_module": "@jupyter-widgets/controls",
      "model_module_version": "1.5.0",
      "model_name": "ProgressStyleModel",
      "state": {
       "description_width": ""
      }
     },
     "79e6182f289b40f59df63bf7805981d1": {
      "model_module": "@jupyter-widgets/controls",
      "model_module_version": "1.5.0",
      "model_name": "DescriptionStyleModel",
      "state": {
       "description_width": ""
      }
     },
     "79f2f8bf307e48cc99d1373a09082d73": {
      "model_module": "@jupyter-widgets/base",
      "model_module_version": "1.2.0",
      "model_name": "LayoutModel",
      "state": {}
     },
     "7a75c3a7b42640baa66930927502a815": {
      "model_module": "@jupyter-widgets/controls",
      "model_module_version": "1.5.0",
      "model_name": "FloatProgressModel",
      "state": {
       "bar_style": "success",
       "layout": "IPY_MODEL_8cda843840c4496d901a01bc59cfb375",
       "max": 162385,
       "style": "IPY_MODEL_faf21606752d4e839c59df0f7fdaec22",
       "value": 162385
      }
     },
     "7a864fe20d15472ca97f353c2a30a516": {
      "model_module": "@jupyter-widgets/base",
      "model_module_version": "1.2.0",
      "model_name": "LayoutModel",
      "state": {}
     },
     "7ae02c598f774f3db68acd7e9fecc9f3": {
      "model_module": "@jupyter-widgets/base",
      "model_module_version": "1.2.0",
      "model_name": "LayoutModel",
      "state": {
       "display": "inline-flex",
       "flex_flow": "row wrap",
       "width": "100%"
      }
     },
     "7b137fc5f43c48f0aa1896175ca124c1": {
      "model_module": "@jupyter-widgets/controls",
      "model_module_version": "1.5.0",
      "model_name": "HBoxModel",
      "state": {
       "children": [
        "IPY_MODEL_63b044479ab14973bd02ec2f61addd9e",
        "IPY_MODEL_b1987d5062aa45ca933d1c6a6dcea4a3",
        "IPY_MODEL_144e89e697604780912500f73da3884a"
       ],
       "layout": "IPY_MODEL_4da2b40f3c604177a0a0b7d6bc41f728"
      }
     },
     "7b2424137af5491a98313f6f990c31b6": {
      "model_module": "@jupyter-widgets/base",
      "model_module_version": "1.2.0",
      "model_name": "LayoutModel",
      "state": {}
     },
     "7c00447fbc1b41bc947e3753ff5c7896": {
      "model_module": "@jupyter-widgets/controls",
      "model_module_version": "1.5.0",
      "model_name": "FloatProgressModel",
      "state": {
       "bar_style": "success",
       "layout": "IPY_MODEL_8aaef38dd6684691ab7b7813e1973fa3",
       "max": 162919,
       "style": "IPY_MODEL_29b52eb8f7784838b98094108856cb09",
       "value": 162919
      }
     },
     "7cb36408b607492681479ab25c049883": {
      "model_module": "@jupyter-widgets/base",
      "model_module_version": "1.2.0",
      "model_name": "LayoutModel",
      "state": {}
     },
     "7df776ee896b48de937b5f8e97d47e88": {
      "model_module": "@jupyter-widgets/controls",
      "model_module_version": "1.5.0",
      "model_name": "DescriptionStyleModel",
      "state": {
       "description_width": ""
      }
     },
     "7e6256ea7ed6471ab351226f4023126b": {
      "model_module": "@jupyter-widgets/controls",
      "model_module_version": "1.5.0",
      "model_name": "DescriptionStyleModel",
      "state": {
       "description_width": ""
      }
     },
     "7eae5b3027ea4e7ab9a68136a5ab9510": {
      "model_module": "@jupyter-widgets/base",
      "model_module_version": "1.2.0",
      "model_name": "LayoutModel",
      "state": {
       "display": "inline-flex",
       "flex_flow": "row wrap",
       "width": "100%"
      }
     },
     "7f69334fb0e34fdb8e8973448781839f": {
      "model_module": "@jupyter-widgets/controls",
      "model_module_version": "1.5.0",
      "model_name": "HTMLModel",
      "state": {
       "layout": "IPY_MODEL_b0f1960784464b4886a2b6d39ff01075",
       "style": "IPY_MODEL_19825c4c9b1948c1891f4e76ecf91576",
       "value": " \n            100% ⏱️10:24 ⏳00:00 ⚙️175.11it/s"
      }
     },
     "7fce142116bb4e9db5855ffd95a97609": {
      "model_module": "@jupyter-widgets/base",
      "model_module_version": "1.2.0",
      "model_name": "LayoutModel",
      "state": {}
     },
     "80058ae36e7c40578a072bcf6055f5ab": {
      "model_module": "@jupyter-widgets/controls",
      "model_module_version": "1.5.0",
      "model_name": "HTMLModel",
      "state": {
       "layout": "IPY_MODEL_6d145ac422774f27b1ef80ed709e2ded",
       "style": "IPY_MODEL_4ab700e9f93142478c3ae59621900d6f",
       "value": "📄 162468 of 162468 ⌚ timestamps from participant 20e8d35c-e7aa-4be3-a6e2-5b78f4cd44d8 processed: "
      }
     },
     "803e30e9bcbe45cda6cdd63e29ef73eb": {
      "model_module": "@jupyter-widgets/controls",
      "model_module_version": "1.5.0",
      "model_name": "ProgressStyleModel",
      "state": {
       "description_width": ""
      }
     },
     "804f8da5bf2248ae82a0f768d082f80d": {
      "model_module": "@jupyter-widgets/controls",
      "model_module_version": "1.5.0",
      "model_name": "HTMLModel",
      "state": {
       "layout": "IPY_MODEL_285016c534a6404e923e3d3efaf25f42",
       "style": "IPY_MODEL_9f59901b1b2847e489945b84eb8d3b53",
       "value": " \n            100% ⏱️20:07 ⏳00:00 ⚙️275.80it/s"
      }
     },
     "80ff9a7a8d224b878ec626c8ec4a8c3d": {
      "model_module": "@jupyter-widgets/controls",
      "model_module_version": "1.5.0",
      "model_name": "ProgressStyleModel",
      "state": {
       "description_width": ""
      }
     },
     "8102b635cba74c3d9e94b3a0647cea78": {
      "model_module": "@jupyter-widgets/controls",
      "model_module_version": "1.5.0",
      "model_name": "FloatProgressModel",
      "state": {
       "bar_style": "success",
       "layout": "IPY_MODEL_16f0c880317b4bc7989e1b397b12878a",
       "max": 162615,
       "style": "IPY_MODEL_81eb65db2164491289f3f252045c0833",
       "value": 162615
      }
     },
     "810eefc6b8f8437091f7c7b2e4fd7308": {
      "model_module": "@jupyter-widgets/base",
      "model_module_version": "1.2.0",
      "model_name": "LayoutModel",
      "state": {}
     },
     "81156cc4c67548afad9d141324e53bce": {
      "model_module": "@jupyter-widgets/base",
      "model_module_version": "1.2.0",
      "model_name": "LayoutModel",
      "state": {}
     },
     "8147d19230ae4c2f9d52f508c30fd6a8": {
      "model_module": "@jupyter-widgets/controls",
      "model_module_version": "1.5.0",
      "model_name": "HTMLModel",
      "state": {
       "layout": "IPY_MODEL_00ae76c620ef445f9c219c11133abcd4",
       "style": "IPY_MODEL_ea3ef835864b488ea4c48181bb335b9a",
       "value": " \n            100% ⏱️27:15 ⏳00:00 ⚙️63.93it/s"
      }
     },
     "81b74d1fada5471db0a63a50d24e3ec3": {
      "model_module": "@jupyter-widgets/controls",
      "model_module_version": "1.5.0",
      "model_name": "HTMLModel",
      "state": {
       "layout": "IPY_MODEL_5a15619dd1444db4a081cac2de77c1e7",
       "style": "IPY_MODEL_3756c25c36ac466ebd7d074e28fc2d51",
       "value": "📄 148673 of 162328 ⌚ timestamps from participant fdc06350-e1bb-4630-9d23-6631bb0a9498 processed: "
      }
     },
     "81eb65db2164491289f3f252045c0833": {
      "model_module": "@jupyter-widgets/controls",
      "model_module_version": "1.5.0",
      "model_name": "ProgressStyleModel",
      "state": {
       "description_width": ""
      }
     },
     "81f0d3a3590049f0b34704496dc457d9": {
      "model_module": "@jupyter-widgets/controls",
      "model_module_version": "1.5.0",
      "model_name": "DescriptionStyleModel",
      "state": {
       "description_width": ""
      }
     },
     "81faae44bd714932a624398ea7ad6b9e": {
      "model_module": "@jupyter-widgets/base",
      "model_module_version": "1.2.0",
      "model_name": "LayoutModel",
      "state": {
       "flex": "2"
      }
     },
     "824303364b4c4a6da06002946513f237": {
      "model_module": "@jupyter-widgets/controls",
      "model_module_version": "1.5.0",
      "model_name": "HBoxModel",
      "state": {
       "children": [
        "IPY_MODEL_6436faec2b8e49c28e2292de6c653a4b",
        "IPY_MODEL_4e520340f61240b5b0f1c25fb7664900",
        "IPY_MODEL_78e4d2a05f34414196bcedcd7e35df38"
       ],
       "layout": "IPY_MODEL_1cbd48df4d304d31a087bf392c96159b"
      }
     },
     "82557f42845749a9ac95a2f1d9d1bb3e": {
      "model_module": "@jupyter-widgets/controls",
      "model_module_version": "1.5.0",
      "model_name": "FloatProgressModel",
      "state": {
       "layout": "IPY_MODEL_e4df2c24ee0e44c3b9c5515880f7fb22",
       "max": 162527,
       "style": "IPY_MODEL_c0130eaefea24c609b9455ba51bee59d",
       "value": 153051
      }
     },
     "829621a2bf624cd58ebe36ed237945a8": {
      "model_module": "@jupyter-widgets/controls",
      "model_module_version": "1.5.0",
      "model_name": "DescriptionStyleModel",
      "state": {
       "description_width": ""
      }
     },
     "8300bc48623e4d94acf40947df354e38": {
      "model_module": "@jupyter-widgets/controls",
      "model_module_version": "1.5.0",
      "model_name": "HBoxModel",
      "state": {
       "children": [
        "IPY_MODEL_289a6f0da33448c095442d7d6e45f0df",
        "IPY_MODEL_057046e7a9334a14b12501e9a0e5a9db",
        "IPY_MODEL_24165e255d364cefaba7d381a3b424fe"
       ],
       "layout": "IPY_MODEL_be327f1e375248089d32e03f9e396681"
      }
     },
     "83e845b3decc4f408b363bec4be53470": {
      "model_module": "@jupyter-widgets/controls",
      "model_module_version": "1.5.0",
      "model_name": "ProgressStyleModel",
      "state": {
       "description_width": ""
      }
     },
     "84243c878c134b75b2d34a8a71524a3c": {
      "model_module": "@jupyter-widgets/controls",
      "model_module_version": "1.5.0",
      "model_name": "HTMLModel",
      "state": {
       "layout": "IPY_MODEL_dac93910971e46ea8eb7704f56c3f6de",
       "style": "IPY_MODEL_195af0a30c904217b4670dae6f33139f",
       "value": " \n             89% ⏱️11:25 ⏳01:42 ⚙️175.49it/s"
      }
     },
     "84427bc91fb247f0a12ab5217f59af39": {
      "model_module": "@jupyter-widgets/base",
      "model_module_version": "1.2.0",
      "model_name": "LayoutModel",
      "state": {}
     },
     "8492f761df8345a98de6b8e972b97406": {
      "model_module": "@jupyter-widgets/base",
      "model_module_version": "1.2.0",
      "model_name": "LayoutModel",
      "state": {
       "display": "inline-flex",
       "flex_flow": "row wrap",
       "width": "100%"
      }
     },
     "84abd6c7e77a4b79a7944edf900f7212": {
      "model_module": "@jupyter-widgets/base",
      "model_module_version": "1.2.0",
      "model_name": "LayoutModel",
      "state": {
       "flex": "2"
      }
     },
     "84b570a878dd482fbfd0385e60e5f1b1": {
      "model_module": "@jupyter-widgets/base",
      "model_module_version": "1.2.0",
      "model_name": "LayoutModel",
      "state": {
       "display": "inline-flex",
       "flex_flow": "row wrap",
       "width": "100%"
      }
     },
     "854a6eefec194ddfb9f330e503e41e62": {
      "model_module": "@jupyter-widgets/base",
      "model_module_version": "1.2.0",
      "model_name": "LayoutModel",
      "state": {
       "display": "inline-flex",
       "flex_flow": "row wrap",
       "width": "100%"
      }
     },
     "8585fe0a669542eea2ec2800268faa8e": {
      "model_module": "@jupyter-widgets/base",
      "model_module_version": "1.2.0",
      "model_name": "LayoutModel",
      "state": {}
     },
     "865a6c5779c042c5ad605ec149f063c2": {
      "model_module": "@jupyter-widgets/base",
      "model_module_version": "1.2.0",
      "model_name": "LayoutModel",
      "state": {}
     },
     "86bef891bd404b7a81a78d3a9f048d16": {
      "model_module": "@jupyter-widgets/controls",
      "model_module_version": "1.5.0",
      "model_name": "HTMLModel",
      "state": {
       "layout": "IPY_MODEL_35ed0d2dcfcd4a33ad4e6b28a24140b3",
       "style": "IPY_MODEL_542a43e9191743c98ae9579d7d7c493e",
       "value": "📄 153378 of 161901 ⌚ timestamps from participant 70656182-09b3-4c19-9ae2-0a2ab2e19fed processed: "
      }
     },
     "86c5f68eeb754e209defe12b59f8ecb8": {
      "model_module": "@jupyter-widgets/controls",
      "model_module_version": "1.5.0",
      "model_name": "HBoxModel",
      "state": {
       "children": [
        "IPY_MODEL_0aa238678c62437e8760523eface0cea",
        "IPY_MODEL_a73bc269d57040c2895daeaacfec5117",
        "IPY_MODEL_11682e102cd2438a989138128de87318"
       ],
       "layout": "IPY_MODEL_bfaac2f67f634353a92bcee6635ae936"
      }
     },
     "86ca8becd3d34ee8af876bd80f14b4cc": {
      "model_module": "@jupyter-widgets/base",
      "model_module_version": "1.2.0",
      "model_name": "LayoutModel",
      "state": {
       "display": "inline-flex",
       "flex_flow": "row wrap",
       "width": "100%"
      }
     },
     "86f7d5904a144cee831cdc6ff45a0ffb": {
      "model_module": "@jupyter-widgets/base",
      "model_module_version": "1.2.0",
      "model_name": "LayoutModel",
      "state": {
       "flex": "2"
      }
     },
     "87a62fc8e1a847c3b38e59b603443d14": {
      "model_module": "@jupyter-widgets/controls",
      "model_module_version": "1.5.0",
      "model_name": "HTMLModel",
      "state": {
       "layout": "IPY_MODEL_865a6c5779c042c5ad605ec149f063c2",
       "style": "IPY_MODEL_fb19dde8d45143c9a49837d0d2039940",
       "value": " \n            100% ⏱️03:47 ⏳00:00 ⚙️417.65it/s"
      }
     },
     "87bcef32f4ef488f9590c5187bfa2c5f": {
      "model_module": "@jupyter-widgets/base",
      "model_module_version": "1.2.0",
      "model_name": "LayoutModel",
      "state": {
       "display": "inline-flex",
       "flex_flow": "row wrap",
       "width": "100%"
      }
     },
     "87d03b75278e4184bca2e7b80555fe62": {
      "model_module": "@jupyter-widgets/controls",
      "model_module_version": "1.5.0",
      "model_name": "HTMLModel",
      "state": {
       "layout": "IPY_MODEL_fbedb8fb867b477d958afde3da186cf9",
       "style": "IPY_MODEL_cda0c06f90dd4d35aacafed836c55b2c",
       "value": " \n             94% ⏱️11:26 ⏳01:35 ⚙️99.77it/s"
      }
     },
     "87f1f7d7bec34df1a15ad4931ac8e10f": {
      "model_module": "@jupyter-widgets/controls",
      "model_module_version": "1.5.0",
      "model_name": "HTMLModel",
      "state": {
       "layout": "IPY_MODEL_467783a431574887a07e859711ada829",
       "style": "IPY_MODEL_5d9ec992f5814c859219268d0bd845a7",
       "value": "📄 162613 of 162613 ⌚ timestamps from participant 391543f6-7ff0-4ed3-aefd-c0ef68ebbbf3 processed: "
      }
     },
     "88918fbe065d408bbda2e2eb69ddc93c": {
      "model_module": "@jupyter-widgets/controls",
      "model_module_version": "1.5.0",
      "model_name": "DescriptionStyleModel",
      "state": {
       "description_width": ""
      }
     },
     "88cf5eedca11473dbc8602a28677cc46": {
      "model_module": "@jupyter-widgets/controls",
      "model_module_version": "1.5.0",
      "model_name": "HTMLModel",
      "state": {
       "layout": "IPY_MODEL_4f1e0ba5ee8848168cfa3044cfcd1116",
       "style": "IPY_MODEL_bd7e79dec895424bac6eae220f4dd32e",
       "value": "📄 162525 of 162525 ⌚ timestamps from participant 6f6719eb-8c89-46fe-8b5e-3c81e0e40a84 processed: "
      }
     },
     "8912667cea3f4d5894514786309614ca": {
      "model_module": "@jupyter-widgets/base",
      "model_module_version": "1.2.0",
      "model_name": "LayoutModel",
      "state": {}
     },
     "896da31d5ac54e268cfc5b2260afcc37": {
      "model_module": "@jupyter-widgets/controls",
      "model_module_version": "1.5.0",
      "model_name": "DescriptionStyleModel",
      "state": {
       "description_width": ""
      }
     },
     "8a5fe31060e94849ad801ae42ff5427a": {
      "model_module": "@jupyter-widgets/controls",
      "model_module_version": "1.5.0",
      "model_name": "HTMLModel",
      "state": {
       "layout": "IPY_MODEL_7fce142116bb4e9db5855ffd95a97609",
       "style": "IPY_MODEL_b353cd6366f24994b7a930597c69a29c",
       "value": "📄 18 of 18 📂 participants processed: "
      }
     },
     "8aaef38dd6684691ab7b7813e1973fa3": {
      "model_module": "@jupyter-widgets/base",
      "model_module_version": "1.2.0",
      "model_name": "LayoutModel",
      "state": {
       "flex": "2"
      }
     },
     "8ac7df4c307647d08d8a84e8346147b3": {
      "model_module": "@jupyter-widgets/controls",
      "model_module_version": "1.5.0",
      "model_name": "HTMLModel",
      "state": {
       "layout": "IPY_MODEL_62da7c7422864a64840d054176f80f96",
       "style": "IPY_MODEL_bb4897c9e1bd4e689713facf95064e73",
       "value": "📄 162355 of 162355 ⌚ timestamps from participant f25b9349-573e-4c97-974e-855d4b037c79 processed: "
      }
     },
     "8b43e53ab2fd4d23a9efcbceb57279ce": {
      "model_module": "@jupyter-widgets/base",
      "model_module_version": "1.2.0",
      "model_name": "LayoutModel",
      "state": {
       "flex": "2"
      }
     },
     "8b53c13b6553481ba2bbd89443aa49ad": {
      "model_module": "@jupyter-widgets/base",
      "model_module_version": "1.2.0",
      "model_name": "LayoutModel",
      "state": {}
     },
     "8b5d013c5ff744b2baff49b2a0891cf9": {
      "model_module": "@jupyter-widgets/controls",
      "model_module_version": "1.5.0",
      "model_name": "DescriptionStyleModel",
      "state": {
       "description_width": ""
      }
     },
     "8b60a70a6a7e4d7b981516672dcbb347": {
      "model_module": "@jupyter-widgets/base",
      "model_module_version": "1.2.0",
      "model_name": "LayoutModel",
      "state": {}
     },
     "8bac22a5b8ba4f369d19ce24de372a18": {
      "model_module": "@jupyter-widgets/controls",
      "model_module_version": "1.5.0",
      "model_name": "DescriptionStyleModel",
      "state": {
       "description_width": ""
      }
     },
     "8c276149812a4c0f9c0f90ee1c17bbbb": {
      "model_module": "@jupyter-widgets/base",
      "model_module_version": "1.2.0",
      "model_name": "LayoutModel",
      "state": {}
     },
     "8cda843840c4496d901a01bc59cfb375": {
      "model_module": "@jupyter-widgets/base",
      "model_module_version": "1.2.0",
      "model_name": "LayoutModel",
      "state": {
       "flex": "2"
      }
     },
     "8cec9cdb6f4b410ba46747f56a3c8fae": {
      "model_module": "@jupyter-widgets/controls",
      "model_module_version": "1.5.0",
      "model_name": "FloatProgressModel",
      "state": {
       "bar_style": "success",
       "layout": "IPY_MODEL_5abba9485b374d1cac9c77fdfd27966e",
       "max": 163028,
       "style": "IPY_MODEL_1d9970a01bbc4eb2ad0af63266eddc63",
       "value": 163028
      }
     },
     "8d4712e638884af8af2340ddebc8107a": {
      "model_module": "@jupyter-widgets/base",
      "model_module_version": "1.2.0",
      "model_name": "LayoutModel",
      "state": {
       "display": "inline-flex",
       "flex_flow": "row wrap",
       "width": "100%"
      }
     },
     "8d55bf8d54364b4588897634bbc4265c": {
      "model_module": "@jupyter-widgets/base",
      "model_module_version": "1.2.0",
      "model_name": "LayoutModel",
      "state": {
       "flex": "2"
      }
     },
     "8d9df07aa3fc4668b4559921fc9385c6": {
      "model_module": "@jupyter-widgets/base",
      "model_module_version": "1.2.0",
      "model_name": "LayoutModel",
      "state": {
       "flex": "2"
      }
     },
     "8e2fa3229afb49319a0b859dfbd82859": {
      "model_module": "@jupyter-widgets/controls",
      "model_module_version": "1.5.0",
      "model_name": "HBoxModel",
      "state": {
       "children": [
        "IPY_MODEL_88cf5eedca11473dbc8602a28677cc46",
        "IPY_MODEL_aa3faf79adef4a5abf769e92cab359bd",
        "IPY_MODEL_cac5e5ac2caf43bd88f92bffb94454f9"
       ],
       "layout": "IPY_MODEL_197ed8415d514b5ab231e0ef9e640d5b"
      }
     },
     "8f872b4ec50049f88b09cc8e2ee3208d": {
      "model_module": "@jupyter-widgets/base",
      "model_module_version": "1.2.0",
      "model_name": "LayoutModel",
      "state": {}
     },
     "904531f563bb479f92f59cd33c79cf70": {
      "model_module": "@jupyter-widgets/base",
      "model_module_version": "1.2.0",
      "model_name": "LayoutModel",
      "state": {}
     },
     "90c00d7065484951a3d75526663a3441": {
      "model_module": "@jupyter-widgets/controls",
      "model_module_version": "1.5.0",
      "model_name": "ProgressStyleModel",
      "state": {
       "description_width": ""
      }
     },
     "90f7f0c3675a480cbd10d19925379ec1": {
      "model_module": "@jupyter-widgets/controls",
      "model_module_version": "1.5.0",
      "model_name": "DescriptionStyleModel",
      "state": {
       "description_width": ""
      }
     },
     "9104f1c6fefd47149c3b6cb436d1bb9f": {
      "model_module": "@jupyter-widgets/base",
      "model_module_version": "1.2.0",
      "model_name": "LayoutModel",
      "state": {
       "display": "inline-flex",
       "flex_flow": "row wrap",
       "width": "100%"
      }
     },
     "9134031f1aaf4189a2f65dd2b7e9be37": {
      "model_module": "@jupyter-widgets/controls",
      "model_module_version": "1.5.0",
      "model_name": "DescriptionStyleModel",
      "state": {
       "description_width": ""
      }
     },
     "9154f5c74ec64bd8a2b279979ceb7cce": {
      "model_module": "@jupyter-widgets/controls",
      "model_module_version": "1.5.0",
      "model_name": "DescriptionStyleModel",
      "state": {
       "description_width": ""
      }
     },
     "917f116e7505499db0ec0658d1356a4c": {
      "model_module": "@jupyter-widgets/base",
      "model_module_version": "1.2.0",
      "model_name": "LayoutModel",
      "state": {
       "flex": "2"
      }
     },
     "91e7103b5d2946c38368ba5147bb2ec8": {
      "model_module": "@jupyter-widgets/base",
      "model_module_version": "1.2.0",
      "model_name": "LayoutModel",
      "state": {
       "display": "inline-flex",
       "flex_flow": "row wrap",
       "width": "100%"
      }
     },
     "92371e4756fd46a386961c0bb289687b": {
      "model_module": "@jupyter-widgets/controls",
      "model_module_version": "1.5.0",
      "model_name": "FloatProgressModel",
      "state": {
       "layout": "IPY_MODEL_b0a8483e716d459c877332c5f3764af2",
       "max": 162917,
       "style": "IPY_MODEL_c15690c9c23946a2a87119b7a669f7b9",
       "value": 143438
      }
     },
     "926aef744f694657b069a7ac0e48908f": {
      "model_module": "@jupyter-widgets/controls",
      "model_module_version": "1.5.0",
      "model_name": "DescriptionStyleModel",
      "state": {
       "description_width": ""
      }
     },
     "9298afc2f9ea45d6a823d71eef8cce07": {
      "model_module": "@jupyter-widgets/base",
      "model_module_version": "1.2.0",
      "model_name": "LayoutModel",
      "state": {}
     },
     "92eadf38eb454244bfcc9fb171fea9d8": {
      "model_module": "@jupyter-widgets/controls",
      "model_module_version": "1.5.0",
      "model_name": "HTMLModel",
      "state": {
       "layout": "IPY_MODEL_b83f425b3d4340eba0161f83427b1b20",
       "style": "IPY_MODEL_2e063d4e73e843979606237dfbb9ec7c",
       "value": "📄 162919 of 162919 ⌚ timestamps from participant caf93a54-5b95-4c55-ace9-619a0ca2dd98 processed: "
      }
     },
     "94fb8cbf923d4e959119507d821ae1b7": {
      "model_module": "@jupyter-widgets/base",
      "model_module_version": "1.2.0",
      "model_name": "LayoutModel",
      "state": {}
     },
     "95d2a11f512c4dccb473f51af905301a": {
      "model_module": "@jupyter-widgets/controls",
      "model_module_version": "1.5.0",
      "model_name": "HTMLModel",
      "state": {
       "layout": "IPY_MODEL_d1576cdf03a448a6b6955bf97c6c1302",
       "style": "IPY_MODEL_113acea858844739b8356fe209db8231",
       "value": "📄 161902 of 161902 ⌚ timestamps from participant 70656182-09b3-4c19-9ae2-0a2ab2e19fed processed: "
      }
     },
     "95e0c268a2614534bb52cc7d63756b64": {
      "model_module": "@jupyter-widgets/controls",
      "model_module_version": "1.5.0",
      "model_name": "HTMLModel",
      "state": {
       "layout": "IPY_MODEL_b5f74b6f49fc4a7296f2415569357d44",
       "style": "IPY_MODEL_008be0f294564cbe8b191ced0d3630be",
       "value": "📄 162480 of 162480 ⌚ timestamps from participant 61c0f1aa-b3ef-497b-8b6e-8ec6f05f6c42 processed: "
      }
     },
     "95ee70dd688b4303bd45e13b4e9035f5": {
      "model_module": "@jupyter-widgets/controls",
      "model_module_version": "1.5.0",
      "model_name": "FloatProgressModel",
      "state": {
       "bar_style": "success",
       "layout": "IPY_MODEL_3b05f7c122884fc1bf057fa5c97dd2e7",
       "max": 162527,
       "style": "IPY_MODEL_a75ef62e3c2e4b7d88c7939477967764",
       "value": 162527
      }
     },
     "9642c81fb37743ebaa32e0cf98e35242": {
      "model_module": "@jupyter-widgets/controls",
      "model_module_version": "1.5.0",
      "model_name": "HBoxModel",
      "state": {
       "children": [
        "IPY_MODEL_01d38ce532f247fb966260429ee92be4",
        "IPY_MODEL_27648e61d996415b91b05803bcf23fa0",
        "IPY_MODEL_aff94254a3ef4537960cc9756ee7156b"
       ],
       "layout": "IPY_MODEL_e3bd46178e0f481486717480a4df9578"
      }
     },
     "9664a5e3a69746f995d4855f11d7c2d8": {
      "model_module": "@jupyter-widgets/controls",
      "model_module_version": "1.5.0",
      "model_name": "ProgressStyleModel",
      "state": {
       "description_width": ""
      }
     },
     "968094aab62446efab94441b4912305f": {
      "model_module": "@jupyter-widgets/base",
      "model_module_version": "1.2.0",
      "model_name": "LayoutModel",
      "state": {
       "display": "inline-flex",
       "flex_flow": "row wrap",
       "width": "100%"
      }
     },
     "96e0c1ec973b4eaf86cf13ca04712102": {
      "model_module": "@jupyter-widgets/controls",
      "model_module_version": "1.5.0",
      "model_name": "HTMLModel",
      "state": {
       "layout": "IPY_MODEL_2c0bd3faf9cc4ffb968205cf32327794",
       "style": "IPY_MODEL_e00374517337446ca4557b9c4a3c4dcf",
       "value": " \n             99% ⏱️11:26 ⏳00:12 ⚙️75.51it/s"
      }
     },
     "96ed4ad17fe148148ff65aa36cf72f73": {
      "model_module": "@jupyter-widgets/base",
      "model_module_version": "1.2.0",
      "model_name": "LayoutModel",
      "state": {
       "flex": "2"
      }
     },
     "96ee60b1f0884a31ab5217f6ba1359ba": {
      "model_module": "@jupyter-widgets/controls",
      "model_module_version": "1.5.0",
      "model_name": "HTMLModel",
      "state": {
       "layout": "IPY_MODEL_4f5111ec64b747d4b353ab2113f59800",
       "style": "IPY_MODEL_18fd66d26e944d15b0feb1ccd067e63b",
       "value": " \n            100% ⏱️28:57 ⏳00:00 ⚙️123.34it/s"
      }
     },
     "96fad596fb4f43fea4d73062943fb2dc": {
      "model_module": "@jupyter-widgets/base",
      "model_module_version": "1.2.0",
      "model_name": "LayoutModel",
      "state": {
       "display": "inline-flex",
       "flex_flow": "row wrap",
       "width": "100%"
      }
     },
     "96ff0dc530b046669d67e4b9fe0654da": {
      "model_module": "@jupyter-widgets/controls",
      "model_module_version": "1.5.0",
      "model_name": "FloatProgressModel",
      "state": {
       "bar_style": "success",
       "layout": "IPY_MODEL_61fcf6e11b604486bfaa5fb8eea8ddc8",
       "max": 1,
       "style": "IPY_MODEL_f79b798bc9c543879828433bc63ff68a",
       "value": 1
      }
     },
     "973bc416a59e49bbb312f9b83ad7e827": {
      "model_module": "@jupyter-widgets/controls",
      "model_module_version": "1.5.0",
      "model_name": "FloatProgressModel",
      "state": {
       "bar_style": "success",
       "layout": "IPY_MODEL_8d55bf8d54364b4588897634bbc4265c",
       "max": 18,
       "style": "IPY_MODEL_9cfa6b6df0fd4dc68cea06c249de82bb",
       "value": 18
      }
     },
     "98875f27fe274f98a63bb7d441665707": {
      "model_module": "@jupyter-widgets/controls",
      "model_module_version": "1.5.0",
      "model_name": "ProgressStyleModel",
      "state": {
       "description_width": ""
      }
     },
     "98fdd252ad3a448782addc035650d9c4": {
      "model_module": "@jupyter-widgets/base",
      "model_module_version": "1.2.0",
      "model_name": "LayoutModel",
      "state": {
       "display": "inline-flex",
       "flex_flow": "row wrap",
       "width": "100%"
      }
     },
     "9995a9a8b19b4176959ab6da5503ed06": {
      "model_module": "@jupyter-widgets/controls",
      "model_module_version": "1.5.0",
      "model_name": "HTMLModel",
      "state": {
       "layout": "IPY_MODEL_b74cc82798b545789a59594182a4da5d",
       "style": "IPY_MODEL_9134031f1aaf4189a2f65dd2b7e9be37",
       "value": "📄 163020 of 163020 ⌚ timestamps from participant 097837f9-9a11-41f4-9c23-03987ba3ed9a processed: "
      }
     },
     "99ea0a62cb3d48e6a11a504b1def8cab": {
      "model_module": "@jupyter-widgets/controls",
      "model_module_version": "1.5.0",
      "model_name": "FloatProgressModel",
      "state": {
       "layout": "IPY_MODEL_9de71616584e4789945ea15d896d957d",
       "max": 162385,
       "style": "IPY_MODEL_f162890ba05a432e9ebdeaefc200f8af",
       "value": 47653
      }
     },
     "9a2d7470ce5245f9825d7500311ead0f": {
      "model_module": "@jupyter-widgets/base",
      "model_module_version": "1.2.0",
      "model_name": "LayoutModel",
      "state": {}
     },
     "9a67a37df0ed4c58a18f74ecffc390a5": {
      "model_module": "@jupyter-widgets/controls",
      "model_module_version": "1.5.0",
      "model_name": "HTMLModel",
      "state": {
       "layout": "IPY_MODEL_9a994ddaf9b54bfa9b2bcc4fb0644df2",
       "style": "IPY_MODEL_550074983ba84c3c8ad627e149dbc1c3",
       "value": "📄 157537 of 157537 ⌚ timestamps from participant c4cb86a2-c2d6-40f0-b594-9bb3eb769189 processed: "
      }
     },
     "9a994ddaf9b54bfa9b2bcc4fb0644df2": {
      "model_module": "@jupyter-widgets/base",
      "model_module_version": "1.2.0",
      "model_name": "LayoutModel",
      "state": {}
     },
     "9ae61a844f7c4eea94dd6678dbc606ff": {
      "model_module": "@jupyter-widgets/base",
      "model_module_version": "1.2.0",
      "model_name": "LayoutModel",
      "state": {}
     },
     "9b2f9c2aab114d91a3dd6e403af92a8e": {
      "model_module": "@jupyter-widgets/controls",
      "model_module_version": "1.5.0",
      "model_name": "HBoxModel",
      "state": {
       "children": [
        "IPY_MODEL_fd8227751ec24e62aad12f1ce8387e61",
        "IPY_MODEL_029ded9c5f224347a2a85749a80d1f85",
        "IPY_MODEL_a5451a6fe0b441879d254806025404e6"
       ],
       "layout": "IPY_MODEL_46dc7573b5e345ad8805c2ccec5cefa8"
      }
     },
     "9bca6db180904983b31741fb245fc9c6": {
      "model_module": "@jupyter-widgets/controls",
      "model_module_version": "1.5.0",
      "model_name": "HTMLModel",
      "state": {
       "layout": "IPY_MODEL_0b0f6ad5ae754ccfa67f10b634a55f00",
       "style": "IPY_MODEL_f9fc623a517240f9bfbd3ad8724c71fb",
       "value": " \n            100% ⏱️15:28 ⏳00:00 ⚙️37.50it/s"
      }
     },
     "9c835abacd974110b58efc1ed066bd8f": {
      "model_module": "@jupyter-widgets/controls",
      "model_module_version": "1.5.0",
      "model_name": "HBoxModel",
      "state": {
       "children": [
        "IPY_MODEL_d45a256f825d4dc59cae6a435e5003fa",
        "IPY_MODEL_2bd2fc1c7ca1476daab14365c62e4601",
        "IPY_MODEL_3e1b14015a284b4294ef04232302526e"
       ],
       "layout": "IPY_MODEL_dc4e73663aab4222a3476cc4c4de181f"
      }
     },
     "9c8ca3e5e75d4aaba939da489a44371b": {
      "model_module": "@jupyter-widgets/controls",
      "model_module_version": "1.5.0",
      "model_name": "ProgressStyleModel",
      "state": {
       "description_width": ""
      }
     },
     "9caabc6fc1be4593a084c69f476e8211": {
      "model_module": "@jupyter-widgets/controls",
      "model_module_version": "1.5.0",
      "model_name": "HTMLModel",
      "state": {
       "layout": "IPY_MODEL_f5e439a6010b4989a0f2551ae97ed8f0",
       "style": "IPY_MODEL_81f0d3a3590049f0b34704496dc457d9",
       "value": "📄 1 of 1 📂 participants processed: "
      }
     },
     "9cfa6b6df0fd4dc68cea06c249de82bb": {
      "model_module": "@jupyter-widgets/controls",
      "model_module_version": "1.5.0",
      "model_name": "ProgressStyleModel",
      "state": {
       "description_width": ""
      }
     },
     "9d4cacd6e47f4d84bb650540914b1122": {
      "model_module": "@jupyter-widgets/controls",
      "model_module_version": "1.5.0",
      "model_name": "ProgressStyleModel",
      "state": {
       "description_width": ""
      }
     },
     "9dae0504f1a44516992beb88d5ef8c64": {
      "model_module": "@jupyter-widgets/controls",
      "model_module_version": "1.5.0",
      "model_name": "HBoxModel",
      "state": {
       "children": [
        "IPY_MODEL_2683c43047bd42f998908675f3bdc722",
        "IPY_MODEL_375c264a79a14c1995bed37fbcc45b86",
        "IPY_MODEL_b01f9c2cc03d4be7992a7d48c603d9a8"
       ],
       "layout": "IPY_MODEL_159a7071f2054525a965317c7d13e115"
      }
     },
     "9de71616584e4789945ea15d896d957d": {
      "model_module": "@jupyter-widgets/base",
      "model_module_version": "1.2.0",
      "model_name": "LayoutModel",
      "state": {
       "flex": "2"
      }
     },
     "9e2ccf1e57674a1f8bc80ab0962c49f1": {
      "model_module": "@jupyter-widgets/controls",
      "model_module_version": "1.5.0",
      "model_name": "ProgressStyleModel",
      "state": {
       "description_width": ""
      }
     },
     "9e9bed26e58e49d2b19707e2478c9867": {
      "model_module": "@jupyter-widgets/base",
      "model_module_version": "1.2.0",
      "model_name": "LayoutModel",
      "state": {
       "flex": "2"
      }
     },
     "9ea46508fbe14a5bb46ada2b48d5f3af": {
      "model_module": "@jupyter-widgets/base",
      "model_module_version": "1.2.0",
      "model_name": "LayoutModel",
      "state": {}
     },
     "9f59901b1b2847e489945b84eb8d3b53": {
      "model_module": "@jupyter-widgets/controls",
      "model_module_version": "1.5.0",
      "model_name": "DescriptionStyleModel",
      "state": {
       "description_width": ""
      }
     },
     "9f99ca6f8c80458d99a78c053a2c0add": {
      "model_module": "@jupyter-widgets/controls",
      "model_module_version": "1.5.0",
      "model_name": "HBoxModel",
      "state": {
       "children": [
        "IPY_MODEL_7334e50fe9ba407a984bfccced953b6f",
        "IPY_MODEL_973bc416a59e49bbb312f9b83ad7e827",
        "IPY_MODEL_e417715935c940fda8305094b1b134a3"
       ],
       "layout": "IPY_MODEL_1446ae31226c448689c3acf779f39729"
      }
     },
     "9fb910e3d54b4d9bb2adf8e4e0685cd6": {
      "model_module": "@jupyter-widgets/base",
      "model_module_version": "1.2.0",
      "model_name": "LayoutModel",
      "state": {
       "flex": "2"
      }
     },
     "a013e73bf7044902b851ac9a359f38d6": {
      "model_module": "@jupyter-widgets/base",
      "model_module_version": "1.2.0",
      "model_name": "LayoutModel",
      "state": {
       "flex": "2"
      }
     },
     "a01cd8ec69ef438faa281c8635ef043b": {
      "model_module": "@jupyter-widgets/controls",
      "model_module_version": "1.5.0",
      "model_name": "DescriptionStyleModel",
      "state": {
       "description_width": ""
      }
     },
     "a03ec7922308448789ab811ca874cca7": {
      "model_module": "@jupyter-widgets/base",
      "model_module_version": "1.2.0",
      "model_name": "LayoutModel",
      "state": {}
     },
     "a08a5626f6464b2094288040edacdf20": {
      "model_module": "@jupyter-widgets/controls",
      "model_module_version": "1.5.0",
      "model_name": "ProgressStyleModel",
      "state": {
       "description_width": ""
      }
     },
     "a0de1b374ec14df4988413b64bd3b7e5": {
      "model_module": "@jupyter-widgets/controls",
      "model_module_version": "1.5.0",
      "model_name": "DescriptionStyleModel",
      "state": {
       "description_width": ""
      }
     },
     "a1b5d797015d469491356d5808a971db": {
      "model_module": "@jupyter-widgets/controls",
      "model_module_version": "1.5.0",
      "model_name": "HBoxModel",
      "state": {
       "children": [
        "IPY_MODEL_e455e186844f4ceb94788392bc8af0a0",
        "IPY_MODEL_a63a66fc9faa4bbfb32fa97871798b49",
        "IPY_MODEL_3107b67d99ea45a29c0d3801e0b9abf0"
       ],
       "layout": "IPY_MODEL_98fdd252ad3a448782addc035650d9c4"
      }
     },
     "a27ac1100f8c418abad72b2f12f20ea1": {
      "model_module": "@jupyter-widgets/controls",
      "model_module_version": "1.5.0",
      "model_name": "DescriptionStyleModel",
      "state": {
       "description_width": ""
      }
     },
     "a338223bd72048758c8f53e1a2b188ab": {
      "model_module": "@jupyter-widgets/controls",
      "model_module_version": "1.5.0",
      "model_name": "DescriptionStyleModel",
      "state": {
       "description_width": ""
      }
     },
     "a33b60e7465e4e258d23ad80bb2094cb": {
      "model_module": "@jupyter-widgets/base",
      "model_module_version": "1.2.0",
      "model_name": "LayoutModel",
      "state": {}
     },
     "a34cad5fcd9543bf97c13f7c8a706a7e": {
      "model_module": "@jupyter-widgets/base",
      "model_module_version": "1.2.0",
      "model_name": "LayoutModel",
      "state": {}
     },
     "a396d31aa9364bfe8cd3f82f11b95754": {
      "model_module": "@jupyter-widgets/base",
      "model_module_version": "1.2.0",
      "model_name": "LayoutModel",
      "state": {}
     },
     "a43eaa9244b448cda2a402753b544856": {
      "model_module": "@jupyter-widgets/base",
      "model_module_version": "1.2.0",
      "model_name": "LayoutModel",
      "state": {}
     },
     "a50b43b496f04765967e763e5ce8f892": {
      "model_module": "@jupyter-widgets/controls",
      "model_module_version": "1.5.0",
      "model_name": "DescriptionStyleModel",
      "state": {
       "description_width": ""
      }
     },
     "a52247d21ef5429d9fd7ba3083e4083f": {
      "model_module": "@jupyter-widgets/base",
      "model_module_version": "1.2.0",
      "model_name": "LayoutModel",
      "state": {}
     },
     "a5451a6fe0b441879d254806025404e6": {
      "model_module": "@jupyter-widgets/controls",
      "model_module_version": "1.5.0",
      "model_name": "HTMLModel",
      "state": {
       "layout": "IPY_MODEL_8585fe0a669542eea2ec2800268faa8e",
       "style": "IPY_MODEL_5d178b13fe53439eb0cde7f6791d5069",
       "value": " \n             89% ⏱️11:25 ⏳03:08 ⚙️96.56it/s"
      }
     },
     "a54ef15125674f9396b5e58e37ac35ad": {
      "model_module": "@jupyter-widgets/controls",
      "model_module_version": "1.5.0",
      "model_name": "HTMLModel",
      "state": {
       "layout": "IPY_MODEL_4c4ee0deb71e439084ad01dd91e42d37",
       "style": "IPY_MODEL_cb7e28e0852242a38659b75b589250fb",
       "value": " \n            100% ⏱️09:34 ⏳00:00 ⚙️1603.35it/s"
      }
     },
     "a5d2d3e43b4e47348575f69fc05b4cdf": {
      "model_module": "@jupyter-widgets/controls",
      "model_module_version": "1.5.0",
      "model_name": "HTMLModel",
      "state": {
       "layout": "IPY_MODEL_81156cc4c67548afad9d141324e53bce",
       "style": "IPY_MODEL_afe3f33e9e014d37a6d3a9a0fd02c0cd",
       "value": " \n            100% ⏱️18:40 ⏳00:00 ⚙️11.96it/s"
      }
     },
     "a63a66fc9faa4bbfb32fa97871798b49": {
      "model_module": "@jupyter-widgets/controls",
      "model_module_version": "1.5.0",
      "model_name": "FloatProgressModel",
      "state": {
       "bar_style": "success",
       "layout": "IPY_MODEL_eebb3085e7dc4483845aedfa10947519",
       "max": 162328,
       "style": "IPY_MODEL_6c31d9b5b8124a8f9ab4a86e27c6a505",
       "value": 162328
      }
     },
     "a6b1e36f5c6844a5b6e4d9849e693d97": {
      "model_module": "@jupyter-widgets/controls",
      "model_module_version": "1.5.0",
      "model_name": "DescriptionStyleModel",
      "state": {
       "description_width": ""
      }
     },
     "a701bf94d9854f71aa79db5613e8fae9": {
      "model_module": "@jupyter-widgets/base",
      "model_module_version": "1.2.0",
      "model_name": "LayoutModel",
      "state": {}
     },
     "a7233cfbec0c433a9acb8b08eee17c6e": {
      "model_module": "@jupyter-widgets/controls",
      "model_module_version": "1.5.0",
      "model_name": "HTMLModel",
      "state": {
       "layout": "IPY_MODEL_2c36f153e2b641a1bc3e7e272a1256d7",
       "style": "IPY_MODEL_79e6182f289b40f59df63bf7805981d1",
       "value": "📄 139944 of 163088 ⌚ timestamps from participant d4bf073c-a3cc-450c-9412-ef15538ee293 processed: "
      }
     },
     "a73bc269d57040c2895daeaacfec5117": {
      "model_module": "@jupyter-widgets/controls",
      "model_module_version": "1.5.0",
      "model_name": "FloatProgressModel",
      "state": {
       "bar_style": "success",
       "layout": "IPY_MODEL_917f116e7505499db0ec0658d1356a4c",
       "max": 162601,
       "style": "IPY_MODEL_ea45ac9782cd4d4db5c3345af1cb19e8",
       "value": 162601
      }
     },
     "a75ef62e3c2e4b7d88c7939477967764": {
      "model_module": "@jupyter-widgets/controls",
      "model_module_version": "1.5.0",
      "model_name": "ProgressStyleModel",
      "state": {
       "description_width": ""
      }
     },
     "a75f51e803494d2db0f51085b96ca269": {
      "model_module": "@jupyter-widgets/base",
      "model_module_version": "1.2.0",
      "model_name": "LayoutModel",
      "state": {
       "flex": "2"
      }
     },
     "a76e20a7b213412b9014439e1c9ced2a": {
      "model_module": "@jupyter-widgets/controls",
      "model_module_version": "1.5.0",
      "model_name": "HTMLModel",
      "state": {
       "layout": "IPY_MODEL_77edb731bb6147eba2ee3ded89957d9e",
       "style": "IPY_MODEL_ba59fa9d4f5e4cd9b58130d112e5317c",
       "value": " \n            100% ⏱️01:35 ⏳00:00 ⚙️829.43it/s"
      }
     },
     "a7eade382b7548cbad454567c7211e13": {
      "model_module": "@jupyter-widgets/controls",
      "model_module_version": "1.5.0",
      "model_name": "DescriptionStyleModel",
      "state": {
       "description_width": ""
      }
     },
     "a854dced24ae4d46bc86c779f8016c21": {
      "model_module": "@jupyter-widgets/base",
      "model_module_version": "1.2.0",
      "model_name": "LayoutModel",
      "state": {
       "display": "inline-flex",
       "flex_flow": "row wrap",
       "width": "100%"
      }
     },
     "a87cb8287cb0498296233260d76a11cc": {
      "model_module": "@jupyter-widgets/base",
      "model_module_version": "1.2.0",
      "model_name": "LayoutModel",
      "state": {
       "display": "inline-flex",
       "flex_flow": "row wrap",
       "width": "100%"
      }
     },
     "a8d1d12edb074849902c31a080e2a145": {
      "model_module": "@jupyter-widgets/controls",
      "model_module_version": "1.5.0",
      "model_name": "HBoxModel",
      "state": {
       "children": [
        "IPY_MODEL_8ac7df4c307647d08d8a84e8346147b3",
        "IPY_MODEL_badfc468967d41dcbf35d4f74ae92bfc",
        "IPY_MODEL_96ee60b1f0884a31ab5217f6ba1359ba"
       ],
       "layout": "IPY_MODEL_8492f761df8345a98de6b8e972b97406"
      }
     },
     "a8fecbba6f3845b09b022f7bff2aff88": {
      "model_module": "@jupyter-widgets/controls",
      "model_module_version": "1.5.0",
      "model_name": "ProgressStyleModel",
      "state": {
       "description_width": ""
      }
     },
     "a94a1bff120b4755ad8b0c1e62f62f58": {
      "model_module": "@jupyter-widgets/base",
      "model_module_version": "1.2.0",
      "model_name": "LayoutModel",
      "state": {}
     },
     "a95eee11062849f1b9c57ce0ff2bd647": {
      "model_module": "@jupyter-widgets/controls",
      "model_module_version": "1.5.0",
      "model_name": "HBoxModel",
      "state": {
       "children": [
        "IPY_MODEL_f2d38b41ea6f48ccb0a917ad443b0398",
        "IPY_MODEL_82557f42845749a9ac95a2f1d9d1bb3e",
        "IPY_MODEL_0f06023ffc114f4e874b4e681d4b10fd"
       ],
       "layout": "IPY_MODEL_6fe96fcdfccc488fbfe5fd78e0aa297d"
      }
     },
     "aa110c8337e24087b631f02495b72fdc": {
      "model_module": "@jupyter-widgets/controls",
      "model_module_version": "1.5.0",
      "model_name": "DescriptionStyleModel",
      "state": {
       "description_width": ""
      }
     },
     "aa2c18a2b2d8470eb7ab52c0cdb39650": {
      "model_module": "@jupyter-widgets/controls",
      "model_module_version": "1.5.0",
      "model_name": "HTMLModel",
      "state": {
       "layout": "IPY_MODEL_1079142a4ff442238a6695c4ea41c2d5",
       "style": "IPY_MODEL_c94c3e78ea0645fb92bbc4bd60bd5bda",
       "value": "📄 162832 of 162832 ⌚ timestamps from participant c6c110c9-2efe-44e7-914f-d6052e2ab784 processed: "
      }
     },
     "aa3faf79adef4a5abf769e92cab359bd": {
      "model_module": "@jupyter-widgets/controls",
      "model_module_version": "1.5.0",
      "model_name": "FloatProgressModel",
      "state": {
       "bar_style": "success",
       "layout": "IPY_MODEL_b2b11c0b2c984af0a7c76eb1d2203002",
       "max": 162525,
       "style": "IPY_MODEL_80ff9a7a8d224b878ec626c8ec4a8c3d",
       "value": 162525
      }
     },
     "aa48b86c30fd4059923e1a393360f939": {
      "model_module": "@jupyter-widgets/controls",
      "model_module_version": "1.5.0",
      "model_name": "HTMLModel",
      "state": {
       "layout": "IPY_MODEL_b9dd4863c3de4d8fb0bd5d4cc6a81dd2",
       "style": "IPY_MODEL_0f9d6622f12342b7b41fb9b75298d6dd",
       "value": " \n            100% ⏱️12:15 ⏳00:00 ⚙️105.31it/s"
      }
     },
     "ab37c78dc985480cb0331e2affdb6b48": {
      "model_module": "@jupyter-widgets/controls",
      "model_module_version": "1.5.0",
      "model_name": "HBoxModel",
      "state": {
       "children": [
        "IPY_MODEL_f22a8cb0c2c04559b87ca3626274c049",
        "IPY_MODEL_232c7120eba4417db51d69aace8cbe02",
        "IPY_MODEL_5229443fce6e4d7d8e52584f6cfb185c"
       ],
       "layout": "IPY_MODEL_f28d793d993349f89bda1499b0b76b48"
      }
     },
     "ab37d6460ce742839de08efef7fded90": {
      "model_module": "@jupyter-widgets/controls",
      "model_module_version": "1.5.0",
      "model_name": "DescriptionStyleModel",
      "state": {
       "description_width": ""
      }
     },
     "abd40bfc7dcf44c8a5637e40f83d61c7": {
      "model_module": "@jupyter-widgets/controls",
      "model_module_version": "1.5.0",
      "model_name": "FloatProgressModel",
      "state": {
       "layout": "IPY_MODEL_bea713aee76c4156890337d4950ed152",
       "max": 161901,
       "style": "IPY_MODEL_dab551af4ae741699211a9a69ec75f2e",
       "value": 153378
      }
     },
     "ac00886c74a44277a2af92c1282cb5e9": {
      "model_module": "@jupyter-widgets/base",
      "model_module_version": "1.2.0",
      "model_name": "LayoutModel",
      "state": {
       "flex": "2"
      }
     },
     "ac06b8e14d80462a9389b047ebb8e9f4": {
      "model_module": "@jupyter-widgets/base",
      "model_module_version": "1.2.0",
      "model_name": "LayoutModel",
      "state": {
       "flex": "2"
      }
     },
     "ac350fb3c07a4002b3b8eb7e3a4100f2": {
      "model_module": "@jupyter-widgets/controls",
      "model_module_version": "1.5.0",
      "model_name": "DescriptionStyleModel",
      "state": {
       "description_width": ""
      }
     },
     "ac6083aa8a604657a6745b677dc7ec50": {
      "model_module": "@jupyter-widgets/base",
      "model_module_version": "1.2.0",
      "model_name": "LayoutModel",
      "state": {
       "display": "inline-flex",
       "flex_flow": "row wrap",
       "width": "100%"
      }
     },
     "aca1bfa311e34250b4881ccf18de62a9": {
      "model_module": "@jupyter-widgets/controls",
      "model_module_version": "1.5.0",
      "model_name": "ProgressStyleModel",
      "state": {
       "description_width": ""
      }
     },
     "ad06ddb0905d45dbbae4936a130ac5e7": {
      "model_module": "@jupyter-widgets/controls",
      "model_module_version": "1.5.0",
      "model_name": "DescriptionStyleModel",
      "state": {
       "description_width": ""
      }
     },
     "ae227c31b15b4bf18004461539bc04c8": {
      "model_module": "@jupyter-widgets/controls",
      "model_module_version": "1.5.0",
      "model_name": "ProgressStyleModel",
      "state": {
       "description_width": ""
      }
     },
     "af1a4b8618c7476e864b58ca9f80f27f": {
      "model_module": "@jupyter-widgets/base",
      "model_module_version": "1.2.0",
      "model_name": "LayoutModel",
      "state": {
       "display": "inline-flex",
       "flex_flow": "row wrap",
       "width": "100%"
      }
     },
     "afe3f33e9e014d37a6d3a9a0fd02c0cd": {
      "model_module": "@jupyter-widgets/controls",
      "model_module_version": "1.5.0",
      "model_name": "DescriptionStyleModel",
      "state": {
       "description_width": ""
      }
     },
     "aff94254a3ef4537960cc9756ee7156b": {
      "model_module": "@jupyter-widgets/controls",
      "model_module_version": "1.5.0",
      "model_name": "HTMLModel",
      "state": {
       "layout": "IPY_MODEL_d17ab5f6301a4ae386bf8965264f69ef",
       "style": "IPY_MODEL_b9a0806e238a49aa8c30867982574905",
       "value": " \n            100% ⏱️15:42 ⏳00:00 ⚙️78.45it/s"
      }
     },
     "afff69b284cf4109ba12043934e6fb67": {
      "model_module": "@jupyter-widgets/controls",
      "model_module_version": "1.5.0",
      "model_name": "ProgressStyleModel",
      "state": {
       "description_width": ""
      }
     },
     "b01f9c2cc03d4be7992a7d48c603d9a8": {
      "model_module": "@jupyter-widgets/controls",
      "model_module_version": "1.5.0",
      "model_name": "HTMLModel",
      "state": {
       "layout": "IPY_MODEL_13f1586ab3d4467ebf274c800d88b61a",
       "style": "IPY_MODEL_d1efe87fa75649f3a938166ceb54c34c",
       "value": " \n            100% ⏱️14:02 ⏳00:00 ⚙️156.02it/s"
      }
     },
     "b0540627b3384bd390cfc34150201784": {
      "model_module": "@jupyter-widgets/controls",
      "model_module_version": "1.5.0",
      "model_name": "DescriptionStyleModel",
      "state": {
       "description_width": ""
      }
     },
     "b05641aa42524f27a896aead65306cf9": {
      "model_module": "@jupyter-widgets/controls",
      "model_module_version": "1.5.0",
      "model_name": "FloatProgressModel",
      "state": {
       "bar_style": "success",
       "layout": "IPY_MODEL_3732cff6545444c28d7763548993980d",
       "max": 163020,
       "style": "IPY_MODEL_a08a5626f6464b2094288040edacdf20",
       "value": 163020
      }
     },
     "b0a8483e716d459c877332c5f3764af2": {
      "model_module": "@jupyter-widgets/base",
      "model_module_version": "1.2.0",
      "model_name": "LayoutModel",
      "state": {
       "flex": "2"
      }
     },
     "b0b084b207c6477fa01d449610dfa896": {
      "model_module": "@jupyter-widgets/controls",
      "model_module_version": "1.5.0",
      "model_name": "HBoxModel",
      "state": {
       "children": [
        "IPY_MODEL_0f385d4dfbdb4b83b49f8ddc1c1836bb",
        "IPY_MODEL_5a482b7afd224b92aae87d94ee7f05d7",
        "IPY_MODEL_87d03b75278e4184bca2e7b80555fe62"
       ],
       "layout": "IPY_MODEL_48204da2e1aa44a39b4786c1ed17ed5b"
      }
     },
     "b0f1960784464b4886a2b6d39ff01075": {
      "model_module": "@jupyter-widgets/base",
      "model_module_version": "1.2.0",
      "model_name": "LayoutModel",
      "state": {}
     },
     "b10a78531e714cffbbb30c70943f4b82": {
      "model_module": "@jupyter-widgets/controls",
      "model_module_version": "1.5.0",
      "model_name": "FloatProgressModel",
      "state": {
       "bar_style": "success",
       "layout": "IPY_MODEL_219a8249f0214b0a8708a6619d56d0f0",
       "max": 162599,
       "style": "IPY_MODEL_b259a62216fd482197dbaff0b962c909",
       "value": 162599
      }
     },
     "b1987d5062aa45ca933d1c6a6dcea4a3": {
      "model_module": "@jupyter-widgets/controls",
      "model_module_version": "1.5.0",
      "model_name": "FloatProgressModel",
      "state": {
       "layout": "IPY_MODEL_e977255fd63f49d6938c55b01e0fb1a4",
       "max": 18,
       "style": "IPY_MODEL_0cf052aae00648ac958366ec03c87c47",
       "value": 2
      }
     },
     "b1e57dae806142dab5e79ae91589d49a": {
      "model_module": "@jupyter-widgets/controls",
      "model_module_version": "1.5.0",
      "model_name": "HTMLModel",
      "state": {
       "layout": "IPY_MODEL_a52247d21ef5429d9fd7ba3083e4083f",
       "style": "IPY_MODEL_f55e9058d7464a198bcdc7738e1104fd",
       "value": " \n            100% ⏱️16:45 ⏳00:00 ⚙️94.05it/s"
      }
     },
     "b1eac2bc3f4744a88ec1e8574d2b56e3": {
      "model_module": "@jupyter-widgets/base",
      "model_module_version": "1.2.0",
      "model_name": "LayoutModel",
      "state": {
       "flex": "2"
      }
     },
     "b259a62216fd482197dbaff0b962c909": {
      "model_module": "@jupyter-widgets/controls",
      "model_module_version": "1.5.0",
      "model_name": "ProgressStyleModel",
      "state": {
       "description_width": ""
      }
     },
     "b2b11c0b2c984af0a7c76eb1d2203002": {
      "model_module": "@jupyter-widgets/base",
      "model_module_version": "1.2.0",
      "model_name": "LayoutModel",
      "state": {
       "flex": "2"
      }
     },
     "b30e9253fcab44459a88c5ae5b241872": {
      "model_module": "@jupyter-widgets/base",
      "model_module_version": "1.2.0",
      "model_name": "LayoutModel",
      "state": {}
     },
     "b353cd6366f24994b7a930597c69a29c": {
      "model_module": "@jupyter-widgets/controls",
      "model_module_version": "1.5.0",
      "model_name": "DescriptionStyleModel",
      "state": {
       "description_width": ""
      }
     },
     "b3933abc6bf8483fa8820c19049e66a9": {
      "model_module": "@jupyter-widgets/controls",
      "model_module_version": "1.5.0",
      "model_name": "FloatProgressModel",
      "state": {
       "bar_style": "success",
       "layout": "IPY_MODEL_fa493b5fdf234d36b9ebced7a6e0bc62",
       "max": 161903,
       "style": "IPY_MODEL_735d15ea3c2a4f4ab9fca9456674e092",
       "value": 161903
      }
     },
     "b3e1c110ad0542dcb2efcaa8b77b6ef8": {
      "model_module": "@jupyter-widgets/controls",
      "model_module_version": "1.5.0",
      "model_name": "ProgressStyleModel",
      "state": {
       "description_width": ""
      }
     },
     "b478455834cf4dcdb6f12d2893adda2c": {
      "model_module": "@jupyter-widgets/controls",
      "model_module_version": "1.5.0",
      "model_name": "DescriptionStyleModel",
      "state": {
       "description_width": ""
      }
     },
     "b4fb5dc831db40af9b18513d07a50450": {
      "model_module": "@jupyter-widgets/base",
      "model_module_version": "1.2.0",
      "model_name": "LayoutModel",
      "state": {}
     },
     "b5617e222a1d4e5798ba943fff5da07e": {
      "model_module": "@jupyter-widgets/controls",
      "model_module_version": "1.5.0",
      "model_name": "HBoxModel",
      "state": {
       "children": [
        "IPY_MODEL_6dbafb7f2a384254abd44a4752204751",
        "IPY_MODEL_cbcf0ad323f64ef69bcfdd4c4b8a9d76",
        "IPY_MODEL_4f62899990794d05a4f5c41f5abfeb70"
       ],
       "layout": "IPY_MODEL_4890c7e53b584a8f967b8475e8c3b037"
      }
     },
     "b5bd0a9949cc46fb87a3b293867c2066": {
      "model_module": "@jupyter-widgets/base",
      "model_module_version": "1.2.0",
      "model_name": "LayoutModel",
      "state": {}
     },
     "b5f74b6f49fc4a7296f2415569357d44": {
      "model_module": "@jupyter-widgets/base",
      "model_module_version": "1.2.0",
      "model_name": "LayoutModel",
      "state": {}
     },
     "b5fc64a3a5634ed4bc810236eb9c37e2": {
      "model_module": "@jupyter-widgets/base",
      "model_module_version": "1.2.0",
      "model_name": "LayoutModel",
      "state": {}
     },
     "b74cc82798b545789a59594182a4da5d": {
      "model_module": "@jupyter-widgets/base",
      "model_module_version": "1.2.0",
      "model_name": "LayoutModel",
      "state": {}
     },
     "b7a1c65fc13b456181cb1d22f8294a48": {
      "model_module": "@jupyter-widgets/controls",
      "model_module_version": "1.5.0",
      "model_name": "HBoxModel",
      "state": {
       "children": [
        "IPY_MODEL_3d8042de78af4e118d4c19504feb8f7f",
        "IPY_MODEL_73a54f3ef1344a6c87e7471382783d04",
        "IPY_MODEL_f2f7c3ad07624f219b36d42e6550a2fc"
       ],
       "layout": "IPY_MODEL_2084272826494f68bc369ea95a3f6c96"
      }
     },
     "b7adc291eb434020962dd0dc95d23ed9": {
      "model_module": "@jupyter-widgets/controls",
      "model_module_version": "1.5.0",
      "model_name": "DescriptionStyleModel",
      "state": {
       "description_width": ""
      }
     },
     "b7d77a4dbfcf411e89d81a470997dd27": {
      "model_module": "@jupyter-widgets/controls",
      "model_module_version": "1.5.0",
      "model_name": "DescriptionStyleModel",
      "state": {
       "description_width": ""
      }
     },
     "b7ddd908325148b78785ddaac412d735": {
      "model_module": "@jupyter-widgets/base",
      "model_module_version": "1.2.0",
      "model_name": "LayoutModel",
      "state": {}
     },
     "b83f425b3d4340eba0161f83427b1b20": {
      "model_module": "@jupyter-widgets/base",
      "model_module_version": "1.2.0",
      "model_name": "LayoutModel",
      "state": {}
     },
     "b87b0166a4364d08a9b1977b8f5490ab": {
      "model_module": "@jupyter-widgets/controls",
      "model_module_version": "1.5.0",
      "model_name": "HTMLModel",
      "state": {
       "layout": "IPY_MODEL_3b3f94c181804dada3d89c12d75c67b2",
       "style": "IPY_MODEL_02282c3ced1e42ec8bf5e4d8819cbd75",
       "value": " \n            100% ⏱️17:05 ⏳00:00 ⚙️48.95it/s"
      }
     },
     "b923ab05eb7141d7926c9e6e90c2301a": {
      "model_module": "@jupyter-widgets/controls",
      "model_module_version": "1.5.0",
      "model_name": "DescriptionStyleModel",
      "state": {
       "description_width": ""
      }
     },
     "b94f00775948404c81e891ad0402c241": {
      "model_module": "@jupyter-widgets/base",
      "model_module_version": "1.2.0",
      "model_name": "LayoutModel",
      "state": {
       "display": "inline-flex",
       "flex_flow": "row wrap",
       "width": "100%"
      }
     },
     "b97b4c2fac0c40f991c30dc571736d0b": {
      "model_module": "@jupyter-widgets/base",
      "model_module_version": "1.2.0",
      "model_name": "LayoutModel",
      "state": {
       "display": "inline-flex",
       "flex_flow": "row wrap",
       "width": "100%"
      }
     },
     "b9a0806e238a49aa8c30867982574905": {
      "model_module": "@jupyter-widgets/controls",
      "model_module_version": "1.5.0",
      "model_name": "DescriptionStyleModel",
      "state": {
       "description_width": ""
      }
     },
     "b9dd4863c3de4d8fb0bd5d4cc6a81dd2": {
      "model_module": "@jupyter-widgets/base",
      "model_module_version": "1.2.0",
      "model_name": "LayoutModel",
      "state": {}
     },
     "ba2463ff2aa74a75845cef0941ca4f40": {
      "model_module": "@jupyter-widgets/controls",
      "model_module_version": "1.5.0",
      "model_name": "FloatProgressModel",
      "state": {
       "bar_style": "success",
       "layout": "IPY_MODEL_678dfd4de9a9449cad1b566d9eac8d84",
       "max": 162599,
       "style": "IPY_MODEL_73d43b3120314a28bc538babb7069d0b",
       "value": 162599
      }
     },
     "ba59fa9d4f5e4cd9b58130d112e5317c": {
      "model_module": "@jupyter-widgets/controls",
      "model_module_version": "1.5.0",
      "model_name": "DescriptionStyleModel",
      "state": {
       "description_width": ""
      }
     },
     "baaf30d74bc54528be7eb5ae16dd8149": {
      "model_module": "@jupyter-widgets/controls",
      "model_module_version": "1.5.0",
      "model_name": "HTMLModel",
      "state": {
       "layout": "IPY_MODEL_583cb5f426754ddbbccf53cda549c686",
       "style": "IPY_MODEL_b0540627b3384bd390cfc34150201784",
       "value": "📄 163028 of 163028 ⌚ timestamps from participant d764851f-717d-4944-9023-74dda394f96e processed: "
      }
     },
     "bac0cd682d924140a5acad92258f76c5": {
      "model_module": "@jupyter-widgets/controls",
      "model_module_version": "1.5.0",
      "model_name": "HTMLModel",
      "state": {
       "layout": "IPY_MODEL_79f2f8bf307e48cc99d1373a09082d73",
       "style": "IPY_MODEL_47c56383c84c413c82b887939e04da7d",
       "value": " \n            100% ⏱️16:09 ⏳00:00 ⚙️51.76it/s"
      }
     },
     "bade52a5548a4551b6f2e97f973755aa": {
      "model_module": "@jupyter-widgets/base",
      "model_module_version": "1.2.0",
      "model_name": "LayoutModel",
      "state": {
       "flex": "2"
      }
     },
     "badfc468967d41dcbf35d4f74ae92bfc": {
      "model_module": "@jupyter-widgets/controls",
      "model_module_version": "1.5.0",
      "model_name": "FloatProgressModel",
      "state": {
       "bar_style": "success",
       "layout": "IPY_MODEL_96ed4ad17fe148148ff65aa36cf72f73",
       "max": 162355,
       "style": "IPY_MODEL_cd875160b5b847be840e1a5234b434bd",
       "value": 162355
      }
     },
     "bb4897c9e1bd4e689713facf95064e73": {
      "model_module": "@jupyter-widgets/controls",
      "model_module_version": "1.5.0",
      "model_name": "DescriptionStyleModel",
      "state": {
       "description_width": ""
      }
     },
     "bbdc6a9c5cc44667bd6c1813514627c5": {
      "model_module": "@jupyter-widgets/controls",
      "model_module_version": "1.5.0",
      "model_name": "DescriptionStyleModel",
      "state": {
       "description_width": ""
      }
     },
     "bc13066a2a084101a2661f05f6905d21": {
      "model_module": "@jupyter-widgets/base",
      "model_module_version": "1.2.0",
      "model_name": "LayoutModel",
      "state": {}
     },
     "bd7e79dec895424bac6eae220f4dd32e": {
      "model_module": "@jupyter-widgets/controls",
      "model_module_version": "1.5.0",
      "model_name": "DescriptionStyleModel",
      "state": {
       "description_width": ""
      }
     },
     "be0c7afe33c94b2480c9888c1dde89d5": {
      "model_module": "@jupyter-widgets/base",
      "model_module_version": "1.2.0",
      "model_name": "LayoutModel",
      "state": {}
     },
     "be1f3797ee7942159e183538127d1db8": {
      "model_module": "@jupyter-widgets/base",
      "model_module_version": "1.2.0",
      "model_name": "LayoutModel",
      "state": {
       "display": "inline-flex",
       "flex_flow": "row wrap",
       "width": "100%"
      }
     },
     "be327f1e375248089d32e03f9e396681": {
      "model_module": "@jupyter-widgets/base",
      "model_module_version": "1.2.0",
      "model_name": "LayoutModel",
      "state": {
       "display": "inline-flex",
       "flex_flow": "row wrap",
       "width": "100%"
      }
     },
     "be5694c8fbe649ec88a52c785feb4bd0": {
      "model_module": "@jupyter-widgets/controls",
      "model_module_version": "1.5.0",
      "model_name": "DescriptionStyleModel",
      "state": {
       "description_width": ""
      }
     },
     "be5bf835a64e44d5a0531e79bf8a44d8": {
      "model_module": "@jupyter-widgets/controls",
      "model_module_version": "1.5.0",
      "model_name": "DescriptionStyleModel",
      "state": {
       "description_width": ""
      }
     },
     "bea713aee76c4156890337d4950ed152": {
      "model_module": "@jupyter-widgets/base",
      "model_module_version": "1.2.0",
      "model_name": "LayoutModel",
      "state": {
       "flex": "2"
      }
     },
     "bf2b17d73da540d6a4b2ebccc9a6403b": {
      "model_module": "@jupyter-widgets/controls",
      "model_module_version": "1.5.0",
      "model_name": "DescriptionStyleModel",
      "state": {
       "description_width": ""
      }
     },
     "bf676baf1bd74e25aee190e81427fd9f": {
      "model_module": "@jupyter-widgets/base",
      "model_module_version": "1.2.0",
      "model_name": "LayoutModel",
      "state": {
       "flex": "2"
      }
     },
     "bfaac2f67f634353a92bcee6635ae936": {
      "model_module": "@jupyter-widgets/base",
      "model_module_version": "1.2.0",
      "model_name": "LayoutModel",
      "state": {
       "display": "inline-flex",
       "flex_flow": "row wrap",
       "width": "100%"
      }
     },
     "bfb773b136b448df95dedb877bde3d6b": {
      "model_module": "@jupyter-widgets/controls",
      "model_module_version": "1.5.0",
      "model_name": "DescriptionStyleModel",
      "state": {
       "description_width": ""
      }
     },
     "c01103b719dc4688a6d14a82116a2f27": {
      "model_module": "@jupyter-widgets/controls",
      "model_module_version": "1.5.0",
      "model_name": "HBoxModel",
      "state": {
       "children": [
        "IPY_MODEL_ef1f45fe1166451a8640f4eb0a1697a6",
        "IPY_MODEL_26455b3a9d4a4a50b50f7afb914fa177",
        "IPY_MODEL_f1276d09270241bd817a2c9d7e422cae"
       ],
       "layout": "IPY_MODEL_1c6716a0800d4b5fa34023451f1e3299"
      }
     },
     "c0130eaefea24c609b9455ba51bee59d": {
      "model_module": "@jupyter-widgets/controls",
      "model_module_version": "1.5.0",
      "model_name": "ProgressStyleModel",
      "state": {
       "description_width": ""
      }
     },
     "c062e05a808040fda0d54b504d2c7f20": {
      "model_module": "@jupyter-widgets/controls",
      "model_module_version": "1.5.0",
      "model_name": "HBoxModel",
      "state": {
       "children": [
        "IPY_MODEL_95d2a11f512c4dccb473f51af905301a",
        "IPY_MODEL_356ce1d2b6144147ad368a03d6d48e78",
        "IPY_MODEL_a76e20a7b213412b9014439e1c9ced2a"
       ],
       "layout": "IPY_MODEL_41d0e622ef804793b75d69dcbbe56d75"
      }
     },
     "c10cdc066c184796a3500ba469c5ac1c": {
      "model_module": "@jupyter-widgets/base",
      "model_module_version": "1.2.0",
      "model_name": "LayoutModel",
      "state": {}
     },
     "c15690c9c23946a2a87119b7a669f7b9": {
      "model_module": "@jupyter-widgets/controls",
      "model_module_version": "1.5.0",
      "model_name": "ProgressStyleModel",
      "state": {
       "description_width": ""
      }
     },
     "c1d42443cee54b088f4463e8598fa084": {
      "model_module": "@jupyter-widgets/controls",
      "model_module_version": "1.5.0",
      "model_name": "DescriptionStyleModel",
      "state": {
       "description_width": ""
      }
     },
     "c203a7058f6d4cc6a82c097568740f7a": {
      "model_module": "@jupyter-widgets/controls",
      "model_module_version": "1.5.0",
      "model_name": "ProgressStyleModel",
      "state": {
       "description_width": ""
      }
     },
     "c25d64dd4c974e54ba1c68a0d53a091b": {
      "model_module": "@jupyter-widgets/controls",
      "model_module_version": "1.5.0",
      "model_name": "HTMLModel",
      "state": {
       "layout": "IPY_MODEL_1acf9a0a2b4d489fa1ba4119b0c6636e",
       "style": "IPY_MODEL_cf1cf1db8e894c83b04a0ecde0954a73",
       "value": "📄 161901 of 161901 ⌚ timestamps from participant 70656182-09b3-4c19-9ae2-0a2ab2e19fed processed: "
      }
     },
     "c370c2ce660f4b61963daefdb0d04e25": {
      "model_module": "@jupyter-widgets/controls",
      "model_module_version": "1.5.0",
      "model_name": "HBoxModel",
      "state": {
       "children": [
        "IPY_MODEL_aa2c18a2b2d8470eb7ab52c0cdb39650",
        "IPY_MODEL_d4be7917913b4a819558fa296493b0bd",
        "IPY_MODEL_75ecf0ed9e3740a2a8e6216e4f1e5e74"
       ],
       "layout": "IPY_MODEL_75f1054218e743d28f16e1f2284ffad2"
      }
     },
     "c396dc041d62490a87328f86b9b8c62b": {
      "model_module": "@jupyter-widgets/controls",
      "model_module_version": "1.5.0",
      "model_name": "FloatProgressModel",
      "state": {
       "bar_style": "success",
       "layout": "IPY_MODEL_f8bd0facbf414477b28429ac8ddd4464",
       "max": 1,
       "style": "IPY_MODEL_0f9940f6f5a34de1b1b118b7bbf924df",
       "value": 1
      }
     },
     "c49785c35d044f2092c939be0f75d7ec": {
      "model_module": "@jupyter-widgets/base",
      "model_module_version": "1.2.0",
      "model_name": "LayoutModel",
      "state": {}
     },
     "c4a4b94df3c643bc827076f61efaf3cf": {
      "model_module": "@jupyter-widgets/controls",
      "model_module_version": "1.5.0",
      "model_name": "FloatProgressModel",
      "state": {
       "bar_style": "success",
       "layout": "IPY_MODEL_bf676baf1bd74e25aee190e81427fd9f",
       "max": 163090,
       "style": "IPY_MODEL_9664a5e3a69746f995d4855f11d7c2d8",
       "value": 163090
      }
     },
     "c5bc760a18dd4c679fd6016c8d3c003a": {
      "model_module": "@jupyter-widgets/controls",
      "model_module_version": "1.5.0",
      "model_name": "FloatProgressModel",
      "state": {
       "bar_style": "success",
       "layout": "IPY_MODEL_77abf0d7fb8444cbae47fcfecc6eddc5",
       "max": 162330,
       "style": "IPY_MODEL_9e2ccf1e57674a1f8bc80ab0962c49f1",
       "value": 162330
      }
     },
     "c5eab7517a2443ec887dfa4c111fe683": {
      "model_module": "@jupyter-widgets/controls",
      "model_module_version": "1.5.0",
      "model_name": "HTMLModel",
      "state": {
       "layout": "IPY_MODEL_84427bc91fb247f0a12ab5217f59af39",
       "style": "IPY_MODEL_62d7aef5db764518950139a7701595cf",
       "value": "📄 163088 of 163088 ⌚ timestamps from participant d4bf073c-a3cc-450c-9412-ef15538ee293 processed: "
      }
     },
     "c78b66609dbc4e6ea6c28c7900e9ea5d": {
      "model_module": "@jupyter-widgets/controls",
      "model_module_version": "1.5.0",
      "model_name": "HTMLModel",
      "state": {
       "layout": "IPY_MODEL_4223276b518e45039a49f25bf5e6ad15",
       "style": "IPY_MODEL_d12b215d35fd4ea0a3f4fdfc870d8409",
       "value": " \n            100% ⏱️14:15 ⏳00:00 ⚙️41.78it/s"
      }
     },
     "c7ddd2c7e66c417eb6cd81b566330419": {
      "model_module": "@jupyter-widgets/controls",
      "model_module_version": "1.5.0",
      "model_name": "ProgressStyleModel",
      "state": {
       "description_width": ""
      }
     },
     "c7dff423de9145819fc58e30bbb8d599": {
      "model_module": "@jupyter-widgets/base",
      "model_module_version": "1.2.0",
      "model_name": "LayoutModel",
      "state": {
       "display": "inline-flex",
       "flex_flow": "row wrap",
       "width": "100%"
      }
     },
     "c819c40b484c472ea1855396810f96f8": {
      "model_module": "@jupyter-widgets/controls",
      "model_module_version": "1.5.0",
      "model_name": "DescriptionStyleModel",
      "state": {
       "description_width": ""
      }
     },
     "c842cf34d1f74e5eae092d2a013ca556": {
      "model_module": "@jupyter-widgets/base",
      "model_module_version": "1.2.0",
      "model_name": "LayoutModel",
      "state": {}
     },
     "c9103ec944f044d198cda542ae2c0c0c": {
      "model_module": "@jupyter-widgets/controls",
      "model_module_version": "1.5.0",
      "model_name": "DescriptionStyleModel",
      "state": {
       "description_width": ""
      }
     },
     "c94c3e78ea0645fb92bbc4bd60bd5bda": {
      "model_module": "@jupyter-widgets/controls",
      "model_module_version": "1.5.0",
      "model_name": "DescriptionStyleModel",
      "state": {
       "description_width": ""
      }
     },
     "c968e203891b4341b8c3a50ecad1790e": {
      "model_module": "@jupyter-widgets/controls",
      "model_module_version": "1.5.0",
      "model_name": "DescriptionStyleModel",
      "state": {
       "description_width": ""
      }
     },
     "ca756c989bf84193b5754df3392636f2": {
      "model_module": "@jupyter-widgets/controls",
      "model_module_version": "1.5.0",
      "model_name": "HTMLModel",
      "state": {
       "layout": "IPY_MODEL_b5fc64a3a5634ed4bc810236eb9c37e2",
       "style": "IPY_MODEL_9154f5c74ec64bd8a2b279979ceb7cce",
       "value": " \n              7% ⏱️00:25 ⏳01:42 ⚙️1473.81it/s"
      }
     },
     "cac5e5ac2caf43bd88f92bffb94454f9": {
      "model_module": "@jupyter-widgets/controls",
      "model_module_version": "1.5.0",
      "model_name": "HTMLModel",
      "state": {
       "layout": "IPY_MODEL_be0c7afe33c94b2480c9888c1dde89d5",
       "style": "IPY_MODEL_896da31d5ac54e268cfc5b2260afcc37",
       "value": " \n            100% ⏱️02:57 ⏳00:00 ⚙️818.94it/s"
      }
     },
     "cb714c95ceb84419989e0479a4523a9e": {
      "model_module": "@jupyter-widgets/controls",
      "model_module_version": "1.5.0",
      "model_name": "HBoxModel",
      "state": {
       "children": [
        "IPY_MODEL_265b86330f2b478eaa0f31eb0cfa9784",
        "IPY_MODEL_dad25e37d9a44cd8ac17c71299890d7e",
        "IPY_MODEL_6ac545cc25804b5b851401ae4752ad64"
       ],
       "layout": "IPY_MODEL_7eae5b3027ea4e7ab9a68136a5ab9510"
      }
     },
     "cb7e28e0852242a38659b75b589250fb": {
      "model_module": "@jupyter-widgets/controls",
      "model_module_version": "1.5.0",
      "model_name": "DescriptionStyleModel",
      "state": {
       "description_width": ""
      }
     },
     "cb96c0237a574345b11505fea102ae6d": {
      "model_module": "@jupyter-widgets/base",
      "model_module_version": "1.2.0",
      "model_name": "LayoutModel",
      "state": {}
     },
     "cbcf0ad323f64ef69bcfdd4c4b8a9d76": {
      "model_module": "@jupyter-widgets/controls",
      "model_module_version": "1.5.0",
      "model_name": "FloatProgressModel",
      "state": {
       "bar_style": "success",
       "layout": "IPY_MODEL_bade52a5548a4551b6f2e97f973755aa",
       "max": 162917,
       "style": "IPY_MODEL_01e30e936b68490eb7bc4da4050f9db3",
       "value": 162917
      }
     },
     "ccb53eeacaf940b79178cb6bee0af372": {
      "model_module": "@jupyter-widgets/controls",
      "model_module_version": "1.5.0",
      "model_name": "DescriptionStyleModel",
      "state": {
       "description_width": ""
      }
     },
     "ccee08807f9248fc9d3dc802d4a40501": {
      "model_module": "@jupyter-widgets/controls",
      "model_module_version": "1.5.0",
      "model_name": "DescriptionStyleModel",
      "state": {
       "description_width": ""
      }
     },
     "cd875160b5b847be840e1a5234b434bd": {
      "model_module": "@jupyter-widgets/controls",
      "model_module_version": "1.5.0",
      "model_name": "ProgressStyleModel",
      "state": {
       "description_width": ""
      }
     },
     "cda0c06f90dd4d35aacafed836c55b2c": {
      "model_module": "@jupyter-widgets/controls",
      "model_module_version": "1.5.0",
      "model_name": "DescriptionStyleModel",
      "state": {
       "description_width": ""
      }
     },
     "cde63203fd364a89b786cde4d291689d": {
      "model_module": "@jupyter-widgets/controls",
      "model_module_version": "1.5.0",
      "model_name": "FloatProgressModel",
      "state": {
       "layout": "IPY_MODEL_670445b5aa2f4111a92b87d6bc67126d",
       "max": 162328,
       "style": "IPY_MODEL_36fef5e908404ab8bfd0b7283639bbf0",
       "value": 148673
      }
     },
     "ce00013ef4be48f497b80416188be320": {
      "model_module": "@jupyter-widgets/controls",
      "model_module_version": "1.5.0",
      "model_name": "HBoxModel",
      "state": {
       "children": [
        "IPY_MODEL_ff828071f53c45b9a792225e5510b32b",
        "IPY_MODEL_154beebbce5a45a59eae28821ece7423",
        "IPY_MODEL_39b15813c1034f06b194beb18fdf6baf"
       ],
       "layout": "IPY_MODEL_b94f00775948404c81e891ad0402c241"
      }
     },
     "ce0ffe15f4ed4ff4864252c9ef976f08": {
      "model_module": "@jupyter-widgets/base",
      "model_module_version": "1.2.0",
      "model_name": "LayoutModel",
      "state": {}
     },
     "cf09339af3c2402099b397702c2d7292": {
      "model_module": "@jupyter-widgets/controls",
      "model_module_version": "1.5.0",
      "model_name": "HBoxModel",
      "state": {
       "children": [
        "IPY_MODEL_8a5fe31060e94849ad801ae42ff5427a",
        "IPY_MODEL_44a12d480e12435d84fc12d653b26772",
        "IPY_MODEL_eb429fae45884559a5a233db085137ac"
       ],
       "layout": "IPY_MODEL_854a6eefec194ddfb9f330e503e41e62"
      }
     },
     "cf1cf1db8e894c83b04a0ecde0954a73": {
      "model_module": "@jupyter-widgets/controls",
      "model_module_version": "1.5.0",
      "model_name": "DescriptionStyleModel",
      "state": {
       "description_width": ""
      }
     },
     "cf1d5fa9eecb42a2a46778c33376b52b": {
      "model_module": "@jupyter-widgets/controls",
      "model_module_version": "1.5.0",
      "model_name": "HTMLModel",
      "state": {
       "layout": "IPY_MODEL_3d5218420cf0450ca7a36291d0711819",
       "style": "IPY_MODEL_fdebfacb829040a19a9b011a1a652a64",
       "value": "📄 161208 of 161208 ⌚ timestamps from participant 95184b7a-42f1-40b0-ae36-be6ef1e33f1d processed: "
      }
     },
     "cf4c4b478c6a4f6c99f03573d55193eb": {
      "model_module": "@jupyter-widgets/base",
      "model_module_version": "1.2.0",
      "model_name": "LayoutModel",
      "state": {}
     },
     "cf58d613f6624afda5b93fe706e30ca6": {
      "model_module": "@jupyter-widgets/controls",
      "model_module_version": "1.5.0",
      "model_name": "HBoxModel",
      "state": {
       "children": [
        "IPY_MODEL_c25d64dd4c974e54ba1c68a0d53a091b",
        "IPY_MODEL_6341c92ed49943d3b0c0190ce437b4e9",
        "IPY_MODEL_14cc88f17778487fab9201d67b1b6c68"
       ],
       "layout": "IPY_MODEL_3a35cac7b4fa4fe084ae9d31bad1cdd1"
      }
     },
     "d0273e4e424f4c4db995a27bfd5f3e17": {
      "model_module": "@jupyter-widgets/base",
      "model_module_version": "1.2.0",
      "model_name": "LayoutModel",
      "state": {}
     },
     "d060615fa5a2445eae37c4aff5bf0604": {
      "model_module": "@jupyter-widgets/base",
      "model_module_version": "1.2.0",
      "model_name": "LayoutModel",
      "state": {}
     },
     "d06109c1322f4f86b0481ffbe758e4a0": {
      "model_module": "@jupyter-widgets/controls",
      "model_module_version": "1.5.0",
      "model_name": "DescriptionStyleModel",
      "state": {
       "description_width": ""
      }
     },
     "d0ad33882ded44af970d00cfeea2d23d": {
      "model_module": "@jupyter-widgets/base",
      "model_module_version": "1.2.0",
      "model_name": "LayoutModel",
      "state": {}
     },
     "d11cf3f6bc5a4160a19d817d0cee57b3": {
      "model_module": "@jupyter-widgets/base",
      "model_module_version": "1.2.0",
      "model_name": "LayoutModel",
      "state": {
       "flex": "2"
      }
     },
     "d12b215d35fd4ea0a3f4fdfc870d8409": {
      "model_module": "@jupyter-widgets/controls",
      "model_module_version": "1.5.0",
      "model_name": "DescriptionStyleModel",
      "state": {
       "description_width": ""
      }
     },
     "d1576cdf03a448a6b6955bf97c6c1302": {
      "model_module": "@jupyter-widgets/base",
      "model_module_version": "1.2.0",
      "model_name": "LayoutModel",
      "state": {}
     },
     "d17ab5f6301a4ae386bf8965264f69ef": {
      "model_module": "@jupyter-widgets/base",
      "model_module_version": "1.2.0",
      "model_name": "LayoutModel",
      "state": {}
     },
     "d1efe87fa75649f3a938166ceb54c34c": {
      "model_module": "@jupyter-widgets/controls",
      "model_module_version": "1.5.0",
      "model_name": "DescriptionStyleModel",
      "state": {
       "description_width": ""
      }
     },
     "d230e0346ee04b82b82be2c08645ee85": {
      "model_module": "@jupyter-widgets/controls",
      "model_module_version": "1.5.0",
      "model_name": "HTMLModel",
      "state": {
       "layout": "IPY_MODEL_d0ad33882ded44af970d00cfeea2d23d",
       "style": "IPY_MODEL_bfb773b136b448df95dedb877bde3d6b",
       "value": " \n            100% ⏱️10:52 ⏳00:00 ⚙️153.85it/s"
      }
     },
     "d38692631d784c569e3e23c4aa3ca177": {
      "model_module": "@jupyter-widgets/controls",
      "model_module_version": "1.5.0",
      "model_name": "DescriptionStyleModel",
      "state": {
       "description_width": ""
      }
     },
     "d45a256f825d4dc59cae6a435e5003fa": {
      "model_module": "@jupyter-widgets/controls",
      "model_module_version": "1.5.0",
      "model_name": "HTMLModel",
      "state": {
       "layout": "IPY_MODEL_5278bf0cac9e4b8a8585d90a1f087e57",
       "style": "IPY_MODEL_b923ab05eb7141d7926c9e6e90c2301a",
       "value": "📄 18 of 18 📂 participants processed: "
      }
     },
     "d45c9cb72f8548f59e346a3e3531a0de": {
      "model_module": "@jupyter-widgets/controls",
      "model_module_version": "1.5.0",
      "model_name": "FloatProgressModel",
      "state": {
       "layout": "IPY_MODEL_69ec218dd00d42cd88c3e2e59ebc0eef",
       "max": 157535,
       "style": "IPY_MODEL_20cb230faf034e9790ee4a857fdee16e",
       "value": 156621
      }
     },
     "d4be7917913b4a819558fa296493b0bd": {
      "model_module": "@jupyter-widgets/controls",
      "model_module_version": "1.5.0",
      "model_name": "FloatProgressModel",
      "state": {
       "bar_style": "success",
       "layout": "IPY_MODEL_9e9bed26e58e49d2b19707e2478c9867",
       "max": 162832,
       "style": "IPY_MODEL_afff69b284cf4109ba12043934e6fb67",
       "value": 162832
      }
     },
     "d6a26b2d9eec40998631405bc92c679b": {
      "model_module": "@jupyter-widgets/controls",
      "model_module_version": "1.5.0",
      "model_name": "HBoxModel",
      "state": {
       "children": [
        "IPY_MODEL_9a67a37df0ed4c58a18f74ecffc390a5",
        "IPY_MODEL_5d0c03fbc5bf453fb643abbc1d5186d4",
        "IPY_MODEL_7f69334fb0e34fdb8e8973448781839f"
       ],
       "layout": "IPY_MODEL_968094aab62446efab94441b4912305f"
      }
     },
     "d71f055595e844229699278a455dcfa8": {
      "model_module": "@jupyter-widgets/controls",
      "model_module_version": "1.5.0",
      "model_name": "HTMLModel",
      "state": {
       "layout": "IPY_MODEL_a396d31aa9364bfe8cd3f82f11b95754",
       "style": "IPY_MODEL_c9103ec944f044d198cda542ae2c0c0c",
       "value": " \n            100% ⏱️16:02 ⏳00:00 ⚙️119.75it/s"
      }
     },
     "d8fb878c0a974022a9da552aac652e98": {
      "model_module": "@jupyter-widgets/base",
      "model_module_version": "1.2.0",
      "model_name": "LayoutModel",
      "state": {
       "display": "inline-flex",
       "flex_flow": "row wrap",
       "width": "100%"
      }
     },
     "d91d7e011eb64fcf860d29cb740b8682": {
      "model_module": "@jupyter-widgets/base",
      "model_module_version": "1.2.0",
      "model_name": "LayoutModel",
      "state": {}
     },
     "d9ca9c0f464442298512c23ed671efa4": {
      "model_module": "@jupyter-widgets/controls",
      "model_module_version": "1.5.0",
      "model_name": "DescriptionStyleModel",
      "state": {
       "description_width": ""
      }
     },
     "dab551af4ae741699211a9a69ec75f2e": {
      "model_module": "@jupyter-widgets/controls",
      "model_module_version": "1.5.0",
      "model_name": "ProgressStyleModel",
      "state": {
       "description_width": ""
      }
     },
     "dac93910971e46ea8eb7704f56c3f6de": {
      "model_module": "@jupyter-widgets/base",
      "model_module_version": "1.2.0",
      "model_name": "LayoutModel",
      "state": {}
     },
     "dad25e37d9a44cd8ac17c71299890d7e": {
      "model_module": "@jupyter-widgets/controls",
      "model_module_version": "1.5.0",
      "model_name": "FloatProgressModel",
      "state": {
       "bar_style": "success",
       "layout": "IPY_MODEL_504540e331e74191955dfacd3bb993aa",
       "max": 163026,
       "style": "IPY_MODEL_b3e1c110ad0542dcb2efcaa8b77b6ef8",
       "value": 163026
      }
     },
     "daf61028e9604955be7d278a3cddcd1f": {
      "model_module": "@jupyter-widgets/controls",
      "model_module_version": "1.5.0",
      "model_name": "HBoxModel",
      "state": {
       "children": [
        "IPY_MODEL_e0940e12f2514ca1bc05729e994bbb41",
        "IPY_MODEL_c396dc041d62490a87328f86b9b8c62b",
        "IPY_MODEL_6bee7608b7ed4998bffd134a3f1b7b89"
       ],
       "layout": "IPY_MODEL_8d4712e638884af8af2340ddebc8107a"
      }
     },
     "db1b2377a817495fa44b4891a7c5c9c3": {
      "model_module": "@jupyter-widgets/controls",
      "model_module_version": "1.5.0",
      "model_name": "HBoxModel",
      "state": {
       "children": [
        "IPY_MODEL_95e0c268a2614534bb52cc7d63756b64",
        "IPY_MODEL_e1fbbee1279c49058e1374934e4d4ee2",
        "IPY_MODEL_53e4924bf9e14744938bf9e0c6d94824"
       ],
       "layout": "IPY_MODEL_c7dff423de9145819fc58e30bbb8d599"
      }
     },
     "db74a8ec7f364bab9358756c1e52069b": {
      "model_module": "@jupyter-widgets/controls",
      "model_module_version": "1.5.0",
      "model_name": "HTMLModel",
      "state": {
       "layout": "IPY_MODEL_7b2424137af5491a98313f6f990c31b6",
       "style": "IPY_MODEL_a7eade382b7548cbad454567c7211e13",
       "value": " \n            100% ⏱️29:08 ⏳00:00 ⚙️298.26it/s"
      }
     },
     "dbd323d050f74666a88422e2d97cdb7c": {
      "model_module": "@jupyter-widgets/controls",
      "model_module_version": "1.5.0",
      "model_name": "DescriptionStyleModel",
      "state": {
       "description_width": ""
      }
     },
     "dbe1f97f30b8434b823d4c1c292eb506": {
      "model_module": "@jupyter-widgets/controls",
      "model_module_version": "1.5.0",
      "model_name": "HBoxModel",
      "state": {
       "children": [
        "IPY_MODEL_a7233cfbec0c433a9acb8b08eee17c6e",
        "IPY_MODEL_5b9a3530945e4bb583aff6d776a285fa",
        "IPY_MODEL_14b381c55e2e4a75ae9a02cb21587811"
       ],
       "layout": "IPY_MODEL_a87cb8287cb0498296233260d76a11cc"
      }
     },
     "dc4e73663aab4222a3476cc4c4de181f": {
      "model_module": "@jupyter-widgets/base",
      "model_module_version": "1.2.0",
      "model_name": "LayoutModel",
      "state": {
       "display": "inline-flex",
       "flex_flow": "row wrap",
       "width": "100%"
      }
     },
     "dc8dec1f08304349a8c543fb25ba67dc": {
      "model_module": "@jupyter-widgets/controls",
      "model_module_version": "1.5.0",
      "model_name": "HTMLModel",
      "state": {
       "layout": "IPY_MODEL_a03ec7922308448789ab811ca874cca7",
       "style": "IPY_MODEL_f2ae1b0c51ea45ee831f14fef8e9826a",
       "value": "📄 147251 of 161208 ⌚ timestamps from participant 95184b7a-42f1-40b0-ae36-be6ef1e33f1d processed: "
      }
     },
     "dcd9ca2b0d35449995414cdc6816c66e": {
      "model_module": "@jupyter-widgets/controls",
      "model_module_version": "1.5.0",
      "model_name": "HBoxModel",
      "state": {
       "children": [
        "IPY_MODEL_e361e07cefa94647a8c02d7f245c80a8",
        "IPY_MODEL_4535a03b7f3347a8b74e2a0a361a8d1e",
        "IPY_MODEL_8147d19230ae4c2f9d52f508c30fd6a8"
       ],
       "layout": "IPY_MODEL_5bacd394754249c9a864fa8c66f3032d"
      }
     },
     "dd14838357c943a492163293a0706f45": {
      "model_module": "@jupyter-widgets/controls",
      "model_module_version": "1.5.0",
      "model_name": "HTMLModel",
      "state": {
       "layout": "IPY_MODEL_640cafe653824903a70e8d26e3089830",
       "style": "IPY_MODEL_ec3cae0facd34a0b90db2c85bc92fc7a",
       "value": "📄 152446 of 162355 ⌚ timestamps from participant f25b9349-573e-4c97-974e-855d4b037c79 processed: "
      }
     },
     "dd342a61d5fc4c1d8a74b35df5cb5fd5": {
      "model_module": "@jupyter-widgets/controls",
      "model_module_version": "1.5.0",
      "model_name": "FloatProgressModel",
      "state": {
       "bar_style": "success",
       "layout": "IPY_MODEL_5e784d8811614f01a46294d4431d5d63",
       "max": 161210,
       "style": "IPY_MODEL_98875f27fe274f98a63bb7d441665707",
       "value": 161210
      }
     },
     "dea59abf71984e69b9887197e0ec6bf4": {
      "model_module": "@jupyter-widgets/controls",
      "model_module_version": "1.5.0",
      "model_name": "HBoxModel",
      "state": {
       "children": [
        "IPY_MODEL_77a6097a1b3041c18e214ef1dfe9171c",
        "IPY_MODEL_d45c9cb72f8548f59e346a3e3531a0de",
        "IPY_MODEL_96e0c1ec973b4eaf86cf13ca04712102"
       ],
       "layout": "IPY_MODEL_be1f3797ee7942159e183538127d1db8"
      }
     },
     "df747f66bb6b4fcb9354c44205450804": {
      "model_module": "@jupyter-widgets/controls",
      "model_module_version": "1.5.0",
      "model_name": "DescriptionStyleModel",
      "state": {
       "description_width": ""
      }
     },
     "dfe9aa00ca2042efad876744a49f66ef": {
      "model_module": "@jupyter-widgets/base",
      "model_module_version": "1.2.0",
      "model_name": "LayoutModel",
      "state": {
       "flex": "2"
      }
     },
     "e00374517337446ca4557b9c4a3c4dcf": {
      "model_module": "@jupyter-widgets/controls",
      "model_module_version": "1.5.0",
      "model_name": "DescriptionStyleModel",
      "state": {
       "description_width": ""
      }
     },
     "e0940e12f2514ca1bc05729e994bbb41": {
      "model_module": "@jupyter-widgets/controls",
      "model_module_version": "1.5.0",
      "model_name": "HTMLModel",
      "state": {
       "layout": "IPY_MODEL_fb5c9f05c9f940d09a971edcb80665c1",
       "style": "IPY_MODEL_b7adc291eb434020962dd0dc95d23ed9",
       "value": "📄 1 of 1 📂 participants processed: "
      }
     },
     "e143d6e6814e47239fa8d1bd4b9dd932": {
      "model_module": "@jupyter-widgets/controls",
      "model_module_version": "1.5.0",
      "model_name": "DescriptionStyleModel",
      "state": {
       "description_width": ""
      }
     },
     "e1bb06e082104aa89defe21c69661c58": {
      "model_module": "@jupyter-widgets/controls",
      "model_module_version": "1.5.0",
      "model_name": "DescriptionStyleModel",
      "state": {
       "description_width": ""
      }
     },
     "e1fbbee1279c49058e1374934e4d4ee2": {
      "model_module": "@jupyter-widgets/controls",
      "model_module_version": "1.5.0",
      "model_name": "FloatProgressModel",
      "state": {
       "bar_style": "success",
       "layout": "IPY_MODEL_81faae44bd714932a624398ea7ad6b9e",
       "max": 162480,
       "style": "IPY_MODEL_705fb0de0cb14ca788fc8cba0df3c19a",
       "value": 162480
      }
     },
     "e28c0dae06b24ad88fb8a147f605ee1b": {
      "model_module": "@jupyter-widgets/base",
      "model_module_version": "1.2.0",
      "model_name": "LayoutModel",
      "state": {
       "display": "inline-flex",
       "flex_flow": "row wrap",
       "width": "100%"
      }
     },
     "e2a9cb12c5054f95bcd30eb5dbed8d09": {
      "model_module": "@jupyter-widgets/base",
      "model_module_version": "1.2.0",
      "model_name": "LayoutModel",
      "state": {}
     },
     "e2dc13ff156b44959fa6c8b3fd1a45f5": {
      "model_module": "@jupyter-widgets/controls",
      "model_module_version": "1.5.0",
      "model_name": "DescriptionStyleModel",
      "state": {
       "description_width": ""
      }
     },
     "e2f2ca5704c7476fb468a73b2a8f63a9": {
      "model_module": "@jupyter-widgets/base",
      "model_module_version": "1.2.0",
      "model_name": "LayoutModel",
      "state": {
       "flex": "2"
      }
     },
     "e2fc3b5792e8463a85b0972789920dbe": {
      "model_module": "@jupyter-widgets/controls",
      "model_module_version": "1.5.0",
      "model_name": "ProgressStyleModel",
      "state": {
       "description_width": ""
      }
     },
     "e361e07cefa94647a8c02d7f245c80a8": {
      "model_module": "@jupyter-widgets/controls",
      "model_module_version": "1.5.0",
      "model_name": "HTMLModel",
      "state": {
       "layout": "IPY_MODEL_904531f563bb479f92f59cd33c79cf70",
       "style": "IPY_MODEL_0ca1eef21b5f4619bc09e5c8bd68dea9",
       "value": "📄 157535 of 157535 ⌚ timestamps from participant c4cb86a2-c2d6-40f0-b594-9bb3eb769189 processed: "
      }
     },
     "e3b28a6bc8bf4861b0e99ac9c953640a": {
      "model_module": "@jupyter-widgets/controls",
      "model_module_version": "1.5.0",
      "model_name": "HTMLModel",
      "state": {
       "layout": "IPY_MODEL_0ccecca563454aeeab1fee7dd266d70e",
       "style": "IPY_MODEL_a27ac1100f8c418abad72b2f12f20ea1",
       "value": "📄 1 of 1 📂 participants processed: "
      }
     },
     "e3bd46178e0f481486717480a4df9578": {
      "model_module": "@jupyter-widgets/base",
      "model_module_version": "1.2.0",
      "model_name": "LayoutModel",
      "state": {
       "display": "inline-flex",
       "flex_flow": "row wrap",
       "width": "100%"
      }
     },
     "e417715935c940fda8305094b1b134a3": {
      "model_module": "@jupyter-widgets/controls",
      "model_module_version": "1.5.0",
      "model_name": "HTMLModel",
      "state": {
       "layout": "IPY_MODEL_5315c9c5c15f4cf88424b50ccad71d22",
       "style": "IPY_MODEL_13a45a0d447e4250ae35fbfb567ecd52",
       "value": " \n            100% ⏱️20:19 ⏳00:00 ⚙️40.17s/it"
      }
     },
     "e44c85e87b16466abdb9f74a7f6615ad": {
      "model_module": "@jupyter-widgets/controls",
      "model_module_version": "1.5.0",
      "model_name": "DescriptionStyleModel",
      "state": {
       "description_width": ""
      }
     },
     "e455e186844f4ceb94788392bc8af0a0": {
      "model_module": "@jupyter-widgets/controls",
      "model_module_version": "1.5.0",
      "model_name": "HTMLModel",
      "state": {
       "layout": "IPY_MODEL_7a864fe20d15472ca97f353c2a30a516",
       "style": "IPY_MODEL_c1d42443cee54b088f4463e8598fa084",
       "value": "📄 162328 of 162328 ⌚ timestamps from participant fdc06350-e1bb-4630-9d23-6631bb0a9498 processed: "
      }
     },
     "e4df2c24ee0e44c3b9c5515880f7fb22": {
      "model_module": "@jupyter-widgets/base",
      "model_module_version": "1.2.0",
      "model_name": "LayoutModel",
      "state": {
       "flex": "2"
      }
     },
     "e72a7cea8d1144c680f3ce1036a10d10": {
      "model_module": "@jupyter-widgets/controls",
      "model_module_version": "1.5.0",
      "model_name": "DescriptionStyleModel",
      "state": {
       "description_width": ""
      }
     },
     "e977255fd63f49d6938c55b01e0fb1a4": {
      "model_module": "@jupyter-widgets/base",
      "model_module_version": "1.2.0",
      "model_name": "LayoutModel",
      "state": {
       "flex": "2"
      }
     },
     "e980daba879c4fd59fd0bfc0c3b5eff3": {
      "model_module": "@jupyter-widgets/base",
      "model_module_version": "1.2.0",
      "model_name": "LayoutModel",
      "state": {}
     },
     "ea3ef835864b488ea4c48181bb335b9a": {
      "model_module": "@jupyter-widgets/controls",
      "model_module_version": "1.5.0",
      "model_name": "DescriptionStyleModel",
      "state": {
       "description_width": ""
      }
     },
     "ea45ac9782cd4d4db5c3345af1cb19e8": {
      "model_module": "@jupyter-widgets/controls",
      "model_module_version": "1.5.0",
      "model_name": "ProgressStyleModel",
      "state": {
       "description_width": ""
      }
     },
     "eb3ba15e70c840b398448b4484097dce": {
      "model_module": "@jupyter-widgets/controls",
      "model_module_version": "1.5.0",
      "model_name": "HBoxModel",
      "state": {
       "children": [
        "IPY_MODEL_fd346947aed34c0291706cc88852b4c2",
        "IPY_MODEL_0b44395e9b844f9a85e77ea1d1660008",
        "IPY_MODEL_129689e7b3e8487c9c32ebc7a8810030"
       ],
       "layout": "IPY_MODEL_86ca8becd3d34ee8af876bd80f14b4cc"
      }
     },
     "eb429fae45884559a5a233db085137ac": {
      "model_module": "@jupyter-widgets/controls",
      "model_module_version": "1.5.0",
      "model_name": "HTMLModel",
      "state": {
       "layout": "IPY_MODEL_29ec7afa19604f7d88af3ccf8705e6eb",
       "style": "IPY_MODEL_e44c85e87b16466abdb9f74a7f6615ad",
       "value": " \n            100% ⏱️31:24 ⏳00:00 ⚙️29.50s/it"
      }
     },
     "ec3cae0facd34a0b90db2c85bc92fc7a": {
      "model_module": "@jupyter-widgets/controls",
      "model_module_version": "1.5.0",
      "model_name": "DescriptionStyleModel",
      "state": {
       "description_width": ""
      }
     },
     "ec8efa26d066478e8c6140f09ff0aa03": {
      "model_module": "@jupyter-widgets/base",
      "model_module_version": "1.2.0",
      "model_name": "LayoutModel",
      "state": {}
     },
     "ed6b20e0de0647dfa20fca9bcc5031ad": {
      "model_module": "@jupyter-widgets/controls",
      "model_module_version": "1.5.0",
      "model_name": "HTMLModel",
      "state": {
       "layout": "IPY_MODEL_a34cad5fcd9543bf97c13f7c8a706a7e",
       "style": "IPY_MODEL_e72a7cea8d1144c680f3ce1036a10d10",
       "value": " \n            100% ⏱️13:40 ⏳00:00 ⚙️131.87it/s"
      }
     },
     "ee6d9df139044ebb8658307c661f31d0": {
      "model_module": "@jupyter-widgets/base",
      "model_module_version": "1.2.0",
      "model_name": "LayoutModel",
      "state": {
       "flex": "2"
      }
     },
     "ee9da629cb974e159f2088b59f7ceb74": {
      "model_module": "@jupyter-widgets/controls",
      "model_module_version": "1.5.0",
      "model_name": "HBoxModel",
      "state": {
       "children": [
        "IPY_MODEL_87f1f7d7bec34df1a15ad4931ac8e10f",
        "IPY_MODEL_7572901b77454ba2b8fb435e115efbf7",
        "IPY_MODEL_db74a8ec7f364bab9358756c1e52069b"
       ],
       "layout": "IPY_MODEL_4e89e10718d84bdf845b90e63410bf4c"
      }
     },
     "eea82f55892443b6984f8765431d834e": {
      "model_module": "@jupyter-widgets/controls",
      "model_module_version": "1.5.0",
      "model_name": "HTMLModel",
      "state": {
       "layout": "IPY_MODEL_8b53c13b6553481ba2bbd89443aa49ad",
       "style": "IPY_MODEL_e143d6e6814e47239fa8d1bd4b9dd932",
       "value": "📄 162386 of 162386 ⌚ timestamps from participant 817cb93e-061d-4ea6-a13d-31226246ff34 processed: "
      }
     },
     "eeb6c3d3f2cc40c9a3defb6447fa0d75": {
      "model_module": "@jupyter-widgets/controls",
      "model_module_version": "1.5.0",
      "model_name": "HTMLModel",
      "state": {
       "layout": "IPY_MODEL_9a2d7470ce5245f9825d7500311ead0f",
       "style": "IPY_MODEL_f6dc2b9dbdbe47d4ad01f8c4ef1f2b2a",
       "value": " \n            100% ⏱️28:59 ⏳00:00 ⚙️174.28it/s"
      }
     },
     "eebb3085e7dc4483845aedfa10947519": {
      "model_module": "@jupyter-widgets/base",
      "model_module_version": "1.2.0",
      "model_name": "LayoutModel",
      "state": {
       "flex": "2"
      }
     },
     "ef1f45fe1166451a8640f4eb0a1697a6": {
      "model_module": "@jupyter-widgets/controls",
      "model_module_version": "1.5.0",
      "model_name": "HTMLModel",
      "state": {
       "layout": "IPY_MODEL_036b37321cbc479a9646d0b2e8283f85",
       "style": "IPY_MODEL_bf2b17d73da540d6a4b2ebccc9a6403b",
       "value": "📄 161902 of 161902 ⌚ timestamps from participant 70656182-09b3-4c19-9ae2-0a2ab2e19fed processed: "
      }
     },
     "efc36b3f6ea142fcbcc8cdf97827c420": {
      "model_module": "@jupyter-widgets/base",
      "model_module_version": "1.2.0",
      "model_name": "LayoutModel",
      "state": {
       "display": "inline-flex",
       "flex_flow": "row wrap",
       "width": "100%"
      }
     },
     "f10990a669f54d27bcc34557113cd0ea": {
      "model_module": "@jupyter-widgets/controls",
      "model_module_version": "1.5.0",
      "model_name": "ProgressStyleModel",
      "state": {
       "description_width": ""
      }
     },
     "f1276d09270241bd817a2c9d7e422cae": {
      "model_module": "@jupyter-widgets/controls",
      "model_module_version": "1.5.0",
      "model_name": "HTMLModel",
      "state": {
       "layout": "IPY_MODEL_8b60a70a6a7e4d7b981516672dcbb347",
       "style": "IPY_MODEL_926aef744f694657b069a7ac0e48908f",
       "value": " \n            100% ⏱️00:52 ⏳00:00 ⚙️1597.40it/s"
      }
     },
     "f162890ba05a432e9ebdeaefc200f8af": {
      "model_module": "@jupyter-widgets/controls",
      "model_module_version": "1.5.0",
      "model_name": "ProgressStyleModel",
      "state": {
       "description_width": ""
      }
     },
     "f16fcf962e584a41b1f710062a2e20a5": {
      "model_module": "@jupyter-widgets/controls",
      "model_module_version": "1.5.0",
      "model_name": "DescriptionStyleModel",
      "state": {
       "description_width": ""
      }
     },
     "f1a14eb301744d05a30aafdecfd8d942": {
      "model_module": "@jupyter-widgets/controls",
      "model_module_version": "1.5.0",
      "model_name": "HBoxModel",
      "state": {
       "children": [
        "IPY_MODEL_baaf30d74bc54528be7eb5ae16dd8149",
        "IPY_MODEL_8cec9cdb6f4b410ba46747f56a3c8fae",
        "IPY_MODEL_d71f055595e844229699278a455dcfa8"
       ],
       "layout": "IPY_MODEL_b97b4c2fac0c40f991c30dc571736d0b"
      }
     },
     "f1a7e6989e2f483eafea948252d6a937": {
      "model_module": "@jupyter-widgets/controls",
      "model_module_version": "1.5.0",
      "model_name": "DescriptionStyleModel",
      "state": {
       "description_width": ""
      }
     },
     "f1bc87248a84468a9fc73f3e91cf0db1": {
      "model_module": "@jupyter-widgets/base",
      "model_module_version": "1.2.0",
      "model_name": "LayoutModel",
      "state": {
       "flex": "2"
      }
     },
     "f22a8cb0c2c04559b87ca3626274c049": {
      "model_module": "@jupyter-widgets/controls",
      "model_module_version": "1.5.0",
      "model_name": "HTMLModel",
      "state": {
       "layout": "IPY_MODEL_9ea46508fbe14a5bb46ada2b48d5f3af",
       "style": "IPY_MODEL_a01cd8ec69ef438faa281c8635ef043b",
       "value": "📄 151358 of 162480 ⌚ timestamps from participant 61c0f1aa-b3ef-497b-8b6e-8ec6f05f6c42 processed: "
      }
     },
     "f2813200527f4f1189ea3958aecc3dc6": {
      "model_module": "@jupyter-widgets/controls",
      "model_module_version": "1.5.0",
      "model_name": "HBoxModel",
      "state": {
       "children": [
        "IPY_MODEL_f624c0425bbb4b54a2a5af249f848fb3",
        "IPY_MODEL_4cdc57b5b14f44f889d1b266a5e88037",
        "IPY_MODEL_804f8da5bf2248ae82a0f768d082f80d"
       ],
       "layout": "IPY_MODEL_48321a072bc04133b65012340ffc941d"
      }
     },
     "f28d793d993349f89bda1499b0b76b48": {
      "model_module": "@jupyter-widgets/base",
      "model_module_version": "1.2.0",
      "model_name": "LayoutModel",
      "state": {
       "display": "inline-flex",
       "flex_flow": "row wrap",
       "width": "100%"
      }
     },
     "f2ae1b0c51ea45ee831f14fef8e9826a": {
      "model_module": "@jupyter-widgets/controls",
      "model_module_version": "1.5.0",
      "model_name": "DescriptionStyleModel",
      "state": {
       "description_width": ""
      }
     },
     "f2c3cbbbfd06421f9c684855d250973e": {
      "model_module": "@jupyter-widgets/controls",
      "model_module_version": "1.5.0",
      "model_name": "HTMLModel",
      "state": {
       "layout": "IPY_MODEL_0553be36a583495899af720ad1eba520",
       "style": "IPY_MODEL_06e907f67a644797a5144f039885302c",
       "value": "📄 162615 of 162615 ⌚ timestamps from participant 391543f6-7ff0-4ed3-aefd-c0ef68ebbbf3 processed: "
      }
     },
     "f2d38b41ea6f48ccb0a917ad443b0398": {
      "model_module": "@jupyter-widgets/controls",
      "model_module_version": "1.5.0",
      "model_name": "HTMLModel",
      "state": {
       "layout": "IPY_MODEL_b30e9253fcab44459a88c5ae5b241872",
       "style": "IPY_MODEL_be5bf835a64e44d5a0531e79bf8a44d8",
       "value": "📄 153051 of 162527 ⌚ timestamps from participant 623664e8-1ceb-48e0-abd0-46d447285980 processed: "
      }
     },
     "f2ef7a2955af4ec796b25bdf9f216cb1": {
      "model_module": "@jupyter-widgets/controls",
      "model_module_version": "1.5.0",
      "model_name": "HTMLModel",
      "state": {
       "layout": "IPY_MODEL_4ef6cdcc795840528063fc1c3efd5178",
       "style": "IPY_MODEL_0bae81e922554c83a87ea68c249909c8",
       "value": " \n            100% ⏱️28:12 ⏳00:00 ⚙️78.46it/s"
      }
     },
     "f2f7c3ad07624f219b36d42e6550a2fc": {
      "model_module": "@jupyter-widgets/controls",
      "model_module_version": "1.5.0",
      "model_name": "HTMLModel",
      "state": {
       "layout": "IPY_MODEL_d0273e4e424f4c4db995a27bfd5f3e17",
       "style": "IPY_MODEL_13097a57f5504831a14fcb04285e171a",
       "value": " \n            100% ⏱️05:09 ⏳00:00 ⚙️194.11it/s"
      }
     },
     "f4d6cedffaa046caa9722d2c0cc81ee2": {
      "model_module": "@jupyter-widgets/controls",
      "model_module_version": "1.5.0",
      "model_name": "HTMLModel",
      "state": {
       "layout": "IPY_MODEL_786b4296278a4e6c92941781d9fa5759",
       "style": "IPY_MODEL_7767807511b04b6ca605e41b9c53f59c",
       "value": "📄 162330 of 162330 ⌚ timestamps from participant fdc06350-e1bb-4630-9d23-6631bb0a9498 processed: "
      }
     },
     "f52b35a65f2f45748e54c5cbce7b80af": {
      "model_module": "@jupyter-widgets/base",
      "model_module_version": "1.2.0",
      "model_name": "LayoutModel",
      "state": {}
     },
     "f539f9a2fe50408c9045e9ea7144b007": {
      "model_module": "@jupyter-widgets/controls",
      "model_module_version": "1.5.0",
      "model_name": "FloatProgressModel",
      "state": {
       "bar_style": "success",
       "layout": "IPY_MODEL_1bf5b490df7e47c59611c697e5c02c2e",
       "max": 162386,
       "style": "IPY_MODEL_729b8b4cd6d94b379fdcccbee012207a",
       "value": 162386
      }
     },
     "f55e9058d7464a198bcdc7738e1104fd": {
      "model_module": "@jupyter-widgets/controls",
      "model_module_version": "1.5.0",
      "model_name": "DescriptionStyleModel",
      "state": {
       "description_width": ""
      }
     },
     "f5e439a6010b4989a0f2551ae97ed8f0": {
      "model_module": "@jupyter-widgets/base",
      "model_module_version": "1.2.0",
      "model_name": "LayoutModel",
      "state": {}
     },
     "f61e3f3e776a4c3e82a86635821cc44a": {
      "model_module": "@jupyter-widgets/controls",
      "model_module_version": "1.5.0",
      "model_name": "HBoxModel",
      "state": {
       "children": [
        "IPY_MODEL_2d5b406f800448138eb4438936075dc3",
        "IPY_MODEL_92371e4756fd46a386961c0bb289687b",
        "IPY_MODEL_ffa5a235c01e4c9e9bc73ed650d01a0f"
       ],
       "layout": "IPY_MODEL_79aa603293394c1b9627a46cd2cad983"
      }
     },
     "f624c0425bbb4b54a2a5af249f848fb3": {
      "model_module": "@jupyter-widgets/controls",
      "model_module_version": "1.5.0",
      "model_name": "HTMLModel",
      "state": {
       "layout": "IPY_MODEL_fa2a485291074ad49abaf255995dcef1",
       "style": "IPY_MODEL_4fee0a0620484c149628326b5aa0a7ba",
       "value": "📄 163022 of 163022 ⌚ timestamps from participant 097837f9-9a11-41f4-9c23-03987ba3ed9a processed: "
      }
     },
     "f6dc2b9dbdbe47d4ad01f8c4ef1f2b2a": {
      "model_module": "@jupyter-widgets/controls",
      "model_module_version": "1.5.0",
      "model_name": "DescriptionStyleModel",
      "state": {
       "description_width": ""
      }
     },
     "f782e9d006d94d7eaccd6cf1f69a8971": {
      "model_module": "@jupyter-widgets/controls",
      "model_module_version": "1.5.0",
      "model_name": "HTMLModel",
      "state": {
       "layout": "IPY_MODEL_02c1013f9b874b95ad8dafcaf941c77f",
       "style": "IPY_MODEL_f9ec39a5d09649b1bb6ce31a8baec6d1",
       "value": "📄 1 of 1 📂 participants processed: "
      }
     },
     "f79b798bc9c543879828433bc63ff68a": {
      "model_module": "@jupyter-widgets/controls",
      "model_module_version": "1.5.0",
      "model_name": "ProgressStyleModel",
      "state": {
       "description_width": ""
      }
     },
     "f870422b0f494ff99848645c36c5087d": {
      "model_module": "@jupyter-widgets/controls",
      "model_module_version": "1.5.0",
      "model_name": "HTMLModel",
      "state": {
       "layout": "IPY_MODEL_4fb4405a62ce408e8a470a61f01c2b30",
       "style": "IPY_MODEL_4564b98bc46148a1b6254611655afe5c",
       "value": "📄 162385 of 162385 ⌚ timestamps from participant 817cb93e-061d-4ea6-a13d-31226246ff34 processed: "
      }
     },
     "f8bd0facbf414477b28429ac8ddd4464": {
      "model_module": "@jupyter-widgets/base",
      "model_module_version": "1.2.0",
      "model_name": "LayoutModel",
      "state": {
       "flex": "2"
      }
     },
     "f908d0e970214b22af0adb43c82d9841": {
      "model_module": "@jupyter-widgets/controls",
      "model_module_version": "1.5.0",
      "model_name": "HTMLModel",
      "state": {
       "layout": "IPY_MODEL_3a332b48925a416689f084d8c63b68e9",
       "style": "IPY_MODEL_5de05111432d4957bc4deb61704780cd",
       "value": " \n            100% ⏱️29:13 ⏳00:00 ⚙️403.50it/s"
      }
     },
     "f9a3251a479f423f8d9d9aa22f770e0f": {
      "model_module": "@jupyter-widgets/controls",
      "model_module_version": "1.5.0",
      "model_name": "ProgressStyleModel",
      "state": {
       "description_width": ""
      }
     },
     "f9ec39a5d09649b1bb6ce31a8baec6d1": {
      "model_module": "@jupyter-widgets/controls",
      "model_module_version": "1.5.0",
      "model_name": "DescriptionStyleModel",
      "state": {
       "description_width": ""
      }
     },
     "f9fc623a517240f9bfbd3ad8724c71fb": {
      "model_module": "@jupyter-widgets/controls",
      "model_module_version": "1.5.0",
      "model_name": "DescriptionStyleModel",
      "state": {
       "description_width": ""
      }
     },
     "fa2a485291074ad49abaf255995dcef1": {
      "model_module": "@jupyter-widgets/base",
      "model_module_version": "1.2.0",
      "model_name": "LayoutModel",
      "state": {}
     },
     "fa493b5fdf234d36b9ebced7a6e0bc62": {
      "model_module": "@jupyter-widgets/base",
      "model_module_version": "1.2.0",
      "model_name": "LayoutModel",
      "state": {
       "flex": "2"
      }
     },
     "faf21606752d4e839c59df0f7fdaec22": {
      "model_module": "@jupyter-widgets/controls",
      "model_module_version": "1.5.0",
      "model_name": "ProgressStyleModel",
      "state": {
       "description_width": ""
      }
     },
     "fb19dde8d45143c9a49837d0d2039940": {
      "model_module": "@jupyter-widgets/controls",
      "model_module_version": "1.5.0",
      "model_name": "DescriptionStyleModel",
      "state": {
       "description_width": ""
      }
     },
     "fb532cab745b4345a03b31bb23ed45d2": {
      "model_module": "@jupyter-widgets/controls",
      "model_module_version": "1.5.0",
      "model_name": "FloatProgressModel",
      "state": {
       "bar_style": "success",
       "layout": "IPY_MODEL_73932cef64d84d5689de150791a98ad5",
       "max": 1,
       "style": "IPY_MODEL_2ac0e5f506e44d8790057ebbddee6bf4",
       "value": 1
      }
     },
     "fb5c9f05c9f940d09a971edcb80665c1": {
      "model_module": "@jupyter-widgets/base",
      "model_module_version": "1.2.0",
      "model_name": "LayoutModel",
      "state": {}
     },
     "fba5055906c1472c96de81d2a6af1604": {
      "model_module": "@jupyter-widgets/controls",
      "model_module_version": "1.5.0",
      "model_name": "HTMLModel",
      "state": {
       "layout": "IPY_MODEL_d91d7e011eb64fcf860d29cb740b8682",
       "style": "IPY_MODEL_1b34ce8c77d94feb8939ac8223d0bec4",
       "value": "📄 144401 of 162462 ⌚ timestamps from participant c4400578-a590-4cf5-abc2-0f634fb4443c processed: "
      }
     },
     "fbedb8fb867b477d958afde3da186cf9": {
      "model_module": "@jupyter-widgets/base",
      "model_module_version": "1.2.0",
      "model_name": "LayoutModel",
      "state": {}
     },
     "fd346947aed34c0291706cc88852b4c2": {
      "model_module": "@jupyter-widgets/controls",
      "model_module_version": "1.5.0",
      "model_name": "HTMLModel",
      "state": {
       "layout": "IPY_MODEL_b7ddd908325148b78785ddaac412d735",
       "style": "IPY_MODEL_4856134b97044956a979fb80c47faee0",
       "value": "📄 162357 of 162357 ⌚ timestamps from participant f25b9349-573e-4c97-974e-855d4b037c79 processed: "
      }
     },
     "fd55c6fd2c58430685f2edee1f7dd37e": {
      "model_module": "@jupyter-widgets/base",
      "model_module_version": "1.2.0",
      "model_name": "LayoutModel",
      "state": {}
     },
     "fd6ce13dd8af44ba95c00a24e22ad4d6": {
      "model_module": "@jupyter-widgets/base",
      "model_module_version": "1.2.0",
      "model_name": "LayoutModel",
      "state": {
       "display": "inline-flex",
       "flex_flow": "row wrap",
       "width": "100%"
      }
     },
     "fd8227751ec24e62aad12f1ce8387e61": {
      "model_module": "@jupyter-widgets/controls",
      "model_module_version": "1.5.0",
      "model_name": "HTMLModel",
      "state": {
       "layout": "IPY_MODEL_17f8cfa7ec904001ac1eef0d7ac8c31d",
       "style": "IPY_MODEL_3b9275afb74d40d383269bdf8c267d80",
       "value": "📄 144385 of 162613 ⌚ timestamps from participant 391543f6-7ff0-4ed3-aefd-c0ef68ebbbf3 processed: "
      }
     },
     "fdebfacb829040a19a9b011a1a652a64": {
      "model_module": "@jupyter-widgets/controls",
      "model_module_version": "1.5.0",
      "model_name": "DescriptionStyleModel",
      "state": {
       "description_width": ""
      }
     },
     "fe5dda15073e4bf4809bcfba2abd7224": {
      "model_module": "@jupyter-widgets/base",
      "model_module_version": "1.2.0",
      "model_name": "LayoutModel",
      "state": {
       "display": "inline-flex",
       "flex_flow": "row wrap",
       "width": "100%"
      }
     },
     "fe8c61c850f340a0a6f9ffbd7df21e93": {
      "model_module": "@jupyter-widgets/base",
      "model_module_version": "1.2.0",
      "model_name": "LayoutModel",
      "state": {
       "display": "inline-flex",
       "flex_flow": "row wrap",
       "width": "100%"
      }
     },
     "fef7dc94785441c69af7cf13559b3e2f": {
      "model_module": "@jupyter-widgets/controls",
      "model_module_version": "1.5.0",
      "model_name": "HTMLModel",
      "state": {
       "layout": "IPY_MODEL_78af2621b0114fc795ae7c7c2262cd35",
       "style": "IPY_MODEL_be5694c8fbe649ec88a52c785feb4bd0",
       "value": " \n            100% ⏱️28:14 ⏳00:00 ⚙️63.48it/s"
      }
     },
     "ff828071f53c45b9a792225e5510b32b": {
      "model_module": "@jupyter-widgets/controls",
      "model_module_version": "1.5.0",
      "model_name": "HTMLModel",
      "state": {
       "layout": "IPY_MODEL_d060615fa5a2445eae37c4aff5bf0604",
       "style": "IPY_MODEL_08f339db20844c2f89ab1d6311ff522a",
       "value": "📄 155054 of 162466 ⌚ timestamps from participant 20e8d35c-e7aa-4be3-a6e2-5b78f4cd44d8 processed: "
      }
     },
     "ffa5a235c01e4c9e9bc73ed650d01a0f": {
      "model_module": "@jupyter-widgets/controls",
      "model_module_version": "1.5.0",
      "model_name": "HTMLModel",
      "state": {
       "layout": "IPY_MODEL_32745a052b7c44b885a914a4ab580b1a",
       "style": "IPY_MODEL_8bac22a5b8ba4f369d19ce24de372a18",
       "value": " \n             88% ⏱️11:26 ⏳02:26 ⚙️132.86it/s"
      }
     }
    },
    "version_major": 2,
    "version_minor": 0
   }
  }
 },
 "nbformat": 4,
 "nbformat_minor": 5
}
