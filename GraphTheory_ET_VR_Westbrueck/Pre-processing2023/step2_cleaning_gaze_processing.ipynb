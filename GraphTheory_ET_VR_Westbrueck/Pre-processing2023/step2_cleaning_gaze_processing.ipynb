{
 "cells": [
  {
   "cell_type": "code",
   "execution_count": 13,
   "id": "e6dd86b0-7e28-46d4-84f0-79d5570d2a6d",
   "metadata": {},
   "outputs": [
    {
     "name": "stdin",
     "output_type": "stream",
     "text": [
      "Once deleted, variables cannot be recovered. Proceed (y/[n])?  y\n"
     ]
    }
   ],
   "source": [
    "#%reset"
   ]
  },
  {
   "cell_type": "markdown",
   "id": "26bbe777-3b11-41b9-aaf0-d88f8269d265",
   "metadata": {},
   "source": [
    "__Data Saved:__"
   ]
  },
  {
   "cell_type": "markdown",
   "id": "8098e119-7baa-4812-a568-c7696725e620",
   "metadata": {},
   "source": [
    "- __{PATH_FOREYE}/correTS_{uid}.csv__ --> corrected ET + HT coordinates + calculated velocities\n",
    "- __{PATH_FOREYE}/interval_mad_{uid}.csv__ --> periods in which saccade threshold is calculated + ET, HT thresholds"
   ]
  },
  {
   "cell_type": "markdown",
   "id": "ceef06cb-ed7e-459f-ad6a-32f88829b077",
   "metadata": {
    "tags": []
   },
   "source": [
    "# Preprocessing"
   ]
  },
  {
   "cell_type": "code",
   "execution_count": 3,
   "id": "76aec9af-0062-4528-94f7-37c5e27955e4",
   "metadata": {
    "scrolled": true,
    "tags": []
   },
   "outputs": [],
   "source": [
    "import copy  # copy big/deep objects by value\n",
    "import csv\n",
    "import datetime  # datetime operations\n",
    "import itertools  # operate with iterators\n",
    "import json  # read/write from/into json format\n",
    "import math\n",
    "import os  # OS operations (read/write files/folders)\n",
    "import sys\n",
    "import time\n",
    "import warnings  # hide warnings\n",
    "from collections import Counter\n",
    "from itertools import groupby\n",
    "import matplotlib\n",
    "\n",
    "# process parallelization\n",
    "from multiprocessing import Manager, Pool, RawArray, cpu_count\n",
    "from os.path import exists\n",
    "\n",
    "import matplotlib.pyplot as plt  # mother of plots focr Python\n",
    "\n",
    "# import mlxtend\n",
    "import numpy as np  # array/matrix operations (e.g. linear algebra)\n",
    "import pandas as pd  # operate with dataframes\n",
    "import pyxdf  # read XDF files (LSL streams recordings)\n",
    "\n",
    "import scipy.stats\n",
    "import seaborn as sns  # matplotlib plotting nice with shortcuts\n",
    "from IPython.display import Markdown, display  # print nicely\n",
    "from ipywidgets import IntProgress\n",
    "#from matplotlib.pyplot import cm\n",
    "from scipy.signal import savgol_coeffs\n",
    "from tqdm.notebook import tqdm, trange  # mother of progressbars\n",
    "from scipy.stats import ks_2samp"
   ]
  },
  {
   "cell_type": "code",
   "execution_count": 4,
   "id": "84cb98c2-f949-4d7a-b0c5-36ce51720427",
   "metadata": {},
   "outputs": [
    {
     "name": "stdout",
     "output_type": "stream",
     "text": [
      "Total CPU threads: 32\n"
     ]
    }
   ],
   "source": [
    "# warnings.simplefilter(action=\"ignore\", category=FutureWarning)\n",
    "\n",
    "# raw and processed data paths\n",
    "PATH_RAW = \"C:/Users/schmi/Documents/PhD_Osnabruck_University/SpaRe-VR/Spare-VR-EEG/27.07.23/data\"\n",
    "PATH_PROC = \"C:/Users/schmi/Documents/PhD_Osnabruck_University/SpaRe-VR/Spare-VR-EEG/EEG_Data_Skripte_Debbie/Events\"\n",
    "PATH_FOREYE = \"C:/Users/schmi/Documents/PhD_Osnabruck_University/SpaRe-VR/Spare-VR-EEG/EEG_Data_Skripte_Debbie/ET_Output_MAD-sacc\"\n",
    "PATH_TRG = \"C:/Users/schmi/Documents/PhD_Osnabruck_University/SpaRe-VR/Spare-VR-EEG/EEG_Data_Skripte_Debbie/TriggerFiles_fEEG\"\n",
    "\n",
    "\n",
    "# specify decimals format on pandas tables\n",
    "pd.options.display.float_format = \"{:.3f}\".format\n",
    "\n",
    "# inline static plotting (default)\n",
    "%matplotlib inline\n",
    "# interactive plotting\n",
    "# %matplotlib widget\n",
    "\n",
    "# progress bar customized format\n",
    "B_FORMAT = \"\"\"📄 {n_fmt} of {total_fmt} {desc} processed: {bar} \n",
    "            {percentage:3.0f}% ⏱️{elapsed} ⏳{remaining} ⚙️{rate_fmt}{postfix}\"\"\"\n",
    "\n",
    "\n",
    "CORES = cpu_count()  # number of cpu threads for multiprocessing\n",
    "print(f\"Total CPU threads: {CORES}\")\n",
    "\n",
    "\n",
    "def pbar_fork_hack():\n",
    "    \"\"\"\n",
    "    Hack to enforce progress bars to be displayed by fork processes on\n",
    "    IPython Apps like Jupyter Notebooks.\n",
    "\n",
    "    Avoids [IPKernelApp] WARNING | WARNING: attempted to send message from fork\n",
    "\n",
    "    Important: pass this function as argument for the initializer parameter\n",
    "    while initializing a multiprocessing pool to make it work. E.g.:\n",
    "\n",
    "    pool = Pool(processes=N_CORES, initializer=pbar_fork_hack)\n",
    "\n",
    "    Source:\n",
    "     - https://github.com/ipython/ipython/issues/11049#issue-306086846\n",
    "     - https://github.com/tqdm/tqdm/issues/485#issuecomment-473338308\n",
    "    \"\"\"\n",
    "    print(\" \", end=\"\", flush=True)"
   ]
  },
  {
   "cell_type": "code",
   "execution_count": 5,
   "id": "09f309be-343e-4419-9131-b67c2d25ed33",
   "metadata": {},
   "outputs": [
    {
     "data": {
      "text/html": [
       "<div>\n",
       "<style scoped>\n",
       "    .dataframe tbody tr th:only-of-type {\n",
       "        vertical-align: middle;\n",
       "    }\n",
       "\n",
       "    .dataframe tbody tr th {\n",
       "        vertical-align: top;\n",
       "    }\n",
       "\n",
       "    .dataframe thead th {\n",
       "        text-align: right;\n",
       "    }\n",
       "</style>\n",
       "<table border=\"1\" class=\"dataframe\">\n",
       "  <thead>\n",
       "    <tr style=\"text-align: right;\">\n",
       "      <th></th>\n",
       "      <th>file</th>\n",
       "      <th>created</th>\n",
       "      <th>length</th>\n",
       "      <th>start</th>\n",
       "      <th>old_id</th>\n",
       "    </tr>\n",
       "    <tr>\n",
       "      <th>new_id</th>\n",
       "      <th></th>\n",
       "      <th></th>\n",
       "      <th></th>\n",
       "      <th></th>\n",
       "      <th></th>\n",
       "    </tr>\n",
       "  </thead>\n",
       "  <tbody>\n",
       "    <tr>\n",
       "      <th>18d7a183-6a4a-4778-bd24-e74a388ffaaa</th>\n",
       "      <td>sub-P1_ses-S1_task-Default_run-001_eeg.xdf</td>\n",
       "      <td>2023-07-27 12:56:00</td>\n",
       "      <td>34' 5\"</td>\n",
       "      <td>1192539.221</td>\n",
       "      <td>18d7a183-6a4a-4778-bd24-e74a388ffaaa</td>\n",
       "    </tr>\n",
       "  </tbody>\n",
       "</table>\n",
       "</div>"
      ],
      "text/plain": [
       "                                                                            file  \\\n",
       "new_id                                                                             \n",
       "18d7a183-6a4a-4778-bd24-e74a388ffaaa  sub-P1_ses-S1_task-Default_run-001_eeg.xdf   \n",
       "\n",
       "                                                  created  length       start  \\\n",
       "new_id                                                                          \n",
       "18d7a183-6a4a-4778-bd24-e74a388ffaaa  2023-07-27 12:56:00  34' 5\" 1192539.221   \n",
       "\n",
       "                                                                    old_id  \n",
       "new_id                                                                      \n",
       "18d7a183-6a4a-4778-bd24-e74a388ffaaa  18d7a183-6a4a-4778-bd24-e74a388ffaaa  "
      ]
     },
     "execution_count": 5,
     "metadata": {},
     "output_type": "execute_result"
    }
   ],
   "source": [
    "recordings = pd.read_csv(\"C:/Users/Schmi/Documents/PhD_Osnabruck_University/SpaRe-VR/Spare-VR-EEG/RecordingInfoPilot1_expl.csv\", index_col=0)\n",
    "recordings\n"
   ]
  },
  {
   "cell_type": "code",
   "execution_count": 6,
   "id": "92584981-ae30-40e5-a069-f22765bd2b23",
   "metadata": {},
   "outputs": [],
   "source": [
    "# This will be used to select which version to use\n",
    "# 1 == MAD_woBig # this is the version we should use (data-driven)\n",
    "# 2 == 10_sec\n",
    "define_intervals = 1"
   ]
  },
  {
   "cell_type": "markdown",
   "id": "c3527758-eda8-4190-a428-676dc33dfb1a",
   "metadata": {
    "jp-MarkdownHeadingCollapsed": true,
    "tags": []
   },
   "source": [
    "# Function at_mad"
   ]
  },
  {
   "cell_type": "code",
   "execution_count": 7,
   "id": "8fe9cdae-d23b-4091-bfe8-6227e270b81b",
   "metadata": {},
   "outputs": [],
   "source": [
    "# Function: calculate MAD saccade\n",
    "def at_mad(angular_vel, th_0=200):\n",
    "    # defines the saccade threshold (code from Ashima)\n",
    "    threshs = []\n",
    "    while True:\n",
    "        # take th_0\n",
    "        threshs.append(th_0)\n",
    "        # get all angles smaller than this\n",
    "        angular_vel = angular_vel[angular_vel < th_0]\n",
    "\n",
    "        # MAD:\n",
    "        # take the median of all angles smaller than th_0\n",
    "        median = np.median(angular_vel)\n",
    "        # substract the median value\n",
    "        diff = np.sqrt((angular_vel - median) ** 2)\n",
    "        # get the median of these values\n",
    "        med_abs_deviation = np.median(diff)\n",
    "\n",
    "        # calcualte the next threshold with the median\n",
    "        # 1.486 used when assuming a normal distribution\n",
    "        th_1 = median + 3 * 1.486 * med_abs_deviation\n",
    "        # if the thresholds are too different, redo the while loop\n",
    "        if abs(th_0 - th_1) > 1:\n",
    "            th_0 = th_1\n",
    "        # else, set the final threshold to the current one, break the while loop and return values\n",
    "        else:\n",
    "            saccade_thresh = th_1\n",
    "            threshs.append(saccade_thresh)\n",
    "            break\n",
    "    return saccade_thresh, threshs"
   ]
  },
  {
   "cell_type": "markdown",
   "id": "ddca7bfa-372a-4213-9dc5-e452a4ceeaca",
   "metadata": {
    "tags": []
   },
   "source": [
    "# Done with new folder! Preprocess Data, Interpolate Blinks"
   ]
  },
  {
   "cell_type": "code",
   "execution_count": 6,
   "id": "bf465f9a",
   "metadata": {},
   "outputs": [
    {
     "data": {
      "application/vnd.jupyter.widget-view+json": {
       "model_id": "2a2acbb9ce264bac8aa22de2c6c59f94",
       "version_major": 2,
       "version_minor": 0
      },
      "text/plain": [
       "📄 0 of 1 📂 participants processed:            \n",
       "              0% ⏱️00:00 ⏳? ⚙️?it/s"
      ]
     },
     "metadata": {},
     "output_type": "display_data"
    },
    {
     "data": {
      "application/vnd.jupyter.widget-view+json": {
       "model_id": "de792d8a6d39479fa583414a8a8ebb59",
       "version_major": 2,
       "version_minor": 0
      },
      "text/plain": [
       "📄 0 of 159252 ⌚ timestamps from participant 18d7a183-6a4a-4778-bd24-e74a388ffaaa processed:            \n",
       "      …"
      ]
     },
     "metadata": {},
     "output_type": "display_data"
    }
   ],
   "source": [
    "### Final Adjustment Blinks\n",
    "def generate_for_eye(uid):\n",
    "    \"\"\"\n",
    "    Correct is an event is too small.\n",
    "\n",
    "    Parameters:\n",
    "        uid (str): Participant identifier.\n",
    "    \"\"\"\n",
    "\n",
    "    # replacement for nans\n",
    "    nanrep = np.nan\n",
    "\n",
    "    # to determin the area around the blinks\n",
    "    min_blink_duration = 0.02\n",
    "    dilate_nan = 0.023  # add it as two samples before and after blink onset # In paper: 0.01 (<1 sample), therefore we use 0.023 (2 samples)\n",
    "\n",
    "    # get the cooridnates\n",
    "    hit_sort = pd.read_csv(f\"{PATH_PROC}/Behavior_new_{uid}.csv\", index_col=0)\n",
    "    hit_pos = pd.read_csv(f\"{PATH_PROC}/HitsSorted_new_{uid}.csv\", index_col=0)\n",
    "\n",
    "    # delete identical rows:\n",
    "    hit_sort = hit_sort[~hit_sort.index.duplicated(keep=\"first\")]\n",
    "    hit_pos = hit_pos[~hit_pos.index.duplicated(keep=\"first\")]\n",
    "\n",
    "    # ETW_direction:\n",
    "    x_coord = hit_sort[\"eyeDirectionCombinedWorld.x\"].tolist()\n",
    "    y_coord = hit_sort[\"eyeDirectionCombinedWorld.y\"].tolist()\n",
    "    z_coord = hit_sort[\"eyeDirectionCombinedWorld.z\"].tolist()\n",
    "    # ETW_origin:\n",
    "    x_coord_orig = hit_sort[\"eyePositionCombinedWorld.x\"].tolist()\n",
    "    y_coord_orig = hit_sort[\"eyePositionCombinedWorld.y\"].tolist()\n",
    "    z_coord_orig = hit_sort[\"eyePositionCombinedWorld.z\"].tolist()\n",
    "    # ETL_direction:\n",
    "    x_local_dir = hit_sort[\"eyeDirectionCombinedLocal.x\"].tolist()\n",
    "    y_local_dir = hit_sort[\"eyeDirectionCombinedLocal.y\"].tolist()\n",
    "    z_local_dir = hit_sort[\"eyeDirectionCombinedLocal.z\"].tolist()\n",
    "    # HT_direction:\n",
    "    x_head = hit_sort[\"hmdDirectionForward.x\"].tolist()\n",
    "    y_head = hit_sort[\"hmdDirectionForward.y\"].tolist()\n",
    "    z_head = hit_sort[\"hmdDirectionForward.z\"].tolist()\n",
    "    # HT_origin:\n",
    "    x_head_orig = hit_sort[\"hmdPosition.x\"].tolist()\n",
    "    y_head_orig = hit_sort[\"hmdPosition.y\"].tolist()\n",
    "    z_head_orig = hit_sort[\"hmdPosition.z\"].tolist()\n",
    "    # HitPos\n",
    "    hpoo_x = hit_pos[\"HitPointOnObject.x\"].tolist()\n",
    "    hpoo_y = hit_pos[\"HitPointOnObject.y\"].tolist()\n",
    "    hpoo_z = hit_pos[\"HitPointOnObject.z\"].tolist()\n",
    "    # hon\n",
    "    hon = hit_pos[\"hitObjectColliderName\"].tolist()\n",
    "    # HitObjectPosition\n",
    "    hop_x = hit_pos[\"ObjectColliderBoundsCenter.x\"].tolist()\n",
    "    hop_y = hit_pos[\"ObjectColliderBoundsCenter.y\"].tolist()\n",
    "    hop_z = hit_pos[\"ObjectColliderBoundsCenter.z\"].tolist()\n",
    "    \n",
    "    # and get the timestamps\n",
    "    times = hit_sort.index.tolist()\n",
    "    times_hpoo = hit_pos.index.tolist()\n",
    "    \n",
    "    # get a list with True == valid (so eyes open) and False == invalid (so eyes closed/not detected)\n",
    "    filt = ((hit_sort[\"gazeValidityCLR.Combined\"] != 8) & \n",
    "            ((hit_sort[\"eyeOpennessLR.LeftEye\"] >= 0.05) | (hit_sort[\"eyeOpennessLR.RightEye\"] >= 0.05)) & \n",
    "            ((hit_sort[\"LeftEye_mm\"] != -1) | (hit_sort[\"RightEye_mm\"] != -1)))\n",
    "\n",
    "    #hit_sort['valid'] = filt\n",
    "    valid = filt.tolist()\n",
    "\n",
    "    # to check how many close samples there were\n",
    "    cnt = False\n",
    "    cnt_item = 0.0\n",
    "\n",
    "    # to get the blink onset\n",
    "    blinking = False  # will be true during the blinking\n",
    "    blink_time = 0.0  # will be updated to blink onset\n",
    "    blinks = [0.0] * len(times)\n",
    "   \n",
    "\n",
    "    # times progress bar\n",
    "    times_pbar = tqdm(\n",
    "        iterable=times,\n",
    "        desc=f\"⌚ timestamps from participant {uid}\",\n",
    "        dynamic_ncols=True,\n",
    "        bar_format=B_FORMAT,\n",
    "    )\n",
    "    \n",
    "    # go through the entire list of timestamps\n",
    "    for t, item in enumerate(times_pbar):\n",
    "        # if this is not part of the hpoo:\n",
    "        if not item in times_hpoo:\n",
    "            hpoo_x.insert(t, nanrep)\n",
    "            hpoo_y.insert(t, nanrep)\n",
    "            hpoo_z.insert(t, nanrep)\n",
    "            hon.insert(t, nanrep)\n",
    "            hop_x.insert(t, nanrep)\n",
    "            hop_y.insert(t, nanrep)\n",
    "            hop_z.insert(t, nanrep)\n",
    "            times_hpoo.insert(t, item)\n",
    "\n",
    "        # to check for blinks: get blink onset\n",
    "        if (valid[t] == False) and not blinking:\n",
    "            blinking = True\n",
    "            # get the time of blinking onset\n",
    "            blink_time = item\n",
    "        # if they are over, do:\n",
    "        elif valid[t] == True and blinking:\n",
    "            # reset the blinking parameter\n",
    "            blinking = False\n",
    "            # get the end of the blink (so the previous time stamp)\n",
    "            it = times[t - 1]\n",
    "            # if the blink duration is bigger than the min blink duration:\n",
    "            # adapt the blink duration plus the dialate_nan\n",
    "            if it - blink_time >= min_blink_duration:\n",
    "                # we want to exchange all the items with nan, so get the time interval we need to change it in:\n",
    "                ts = times[\n",
    "                    times.index(\n",
    "                        list(\n",
    "                            filter(\n",
    "                                lambda i: i >= (blink_time - dilate_nan), times\n",
    "                            )\n",
    "                        )[0]\n",
    "                    ) : times.index(\n",
    "                        list(filter(lambda i: i <= (it + dilate_nan), times))[\n",
    "                            -1\n",
    "                        ]\n",
    "                    )\n",
    "                    + 1\n",
    "                ]  # get all timestamps in the important time window\n",
    "                for t_s in ts:\n",
    "                    # if this is not part of the hpoo (as we add two elements after the current one):\n",
    "                    if not t_s in times_hpoo:\n",
    "                        hpoo_x.insert(times.index(t_s), nanrep)\n",
    "                        hpoo_y.insert(times.index(t_s), nanrep)\n",
    "                        hpoo_z.insert(times.index(t_s), nanrep)\n",
    "                        hon.insert(times.index(t_s), nanrep)\n",
    "                        hop_x.insert(times.index(t_s), nanrep)\n",
    "                        hop_y.insert(times.index(t_s), nanrep)\n",
    "                        hop_z.insert(times.index(t_s), nanrep)\n",
    "                        times_hpoo.insert(times.index(t_s), item)\n",
    "\n",
    "                    # ETW\n",
    "                    x_coord[times.index(t_s)] = nanrep\n",
    "                    y_coord[times.index(t_s)] = nanrep\n",
    "                    z_coord[times.index(t_s)] = nanrep\n",
    "                    # ETW_orig\n",
    "                    x_coord_orig[times.index(t_s)] = nanrep\n",
    "                    y_coord_orig[times.index(t_s)] = nanrep\n",
    "                    z_coord_orig[times.index(t_s)] = nanrep\n",
    "                    # ETL\n",
    "                    x_local_dir[times.index(t_s)] = nanrep\n",
    "                    x_local_dir[times.index(t_s)] = nanrep\n",
    "                    x_local_dir[times.index(t_s)] = nanrep\n",
    "                    # HT_dir\n",
    "                    x_head[times.index(t_s)] = nanrep\n",
    "                    y_head[times.index(t_s)] = nanrep\n",
    "                    z_head[times.index(t_s)] = nanrep\n",
    "                    # HT_orig\n",
    "                    x_head_orig[times.index(t_s)] = nanrep\n",
    "                    y_head_orig[times.index(t_s)] = nanrep\n",
    "                    z_head_orig[times.index(t_s)] = nanrep\n",
    "                    # hpoo\n",
    "                    hpoo_x[times.index(t_s)] = nanrep\n",
    "                    hpoo_y[times.index(t_s)] = nanrep\n",
    "                    hpoo_z[times.index(t_s)] = nanrep\n",
    "                    hon[times.index(t_s)] = nanrep\n",
    "                    # hop\n",
    "                    hop_x[times.index(t_s)] = nanrep\n",
    "                    hop_y[times.index(t_s)] = nanrep\n",
    "                    hop_z[times.index(t_s)] = nanrep\n",
    "                    # add the number to blinks\n",
    "                    blinks[times.index(t_s)] = nanrep\n",
    "            # if the blink duration is too small, we do not add an additional window around it\n",
    "            else:\n",
    "                ts = times[\n",
    "                    times.index(\n",
    "                        list(filter(lambda i: i >= (blink_time), times))[0]\n",
    "                    ) : times.index(\n",
    "                        list(filter(lambda i: i <= (it), times))[-1]\n",
    "                    )\n",
    "                    + 1\n",
    "                ]  # get all timestamps in the important time window\n",
    "                for t_s in ts:\n",
    "                    # ETW\n",
    "                    x_coord[times.index(t_s)] = nanrep\n",
    "                    y_coord[times.index(t_s)] = nanrep\n",
    "                    z_coord[times.index(t_s)] = nanrep\n",
    "                    # ETW_orig\n",
    "                    x_coord_orig[times.index(t_s)] = nanrep\n",
    "                    y_coord_orig[times.index(t_s)] = nanrep\n",
    "                    z_coord_orig[times.index(t_s)] = nanrep\n",
    "                    # ETL\n",
    "                    x_local_dir[times.index(t_s)] = nanrep\n",
    "                    x_local_dir[times.index(t_s)] = nanrep\n",
    "                    x_local_dir[times.index(t_s)] = nanrep\n",
    "                    # HT_dir\n",
    "                    x_head[times.index(t_s)] = nanrep\n",
    "                    y_head[times.index(t_s)] = nanrep\n",
    "                    z_head[times.index(t_s)] = nanrep\n",
    "                    # HT_orig\n",
    "                    x_head_orig[times.index(t_s)] = nanrep\n",
    "                    y_head_orig[times.index(t_s)] = nanrep\n",
    "                    z_head_orig[times.index(t_s)] = nanrep\n",
    "                    # hpoo\n",
    "                    hpoo_x[times.index(t_s)] = nanrep\n",
    "                    hpoo_y[times.index(t_s)] = nanrep\n",
    "                    hpoo_z[times.index(t_s)] = nanrep\n",
    "                    hon[times.index(t_s)] = nanrep\n",
    "                    # hop\n",
    "                    hop_x[times.index(t_s)] = nanrep\n",
    "                    hop_y[times.index(t_s)] = nanrep\n",
    "                    hop_z[times.index(t_s)] = nanrep\n",
    "    \n",
    "\n",
    "    \n",
    "    # go through the other list and delete all elmenets that are not in time\n",
    "    # so all the elements that we cannot add the the .csv like this\n",
    "    to_del = list(set(times_hpoo) - set(times))\n",
    "    for i in to_del:\n",
    "        hpoo_x.pop(times_hpoo.index(i))\n",
    "        hpoo_y.pop(times_hpoo.index(i))\n",
    "        hpoo_z.pop(times_hpoo.index(i))\n",
    "        times_hpoo.pop(times_hpoo.index(i))\n",
    "        hop_x.pop(times_hpoo.index(i))\n",
    "        hop_y.pop(times_hpoo.index(i))\n",
    "        hop_z.pop(times_hpoo.index(i))\n",
    "\n",
    "    # hon: interpolate if there is only one nan between the same colliders\n",
    "    for h in range(len(hon) - 2):\n",
    "        if hon[h + 2] == hon[h] and pd.isnull(hon[h + 1]):\n",
    "            hon[h + 1] = hon[h]\n",
    "    # hon: now get the first only collider\n",
    "    new_col = [\n",
    "        hon[n] if hon[n] != hon[n - 1] and not pd.isnull(hon[n]) else np.nan\n",
    "        for n in range(len(hon))\n",
    "    ]\n",
    "\n",
    "\n",
    "    # create a df out of all the important lists:\n",
    "    for_eye = list(\n",
    "        zip(\n",
    "            times,\n",
    "            valid,\n",
    "            x_coord,\n",
    "            y_coord,\n",
    "            z_coord,\n",
    "            x_coord_orig,\n",
    "            y_coord_orig,\n",
    "            z_coord_orig,\n",
    "            x_local_dir,\n",
    "            y_local_dir,\n",
    "            z_local_dir,\n",
    "            x_head,\n",
    "            y_head,\n",
    "            z_head,\n",
    "            x_head_orig,\n",
    "            y_head_orig,\n",
    "            z_head_orig,\n",
    "            hpoo_x,\n",
    "            hpoo_y,\n",
    "            hpoo_z,\n",
    "            new_col,\n",
    "            hon,\n",
    "            hop_x,\n",
    "            hop_y,\n",
    "            hop_z,\n",
    "            blinks,\n",
    "        )\n",
    "    )\n",
    "    for_eye = pd.DataFrame(\n",
    "        for_eye,\n",
    "        columns=[\n",
    "            \"time\",\n",
    "            \"valid\",\n",
    "            \"eyeDirectionCombinedWorld.x\",\n",
    "            \"eyeDirectionCombinedWorld.y\",\n",
    "            \"eyeDirectionCombinedWorld.z\",\n",
    "            \"eyePositionCombinedWorld.x\",\n",
    "            \"eyePositionCombinedWorld.y\",\n",
    "            \"eyePositionCombinedWorld.z\",\n",
    "            \"eyeDirectionCombinedLocal.x\",\n",
    "            \"eyeDirectionCombinedLocal.y\",\n",
    "            \"eyeDirectionCombinedLocal.z\",\n",
    "            \"hmdDirectionForward.x\",\n",
    "            \"hmdDirectionForward.y\",\n",
    "            \"hmdDirectionForward.z\",\n",
    "            \"hmdPosition.x\",\n",
    "            \"hmdPosition.y\",\n",
    "            \"hmdPosition.z\",\n",
    "            \"HitPointOnObject.x\",\n",
    "            \"HitPointOnObject.y\",\n",
    "            \"HitPointOnObject.z\",\n",
    "            # VS: This is like HitObjectColliderName_all but subsequent hits on the same collider are nan\n",
    "            \"hitObjectColliderName\",\n",
    "            \"hitObjectColliderName_all\", \n",
    "            \"ObjectColliderBoundsCenter.x\",\n",
    "            \"ObjectColliderBoundsCenter.y\",\n",
    "            \"ObjectColliderBoundsCenter.z\",\n",
    "            \"blinks\",\n",
    "        ],\n",
    "    )\n",
    "    for_eye.set_index(\"time\")\n",
    "    \n",
    "    # interpolate\n",
    "    for column_name in for_eye:\n",
    "        # do not interpolate these columns\n",
    "        if column_name not in [\n",
    "            \"time\",\n",
    "            \"valid\",\n",
    "            # \"blinks\",\n",
    "            \"hon\",\n",
    "            \"hon_all\",\n",
    "        ]:\n",
    "            b = for_eye[column_name].values.tolist()\n",
    "            # get number of nan\n",
    "            v = [\n",
    "                len(list(group))\n",
    "                for key, group in groupby(b, key=pd.isnull)\n",
    "                if key\n",
    "            ]\n",
    "\n",
    "            # get corresponding time for each group in v\n",
    "            idx = [\n",
    "                idx + 1\n",
    "                for idx in range(len(b) - 1)\n",
    "                if not pd.isnull(b[idx]) and pd.isnull(b[idx + 1])\n",
    "            ]\n",
    "            if pd.isnull(b[0]):\n",
    "                idx.insert(\n",
    "                    0, 0\n",
    "                )  # if the first element is nan, it will be added here\n",
    "\n",
    "            # interpolate data\n",
    "            for_eye[column_name] = for_eye[column_name].interpolate(\n",
    "                method=\"linear\", limit_direction=\"both\"\n",
    "            )\n",
    "            # go through v: if the beginning and end difference is bigger than allowed, replace interpolated data with nan\n",
    "            b = for_eye[column_name].values.tolist()\n",
    "            b = np.array(\n",
    "                b\n",
    "            )  # for the filling in an array is needed instead of a list\n",
    "            for t, item in enumerate(idx):\n",
    "                # finish for the last timestamp\n",
    "                if item + v[t] == len(times):\n",
    "                    break\n",
    "                # if the distance is bigger then 250ms we do not want to interpolate --> replace values with nan\n",
    "                if times[item + v[t]] - times[item] > 0.25:\n",
    "                    b[item : item + v[t]] = np.nan * len(b[item : item + v[t]])\n",
    "\n",
    "            # replace the column with interpolated one\n",
    "            for_eye[column_name] = b.tolist()\n",
    "\n",
    "    \n",
    "    # save df:\n",
    "    for_eye.to_csv(f\"{PATH_FOREYE}/correTS_{uid}.csv\", index=True)\n",
    "    \n",
    "    \n",
    "# participants ids\n",
    "ids = recordings.index.tolist()\n",
    "idd = ids[:]\n",
    "\n",
    "# participants progress bar\n",
    "parts_pbar = tqdm(\n",
    "    iterable=idd,\n",
    "    total=len(idd),\n",
    "    desc=\"📂 participants\",\n",
    "    dynamic_ncols=True,\n",
    "    bar_format=B_FORMAT,\n",
    ")\n",
    "\n",
    "# loop necessary for displaying properly the progressbar with multiprocessing\n",
    "# source: https://stackoverflow.com/a/40133278\n",
    "for i in parts_pbar:\n",
    "    generate_for_eye(i)"
   ]
  },
  {
   "cell_type": "markdown",
   "id": "9a891f7f-8954-44af-918e-b2c8ae20e2e6",
   "metadata": {
    "jp-MarkdownHeadingCollapsed": true,
    "tags": []
   },
   "source": [
    "# Done with new folder! Smoothing the Data: 5-point median Filter"
   ]
  },
  {
   "cell_type": "code",
   "execution_count": 7,
   "id": "7e435c2c-ee50-443b-98f2-9d43f391ff09",
   "metadata": {
    "tags": []
   },
   "outputs": [
    {
     "data": {
      "text/plain": [
       "'18d7a183-6a4a-4778-bd24-e74a388ffaaa'"
      ]
     },
     "metadata": {},
     "output_type": "display_data"
    },
    {
     "name": "stderr",
     "output_type": "stream",
     "text": [
      "C:\\Users\\schmi\\AppData\\Local\\Temp\\ipykernel_18720\\1211250631.py:28: RuntimeWarning: All-NaN slice encountered\n",
      "  np.nanmedian([Xcorr_position_old[s - 2 : s + 3]])\n",
      "C:\\Users\\schmi\\AppData\\Local\\Temp\\ipykernel_18720\\1211250631.py:31: RuntimeWarning: All-NaN slice encountered\n",
      "  np.nanmedian([Ycorr_position_old[s - 2 : s + 3]])\n",
      "C:\\Users\\schmi\\AppData\\Local\\Temp\\ipykernel_18720\\1211250631.py:34: RuntimeWarning: All-NaN slice encountered\n",
      "  np.nanmedian([Zcorr_position_old[s - 2 : s + 3]])\n",
      "C:\\Users\\schmi\\AppData\\Local\\Temp\\ipykernel_18720\\1211250631.py:37: RuntimeWarning: All-NaN slice encountered\n",
      "  hpooX.append(np.nanmedian([hpooX_old[s - 2 : s + 3]]))\n",
      "C:\\Users\\schmi\\AppData\\Local\\Temp\\ipykernel_18720\\1211250631.py:38: RuntimeWarning: All-NaN slice encountered\n",
      "  hpooY.append(np.nanmedian([hpooY_old[s - 2 : s + 3]]))\n",
      "C:\\Users\\schmi\\AppData\\Local\\Temp\\ipykernel_18720\\1211250631.py:39: RuntimeWarning: All-NaN slice encountered\n",
      "  hpooZ.append(np.nanmedian([hpooZ_old[s - 2 : s + 3]]))\n"
     ]
    }
   ],
   "source": [
    "# To use it for later!!!\n",
    "# based on remodnav --> has almost the same length as our filter\n",
    "#ids = recordings.index.tolist()\n",
    "idd = ids[:]\n",
    "\n",
    "for i, uid in enumerate(idd):\n",
    "    display(uid)\n",
    "    for_eye = pd.read_csv(f\"{PATH_FOREYE}/correTS_{uid}.csv\", index_col=0)\n",
    "\n",
    "    # the coordinates to be smoothed\n",
    "    Xcorr_position_old = for_eye[\"eyePositionCombinedWorld.x\"].tolist()\n",
    "    Ycorr_position_old = for_eye[\"eyePositionCombinedWorld.y\"].tolist()\n",
    "    Zcorr_position_old = for_eye[\"eyePositionCombinedWorld.z\"].tolist()\n",
    "    hpooX_old = for_eye[\"HitPointOnObject.x\"].tolist()\n",
    "    hpooY_old = for_eye[\"HitPointOnObject.y\"].tolist()\n",
    "    hpooZ_old = for_eye[\"HitPointOnObject.z\"].tolist()\n",
    "\n",
    "    Xcorr_position = []\n",
    "    Ycorr_position = []\n",
    "    Zcorr_position = []\n",
    "    hpooX = []\n",
    "    hpooY = []\n",
    "    hpooZ = []\n",
    "    # smooth it:\n",
    "    for s in range(len(Xcorr_position_old)):\n",
    "        if s - 2 > 0 and s + 2 <= len(Xcorr_position_old):\n",
    "            Xcorr_position.append(\n",
    "                np.nanmedian([Xcorr_position_old[s - 2 : s + 3]])\n",
    "            )\n",
    "            Ycorr_position.append(\n",
    "                np.nanmedian([Ycorr_position_old[s - 2 : s + 3]])\n",
    "            )\n",
    "            Zcorr_position.append(\n",
    "                np.nanmedian([Zcorr_position_old[s - 2 : s + 3]])\n",
    "            )\n",
    "\n",
    "            hpooX.append(np.nanmedian([hpooX_old[s - 2 : s + 3]]))\n",
    "            hpooY.append(np.nanmedian([hpooY_old[s - 2 : s + 3]]))\n",
    "            hpooZ.append(np.nanmedian([hpooZ_old[s - 2 : s + 3]]))\n",
    "\n",
    "        elif s - 2 < 0:\n",
    "            Xcorr_position.append(np.nanmedian([Xcorr_position_old[: s + 3]]))\n",
    "            Ycorr_position.append(np.nanmedian([Ycorr_position_old[: s + 3]]))\n",
    "            Zcorr_position.append(np.nanmedian([Zcorr_position_old[: s + 3]]))\n",
    "\n",
    "            hpooX.append(np.nanmedian([hpooX_old[: s + 3]]))\n",
    "            hpooY.append(np.nanmedian([hpooY_old[: s + 3]]))\n",
    "            hpooZ.append(np.nanmedian([hpooZ_old[: s + 3]]))\n",
    "        else:\n",
    "            Xcorr_position.append(np.nanmedian([Xcorr_position_old[s - 2 :]]))\n",
    "            Ycorr_position.append(np.nanmedian([Ycorr_position_old[s - 2 :]]))\n",
    "            Zcorr_position.append(np.nanmedian([Zcorr_position_old[s - 2 :]]))\n",
    "\n",
    "            hpooX.append(np.nanmedian([hpooX_old[s - 2 :]]))\n",
    "            hpooY.append(np.nanmedian([hpooY_old[s - 2 :]]))\n",
    "            hpooZ.append(np.nanmedian([hpooZ_old[s - 2 :]]))\n",
    "\n",
    "    for_eye_n = pd.read_csv(f\"{PATH_FOREYE}/correTS_{uid}.csv\", index_col=0)\n",
    "    for_eye[\"eyePositionCombinedWorld.x\"] = Xcorr_position\n",
    "    for_eye[\"eyePositionCombinedWorld.y\"] = Ycorr_position\n",
    "    for_eye[\"eyePositionCombinedWorld.z\"] = Zcorr_position\n",
    "    for_eye[\"HitPointOnObject.x\"] = hpooX\n",
    "    for_eye[\"HitPointOnObject.y\"] = hpooY\n",
    "    for_eye[\"HitPointOnObject.z\"] = hpooZ\n",
    "    for_eye.to_csv(f\"{PATH_FOREYE}/correTS_{uid}.csv\", index=True)"
   ]
  },
  {
   "cell_type": "markdown",
   "id": "015a6e44-a77f-4ee9-a779-743e6dc089ee",
   "metadata": {
    "tags": []
   },
   "source": [
    "# Caluclate angles & velocities"
   ]
  },
  {
   "cell_type": "markdown",
   "id": "b6a5100a-ac5c-46ed-b11a-df6e54567c4b",
   "metadata": {
    "jp-MarkdownHeadingCollapsed": true,
    "tags": []
   },
   "source": [
    "## Calculate the eye-tracking veloctiy"
   ]
  },
  {
   "cell_type": "code",
   "execution_count": 8,
   "id": "9a05f069-a203-4828-a934-f030df63e388",
   "metadata": {
    "jupyter": {
     "source_hidden": true
    },
    "tags": []
   },
   "outputs": [],
   "source": [
    "# p.s.\n",
    "#\n",
    "# v_gaze_vec(t) = [Xhpoo(t) - Xhpoo(t-1), Yhpoo(t) - Yhpoo(t-1), Zhpoo(t) - Zhpoo(t-1)]\n",
    "#\n",
    "# Now we project this velocity onto the plane orthogonal to the viewing\n",
    "# direction at time t and determine the length. For simplicity we assume\n",
    "# that all vertical distances are small and keep the plane vertically\n",
    "# oriented.\n",
    "#\n",
    "# v_gaze_inplane(t) = ||v_gaze_vec(t) - (<v_gaze_vec(t), gaze_vec(t)> * gaze_vec(t))||\n",
    "#\n",
    "# where <> indicates the scalar product\n",
    "# gaze_vec(t) is a unit vector in the direction of the gaze (eye+head) in\n",
    "# world coordinates.\n",
    "# v_gaze_inplane is a scalar indicating the velocity in world coordinates\n",
    "# at the location that is gazed at orthogonal to the gaze axis.\n",
    "# || ... || indicates the euclidian norm\n",
    "#\n",
    "# w_gaze(t) = arctan2(distance(subject(i), hpoo(t)), v_gaze_inplane)\n",
    "#\n",
    "# distance(subject(i), hpoo(t)) could be equivalently written as ||\n",
    "# subject_vec(t) - hpoo_vec(t)||\n",
    "#\n",
    "# w_gaze is the instantaneous angular velocity of the eye movement and\n",
    "# what we want to know."
   ]
  },
  {
   "cell_type": "code",
   "execution_count": 9,
   "id": "ddf4f66e-4221-4c95-8604-077482e7fdce",
   "metadata": {
    "tags": []
   },
   "outputs": [
    {
     "data": {
      "text/plain": [
       "'18d7a183-6a4a-4778-bd24-e74a388ffaaa'"
      ]
     },
     "metadata": {},
     "output_type": "display_data"
    }
   ],
   "source": [
    "columns = [\n",
    "    \"time\",\n",
    "    \"valid\",\n",
    "    \"eyeDirectionCombinedWorld.x\",\n",
    "    \"eyeDirectionCombinedWorld.y\",\n",
    "    \"eyeDirectionCombinedWorld.z\",\n",
    "    \"eyePositionCombinedWorld.x\",\n",
    "    \"eyePositionCombinedWorld.y\",\n",
    "    \"eyePositionCombinedWorld.z\",\n",
    "    \"eyeDirectionCombinedLocal.x\",\n",
    "    \"eyeDirectionCombinedLocal.y\",\n",
    "    \"eyeDirectionCombinedLocal.z\",\n",
    "    \"hmdDirectionForward.x\",\n",
    "    \"hmdDirectionForward.y\",\n",
    "    \"hmdDirectionForward.z\",\n",
    "    \"hmdPosition.x\",\n",
    "    \"hmdPosition.y\",\n",
    "    \"hmdPosition.z\",\n",
    "    \"HitPointOnObject.x\",\n",
    "    \"HitPointOnObject.y\",\n",
    "    \"HitPointOnObject.z\",\n",
    "    # VS: This is like HitObjectColliderName_all but subsequent hits on the same collider are nan\n",
    "    \"hitObjectColliderName\",\n",
    "    \"hitObjectColliderName_all\", \n",
    "    \"ObjectColliderBoundsCenter.x\",\n",
    "    \"ObjectColliderBoundsCenter.y\",\n",
    "    \"ObjectColliderBoundsCenter.z\",\n",
    "    \"blinks\",\n",
    "]\n",
    "\n",
    "#ids = recordings.index.tolist()\n",
    "idd = ids[:]\n",
    "\n",
    "\n",
    "for i, uid in enumerate(idd):\n",
    "    display(uid)\n",
    "    # load data:\n",
    "    for_eye = pd.read_csv(f\"{PATH_FOREYE}/correTS_{uid}.csv\", index_col=0)\n",
    "    for_eye = for_eye[columns]\n",
    "\n",
    "    time = for_eye[\"time\"].tolist()\n",
    "    ts = time\n",
    "\n",
    "    # get individual coordinates\n",
    "    # position\n",
    "    Xcorr_position = for_eye[\"eyePositionCombinedWorld.x\"].tolist()\n",
    "    Ycorr_position = for_eye[\"eyePositionCombinedWorld.y\"].tolist()\n",
    "    Zcorr_position = for_eye[\"eyePositionCombinedWorld.z\"].tolist()\n",
    "    subj = list(zip(Xcorr_position, Ycorr_position, Zcorr_position))\n",
    "\n",
    "    # hpoo\n",
    "    hpooX = for_eye[\"HitPointOnObject.x\"].tolist()\n",
    "    hpooY = for_eye[\"HitPointOnObject.y\"].tolist()\n",
    "    hpooZ = for_eye[\"HitPointOnObject.z\"].tolist()\n",
    "    hpoo = list(zip(hpooX, hpooY, hpooZ))\n",
    "\n",
    "    # v_gaze_vec: get difference in hpoo\n",
    "    v_vX = pd.DataFrame(hpooX).apply(lambda x: x.diff())[0].tolist()\n",
    "    v_vY = pd.DataFrame(hpooY).apply(lambda x: x.diff())[0].tolist()\n",
    "    v_vZ = pd.DataFrame(hpooZ).apply(lambda x: x.diff())[0].tolist()\n",
    "\n",
    "    # get difference in time:\n",
    "    ts = pd.DataFrame(time).apply(lambda x: x.diff())[0].tolist()\n",
    "\n",
    "    v_gaze_vec = list(zip(v_vX, v_vY, v_vZ))\n",
    "\n",
    "    # gaze_vec(t) is a unit vector in the direction of the gaze (eye+head) in world coordinates\n",
    "    g_vec = [np.array(hpoo[v] - np.array(subj[v])) for v in range(len(subj))]\n",
    "    gaze_vec = [np.array(v) / np.linalg.norm(np.array(v)) for v in g_vec]\n",
    "    # display(np.linalg.norm(gaze_vec[1]))\n",
    "\n",
    "    # v_gaze_inplane: is a scalar indicating the velocity in world coordinates at the location that is gazed at orthogonal to the gaze axis.\n",
    "    # v_gaze_inplane(t) = ||v_gaze_vec(t) - (<v_gaze_vec(t), gaze_vec(t)> * gaze_vec(t))||:\n",
    "    # z1 = (<v_gaze_vec(t), gaze_vec(t)>)\n",
    "    z1 = [\n",
    "        np.array(v_gaze_vec[t]).dot(np.array(gaze_vec[t]))\n",
    "        for t in range(len(v_vX))\n",
    "    ]\n",
    "\n",
    "    # z = (<v_gaze_vec(t), gaze_vec(t)> * gaze_vec(t))\n",
    "    z = [z1[t] * np.array(gaze_vec[t]) for t in range(len(v_vX))]\n",
    "\n",
    "    # ||v_gaze_vec(t) - z||\n",
    "    v_gaze_inplane = [\n",
    "        np.linalg.norm((np.array(v_gaze_vec[t]) - z[t]).tolist())\n",
    "        for t in range(len(v_gaze_vec))\n",
    "    ]\n",
    "    # w_gaze(t) = arctan2(||subject_vec(t) - hpoo_vec(t)||, v_gaze_inplane)\n",
    "\n",
    "    # sub_hpoo = ||subject_vec(t) - hpoo_vec(t)||\n",
    "    sub_hpoo = [\n",
    "        np.linalg.norm(np.array(subj[t]) - np.array(hpoo[t]))\n",
    "        for t in range(len(hpoo))\n",
    "    ]\n",
    "\n",
    "    # arctan2(v_gaze_inplane, sub_hpoo)\n",
    "    w_gaze = np.arctan2(v_gaze_inplane, sub_hpoo).tolist()\n",
    "\n",
    "    # turn angle of radians into degrees\n",
    "    w_gaze = [(w / ts[idx] * 180 / math.pi) for idx, w in enumerate(w_gaze)]\n",
    "    # w_gaze = [(w*180/math.pi) for idx,w in enumerate(w_gaze)]\n",
    "\n",
    "    # save df\n",
    "    for_eye[\"combined_vel\"] = w_gaze\n",
    "    # 1 == MAD_woBig\n",
    "    if define_intervals == 1:\n",
    "        for_eye.to_csv(\n",
    "            f\"{PATH_FOREYE}/correTS_mad_wobig_{uid}.csv\", index=True\n",
    "        )\n",
    "    # 2 == 10_sec\n",
    "    else:\n",
    "        for_eye.to_csv(\n",
    "            f\"{PATH_FOREYE}/correTS__10sec_{uid}.csv\", index=True\n",
    "        )"
   ]
  },
  {
   "cell_type": "code",
   "execution_count": 10,
   "id": "4c752e49-b960-49bc-9664-9945339c8a5a",
   "metadata": {},
   "outputs": [
    {
     "data": {
      "text/plain": [
       "'18d7a183-6a4a-4778-bd24-e74a388ffaaa'"
      ]
     },
     "metadata": {},
     "output_type": "display_data"
    }
   ],
   "source": [
    "### MAXIMUM VELOCITY THRESHOLD (1000deg/sec)\n",
    "#ids = recordings.index.tolist()\n",
    "idd = ids[:]\n",
    "\n",
    "max_vel = 1000.0  # max_vel threshold\n",
    "\n",
    "for i, uid in enumerate(idd):\n",
    "    display(uid)\n",
    "    # load data:\n",
    "    # 1 == MAD_woBig\n",
    "    if define_intervals == 1:\n",
    "        for_eye = pd.read_csv(\n",
    "            f\"{PATH_FOREYE}/correTS_mad_wobig_{uid}.csv\", index_col=0\n",
    "        )\n",
    "    # 2 == 10_sec\n",
    "    else:\n",
    "        for_eye = pd.read_csv(\n",
    "            f\"{PATH_FOREYE}/correTS__10sec_{uid}.csv\", index_col=0\n",
    "        )\n",
    "\n",
    "    combined_vel = for_eye[\"combined_vel\"].tolist()\n",
    "    c_v = [max_vel if cv > max_vel else cv for cv in combined_vel]\n",
    "    for_eye[\"combined_vel\"] = c_v\n",
    "\n",
    "    # 1 == MAD_woBig\n",
    "    if define_intervals == 1:\n",
    "        for_eye.to_csv(\n",
    "            f\"{PATH_FOREYE}/correTS_mad_wobig_{uid}.csv\", index=True\n",
    "        )\n",
    "    # 2 == 10_sec\n",
    "    else:\n",
    "        for_eye.to_csv(f\"{PATH_FOREYE}/correTS__10sec_{uid}.csv\", index=True)"
   ]
  },
  {
   "cell_type": "markdown",
   "id": "f4b0b714-0948-46bc-9147-fb9d6ab67272",
   "metadata": {
    "jp-MarkdownHeadingCollapsed": true,
    "tags": []
   },
   "source": [
    "# Smooth the Data (Savitzky–Golay)"
   ]
  },
  {
   "cell_type": "code",
   "execution_count": 11,
   "id": "dcab8dc6-9277-4d67-9aa3-39a793f41667",
   "metadata": {
    "tags": []
   },
   "outputs": [
    {
     "data": {
      "text/plain": [
       "'18d7a183-6a4a-4778-bd24-e74a388ffaaa'"
      ]
     },
     "metadata": {},
     "output_type": "display_data"
    }
   ],
   "source": [
    "import scipy.signal\n",
    "\n",
    "# Taken from NYSTRÖM AND HOLMQVIST, 2010\n",
    "# Filter: Savitzky–Golay (sgolay in MATLAB)\n",
    "# Filter order: 2\n",
    "# Filter length: 2* min saccade duration Peak\n",
    "\n",
    "ids = recordings.index.tolist()\n",
    "idd = ids[:]\n",
    "\n",
    "# define parameters\n",
    "savgol_length = 3  # 0.01 * 90 #window size = int(savgol_length * sr); sr = 90; remodnav = 0.019 -->  int(savgol_length * sr) not possible with our SR\n",
    "savgol_polyord = 2  # polynomial order\n",
    "\n",
    "\n",
    "for i, uid in enumerate(idd):\n",
    "    display(uid)\n",
    "    # load data: common timestream for x-ticks\n",
    "    if define_intervals == 1:\n",
    "        for_eye = pd.read_csv(\n",
    "            f\"{PATH_FOREYE}/correTS_mad_wobig_{uid}.csv\", index_col=0\n",
    "        )\n",
    "    # 2 == 10_sec\n",
    "    else:\n",
    "        for_eye = pd.read_csv(\n",
    "            f\"{PATH_FOREYE}/correTS__10sec_{uid}.csv\", index_col=0\n",
    "        )\n",
    "\n",
    "    combined_vel = for_eye[\"combined_vel\"].tolist()\n",
    "\n",
    "    # filter\n",
    "    combined_vel = scipy.signal.savgol_filter(\n",
    "        combined_vel, savgol_length, savgol_polyord\n",
    "    )\n",
    "\n",
    "    # save data\n",
    "    for_eye[\"combined_vel\"] = combined_vel\n",
    "    # save df:\n",
    "    # 1 == MAD_woBig\n",
    "    if define_intervals == 1:\n",
    "        for_eye.to_csv(\n",
    "            f\"{PATH_FOREYE}/correTS_mad_wobig_{uid}.csv\", index=True\n",
    "        )\n",
    "    # 2 == 10_sec\n",
    "    else:\n",
    "        for_eye.to_csv(f\"{PATH_FOREYE}/correTS__10sec_{uid}.csv\", index=True)\n"
   ]
  },
  {
   "cell_type": "markdown",
   "id": "a93c13e9-0c99-4591-9fb4-65e2fa6dd191",
   "metadata": {
    "jp-MarkdownHeadingCollapsed": true,
    "tags": []
   },
   "source": [
    "# Calculate the data segmenation intervals"
   ]
  },
  {
   "cell_type": "markdown",
   "id": "bcd3ee25-2067-4c79-8f07-8d8c889bd564",
   "metadata": {
    "jp-MarkdownHeadingCollapsed": true,
    "tags": []
   },
   "source": [
    "## Exclude big saccs"
   ]
  },
  {
   "cell_type": "code",
   "execution_count": 12,
   "id": "4db648eb-1b27-4ed7-9374-097edff5a2ea",
   "metadata": {
    "tags": []
   },
   "outputs": [
    {
     "data": {
      "text/plain": [
       "'18d7a183-6a4a-4778-bd24-e74a388ffaaa'"
      ]
     },
     "metadata": {},
     "output_type": "display_data"
    }
   ],
   "source": [
    "# Calcualte the threshold across the entire dataset\n",
    "\n",
    "# determining a critical velocity on a median-filtered (median filter length) time series comprising\n",
    "# the full duration of a recording. All such periods of consecutive above-threshold velocities are\n",
    "# weighted by the sum of these velocities. Boundaries of time series chunks are determined by selecting\n",
    "# such events sequentially (starting with the largest sums) until a maximum average frequency across\n",
    "# the whole time series is reached resulting chunks represent data intervals between saccades of maximum\n",
    "# magnitude in the respective data.\n",
    "\n",
    "ids = recordings.index.tolist()\n",
    "idd = ids[:]\n",
    "\n",
    "for i, uid in enumerate(idd):\n",
    "    display(uid)\n",
    "    for_eye = pd.read_csv(\n",
    "        f\"{PATH_FOREYE}/correTS_mad_wobig_{uid}.csv\", index_col=0\n",
    "    )\n",
    "    # get time\n",
    "    time = for_eye[\"time\"].tolist()\n",
    "\n",
    "    # run MAD saccade on the entire data\n",
    "    saccade_th, thres = at_mad(for_eye[\"combined_vel\"])\n",
    "    # detect all periods above the calculated threshold\n",
    "    fast_sacc = [\n",
    "        ti if ti >= saccade_th else np.nan\n",
    "        for ti in for_eye[\"combined_vel\"].tolist()\n",
    "    ]\n",
    "\n",
    "    interv = [np.nan] * len(time)  # rem\n",
    "    interv[0] = 600  # rem\n",
    "    total_v = [np.nan] * len(time)  # rem\n",
    "    start = [time[0]]  # onset time\n",
    "    start_idx = [0]  # onset idx\n",
    "    end = []  # offset time\n",
    "    end_idx = []  # offset index\n",
    "    total_vels = []  # save the velocities to sort the fast_sacc\n",
    "\n",
    "    # to add and update for each interval\n",
    "    starts = []  # save the indicies in\n",
    "    vels = []  # save the velocities in\n",
    "    cnt = True  # every time it will be set to true, add the velocity\n",
    "\n",
    "    for v in range(1, (len(fast_sacc) - 1)):\n",
    "        # if you start an event higher than the threshold:\n",
    "        if pd.isnull(fast_sacc[v]) and not pd.isnull(fast_sacc[v + 1]):\n",
    "            cnt = True\n",
    "            curr_end = v + 1\n",
    "        elif not pd.isnull(fast_sacc[v]) and pd.isnull(fast_sacc[v + 1]):\n",
    "            # vels:\n",
    "            total_vels.append(np.nansum(vels))\n",
    "            total_v[starts[vels.index(np.nanmax(vels))]] = np.nansum(\n",
    "                vels\n",
    "            )  # rem\n",
    "            # start\n",
    "            start_idx.append(v + 1)\n",
    "            start.append(time[v + 1])\n",
    "            # end\n",
    "            end_idx.append(curr_end)\n",
    "            end.append(time[curr_end])\n",
    "            interv[starts[vels.index(np.nanmax(vels))] + 1] = 600  # rem\n",
    "            # interv[starts[vels.index(np.nanmax(vels))]] = 400 #rem\n",
    "            # reset:\n",
    "            cnt = False\n",
    "            starts = []  # save the indicies in\n",
    "            vels = []  # save the velocities in\n",
    "        # if you are currently looking at intervals higher than the theshold: add them to the lists\n",
    "        if (\n",
    "            cnt == True\n",
    "        ):  # and not pd.isnull(fast_sacc[v]) and pd.isnull(fast_sacc[v+1]):\n",
    "            starts.append(v + 1)  # get the index\n",
    "            vels.append(fast_sacc[v + 1])  # get the velocities\n",
    "\n",
    "    end.append(time[-1])\n",
    "    end_idx.append(len(fast_sacc))\n",
    "    total_vels.append(np.nansum(vels))\n",
    "    # interv[-1] = 400 #rem\n",
    "\n",
    "    # order the data\n",
    "    int_data = pd.DataFrame(\n",
    "        list(zip(start, end, start_idx, end_idx, total_vels)),\n",
    "        columns=[\"start\", \"end\", \"start_idx\", \"end_idx\", \"total_vels\"],\n",
    "    )\n",
    "\n",
    "    # only get the big saccades\n",
    "    max_initial_saccade_freq = 0.5\n",
    "    # order the indicies according to the frequencies\n",
    "    int_data = int_data.sort_values(\"total_vels\", ascending=False)\n",
    "\n",
    "    # if still smaller than max_initial_saccade_freq, keep adding nr to list, else, add 0\n",
    "    new_start = [int_data[\"start\"][0]]\n",
    "    to_keep = [1]\n",
    "    for st in int_data[\"start\"][1:].tolist():\n",
    "        new_start.append(st)\n",
    "        new_start.sort()\n",
    "        new_dist = [\n",
    "            new_start[i + 1] - new_start[i] for i in range(len(new_start) - 1)\n",
    "        ]\n",
    "        if sum(new_dist) / len(new_dist) > max_initial_saccade_freq:\n",
    "            to_keep = to_keep + [1]\n",
    "        else:\n",
    "            break\n",
    "\n",
    "    to_keep = to_keep + [0] * (len(start) - len(to_keep))\n",
    "    int_data[\"to_keep\"] = to_keep\n",
    "    int_data = int_data.sort_values(\"start_idx\")\n",
    "\n",
    "    # so we can make sure we will cover the entire duration\n",
    "    to_keep = int_data[\"to_keep\"].tolist()\n",
    "    to_keep[0] = 1\n",
    "    to_keep[-1] = 1\n",
    "    int_data[\"to_keep\"] = to_keep\n",
    "\n",
    "    # now only save the list-elements we want to keep\n",
    "    adjusted = True\n",
    "    for v, val in enumerate(int_data[\"to_keep\"].tolist()):\n",
    "        if val == 0 and adjusted:\n",
    "            curr_idx = v\n",
    "            adjusted = False\n",
    "        elif val == 1 and not adjusted:\n",
    "            int_data.loc[v, \"start\"] = int_data[\"start\"][curr_idx]\n",
    "            int_data.loc[v, \"start_idx\"] = int_data[\"start_idx\"][curr_idx]\n",
    "            adjusted = True\n",
    "\n",
    "    # delete all rows with 0\n",
    "    int_data = int_data[int_data[\"to_keep\"] == 1].reset_index()\n",
    "    int_data = int_data.drop(columns=[\"to_keep\"])\n",
    "\n",
    "    int_data.to_csv(f\"{PATH_FOREYE}/interval_mad_wobig_{uid}.csv\", index=True)"
   ]
  },
  {
   "cell_type": "markdown",
   "id": "4b1714dc-e34c-47fc-b5bc-663d6551c263",
   "metadata": {
    "jp-MarkdownHeadingCollapsed": true,
    "tags": []
   },
   "source": [
    "## 10 sec intervals (if you don't do the previous code)"
   ]
  },
  {
   "cell_type": "code",
   "execution_count": 50,
   "id": "7a8e9be3-236f-4ca5-8cf3-cac34a6c977c",
   "metadata": {
    "tags": []
   },
   "outputs": [],
   "source": [
    "# code comes from 5v_investigate_fixations\n",
    "ids = recordings.index.tolist()\n",
    "idd = ids[:]\n",
    "\n",
    "int_len = 10  # number of seconds of the interval\n",
    "\n",
    "for i, uid in enumerate(idd):\n",
    "    for_eye = pd.read_csv(\n",
    "        f\"{PATH_FOREYE}/correTS__10sec_{uid}.csv\", index_col=0\n",
    "    )\n",
    "    time = for_eye[\"time\"].tolist()\n",
    "\n",
    "    start = []\n",
    "    end = []\n",
    "    start_idx = []\n",
    "    end_idx = []\n",
    "    # go through the dataframe and save the start and end each turn\n",
    "    for t, ti in enumerate(time):\n",
    "        if ti == time[0]:\n",
    "            start.append(ti)\n",
    "            start_idx.append(t)\n",
    "        if ti - start[-1] > int_len:\n",
    "            # if the current timepoint is more than int_len away from start, set it to new start\n",
    "            start.append(ti)\n",
    "            start_idx.append(t)\n",
    "            # and set end to the timepoint before that\n",
    "            end.append(time[t - 1])\n",
    "            end_idx.append(t - 1)\n",
    "    # add the last timepoint to end\n",
    "    # (there is a very slim chance that the last start and end are the same timepoint --> might cause errors)\n",
    "    end.append(time[-1])\n",
    "    end_idx.append(len(time))\n",
    "\n",
    "    # save it as new df\n",
    "    int_data = list(zip(start, end, start_idx, end_idx))\n",
    "    int_data = pd.DataFrame(\n",
    "        int_data, columns=[\"start\", \"end\", \"start_idx\", \"end_idx\"]\n",
    "    )\n",
    "\n",
    "    int_data.to_csv(f\"{PATH_FOREYE}/interval_mad_10sec_{uid}.csv\", index=True)"
   ]
  },
  {
   "cell_type": "markdown",
   "id": "8c166961-2041-4b0c-abf0-ed62b406ff33",
   "metadata": {
    "tags": []
   },
   "source": [
    "# Calculate MAD Saccade"
   ]
  },
  {
   "cell_type": "markdown",
   "id": "82f3f06f-6ae1-416b-82b2-a317978603d8",
   "metadata": {
    "jp-MarkdownHeadingCollapsed": true,
    "tags": []
   },
   "source": [
    "## Get the thresholds for each interval"
   ]
  },
  {
   "cell_type": "code",
   "execution_count": 13,
   "id": "bb196894-ff2a-4fc0-8acc-f6cedc34ecbc",
   "metadata": {
    "tags": []
   },
   "outputs": [
    {
     "data": {
      "text/plain": [
       "'18d7a183-6a4a-4778-bd24-e74a388ffaaa'"
      ]
     },
     "metadata": {},
     "output_type": "display_data"
    },
    {
     "name": "stderr",
     "output_type": "stream",
     "text": [
      "C:\\Users\\schmi\\anaconda3\\lib\\site-packages\\numpy\\core\\fromnumeric.py:3504: RuntimeWarning: Mean of empty slice.\n",
      "  return _methods._mean(a, axis=axis, dtype=dtype,\n",
      "C:\\Users\\schmi\\anaconda3\\lib\\site-packages\\numpy\\core\\_methods.py:129: RuntimeWarning: invalid value encountered in scalar divide\n",
      "  ret = ret.dtype.type(ret / rcount)\n"
     ]
    }
   ],
   "source": [
    "# go through the caclulated intervals, run at_mad on each of these intervals and save the thresholds\n",
    "ids = recordings.index.tolist()\n",
    "idd = ids[:]\n",
    "\n",
    "for i, uid in enumerate(idd):\n",
    "    display(uid)\n",
    "    # 1 == MAD_woBig\n",
    "    if define_intervals == 1:\n",
    "        for_eye = pd.read_csv(\n",
    "            f\"{PATH_FOREYE}/correTS_mad_wobig_{uid}.csv\", index_col=0\n",
    "        )\n",
    "        int_data = pd.read_csv(\n",
    "            f\"{PATH_FOREYE}/interval_mad_wobig_{uid}.csv\", index_col=0\n",
    "        )\n",
    "    # 2 == 10_sec\n",
    "    else:\n",
    "        for_eye = pd.read_csv(\n",
    "            f\"{PATH_FOREYE}/correTS__10sec_{uid}.csv\", index_col=0\n",
    "        )\n",
    "        int_data = pd.read_csv(\n",
    "            f\"{PATH_FOREYE}/interval_mad_10sec_{uid}.csv\", index_col=0\n",
    "        )\n",
    "\n",
    "    combined_vel = for_eye[\"combined_vel\"]\n",
    "        \n",
    "    # to shorten the slicing in the next for loop\n",
    "    start_idx = int_data[\"start_idx\"].tolist()\n",
    "    end_idx = int_data[\"end_idx\"].tolist()\n",
    "\n",
    "    # to add the final thresholds to for each segement\n",
    "    scct = []\n",
    "    for s, srt in enumerate(int_data[\"start\"].tolist()):\n",
    "        # get the slice of the combined velocity\n",
    "        angular_vel = combined_vel[start_idx[s] : end_idx[s]]\n",
    "        # use the at_mad function to caluclate the threshold\n",
    "        saccade_th, thres = at_mad(angular_vel)\n",
    "        if np.isnan(saccade_th):\n",
    "            scct.append(thres[0])\n",
    "        else:\n",
    "            # add it to scct\n",
    "            scct.append(saccade_th)\n",
    "\n",
    "    # add it to int_data and save\n",
    "    int_data[\"thresh\"] = scct\n",
    "\n",
    "    # display(len(scct))\n",
    "    int_data = pd.DataFrame(int_data)\n",
    "    # save\n",
    "    # 1 == MAD_woBig\n",
    "    if define_intervals == 1:\n",
    "        int_data.to_csv(\n",
    "            f\"{PATH_FOREYE}/interval_mad_wobig_{uid}.csv\", index=True\n",
    "        )\n",
    "    # 2 == 10_sec\n",
    "    else:\n",
    "        int_data.to_csv(\n",
    "            f\"{PATH_FOREYE}/interval_mad_10sec_{uid}.csv\", index=True\n",
    "        )"
   ]
  },
  {
   "cell_type": "markdown",
   "id": "65a284a9-6331-4923-93cf-e900037ddf33",
   "metadata": {
    "jp-MarkdownHeadingCollapsed": true,
    "tags": []
   },
   "source": [
    "## Add the threshold to for_eye df"
   ]
  },
  {
   "cell_type": "code",
   "execution_count": 14,
   "id": "39ed6851-fa5e-4087-ba2a-0b26df00eca1",
   "metadata": {
    "tags": []
   },
   "outputs": [
    {
     "data": {
      "text/plain": [
       "'18d7a183-6a4a-4778-bd24-e74a388ffaaa'"
      ]
     },
     "metadata": {},
     "output_type": "display_data"
    },
    {
     "data": {
      "text/html": [
       "<div>\n",
       "<style scoped>\n",
       "    .dataframe tbody tr th:only-of-type {\n",
       "        vertical-align: middle;\n",
       "    }\n",
       "\n",
       "    .dataframe tbody tr th {\n",
       "        vertical-align: top;\n",
       "    }\n",
       "\n",
       "    .dataframe thead th {\n",
       "        text-align: right;\n",
       "    }\n",
       "</style>\n",
       "<table border=\"1\" class=\"dataframe\">\n",
       "  <thead>\n",
       "    <tr style=\"text-align: right;\">\n",
       "      <th></th>\n",
       "      <th>time</th>\n",
       "      <th>valid</th>\n",
       "      <th>eyeDirectionCombinedWorld.x</th>\n",
       "      <th>eyeDirectionCombinedWorld.y</th>\n",
       "      <th>eyeDirectionCombinedWorld.z</th>\n",
       "      <th>eyePositionCombinedWorld.x</th>\n",
       "      <th>eyePositionCombinedWorld.y</th>\n",
       "      <th>eyePositionCombinedWorld.z</th>\n",
       "      <th>eyeDirectionCombinedLocal.x</th>\n",
       "      <th>eyeDirectionCombinedLocal.y</th>\n",
       "      <th>...</th>\n",
       "      <th>HitPointOnObject.y</th>\n",
       "      <th>HitPointOnObject.z</th>\n",
       "      <th>hitObjectColliderName</th>\n",
       "      <th>hitObjectColliderName_all</th>\n",
       "      <th>ObjectColliderBoundsCenter.x</th>\n",
       "      <th>ObjectColliderBoundsCenter.y</th>\n",
       "      <th>ObjectColliderBoundsCenter.z</th>\n",
       "      <th>blinks</th>\n",
       "      <th>combined_vel</th>\n",
       "      <th>thresh</th>\n",
       "    </tr>\n",
       "  </thead>\n",
       "  <tbody>\n",
       "    <tr>\n",
       "      <th>0</th>\n",
       "      <td>0.004</td>\n",
       "      <td>True</td>\n",
       "      <td>0.018</td>\n",
       "      <td>0.072</td>\n",
       "      <td>0.997</td>\n",
       "      <td>-59.101</td>\n",
       "      <td>2.418</td>\n",
       "      <td>34.760</td>\n",
       "      <td>-0.010</td>\n",
       "      <td>-0.003</td>\n",
       "      <td>...</td>\n",
       "      <td>6.931</td>\n",
       "      <td>97.609</td>\n",
       "      <td>Building_161</td>\n",
       "      <td>Building_161</td>\n",
       "      <td>-56.615</td>\n",
       "      <td>11.380</td>\n",
       "      <td>104.193</td>\n",
       "      <td>0.000</td>\n",
       "      <td>NaN</td>\n",
       "      <td>200.000</td>\n",
       "    </tr>\n",
       "    <tr>\n",
       "      <th>1</th>\n",
       "      <td>0.017</td>\n",
       "      <td>True</td>\n",
       "      <td>0.018</td>\n",
       "      <td>0.072</td>\n",
       "      <td>0.997</td>\n",
       "      <td>-59.101</td>\n",
       "      <td>2.418</td>\n",
       "      <td>34.760</td>\n",
       "      <td>-0.009</td>\n",
       "      <td>-0.004</td>\n",
       "      <td>...</td>\n",
       "      <td>6.941</td>\n",
       "      <td>97.611</td>\n",
       "      <td>NaN</td>\n",
       "      <td>Building_161</td>\n",
       "      <td>-56.615</td>\n",
       "      <td>11.380</td>\n",
       "      <td>104.193</td>\n",
       "      <td>0.000</td>\n",
       "      <td>NaN</td>\n",
       "      <td>200.000</td>\n",
       "    </tr>\n",
       "    <tr>\n",
       "      <th>2</th>\n",
       "      <td>0.023</td>\n",
       "      <td>True</td>\n",
       "      <td>0.018</td>\n",
       "      <td>0.071</td>\n",
       "      <td>0.997</td>\n",
       "      <td>-38.894</td>\n",
       "      <td>1.659</td>\n",
       "      <td>46.783</td>\n",
       "      <td>-0.009</td>\n",
       "      <td>-0.004</td>\n",
       "      <td>...</td>\n",
       "      <td>2.494</td>\n",
       "      <td>43.960</td>\n",
       "      <td>NaN</td>\n",
       "      <td>Building_161</td>\n",
       "      <td>-56.615</td>\n",
       "      <td>11.380</td>\n",
       "      <td>104.193</td>\n",
       "      <td>0.000</td>\n",
       "      <td>1000.000</td>\n",
       "      <td>0.000</td>\n",
       "    </tr>\n",
       "    <tr>\n",
       "      <th>3</th>\n",
       "      <td>0.032</td>\n",
       "      <td>True</td>\n",
       "      <td>0.018</td>\n",
       "      <td>0.072</td>\n",
       "      <td>0.997</td>\n",
       "      <td>-59.100</td>\n",
       "      <td>2.418</td>\n",
       "      <td>34.760</td>\n",
       "      <td>-0.008</td>\n",
       "      <td>-0.003</td>\n",
       "      <td>...</td>\n",
       "      <td>6.956</td>\n",
       "      <td>97.632</td>\n",
       "      <td>NaN</td>\n",
       "      <td>Building_161</td>\n",
       "      <td>-56.615</td>\n",
       "      <td>11.380</td>\n",
       "      <td>104.193</td>\n",
       "      <td>0.000</td>\n",
       "      <td>1000.000</td>\n",
       "      <td>0.000</td>\n",
       "    </tr>\n",
       "    <tr>\n",
       "      <th>4</th>\n",
       "      <td>0.043</td>\n",
       "      <td>True</td>\n",
       "      <td>0.019</td>\n",
       "      <td>0.072</td>\n",
       "      <td>0.997</td>\n",
       "      <td>-59.100</td>\n",
       "      <td>2.418</td>\n",
       "      <td>34.760</td>\n",
       "      <td>-0.007</td>\n",
       "      <td>-0.003</td>\n",
       "      <td>...</td>\n",
       "      <td>6.985</td>\n",
       "      <td>97.634</td>\n",
       "      <td>NaN</td>\n",
       "      <td>Building_161</td>\n",
       "      <td>-56.615</td>\n",
       "      <td>11.380</td>\n",
       "      <td>104.193</td>\n",
       "      <td>0.000</td>\n",
       "      <td>2.368</td>\n",
       "      <td>18.065</td>\n",
       "    </tr>\n",
       "    <tr>\n",
       "      <th>...</th>\n",
       "      <td>...</td>\n",
       "      <td>...</td>\n",
       "      <td>...</td>\n",
       "      <td>...</td>\n",
       "      <td>...</td>\n",
       "      <td>...</td>\n",
       "      <td>...</td>\n",
       "      <td>...</td>\n",
       "      <td>...</td>\n",
       "      <td>...</td>\n",
       "      <td>...</td>\n",
       "      <td>...</td>\n",
       "      <td>...</td>\n",
       "      <td>...</td>\n",
       "      <td>...</td>\n",
       "      <td>...</td>\n",
       "      <td>...</td>\n",
       "      <td>...</td>\n",
       "      <td>...</td>\n",
       "      <td>...</td>\n",
       "      <td>...</td>\n",
       "    </tr>\n",
       "    <tr>\n",
       "      <th>159247</th>\n",
       "      <td>2019.309</td>\n",
       "      <td>False</td>\n",
       "      <td>-0.756</td>\n",
       "      <td>-0.126</td>\n",
       "      <td>-0.643</td>\n",
       "      <td>-157.930</td>\n",
       "      <td>0.125</td>\n",
       "      <td>-175.208</td>\n",
       "      <td>-0.226</td>\n",
       "      <td>-1.000</td>\n",
       "      <td>...</td>\n",
       "      <td>-0.681</td>\n",
       "      <td>-181.121</td>\n",
       "      <td>NaN</td>\n",
       "      <td>NaN</td>\n",
       "      <td>-163.089</td>\n",
       "      <td>-1.300</td>\n",
       "      <td>-184.651</td>\n",
       "      <td>0.000</td>\n",
       "      <td>0.000</td>\n",
       "      <td>0.000</td>\n",
       "    </tr>\n",
       "    <tr>\n",
       "      <th>159248</th>\n",
       "      <td>2019.320</td>\n",
       "      <td>False</td>\n",
       "      <td>-0.756</td>\n",
       "      <td>-0.126</td>\n",
       "      <td>-0.643</td>\n",
       "      <td>-157.930</td>\n",
       "      <td>0.125</td>\n",
       "      <td>-175.208</td>\n",
       "      <td>-0.226</td>\n",
       "      <td>-1.000</td>\n",
       "      <td>...</td>\n",
       "      <td>-0.681</td>\n",
       "      <td>-181.121</td>\n",
       "      <td>NaN</td>\n",
       "      <td>NaN</td>\n",
       "      <td>-163.089</td>\n",
       "      <td>-1.300</td>\n",
       "      <td>-184.651</td>\n",
       "      <td>0.000</td>\n",
       "      <td>0.000</td>\n",
       "      <td>0.000</td>\n",
       "    </tr>\n",
       "    <tr>\n",
       "      <th>159249</th>\n",
       "      <td>2019.331</td>\n",
       "      <td>False</td>\n",
       "      <td>-0.756</td>\n",
       "      <td>-0.126</td>\n",
       "      <td>-0.643</td>\n",
       "      <td>-157.930</td>\n",
       "      <td>0.125</td>\n",
       "      <td>-175.208</td>\n",
       "      <td>-0.226</td>\n",
       "      <td>-1.000</td>\n",
       "      <td>...</td>\n",
       "      <td>-0.681</td>\n",
       "      <td>-181.121</td>\n",
       "      <td>NaN</td>\n",
       "      <td>NaN</td>\n",
       "      <td>-163.089</td>\n",
       "      <td>-1.300</td>\n",
       "      <td>-184.651</td>\n",
       "      <td>0.000</td>\n",
       "      <td>0.000</td>\n",
       "      <td>0.000</td>\n",
       "    </tr>\n",
       "    <tr>\n",
       "      <th>159250</th>\n",
       "      <td>2019.342</td>\n",
       "      <td>False</td>\n",
       "      <td>-0.756</td>\n",
       "      <td>-0.126</td>\n",
       "      <td>-0.643</td>\n",
       "      <td>-157.930</td>\n",
       "      <td>0.125</td>\n",
       "      <td>-175.208</td>\n",
       "      <td>-0.226</td>\n",
       "      <td>-1.000</td>\n",
       "      <td>...</td>\n",
       "      <td>-0.681</td>\n",
       "      <td>-181.121</td>\n",
       "      <td>NaN</td>\n",
       "      <td>NaN</td>\n",
       "      <td>-163.089</td>\n",
       "      <td>-1.300</td>\n",
       "      <td>-184.651</td>\n",
       "      <td>0.000</td>\n",
       "      <td>0.000</td>\n",
       "      <td>0.000</td>\n",
       "    </tr>\n",
       "    <tr>\n",
       "      <th>159251</th>\n",
       "      <td>2019.353</td>\n",
       "      <td>True</td>\n",
       "      <td>-0.756</td>\n",
       "      <td>-0.126</td>\n",
       "      <td>-0.643</td>\n",
       "      <td>-157.930</td>\n",
       "      <td>0.125</td>\n",
       "      <td>-175.208</td>\n",
       "      <td>-0.226</td>\n",
       "      <td>-0.344</td>\n",
       "      <td>...</td>\n",
       "      <td>-0.681</td>\n",
       "      <td>-181.121</td>\n",
       "      <td>NaN</td>\n",
       "      <td>NaN</td>\n",
       "      <td>-163.089</td>\n",
       "      <td>-1.300</td>\n",
       "      <td>-184.651</td>\n",
       "      <td>0.000</td>\n",
       "      <td>0.000</td>\n",
       "      <td>0.000</td>\n",
       "    </tr>\n",
       "  </tbody>\n",
       "</table>\n",
       "<p>159252 rows × 28 columns</p>\n",
       "</div>"
      ],
      "text/plain": [
       "           time  valid  eyeDirectionCombinedWorld.x  \\\n",
       "0         0.004   True                        0.018   \n",
       "1         0.017   True                        0.018   \n",
       "2         0.023   True                        0.018   \n",
       "3         0.032   True                        0.018   \n",
       "4         0.043   True                        0.019   \n",
       "...         ...    ...                          ...   \n",
       "159247 2019.309  False                       -0.756   \n",
       "159248 2019.320  False                       -0.756   \n",
       "159249 2019.331  False                       -0.756   \n",
       "159250 2019.342  False                       -0.756   \n",
       "159251 2019.353   True                       -0.756   \n",
       "\n",
       "        eyeDirectionCombinedWorld.y  eyeDirectionCombinedWorld.z  \\\n",
       "0                             0.072                        0.997   \n",
       "1                             0.072                        0.997   \n",
       "2                             0.071                        0.997   \n",
       "3                             0.072                        0.997   \n",
       "4                             0.072                        0.997   \n",
       "...                             ...                          ...   \n",
       "159247                       -0.126                       -0.643   \n",
       "159248                       -0.126                       -0.643   \n",
       "159249                       -0.126                       -0.643   \n",
       "159250                       -0.126                       -0.643   \n",
       "159251                       -0.126                       -0.643   \n",
       "\n",
       "        eyePositionCombinedWorld.x  eyePositionCombinedWorld.y  \\\n",
       "0                          -59.101                       2.418   \n",
       "1                          -59.101                       2.418   \n",
       "2                          -38.894                       1.659   \n",
       "3                          -59.100                       2.418   \n",
       "4                          -59.100                       2.418   \n",
       "...                            ...                         ...   \n",
       "159247                    -157.930                       0.125   \n",
       "159248                    -157.930                       0.125   \n",
       "159249                    -157.930                       0.125   \n",
       "159250                    -157.930                       0.125   \n",
       "159251                    -157.930                       0.125   \n",
       "\n",
       "        eyePositionCombinedWorld.z  eyeDirectionCombinedLocal.x  \\\n",
       "0                           34.760                       -0.010   \n",
       "1                           34.760                       -0.009   \n",
       "2                           46.783                       -0.009   \n",
       "3                           34.760                       -0.008   \n",
       "4                           34.760                       -0.007   \n",
       "...                            ...                          ...   \n",
       "159247                    -175.208                       -0.226   \n",
       "159248                    -175.208                       -0.226   \n",
       "159249                    -175.208                       -0.226   \n",
       "159250                    -175.208                       -0.226   \n",
       "159251                    -175.208                       -0.226   \n",
       "\n",
       "        eyeDirectionCombinedLocal.y  ...  HitPointOnObject.y  \\\n",
       "0                            -0.003  ...               6.931   \n",
       "1                            -0.004  ...               6.941   \n",
       "2                            -0.004  ...               2.494   \n",
       "3                            -0.003  ...               6.956   \n",
       "4                            -0.003  ...               6.985   \n",
       "...                             ...  ...                 ...   \n",
       "159247                       -1.000  ...              -0.681   \n",
       "159248                       -1.000  ...              -0.681   \n",
       "159249                       -1.000  ...              -0.681   \n",
       "159250                       -1.000  ...              -0.681   \n",
       "159251                       -0.344  ...              -0.681   \n",
       "\n",
       "        HitPointOnObject.z  hitObjectColliderName  hitObjectColliderName_all  \\\n",
       "0                   97.609           Building_161               Building_161   \n",
       "1                   97.611                    NaN               Building_161   \n",
       "2                   43.960                    NaN               Building_161   \n",
       "3                   97.632                    NaN               Building_161   \n",
       "4                   97.634                    NaN               Building_161   \n",
       "...                    ...                    ...                        ...   \n",
       "159247            -181.121                    NaN                        NaN   \n",
       "159248            -181.121                    NaN                        NaN   \n",
       "159249            -181.121                    NaN                        NaN   \n",
       "159250            -181.121                    NaN                        NaN   \n",
       "159251            -181.121                    NaN                        NaN   \n",
       "\n",
       "        ObjectColliderBoundsCenter.x  ObjectColliderBoundsCenter.y  \\\n",
       "0                            -56.615                        11.380   \n",
       "1                            -56.615                        11.380   \n",
       "2                            -56.615                        11.380   \n",
       "3                            -56.615                        11.380   \n",
       "4                            -56.615                        11.380   \n",
       "...                              ...                           ...   \n",
       "159247                      -163.089                        -1.300   \n",
       "159248                      -163.089                        -1.300   \n",
       "159249                      -163.089                        -1.300   \n",
       "159250                      -163.089                        -1.300   \n",
       "159251                      -163.089                        -1.300   \n",
       "\n",
       "        ObjectColliderBoundsCenter.z  blinks  combined_vel  thresh  \n",
       "0                            104.193   0.000           NaN 200.000  \n",
       "1                            104.193   0.000           NaN 200.000  \n",
       "2                            104.193   0.000      1000.000   0.000  \n",
       "3                            104.193   0.000      1000.000   0.000  \n",
       "4                            104.193   0.000         2.368  18.065  \n",
       "...                              ...     ...           ...     ...  \n",
       "159247                      -184.651   0.000         0.000   0.000  \n",
       "159248                      -184.651   0.000         0.000   0.000  \n",
       "159249                      -184.651   0.000         0.000   0.000  \n",
       "159250                      -184.651   0.000         0.000   0.000  \n",
       "159251                      -184.651   0.000         0.000   0.000  \n",
       "\n",
       "[159252 rows x 28 columns]"
      ]
     },
     "metadata": {},
     "output_type": "display_data"
    }
   ],
   "source": [
    "# go through the caclulated intervals, run at_mad on each of these intervals and save the thresholds\n",
    "ids = recordings.index.tolist()\n",
    "idd = ids[:]\n",
    "\n",
    "for i, uid in enumerate(idd):\n",
    "    display(uid)\n",
    "    # load data\n",
    "    # 1 == MAD_woBig\n",
    "    if define_intervals == 1:\n",
    "        for_eye = pd.read_csv(\n",
    "            f\"{PATH_FOREYE}/correTS_mad_wobig_{uid}.csv\", index_col=0\n",
    "        )\n",
    "        int_data = pd.read_csv(\n",
    "            f\"{PATH_FOREYE}/interval_mad_wobig_{uid}.csv\", index_col=0\n",
    "        )\n",
    "    # 2 == 10_sec\n",
    "    else:\n",
    "        for_eye = pd.read_csv(\n",
    "            f\"{PATH_FOREYE}/correTS__10sec_{uid}.csv\", index_col=0\n",
    "        )\n",
    "        int_data = pd.read_csv(\n",
    "            f\"{PATH_FOREYE}/interval_mad_10sec_{uid}.csv\", index_col=0\n",
    "        )\n",
    "\n",
    "    time = for_eye.index.tolist()\n",
    "    start_idx = int_data[\"start_idx\"].tolist()\n",
    "    end_idx = int_data[\"end_idx\"].tolist()\n",
    "    thr = int_data[\"thresh\"].tolist()\n",
    "\n",
    "    # go through all time intervals\n",
    "    thresh = [0.0] * len(time)\n",
    "    for s, srt in enumerate(int_data[\"start\"].tolist()):\n",
    "        # repeat the threshold as often as the time interval is long\n",
    "        thresh = (\n",
    "            thresh[: start_idx[s]]\n",
    "            + [thr[s]] * len(time[start_idx[s] : end_idx[s]])\n",
    "            + thresh[end_idx[s] :]\n",
    "        )\n",
    "\n",
    "    # add the two lists (ht & et) to for_eye df\n",
    "    for_eye[\"thresh\"] = thresh\n",
    "\n",
    "    # save for_eye df\n",
    "    for_eye = pd.DataFrame(for_eye)\n",
    "    display(for_eye)\n",
    "    # save df:\n",
    "    # 1 == MAD_woBig\n",
    "    if define_intervals == 1:\n",
    "        for_eye.to_csv(\n",
    "            f\"{PATH_FOREYE}/correTS_mad_wobig_{uid}.csv\", index=True\n",
    "        )\n",
    "    # 2 == 10_sec\n",
    "    else:\n",
    "        for_eye.to_csv(f\"{PATH_FOREYE}/correTS__10sec_{uid}.csv\", index=True)"
   ]
  },
  {
   "cell_type": "markdown",
   "id": "136c81d8-f771-44e4-98ed-9698451e8eda",
   "metadata": {
    "jp-MarkdownHeadingCollapsed": true,
    "tags": []
   },
   "source": [
    "## Define Fixations"
   ]
  },
  {
   "cell_type": "code",
   "execution_count": 15,
   "id": "6fd6cc8f-b8f0-45e1-a541-ca96693ac72e",
   "metadata": {
    "tags": []
   },
   "outputs": [
    {
     "data": {
      "text/plain": [
       "'18d7a183-6a4a-4778-bd24-e74a388ffaaa'"
      ]
     },
     "metadata": {},
     "output_type": "display_data"
    }
   ],
   "source": [
    "ids = recordings.index.tolist()\n",
    "idd = ids[:]\n",
    "\n",
    "for i, uid in enumerate(idd):\n",
    "    display(uid)\n",
    "    # load data\n",
    "    # 1 == MAD_woBig\n",
    "    if define_intervals == 1:\n",
    "        for_eye = pd.read_csv(\n",
    "            f\"{PATH_FOREYE}/correTS_mad_wobig_{uid}.csv\", index_col=0\n",
    "        )\n",
    "        int_data = pd.read_csv(\n",
    "            f\"{PATH_FOREYE}/interval_mad_wobig_{uid}.csv\", index_col=0\n",
    "        )\n",
    "    # 2 == 10_sec\n",
    "    else:\n",
    "        for_eye = pd.read_csv(\n",
    "            f\"{PATH_FOREYE}/correTS__10sec_{uid}.csv\", index_col=0\n",
    "        )\n",
    "        int_data = pd.read_csv(\n",
    "            f\"{PATH_FOREYE}/interval_mad_10sec_{uid}.csv\", index_col=0\n",
    "        )\n",
    "\n",
    "    start = int_data[\"start_idx\"].tolist()\n",
    "    end = int_data[\"end_idx\"].tolist()\n",
    "    thres = int_data[\"thresh\"].tolist()\n",
    "    combined_vel = for_eye[\"combined_vel\"].tolist()\n",
    "\n",
    "    # define list where the fixations will be added too\n",
    "    is_fix = [np.nan] * len(combined_vel)\n",
    "\n",
    "    for i in range(len(start)):\n",
    "        av = combined_vel[start[i] : end[i]]\n",
    "        # go through combined velocity and save all that are bigger than the threshold\n",
    "        fix = [ti if ti < thres[i] else np.nan for ti in av]\n",
    "        is_fix[start[i] : end[i]] = fix\n",
    "\n",
    "    # save\n",
    "    for_eye[\"isFix\"] = is_fix\n",
    "\n",
    "    # save data\n",
    "    for_eye = pd.DataFrame(for_eye)\n",
    "\n",
    "    # save df:\n",
    "    # 1 == MAD_woBig\n",
    "    if define_intervals == 1:\n",
    "        for_eye.to_csv(\n",
    "            f\"{PATH_FOREYE}/correTS_mad_wobig_{uid}.csv\", index=True\n",
    "        )\n",
    "    # 2 == 10_sec\n",
    "    else:\n",
    "        for_eye.to_csv(f\"{PATH_FOREYE}/correTS__10sec_{uid}.csv\", index=True)"
   ]
  },
  {
   "cell_type": "markdown",
   "id": "6df98a4a-5187-4d61-b86e-6b09556d6431",
   "metadata": {
    "jp-MarkdownHeadingCollapsed": true,
    "tags": []
   },
   "source": [
    "## Correct small saccades and add gaze length + event onset/offset to list"
   ]
  },
  {
   "cell_type": "code",
   "execution_count": 16,
   "id": "dbfa2528-6506-4099-b261-2dd6eaf411ea",
   "metadata": {
    "tags": []
   },
   "outputs": [
    {
     "data": {
      "application/vnd.jupyter.widget-view+json": {
       "model_id": "e917793f67454c8e8b01e21a7e456096",
       "version_major": 2,
       "version_minor": 0
      },
      "text/plain": [
       "📄 0 of 1 📂 participants processed:            \n",
       "              0% ⏱️00:00 ⏳? ⚙️?it/s"
      ]
     },
     "metadata": {},
     "output_type": "display_data"
    },
    {
     "data": {
      "application/vnd.jupyter.widget-view+json": {
       "model_id": "5b351091bac04266ba42c94c4ca5d031",
       "version_major": 2,
       "version_minor": 0
      },
      "text/plain": [
       "📄 0 of 159251 ⌚ timestamps from participant 18d7a183-6a4a-4778-bd24-e74a388ffaaa processed:            \n",
       "      …"
      ]
     },
     "metadata": {},
     "output_type": "display_data"
    }
   ],
   "source": [
    "##### CODE WORKING SO FAR\n",
    "def correct_small_events(uid):\n",
    "    \"\"\"\n",
    "    Correct is an event is too small.\n",
    "\n",
    "    Parameters:\n",
    "        uid (str): Participant identifier.\n",
    "    \"\"\"\n",
    "\n",
    "\n",
    "    min_sacc_dur = 0.02  # min sacc duration\n",
    "    min_gaze_dur = 0.04  # min gaze duration (Ashima uses 0.05)\n",
    "\n",
    "    # load data\n",
    "    # 1 == MAD_woBig\n",
    "    if define_intervals == 1:\n",
    "        for_eye = pd.read_csv(\n",
    "            f\"{PATH_FOREYE}/correTS_mad_wobig_{uid}.csv\", index_col=0\n",
    "        )\n",
    "    # 2 == 10_sec\n",
    "    else:\n",
    "        for_eye = pd.read_csv(\n",
    "            f\"{PATH_FOREYE}/correTS__10sec_{uid}.csv\", index_col=0\n",
    "        )\n",
    "\n",
    "    time = for_eye[\"time\"].tolist()\n",
    "\n",
    "    index = for_eye.index.tolist()  # index of df for easier use\n",
    "    start_time = for_eye.iloc[0][\"time\"]  # update for each change\n",
    "    start_idx = index[\n",
    "        0\n",
    "    ]  # will be updated each event and used to add to the lists\n",
    "\n",
    "    # to save:\n",
    "    isFix = []\n",
    "    combined_vel = []\n",
    "\n",
    "    # if the first sample does not have any data\n",
    "    if math.isnan(for_eye.iloc[0][\"combined_vel\"]) and not math.isnan(\n",
    "        for_eye.iloc[1][\"combined_vel\"]\n",
    "    ):\n",
    "        start_time = for_eye.iloc[1][\"time\"]  # update for each change\n",
    "        start_idx = index[\n",
    "            1\n",
    "        ]  # will be updated each event and used to add to the lists\n",
    "        isFix = [np.nan]\n",
    "        combined_vel = [np.nan]\n",
    "\n",
    "    # starting with a sacc\n",
    "    if math.isnan(for_eye.loc[start_idx][\"isFix\"]):\n",
    "        event = 0  # == sacc\n",
    "    # starting with a gaze\n",
    "    else:\n",
    "        event = 1  # == gaze\n",
    "\n",
    "    # hits progress bar\n",
    "    index_pbar = tqdm(\n",
    "        iterable=index[index.index(start_idx) : -1],\n",
    "        desc=f\"⌚ timestamps from participant {uid}\",\n",
    "        dynamic_ncols=True,\n",
    "        bar_format=B_FORMAT,\n",
    "    )\n",
    "\n",
    "    # display(for_eye[['time','isFix']])\n",
    "    # go through the list:\n",
    "    for idx in index_pbar:\n",
    "        curr_line = for_eye.loc[idx]\n",
    "        next_line = for_eye.loc[idx + 1]\n",
    "\n",
    "        # gaze (--> sacc): now gaze, next one is sacc\n",
    "        if not math.isnan(curr_line.isFix) and math.isnan(next_line.isFix):\n",
    "            # if the event is too small but we are currently in a big gaze, keep isFix change combined_vel\n",
    "            if event == 1 and next_line.time - start_time < min_gaze_dur:\n",
    "                isFix = (\n",
    "                    isFix + for_eye.loc[start_idx:idx, \"isFix\"].values.tolist()\n",
    "                )  # keep isFix\n",
    "                combined_vel = combined_vel + [np.nan] * (\n",
    "                    idx + 1 - start_idx\n",
    "                )  # change combined_vel\n",
    "            # elif current event to small and we are in big saccade, change isFix, change combined_vel\n",
    "            elif event == 0 and next_line.time - start_time < min_gaze_dur:\n",
    "                isFix = isFix + [np.nan] * (idx + 1 - start_idx)\n",
    "                combined_vel = combined_vel + [np.nan] * (idx + 1 - start_idx)\n",
    "            # elif current event big enough, keep isFix and keep combined_vel and change event to 1,update length\n",
    "            elif next_line.time - start_time >= min_gaze_dur:\n",
    "                isFix = (\n",
    "                    isFix + for_eye.loc[start_idx:idx, \"isFix\"].values.tolist()\n",
    "                )  # keep isFix\n",
    "                combined_vel = (\n",
    "                    combined_vel\n",
    "                    + for_eye.loc[\n",
    "                        start_idx:idx, \"combined_vel\"\n",
    "                    ].values.tolist()\n",
    "                )  # keep combined_vel\n",
    "                event = 1  # change events\n",
    "            # update start_time and start_idx\n",
    "            start_idx = idx + 1\n",
    "            start_time = for_eye.loc[idx + 1][\"time\"]\n",
    "\n",
    "        # sacc (--> gaze): now sacc, next one is gaze\n",
    "        elif math.isnan(curr_line.isFix) and not math.isnan(next_line.isFix):\n",
    "            # if the event is too small and we are currently in a big sacc, keep isFix change combined_vel\n",
    "            if event == 0 and next_line.time - start_time < min_sacc_dur:\n",
    "                isFix = (\n",
    "                    isFix + for_eye.loc[start_idx:idx, \"isFix\"].values.tolist()\n",
    "                )  # keep isFix\n",
    "                combined_vel = combined_vel + [np.nan] * (\n",
    "                    idx + 1 - start_idx\n",
    "                )  # change combined_vel\n",
    "            # elif current event to small but we are in big gaze, change isFix, change combined_vel\n",
    "            elif event == 1 and next_line.time - start_time < min_sacc_dur:\n",
    "                isFix = (\n",
    "                    isFix\n",
    "                    + for_eye.loc[\n",
    "                        start_idx:idx, \"combined_vel\"\n",
    "                    ].values.tolist()\n",
    "                )  # change isFix\n",
    "                combined_vel = combined_vel + [np.nan] * (\n",
    "                    idx + 1 - start_idx\n",
    "                )  # change combined_vel\n",
    "            # elif current event big enough, keep isFix and keep combined_vel and change event to 0,update length\n",
    "            elif next_line.time - start_time >= min_sacc_dur:\n",
    "                isFix = (\n",
    "                    isFix + for_eye.loc[start_idx:idx, \"isFix\"].values.tolist()\n",
    "                )  # keep isFix\n",
    "                combined_vel = (\n",
    "                    combined_vel\n",
    "                    + for_eye.loc[\n",
    "                        start_idx:idx, \"combined_vel\"\n",
    "                    ].values.tolist()\n",
    "                )  # keep combined_vel\n",
    "                event = 0  # change events\n",
    "            # update start_time and start_idx\n",
    "            start_idx = idx + 1\n",
    "            start_time = for_eye.loc[idx + 1][\"time\"]\n",
    "\n",
    "        # last index:\n",
    "        if idx + 1 == index[-1]:\n",
    "            # gaze:\n",
    "            if not math.isnan(next_line.isFix):\n",
    "                # if the event is too small but we are currently in a big gaze, keep isFix change combined_vel\n",
    "                if (\n",
    "                    event == 1\n",
    "                    and next_line.time + 0.011 - start_time < min_gaze_dur\n",
    "                ):\n",
    "                    isFix = (\n",
    "                        isFix\n",
    "                        + for_eye.loc[start_idx:, \"isFix\"].values.tolist()\n",
    "                    )  # keep isFix\n",
    "                    combined_vel = combined_vel + [np.nan] * (\n",
    "                        idx + 2 - start_idx\n",
    "                    )  # change combined_vel\n",
    "                # elif current event to small and we are in big saccade, change isFix, change combined_vel\n",
    "                elif (\n",
    "                    event == 0\n",
    "                    and next_line.time + 0.011 - start_time < min_gaze_dur\n",
    "                ):\n",
    "                    isFix = isFix + [np.nan] * (idx + 2 - start_idx)\n",
    "                    combined_vel = combined_vel + [np.nan] * (\n",
    "                        idx + 2 - start_idx\n",
    "                    )\n",
    "                # elif current event big enough, keep isFix and keep combined_vel and change event to 1,update length\n",
    "                elif next_line.time + 0.011 - start_time >= min_gaze_dur:\n",
    "                    isFix = (\n",
    "                        isFix\n",
    "                        + for_eye.loc[start_idx:, \"isFix\"].values.tolist()\n",
    "                    )  # keep isFix\n",
    "                    combined_vel = (\n",
    "                        combined_vel\n",
    "                        + for_eye.loc[\n",
    "                            start_idx:, \"combined_vel\"\n",
    "                        ].values.tolist()\n",
    "                    )  # keep combined_vel\n",
    "            # sacc:\n",
    "            elif math.isnan(next_line.isFix):\n",
    "                # if the event is too small and we are currently in a big sacc, keep isFix change combined_vel\n",
    "                if (\n",
    "                    event == 0\n",
    "                    and next_line.time + 0.011 - start_time < min_sacc_dur\n",
    "                ):\n",
    "                    isFix = (\n",
    "                        isFix\n",
    "                        + for_eye.loc[start_idx:, \"isFix\"].values.tolist()\n",
    "                    )  # keep isFix\n",
    "                    combined_vel = combined_vel + [np.nan] * (\n",
    "                        idx + 2 - start_idx\n",
    "                    )  # change combined_vel\n",
    "                # elif current event to small but we are in big gaze, change isFix, change combined_vel\n",
    "                elif (\n",
    "                    event == 1\n",
    "                    and next_line.time + 0.011 - start_time < min_sacc_dur\n",
    "                ):\n",
    "                    isFix = (\n",
    "                        isFix\n",
    "                        + for_eye.loc[\n",
    "                            start_idx:, \"combined_vel\"\n",
    "                        ].values.tolist()\n",
    "                    )  # change isFix\n",
    "                    combined_vel = combined_vel + [np.nan] * (\n",
    "                        idx + 2 - start_idx\n",
    "                    )  # change combined_vel\n",
    "                # elif current event big enough, keep isFix and keep combined_vel and change event to 0,update length\n",
    "                elif next_line.time + 0.011 - start_time >= min_sacc_dur:\n",
    "                    isFix = (\n",
    "                        isFix\n",
    "                        + for_eye.loc[start_idx:, \"isFix\"].values.tolist()\n",
    "                    )  # keep isFix\n",
    "                    combined_vel = (\n",
    "                        combined_vel\n",
    "                        + for_eye.loc[\n",
    "                            start_idx:, \"combined_vel\"\n",
    "                        ].values.tolist()\n",
    "                    )  # keep combined_vel\n",
    "\n",
    "    # save everything:\n",
    "    for_eye[\"isFix\"] = isFix\n",
    "    for_eye[\"corrected_vel\"] = combined_vel\n",
    "    # save data\n",
    "    for_eye = pd.DataFrame(for_eye)\n",
    "\n",
    "    # save df:\n",
    "    # 1 == MAD_woBig\n",
    "    if define_intervals == 1:\n",
    "        for_eye.to_csv(\n",
    "            f\"{PATH_FOREYE}/correTS_mad_wobig_{uid}.csv\", index=True\n",
    "        )\n",
    "    # 2 == 10_sec\n",
    "    else:\n",
    "        for_eye.to_csv(f\"{PATH_FOREYE}/correTS__10sec_{uid}.csv\", index=True)\n",
    "\n",
    "\n",
    "\n",
    "# participants ids\n",
    "ids = recordings.index.tolist()\n",
    "idd = ids[:]\n",
    "\n",
    "# participants progress bar\n",
    "parts_pbar = tqdm(\n",
    "    iterable=idd,\n",
    "    total=len(idd),\n",
    "    desc=\"📂 participants\",\n",
    "    dynamic_ncols=True,\n",
    "    bar_format=B_FORMAT,\n",
    ")\n",
    "\n",
    "\n",
    "for i in parts_pbar:\n",
    "    correct_small_events(i)\n"
   ]
  },
  {
   "cell_type": "markdown",
   "id": "61e6b0da-92d9-40da-9783-9597e908a1f2",
   "metadata": {
    "jp-MarkdownHeadingCollapsed": true,
    "tags": []
   },
   "source": [
    "## Define events, duration etc. "
   ]
  },
  {
   "cell_type": "code",
   "execution_count": 17,
   "id": "869d0212-690b-423f-902a-8f76721df5ac",
   "metadata": {
    "tags": []
   },
   "outputs": [
    {
     "data": {
      "application/vnd.jupyter.widget-view+json": {
       "model_id": "24ea2bf61b514d5d880adee9f30fe9f2",
       "version_major": 2,
       "version_minor": 0
      },
      "text/plain": [
       "📄 0 of 1 📂 participants processed:            \n",
       "              0% ⏱️00:00 ⏳? ⚙️?it/s"
      ]
     },
     "metadata": {},
     "output_type": "display_data"
    },
    {
     "data": {
      "application/vnd.jupyter.widget-view+json": {
       "model_id": "636b9e450460467b946e1b081605f025",
       "version_major": 2,
       "version_minor": 0
      },
      "text/plain": [
       "📄 0 of 159251 ⌚ timestamps from participant 18d7a183-6a4a-4778-bd24-e74a388ffaaa processed:            \n",
       "      …"
      ]
     },
     "metadata": {},
     "output_type": "display_data"
    }
   ],
   "source": [
    "def get_events_len_dist(uid):\n",
    "    \"\"\"\n",
    "    Correct is an event is too small.\n",
    "\n",
    "    Parameters:\n",
    "        uid (str): Participant identifier.\n",
    "    \"\"\"\n",
    "\n",
    "\n",
    "    min_sacc_dur = 0.02  # min sacc duration\n",
    "    min_gaze_dur = 0.04  # min gaze duration (Ashima uses 0.05)\n",
    "\n",
    "    # load data\n",
    "    # 1 == MAD_woBig\n",
    "    if define_intervals == 1:\n",
    "        for_eye = pd.read_csv(\n",
    "            f\"{PATH_FOREYE}/correTS_mad_wobig_{uid}.csv\", index_col=0\n",
    "        )\n",
    "    # 2 == 10_sec\n",
    "    else:\n",
    "        for_eye = pd.read_csv(\n",
    "            f\"{PATH_FOREYE}/correTS__10sec_{uid}.csv\", index_col=0\n",
    "        )\n",
    "\n",
    "    time = for_eye[\"time\"].tolist()\n",
    "\n",
    "\n",
    "    ########## EVENTS, LENGTH, AVG DISTANCE, NAME OF OBJECT ##########\n",
    "    index = for_eye.index.tolist()  # index of df for easier use\n",
    "\n",
    "    events = [np.nan] * len(\n",
    "        for_eye\n",
    "    )  # sacc begin == 1, sacc end == -1; gaze begin == 2, gaze end == -2\n",
    "\n",
    "    # if the first sample does not have any data\n",
    "    if math.isnan(for_eye.iloc[0][\"combined_vel\"]) and not math.isnan(\n",
    "        for_eye.iloc[1][\"combined_vel\"]\n",
    "    ):\n",
    "        start_idx = index[\n",
    "            1\n",
    "        ]  # will be updated each event and used to add to the lists\n",
    "        events[1] = 2\n",
    "        length = [np.nan]\n",
    "        dist = [\n",
    "            np.nan\n",
    "        ]  # to save the distance to the hitpoint at each timestamps\n",
    "        avg_dist = [\n",
    "            np.nan\n",
    "        ]  # to save the average distance of collider(s) during event\n",
    "        names = [np.nan]  # to save the name of the current gaze\n",
    "    else:\n",
    "        start_idx = index[\n",
    "            0\n",
    "        ]  # will be updated each event and used to add to the lists\n",
    "        length = []\n",
    "        dist = []  # to save the distance to the hitpoint at each timestamps\n",
    "        avg_dist = (\n",
    "            []\n",
    "        )  # to save the average distance of collider(s) during event\n",
    "        names = []  # to save the name of the current gaze\n",
    "        if math.isnan(for_eye.iloc[0][\"combined_vel\"]):\n",
    "            events[0] = 1\n",
    "        else:\n",
    "            events[0] = 2\n",
    "    start_time = for_eye.loc[start_idx][\"time\"].tolist()\n",
    "\n",
    "    # hits progress bar\n",
    "    index_pbar = tqdm(\n",
    "        iterable=index[index.index(start_idx) : -1],\n",
    "        desc=f\"⌚ timestamps from participant {uid}\",\n",
    "        dynamic_ncols=True,\n",
    "        bar_format=B_FORMAT,\n",
    "    )\n",
    "    # go through the list:\n",
    "    for idx in index_pbar:\n",
    "        curr_line = for_eye.loc[idx]\n",
    "        next_line = for_eye.loc[idx + 1]\n",
    "\n",
    "        # distance:\n",
    "        hpoo = np.array(\n",
    "            [curr_line[\"HitPointOnObject.x\"], curr_line[\"HitPointOnObject.y\"], curr_line[\"HitPointOnObject.z\"]]\n",
    "        )  # hitpoints on object\n",
    "        coord_orig = np.array(\n",
    "            [\n",
    "                curr_line[\"eyePositionCombinedWorld.x\"],\n",
    "                curr_line[\"eyePositionCombinedWorld.x\"],\n",
    "                curr_line[\"eyePositionCombinedWorld.x\"],\n",
    "            ]\n",
    "        )  # position of eyes\n",
    "        dist = dist + [\n",
    "            np.linalg.norm(hpoo - coord_orig)\n",
    "        ]  # calculate to distance at this timpoint\n",
    "\n",
    "        # gaze --> sacc: now gaze, next one is sacc\n",
    "        if not math.isnan(curr_line.isFix) and math.isnan(next_line.isFix):\n",
    "            # get name:\n",
    "            res = dict(\n",
    "                Counter(for_eye.loc[start_idx:idx, \"hitObjectColliderName_all\"].values.tolist())\n",
    "            )\n",
    "            # this case in case there is mostly nans but some names (so we don't get an nan in these cases)\n",
    "            try:\n",
    "                max_keys = max((key for key in res.keys() if isinstance(key, str)), key=(lambda new_k: res[new_k]))\n",
    "            except ValueError:\n",
    "                max_keys = np.nan\n",
    "            names = names + [max_keys] * (idx + 1 - start_idx)\n",
    "            res = []\n",
    "            \n",
    "            # length, distance, events\n",
    "            length = length + [curr_line.time - start_time] * (\n",
    "                idx + 1 - start_idx\n",
    "            )  # length of event\n",
    "            avg_dist = avg_dist + [\n",
    "                np.nanmean(dist[index.index(start_idx) :])\n",
    "            ] * (\n",
    "                idx + 1 - start_idx\n",
    "            )  # average distance to collider(s) during event\n",
    "            events[index.index(idx)] = -2  # end of gaze\n",
    "            events[index.index(idx) + 1] = 1  # beginning of sacc\n",
    "            # new idx\n",
    "            start_time = curr_line.time\n",
    "            start_idx = idx + 1\n",
    "\n",
    "        # sacc --> gaze: now sacc, next one is gaze\n",
    "        elif math.isnan(curr_line.isFix) and not math.isnan(next_line.isFix):\n",
    "            # get name:\n",
    "            res = dict(\n",
    "                Counter(for_eye.loc[start_idx:idx, \"hitObjectColliderName_all\"].values.tolist())\n",
    "            )\n",
    "            # this case in case there is mostly nans but some names (so we don't get an nan in these cases)\n",
    "            try:\n",
    "                max_keys = max((key for key in res.keys() if isinstance(key, str)), key=(lambda new_k: res[new_k]))\n",
    "                \n",
    "            except ValueError:\n",
    "                max_keys = np.nan\n",
    "            names = names + [max_keys] * (idx + 1 - start_idx)\n",
    "            res = []\n",
    "            # length, distance, events\n",
    "            length = length + [curr_line.time - start_time] * (\n",
    "                idx + 1 - start_idx\n",
    "            )  # length of event\n",
    "            avg_dist = avg_dist + [\n",
    "                np.nanmean(dist[index.index(start_idx) :])\n",
    "            ] * (\n",
    "                idx + 1 - start_idx\n",
    "            )  # average distance to collider(s) during event\n",
    "            events[index.index(idx) + 1] = 2  # beginning of gaze\n",
    "            ###### TO CHANGE POSSIBLY\n",
    "            if events[index.index(idx)] != 1:\n",
    "                events[index.index(idx)] = -1  # end of sacc\n",
    "            # new idx\n",
    "            start_time = curr_line.time\n",
    "            start_idx = idx + 1\n",
    "\n",
    "        # last index:\n",
    "        if idx + 1 == index[-1]:\n",
    "            # gaze:\n",
    "            if not math.isnan(next_line.isFix):\n",
    "                events[-1] = -2  # end of gaze\n",
    "            # sacc:\n",
    "            elif math.isnan(next_line.isFix):\n",
    "                events[-1] = -1  # end of sacc\n",
    "            length = length + [next_line.time - start_time] * (\n",
    "                idx + 2 - start_idx\n",
    "            )  # length of event\n",
    "            # distance\n",
    "            avg_dist = avg_dist + [\n",
    "                np.nanmean(dist[index.index(start_idx) :])\n",
    "            ] * (\n",
    "                idx + 2 - start_idx\n",
    "            )  # average distance to collider(s) during event\n",
    "            hpoo = np.array(\n",
    "                [next_line[\"HitPointOnObject.x\"], next_line[\"HitPointOnObject.y\"], next_line[\"HitPointOnObject.z\"]]\n",
    "            )  # hitpoints on object\n",
    "            coord_orig = np.array(\n",
    "                [\n",
    "                    next_line[\"eyePositionCombinedWorld.x\"],\n",
    "                    next_line[\"eyePositionCombinedWorld.x\"],\n",
    "                    next_line[\"eyePositionCombinedWorld.x\"],\n",
    "                ]\n",
    "            )  # position of eyes\n",
    "            dist = dist + [\n",
    "                np.linalg.norm(hpoo - coord_orig)\n",
    "            ]  # calculate to distance at this timpoint\n",
    "            # names\n",
    "            res = dict(\n",
    "                Counter(for_eye.loc[start_idx:, \"hitObjectColliderName_all\"].values.tolist())\n",
    "            )\n",
    "            # this case in case there is mostly nans but some names (so we don't get an nan in these cases)\n",
    "            try:\n",
    "                max_keys = max((key for key in res.keys() if isinstance(key, str)), key=(lambda new_k: res[new_k]))\n",
    "            except ValueError:\n",
    "                max_keys = np.nan\n",
    "            names = names + [max_keys] * (idx + 2 - start_idx)\n",
    "            res = []\n",
    "            \n",
    "        # display(len(names))\n",
    "        # display(len(avg_dist))\n",
    "    # save everything:\n",
    "    for_eye[\"events\"] = events\n",
    "    for_eye[\"length\"] = length\n",
    "    for_eye[\"distance\"] = dist\n",
    "    for_eye[\"avg_dist\"] = avg_dist\n",
    "    for_eye[\"names\"] = names\n",
    "    # display(for_eye[['time','isFix','events','hon_all','names']])\n",
    "    # save data\n",
    "    for_eye = pd.DataFrame(for_eye)\n",
    "\n",
    "    # save df:\n",
    "    # 1 == MAD_woBig\n",
    "    if define_intervals == 1:\n",
    "        for_eye.to_csv(\n",
    "            f\"{PATH_FOREYE}/correTS_mad_wobig_{uid}.csv\", index=True\n",
    "        )\n",
    "    # 2 == 10_sec\n",
    "    else:\n",
    "        for_eye.to_csv(f\"{PATH_FOREYE}/correTS__10sec_{uid}.csv\", index=True)\n",
    "\n",
    "\n",
    "# participants ids\n",
    "ids = recordings.index.tolist()\n",
    "idd = ids[:]\n",
    "\n",
    "# participants progress bar\n",
    "parts_pbar = tqdm(\n",
    "    iterable=idd,\n",
    "    total=len(idd),\n",
    "    desc=\"📂 participants\",\n",
    "    dynamic_ncols=True,\n",
    "    bar_format=B_FORMAT,\n",
    ")\n",
    "\n",
    "for i in parts_pbar:\n",
    "    get_events_len_dist(i)\n"
   ]
  },
  {
   "cell_type": "markdown",
   "id": "ff85292f-6271-4439-b171-74e6d1368de3",
   "metadata": {
    "jp-MarkdownHeadingCollapsed": true,
    "tags": []
   },
   "source": [
    "## Adjust the distance"
   ]
  },
  {
   "cell_type": "code",
   "execution_count": 18,
   "id": "d9b7000e-18fb-4323-83df-19a45cd9d60b",
   "metadata": {
    "tags": []
   },
   "outputs": [
    {
     "data": {
      "text/plain": [
       "'18d7a183-6a4a-4778-bd24-e74a388ffaaa'"
      ]
     },
     "metadata": {},
     "output_type": "display_data"
    },
    {
     "name": "stderr",
     "output_type": "stream",
     "text": [
      "C:\\Users\\schmi\\AppData\\Local\\Temp\\ipykernel_18720\\1632520370.py:54: RuntimeWarning: Mean of empty slice\n",
      "  hon_pos = [np.nanmean(hon_pos, axis=0)] * len(dist)\n",
      "C:\\Users\\schmi\\AppData\\Local\\Temp\\ipykernel_18720\\1632520370.py:61: RuntimeWarning: Mean of empty slice\n",
      "  avg_dist = avg_dist + [np.nanmean(dist)] * len(dist)\n"
     ]
    }
   ],
   "source": [
    "# Change average distance to correct for the potential of other events\n",
    "# so distance and avg_dist\n",
    "# plot average duration of gazes and saccades\n",
    "ids = recordings.index.tolist()\n",
    "idd = ids[:]\n",
    "for uid in idd:\n",
    "    display(uid)\n",
    "    # load data\n",
    "    # 1 == MAD_woBig\n",
    "    if define_intervals == 1:\n",
    "        for_eye = pd.read_csv(f\"{PATH_FOREYE}/correTS_mad_wobig_{uid}.csv\", index_col=0)\n",
    "    # 2 == 10_sec\n",
    "    else:\n",
    "        for_eye = pd.read_csv(\n",
    "            f\"{PATH_FOREYE}/correTS__10sec_{uid}.csv\", index_col=0\n",
    "        )\n",
    "\n",
    "    # total lists:\n",
    "    all_dist = []\n",
    "    avg_dist = []\n",
    "    # updated after each gaze\n",
    "    dist = []\n",
    "    hon_pos = []\n",
    "    dur_gaze = False\n",
    "    # during gaze:\n",
    "    # go through the list:\n",
    "    for g, gz in enumerate(for_eye[\"events\"]):\n",
    "        curr_line = for_eye.loc[g]\n",
    "        if gz == 2.0 or gz == 1.0:\n",
    "            dur_gaze = True\n",
    "            # get the gazed at object\n",
    "            curr_gaze = curr_line.names\n",
    "        # if you are currently in a gaze:\n",
    "        if dur_gaze:\n",
    "            # if you are currently having the correct element, add the position\n",
    "            if curr_line.hitObjectColliderName_all == curr_gaze:\n",
    "                hon_pos = hon_pos + [\n",
    "                    [\n",
    "                        curr_line[\"HitPointOnObject.x\"], curr_line[\"HitPointOnObject.y\"], curr_line[\"HitPointOnObject.z\"]\n",
    "                    ]\n",
    "                ]\n",
    "            dist = dist + [\n",
    "                np.array(\n",
    "                    [\n",
    "                        curr_line[\"eyePositionCombinedWorld.x\"],\n",
    "                        curr_line[\"eyePositionCombinedWorld.x\"],\n",
    "                        curr_line[\"eyePositionCombinedWorld.x\"],\n",
    "                    ]\n",
    "                )\n",
    "            ]\n",
    "\n",
    "        # once the gaze is over, take the avg_dist\n",
    "        if gz == -2.0 or gz == -1.0:\n",
    "            hon_pos = [np.nanmean(hon_pos, axis=0)] * len(dist)\n",
    "            # calculate to distance at this timpoint\n",
    "            dist = [\n",
    "                np.linalg.norm(hon_pos[c] - dist[c]) for c in range(len(dist))\n",
    "            ]\n",
    "            all_dist = all_dist + dist\n",
    "            # average distance during the gaze event\n",
    "            avg_dist = avg_dist + [np.nanmean(dist)] * len(dist)\n",
    "\n",
    "            # reset everything:\n",
    "            dist = []\n",
    "            hon_pos = []\n",
    "            dur_gaze = False\n",
    "\n",
    "        # if there are parts that are neither gaze nor saccade:\n",
    "        if (\n",
    "            (not dur_gaze)\n",
    "            and (gz not in [2.0, 1.0])\n",
    "            and (len(all_dist) + len(dist) != g + 1)\n",
    "        ):\n",
    "            all_dist = all_dist + [np.nan]\n",
    "            avg_dist = avg_dist + [np.nan]\n",
    "\n",
    "        if len(all_dist) + len(dist) != g + 1:\n",
    "            display(g)\n",
    "\n",
    "    if dur_gaze:\n",
    "        hon_pos = [np.nanmean(hon_pos, axis=0)] * len(dist)\n",
    "        # calculate to distance at this timpoint\n",
    "        dist = [np.linalg.norm(hon_pos[c] - dist[c]) for c in range(len(dist))]\n",
    "        all_dist = all_dist + dist\n",
    "        # average distance during the gaze event\n",
    "        avg_dist = avg_dist + [np.nanmean(dist)] * len(dist)\n",
    "\n",
    "    # add them to for_eye\n",
    "    for_eye[\"distance\"] = all_dist\n",
    "    for_eye[\"avg_dist\"] = avg_dist\n",
    "\n",
    "    # save data\n",
    "    for_eye = pd.DataFrame(for_eye)\n",
    "    # save df:\n",
    "    # 1 == MAD_woBig\n",
    "    if define_intervals == 1:\n",
    "        for_eye.to_csv(f\"{PATH_FOREYE}/correTS_mad_wobig_{uid}.csv\", index=True)\n",
    "    # 2 == 10_sec\n",
    "    else:\n",
    "        for_eye.to_csv(f\"{PATH_FOREYE}/correTS__10sec_{uid}.csv\", index=True)"
   ]
  },
  {
   "cell_type": "markdown",
   "id": "f74b9da9-61e3-4ec0-8d88-7cb0f5920df4",
   "metadata": {
    "jp-MarkdownHeadingCollapsed": true,
    "tags": []
   },
   "source": [
    "# Length: Correct for long Events (outliers)"
   ]
  },
  {
   "cell_type": "code",
   "execution_count": 19,
   "id": "a0613445-d4a2-46dc-8ed8-61774033f1ec",
   "metadata": {},
   "outputs": [
    {
     "data": {
      "text/plain": [
       "1"
      ]
     },
     "execution_count": 19,
     "metadata": {},
     "output_type": "execute_result"
    }
   ],
   "source": [
    "define_intervals"
   ]
  },
  {
   "cell_type": "code",
   "execution_count": 2,
   "id": "7eb39715-486a-41ba-844d-d0ec9017ea8d",
   "metadata": {
    "tags": []
   },
   "outputs": [
    {
     "ename": "NameError",
     "evalue": "name 'recordings' is not defined",
     "output_type": "error",
     "traceback": [
      "\u001b[1;31m---------------------------------------------------------------------------\u001b[0m",
      "\u001b[1;31mNameError\u001b[0m                                 Traceback (most recent call last)",
      "Cell \u001b[1;32mIn[2], line 8\u001b[0m\n\u001b[0;32m      1\u001b[0m \u001b[38;5;66;03m# perform median absolute deviation to find outliers in the event durations:\u001b[39;00m\n\u001b[0;32m      2\u001b[0m \u001b[38;5;66;03m# https://hausetutorials.netlify.app/posts/2019-10-07-outlier-detection-with-median-absolute-deviation/\u001b[39;00m\n\u001b[0;32m      3\u001b[0m \n\u001b[0;32m      4\u001b[0m \u001b[38;5;66;03m# Ashima:\u001b[39;00m\n\u001b[0;32m      5\u001b[0m \u001b[38;5;66;03m# Finally, we rejected all fixations with a duration greater than 3.5 times the median absolute deviation of the\u001b[39;00m\n\u001b[0;32m      6\u001b[0m \u001b[38;5;66;03m# population fixation duration...\u001b[39;00m\n\u001b[1;32m----> 8\u001b[0m ids \u001b[38;5;241m=\u001b[39m \u001b[43mrecordings\u001b[49m\u001b[38;5;241m.\u001b[39mindex\u001b[38;5;241m.\u001b[39mtolist()\n\u001b[0;32m      9\u001b[0m idd \u001b[38;5;241m=\u001b[39m ids[:]\n\u001b[0;32m     11\u001b[0m plotting \u001b[38;5;241m=\u001b[39m \u001b[38;5;28;01mFalse\u001b[39;00m\n",
      "\u001b[1;31mNameError\u001b[0m: name 'recordings' is not defined"
     ]
    }
   ],
   "source": [
    "# perform median absolute deviation to find outliers in the event durations:\n",
    "# https://hausetutorials.netlify.app/posts/2019-10-07-outlier-detection-with-median-absolute-deviation/\n",
    "\n",
    "# Ashima:\n",
    "# Finally, we rejected all fixations with a duration greater than 3.5 times the median absolute deviation of the\n",
    "# population fixation duration...\n",
    "\n",
    "ids = recordings.index.tolist()\n",
    "idd = ids[:]\n",
    "\n",
    "plotting = False\n",
    "g_len = []\n",
    "s_len = []\n",
    "\n",
    "for uid in idd:\n",
    "    display(uid)\n",
    "    # load data\n",
    "    # 1 == MAD_woBig\n",
    "    if define_intervals == 1:\n",
    "        for_eye = pd.read_csv(\n",
    "            f\"{PATH_FOREYE}/correTS_mad_wobig_{uid}.csv\", index_col=0\n",
    "        )\n",
    "    # 2 == 10_sec\n",
    "    else:\n",
    "        for_eye = pd.read_csv(\n",
    "            f\"{PATH_FOREYE}/correTS__10sec_{uid}.csv\", index_col=0\n",
    "        )\n",
    "    for_eye = for_eye[for_eye['valid'] == True]\n",
    "\n",
    "    for_eye = for_eye[~for_eye[\"blinks\"].isnull()]\n",
    "\n",
    "    # separate between gaze and saccade\n",
    "    gaze = for_eye[for_eye[\"events\"] == 2.0]\n",
    "    sacc = for_eye[\n",
    "        for_eye[\"events\"] == 1.0\n",
    "    ]  # as we do not always have 1.0 in the data, we take the end\n",
    "\n",
    "    g_len = g_len + gaze[\"length\"].tolist()\n",
    "    s_len = s_len + sacc[\"length\"].tolist()\n",
    "\n",
    "# median of the absolute deviation (* 1.4826 when assuming normal distribution):\n",
    "gaze_mad = np.nanmedian(abs(g_len - np.nanmedian(g_len))) * 1.4826\n",
    "sacc_mad = np.nanmedian(abs(s_len - np.nanmedian(s_len))) * 1.4826\n",
    "\n",
    "# calculate the median to reject data\n",
    "g_len_med = np.nanmedian(g_len)\n",
    "s_len_med = np.nanmedian(s_len)\n",
    "\n",
    "#\n",
    "for uid in idd:\n",
    "    # load data\n",
    "    # 0 == MAD\n",
    "    if define_intervals == 0:\n",
    "        for_eye = pd.read_csv(f\"{PATH_FOREYE}/correTS_{uid}.csv\", index_col=0)\n",
    "    # 1 == MAD_woBig\n",
    "    elif define_intervals == 1:\n",
    "        for_eye = pd.read_csv(\n",
    "            f\"{PATH_FOREYE}/correTS_mad_wobig_{uid}.csv\", index_col=0\n",
    "        )\n",
    "    # 2 == 10_sec\n",
    "    else:\n",
    "        for_eye = pd.read_csv(\n",
    "            f\"{PATH_FOREYE}/correTS__10sec_{uid}.csv\", index_col=0\n",
    "        )\n",
    "\n",
    "    invalid = for_eye[for_eye['valid'] == False]\n",
    "    for_eye = for_eye[for_eye['valid'] == True]\n",
    "\n",
    "    # separate between gaze and saccade\n",
    "    gaze = for_eye[~for_eye[\"isFix\"].isnull()]\n",
    "    sacc = for_eye[for_eye[\"isFix\"].isnull()]\n",
    "\n",
    "    # Deviations:\n",
    "    # then to calculate the deviations using the entire df for easy lookup later\n",
    "    gaze_mad_z = abs(gaze[\"length\"].tolist() - g_len_med) / gaze_mad\n",
    "    sacc_mad_z = abs(sacc[\"length\"].tolist() - s_len_med) / sacc_mad\n",
    "\n",
    "    # get the outliers:\n",
    "    gaze_mad_z[gaze_mad_z > 3.5] = np.nan\n",
    "    sacc_mad_z[sacc_mad_z > 3.5] = np.nan\n",
    "\n",
    "    # save the data:\n",
    "    for_eye = pd.concat([gaze, sacc, invalid])\n",
    "    for_eye[\"long_events\"] = gaze_mad_z.tolist() + sacc_mad_z.tolist() + [np.nan] * len(invalid)\n",
    "    for_eye = for_eye.sort_index()\n",
    "\n",
    "    # save df:\n",
    "    # 1 == MAD_woBig\n",
    "    if define_intervals == 1:\n",
    "        for_eye.to_csv(\n",
    "            f\"{PATH_FOREYE}/correTS_mad_wobig_{uid}.csv\", index=True\n",
    "        )\n",
    "    # 2 == 10_sec\n",
    "    else:\n",
    "        for_eye.to_csv(f\"{PATH_FOREYE}/correTS__10sec_{uid}.csv\", index=True)"
   ]
  },
  {
   "cell_type": "code",
   "execution_count": 10,
   "id": "62c9b3bc",
   "metadata": {},
   "outputs": [
    {
     "data": {
      "text/plain": [
       "'18d7a183-6a4a-4778-bd24-e74a388ffaaa'"
      ]
     },
     "metadata": {},
     "output_type": "display_data"
    },
    {
     "data": {
      "text/html": [
       "<div>\n",
       "<style scoped>\n",
       "    .dataframe tbody tr th:only-of-type {\n",
       "        vertical-align: middle;\n",
       "    }\n",
       "\n",
       "    .dataframe tbody tr th {\n",
       "        vertical-align: top;\n",
       "    }\n",
       "\n",
       "    .dataframe thead th {\n",
       "        text-align: right;\n",
       "    }\n",
       "</style>\n",
       "<table border=\"1\" class=\"dataframe\">\n",
       "  <thead>\n",
       "    <tr style=\"text-align: right;\">\n",
       "      <th></th>\n",
       "      <th>time</th>\n",
       "      <th>valid</th>\n",
       "      <th>eyeDirectionCombinedWorld.x</th>\n",
       "      <th>eyeDirectionCombinedWorld.y</th>\n",
       "      <th>eyeDirectionCombinedWorld.z</th>\n",
       "      <th>eyePositionCombinedWorld.x</th>\n",
       "      <th>eyePositionCombinedWorld.y</th>\n",
       "      <th>eyePositionCombinedWorld.z</th>\n",
       "      <th>eyeDirectionCombinedLocal.x</th>\n",
       "      <th>eyeDirectionCombinedLocal.y</th>\n",
       "      <th>...</th>\n",
       "      <th>combined_vel</th>\n",
       "      <th>thresh</th>\n",
       "      <th>isFix</th>\n",
       "      <th>corrected_vel</th>\n",
       "      <th>events</th>\n",
       "      <th>length</th>\n",
       "      <th>distance</th>\n",
       "      <th>avg_dist</th>\n",
       "      <th>names</th>\n",
       "      <th>long_events</th>\n",
       "    </tr>\n",
       "  </thead>\n",
       "  <tbody>\n",
       "    <tr>\n",
       "      <th>4</th>\n",
       "      <td>0.043</td>\n",
       "      <td>True</td>\n",
       "      <td>0.019</td>\n",
       "      <td>0.072</td>\n",
       "      <td>0.997</td>\n",
       "      <td>-59.100</td>\n",
       "      <td>2.418</td>\n",
       "      <td>34.760</td>\n",
       "      <td>-0.007</td>\n",
       "      <td>-0.003</td>\n",
       "      <td>...</td>\n",
       "      <td>2.368</td>\n",
       "      <td>18.065</td>\n",
       "      <td>2.368</td>\n",
       "      <td>2.368</td>\n",
       "      <td>2.000</td>\n",
       "      <td>0.100</td>\n",
       "      <td>170.023</td>\n",
       "      <td>170.026</td>\n",
       "      <td>Building_161</td>\n",
       "      <td>0.768</td>\n",
       "    </tr>\n",
       "    <tr>\n",
       "      <th>17</th>\n",
       "      <td>0.187</td>\n",
       "      <td>True</td>\n",
       "      <td>0.043</td>\n",
       "      <td>0.043</td>\n",
       "      <td>0.998</td>\n",
       "      <td>-59.070</td>\n",
       "      <td>2.418</td>\n",
       "      <td>34.759</td>\n",
       "      <td>0.017</td>\n",
       "      <td>-0.029</td>\n",
       "      <td>...</td>\n",
       "      <td>12.917</td>\n",
       "      <td>18.065</td>\n",
       "      <td>12.917</td>\n",
       "      <td>12.917</td>\n",
       "      <td>2.000</td>\n",
       "      <td>0.188</td>\n",
       "      <td>170.187</td>\n",
       "      <td>170.203</td>\n",
       "      <td>Building_161</td>\n",
       "      <td>0.085</td>\n",
       "    </tr>\n",
       "    <tr>\n",
       "      <th>39</th>\n",
       "      <td>0.432</td>\n",
       "      <td>True</td>\n",
       "      <td>-0.043</td>\n",
       "      <td>0.018</td>\n",
       "      <td>0.999</td>\n",
       "      <td>-59.076</td>\n",
       "      <td>2.418</td>\n",
       "      <td>34.759</td>\n",
       "      <td>-0.073</td>\n",
       "      <td>-0.051</td>\n",
       "      <td>...</td>\n",
       "      <td>4.962</td>\n",
       "      <td>6.782</td>\n",
       "      <td>4.962</td>\n",
       "      <td>4.962</td>\n",
       "      <td>2.000</td>\n",
       "      <td>0.044</td>\n",
       "      <td>173.326</td>\n",
       "      <td>173.328</td>\n",
       "      <td>Building_161</td>\n",
       "      <td>1.202</td>\n",
       "    </tr>\n",
       "    <tr>\n",
       "      <th>135</th>\n",
       "      <td>1.489</td>\n",
       "      <td>True</td>\n",
       "      <td>-0.291</td>\n",
       "      <td>0.047</td>\n",
       "      <td>0.956</td>\n",
       "      <td>-59.094</td>\n",
       "      <td>2.418</td>\n",
       "      <td>34.759</td>\n",
       "      <td>-0.310</td>\n",
       "      <td>-0.014</td>\n",
       "      <td>...</td>\n",
       "      <td>2.972</td>\n",
       "      <td>7.057</td>\n",
       "      <td>2.972</td>\n",
       "      <td>2.972</td>\n",
       "      <td>2.000</td>\n",
       "      <td>0.310</td>\n",
       "      <td>187.506</td>\n",
       "      <td>187.512</td>\n",
       "      <td>CollisionObject1</td>\n",
       "      <td>0.861</td>\n",
       "    </tr>\n",
       "    <tr>\n",
       "      <th>173</th>\n",
       "      <td>1.911</td>\n",
       "      <td>True</td>\n",
       "      <td>-0.284</td>\n",
       "      <td>0.014</td>\n",
       "      <td>0.959</td>\n",
       "      <td>-59.101</td>\n",
       "      <td>2.418</td>\n",
       "      <td>34.759</td>\n",
       "      <td>-0.300</td>\n",
       "      <td>-0.047</td>\n",
       "      <td>...</td>\n",
       "      <td>2.174</td>\n",
       "      <td>7.057</td>\n",
       "      <td>2.174</td>\n",
       "      <td>2.174</td>\n",
       "      <td>2.000</td>\n",
       "      <td>0.288</td>\n",
       "      <td>189.241</td>\n",
       "      <td>189.240</td>\n",
       "      <td>CollisionObject0</td>\n",
       "      <td>0.690</td>\n",
       "    </tr>\n",
       "    <tr>\n",
       "      <th>...</th>\n",
       "      <td>...</td>\n",
       "      <td>...</td>\n",
       "      <td>...</td>\n",
       "      <td>...</td>\n",
       "      <td>...</td>\n",
       "      <td>...</td>\n",
       "      <td>...</td>\n",
       "      <td>...</td>\n",
       "      <td>...</td>\n",
       "      <td>...</td>\n",
       "      <td>...</td>\n",
       "      <td>...</td>\n",
       "      <td>...</td>\n",
       "      <td>...</td>\n",
       "      <td>...</td>\n",
       "      <td>...</td>\n",
       "      <td>...</td>\n",
       "      <td>...</td>\n",
       "      <td>...</td>\n",
       "      <td>...</td>\n",
       "      <td>...</td>\n",
       "    </tr>\n",
       "    <tr>\n",
       "      <th>159074</th>\n",
       "      <td>2017.395</td>\n",
       "      <td>True</td>\n",
       "      <td>-0.957</td>\n",
       "      <td>0.230</td>\n",
       "      <td>0.178</td>\n",
       "      <td>-158.796</td>\n",
       "      <td>0.129</td>\n",
       "      <td>-176.413</td>\n",
       "      <td>-0.070</td>\n",
       "      <td>0.251</td>\n",
       "      <td>...</td>\n",
       "      <td>2.303</td>\n",
       "      <td>20.658</td>\n",
       "      <td>2.303</td>\n",
       "      <td>2.303</td>\n",
       "      <td>2.000</td>\n",
       "      <td>0.312</td>\n",
       "      <td>169.987</td>\n",
       "      <td>170.006</td>\n",
       "      <td>TaskBuilding_7</td>\n",
       "      <td>0.876</td>\n",
       "    </tr>\n",
       "    <tr>\n",
       "      <th>159113</th>\n",
       "      <td>2017.829</td>\n",
       "      <td>True</td>\n",
       "      <td>-0.996</td>\n",
       "      <td>0.044</td>\n",
       "      <td>0.073</td>\n",
       "      <td>-159.602</td>\n",
       "      <td>0.142</td>\n",
       "      <td>-176.324</td>\n",
       "      <td>-0.017</td>\n",
       "      <td>0.116</td>\n",
       "      <td>...</td>\n",
       "      <td>4.382</td>\n",
       "      <td>9.506</td>\n",
       "      <td>4.382</td>\n",
       "      <td>4.382</td>\n",
       "      <td>2.000</td>\n",
       "      <td>0.066</td>\n",
       "      <td>162.421</td>\n",
       "      <td>162.543</td>\n",
       "      <td>Building_222</td>\n",
       "      <td>1.031</td>\n",
       "    </tr>\n",
       "    <tr>\n",
       "      <th>159137</th>\n",
       "      <td>2018.095</td>\n",
       "      <td>True</td>\n",
       "      <td>-0.982</td>\n",
       "      <td>-0.022</td>\n",
       "      <td>-0.189</td>\n",
       "      <td>-160.304</td>\n",
       "      <td>0.156</td>\n",
       "      <td>-176.306</td>\n",
       "      <td>-0.173</td>\n",
       "      <td>0.067</td>\n",
       "      <td>...</td>\n",
       "      <td>0.000</td>\n",
       "      <td>10.191</td>\n",
       "      <td>0.000</td>\n",
       "      <td>0.000</td>\n",
       "      <td>2.000</td>\n",
       "      <td>0.134</td>\n",
       "      <td>161.998</td>\n",
       "      <td>162.010</td>\n",
       "      <td>Wall_4</td>\n",
       "      <td>0.504</td>\n",
       "    </tr>\n",
       "    <tr>\n",
       "      <th>159159</th>\n",
       "      <td>2018.340</td>\n",
       "      <td>True</td>\n",
       "      <td>-0.779</td>\n",
       "      <td>-0.070</td>\n",
       "      <td>-0.622</td>\n",
       "      <td>-160.314</td>\n",
       "      <td>0.154</td>\n",
       "      <td>-176.308</td>\n",
       "      <td>-0.463</td>\n",
       "      <td>0.037</td>\n",
       "      <td>...</td>\n",
       "      <td>7.014</td>\n",
       "      <td>35.214</td>\n",
       "      <td>7.014</td>\n",
       "      <td>7.014</td>\n",
       "      <td>2.000</td>\n",
       "      <td>0.230</td>\n",
       "      <td>161.605</td>\n",
       "      <td>161.550</td>\n",
       "      <td>Wall_4</td>\n",
       "      <td>0.240</td>\n",
       "    </tr>\n",
       "    <tr>\n",
       "      <th>159183</th>\n",
       "      <td>2018.616</td>\n",
       "      <td>True</td>\n",
       "      <td>-0.892</td>\n",
       "      <td>0.055</td>\n",
       "      <td>-0.449</td>\n",
       "      <td>-159.681</td>\n",
       "      <td>0.143</td>\n",
       "      <td>-176.073</td>\n",
       "      <td>-0.122</td>\n",
       "      <td>0.207</td>\n",
       "      <td>...</td>\n",
       "      <td>0.225</td>\n",
       "      <td>30.507</td>\n",
       "      <td>0.225</td>\n",
       "      <td>0.225</td>\n",
       "      <td>2.000</td>\n",
       "      <td>0.392</td>\n",
       "      <td>168.532</td>\n",
       "      <td>168.050</td>\n",
       "      <td>CollisionObject1</td>\n",
       "      <td>1.496</td>\n",
       "    </tr>\n",
       "  </tbody>\n",
       "</table>\n",
       "<p>5187 rows × 36 columns</p>\n",
       "</div>"
      ],
      "text/plain": [
       "           time  valid  eyeDirectionCombinedWorld.x  \\\n",
       "4         0.043   True                        0.019   \n",
       "17        0.187   True                        0.043   \n",
       "39        0.432   True                       -0.043   \n",
       "135       1.489   True                       -0.291   \n",
       "173       1.911   True                       -0.284   \n",
       "...         ...    ...                          ...   \n",
       "159074 2017.395   True                       -0.957   \n",
       "159113 2017.829   True                       -0.996   \n",
       "159137 2018.095   True                       -0.982   \n",
       "159159 2018.340   True                       -0.779   \n",
       "159183 2018.616   True                       -0.892   \n",
       "\n",
       "        eyeDirectionCombinedWorld.y  eyeDirectionCombinedWorld.z  \\\n",
       "4                             0.072                        0.997   \n",
       "17                            0.043                        0.998   \n",
       "39                            0.018                        0.999   \n",
       "135                           0.047                        0.956   \n",
       "173                           0.014                        0.959   \n",
       "...                             ...                          ...   \n",
       "159074                        0.230                        0.178   \n",
       "159113                        0.044                        0.073   \n",
       "159137                       -0.022                       -0.189   \n",
       "159159                       -0.070                       -0.622   \n",
       "159183                        0.055                       -0.449   \n",
       "\n",
       "        eyePositionCombinedWorld.x  eyePositionCombinedWorld.y  \\\n",
       "4                          -59.100                       2.418   \n",
       "17                         -59.070                       2.418   \n",
       "39                         -59.076                       2.418   \n",
       "135                        -59.094                       2.418   \n",
       "173                        -59.101                       2.418   \n",
       "...                            ...                         ...   \n",
       "159074                    -158.796                       0.129   \n",
       "159113                    -159.602                       0.142   \n",
       "159137                    -160.304                       0.156   \n",
       "159159                    -160.314                       0.154   \n",
       "159183                    -159.681                       0.143   \n",
       "\n",
       "        eyePositionCombinedWorld.z  eyeDirectionCombinedLocal.x  \\\n",
       "4                           34.760                       -0.007   \n",
       "17                          34.759                        0.017   \n",
       "39                          34.759                       -0.073   \n",
       "135                         34.759                       -0.310   \n",
       "173                         34.759                       -0.300   \n",
       "...                            ...                          ...   \n",
       "159074                    -176.413                       -0.070   \n",
       "159113                    -176.324                       -0.017   \n",
       "159137                    -176.306                       -0.173   \n",
       "159159                    -176.308                       -0.463   \n",
       "159183                    -176.073                       -0.122   \n",
       "\n",
       "        eyeDirectionCombinedLocal.y  ...  combined_vel  thresh  isFix  \\\n",
       "4                            -0.003  ...         2.368  18.065  2.368   \n",
       "17                           -0.029  ...        12.917  18.065 12.917   \n",
       "39                           -0.051  ...         4.962   6.782  4.962   \n",
       "135                          -0.014  ...         2.972   7.057  2.972   \n",
       "173                          -0.047  ...         2.174   7.057  2.174   \n",
       "...                             ...  ...           ...     ...    ...   \n",
       "159074                        0.251  ...         2.303  20.658  2.303   \n",
       "159113                        0.116  ...         4.382   9.506  4.382   \n",
       "159137                        0.067  ...         0.000  10.191  0.000   \n",
       "159159                        0.037  ...         7.014  35.214  7.014   \n",
       "159183                        0.207  ...         0.225  30.507  0.225   \n",
       "\n",
       "        corrected_vel  events  length  distance  avg_dist             names  \\\n",
       "4               2.368   2.000   0.100   170.023   170.026      Building_161   \n",
       "17             12.917   2.000   0.188   170.187   170.203      Building_161   \n",
       "39              4.962   2.000   0.044   173.326   173.328      Building_161   \n",
       "135             2.972   2.000   0.310   187.506   187.512  CollisionObject1   \n",
       "173             2.174   2.000   0.288   189.241   189.240  CollisionObject0   \n",
       "...               ...     ...     ...       ...       ...               ...   \n",
       "159074          2.303   2.000   0.312   169.987   170.006    TaskBuilding_7   \n",
       "159113          4.382   2.000   0.066   162.421   162.543      Building_222   \n",
       "159137          0.000   2.000   0.134   161.998   162.010            Wall_4   \n",
       "159159          7.014   2.000   0.230   161.605   161.550            Wall_4   \n",
       "159183          0.225   2.000   0.392   168.532   168.050  CollisionObject1   \n",
       "\n",
       "        long_events  \n",
       "4             0.768  \n",
       "17            0.085  \n",
       "39            1.202  \n",
       "135           0.861  \n",
       "173           0.690  \n",
       "...             ...  \n",
       "159074        0.876  \n",
       "159113        1.031  \n",
       "159137        0.504  \n",
       "159159        0.240  \n",
       "159183        1.496  \n",
       "\n",
       "[5187 rows x 36 columns]"
      ]
     },
     "metadata": {},
     "output_type": "display_data"
    },
    {
     "data": {
      "text/plain": [
       "0.21397898592635484"
      ]
     },
     "metadata": {},
     "output_type": "display_data"
    }
   ],
   "source": [
    "ids = recordings.index.tolist()\n",
    "idd = ids[:]\n",
    "for uid in idd:\n",
    "    display(uid)\n",
    "    for_eye = pd.read_csv(f\"{PATH_FOREYE}/correTS_mad_wobig_{uid}.csv\", index_col=0)\n",
    "    gaze = for_eye[for_eye[\"events\"] == 2.0]\n",
    "    gaze = gaze[~gaze[\"long_events\"].isnull()]\n",
    "\n",
    "    gaze = gaze[~gaze[\"names\"].isnull()]\n",
    "    display(gaze)\n",
    "    display(np.mean(gaze['length']))"
   ]
  },
  {
   "cell_type": "markdown",
   "id": "bb713316-3740-4c03-b8c2-355e30245717",
   "metadata": {
    "tags": []
   },
   "source": [
    "# Generate TriggerFile + File with Additional Information for EEG Analysis"
   ]
  },
  {
   "cell_type": "code",
   "execution_count": 21,
   "id": "75f946ed-ec24-4601-90a0-6f4dfacaa832",
   "metadata": {},
   "outputs": [
    {
     "data": {
      "text/plain": [
       "1"
      ]
     },
     "execution_count": 21,
     "metadata": {},
     "output_type": "execute_result"
    }
   ],
   "source": [
    "define_intervals"
   ]
  },
  {
   "cell_type": "code",
   "execution_count": 22,
   "id": "28335cd8",
   "metadata": {},
   "outputs": [],
   "source": [
    "# streams to remove\n",
    "REMOVE = [\n",
    "    \"openvibeSignal\",\n",
    "    \"openvibeMarkers\",\n",
    "    \"Diode\",\n",
    "    \"TimeStampBeginlsl\",\n",
    "    \"TimeStampEndlsl\",\n",
    "    \"TrialNumber\",\n",
    "    \"CancelPressed\",\n",
    "    \"handPosDirRot\", # Can be excluded for explorations but must be included for task sessions\n",
    "    \"bodyTrackerPosRot\", # Same here. Include for task sessions, exclude for explorations (use HMD positions instead)\n",
    "    \"TriggerPressed\",\n",
    "]"
   ]
  },
  {
   "cell_type": "code",
   "execution_count": 8,
   "id": "26e6541a",
   "metadata": {},
   "outputs": [],
   "source": [
    "Global_Landmark = ['crane_1', 'crane_2', 'Castle-TaskBuilding_56','HighSilo-TaskBuilding_49', 'House_49', \n",
    "                   'Windmill-TaskBuilding_10_1', 'House_10', 'Church-TaskBuilding_16', 'church'] \n",
    "\n",
    "TaskBuilding_Public = ['TaskBuilding_2','TaskBuilding_3', 'TaskBuilding_5', 'TaskBuilding_8', 'Graffity_2', 'Graffity_3', \n",
    "                       'Graffity_5', 'Graffity_8', 'TaskBuilding_46', 'Building_46', 'Garage_46', 'TaskBuilding_9',\n",
    "                       'TaskBuilding_11',\n",
    "                       'TaskBuilding_13', 'TaskBuilding_14', 'TaskBuilding_20', 'TaskBuilding_21', 'TaskBuilding_23', \n",
    "                       'TaskBuilding_27', 'TaskBuilding_29', 'TaskBuilding_34', 'TaskBuilding_38', 'TaskBuilding_41', \n",
    "                       'TaskBuilding_42', 'TaskBuilding_44', 'TaskBuilding_47', 'TaskBuilding_50', 'TaskBuilding_52', \n",
    "                       'TaskBuilding_45', 'TaskBuilding_53', 'Task_Building_32', 'Graffity_9', 'Graffity_11', \n",
    "                       'Graffity_13', 'Graffity_14', 'Graffity_20', 'Graffity_21', 'Graffity_23', 'Graffity_27', \n",
    "                       'Graffity_29', 'Graffity_34', 'Graffity_38', 'Graffity_41', 'Graffity_42', 'Graffity_44', \n",
    "                       'Graffity_47', 'Graffity_50', 'Graffity_52', 'Graffity_45', 'Graffity_53', 'Graffity_32']\n",
    "\n",
    "TaskBuilding_Residential = ['TaskBuilding_1','TaskBuilding_4', 'TaskBuilding_6', 'TaskBuilding_7',  'Graffity_1', \n",
    "                            'Graffity_4', 'Graffity_6', 'Graffity_7', 'Garage_26', 'TaskBuilding_12', 'TaskBuilding_15',\n",
    "                            'TaskBuilding_18','TaskBuilding_17','TaskBuilding_19','TaskBuilding_22','TaskBuilding_24',\n",
    "                            'TaskBuilding_26', 'TaskBuilding_28','TaskBuilding_31','TaskBuilding_33','TaskBuilding_35',\n",
    "                            'TaskBuilding_36','TaskBuilding_37','TaskBuilding_39','TaskBuilding_48','TaskBuilding_25',\n",
    "                            'TaskBuilding_54','TaskBuilding_55','Graffity_12', 'Graffity_15', 'Graffity_18', \n",
    "                            'Graffity_17', 'Graffity_19', 'Graffity_22', 'Graffity_24', 'Graffity_26', 'Graffity_28', \n",
    "                            'Graffity_31', 'Graffity_33', 'Graffity_35', 'Graffity_36', 'Graffity_37', 'Graffity_39', \n",
    "                            'Graffity_48', 'Graffity_25', 'Graffity_54', 'Graffity_55']\n",
    "\n",
    "Other_Buildings = ['Building_57', 'Building_58', 'Building_59', 'Building_60', 'Building_61', 'Building_62', 'Building_63',\n",
    "                   'Building_64', 'Building_65', 'Building_66', 'Building_67', 'Building_68', 'Building_69', 'Building_70',\n",
    "                   'Building_71', 'Building_72', 'Building_73', 'Building_74', 'Building_75', 'Building_76', 'Building_77',\n",
    "                   'Building_78', 'Building_79', 'Building_80', 'Building_81', 'Building_82', 'Building_83', 'Building_84',\n",
    "                   'Building_85', 'Building_86', 'Building_87', 'Building_88', 'Building_89', 'Building_90', 'Building_91',\n",
    "                   'Building_92', 'Building_93', 'Building_94', 'Building_95', 'Building_96', 'Building_97', 'Building_98',\n",
    "                   'Building_99', 'Building_100', 'Building_101', 'Building_102', 'Building_103', 'Building_104', \n",
    "                   'Building_105', 'Building_106', 'Building_107', 'Building_108', 'Building_109', 'Building_110', \n",
    "                   'Building_111', 'Building_112', 'Building_113', 'Building_114', 'Building_115', 'Building_116', \n",
    "                   'Building_117', 'Building_118', 'Building_119', 'Building_120', 'Building_121', 'Building_122', \n",
    "                   'Building_123', 'Building_124', 'Building_125', 'Building_126', 'Building_127', 'Building_128', \n",
    "                   'Building_129', 'Building_130', 'Building_131', 'Building_132', 'Building_133', 'Building_134', \n",
    "                   'Building_135', 'Building_136', 'Building_137', 'Building_138', 'Building_139', 'Building_140', \n",
    "                   'Building_141', 'Building_142', 'Building_143', 'Building_144', 'Building_145', 'Building_146', \n",
    "                   'Building_147', 'Building_148', 'Building_149', 'Building_150', 'Building_151', 'Building_152', \n",
    "                   'Building_153', 'Building_154', 'Building_155', 'Building_156', 'Building_157', 'building01_LOD0', \n",
    "                   'building01_LOD1', 'Building_158', 'Building_159', 'Building_160', 'Building_161', 'Building_162', \n",
    "                   'Building_163', 'Building_164', 'Building_165', 'Building_166', 'Building_167', 'Building_168', \n",
    "                   'Building_169', 'Building_170', 'Building_171', 'building02_LOD0', 'Building_172', 'Building_173', \n",
    "                   'Building_174', 'Building_175', 'Building_176', 'Building_177', 'Building_178', 'Building_179', \n",
    "                   'Building_180', 'Building_181', 'Building_182', 'Building_183', 'Building_184', 'Building_185', \n",
    "                   'Building_186', 'Building_187', 'Building_188', 'Building_189', 'Building_190', 'Building_191', \n",
    "                   'Building_192', 'Building_193', 'Building_194', 'Building_195', 'Building_196', 'Building_197', \n",
    "                   'Building_198', 'Building_199', 'Building_200', 'Building_201', 'Building_202', 'Building_203', \n",
    "                   'Building_204', 'Building_205', 'Building_206', 'Building_207', 'Building_208', 'Building_209', \n",
    "                   'Building_210', 'Building_211', 'Building_212', 'Building_213', 'Building_214', 'Building_215', \n",
    "                   'Building_216', 'Building_217', 'Building_218', 'Building_219', 'Building_220', 'Building_221', \n",
    "                   'Building_222', 'Building_223', 'Building_224', 'Building_225', 'Building_226', 'Building_227', \n",
    "                   'Building_228', 'Building_229', 'Building_230', 'Building_231', 'Building_232', 'Building_233', \n",
    "                   'Building_234', 'Building_235', 'Building_236', 'Garage_71', 'Garage_72', 'Garage_86', 'Garage_98', \n",
    "                   'Garage_185', 'Garage_224', 'Garage_235']"
   ]
  },
  {
   "cell_type": "code",
   "execution_count": 24,
   "id": "f39f55ef",
   "metadata": {},
   "outputs": [],
   "source": [
    "def compute_centroid(df, columns):\n",
    "    centroid = df[columns].mean().values\n",
    "    return centroid\n",
    "\n",
    "def compute_saccade_amplitude(prev_gaze_centroid, prev_subject_centroid, gaze_centroid, subject_centroid):\n",
    "    v_eye_vec = gaze_centroid - prev_gaze_centroid\n",
    "    eye_vec = prev_gaze_centroid - prev_subject_centroid\n",
    "    eye_vec = eye_vec/np.linalg.norm(eye_vec)\n",
    "    projection = np.dot(v_eye_vec, eye_vec) * eye_vec\n",
    "    v_eye_inplane = np.linalg.norm(v_eye_vec - projection)\n",
    "    sacc_amplitude = np.arctan2(v_eye_inplane, np.linalg.norm(prev_subject_centroid - prev_gaze_centroid))\n",
    "    return np.degrees(sacc_amplitude)"
   ]
  },
  {
   "cell_type": "code",
   "execution_count": 25,
   "id": "a67fe466",
   "metadata": {},
   "outputs": [
    {
     "data": {
      "text/plain": [
       "'18d7a183-6a4a-4778-bd24-e74a388ffaaa'"
      ]
     },
     "metadata": {},
     "output_type": "display_data"
    }
   ],
   "source": [
    "# participants ids\n",
    "ids = recordings.index.tolist()\n",
    "idd = ids[:]\n",
    "\n",
    "\n",
    "for uid in idd:\n",
    "    display(uid)\n",
    "    # load raw data\n",
    "    part = recordings.loc[uid].file\n",
    "    data, _ = pyxdf.load_xdf(f\"{PATH_RAW}/{part}\")\n",
    "\n",
    "    starts = []\n",
    "    names = []\n",
    "    ends = []\n",
    "    # get the new time:\n",
    "    for s in data:\n",
    "        # stream name\n",
    "        s_name = s[\"info\"][\"name\"][0]\n",
    "        # check SR of the EEG data\n",
    "        if \"openvibeSignal\" in s_name:\n",
    "            time_eeg = s[\"time_stamps\"][0]\n",
    "            time_eeg_end = s[\"time_stamps\"][-1]\n",
    "        elif s_name not in REMOVE:\n",
    "            starts.append(s[\"time_stamps\"][0])\n",
    "            names.append(s_name)\n",
    "            ends.append(s[\"time_stamps\"][-1])\n",
    "        if \"EyeTrackingPosDir\" in s_name:\n",
    "            et_start = s[\"time_stamps\"][0]\n",
    "\n",
    "    # check if P100 will be delayed, then double check if we have additional delays/shifts to take care off\n",
    "    to_sub = et_start - min(starts)  # this is done to correct for the onset\n",
    "    start = min(starts) - time_eeg\n",
    "    # TBD: decide which end to use!!!\n",
    "    # end = ends[starts.index(min(starts))] - time_eeg_end\n",
    "    end = max(ends) - time_eeg_end\n",
    "\n",
    "    # load data\n",
    "    # 1 == MAD_woBig\n",
    "    if define_intervals == 1:\n",
    "        for_eye = pd.read_csv(\n",
    "            f\"{PATH_FOREYE}/correTS_mad_wobig_{uid}.csv\", index_col=0\n",
    "        )\n",
    "    # 2 == 10_sec\n",
    "    else:\n",
    "        for_eye = pd.read_csv(\n",
    "            f\"{PATH_FOREYE}/correTS__10sec_{uid}.csv\", index_col=0\n",
    "        )\n",
    "\n",
    "    # correct unity with the different timestamps\n",
    "    time = for_eye[\"time\"].tolist() + to_sub\n",
    "    time = [round(t, 3) for t in time]\n",
    "\n",
    "    # interpolate the timestamps but save previous version\n",
    "    ts = np.linspace(time[0], time[-1], num=int(time[-1] * 1000))\n",
    "    ts = [round(t, 3) for t in ts]\n",
    "    ts = list(dict.fromkeys(ts))  # remove dublicates\n",
    "\n",
    "    # add shift\n",
    "    dynamic_shift = end - start\n",
    "    drift_correction_np = np.linspace(\n",
    "        0, dynamic_shift, len(ts)\n",
    "    )  # np.linspace(start,end,num)\n",
    "    # linearly correct the timestamps from start to end given the drift increase over time 'dynamic_shift'\n",
    "    ts_shift = (ts - drift_correction_np).tolist()\n",
    "\n",
    "    # take interpolated ts out\n",
    "    time_df = pd.DataFrame(\n",
    "        list(zip(ts, ts_shift)), columns=[\"time\", \"time_shift\"]\n",
    "    )\n",
    "    time_df = time_df[time_df[\"time\"].isin(time)]\n",
    "\n",
    "    # exchange the times in for_eye\n",
    "    for_eye[\"time\"] = time_df[\"time_shift\"].tolist()\n",
    "    \n",
    "    \n",
    "     # --- SACCADE AMPLITUDE ---\n",
    "    prev_gaze_centroid = None\n",
    "    prev_subject_centroid = None\n",
    "    for_eye['saccade_amplitude'] = np.nan\n",
    "    start_indices = for_eye[for_eye['events'] == 2.0].index\n",
    "    end_indices = for_eye[for_eye['events'] == -2.0].index\n",
    "    if len(end_indices) > len(start_indices):\n",
    "        if end_indices[0] < start_indices[0]:\n",
    "            end_indices = end_indices[1:]\n",
    "        else: \n",
    "            print(uid)\n",
    "    for start, end in zip(start_indices, end_indices):\n",
    "        group_df = for_eye.loc[start:end]\n",
    "        # Compute the centroid of the gaze positions and the mean timestamp\n",
    "        gaze_centroid = compute_centroid(group_df, ['HitPointOnObject.x', 'HitPointOnObject.y', 'HitPointOnObject.z'])\n",
    "        subject_centroid = compute_centroid(group_df, ['eyePositionCombinedWorld.x', 'eyePositionCombinedWorld.y', \n",
    "                                                       'eyePositionCombinedWorld.z'])\n",
    "        # Compute the saccade amplitude and store it in the dataframe\n",
    "        if prev_gaze_centroid is not None and prev_subject_centroid is not None:\n",
    "            for_eye.loc[start:end, 'saccade_amplitude'] = compute_saccade_amplitude(prev_gaze_centroid, \n",
    "                                                                                    prev_subject_centroid, \n",
    "                                                                                    gaze_centroid, subject_centroid)\n",
    "        # Update the previous centroids and timestamp\n",
    "        prev_gaze_centroid = gaze_centroid\n",
    "        prev_subject_centroid = subject_centroid\n",
    "    # --- SACCADE AMPLITUDE ---\n",
    "    \n",
    "    \n",
    "    \n",
    "    # create triggers as done in the code before\n",
    "    # variables\n",
    "    gaze = for_eye[for_eye[\"events\"] == 2.0]\n",
    "    gaze = gaze[~gaze[\"long_events\"].isnull()]\n",
    "\n",
    "    no_name = gaze[gaze[\"names\"].isnull()]\n",
    "    gaze = gaze[~gaze[\"names\"].isnull()]\n",
    "    ### VS: It could be that a gaze contains a large number of NaNs and one hit point, based on the code\n",
    "    ### above, the gaze could be set to the one hit point --> check?!\n",
    "    \n",
    "   # now we define the different categories for the different triggers\n",
    "    Global_Landmark_df = gaze[gaze[\"names\"].isin(Global_Landmark)]\n",
    "    TaskBuilding_Public_df = gaze[gaze[\"names\"].isin(TaskBuilding_Public)]\n",
    "    TaskBuilding_Residential_df = gaze[gaze[\"names\"].isin(TaskBuilding_Residential)]\n",
    "    Other_Buildings_df = gaze[gaze[\"names\"].isin(Other_Buildings)]\n",
    "    Background_df = gaze[~gaze[\"names\"].isin(Global_Landmark+TaskBuilding_Public+TaskBuilding_Residential+\n",
    "                                             Other_Buildings)] # '~' inverts the statement\n",
    "    \n",
    "    # create the trigger df:\n",
    "    # first get all the starts in one column\n",
    "    lat = pd.concat([Global_Landmark_df[\"time\"], TaskBuilding_Public_df[\"time\"], TaskBuilding_Residential_df[\"time\"], \n",
    "                     Other_Buildings_df[\"time\"], Background_df[\"time\"], no_name[\"time\"]])\n",
    "    lat = pd.DataFrame(lat)\n",
    "\n",
    "    # then add the type: 2 for background, 1 for NPCs and 0 for faces, 3 for no name\n",
    "    lat[\"type\"] = (\n",
    "        [\"Global_Landmark\"] * len(Global_Landmark_df[\"time\"]) +\n",
    "        [\"TaskBuilding_Public\"] * len(TaskBuilding_Public_df[\"time\"]) + \n",
    "        [\"TaskBuilding_Residential\"] * len(TaskBuilding_Residential_df[\"time\"]) + \n",
    "        [\"Other_Buildings\"] * len(Other_Buildings_df[\"time\"]) + \n",
    "        [\"Background\"] * len(Background_df[\"time\"]) + \n",
    "        [\"no_name\"] * len(no_name[\"time\"])\n",
    "    )\n",
    "    \n",
    "    # sort it by start so that all the events are in correct order\n",
    "    lat = lat.sort_values(by=[\"time\"])\n",
    "\n",
    "    # rename start to latency\n",
    "    lat = lat.rename(columns={\"time\": \"latency\"})\n",
    "    lat[\"saccade_amp\"] = gaze[\"saccade_amplitude\"]\n",
    "    \n",
    "    # 1 == MAD_woBig\n",
    "    if define_intervals == 1:\n",
    "        lat.to_csv(f\"{PATH_TRG}/TriggerFile_dd_{uid}.csv\", index=False)\n",
    "    # 2 == 10_sec\n",
    "    else:\n",
    "        lat.to_csv(f\"{PATH_TRG}/TriggerFile_10_{uid}.csv\", index=False)"
   ]
  },
  {
   "cell_type": "markdown",
   "id": "3004478f",
   "metadata": {},
   "source": [
    "## New Trigger Files without Latency Corrections"
   ]
  },
  {
   "cell_type": "code",
   "execution_count": 10,
   "id": "07998b49",
   "metadata": {},
   "outputs": [
    {
     "data": {
      "text/html": [
       "<div>\n",
       "<style scoped>\n",
       "    .dataframe tbody tr th:only-of-type {\n",
       "        vertical-align: middle;\n",
       "    }\n",
       "\n",
       "    .dataframe tbody tr th {\n",
       "        vertical-align: top;\n",
       "    }\n",
       "\n",
       "    .dataframe thead th {\n",
       "        text-align: right;\n",
       "    }\n",
       "</style>\n",
       "<table border=\"1\" class=\"dataframe\">\n",
       "  <thead>\n",
       "    <tr style=\"text-align: right;\">\n",
       "      <th></th>\n",
       "      <th>latency</th>\n",
       "      <th>type</th>\n",
       "    </tr>\n",
       "  </thead>\n",
       "  <tbody>\n",
       "    <tr>\n",
       "      <th>4</th>\n",
       "      <td>0.043</td>\n",
       "      <td>Other_Buildings</td>\n",
       "    </tr>\n",
       "    <tr>\n",
       "      <th>17</th>\n",
       "      <td>0.187</td>\n",
       "      <td>Other_Buildings</td>\n",
       "    </tr>\n",
       "    <tr>\n",
       "      <th>39</th>\n",
       "      <td>0.432</td>\n",
       "      <td>Other_Buildings</td>\n",
       "    </tr>\n",
       "    <tr>\n",
       "      <th>135</th>\n",
       "      <td>1.489</td>\n",
       "      <td>Background</td>\n",
       "    </tr>\n",
       "    <tr>\n",
       "      <th>173</th>\n",
       "      <td>1.911</td>\n",
       "      <td>Background</td>\n",
       "    </tr>\n",
       "    <tr>\n",
       "      <th>...</th>\n",
       "      <td>...</td>\n",
       "      <td>...</td>\n",
       "    </tr>\n",
       "    <tr>\n",
       "      <th>159074</th>\n",
       "      <td>2017.395</td>\n",
       "      <td>TaskBuilding_Residential</td>\n",
       "    </tr>\n",
       "    <tr>\n",
       "      <th>159113</th>\n",
       "      <td>2017.829</td>\n",
       "      <td>Other_Buildings</td>\n",
       "    </tr>\n",
       "    <tr>\n",
       "      <th>159137</th>\n",
       "      <td>2018.095</td>\n",
       "      <td>Background</td>\n",
       "    </tr>\n",
       "    <tr>\n",
       "      <th>159159</th>\n",
       "      <td>2018.340</td>\n",
       "      <td>Background</td>\n",
       "    </tr>\n",
       "    <tr>\n",
       "      <th>159183</th>\n",
       "      <td>2018.616</td>\n",
       "      <td>Background</td>\n",
       "    </tr>\n",
       "  </tbody>\n",
       "</table>\n",
       "<p>5190 rows × 2 columns</p>\n",
       "</div>"
      ],
      "text/plain": [
       "        latency                      type\n",
       "4         0.043           Other_Buildings\n",
       "17        0.187           Other_Buildings\n",
       "39        0.432           Other_Buildings\n",
       "135       1.489                Background\n",
       "173       1.911                Background\n",
       "...         ...                       ...\n",
       "159074 2017.395  TaskBuilding_Residential\n",
       "159113 2017.829           Other_Buildings\n",
       "159137 2018.095                Background\n",
       "159159 2018.340                Background\n",
       "159183 2018.616                Background\n",
       "\n",
       "[5190 rows x 2 columns]"
      ]
     },
     "metadata": {},
     "output_type": "display_data"
    }
   ],
   "source": [
    "# participants ids\n",
    "ids = recordings.index.tolist()\n",
    "idd = ids[:]\n",
    "\n",
    "\n",
    "for uid in idd:\n",
    "    # load data\n",
    "    # 1 == MAD_woBig\n",
    "    if define_intervals == 1:\n",
    "        for_eye = pd.read_csv(\n",
    "            f\"{PATH_FOREYE}/correTS_mad_wobig_{uid}.csv\", index_col=0\n",
    "        )\n",
    "    # 2 == 10_sec\n",
    "    else:\n",
    "        for_eye = pd.read_csv(\n",
    "            f\"{PATH_FOREYE}/correTS__10sec_{uid}.csv\", index_col=0\n",
    "        )\n",
    "    \n",
    "    \n",
    "    \n",
    "    # create triggers as done in the code before\n",
    "    # variables\n",
    "    gaze = for_eye[for_eye[\"events\"] == 2.0]\n",
    "    gaze = gaze[~gaze[\"long_events\"].isnull()]\n",
    "\n",
    "    no_name = gaze[gaze[\"names\"].isnull()]\n",
    "    gaze = gaze[~gaze[\"names\"].isnull()]\n",
    "    ### VS: It could be that a gaze contains a large number of NaNs and one hit point, based on the code\n",
    "    ### above, the gaze could be set to the one hit point --> check?!\n",
    "    \n",
    "   # now we define the different categories for the different triggers\n",
    "    Global_Landmark_df = gaze[gaze[\"names\"].isin(Global_Landmark)]\n",
    "    TaskBuilding_Public_df = gaze[gaze[\"names\"].isin(TaskBuilding_Public)]\n",
    "    TaskBuilding_Residential_df = gaze[gaze[\"names\"].isin(TaskBuilding_Residential)]\n",
    "    Other_Buildings_df = gaze[gaze[\"names\"].isin(Other_Buildings)]\n",
    "    Background_df = gaze[~gaze[\"names\"].isin(Global_Landmark+TaskBuilding_Public+TaskBuilding_Residential+\n",
    "                                             Other_Buildings)] # '~' inverts the statement\n",
    "    \n",
    "    # create the trigger df:\n",
    "    # first get all the starts in one column\n",
    "    lat = pd.concat([Global_Landmark_df[\"time\"], TaskBuilding_Public_df[\"time\"], TaskBuilding_Residential_df[\"time\"], \n",
    "                     Other_Buildings_df[\"time\"], Background_df[\"time\"], no_name[\"time\"]])\n",
    "    lat = pd.DataFrame(lat)\n",
    "\n",
    "    # then add the type: 2 for background, 1 for NPCs and 0 for faces, 3 for no name\n",
    "    lat[\"type\"] = (\n",
    "        [\"Global_Landmark\"] * len(Global_Landmark_df[\"time\"]) +\n",
    "        [\"TaskBuilding_Public\"] * len(TaskBuilding_Public_df[\"time\"]) + \n",
    "        [\"TaskBuilding_Residential\"] * len(TaskBuilding_Residential_df[\"time\"]) + \n",
    "        [\"Other_Buildings\"] * len(Other_Buildings_df[\"time\"]) + \n",
    "        [\"Background\"] * len(Background_df[\"time\"]) + \n",
    "        [\"no_name\"] * len(no_name[\"time\"])\n",
    "    )\n",
    "    \n",
    "    # sort it by start so that all the events are in correct order\n",
    "    lat = lat.sort_values(by=[\"time\"])\n",
    "\n",
    "    # rename start to latency\n",
    "    lat = lat.rename(columns={\"time\": \"latency\"})\n",
    "    \n",
    "    # 1 == MAD_woBig\n",
    "    if define_intervals == 1:\n",
    "        #lat.to_csv(f\"{PATH_TRG}/TriggerFile_dd_{uid}.csv\", index=False)\n",
    "        lat.to_csv(f\"{PATH_TRG}/TriggerFile_wo_latency_correction_{uid}.csv\", index=False)\n",
    "    # 2 == 10_sec\n",
    "    else:\n",
    "        lat.to_csv(f\"{PATH_TRG}/TriggerFile_10_{uid}.csv\", index=False)"
   ]
  },
  {
   "cell_type": "code",
   "execution_count": null,
   "id": "c3bbf482",
   "metadata": {},
   "outputs": [],
   "source": []
  }
 ],
 "metadata": {
  "kernelspec": {
   "display_name": "Python 3",
   "language": "python",
   "name": "python3"
  },
  "language_info": {
   "codemirror_mode": {
    "name": "ipython",
    "version": 3
   },
   "file_extension": ".py",
   "mimetype": "text/x-python",
   "name": "python",
   "nbconvert_exporter": "python",
   "pygments_lexer": "ipython3",
   "version": "3.6.15"
  },
  "varInspector": {
   "cols": {
    "lenName": 16,
    "lenType": 16,
    "lenVar": 40
   },
   "kernels_config": {
    "python": {
     "delete_cmd_postfix": "",
     "delete_cmd_prefix": "del ",
     "library": "var_list.py",
     "varRefreshCmd": "print(var_dic_list())"
    },
    "r": {
     "delete_cmd_postfix": ") ",
     "delete_cmd_prefix": "rm(",
     "library": "var_list.r",
     "varRefreshCmd": "cat(var_dic_list()) "
    }
   },
   "types_to_exclude": [
    "module",
    "function",
    "builtin_function_or_method",
    "instance",
    "_Feature"
   ],
   "window_display": false
  },
  "widgets": {
   "application/vnd.jupyter.widget-state+json": {
    "state": {
     "008be0f294564cbe8b191ced0d3630be": {
      "model_module": "@jupyter-widgets/controls",
      "model_module_version": "1.5.0",
      "model_name": "DescriptionStyleModel",
      "state": {
       "description_width": ""
      }
     },
     "00ae76c620ef445f9c219c11133abcd4": {
      "model_module": "@jupyter-widgets/base",
      "model_module_version": "1.2.0",
      "model_name": "LayoutModel",
      "state": {}
     },
     "00bf8ece494b4ef59c53fd59aa09c069": {
      "model_module": "@jupyter-widgets/controls",
      "model_module_version": "1.5.0",
      "model_name": "FloatProgressModel",
      "state": {
       "bar_style": "success",
       "layout": "IPY_MODEL_3a42ddbd420f4eb1a98c3c3af5588fd6",
       "max": 163088,
       "style": "IPY_MODEL_0a292a3090474475977ba552c93bacd1",
       "value": 163088
      }
     },
     "01078d060d53458b8fc57447bc64f3d7": {
      "model_module": "@jupyter-widgets/controls",
      "model_module_version": "1.5.0",
      "model_name": "HBoxModel",
      "state": {
       "children": [
        "IPY_MODEL_81b74d1fada5471db0a63a50d24e3ec3",
        "IPY_MODEL_cde63203fd364a89b786cde4d291689d",
        "IPY_MODEL_0b99f3400b274304b95cd8dc6c1a4fa2"
       ],
       "layout": "IPY_MODEL_5d44661c22c24278a45a49bca6e791ed"
      }
     },
     "01758d77bbf346e8833b4eb50bbed2fd": {
      "model_module": "@jupyter-widgets/controls",
      "model_module_version": "1.5.0",
      "model_name": "ProgressStyleModel",
      "state": {
       "description_width": ""
      }
     },
     "0176614ddea24c8fba933bef575a5dfa": {
      "model_module": "@jupyter-widgets/controls",
      "model_module_version": "1.5.0",
      "model_name": "FloatProgressModel",
      "state": {
       "bar_style": "success",
       "layout": "IPY_MODEL_3f56665f307f4f58ace64d7d0bfc7be5",
       "max": 161208,
       "style": "IPY_MODEL_01758d77bbf346e8833b4eb50bbed2fd",
       "value": 161208
      }
     },
     "01d38ce532f247fb966260429ee92be4": {
      "model_module": "@jupyter-widgets/controls",
      "model_module_version": "1.5.0",
      "model_name": "HTMLModel",
      "state": {
       "layout": "IPY_MODEL_0f17639a2d2d43509f6ac217df139603",
       "style": "IPY_MODEL_4d6c86c31a324920a0cd45f71c78c72b",
       "value": "📄 162464 of 162464 ⌚ timestamps from participant c4400578-a590-4cf5-abc2-0f634fb4443c processed: "
      }
     },
     "01d506eb5e514f0f90a1d03ab15bc5da": {
      "model_module": "@jupyter-widgets/controls",
      "model_module_version": "1.5.0",
      "model_name": "FloatProgressModel",
      "state": {
       "bar_style": "success",
       "layout": "IPY_MODEL_22da0d6825b34315a5584dd24a774a70",
       "max": 162468,
       "style": "IPY_MODEL_45950694f77748709f03b034630b9b8d",
       "value": 162468
      }
     },
     "01e30e936b68490eb7bc4da4050f9db3": {
      "model_module": "@jupyter-widgets/controls",
      "model_module_version": "1.5.0",
      "model_name": "ProgressStyleModel",
      "state": {
       "description_width": ""
      }
     },
     "02282c3ced1e42ec8bf5e4d8819cbd75": {
      "model_module": "@jupyter-widgets/controls",
      "model_module_version": "1.5.0",
      "model_name": "DescriptionStyleModel",
      "state": {
       "description_width": ""
      }
     },
     "023ec4c56feb468d8db24275b6dc92c4": {
      "model_module": "@jupyter-widgets/controls",
      "model_module_version": "1.5.0",
      "model_name": "HTMLModel",
      "state": {
       "layout": "IPY_MODEL_a43eaa9244b448cda2a402753b544856",
       "style": "IPY_MODEL_5dde899b1893446e95405a0fbb9596fe",
       "value": " \n             91% ⏱️11:25 ⏳01:26 ⚙️161.30it/s"
      }
     },
     "029ded9c5f224347a2a85749a80d1f85": {
      "model_module": "@jupyter-widgets/controls",
      "model_module_version": "1.5.0",
      "model_name": "FloatProgressModel",
      "state": {
       "layout": "IPY_MODEL_dfe9aa00ca2042efad876744a49f66ef",
       "max": 162613,
       "style": "IPY_MODEL_253d7b0732ea4ccc91a80af4c793675b",
       "value": 144385
      }
     },
     "02c1013f9b874b95ad8dafcaf941c77f": {
      "model_module": "@jupyter-widgets/base",
      "model_module_version": "1.2.0",
      "model_name": "LayoutModel",
      "state": {}
     },
     "02cab98d225d4409b7530c7d636f2b55": {
      "model_module": "@jupyter-widgets/base",
      "model_module_version": "1.2.0",
      "model_name": "LayoutModel",
      "state": {
       "flex": "2"
      }
     },
     "036b37321cbc479a9646d0b2e8283f85": {
      "model_module": "@jupyter-widgets/base",
      "model_module_version": "1.2.0",
      "model_name": "LayoutModel",
      "state": {}
     },
     "0452d28f842a4ce2a030d3da6f8fcdcb": {
      "model_module": "@jupyter-widgets/controls",
      "model_module_version": "1.5.0",
      "model_name": "HTMLModel",
      "state": {
       "layout": "IPY_MODEL_0cff0938de7a4419a9c9f3df31021864",
       "style": "IPY_MODEL_aa110c8337e24087b631f02495b72fdc",
       "value": " \n            100% ⏱️02:12 ⏳00:00 ⚙️1319.75it/s"
      }
     },
     "0517e64dd25547ed929ef36cdd74ff27": {
      "model_module": "@jupyter-widgets/controls",
      "model_module_version": "1.5.0",
      "model_name": "FloatProgressModel",
      "state": {
       "bar_style": "success",
       "layout": "IPY_MODEL_a75f51e803494d2db0f51085b96ca269",
       "max": 162466,
       "style": "IPY_MODEL_f10990a669f54d27bcc34557113cd0ea",
       "value": 162466
      }
     },
     "0539d5ddc9d8400a8fcc02535865847e": {
      "model_module": "@jupyter-widgets/controls",
      "model_module_version": "1.5.0",
      "model_name": "HTMLModel",
      "state": {
       "layout": "IPY_MODEL_f52b35a65f2f45748e54c5cbce7b80af",
       "style": "IPY_MODEL_0ab0f92450f64f4ab6d793c7851947aa",
       "value": "📄 162599 of 162599 ⌚ timestamps from participant e28fbd3e-516f-4c89-bc54-3cb32ddd5ef7 processed: "
      }
     },
     "053f3b6c889447b1ac8799155ba0edf1": {
      "model_module": "@jupyter-widgets/controls",
      "model_module_version": "1.5.0",
      "model_name": "HTMLModel",
      "state": {
       "layout": "IPY_MODEL_6cb16d9e328047c7a8790a6763b106f2",
       "style": "IPY_MODEL_6c265ccdf2ad4b3ea2e92bf66fa4c9df",
       "value": "📄 162482 of 162482 ⌚ timestamps from participant 61c0f1aa-b3ef-497b-8b6e-8ec6f05f6c42 processed: "
      }
     },
     "0553be36a583495899af720ad1eba520": {
      "model_module": "@jupyter-widgets/base",
      "model_module_version": "1.2.0",
      "model_name": "LayoutModel",
      "state": {}
     },
     "057046e7a9334a14b12501e9a0e5a9db": {
      "model_module": "@jupyter-widgets/controls",
      "model_module_version": "1.5.0",
      "model_name": "FloatProgressModel",
      "state": {
       "layout": "IPY_MODEL_2efea6b7656e4f61834f39e5b9564ddd",
       "max": 162832,
       "style": "IPY_MODEL_5d7493115734467ea208874103e09900",
       "value": 142435
      }
     },
     "06e69bdfa54b4cd8a204875197027f7e": {
      "model_module": "@jupyter-widgets/controls",
      "model_module_version": "1.5.0",
      "model_name": "ProgressStyleModel",
      "state": {
       "description_width": ""
      }
     },
     "06e907f67a644797a5144f039885302c": {
      "model_module": "@jupyter-widgets/controls",
      "model_module_version": "1.5.0",
      "model_name": "DescriptionStyleModel",
      "state": {
       "description_width": ""
      }
     },
     "07b6e578918e4f0f9f760e93606c0df9": {
      "model_module": "@jupyter-widgets/controls",
      "model_module_version": "1.5.0",
      "model_name": "ProgressStyleModel",
      "state": {
       "description_width": ""
      }
     },
     "08f339db20844c2f89ab1d6311ff522a": {
      "model_module": "@jupyter-widgets/controls",
      "model_module_version": "1.5.0",
      "model_name": "DescriptionStyleModel",
      "state": {
       "description_width": ""
      }
     },
     "098651dcf41246649a259c95790046ee": {
      "model_module": "@jupyter-widgets/base",
      "model_module_version": "1.2.0",
      "model_name": "LayoutModel",
      "state": {}
     },
     "0a292a3090474475977ba552c93bacd1": {
      "model_module": "@jupyter-widgets/controls",
      "model_module_version": "1.5.0",
      "model_name": "ProgressStyleModel",
      "state": {
       "description_width": ""
      }
     },
     "0a296f9e10e64cb0b3363cf7b9024dd1": {
      "model_module": "@jupyter-widgets/controls",
      "model_module_version": "1.5.0",
      "model_name": "HBoxModel",
      "state": {
       "children": [
        "IPY_MODEL_3a057ba3ceef4e2bb805d0c217aac3c0",
        "IPY_MODEL_0517e64dd25547ed929ef36cdd74ff27",
        "IPY_MODEL_6f09ccdb94324437b0e25ff9a059ebeb"
       ],
       "layout": "IPY_MODEL_72d7ee7461eb40d2a9944ed9f95b4263"
      }
     },
     "0aa238678c62437e8760523eface0cea": {
      "model_module": "@jupyter-widgets/controls",
      "model_module_version": "1.5.0",
      "model_name": "HTMLModel",
      "state": {
       "layout": "IPY_MODEL_c49785c35d044f2092c939be0f75d7ec",
       "style": "IPY_MODEL_2321f17f94ab4a2abbc23d4e950b98e6",
       "value": "📄 162601 of 162601 ⌚ timestamps from participant e28fbd3e-516f-4c89-bc54-3cb32ddd5ef7 processed: "
      }
     },
     "0ab0f92450f64f4ab6d793c7851947aa": {
      "model_module": "@jupyter-widgets/controls",
      "model_module_version": "1.5.0",
      "model_name": "DescriptionStyleModel",
      "state": {
       "description_width": ""
      }
     },
     "0ae709e0acc249969eb09bf9f90deadf": {
      "model_module": "@jupyter-widgets/controls",
      "model_module_version": "1.5.0",
      "model_name": "HTMLModel",
      "state": {
       "layout": "IPY_MODEL_6ff65b9ada48427281a516b49c6141e7",
       "style": "IPY_MODEL_88918fbe065d408bbda2e2eb69ddc93c",
       "value": " \n            100% ⏱️00:56 ⏳00:00 ⚙️56.06s/it"
      }
     },
     "0b0f6ad5ae754ccfa67f10b634a55f00": {
      "model_module": "@jupyter-widgets/base",
      "model_module_version": "1.2.0",
      "model_name": "LayoutModel",
      "state": {}
     },
     "0b44395e9b844f9a85e77ea1d1660008": {
      "model_module": "@jupyter-widgets/controls",
      "model_module_version": "1.5.0",
      "model_name": "FloatProgressModel",
      "state": {
       "bar_style": "success",
       "layout": "IPY_MODEL_e2f2ca5704c7476fb468a73b2a8f63a9",
       "max": 162357,
       "style": "IPY_MODEL_a8fecbba6f3845b09b022f7bff2aff88",
       "value": 162357
      }
     },
     "0b779af6578f45f7b68bdcee211aaad0": {
      "model_module": "@jupyter-widgets/controls",
      "model_module_version": "1.5.0",
      "model_name": "HBoxModel",
      "state": {
       "children": [
        "IPY_MODEL_9caabc6fc1be4593a084c69f476e8211",
        "IPY_MODEL_6748e15945814ab680ba86281c2d7d6c",
        "IPY_MODEL_0ae709e0acc249969eb09bf9f90deadf"
       ],
       "layout": "IPY_MODEL_3ded23a044ec41409636c0303a999def"
      }
     },
     "0b99f3400b274304b95cd8dc6c1a4fa2": {
      "model_module": "@jupyter-widgets/controls",
      "model_module_version": "1.5.0",
      "model_name": "HTMLModel",
      "state": {
       "layout": "IPY_MODEL_4b9356a452564e8188018bcbe2465cde",
       "style": "IPY_MODEL_c968e203891b4341b8c3a50ecad1790e",
       "value": " \n             92% ⏱️11:25 ⏳01:13 ⚙️186.37it/s"
      }
     },
     "0bae81e922554c83a87ea68c249909c8": {
      "model_module": "@jupyter-widgets/controls",
      "model_module_version": "1.5.0",
      "model_name": "DescriptionStyleModel",
      "state": {
       "description_width": ""
      }
     },
     "0bc21aae4e5645388e6ae0ba46ca38f7": {
      "model_module": "@jupyter-widgets/base",
      "model_module_version": "1.2.0",
      "model_name": "LayoutModel",
      "state": {
       "display": "inline-flex",
       "flex_flow": "row wrap",
       "width": "100%"
      }
     },
     "0c18ac21ece84de1b20daa8c5c6ca807": {
      "model_module": "@jupyter-widgets/controls",
      "model_module_version": "1.5.0",
      "model_name": "HBoxModel",
      "state": {
       "children": [
        "IPY_MODEL_77f7a9cd06d344288a73ee67aae344fb",
        "IPY_MODEL_ba2463ff2aa74a75845cef0941ca4f40",
        "IPY_MODEL_f2ef7a2955af4ec796b25bdf9f216cb1"
       ],
       "layout": "IPY_MODEL_9104f1c6fefd47149c3b6cb436d1bb9f"
      }
     },
     "0ca1eef21b5f4619bc09e5c8bd68dea9": {
      "model_module": "@jupyter-widgets/controls",
      "model_module_version": "1.5.0",
      "model_name": "DescriptionStyleModel",
      "state": {
       "description_width": ""
      }
     },
     "0cab7366974448a993dd4052bbd8f33d": {
      "model_module": "@jupyter-widgets/controls",
      "model_module_version": "1.5.0",
      "model_name": "DescriptionStyleModel",
      "state": {
       "description_width": ""
      }
     },
     "0ccecca563454aeeab1fee7dd266d70e": {
      "model_module": "@jupyter-widgets/base",
      "model_module_version": "1.2.0",
      "model_name": "LayoutModel",
      "state": {}
     },
     "0cf052aae00648ac958366ec03c87c47": {
      "model_module": "@jupyter-widgets/controls",
      "model_module_version": "1.5.0",
      "model_name": "ProgressStyleModel",
      "state": {
       "description_width": ""
      }
     },
     "0cff0938de7a4419a9c9f3df31021864": {
      "model_module": "@jupyter-widgets/base",
      "model_module_version": "1.2.0",
      "model_name": "LayoutModel",
      "state": {}
     },
     "0d1f5a6257d74440abb5893977233a25": {
      "model_module": "@jupyter-widgets/controls",
      "model_module_version": "1.5.0",
      "model_name": "HBoxModel",
      "state": {
       "children": [
        "IPY_MODEL_fba5055906c1472c96de81d2a6af1604",
        "IPY_MODEL_3fe745fcbebb4b2b826f5f89963f1973",
        "IPY_MODEL_84243c878c134b75b2d34a8a71524a3c"
       ],
       "layout": "IPY_MODEL_d8fb878c0a974022a9da552aac652e98"
      }
     },
     "0df226b68c5648ff9b8d2ec9531e3f6b": {
      "model_module": "@jupyter-widgets/base",
      "model_module_version": "1.2.0",
      "model_name": "LayoutModel",
      "state": {}
     },
     "0e83fc6e8d2e47029a38f5e6180b1363": {
      "model_module": "@jupyter-widgets/controls",
      "model_module_version": "1.5.0",
      "model_name": "HBoxModel",
      "state": {
       "children": [
        "IPY_MODEL_f782e9d006d94d7eaccd6cf1f69a8971",
        "IPY_MODEL_fb532cab745b4345a03b31bb23ed45d2",
        "IPY_MODEL_6232e5bf52e94ec897f828fdab4ac740"
       ],
       "layout": "IPY_MODEL_fe5dda15073e4bf4809bcfba2abd7224"
      }
     },
     "0f06023ffc114f4e874b4e681d4b10fd": {
      "model_module": "@jupyter-widgets/controls",
      "model_module_version": "1.5.0",
      "model_name": "HTMLModel",
      "state": {
       "layout": "IPY_MODEL_35324f52113c4032b2607a9ba0f98c1f",
       "style": "IPY_MODEL_df747f66bb6b4fcb9354c44205450804",
       "value": " \n             94% ⏱️11:25 ⏳02:05 ⚙️75.32it/s"
      }
     },
     "0f17639a2d2d43509f6ac217df139603": {
      "model_module": "@jupyter-widgets/base",
      "model_module_version": "1.2.0",
      "model_name": "LayoutModel",
      "state": {}
     },
     "0f385d4dfbdb4b83b49f8ddc1c1836bb": {
      "model_module": "@jupyter-widgets/controls",
      "model_module_version": "1.5.0",
      "model_name": "HTMLModel",
      "state": {
       "layout": "IPY_MODEL_6dd1be94711a489e9cff3f50a61df62a",
       "style": "IPY_MODEL_a50b43b496f04765967e763e5ce8f892",
       "value": "📄 153520 of 163020 ⌚ timestamps from participant 097837f9-9a11-41f4-9c23-03987ba3ed9a processed: "
      }
     },
     "0f9940f6f5a34de1b1b118b7bbf924df": {
      "model_module": "@jupyter-widgets/controls",
      "model_module_version": "1.5.0",
      "model_name": "ProgressStyleModel",
      "state": {
       "description_width": ""
      }
     },
     "0f9d6622f12342b7b41fb9b75298d6dd": {
      "model_module": "@jupyter-widgets/controls",
      "model_module_version": "1.5.0",
      "model_name": "DescriptionStyleModel",
      "state": {
       "description_width": ""
      }
     },
     "105eab6e7c1643b3a5b01383886c6cd9": {
      "model_module": "@jupyter-widgets/base",
      "model_module_version": "1.2.0",
      "model_name": "LayoutModel",
      "state": {}
     },
     "1079142a4ff442238a6695c4ea41c2d5": {
      "model_module": "@jupyter-widgets/base",
      "model_module_version": "1.2.0",
      "model_name": "LayoutModel",
      "state": {}
     },
     "113acea858844739b8356fe209db8231": {
      "model_module": "@jupyter-widgets/controls",
      "model_module_version": "1.5.0",
      "model_name": "DescriptionStyleModel",
      "state": {
       "description_width": ""
      }
     },
     "11682e102cd2438a989138128de87318": {
      "model_module": "@jupyter-widgets/controls",
      "model_module_version": "1.5.0",
      "model_name": "HTMLModel",
      "state": {
       "layout": "IPY_MODEL_1c77705c284e446c96549fe3b656c4be",
       "style": "IPY_MODEL_0cab7366974448a993dd4052bbd8f33d",
       "value": " \n            100% ⏱️18:04 ⏳00:00 ⚙️206.56it/s"
      }
     },
     "12414fc57fe4492592cd158f9e451ff5": {
      "model_module": "@jupyter-widgets/controls",
      "model_module_version": "1.5.0",
      "model_name": "ProgressStyleModel",
      "state": {
       "description_width": ""
      }
     },
     "12689fe03d5045d784770db64163aab0": {
      "model_module": "@jupyter-widgets/controls",
      "model_module_version": "1.5.0",
      "model_name": "HBoxModel",
      "state": {
       "children": [
        "IPY_MODEL_f870422b0f494ff99848645c36c5087d",
        "IPY_MODEL_7a75c3a7b42640baa66930927502a815",
        "IPY_MODEL_87a62fc8e1a847c3b38e59b603443d14"
       ],
       "layout": "IPY_MODEL_55c7cb9704b24c8ba0c784b47d5df64e"
      }
     },
     "129689e7b3e8487c9c32ebc7a8810030": {
      "model_module": "@jupyter-widgets/controls",
      "model_module_version": "1.5.0",
      "model_name": "HTMLModel",
      "state": {
       "layout": "IPY_MODEL_1b6cc15871244b858511bb910651c0bd",
       "style": "IPY_MODEL_c819c40b484c472ea1855396810f96f8",
       "value": " \n            100% ⏱️15:39 ⏳00:00 ⚙️303.20it/s"
      }
     },
     "13097a57f5504831a14fcb04285e171a": {
      "model_module": "@jupyter-widgets/controls",
      "model_module_version": "1.5.0",
      "model_name": "DescriptionStyleModel",
      "state": {
       "description_width": ""
      }
     },
     "13a45a0d447e4250ae35fbfb567ecd52": {
      "model_module": "@jupyter-widgets/controls",
      "model_module_version": "1.5.0",
      "model_name": "DescriptionStyleModel",
      "state": {
       "description_width": ""
      }
     },
     "13c736a24ee0498589bf274fceb0168d": {
      "model_module": "@jupyter-widgets/controls",
      "model_module_version": "1.5.0",
      "model_name": "ProgressStyleModel",
      "state": {
       "description_width": ""
      }
     },
     "13f1586ab3d4467ebf274c800d88b61a": {
      "model_module": "@jupyter-widgets/base",
      "model_module_version": "1.2.0",
      "model_name": "LayoutModel",
      "state": {}
     },
     "1446ae31226c448689c3acf779f39729": {
      "model_module": "@jupyter-widgets/base",
      "model_module_version": "1.2.0",
      "model_name": "LayoutModel",
      "state": {
       "display": "inline-flex",
       "flex_flow": "row wrap",
       "width": "100%"
      }
     },
     "144e89e697604780912500f73da3884a": {
      "model_module": "@jupyter-widgets/controls",
      "model_module_version": "1.5.0",
      "model_name": "HTMLModel",
      "state": {
       "layout": "IPY_MODEL_17f0928a60fa4b22ac31b54a8c3b3bf3",
       "style": "IPY_MODEL_76a10a79954f4199a5bc08422ac6d8c8",
       "value": " \n             11% ⏱️11:01 ⏳1:16:17 ⚙️286.09s/it"
      }
     },
     "14b381c55e2e4a75ae9a02cb21587811": {
      "model_module": "@jupyter-widgets/controls",
      "model_module_version": "1.5.0",
      "model_name": "HTMLModel",
      "state": {
       "layout": "IPY_MODEL_c842cf34d1f74e5eae092d2a013ca556",
       "style": "IPY_MODEL_4bcca697ca914ceebeb2697029ab93df",
       "value": " \n             86% ⏱️11:25 ⏳02:21 ⚙️163.60it/s"
      }
     },
     "14cc88f17778487fab9201d67b1b6c68": {
      "model_module": "@jupyter-widgets/controls",
      "model_module_version": "1.5.0",
      "model_name": "HTMLModel",
      "state": {
       "layout": "IPY_MODEL_3ca3f2dd1f1a4058b9e289e16096106a",
       "style": "IPY_MODEL_61ecdeda047e4b7ea7f2420a84b2c567",
       "value": " \n            100% ⏱️28:44 ⏳00:00 ⚙️111.33it/s"
      }
     },
     "1546a2382a5d4470a21fc881b9117914": {
      "model_module": "@jupyter-widgets/controls",
      "model_module_version": "1.5.0",
      "model_name": "HTMLModel",
      "state": {
       "layout": "IPY_MODEL_0df226b68c5648ff9b8d2ec9531e3f6b",
       "style": "IPY_MODEL_a338223bd72048758c8f53e1a2b188ab",
       "value": "📄 162527 of 162527 ⌚ timestamps from participant 623664e8-1ceb-48e0-abd0-46d447285980 processed: "
      }
     },
     "154beebbce5a45a59eae28821ece7423": {
      "model_module": "@jupyter-widgets/controls",
      "model_module_version": "1.5.0",
      "model_name": "FloatProgressModel",
      "state": {
       "layout": "IPY_MODEL_72d81b8bf0584e7e9f6b8a5c986b4b5f",
       "max": 162466,
       "style": "IPY_MODEL_83e845b3decc4f408b363bec4be53470",
       "value": 155054
      }
     },
     "159a7071f2054525a965317c7d13e115": {
      "model_module": "@jupyter-widgets/base",
      "model_module_version": "1.2.0",
      "model_name": "LayoutModel",
      "state": {
       "display": "inline-flex",
       "flex_flow": "row wrap",
       "width": "100%"
      }
     },
     "16f0c880317b4bc7989e1b397b12878a": {
      "model_module": "@jupyter-widgets/base",
      "model_module_version": "1.2.0",
      "model_name": "LayoutModel",
      "state": {
       "flex": "2"
      }
     },
     "17f0928a60fa4b22ac31b54a8c3b3bf3": {
      "model_module": "@jupyter-widgets/base",
      "model_module_version": "1.2.0",
      "model_name": "LayoutModel",
      "state": {}
     },
     "17f8cfa7ec904001ac1eef0d7ac8c31d": {
      "model_module": "@jupyter-widgets/base",
      "model_module_version": "1.2.0",
      "model_name": "LayoutModel",
      "state": {}
     },
     "1844de45a2f44186b81995a43f171919": {
      "model_module": "@jupyter-widgets/controls",
      "model_module_version": "1.5.0",
      "model_name": "HTMLModel",
      "state": {
       "layout": "IPY_MODEL_7cb36408b607492681479ab25c049883",
       "style": "IPY_MODEL_d9ca9c0f464442298512c23ed671efa4",
       "value": "📄 163026 of 163026 ⌚ timestamps from participant d764851f-717d-4944-9023-74dda394f96e processed: "
      }
     },
     "1846b7d254e2434db517e45895051823": {
      "model_module": "@jupyter-widgets/controls",
      "model_module_version": "1.5.0",
      "model_name": "HBoxModel",
      "state": {
       "children": [
        "IPY_MODEL_f2c3cbbbfd06421f9c684855d250973e",
        "IPY_MODEL_8102b635cba74c3d9e94b3a0647cea78",
        "IPY_MODEL_9bca6db180904983b31741fb245fc9c6"
       ],
       "layout": "IPY_MODEL_58644129865440e48487dab411033a72"
      }
     },
     "1857d839764c4a229018226eeb3736a9": {
      "model_module": "@jupyter-widgets/controls",
      "model_module_version": "1.5.0",
      "model_name": "HBoxModel",
      "state": {
       "children": [
        "IPY_MODEL_80058ae36e7c40578a072bcf6055f5ab",
        "IPY_MODEL_01d506eb5e514f0f90a1d03ab15bc5da",
        "IPY_MODEL_b1e57dae806142dab5e79ae91589d49a"
       ],
       "layout": "IPY_MODEL_24ef72874f9f49708d3fd08dabfdb4af"
      }
     },
     "18fd66d26e944d15b0feb1ccd067e63b": {
      "model_module": "@jupyter-widgets/controls",
      "model_module_version": "1.5.0",
      "model_name": "DescriptionStyleModel",
      "state": {
       "description_width": ""
      }
     },
     "195af0a30c904217b4670dae6f33139f": {
      "model_module": "@jupyter-widgets/controls",
      "model_module_version": "1.5.0",
      "model_name": "DescriptionStyleModel",
      "state": {
       "description_width": ""
      }
     },
     "197ed8415d514b5ab231e0ef9e640d5b": {
      "model_module": "@jupyter-widgets/base",
      "model_module_version": "1.2.0",
      "model_name": "LayoutModel",
      "state": {
       "display": "inline-flex",
       "flex_flow": "row wrap",
       "width": "100%"
      }
     },
     "19825c4c9b1948c1891f4e76ecf91576": {
      "model_module": "@jupyter-widgets/controls",
      "model_module_version": "1.5.0",
      "model_name": "DescriptionStyleModel",
      "state": {
       "description_width": ""
      }
     },
     "1a0920f4ee0044fca493efe48c085341": {
      "model_module": "@jupyter-widgets/base",
      "model_module_version": "1.2.0",
      "model_name": "LayoutModel",
      "state": {
       "flex": "2"
      }
     },
     "1acf9a0a2b4d489fa1ba4119b0c6636e": {
      "model_module": "@jupyter-widgets/base",
      "model_module_version": "1.2.0",
      "model_name": "LayoutModel",
      "state": {}
     },
     "1b34ce8c77d94feb8939ac8223d0bec4": {
      "model_module": "@jupyter-widgets/controls",
      "model_module_version": "1.5.0",
      "model_name": "DescriptionStyleModel",
      "state": {
       "description_width": ""
      }
     },
     "1b6cc15871244b858511bb910651c0bd": {
      "model_module": "@jupyter-widgets/base",
      "model_module_version": "1.2.0",
      "model_name": "LayoutModel",
      "state": {}
     },
     "1bb7b8eb345e491987e11af63a78f240": {
      "model_module": "@jupyter-widgets/base",
      "model_module_version": "1.2.0",
      "model_name": "LayoutModel",
      "state": {
       "display": "inline-flex",
       "flex_flow": "row wrap",
       "width": "100%"
      }
     },
     "1bf5b490df7e47c59611c697e5c02c2e": {
      "model_module": "@jupyter-widgets/base",
      "model_module_version": "1.2.0",
      "model_name": "LayoutModel",
      "state": {
       "flex": "2"
      }
     },
     "1c6716a0800d4b5fa34023451f1e3299": {
      "model_module": "@jupyter-widgets/base",
      "model_module_version": "1.2.0",
      "model_name": "LayoutModel",
      "state": {
       "display": "inline-flex",
       "flex_flow": "row wrap",
       "width": "100%"
      }
     },
     "1c68c5f589974c9dabed239cff50e45f": {
      "model_module": "@jupyter-widgets/controls",
      "model_module_version": "1.5.0",
      "model_name": "HTMLModel",
      "state": {
       "layout": "IPY_MODEL_3321fce023a245f5a4c87de88c71c677",
       "style": "IPY_MODEL_a6b1e36f5c6844a5b6e4d9849e693d97",
       "value": "📄 162528 of 162528 ⌚ timestamps from participant 623664e8-1ceb-48e0-abd0-46d447285980 processed: "
      }
     },
     "1c77705c284e446c96549fe3b656c4be": {
      "model_module": "@jupyter-widgets/base",
      "model_module_version": "1.2.0",
      "model_name": "LayoutModel",
      "state": {}
     },
     "1caff43326d74d208d2aeb061776042a": {
      "model_module": "@jupyter-widgets/controls",
      "model_module_version": "1.5.0",
      "model_name": "FloatProgressModel",
      "state": {
       "bar_style": "success",
       "layout": "IPY_MODEL_86f7d5904a144cee831cdc6ff45a0ffb",
       "max": 163026,
       "style": "IPY_MODEL_9d4cacd6e47f4d84bb650540914b1122",
       "value": 163026
      }
     },
     "1cbd48df4d304d31a087bf392c96159b": {
      "model_module": "@jupyter-widgets/base",
      "model_module_version": "1.2.0",
      "model_name": "LayoutModel",
      "state": {
       "display": "inline-flex",
       "flex_flow": "row wrap",
       "width": "100%"
      }
     },
     "1d9970a01bbc4eb2ad0af63266eddc63": {
      "model_module": "@jupyter-widgets/controls",
      "model_module_version": "1.5.0",
      "model_name": "ProgressStyleModel",
      "state": {
       "description_width": ""
      }
     },
     "1f4b822213c24b6d95cdf8c7622f45d6": {
      "model_module": "@jupyter-widgets/controls",
      "model_module_version": "1.5.0",
      "model_name": "DescriptionStyleModel",
      "state": {
       "description_width": ""
      }
     },
     "1f83cb9703684eae838908b7a7c30c28": {
      "model_module": "@jupyter-widgets/controls",
      "model_module_version": "1.5.0",
      "model_name": "ProgressStyleModel",
      "state": {
       "description_width": ""
      }
     },
     "2084272826494f68bc369ea95a3f6c96": {
      "model_module": "@jupyter-widgets/base",
      "model_module_version": "1.2.0",
      "model_name": "LayoutModel",
      "state": {
       "display": "inline-flex",
       "flex_flow": "row wrap",
       "width": "100%"
      }
     },
     "20cb230faf034e9790ee4a857fdee16e": {
      "model_module": "@jupyter-widgets/controls",
      "model_module_version": "1.5.0",
      "model_name": "ProgressStyleModel",
      "state": {
       "description_width": ""
      }
     },
     "217d0ec9f49e412e9f5e4b15e1610838": {
      "model_module": "@jupyter-widgets/base",
      "model_module_version": "1.2.0",
      "model_name": "LayoutModel",
      "state": {}
     },
     "219a8249f0214b0a8708a6619d56d0f0": {
      "model_module": "@jupyter-widgets/base",
      "model_module_version": "1.2.0",
      "model_name": "LayoutModel",
      "state": {
       "flex": "2"
      }
     },
     "22b4768efd6a4283828db5cdd991165d": {
      "model_module": "@jupyter-widgets/controls",
      "model_module_version": "1.5.0",
      "model_name": "DescriptionStyleModel",
      "state": {
       "description_width": ""
      }
     },
     "22da0d6825b34315a5584dd24a774a70": {
      "model_module": "@jupyter-widgets/base",
      "model_module_version": "1.2.0",
      "model_name": "LayoutModel",
      "state": {
       "flex": "2"
      }
     },
     "2321f17f94ab4a2abbc23d4e950b98e6": {
      "model_module": "@jupyter-widgets/controls",
      "model_module_version": "1.5.0",
      "model_name": "DescriptionStyleModel",
      "state": {
       "description_width": ""
      }
     },
     "232c7120eba4417db51d69aace8cbe02": {
      "model_module": "@jupyter-widgets/controls",
      "model_module_version": "1.5.0",
      "model_name": "FloatProgressModel",
      "state": {
       "layout": "IPY_MODEL_8b43e53ab2fd4d23a9efcbceb57279ce",
       "max": 162480,
       "style": "IPY_MODEL_4bd6173631e74a7ea9a64818148b52bd",
       "value": 151358
      }
     },
     "24165e255d364cefaba7d381a3b424fe": {
      "model_module": "@jupyter-widgets/controls",
      "model_module_version": "1.5.0",
      "model_name": "HTMLModel",
      "state": {
       "layout": "IPY_MODEL_217d0ec9f49e412e9f5e4b15e1610838",
       "style": "IPY_MODEL_6c47a3580b464b43a104a2f8f45e943e",
       "value": " \n             87% ⏱️11:25 ⏳04:11 ⚙️81.16it/s"
      }
     },
     "2476e9d64e1f461bb9dd7c9ec7ff9d72": {
      "model_module": "@jupyter-widgets/controls",
      "model_module_version": "1.5.0",
      "model_name": "ProgressStyleModel",
      "state": {
       "description_width": ""
      }
     },
     "24cfc338c56a40edb2db046ceee76065": {
      "model_module": "@jupyter-widgets/controls",
      "model_module_version": "1.5.0",
      "model_name": "ProgressStyleModel",
      "state": {
       "description_width": ""
      }
     },
     "24e01bb411754db596f89c57f18b28cb": {
      "model_module": "@jupyter-widgets/controls",
      "model_module_version": "1.5.0",
      "model_name": "HBoxModel",
      "state": {
       "children": [
        "IPY_MODEL_dc8dec1f08304349a8c543fb25ba67dc",
        "IPY_MODEL_3d0f6cbf268b485f8ed5974638fdaace",
        "IPY_MODEL_023ec4c56feb468d8db24275b6dc92c4"
       ],
       "layout": "IPY_MODEL_7151072e07e94cb0bdce58a0ce583596"
      }
     },
     "24ef72874f9f49708d3fd08dabfdb4af": {
      "model_module": "@jupyter-widgets/base",
      "model_module_version": "1.2.0",
      "model_name": "LayoutModel",
      "state": {
       "display": "inline-flex",
       "flex_flow": "row wrap",
       "width": "100%"
      }
     },
     "253d7b0732ea4ccc91a80af4c793675b": {
      "model_module": "@jupyter-widgets/controls",
      "model_module_version": "1.5.0",
      "model_name": "ProgressStyleModel",
      "state": {
       "description_width": ""
      }
     },
     "256540c7c3c64081993da666cf53863c": {
      "model_module": "@jupyter-widgets/base",
      "model_module_version": "1.2.0",
      "model_name": "LayoutModel",
      "state": {}
     },
     "25b408cbdbb44d9baa2f5d62fc873b12": {
      "model_module": "@jupyter-widgets/controls",
      "model_module_version": "1.5.0",
      "model_name": "DescriptionStyleModel",
      "state": {
       "description_width": ""
      }
     },
     "26455b3a9d4a4a50b50f7afb914fa177": {
      "model_module": "@jupyter-widgets/controls",
      "model_module_version": "1.5.0",
      "model_name": "FloatProgressModel",
      "state": {
       "bar_style": "success",
       "layout": "IPY_MODEL_73f70cd0f9d34bc0ba40849bdd6ed6b7",
       "max": 161902,
       "style": "IPY_MODEL_ae227c31b15b4bf18004461539bc04c8",
       "value": 161902
      }
     },
     "265b86330f2b478eaa0f31eb0cfa9784": {
      "model_module": "@jupyter-widgets/controls",
      "model_module_version": "1.5.0",
      "model_name": "HTMLModel",
      "state": {
       "layout": "IPY_MODEL_3cb1e78f91974b389a6862f2d6f1552d",
       "style": "IPY_MODEL_ccb53eeacaf940b79178cb6bee0af372",
       "value": "📄 163026 of 163026 ⌚ timestamps from participant d764851f-717d-4944-9023-74dda394f96e processed: "
      }
     },
     "2683c43047bd42f998908675f3bdc722": {
      "model_module": "@jupyter-widgets/controls",
      "model_module_version": "1.5.0",
      "model_name": "HTMLModel",
      "state": {
       "layout": "IPY_MODEL_ec8efa26d066478e8c6140f09ff0aa03",
       "style": "IPY_MODEL_7df776ee896b48de937b5f8e97d47e88",
       "value": "📄 161903 of 161903 ⌚ timestamps from participant 70656182-09b3-4c19-9ae2-0a2ab2e19fed processed: "
      }
     },
     "273c3fc6a5bb4bee8c02e5398cddb9d5": {
      "model_module": "@jupyter-widgets/controls",
      "model_module_version": "1.5.0",
      "model_name": "DescriptionStyleModel",
      "state": {
       "description_width": ""
      }
     },
     "27648e61d996415b91b05803bcf23fa0": {
      "model_module": "@jupyter-widgets/controls",
      "model_module_version": "1.5.0",
      "model_name": "FloatProgressModel",
      "state": {
       "bar_style": "success",
       "layout": "IPY_MODEL_44f5f84a31aa42adbfc72854767d5849",
       "max": 162464,
       "style": "IPY_MODEL_24cfc338c56a40edb2db046ceee76065",
       "value": 162464
      }
     },
     "276daa1d973b4ea980578c9c7ba93a85": {
      "model_module": "@jupyter-widgets/controls",
      "model_module_version": "1.5.0",
      "model_name": "HBoxModel",
      "state": {
       "children": [
        "IPY_MODEL_1844de45a2f44186b81995a43f171919",
        "IPY_MODEL_1caff43326d74d208d2aeb061776042a",
        "IPY_MODEL_d230e0346ee04b82b82be2c08645ee85"
       ],
       "layout": "IPY_MODEL_2b473691f1fd46babb4ac20725b7e576"
      }
     },
     "285016c534a6404e923e3d3efaf25f42": {
      "model_module": "@jupyter-widgets/base",
      "model_module_version": "1.2.0",
      "model_name": "LayoutModel",
      "state": {}
     },
     "289a6f0da33448c095442d7d6e45f0df": {
      "model_module": "@jupyter-widgets/controls",
      "model_module_version": "1.5.0",
      "model_name": "HTMLModel",
      "state": {
       "layout": "IPY_MODEL_5ec8e457c2174b4a93dbbec402564a5d",
       "style": "IPY_MODEL_4e4b3721a5d54c3285ef15601055360d",
       "value": "📄 142435 of 162832 ⌚ timestamps from participant c6c110c9-2efe-44e7-914f-d6052e2ab784 processed: "
      }
     },
     "290ca6eba9be4750a0f7ecdf4006350d": {
      "model_module": "@jupyter-widgets/controls",
      "model_module_version": "1.5.0",
      "model_name": "DescriptionStyleModel",
      "state": {
       "description_width": ""
      }
     },
     "29aeb6b0b16942a6aec0eff5dbf4ee5f": {
      "model_module": "@jupyter-widgets/controls",
      "model_module_version": "1.5.0",
      "model_name": "HBoxModel",
      "state": {
       "children": [
        "IPY_MODEL_1c68c5f589974c9dabed239cff50e45f",
        "IPY_MODEL_4d0e5db55b0945b7b63d8e2f73be8f70",
        "IPY_MODEL_ed6b20e0de0647dfa20fca9bcc5031ad"
       ],
       "layout": "IPY_MODEL_af1a4b8618c7476e864b58ca9f80f27f"
      }
     },
     "29b52eb8f7784838b98094108856cb09": {
      "model_module": "@jupyter-widgets/controls",
      "model_module_version": "1.5.0",
      "model_name": "ProgressStyleModel",
      "state": {
       "description_width": ""
      }
     },
     "29ec7afa19604f7d88af3ccf8705e6eb": {
      "model_module": "@jupyter-widgets/base",
      "model_module_version": "1.2.0",
      "model_name": "LayoutModel",
      "state": {}
     },
     "2ac0e5f506e44d8790057ebbddee6bf4": {
      "model_module": "@jupyter-widgets/controls",
      "model_module_version": "1.5.0",
      "model_name": "ProgressStyleModel",
      "state": {
       "description_width": ""
      }
     },
     "2b109b51177c438187885c825d030d0c": {
      "model_module": "@jupyter-widgets/controls",
      "model_module_version": "1.5.0",
      "model_name": "HBoxModel",
      "state": {
       "children": [
        "IPY_MODEL_eea82f55892443b6984f8765431d834e",
        "IPY_MODEL_f539f9a2fe50408c9045e9ea7144b007",
        "IPY_MODEL_6e7e6aa3a6614d7b8ce01448acc66873"
       ],
       "layout": "IPY_MODEL_0bc21aae4e5645388e6ae0ba46ca38f7"
      }
     },
     "2b473691f1fd46babb4ac20725b7e576": {
      "model_module": "@jupyter-widgets/base",
      "model_module_version": "1.2.0",
      "model_name": "LayoutModel",
      "state": {
       "display": "inline-flex",
       "flex_flow": "row wrap",
       "width": "100%"
      }
     },
     "2b6bef7165d545efb74a5157eccbf24c": {
      "model_module": "@jupyter-widgets/controls",
      "model_module_version": "1.5.0",
      "model_name": "HBoxModel",
      "state": {
       "children": [
        "IPY_MODEL_e3b28a6bc8bf4861b0e99ac9c953640a",
        "IPY_MODEL_96ff0dc530b046669d67e4b9fe0654da",
        "IPY_MODEL_593fd10272194b05892391c77dbbb57b"
       ],
       "layout": "IPY_MODEL_7ae02c598f774f3db68acd7e9fecc9f3"
      }
     },
     "2bd2fc1c7ca1476daab14365c62e4601": {
      "model_module": "@jupyter-widgets/controls",
      "model_module_version": "1.5.0",
      "model_name": "FloatProgressModel",
      "state": {
       "bar_style": "success",
       "layout": "IPY_MODEL_b1eac2bc3f4744a88ec1e8574d2b56e3",
       "max": 18,
       "style": "IPY_MODEL_45318edebb8348a5923dd958a1492ff2",
       "value": 18
      }
     },
     "2bdd815d34dd40938730c83699b3269e": {
      "model_module": "@jupyter-widgets/controls",
      "model_module_version": "1.5.0",
      "model_name": "HBoxModel",
      "state": {
       "children": [
        "IPY_MODEL_0539d5ddc9d8400a8fcc02535865847e",
        "IPY_MODEL_b10a78531e714cffbbb30c70943f4b82",
        "IPY_MODEL_a54ef15125674f9396b5e58e37ac35ad"
       ],
       "layout": "IPY_MODEL_96fad596fb4f43fea4d73062943fb2dc"
      }
     },
     "2be5df54fe204fcaa3534c8ec002950f": {
      "model_module": "@jupyter-widgets/controls",
      "model_module_version": "1.5.0",
      "model_name": "DescriptionStyleModel",
      "state": {
       "description_width": ""
      }
     },
     "2c0bd3faf9cc4ffb968205cf32327794": {
      "model_module": "@jupyter-widgets/base",
      "model_module_version": "1.2.0",
      "model_name": "LayoutModel",
      "state": {}
     },
     "2c36f153e2b641a1bc3e7e272a1256d7": {
      "model_module": "@jupyter-widgets/base",
      "model_module_version": "1.2.0",
      "model_name": "LayoutModel",
      "state": {}
     },
     "2ca26dbf837c43c59944e7c4ec688708": {
      "model_module": "@jupyter-widgets/controls",
      "model_module_version": "1.5.0",
      "model_name": "HTMLModel",
      "state": {
       "layout": "IPY_MODEL_ce0ffe15f4ed4ff4864252c9ef976f08",
       "style": "IPY_MODEL_290ca6eba9be4750a0f7ecdf4006350d",
       "value": " \n            100% ⏱️14:39 ⏳00:00 ⚙️100.07it/s"
      }
     },
     "2d5b406f800448138eb4438936075dc3": {
      "model_module": "@jupyter-widgets/controls",
      "model_module_version": "1.5.0",
      "model_name": "HTMLModel",
      "state": {
       "layout": "IPY_MODEL_a33b60e7465e4e258d23ad80bb2094cb",
       "style": "IPY_MODEL_2e66f0d0bd9b4f0c8156dc152db7a7b8",
       "value": "📄 143438 of 162917 ⌚ timestamps from participant caf93a54-5b95-4c55-ace9-619a0ca2dd98 processed: "
      }
     },
     "2e063d4e73e843979606237dfbb9ec7c": {
      "model_module": "@jupyter-widgets/controls",
      "model_module_version": "1.5.0",
      "model_name": "DescriptionStyleModel",
      "state": {
       "description_width": ""
      }
     },
     "2e3b5167029a4e298292937bb5646833": {
      "model_module": "@jupyter-widgets/base",
      "model_module_version": "1.2.0",
      "model_name": "LayoutModel",
      "state": {
       "flex": "2"
      }
     },
     "2e66f0d0bd9b4f0c8156dc152db7a7b8": {
      "model_module": "@jupyter-widgets/controls",
      "model_module_version": "1.5.0",
      "model_name": "DescriptionStyleModel",
      "state": {
       "description_width": ""
      }
     },
     "2efea6b7656e4f61834f39e5b9564ddd": {
      "model_module": "@jupyter-widgets/base",
      "model_module_version": "1.2.0",
      "model_name": "LayoutModel",
      "state": {
       "flex": "2"
      }
     },
     "2f737dc2e8574b89b83f29252030b9b1": {
      "model_module": "@jupyter-widgets/controls",
      "model_module_version": "1.5.0",
      "model_name": "ProgressStyleModel",
      "state": {
       "description_width": ""
      }
     },
     "2f9f654c86e44f179f1a9f434e28bacf": {
      "model_module": "@jupyter-widgets/controls",
      "model_module_version": "1.5.0",
      "model_name": "HTMLModel",
      "state": {
       "layout": "IPY_MODEL_5e2f327af54b497eaf1392b25c85abab",
       "style": "IPY_MODEL_dbd323d050f74666a88422e2d97cdb7c",
       "value": "📄 163090 of 163090 ⌚ timestamps from participant d4bf073c-a3cc-450c-9412-ef15538ee293 processed: "
      }
     },
     "309fac78451a47d2bec9e24a3b4d1853": {
      "model_module": "@jupyter-widgets/controls",
      "model_module_version": "1.5.0",
      "model_name": "HTMLModel",
      "state": {
       "layout": "IPY_MODEL_bc13066a2a084101a2661f05f6905d21",
       "style": "IPY_MODEL_3855342fd9cc46b4b5dcc696d880abbf",
       "value": " \n             95% ⏱️11:26 ⏳00:44 ⚙️191.31it/s"
      }
     },
     "3107b67d99ea45a29c0d3801e0b9abf0": {
      "model_module": "@jupyter-widgets/controls",
      "model_module_version": "1.5.0",
      "model_name": "HTMLModel",
      "state": {
       "layout": "IPY_MODEL_b5bd0a9949cc46fb87a3b293867c2066",
       "style": "IPY_MODEL_f1a7e6989e2f483eafea948252d6a937",
       "value": " \n            100% ⏱️28:55 ⏳00:00 ⚙️120.50it/s"
      }
     },
     "32745a052b7c44b885a914a4ab580b1a": {
      "model_module": "@jupyter-widgets/base",
      "model_module_version": "1.2.0",
      "model_name": "LayoutModel",
      "state": {}
     },
     "32d0c83330464a838e0c42ba8350f057": {
      "model_module": "@jupyter-widgets/controls",
      "model_module_version": "1.5.0",
      "model_name": "HBoxModel",
      "state": {
       "children": [
        "IPY_MODEL_92eadf38eb454244bfcc9fb171fea9d8",
        "IPY_MODEL_7c00447fbc1b41bc947e3753ff5c7896",
        "IPY_MODEL_2ca26dbf837c43c59944e7c4ec688708"
       ],
       "layout": "IPY_MODEL_84b570a878dd482fbfd0385e60e5f1b1"
      }
     },
     "3321fce023a245f5a4c87de88c71c677": {
      "model_module": "@jupyter-widgets/base",
      "model_module_version": "1.2.0",
      "model_name": "LayoutModel",
      "state": {}
     },
     "35324f52113c4032b2607a9ba0f98c1f": {
      "model_module": "@jupyter-widgets/base",
      "model_module_version": "1.2.0",
      "model_name": "LayoutModel",
      "state": {}
     },
     "356ce1d2b6144147ad368a03d6d48e78": {
      "model_module": "@jupyter-widgets/controls",
      "model_module_version": "1.5.0",
      "model_name": "FloatProgressModel",
      "state": {
       "bar_style": "success",
       "layout": "IPY_MODEL_67208beb172f41a1b9a9e217a3ce3bb5",
       "max": 161902,
       "style": "IPY_MODEL_90c00d7065484951a3d75526663a3441",
       "value": 161902
      }
     },
     "359ac11176964937942dd9e9ec7d8cfe": {
      "model_module": "@jupyter-widgets/controls",
      "model_module_version": "1.5.0",
      "model_name": "HBoxModel",
      "state": {
       "children": [
        "IPY_MODEL_9995a9a8b19b4176959ab6da5503ed06",
        "IPY_MODEL_b05641aa42524f27a896aead65306cf9",
        "IPY_MODEL_513d6b4ef1b9415ab48639035e241bd6"
       ],
       "layout": "IPY_MODEL_74b72cf4ca7446549e0f7c1a8c6b58d3"
      }
     },
     "35ed0d2dcfcd4a33ad4e6b28a24140b3": {
      "model_module": "@jupyter-widgets/base",
      "model_module_version": "1.2.0",
      "model_name": "LayoutModel",
      "state": {}
     },
     "36602c2d9c354c439519579d9fa4b6f7": {
      "model_module": "@jupyter-widgets/controls",
      "model_module_version": "1.5.0",
      "model_name": "HBoxModel",
      "state": {
       "children": [
        "IPY_MODEL_7619744db2f0422db6d34af91765a042",
        "IPY_MODEL_b3933abc6bf8483fa8820c19049e66a9",
        "IPY_MODEL_0452d28f842a4ce2a030d3da6f8fcdcb"
       ],
       "layout": "IPY_MODEL_42b0213068e34a91a3fe498587494127"
      }
     },
     "36e5888787e147c2a7e5466c95e90604": {
      "model_module": "@jupyter-widgets/base",
      "model_module_version": "1.2.0",
      "model_name": "LayoutModel",
      "state": {}
     },
     "36fef5e908404ab8bfd0b7283639bbf0": {
      "model_module": "@jupyter-widgets/controls",
      "model_module_version": "1.5.0",
      "model_name": "ProgressStyleModel",
      "state": {
       "description_width": ""
      }
     },
     "37137a0c4dde41bc84856c2dba3c475f": {
      "model_module": "@jupyter-widgets/controls",
      "model_module_version": "1.5.0",
      "model_name": "HBoxModel",
      "state": {
       "children": [
        "IPY_MODEL_63ebc4c9687f44b383b334470c0c1568",
        "IPY_MODEL_dd342a61d5fc4c1d8a74b35df5cb5fd5",
        "IPY_MODEL_c78b66609dbc4e6ea6c28c7900e9ea5d"
       ],
       "layout": "IPY_MODEL_e28c0dae06b24ad88fb8a147f605ee1b"
      }
     },
     "3732cff6545444c28d7763548993980d": {
      "model_module": "@jupyter-widgets/base",
      "model_module_version": "1.2.0",
      "model_name": "LayoutModel",
      "state": {
       "flex": "2"
      }
     },
     "3756c25c36ac466ebd7d074e28fc2d51": {
      "model_module": "@jupyter-widgets/controls",
      "model_module_version": "1.5.0",
      "model_name": "DescriptionStyleModel",
      "state": {
       "description_width": ""
      }
     },
     "375c264a79a14c1995bed37fbcc45b86": {
      "model_module": "@jupyter-widgets/controls",
      "model_module_version": "1.5.0",
      "model_name": "FloatProgressModel",
      "state": {
       "bar_style": "success",
       "layout": "IPY_MODEL_d11cf3f6bc5a4160a19d817d0cee57b3",
       "max": 161903,
       "style": "IPY_MODEL_c7ddd2c7e66c417eb6cd81b566330419",
       "value": 161903
      }
     },
     "383ba83c6d8041f08f43916f96d40100": {
      "model_module": "@jupyter-widgets/controls",
      "model_module_version": "1.5.0",
      "model_name": "HBoxModel",
      "state": {
       "children": [
        "IPY_MODEL_f4d6cedffaa046caa9722d2c0cc81ee2",
        "IPY_MODEL_c5bc760a18dd4c679fd6016c8d3c003a",
        "IPY_MODEL_b87b0166a4364d08a9b1977b8f5490ab"
       ],
       "layout": "IPY_MODEL_1bb7b8eb345e491987e11af63a78f240"
      }
     },
     "3855342fd9cc46b4b5dcc696d880abbf": {
      "model_module": "@jupyter-widgets/controls",
      "model_module_version": "1.5.0",
      "model_name": "DescriptionStyleModel",
      "state": {
       "description_width": ""
      }
     },
     "39b15813c1034f06b194beb18fdf6baf": {
      "model_module": "@jupyter-widgets/controls",
      "model_module_version": "1.5.0",
      "model_name": "HTMLModel",
      "state": {
       "layout": "IPY_MODEL_cb96c0237a574345b11505fea102ae6d",
       "style": "IPY_MODEL_829621a2bf624cd58ebe36ed237945a8",
       "value": " \n             95% ⏱️11:25 ⏳00:45 ⚙️163.47it/s"
      }
     },
     "3a057ba3ceef4e2bb805d0c217aac3c0": {
      "model_module": "@jupyter-widgets/controls",
      "model_module_version": "1.5.0",
      "model_name": "HTMLModel",
      "state": {
       "layout": "IPY_MODEL_6165b61f562f48ac899f253d8db6e2e0",
       "style": "IPY_MODEL_90f7f0c3675a480cbd10d19925379ec1",
       "value": "📄 162466 of 162466 ⌚ timestamps from participant 20e8d35c-e7aa-4be3-a6e2-5b78f4cd44d8 processed: "
      }
     },
     "3a2ceb71b1b543c7ab6d5d8f7f597e1f": {
      "model_module": "@jupyter-widgets/base",
      "model_module_version": "1.2.0",
      "model_name": "LayoutModel",
      "state": {}
     },
     "3a332b48925a416689f084d8c63b68e9": {
      "model_module": "@jupyter-widgets/base",
      "model_module_version": "1.2.0",
      "model_name": "LayoutModel",
      "state": {}
     },
     "3a35cac7b4fa4fe084ae9d31bad1cdd1": {
      "model_module": "@jupyter-widgets/base",
      "model_module_version": "1.2.0",
      "model_name": "LayoutModel",
      "state": {
       "display": "inline-flex",
       "flex_flow": "row wrap",
       "width": "100%"
      }
     },
     "3a42ddbd420f4eb1a98c3c3af5588fd6": {
      "model_module": "@jupyter-widgets/base",
      "model_module_version": "1.2.0",
      "model_name": "LayoutModel",
      "state": {
       "flex": "2"
      }
     },
     "3a9b7cdcf03d4344aae8c554e7863cbe": {
      "model_module": "@jupyter-widgets/controls",
      "model_module_version": "1.5.0",
      "model_name": "HBoxModel",
      "state": {
       "children": [
        "IPY_MODEL_dd14838357c943a492163293a0706f45",
        "IPY_MODEL_550f2872193a4a2c94a46707e03e0246",
        "IPY_MODEL_791bd052c76c4e779c3986c430476230"
       ],
       "layout": "IPY_MODEL_87bcef32f4ef488f9590c5187bfa2c5f"
      }
     },
     "3b05f7c122884fc1bf057fa5c97dd2e7": {
      "model_module": "@jupyter-widgets/base",
      "model_module_version": "1.2.0",
      "model_name": "LayoutModel",
      "state": {
       "flex": "2"
      }
     },
     "3b3f94c181804dada3d89c12d75c67b2": {
      "model_module": "@jupyter-widgets/base",
      "model_module_version": "1.2.0",
      "model_name": "LayoutModel",
      "state": {}
     },
     "3b9275afb74d40d383269bdf8c267d80": {
      "model_module": "@jupyter-widgets/controls",
      "model_module_version": "1.5.0",
      "model_name": "DescriptionStyleModel",
      "state": {
       "description_width": ""
      }
     },
     "3c52bfe96a4140b389fa4a26a355a9a3": {
      "model_module": "@jupyter-widgets/base",
      "model_module_version": "1.2.0",
      "model_name": "LayoutModel",
      "state": {
       "flex": "2"
      }
     },
     "3ca3f2dd1f1a4058b9e289e16096106a": {
      "model_module": "@jupyter-widgets/base",
      "model_module_version": "1.2.0",
      "model_name": "LayoutModel",
      "state": {}
     },
     "3cb1e78f91974b389a6862f2d6f1552d": {
      "model_module": "@jupyter-widgets/base",
      "model_module_version": "1.2.0",
      "model_name": "LayoutModel",
      "state": {}
     },
     "3d0f6cbf268b485f8ed5974638fdaace": {
      "model_module": "@jupyter-widgets/controls",
      "model_module_version": "1.5.0",
      "model_name": "FloatProgressModel",
      "state": {
       "layout": "IPY_MODEL_a013e73bf7044902b851ac9a359f38d6",
       "max": 161208,
       "style": "IPY_MODEL_6488ab7dd38c4d8cbf4ab1fb7716ca36",
       "value": 147251
      }
     },
     "3d5218420cf0450ca7a36291d0711819": {
      "model_module": "@jupyter-widgets/base",
      "model_module_version": "1.2.0",
      "model_name": "LayoutModel",
      "state": {}
     },
     "3d8042de78af4e118d4c19504feb8f7f": {
      "model_module": "@jupyter-widgets/controls",
      "model_module_version": "1.5.0",
      "model_name": "HTMLModel",
      "state": {
       "layout": "IPY_MODEL_105eab6e7c1643b3a5b01383886c6cd9",
       "style": "IPY_MODEL_2be5df54fe204fcaa3534c8ec002950f",
       "value": "📄 162527 of 162527 ⌚ timestamps from participant 6f6719eb-8c89-46fe-8b5e-3c81e0e40a84 processed: "
      }
     },
     "3ded23a044ec41409636c0303a999def": {
      "model_module": "@jupyter-widgets/base",
      "model_module_version": "1.2.0",
      "model_name": "LayoutModel",
      "state": {
       "display": "inline-flex",
       "flex_flow": "row wrap",
       "width": "100%"
      }
     },
     "3e1b14015a284b4294ef04232302526e": {
      "model_module": "@jupyter-widgets/controls",
      "model_module_version": "1.5.0",
      "model_name": "HTMLModel",
      "state": {
       "layout": "IPY_MODEL_8c276149812a4c0f9c0f90ee1c17bbbb",
       "style": "IPY_MODEL_ab37d6460ce742839de08efef7fded90",
       "value": " \n            100% ⏱️20:17 ⏳00:00 ⚙️41.66s/it"
      }
     },
     "3f4f756fdabb4b5ca6aa9d549a7047ba": {
      "model_module": "@jupyter-widgets/base",
      "model_module_version": "1.2.0",
      "model_name": "LayoutModel",
      "state": {}
     },
     "3f56665f307f4f58ace64d7d0bfc7be5": {
      "model_module": "@jupyter-widgets/base",
      "model_module_version": "1.2.0",
      "model_name": "LayoutModel",
      "state": {
       "flex": "2"
      }
     },
     "3fe745fcbebb4b2b826f5f89963f1973": {
      "model_module": "@jupyter-widgets/controls",
      "model_module_version": "1.5.0",
      "model_name": "FloatProgressModel",
      "state": {
       "layout": "IPY_MODEL_5ddef74fcee84ec0a9805bb6806b8bd4",
       "max": 162462,
       "style": "IPY_MODEL_2476e9d64e1f461bb9dd7c9ec7ff9d72",
       "value": 144401
      }
     },
     "41d0e622ef804793b75d69dcbbe56d75": {
      "model_module": "@jupyter-widgets/base",
      "model_module_version": "1.2.0",
      "model_name": "LayoutModel",
      "state": {
       "display": "inline-flex",
       "flex_flow": "row wrap",
       "width": "100%"
      }
     },
     "420183e437a9430bac2f5d9edc3786d4": {
      "model_module": "@jupyter-widgets/controls",
      "model_module_version": "1.5.0",
      "model_name": "HBoxModel",
      "state": {
       "children": [
        "IPY_MODEL_2f9f654c86e44f179f1a9f434e28bacf",
        "IPY_MODEL_c4a4b94df3c643bc827076f61efaf3cf",
        "IPY_MODEL_aa48b86c30fd4059923e1a393360f939"
       ],
       "layout": "IPY_MODEL_fd6ce13dd8af44ba95c00a24e22ad4d6"
      }
     },
     "4223276b518e45039a49f25bf5e6ad15": {
      "model_module": "@jupyter-widgets/base",
      "model_module_version": "1.2.0",
      "model_name": "LayoutModel",
      "state": {}
     },
     "42424eaf63484bed9e8aaacde81db6c9": {
      "model_module": "@jupyter-widgets/controls",
      "model_module_version": "1.5.0",
      "model_name": "DescriptionStyleModel",
      "state": {
       "description_width": ""
      }
     },
     "42b0213068e34a91a3fe498587494127": {
      "model_module": "@jupyter-widgets/base",
      "model_module_version": "1.2.0",
      "model_name": "LayoutModel",
      "state": {
       "display": "inline-flex",
       "flex_flow": "row wrap",
       "width": "100%"
      }
     },
     "42e9ddadee6e4366a1c8e6abf7d2c6bb": {
      "model_module": "@jupyter-widgets/controls",
      "model_module_version": "1.5.0",
      "model_name": "DescriptionStyleModel",
      "state": {
       "description_width": ""
      }
     },
     "443b468f0fe043fdb5f52e03ec41bebb": {
      "model_module": "@jupyter-widgets/controls",
      "model_module_version": "1.5.0",
      "model_name": "HTMLModel",
      "state": {
       "layout": "IPY_MODEL_5a819ad818074299a4dd225a9fef4c9f",
       "style": "IPY_MODEL_ac350fb3c07a4002b3b8eb7e3a4100f2",
       "value": "📄 162834 of 162834 ⌚ timestamps from participant c6c110c9-2efe-44e7-914f-d6052e2ab784 processed: "
      }
     },
     "44a12d480e12435d84fc12d653b26772": {
      "model_module": "@jupyter-widgets/controls",
      "model_module_version": "1.5.0",
      "model_name": "FloatProgressModel",
      "state": {
       "bar_style": "success",
       "layout": "IPY_MODEL_6172beaaf0e04a50b209f14e2911640a",
       "max": 18,
       "style": "IPY_MODEL_50b27fee3ea24b54a570a99521b5e5e8",
       "value": 18
      }
     },
     "44f5f84a31aa42adbfc72854767d5849": {
      "model_module": "@jupyter-widgets/base",
      "model_module_version": "1.2.0",
      "model_name": "LayoutModel",
      "state": {
       "flex": "2"
      }
     },
     "45318edebb8348a5923dd958a1492ff2": {
      "model_module": "@jupyter-widgets/controls",
      "model_module_version": "1.5.0",
      "model_name": "ProgressStyleModel",
      "state": {
       "description_width": ""
      }
     },
     "4535a03b7f3347a8b74e2a0a361a8d1e": {
      "model_module": "@jupyter-widgets/controls",
      "model_module_version": "1.5.0",
      "model_name": "FloatProgressModel",
      "state": {
       "bar_style": "success",
       "layout": "IPY_MODEL_84abd6c7e77a4b79a7944edf900f7212",
       "max": 157535,
       "style": "IPY_MODEL_553e27555d114199a6dac5f940b54ae9",
       "value": 157535
      }
     },
     "4564b98bc46148a1b6254611655afe5c": {
      "model_module": "@jupyter-widgets/controls",
      "model_module_version": "1.5.0",
      "model_name": "DescriptionStyleModel",
      "state": {
       "description_width": ""
      }
     },
     "456b2d8d1b724706804706ed3bd52c2d": {
      "model_module": "@jupyter-widgets/base",
      "model_module_version": "1.2.0",
      "model_name": "LayoutModel",
      "state": {
       "flex": "2"
      }
     },
     "45950694f77748709f03b034630b9b8d": {
      "model_module": "@jupyter-widgets/controls",
      "model_module_version": "1.5.0",
      "model_name": "ProgressStyleModel",
      "state": {
       "description_width": ""
      }
     },
     "467783a431574887a07e859711ada829": {
      "model_module": "@jupyter-widgets/base",
      "model_module_version": "1.2.0",
      "model_name": "LayoutModel",
      "state": {}
     },
     "46dc7573b5e345ad8805c2ccec5cefa8": {
      "model_module": "@jupyter-widgets/base",
      "model_module_version": "1.2.0",
      "model_name": "LayoutModel",
      "state": {
       "display": "inline-flex",
       "flex_flow": "row wrap",
       "width": "100%"
      }
     },
     "472d7ad3477a42a6a7308fe7a8806fb9": {
      "model_module": "@jupyter-widgets/base",
      "model_module_version": "1.2.0",
      "model_name": "LayoutModel",
      "state": {
       "flex": "2"
      }
     },
     "47c36c1245e34f36aa667f0ab98337de": {
      "model_module": "@jupyter-widgets/base",
      "model_module_version": "1.2.0",
      "model_name": "LayoutModel",
      "state": {
       "flex": "2"
      }
     },
     "47c56383c84c413c82b887939e04da7d": {
      "model_module": "@jupyter-widgets/controls",
      "model_module_version": "1.5.0",
      "model_name": "DescriptionStyleModel",
      "state": {
       "description_width": ""
      }
     },
     "48204da2e1aa44a39b4786c1ed17ed5b": {
      "model_module": "@jupyter-widgets/base",
      "model_module_version": "1.2.0",
      "model_name": "LayoutModel",
      "state": {
       "display": "inline-flex",
       "flex_flow": "row wrap",
       "width": "100%"
      }
     },
     "48321a072bc04133b65012340ffc941d": {
      "model_module": "@jupyter-widgets/base",
      "model_module_version": "1.2.0",
      "model_name": "LayoutModel",
      "state": {
       "display": "inline-flex",
       "flex_flow": "row wrap",
       "width": "100%"
      }
     },
     "4856134b97044956a979fb80c47faee0": {
      "model_module": "@jupyter-widgets/controls",
      "model_module_version": "1.5.0",
      "model_name": "DescriptionStyleModel",
      "state": {
       "description_width": ""
      }
     },
     "4890c7e53b584a8f967b8475e8c3b037": {
      "model_module": "@jupyter-widgets/base",
      "model_module_version": "1.2.0",
      "model_name": "LayoutModel",
      "state": {
       "display": "inline-flex",
       "flex_flow": "row wrap",
       "width": "100%"
      }
     },
     "49a369ddb4144a9e91fe113125c2195a": {
      "model_module": "@jupyter-widgets/base",
      "model_module_version": "1.2.0",
      "model_name": "LayoutModel",
      "state": {
       "flex": "2"
      }
     },
     "4a9c1f4c8a92434ea1130e04de6959a7": {
      "model_module": "@jupyter-widgets/controls",
      "model_module_version": "1.5.0",
      "model_name": "HTMLModel",
      "state": {
       "layout": "IPY_MODEL_b4fb5dc831db40af9b18513d07a50450",
       "style": "IPY_MODEL_42424eaf63484bed9e8aaacde81db6c9",
       "value": " \n             29% ⏱️01:41 ⏳05:11 ⚙️368.09it/s"
      }
     },
     "4ab700e9f93142478c3ae59621900d6f": {
      "model_module": "@jupyter-widgets/controls",
      "model_module_version": "1.5.0",
      "model_name": "DescriptionStyleModel",
      "state": {
       "description_width": ""
      }
     },
     "4b9356a452564e8188018bcbe2465cde": {
      "model_module": "@jupyter-widgets/base",
      "model_module_version": "1.2.0",
      "model_name": "LayoutModel",
      "state": {}
     },
     "4bcca697ca914ceebeb2697029ab93df": {
      "model_module": "@jupyter-widgets/controls",
      "model_module_version": "1.5.0",
      "model_name": "DescriptionStyleModel",
      "state": {
       "description_width": ""
      }
     },
     "4bd6173631e74a7ea9a64818148b52bd": {
      "model_module": "@jupyter-widgets/controls",
      "model_module_version": "1.5.0",
      "model_name": "ProgressStyleModel",
      "state": {
       "description_width": ""
      }
     },
     "4bee14d9fdd34b7f9d913debae69f621": {
      "model_module": "@jupyter-widgets/base",
      "model_module_version": "1.2.0",
      "model_name": "LayoutModel",
      "state": {
       "display": "inline-flex",
       "flex_flow": "row wrap",
       "width": "100%"
      }
     },
     "4c4ee0deb71e439084ad01dd91e42d37": {
      "model_module": "@jupyter-widgets/base",
      "model_module_version": "1.2.0",
      "model_name": "LayoutModel",
      "state": {}
     },
     "4cdc57b5b14f44f889d1b266a5e88037": {
      "model_module": "@jupyter-widgets/controls",
      "model_module_version": "1.5.0",
      "model_name": "FloatProgressModel",
      "state": {
       "bar_style": "success",
       "layout": "IPY_MODEL_47c36c1245e34f36aa667f0ab98337de",
       "max": 163022,
       "style": "IPY_MODEL_12414fc57fe4492592cd158f9e451ff5",
       "value": 163022
      }
     },
     "4d0e5db55b0945b7b63d8e2f73be8f70": {
      "model_module": "@jupyter-widgets/controls",
      "model_module_version": "1.5.0",
      "model_name": "FloatProgressModel",
      "state": {
       "bar_style": "success",
       "layout": "IPY_MODEL_49a369ddb4144a9e91fe113125c2195a",
       "max": 162528,
       "style": "IPY_MODEL_06e69bdfa54b4cd8a204875197027f7e",
       "value": 162528
      }
     },
     "4d6c86c31a324920a0cd45f71c78c72b": {
      "model_module": "@jupyter-widgets/controls",
      "model_module_version": "1.5.0",
      "model_name": "DescriptionStyleModel",
      "state": {
       "description_width": ""
      }
     },
     "4d89238e0d464335837dad654d0990c6": {
      "model_module": "@jupyter-widgets/controls",
      "model_module_version": "1.5.0",
      "model_name": "FloatProgressModel",
      "state": {
       "bar_style": "success",
       "layout": "IPY_MODEL_472d7ad3477a42a6a7308fe7a8806fb9",
       "max": 162834,
       "style": "IPY_MODEL_aca1bfa311e34250b4881ccf18de62a9",
       "value": 162834
      }
     },
     "4da2b40f3c604177a0a0b7d6bc41f728": {
      "model_module": "@jupyter-widgets/base",
      "model_module_version": "1.2.0",
      "model_name": "LayoutModel",
      "state": {
       "display": "inline-flex",
       "flex_flow": "row wrap",
       "width": "100%"
      }
     },
     "4e4b3721a5d54c3285ef15601055360d": {
      "model_module": "@jupyter-widgets/controls",
      "model_module_version": "1.5.0",
      "model_name": "DescriptionStyleModel",
      "state": {
       "description_width": ""
      }
     },
     "4e520340f61240b5b0f1c25fb7664900": {
      "model_module": "@jupyter-widgets/controls",
      "model_module_version": "1.5.0",
      "model_name": "FloatProgressModel",
      "state": {
       "bar_style": "success",
       "layout": "IPY_MODEL_ac00886c74a44277a2af92c1282cb5e9",
       "max": 162462,
       "style": "IPY_MODEL_79d8ee353f18410aa6c9c71104c1836d",
       "value": 162462
      }
     },
     "4e89e10718d84bdf845b90e63410bf4c": {
      "model_module": "@jupyter-widgets/base",
      "model_module_version": "1.2.0",
      "model_name": "LayoutModel",
      "state": {
       "display": "inline-flex",
       "flex_flow": "row wrap",
       "width": "100%"
      }
     },
     "4eeb0eb2a9024c9db0612e5354c38fbf": {
      "model_module": "@jupyter-widgets/base",
      "model_module_version": "1.2.0",
      "model_name": "LayoutModel",
      "state": {}
     },
     "4ef6cdcc795840528063fc1c3efd5178": {
      "model_module": "@jupyter-widgets/base",
      "model_module_version": "1.2.0",
      "model_name": "LayoutModel",
      "state": {}
     },
     "4f1e0ba5ee8848168cfa3044cfcd1116": {
      "model_module": "@jupyter-widgets/base",
      "model_module_version": "1.2.0",
      "model_name": "LayoutModel",
      "state": {}
     },
     "4f5111ec64b747d4b353ab2113f59800": {
      "model_module": "@jupyter-widgets/base",
      "model_module_version": "1.2.0",
      "model_name": "LayoutModel",
      "state": {}
     },
     "4f62899990794d05a4f5c41f5abfeb70": {
      "model_module": "@jupyter-widgets/controls",
      "model_module_version": "1.5.0",
      "model_name": "HTMLModel",
      "state": {
       "layout": "IPY_MODEL_8f872b4ec50049f88b09cc8e2ee3208d",
       "style": "IPY_MODEL_ccee08807f9248fc9d3dc802d4a40501",
       "value": " \n            100% ⏱️29:11 ⏳00:00 ⚙️371.96it/s"
      }
     },
     "4fb4405a62ce408e8a470a61f01c2b30": {
      "model_module": "@jupyter-widgets/base",
      "model_module_version": "1.2.0",
      "model_name": "LayoutModel",
      "state": {}
     },
     "4fee0a0620484c149628326b5aa0a7ba": {
      "model_module": "@jupyter-widgets/controls",
      "model_module_version": "1.5.0",
      "model_name": "DescriptionStyleModel",
      "state": {
       "description_width": ""
      }
     },
     "504540e331e74191955dfacd3bb993aa": {
      "model_module": "@jupyter-widgets/base",
      "model_module_version": "1.2.0",
      "model_name": "LayoutModel",
      "state": {
       "flex": "2"
      }
     },
     "50b27fee3ea24b54a570a99521b5e5e8": {
      "model_module": "@jupyter-widgets/controls",
      "model_module_version": "1.5.0",
      "model_name": "ProgressStyleModel",
      "state": {
       "description_width": ""
      }
     },
     "513d6b4ef1b9415ab48639035e241bd6": {
      "model_module": "@jupyter-widgets/controls",
      "model_module_version": "1.5.0",
      "model_name": "HTMLModel",
      "state": {
       "layout": "IPY_MODEL_256540c7c3c64081993da666cf53863c",
       "style": "IPY_MODEL_273c3fc6a5bb4bee8c02e5398cddb9d5",
       "value": " \n            100% ⏱️28:51 ⏳00:00 ⚙️113.85it/s"
      }
     },
     "51ff25b54f8f4fd9bb66e1b50dbb6ab1": {
      "model_module": "@jupyter-widgets/controls",
      "model_module_version": "1.5.0",
      "model_name": "HBoxModel",
      "state": {
       "children": [
        "IPY_MODEL_cf1d5fa9eecb42a2a46778c33376b52b",
        "IPY_MODEL_0176614ddea24c8fba933bef575a5dfa",
        "IPY_MODEL_eeb6c3d3f2cc40c9a3defb6447fa0d75"
       ],
       "layout": "IPY_MODEL_fe8c61c850f340a0a6f9ffbd7df21e93"
      }
     },
     "5229443fce6e4d7d8e52584f6cfb185c": {
      "model_module": "@jupyter-widgets/controls",
      "model_module_version": "1.5.0",
      "model_name": "HTMLModel",
      "state": {
       "layout": "IPY_MODEL_a701bf94d9854f71aa79db5613e8fae9",
       "style": "IPY_MODEL_e2dc13ff156b44959fa6c8b3fd1a45f5",
       "value": " \n             93% ⏱️11:25 ⏳01:18 ⚙️141.99it/s"
      }
     },
     "5278bf0cac9e4b8a8585d90a1f087e57": {
      "model_module": "@jupyter-widgets/base",
      "model_module_version": "1.2.0",
      "model_name": "LayoutModel",
      "state": {}
     },
     "5315c9c5c15f4cf88424b50ccad71d22": {
      "model_module": "@jupyter-widgets/base",
      "model_module_version": "1.2.0",
      "model_name": "LayoutModel",
      "state": {}
     },
     "53e4924bf9e14744938bf9e0c6d94824": {
      "model_module": "@jupyter-widgets/controls",
      "model_module_version": "1.5.0",
      "model_name": "HTMLModel",
      "state": {
       "layout": "IPY_MODEL_9298afc2f9ea45d6a823d71eef8cce07",
       "style": "IPY_MODEL_f16fcf962e584a41b1f710062a2e20a5",
       "value": " \n            100% ⏱️28:34 ⏳00:00 ⚙️23.47it/s"
      }
     },
     "542a43e9191743c98ae9579d7d7c493e": {
      "model_module": "@jupyter-widgets/controls",
      "model_module_version": "1.5.0",
      "model_name": "DescriptionStyleModel",
      "state": {
       "description_width": ""
      }
     },
     "550074983ba84c3c8ad627e149dbc1c3": {
      "model_module": "@jupyter-widgets/controls",
      "model_module_version": "1.5.0",
      "model_name": "DescriptionStyleModel",
      "state": {
       "description_width": ""
      }
     },
     "550f2872193a4a2c94a46707e03e0246": {
      "model_module": "@jupyter-widgets/controls",
      "model_module_version": "1.5.0",
      "model_name": "FloatProgressModel",
      "state": {
       "layout": "IPY_MODEL_f1bc87248a84468a9fc73f3e91cf0db1",
       "max": 162355,
       "style": "IPY_MODEL_c203a7058f6d4cc6a82c097568740f7a",
       "value": 152446
      }
     },
     "553e27555d114199a6dac5f940b54ae9": {
      "model_module": "@jupyter-widgets/controls",
      "model_module_version": "1.5.0",
      "model_name": "ProgressStyleModel",
      "state": {
       "description_width": ""
      }
     },
     "55c603cb855b4475b391ca2db0893569": {
      "model_module": "@jupyter-widgets/base",
      "model_module_version": "1.2.0",
      "model_name": "LayoutModel",
      "state": {}
     },
     "55c7cb9704b24c8ba0c784b47d5df64e": {
      "model_module": "@jupyter-widgets/base",
      "model_module_version": "1.2.0",
      "model_name": "LayoutModel",
      "state": {
       "display": "inline-flex",
       "flex_flow": "row wrap",
       "width": "100%"
      }
     },
     "573a65c7cc0f44f487ae2e4d8588a661": {
      "model_module": "@jupyter-widgets/controls",
      "model_module_version": "1.5.0",
      "model_name": "HBoxModel",
      "state": {
       "children": [
        "IPY_MODEL_86bef891bd404b7a81a78d3a9f048d16",
        "IPY_MODEL_abd40bfc7dcf44c8a5637e40f83d61c7",
        "IPY_MODEL_309fac78451a47d2bec9e24a3b4d1853"
       ],
       "layout": "IPY_MODEL_91e7103b5d2946c38368ba5147bb2ec8"
      }
     },
     "583cb5f426754ddbbccf53cda549c686": {
      "model_module": "@jupyter-widgets/base",
      "model_module_version": "1.2.0",
      "model_name": "LayoutModel",
      "state": {}
     },
     "58644129865440e48487dab411033a72": {
      "model_module": "@jupyter-widgets/base",
      "model_module_version": "1.2.0",
      "model_name": "LayoutModel",
      "state": {
       "display": "inline-flex",
       "flex_flow": "row wrap",
       "width": "100%"
      }
     },
     "593fd10272194b05892391c77dbbb57b": {
      "model_module": "@jupyter-widgets/controls",
      "model_module_version": "1.5.0",
      "model_name": "HTMLModel",
      "state": {
       "layout": "IPY_MODEL_9ae61a844f7c4eea94dd6678dbc606ff",
       "style": "IPY_MODEL_70db6fe47d984da789bad4d01f52e37c",
       "value": " \n            100% ⏱️02:19 ⏳00:00 ⚙️139.02s/it"
      }
     },
     "5a15619dd1444db4a081cac2de77c1e7": {
      "model_module": "@jupyter-widgets/base",
      "model_module_version": "1.2.0",
      "model_name": "LayoutModel",
      "state": {}
     },
     "5a482b7afd224b92aae87d94ee7f05d7": {
      "model_module": "@jupyter-widgets/controls",
      "model_module_version": "1.5.0",
      "model_name": "FloatProgressModel",
      "state": {
       "layout": "IPY_MODEL_1a0920f4ee0044fca493efe48c085341",
       "max": 163020,
       "style": "IPY_MODEL_1f83cb9703684eae838908b7a7c30c28",
       "value": 153520
      }
     },
     "5a819ad818074299a4dd225a9fef4c9f": {
      "model_module": "@jupyter-widgets/base",
      "model_module_version": "1.2.0",
      "model_name": "LayoutModel",
      "state": {}
     },
     "5abba9485b374d1cac9c77fdfd27966e": {
      "model_module": "@jupyter-widgets/base",
      "model_module_version": "1.2.0",
      "model_name": "LayoutModel",
      "state": {
       "flex": "2"
      }
     },
     "5ae4fc9247044a6092c37f4d31af3ac0": {
      "model_module": "@jupyter-widgets/controls",
      "model_module_version": "1.5.0",
      "model_name": "HBoxModel",
      "state": {
       "children": [
        "IPY_MODEL_705873660f4f49209d0b070881271159",
        "IPY_MODEL_99ea0a62cb3d48e6a11a504b1def8cab",
        "IPY_MODEL_4a9c1f4c8a92434ea1130e04de6959a7"
       ],
       "layout": "IPY_MODEL_a854dced24ae4d46bc86c779f8016c21"
      }
     },
     "5b9a3530945e4bb583aff6d776a285fa": {
      "model_module": "@jupyter-widgets/controls",
      "model_module_version": "1.5.0",
      "model_name": "FloatProgressModel",
      "state": {
       "layout": "IPY_MODEL_456b2d8d1b724706804706ed3bd52c2d",
       "max": 163088,
       "style": "IPY_MODEL_07b6e578918e4f0f9f760e93606c0df9",
       "value": 139944
      }
     },
     "5bacd394754249c9a864fa8c66f3032d": {
      "model_module": "@jupyter-widgets/base",
      "model_module_version": "1.2.0",
      "model_name": "LayoutModel",
      "state": {
       "display": "inline-flex",
       "flex_flow": "row wrap",
       "width": "100%"
      }
     },
     "5c3ab7654ae144b2a38901382d49935c": {
      "model_module": "@jupyter-widgets/base",
      "model_module_version": "1.2.0",
      "model_name": "LayoutModel",
      "state": {}
     },
     "5c86e6c7dfca487e9bf86c1a4738d214": {
      "model_module": "@jupyter-widgets/controls",
      "model_module_version": "1.5.0",
      "model_name": "FloatProgressModel",
      "state": {
       "layout": "IPY_MODEL_ac06b8e14d80462a9389b047ebb8e9f4",
       "max": 162525,
       "style": "IPY_MODEL_9c8ca3e5e75d4aaba939da489a44371b",
       "value": 12088
      }
     },
     "5d0c03fbc5bf453fb643abbc1d5186d4": {
      "model_module": "@jupyter-widgets/controls",
      "model_module_version": "1.5.0",
      "model_name": "FloatProgressModel",
      "state": {
       "bar_style": "success",
       "layout": "IPY_MODEL_8d9df07aa3fc4668b4559921fc9385c6",
       "max": 157537,
       "style": "IPY_MODEL_803e30e9bcbe45cda6cdd63e29ef73eb",
       "value": 157537
      }
     },
     "5d178b13fe53439eb0cde7f6791d5069": {
      "model_module": "@jupyter-widgets/controls",
      "model_module_version": "1.5.0",
      "model_name": "DescriptionStyleModel",
      "state": {
       "description_width": ""
      }
     },
     "5d44661c22c24278a45a49bca6e791ed": {
      "model_module": "@jupyter-widgets/base",
      "model_module_version": "1.2.0",
      "model_name": "LayoutModel",
      "state": {
       "display": "inline-flex",
       "flex_flow": "row wrap",
       "width": "100%"
      }
     },
     "5d558e4c0d0a4d3f91bc64b798b8eede": {
      "model_module": "@jupyter-widgets/controls",
      "model_module_version": "1.5.0",
      "model_name": "FloatProgressModel",
      "state": {
       "bar_style": "success",
       "layout": "IPY_MODEL_02cab98d225d4409b7530c7d636f2b55",
       "max": 162482,
       "style": "IPY_MODEL_f9a3251a479f423f8d9d9aa22f770e0f",
       "value": 162482
      }
     },
     "5d7493115734467ea208874103e09900": {
      "model_module": "@jupyter-widgets/controls",
      "model_module_version": "1.5.0",
      "model_name": "ProgressStyleModel",
      "state": {
       "description_width": ""
      }
     },
     "5d9ec992f5814c859219268d0bd845a7": {
      "model_module": "@jupyter-widgets/controls",
      "model_module_version": "1.5.0",
      "model_name": "DescriptionStyleModel",
      "state": {
       "description_width": ""
      }
     },
     "5dde899b1893446e95405a0fbb9596fe": {
      "model_module": "@jupyter-widgets/controls",
      "model_module_version": "1.5.0",
      "model_name": "DescriptionStyleModel",
      "state": {
       "description_width": ""
      }
     },
     "5ddef74fcee84ec0a9805bb6806b8bd4": {
      "model_module": "@jupyter-widgets/base",
      "model_module_version": "1.2.0",
      "model_name": "LayoutModel",
      "state": {
       "flex": "2"
      }
     },
     "5de05111432d4957bc4deb61704780cd": {
      "model_module": "@jupyter-widgets/controls",
      "model_module_version": "1.5.0",
      "model_name": "DescriptionStyleModel",
      "state": {
       "description_width": ""
      }
     },
     "5e2f327af54b497eaf1392b25c85abab": {
      "model_module": "@jupyter-widgets/base",
      "model_module_version": "1.2.0",
      "model_name": "LayoutModel",
      "state": {}
     },
     "5e784d8811614f01a46294d4431d5d63": {
      "model_module": "@jupyter-widgets/base",
      "model_module_version": "1.2.0",
      "model_name": "LayoutModel",
      "state": {
       "flex": "2"
      }
     },
     "5ec8e457c2174b4a93dbbec402564a5d": {
      "model_module": "@jupyter-widgets/base",
      "model_module_version": "1.2.0",
      "model_name": "LayoutModel",
      "state": {}
     },
     "60ab8b2efd55482495b327969886d6e6": {
      "model_module": "@jupyter-widgets/controls",
      "model_module_version": "1.5.0",
      "model_name": "HTMLModel",
      "state": {
       "layout": "IPY_MODEL_e2a9cb12c5054f95bcd30eb5dbed8d09",
       "style": "IPY_MODEL_b7d77a4dbfcf411e89d81a470997dd27",
       "value": "📄 12088 of 162525 ⌚ timestamps from participant 6f6719eb-8c89-46fe-8b5e-3c81e0e40a84 processed: "
      }
     },
     "6165b61f562f48ac899f253d8db6e2e0": {
      "model_module": "@jupyter-widgets/base",
      "model_module_version": "1.2.0",
      "model_name": "LayoutModel",
      "state": {}
     },
     "6172beaaf0e04a50b209f14e2911640a": {
      "model_module": "@jupyter-widgets/base",
      "model_module_version": "1.2.0",
      "model_name": "LayoutModel",
      "state": {
       "flex": "2"
      }
     },
     "61d82c5cab8640a389f274be120b3ef1": {
      "model_module": "@jupyter-widgets/controls",
      "model_module_version": "1.5.0",
      "model_name": "HBoxModel",
      "state": {
       "children": [
        "IPY_MODEL_053f3b6c889447b1ac8799155ba0edf1",
        "IPY_MODEL_5d558e4c0d0a4d3f91bc64b798b8eede",
        "IPY_MODEL_a5d2d3e43b4e47348575f69fc05b4cdf"
       ],
       "layout": "IPY_MODEL_66d3f5f5b9c54089aacea28502ae3736"
      }
     },
     "61ecdeda047e4b7ea7f2420a84b2c567": {
      "model_module": "@jupyter-widgets/controls",
      "model_module_version": "1.5.0",
      "model_name": "DescriptionStyleModel",
      "state": {
       "description_width": ""
      }
     },
     "61fcf6e11b604486bfaa5fb8eea8ddc8": {
      "model_module": "@jupyter-widgets/base",
      "model_module_version": "1.2.0",
      "model_name": "LayoutModel",
      "state": {
       "flex": "2"
      }
     },
     "6232e5bf52e94ec897f828fdab4ac740": {
      "model_module": "@jupyter-widgets/controls",
      "model_module_version": "1.5.0",
      "model_name": "HTMLModel",
      "state": {
       "layout": "IPY_MODEL_36e5888787e147c2a7e5466c95e90604",
       "style": "IPY_MODEL_d06109c1322f4f86b0481ffbe758e4a0",
       "value": " \n            100% ⏱️02:18 ⏳00:00 ⚙️138.08s/it"
      }
     },
     "62d7aef5db764518950139a7701595cf": {
      "model_module": "@jupyter-widgets/controls",
      "model_module_version": "1.5.0",
      "model_name": "DescriptionStyleModel",
      "state": {
       "description_width": ""
      }
     },
     "62da7c7422864a64840d054176f80f96": {
      "model_module": "@jupyter-widgets/base",
      "model_module_version": "1.2.0",
      "model_name": "LayoutModel",
      "state": {}
     },
     "6341c92ed49943d3b0c0190ce437b4e9": {
      "model_module": "@jupyter-widgets/controls",
      "model_module_version": "1.5.0",
      "model_name": "FloatProgressModel",
      "state": {
       "bar_style": "success",
       "layout": "IPY_MODEL_2e3b5167029a4e298292937bb5646833",
       "max": 161901,
       "style": "IPY_MODEL_e2fc3b5792e8463a85b0972789920dbe",
       "value": 161901
      }
     },
     "63b044479ab14973bd02ec2f61addd9e": {
      "model_module": "@jupyter-widgets/controls",
      "model_module_version": "1.5.0",
      "model_name": "HTMLModel",
      "state": {
       "layout": "IPY_MODEL_94fb8cbf923d4e959119507d821ae1b7",
       "style": "IPY_MODEL_d38692631d784c569e3e23c4aa3ca177",
       "value": "📄 2 of 18 📂 participants processed: "
      }
     },
     "63ebc4c9687f44b383b334470c0c1568": {
      "model_module": "@jupyter-widgets/controls",
      "model_module_version": "1.5.0",
      "model_name": "HTMLModel",
      "state": {
       "layout": "IPY_MODEL_4eeb0eb2a9024c9db0612e5354c38fbf",
       "style": "IPY_MODEL_bbdc6a9c5cc44667bd6c1813514627c5",
       "value": "📄 161210 of 161210 ⌚ timestamps from participant 95184b7a-42f1-40b0-ae36-be6ef1e33f1d processed: "
      }
     },
     "640cafe653824903a70e8d26e3089830": {
      "model_module": "@jupyter-widgets/base",
      "model_module_version": "1.2.0",
      "model_name": "LayoutModel",
      "state": {}
     },
     "642f944513e04498be3a8315e50967d3": {
      "model_module": "@jupyter-widgets/controls",
      "model_module_version": "1.5.0",
      "model_name": "DescriptionStyleModel",
      "state": {
       "description_width": ""
      }
     },
     "6436faec2b8e49c28e2292de6c653a4b": {
      "model_module": "@jupyter-widgets/controls",
      "model_module_version": "1.5.0",
      "model_name": "HTMLModel",
      "state": {
       "layout": "IPY_MODEL_cf4c4b478c6a4f6c99f03573d55193eb",
       "style": "IPY_MODEL_74b68ae90f094647bb33395f50f03c09",
       "value": "📄 162462 of 162462 ⌚ timestamps from participant c4400578-a590-4cf5-abc2-0f634fb4443c processed: "
      }
     },
     "6488ab7dd38c4d8cbf4ab1fb7716ca36": {
      "model_module": "@jupyter-widgets/controls",
      "model_module_version": "1.5.0",
      "model_name": "ProgressStyleModel",
      "state": {
       "description_width": ""
      }
     },
     "66819c2b9106406e82bc70642bf13efc": {
      "model_module": "@jupyter-widgets/base",
      "model_module_version": "1.2.0",
      "model_name": "LayoutModel",
      "state": {}
     },
     "66d3f5f5b9c54089aacea28502ae3736": {
      "model_module": "@jupyter-widgets/base",
      "model_module_version": "1.2.0",
      "model_name": "LayoutModel",
      "state": {
       "display": "inline-flex",
       "flex_flow": "row wrap",
       "width": "100%"
      }
     },
     "670445b5aa2f4111a92b87d6bc67126d": {
      "model_module": "@jupyter-widgets/base",
      "model_module_version": "1.2.0",
      "model_name": "LayoutModel",
      "state": {
       "flex": "2"
      }
     },
     "67208beb172f41a1b9a9e217a3ce3bb5": {
      "model_module": "@jupyter-widgets/base",
      "model_module_version": "1.2.0",
      "model_name": "LayoutModel",
      "state": {
       "flex": "2"
      }
     },
     "6748e15945814ab680ba86281c2d7d6c": {
      "model_module": "@jupyter-widgets/controls",
      "model_module_version": "1.5.0",
      "model_name": "FloatProgressModel",
      "state": {
       "bar_style": "success",
       "layout": "IPY_MODEL_ee6d9df139044ebb8658307c661f31d0",
       "max": 1,
       "style": "IPY_MODEL_2f737dc2e8574b89b83f29252030b9b1",
       "value": 1
      }
     },
     "678dfd4de9a9449cad1b566d9eac8d84": {
      "model_module": "@jupyter-widgets/base",
      "model_module_version": "1.2.0",
      "model_name": "LayoutModel",
      "state": {
       "flex": "2"
      }
     },
     "69ec218dd00d42cd88c3e2e59ebc0eef": {
      "model_module": "@jupyter-widgets/base",
      "model_module_version": "1.2.0",
      "model_name": "LayoutModel",
      "state": {
       "flex": "2"
      }
     },
     "6ac545cc25804b5b851401ae4752ad64": {
      "model_module": "@jupyter-widgets/controls",
      "model_module_version": "1.5.0",
      "model_name": "HTMLModel",
      "state": {
       "layout": "IPY_MODEL_098651dcf41246649a259c95790046ee",
       "style": "IPY_MODEL_e1bb06e082104aa89defe21c69661c58",
       "value": " \n            100% ⏱️28:15 ⏳00:00 ⚙️65.76it/s"
      }
     },
     "6bd00904232648d99ede1510d533c324": {
      "model_module": "@jupyter-widgets/base",
      "model_module_version": "1.2.0",
      "model_name": "LayoutModel",
      "state": {}
     },
     "6bee7608b7ed4998bffd134a3f1b7b89": {
      "model_module": "@jupyter-widgets/controls",
      "model_module_version": "1.5.0",
      "model_name": "HTMLModel",
      "state": {
       "layout": "IPY_MODEL_fd55c6fd2c58430685f2edee1f7dd37e",
       "style": "IPY_MODEL_b478455834cf4dcdb6f12d2893adda2c",
       "value": " \n            100% ⏱️01:40 ⏳00:00 ⚙️100.29s/it"
      }
     },
     "6c265ccdf2ad4b3ea2e92bf66fa4c9df": {
      "model_module": "@jupyter-widgets/controls",
      "model_module_version": "1.5.0",
      "model_name": "DescriptionStyleModel",
      "state": {
       "description_width": ""
      }
     },
     "6c31d9b5b8124a8f9ab4a86e27c6a505": {
      "model_module": "@jupyter-widgets/controls",
      "model_module_version": "1.5.0",
      "model_name": "ProgressStyleModel",
      "state": {
       "description_width": ""
      }
     },
     "6c47a3580b464b43a104a2f8f45e943e": {
      "model_module": "@jupyter-widgets/controls",
      "model_module_version": "1.5.0",
      "model_name": "DescriptionStyleModel",
      "state": {
       "description_width": ""
      }
     },
     "6c4d0407149241fbaeeb3b724f385eb9": {
      "model_module": "@jupyter-widgets/base",
      "model_module_version": "1.2.0",
      "model_name": "LayoutModel",
      "state": {
       "display": "inline-flex",
       "flex_flow": "row wrap",
       "width": "100%"
      }
     },
     "6cb16d9e328047c7a8790a6763b106f2": {
      "model_module": "@jupyter-widgets/base",
      "model_module_version": "1.2.0",
      "model_name": "LayoutModel",
      "state": {}
     },
     "6d145ac422774f27b1ef80ed709e2ded": {
      "model_module": "@jupyter-widgets/base",
      "model_module_version": "1.2.0",
      "model_name": "LayoutModel",
      "state": {}
     },
     "6dbafb7f2a384254abd44a4752204751": {
      "model_module": "@jupyter-widgets/controls",
      "model_module_version": "1.5.0",
      "model_name": "HTMLModel",
      "state": {
       "layout": "IPY_MODEL_55c603cb855b4475b391ca2db0893569",
       "style": "IPY_MODEL_42e9ddadee6e4366a1c8e6abf7d2c6bb",
       "value": "📄 162917 of 162917 ⌚ timestamps from participant caf93a54-5b95-4c55-ace9-619a0ca2dd98 processed: "
      }
     },
     "6dd1be94711a489e9cff3f50a61df62a": {
      "model_module": "@jupyter-widgets/base",
      "model_module_version": "1.2.0",
      "model_name": "LayoutModel",
      "state": {}
     },
     "6e7e6aa3a6614d7b8ce01448acc66873": {
      "model_module": "@jupyter-widgets/controls",
      "model_module_version": "1.5.0",
      "model_name": "HTMLModel",
      "state": {
       "layout": "IPY_MODEL_c10cdc066c184796a3500ba469c5ac1c",
       "style": "IPY_MODEL_22b4768efd6a4283828db5cdd991165d",
       "value": " \n            100% ⏱️07:53 ⏳00:00 ⚙️577.56it/s"
      }
     },
     "6f09ccdb94324437b0e25ff9a059ebeb": {
      "model_module": "@jupyter-widgets/controls",
      "model_module_version": "1.5.0",
      "model_name": "HTMLModel",
      "state": {
       "layout": "IPY_MODEL_8912667cea3f4d5894514786309614ca",
       "style": "IPY_MODEL_ad06ddb0905d45dbbae4936a130ac5e7",
       "value": " \n            100% ⏱️28:46 ⏳00:00 ⚙️91.15it/s"
      }
     },
     "6fe96fcdfccc488fbfe5fd78e0aa297d": {
      "model_module": "@jupyter-widgets/base",
      "model_module_version": "1.2.0",
      "model_name": "LayoutModel",
      "state": {
       "display": "inline-flex",
       "flex_flow": "row wrap",
       "width": "100%"
      }
     },
     "6ff65b9ada48427281a516b49c6141e7": {
      "model_module": "@jupyter-widgets/base",
      "model_module_version": "1.2.0",
      "model_name": "LayoutModel",
      "state": {}
     },
     "705873660f4f49209d0b070881271159": {
      "model_module": "@jupyter-widgets/controls",
      "model_module_version": "1.5.0",
      "model_name": "HTMLModel",
      "state": {
       "layout": "IPY_MODEL_810eefc6b8f8437091f7c7b2e4fd7308",
       "style": "IPY_MODEL_8b5d013c5ff744b2baff49b2a0891cf9",
       "value": "📄 47615 of 162385 ⌚ timestamps from participant 817cb93e-061d-4ea6-a13d-31226246ff34 processed: "
      }
     },
     "705fb0de0cb14ca788fc8cba0df3c19a": {
      "model_module": "@jupyter-widgets/controls",
      "model_module_version": "1.5.0",
      "model_name": "ProgressStyleModel",
      "state": {
       "description_width": ""
      }
     },
     "70c2f60c6abf4921af5115ca0cfb941c": {
      "model_module": "@jupyter-widgets/controls",
      "model_module_version": "1.5.0",
      "model_name": "HBoxModel",
      "state": {
       "children": [
        "IPY_MODEL_1546a2382a5d4470a21fc881b9117914",
        "IPY_MODEL_95ee70dd688b4303bd45e13b4e9035f5",
        "IPY_MODEL_fef7dc94785441c69af7cf13559b3e2f"
       ],
       "layout": "IPY_MODEL_4bee14d9fdd34b7f9d913debae69f621"
      }
     },
     "70db6fe47d984da789bad4d01f52e37c": {
      "model_module": "@jupyter-widgets/controls",
      "model_module_version": "1.5.0",
      "model_name": "DescriptionStyleModel",
      "state": {
       "description_width": ""
      }
     },
     "71394c8d8f004126ae92da7ace3a5355": {
      "model_module": "@jupyter-widgets/controls",
      "model_module_version": "1.5.0",
      "model_name": "ProgressStyleModel",
      "state": {
       "description_width": ""
      }
     },
     "7151072e07e94cb0bdce58a0ce583596": {
      "model_module": "@jupyter-widgets/base",
      "model_module_version": "1.2.0",
      "model_name": "LayoutModel",
      "state": {
       "display": "inline-flex",
       "flex_flow": "row wrap",
       "width": "100%"
      }
     },
     "72758c0fb9ff452bbbd9b7edb6bfd435": {
      "model_module": "@jupyter-widgets/controls",
      "model_module_version": "1.5.0",
      "model_name": "HBoxModel",
      "state": {
       "children": [
        "IPY_MODEL_c5eab7517a2443ec887dfa4c111fe683",
        "IPY_MODEL_00bf8ece494b4ef59c53fd59aa09c069",
        "IPY_MODEL_f908d0e970214b22af0adb43c82d9841"
       ],
       "layout": "IPY_MODEL_6c4d0407149241fbaeeb3b724f385eb9"
      }
     },
     "729b8b4cd6d94b379fdcccbee012207a": {
      "model_module": "@jupyter-widgets/controls",
      "model_module_version": "1.5.0",
      "model_name": "ProgressStyleModel",
      "state": {
       "description_width": ""
      }
     },
     "72d7ee7461eb40d2a9944ed9f95b4263": {
      "model_module": "@jupyter-widgets/base",
      "model_module_version": "1.2.0",
      "model_name": "LayoutModel",
      "state": {
       "display": "inline-flex",
       "flex_flow": "row wrap",
       "width": "100%"
      }
     },
     "72d81b8bf0584e7e9f6b8a5c986b4b5f": {
      "model_module": "@jupyter-widgets/base",
      "model_module_version": "1.2.0",
      "model_name": "LayoutModel",
      "state": {
       "flex": "2"
      }
     },
     "7334e50fe9ba407a984bfccced953b6f": {
      "model_module": "@jupyter-widgets/controls",
      "model_module_version": "1.5.0",
      "model_name": "HTMLModel",
      "state": {
       "layout": "IPY_MODEL_66819c2b9106406e82bc70642bf13efc",
       "style": "IPY_MODEL_1f4b822213c24b6d95cdf8c7622f45d6",
       "value": "📄 18 of 18 📂 participants processed: "
      }
     },
     "735d15ea3c2a4f4ab9fca9456674e092": {
      "model_module": "@jupyter-widgets/controls",
      "model_module_version": "1.5.0",
      "model_name": "ProgressStyleModel",
      "state": {
       "description_width": ""
      }
     },
     "73932cef64d84d5689de150791a98ad5": {
      "model_module": "@jupyter-widgets/base",
      "model_module_version": "1.2.0",
      "model_name": "LayoutModel",
      "state": {
       "flex": "2"
      }
     },
     "73a54f3ef1344a6c87e7471382783d04": {
      "model_module": "@jupyter-widgets/controls",
      "model_module_version": "1.5.0",
      "model_name": "FloatProgressModel",
      "state": {
       "bar_style": "success",
       "layout": "IPY_MODEL_9fb910e3d54b4d9bb2adf8e4e0685cd6",
       "max": 162527,
       "style": "IPY_MODEL_13c736a24ee0498589bf274fceb0168d",
       "value": 162527
      }
     },
     "73d43b3120314a28bc538babb7069d0b": {
      "model_module": "@jupyter-widgets/controls",
      "model_module_version": "1.5.0",
      "model_name": "ProgressStyleModel",
      "state": {
       "description_width": ""
      }
     },
     "73f70cd0f9d34bc0ba40849bdd6ed6b7": {
      "model_module": "@jupyter-widgets/base",
      "model_module_version": "1.2.0",
      "model_name": "LayoutModel",
      "state": {
       "flex": "2"
      }
     },
     "74b68ae90f094647bb33395f50f03c09": {
      "model_module": "@jupyter-widgets/controls",
      "model_module_version": "1.5.0",
      "model_name": "DescriptionStyleModel",
      "state": {
       "description_width": ""
      }
     },
     "74b72cf4ca7446549e0f7c1a8c6b58d3": {
      "model_module": "@jupyter-widgets/base",
      "model_module_version": "1.2.0",
      "model_name": "LayoutModel",
      "state": {
       "display": "inline-flex",
       "flex_flow": "row wrap",
       "width": "100%"
      }
     },
     "7572901b77454ba2b8fb435e115efbf7": {
      "model_module": "@jupyter-widgets/controls",
      "model_module_version": "1.5.0",
      "model_name": "FloatProgressModel",
      "state": {
       "bar_style": "success",
       "layout": "IPY_MODEL_3c52bfe96a4140b389fa4a26a355a9a3",
       "max": 162613,
       "style": "IPY_MODEL_71394c8d8f004126ae92da7ace3a5355",
       "value": 162613
      }
     },
     "75ecf0ed9e3740a2a8e6216e4f1e5e74": {
      "model_module": "@jupyter-widgets/controls",
      "model_module_version": "1.5.0",
      "model_name": "HTMLModel",
      "state": {
       "layout": "IPY_MODEL_3f4f756fdabb4b5ca6aa9d549a7047ba",
       "style": "IPY_MODEL_7e6256ea7ed6471ab351226f4023126b",
       "value": " \n            100% ⏱️29:01 ⏳00:00 ⚙️155.60it/s"
      }
     },
     "75f1054218e743d28f16e1f2284ffad2": {
      "model_module": "@jupyter-widgets/base",
      "model_module_version": "1.2.0",
      "model_name": "LayoutModel",
      "state": {
       "display": "inline-flex",
       "flex_flow": "row wrap",
       "width": "100%"
      }
     },
     "7619744db2f0422db6d34af91765a042": {
      "model_module": "@jupyter-widgets/controls",
      "model_module_version": "1.5.0",
      "model_name": "HTMLModel",
      "state": {
       "layout": "IPY_MODEL_e980daba879c4fd59fd0bfc0c3b5eff3",
       "style": "IPY_MODEL_76d4e7d213fe43cd80c2c2d9a617a24e",
       "value": "📄 161903 of 161903 ⌚ timestamps from participant 70656182-09b3-4c19-9ae2-0a2ab2e19fed processed: "
      }
     },
     "76a10a79954f4199a5bc08422ac6d8c8": {
      "model_module": "@jupyter-widgets/controls",
      "model_module_version": "1.5.0",
      "model_name": "DescriptionStyleModel",
      "state": {
       "description_width": ""
      }
     },
     "76d4e7d213fe43cd80c2c2d9a617a24e": {
      "model_module": "@jupyter-widgets/controls",
      "model_module_version": "1.5.0",
      "model_name": "DescriptionStyleModel",
      "state": {
       "description_width": ""
      }
     },
     "7767807511b04b6ca605e41b9c53f59c": {
      "model_module": "@jupyter-widgets/controls",
      "model_module_version": "1.5.0",
      "model_name": "DescriptionStyleModel",
      "state": {
       "description_width": ""
      }
     },
     "77a6097a1b3041c18e214ef1dfe9171c": {
      "model_module": "@jupyter-widgets/controls",
      "model_module_version": "1.5.0",
      "model_name": "HTMLModel",
      "state": {
       "layout": "IPY_MODEL_3a2ceb71b1b543c7ab6d5d8f7f597e1f",
       "style": "IPY_MODEL_25b408cbdbb44d9baa2f5d62fc873b12",
       "value": "📄 156621 of 157535 ⌚ timestamps from participant c4cb86a2-c2d6-40f0-b594-9bb3eb769189 processed: "
      }
     },
     "77abf0d7fb8444cbae47fcfecc6eddc5": {
      "model_module": "@jupyter-widgets/base",
      "model_module_version": "1.2.0",
      "model_name": "LayoutModel",
      "state": {
       "flex": "2"
      }
     },
     "77cf74d64a5a4c15b5ab1e9793eabd3c": {
      "model_module": "@jupyter-widgets/controls",
      "model_module_version": "1.5.0",
      "model_name": "HBoxModel",
      "state": {
       "children": [
        "IPY_MODEL_60ab8b2efd55482495b327969886d6e6",
        "IPY_MODEL_5c86e6c7dfca487e9bf86c1a4738d214",
        "IPY_MODEL_ca756c989bf84193b5754df3392636f2"
       ],
       "layout": "IPY_MODEL_efc36b3f6ea142fcbcc8cdf97827c420"
      }
     },
     "77edb731bb6147eba2ee3ded89957d9e": {
      "model_module": "@jupyter-widgets/base",
      "model_module_version": "1.2.0",
      "model_name": "LayoutModel",
      "state": {}
     },
     "77f7a9cd06d344288a73ee67aae344fb": {
      "model_module": "@jupyter-widgets/controls",
      "model_module_version": "1.5.0",
      "model_name": "HTMLModel",
      "state": {
       "layout": "IPY_MODEL_5c3ab7654ae144b2a38901382d49935c",
       "style": "IPY_MODEL_642f944513e04498be3a8315e50967d3",
       "value": "📄 162599 of 162599 ⌚ timestamps from participant e28fbd3e-516f-4c89-bc54-3cb32ddd5ef7 processed: "
      }
     },
     "786b4296278a4e6c92941781d9fa5759": {
      "model_module": "@jupyter-widgets/base",
      "model_module_version": "1.2.0",
      "model_name": "LayoutModel",
      "state": {}
     },
     "78af2621b0114fc795ae7c7c2262cd35": {
      "model_module": "@jupyter-widgets/base",
      "model_module_version": "1.2.0",
      "model_name": "LayoutModel",
      "state": {}
     },
     "78e4d2a05f34414196bcedcd7e35df38": {
      "model_module": "@jupyter-widgets/controls",
      "model_module_version": "1.5.0",
      "model_name": "HTMLModel",
      "state": {
       "layout": "IPY_MODEL_a94a1bff120b4755ad8b0c1e62f62f58",
       "style": "IPY_MODEL_796fb55c4228465698a5ce34d92a1862",
       "value": " \n            100% ⏱️29:05 ⏳00:00 ⚙️190.77it/s"
      }
     },
     "791bd052c76c4e779c3986c430476230": {
      "model_module": "@jupyter-widgets/controls",
      "model_module_version": "1.5.0",
      "model_name": "HTMLModel",
      "state": {
       "layout": "IPY_MODEL_6bd00904232648d99ede1510d533c324",
       "style": "IPY_MODEL_a0de1b374ec14df4988413b64bd3b7e5",
       "value": " \n             94% ⏱️11:26 ⏳01:22 ⚙️120.68it/s"
      }
     },
     "7959a6946b47463c85bf7bf5e2150c0f": {
      "model_module": "@jupyter-widgets/controls",
      "model_module_version": "1.5.0",
      "model_name": "HBoxModel",
      "state": {
       "children": [
        "IPY_MODEL_443b468f0fe043fdb5f52e03ec41bebb",
        "IPY_MODEL_4d89238e0d464335837dad654d0990c6",
        "IPY_MODEL_bac0cd682d924140a5acad92258f76c5"
       ],
       "layout": "IPY_MODEL_ac6083aa8a604657a6745b677dc7ec50"
      }
     },
     "796fb55c4228465698a5ce34d92a1862": {
      "model_module": "@jupyter-widgets/controls",
      "model_module_version": "1.5.0",
      "model_name": "DescriptionStyleModel",
      "state": {
       "description_width": ""
      }
     },
     "79aa603293394c1b9627a46cd2cad983": {
      "model_module": "@jupyter-widgets/base",
      "model_module_version": "1.2.0",
      "model_name": "LayoutModel",
      "state": {
       "display": "inline-flex",
       "flex_flow": "row wrap",
       "width": "100%"
      }
     },
     "79d8ee353f18410aa6c9c71104c1836d": {
      "model_module": "@jupyter-widgets/controls",
      "model_module_version": "1.5.0",
      "model_name": "ProgressStyleModel",
      "state": {
       "description_width": ""
      }
     },
     "79e6182f289b40f59df63bf7805981d1": {
      "model_module": "@jupyter-widgets/controls",
      "model_module_version": "1.5.0",
      "model_name": "DescriptionStyleModel",
      "state": {
       "description_width": ""
      }
     },
     "79f2f8bf307e48cc99d1373a09082d73": {
      "model_module": "@jupyter-widgets/base",
      "model_module_version": "1.2.0",
      "model_name": "LayoutModel",
      "state": {}
     },
     "7a75c3a7b42640baa66930927502a815": {
      "model_module": "@jupyter-widgets/controls",
      "model_module_version": "1.5.0",
      "model_name": "FloatProgressModel",
      "state": {
       "bar_style": "success",
       "layout": "IPY_MODEL_8cda843840c4496d901a01bc59cfb375",
       "max": 162385,
       "style": "IPY_MODEL_faf21606752d4e839c59df0f7fdaec22",
       "value": 162385
      }
     },
     "7a864fe20d15472ca97f353c2a30a516": {
      "model_module": "@jupyter-widgets/base",
      "model_module_version": "1.2.0",
      "model_name": "LayoutModel",
      "state": {}
     },
     "7ae02c598f774f3db68acd7e9fecc9f3": {
      "model_module": "@jupyter-widgets/base",
      "model_module_version": "1.2.0",
      "model_name": "LayoutModel",
      "state": {
       "display": "inline-flex",
       "flex_flow": "row wrap",
       "width": "100%"
      }
     },
     "7b137fc5f43c48f0aa1896175ca124c1": {
      "model_module": "@jupyter-widgets/controls",
      "model_module_version": "1.5.0",
      "model_name": "HBoxModel",
      "state": {
       "children": [
        "IPY_MODEL_63b044479ab14973bd02ec2f61addd9e",
        "IPY_MODEL_b1987d5062aa45ca933d1c6a6dcea4a3",
        "IPY_MODEL_144e89e697604780912500f73da3884a"
       ],
       "layout": "IPY_MODEL_4da2b40f3c604177a0a0b7d6bc41f728"
      }
     },
     "7b2424137af5491a98313f6f990c31b6": {
      "model_module": "@jupyter-widgets/base",
      "model_module_version": "1.2.0",
      "model_name": "LayoutModel",
      "state": {}
     },
     "7c00447fbc1b41bc947e3753ff5c7896": {
      "model_module": "@jupyter-widgets/controls",
      "model_module_version": "1.5.0",
      "model_name": "FloatProgressModel",
      "state": {
       "bar_style": "success",
       "layout": "IPY_MODEL_8aaef38dd6684691ab7b7813e1973fa3",
       "max": 162919,
       "style": "IPY_MODEL_29b52eb8f7784838b98094108856cb09",
       "value": 162919
      }
     },
     "7cb36408b607492681479ab25c049883": {
      "model_module": "@jupyter-widgets/base",
      "model_module_version": "1.2.0",
      "model_name": "LayoutModel",
      "state": {}
     },
     "7df776ee896b48de937b5f8e97d47e88": {
      "model_module": "@jupyter-widgets/controls",
      "model_module_version": "1.5.0",
      "model_name": "DescriptionStyleModel",
      "state": {
       "description_width": ""
      }
     },
     "7e6256ea7ed6471ab351226f4023126b": {
      "model_module": "@jupyter-widgets/controls",
      "model_module_version": "1.5.0",
      "model_name": "DescriptionStyleModel",
      "state": {
       "description_width": ""
      }
     },
     "7eae5b3027ea4e7ab9a68136a5ab9510": {
      "model_module": "@jupyter-widgets/base",
      "model_module_version": "1.2.0",
      "model_name": "LayoutModel",
      "state": {
       "display": "inline-flex",
       "flex_flow": "row wrap",
       "width": "100%"
      }
     },
     "7f69334fb0e34fdb8e8973448781839f": {
      "model_module": "@jupyter-widgets/controls",
      "model_module_version": "1.5.0",
      "model_name": "HTMLModel",
      "state": {
       "layout": "IPY_MODEL_b0f1960784464b4886a2b6d39ff01075",
       "style": "IPY_MODEL_19825c4c9b1948c1891f4e76ecf91576",
       "value": " \n            100% ⏱️10:24 ⏳00:00 ⚙️175.11it/s"
      }
     },
     "7fce142116bb4e9db5855ffd95a97609": {
      "model_module": "@jupyter-widgets/base",
      "model_module_version": "1.2.0",
      "model_name": "LayoutModel",
      "state": {}
     },
     "80058ae36e7c40578a072bcf6055f5ab": {
      "model_module": "@jupyter-widgets/controls",
      "model_module_version": "1.5.0",
      "model_name": "HTMLModel",
      "state": {
       "layout": "IPY_MODEL_6d145ac422774f27b1ef80ed709e2ded",
       "style": "IPY_MODEL_4ab700e9f93142478c3ae59621900d6f",
       "value": "📄 162468 of 162468 ⌚ timestamps from participant 20e8d35c-e7aa-4be3-a6e2-5b78f4cd44d8 processed: "
      }
     },
     "803e30e9bcbe45cda6cdd63e29ef73eb": {
      "model_module": "@jupyter-widgets/controls",
      "model_module_version": "1.5.0",
      "model_name": "ProgressStyleModel",
      "state": {
       "description_width": ""
      }
     },
     "804f8da5bf2248ae82a0f768d082f80d": {
      "model_module": "@jupyter-widgets/controls",
      "model_module_version": "1.5.0",
      "model_name": "HTMLModel",
      "state": {
       "layout": "IPY_MODEL_285016c534a6404e923e3d3efaf25f42",
       "style": "IPY_MODEL_9f59901b1b2847e489945b84eb8d3b53",
       "value": " \n            100% ⏱️20:07 ⏳00:00 ⚙️275.80it/s"
      }
     },
     "80ff9a7a8d224b878ec626c8ec4a8c3d": {
      "model_module": "@jupyter-widgets/controls",
      "model_module_version": "1.5.0",
      "model_name": "ProgressStyleModel",
      "state": {
       "description_width": ""
      }
     },
     "8102b635cba74c3d9e94b3a0647cea78": {
      "model_module": "@jupyter-widgets/controls",
      "model_module_version": "1.5.0",
      "model_name": "FloatProgressModel",
      "state": {
       "bar_style": "success",
       "layout": "IPY_MODEL_16f0c880317b4bc7989e1b397b12878a",
       "max": 162615,
       "style": "IPY_MODEL_81eb65db2164491289f3f252045c0833",
       "value": 162615
      }
     },
     "810eefc6b8f8437091f7c7b2e4fd7308": {
      "model_module": "@jupyter-widgets/base",
      "model_module_version": "1.2.0",
      "model_name": "LayoutModel",
      "state": {}
     },
     "81156cc4c67548afad9d141324e53bce": {
      "model_module": "@jupyter-widgets/base",
      "model_module_version": "1.2.0",
      "model_name": "LayoutModel",
      "state": {}
     },
     "8147d19230ae4c2f9d52f508c30fd6a8": {
      "model_module": "@jupyter-widgets/controls",
      "model_module_version": "1.5.0",
      "model_name": "HTMLModel",
      "state": {
       "layout": "IPY_MODEL_00ae76c620ef445f9c219c11133abcd4",
       "style": "IPY_MODEL_ea3ef835864b488ea4c48181bb335b9a",
       "value": " \n            100% ⏱️27:15 ⏳00:00 ⚙️63.93it/s"
      }
     },
     "81b74d1fada5471db0a63a50d24e3ec3": {
      "model_module": "@jupyter-widgets/controls",
      "model_module_version": "1.5.0",
      "model_name": "HTMLModel",
      "state": {
       "layout": "IPY_MODEL_5a15619dd1444db4a081cac2de77c1e7",
       "style": "IPY_MODEL_3756c25c36ac466ebd7d074e28fc2d51",
       "value": "📄 148673 of 162328 ⌚ timestamps from participant fdc06350-e1bb-4630-9d23-6631bb0a9498 processed: "
      }
     },
     "81eb65db2164491289f3f252045c0833": {
      "model_module": "@jupyter-widgets/controls",
      "model_module_version": "1.5.0",
      "model_name": "ProgressStyleModel",
      "state": {
       "description_width": ""
      }
     },
     "81f0d3a3590049f0b34704496dc457d9": {
      "model_module": "@jupyter-widgets/controls",
      "model_module_version": "1.5.0",
      "model_name": "DescriptionStyleModel",
      "state": {
       "description_width": ""
      }
     },
     "81faae44bd714932a624398ea7ad6b9e": {
      "model_module": "@jupyter-widgets/base",
      "model_module_version": "1.2.0",
      "model_name": "LayoutModel",
      "state": {
       "flex": "2"
      }
     },
     "824303364b4c4a6da06002946513f237": {
      "model_module": "@jupyter-widgets/controls",
      "model_module_version": "1.5.0",
      "model_name": "HBoxModel",
      "state": {
       "children": [
        "IPY_MODEL_6436faec2b8e49c28e2292de6c653a4b",
        "IPY_MODEL_4e520340f61240b5b0f1c25fb7664900",
        "IPY_MODEL_78e4d2a05f34414196bcedcd7e35df38"
       ],
       "layout": "IPY_MODEL_1cbd48df4d304d31a087bf392c96159b"
      }
     },
     "82557f42845749a9ac95a2f1d9d1bb3e": {
      "model_module": "@jupyter-widgets/controls",
      "model_module_version": "1.5.0",
      "model_name": "FloatProgressModel",
      "state": {
       "layout": "IPY_MODEL_e4df2c24ee0e44c3b9c5515880f7fb22",
       "max": 162527,
       "style": "IPY_MODEL_c0130eaefea24c609b9455ba51bee59d",
       "value": 153051
      }
     },
     "829621a2bf624cd58ebe36ed237945a8": {
      "model_module": "@jupyter-widgets/controls",
      "model_module_version": "1.5.0",
      "model_name": "DescriptionStyleModel",
      "state": {
       "description_width": ""
      }
     },
     "8300bc48623e4d94acf40947df354e38": {
      "model_module": "@jupyter-widgets/controls",
      "model_module_version": "1.5.0",
      "model_name": "HBoxModel",
      "state": {
       "children": [
        "IPY_MODEL_289a6f0da33448c095442d7d6e45f0df",
        "IPY_MODEL_057046e7a9334a14b12501e9a0e5a9db",
        "IPY_MODEL_24165e255d364cefaba7d381a3b424fe"
       ],
       "layout": "IPY_MODEL_be327f1e375248089d32e03f9e396681"
      }
     },
     "83e845b3decc4f408b363bec4be53470": {
      "model_module": "@jupyter-widgets/controls",
      "model_module_version": "1.5.0",
      "model_name": "ProgressStyleModel",
      "state": {
       "description_width": ""
      }
     },
     "84243c878c134b75b2d34a8a71524a3c": {
      "model_module": "@jupyter-widgets/controls",
      "model_module_version": "1.5.0",
      "model_name": "HTMLModel",
      "state": {
       "layout": "IPY_MODEL_dac93910971e46ea8eb7704f56c3f6de",
       "style": "IPY_MODEL_195af0a30c904217b4670dae6f33139f",
       "value": " \n             89% ⏱️11:25 ⏳01:42 ⚙️175.49it/s"
      }
     },
     "84427bc91fb247f0a12ab5217f59af39": {
      "model_module": "@jupyter-widgets/base",
      "model_module_version": "1.2.0",
      "model_name": "LayoutModel",
      "state": {}
     },
     "8492f761df8345a98de6b8e972b97406": {
      "model_module": "@jupyter-widgets/base",
      "model_module_version": "1.2.0",
      "model_name": "LayoutModel",
      "state": {
       "display": "inline-flex",
       "flex_flow": "row wrap",
       "width": "100%"
      }
     },
     "84abd6c7e77a4b79a7944edf900f7212": {
      "model_module": "@jupyter-widgets/base",
      "model_module_version": "1.2.0",
      "model_name": "LayoutModel",
      "state": {
       "flex": "2"
      }
     },
     "84b570a878dd482fbfd0385e60e5f1b1": {
      "model_module": "@jupyter-widgets/base",
      "model_module_version": "1.2.0",
      "model_name": "LayoutModel",
      "state": {
       "display": "inline-flex",
       "flex_flow": "row wrap",
       "width": "100%"
      }
     },
     "854a6eefec194ddfb9f330e503e41e62": {
      "model_module": "@jupyter-widgets/base",
      "model_module_version": "1.2.0",
      "model_name": "LayoutModel",
      "state": {
       "display": "inline-flex",
       "flex_flow": "row wrap",
       "width": "100%"
      }
     },
     "8585fe0a669542eea2ec2800268faa8e": {
      "model_module": "@jupyter-widgets/base",
      "model_module_version": "1.2.0",
      "model_name": "LayoutModel",
      "state": {}
     },
     "865a6c5779c042c5ad605ec149f063c2": {
      "model_module": "@jupyter-widgets/base",
      "model_module_version": "1.2.0",
      "model_name": "LayoutModel",
      "state": {}
     },
     "86bef891bd404b7a81a78d3a9f048d16": {
      "model_module": "@jupyter-widgets/controls",
      "model_module_version": "1.5.0",
      "model_name": "HTMLModel",
      "state": {
       "layout": "IPY_MODEL_35ed0d2dcfcd4a33ad4e6b28a24140b3",
       "style": "IPY_MODEL_542a43e9191743c98ae9579d7d7c493e",
       "value": "📄 153378 of 161901 ⌚ timestamps from participant 70656182-09b3-4c19-9ae2-0a2ab2e19fed processed: "
      }
     },
     "86c5f68eeb754e209defe12b59f8ecb8": {
      "model_module": "@jupyter-widgets/controls",
      "model_module_version": "1.5.0",
      "model_name": "HBoxModel",
      "state": {
       "children": [
        "IPY_MODEL_0aa238678c62437e8760523eface0cea",
        "IPY_MODEL_a73bc269d57040c2895daeaacfec5117",
        "IPY_MODEL_11682e102cd2438a989138128de87318"
       ],
       "layout": "IPY_MODEL_bfaac2f67f634353a92bcee6635ae936"
      }
     },
     "86ca8becd3d34ee8af876bd80f14b4cc": {
      "model_module": "@jupyter-widgets/base",
      "model_module_version": "1.2.0",
      "model_name": "LayoutModel",
      "state": {
       "display": "inline-flex",
       "flex_flow": "row wrap",
       "width": "100%"
      }
     },
     "86f7d5904a144cee831cdc6ff45a0ffb": {
      "model_module": "@jupyter-widgets/base",
      "model_module_version": "1.2.0",
      "model_name": "LayoutModel",
      "state": {
       "flex": "2"
      }
     },
     "87a62fc8e1a847c3b38e59b603443d14": {
      "model_module": "@jupyter-widgets/controls",
      "model_module_version": "1.5.0",
      "model_name": "HTMLModel",
      "state": {
       "layout": "IPY_MODEL_865a6c5779c042c5ad605ec149f063c2",
       "style": "IPY_MODEL_fb19dde8d45143c9a49837d0d2039940",
       "value": " \n            100% ⏱️03:47 ⏳00:00 ⚙️417.65it/s"
      }
     },
     "87bcef32f4ef488f9590c5187bfa2c5f": {
      "model_module": "@jupyter-widgets/base",
      "model_module_version": "1.2.0",
      "model_name": "LayoutModel",
      "state": {
       "display": "inline-flex",
       "flex_flow": "row wrap",
       "width": "100%"
      }
     },
     "87d03b75278e4184bca2e7b80555fe62": {
      "model_module": "@jupyter-widgets/controls",
      "model_module_version": "1.5.0",
      "model_name": "HTMLModel",
      "state": {
       "layout": "IPY_MODEL_fbedb8fb867b477d958afde3da186cf9",
       "style": "IPY_MODEL_cda0c06f90dd4d35aacafed836c55b2c",
       "value": " \n             94% ⏱️11:26 ⏳01:35 ⚙️99.77it/s"
      }
     },
     "87f1f7d7bec34df1a15ad4931ac8e10f": {
      "model_module": "@jupyter-widgets/controls",
      "model_module_version": "1.5.0",
      "model_name": "HTMLModel",
      "state": {
       "layout": "IPY_MODEL_467783a431574887a07e859711ada829",
       "style": "IPY_MODEL_5d9ec992f5814c859219268d0bd845a7",
       "value": "📄 162613 of 162613 ⌚ timestamps from participant 391543f6-7ff0-4ed3-aefd-c0ef68ebbbf3 processed: "
      }
     },
     "88918fbe065d408bbda2e2eb69ddc93c": {
      "model_module": "@jupyter-widgets/controls",
      "model_module_version": "1.5.0",
      "model_name": "DescriptionStyleModel",
      "state": {
       "description_width": ""
      }
     },
     "88cf5eedca11473dbc8602a28677cc46": {
      "model_module": "@jupyter-widgets/controls",
      "model_module_version": "1.5.0",
      "model_name": "HTMLModel",
      "state": {
       "layout": "IPY_MODEL_4f1e0ba5ee8848168cfa3044cfcd1116",
       "style": "IPY_MODEL_bd7e79dec895424bac6eae220f4dd32e",
       "value": "📄 162525 of 162525 ⌚ timestamps from participant 6f6719eb-8c89-46fe-8b5e-3c81e0e40a84 processed: "
      }
     },
     "8912667cea3f4d5894514786309614ca": {
      "model_module": "@jupyter-widgets/base",
      "model_module_version": "1.2.0",
      "model_name": "LayoutModel",
      "state": {}
     },
     "896da31d5ac54e268cfc5b2260afcc37": {
      "model_module": "@jupyter-widgets/controls",
      "model_module_version": "1.5.0",
      "model_name": "DescriptionStyleModel",
      "state": {
       "description_width": ""
      }
     },
     "8a5fe31060e94849ad801ae42ff5427a": {
      "model_module": "@jupyter-widgets/controls",
      "model_module_version": "1.5.0",
      "model_name": "HTMLModel",
      "state": {
       "layout": "IPY_MODEL_7fce142116bb4e9db5855ffd95a97609",
       "style": "IPY_MODEL_b353cd6366f24994b7a930597c69a29c",
       "value": "📄 18 of 18 📂 participants processed: "
      }
     },
     "8aaef38dd6684691ab7b7813e1973fa3": {
      "model_module": "@jupyter-widgets/base",
      "model_module_version": "1.2.0",
      "model_name": "LayoutModel",
      "state": {
       "flex": "2"
      }
     },
     "8ac7df4c307647d08d8a84e8346147b3": {
      "model_module": "@jupyter-widgets/controls",
      "model_module_version": "1.5.0",
      "model_name": "HTMLModel",
      "state": {
       "layout": "IPY_MODEL_62da7c7422864a64840d054176f80f96",
       "style": "IPY_MODEL_bb4897c9e1bd4e689713facf95064e73",
       "value": "📄 162355 of 162355 ⌚ timestamps from participant f25b9349-573e-4c97-974e-855d4b037c79 processed: "
      }
     },
     "8b43e53ab2fd4d23a9efcbceb57279ce": {
      "model_module": "@jupyter-widgets/base",
      "model_module_version": "1.2.0",
      "model_name": "LayoutModel",
      "state": {
       "flex": "2"
      }
     },
     "8b53c13b6553481ba2bbd89443aa49ad": {
      "model_module": "@jupyter-widgets/base",
      "model_module_version": "1.2.0",
      "model_name": "LayoutModel",
      "state": {}
     },
     "8b5d013c5ff744b2baff49b2a0891cf9": {
      "model_module": "@jupyter-widgets/controls",
      "model_module_version": "1.5.0",
      "model_name": "DescriptionStyleModel",
      "state": {
       "description_width": ""
      }
     },
     "8b60a70a6a7e4d7b981516672dcbb347": {
      "model_module": "@jupyter-widgets/base",
      "model_module_version": "1.2.0",
      "model_name": "LayoutModel",
      "state": {}
     },
     "8bac22a5b8ba4f369d19ce24de372a18": {
      "model_module": "@jupyter-widgets/controls",
      "model_module_version": "1.5.0",
      "model_name": "DescriptionStyleModel",
      "state": {
       "description_width": ""
      }
     },
     "8c276149812a4c0f9c0f90ee1c17bbbb": {
      "model_module": "@jupyter-widgets/base",
      "model_module_version": "1.2.0",
      "model_name": "LayoutModel",
      "state": {}
     },
     "8cda843840c4496d901a01bc59cfb375": {
      "model_module": "@jupyter-widgets/base",
      "model_module_version": "1.2.0",
      "model_name": "LayoutModel",
      "state": {
       "flex": "2"
      }
     },
     "8cec9cdb6f4b410ba46747f56a3c8fae": {
      "model_module": "@jupyter-widgets/controls",
      "model_module_version": "1.5.0",
      "model_name": "FloatProgressModel",
      "state": {
       "bar_style": "success",
       "layout": "IPY_MODEL_5abba9485b374d1cac9c77fdfd27966e",
       "max": 163028,
       "style": "IPY_MODEL_1d9970a01bbc4eb2ad0af63266eddc63",
       "value": 163028
      }
     },
     "8d4712e638884af8af2340ddebc8107a": {
      "model_module": "@jupyter-widgets/base",
      "model_module_version": "1.2.0",
      "model_name": "LayoutModel",
      "state": {
       "display": "inline-flex",
       "flex_flow": "row wrap",
       "width": "100%"
      }
     },
     "8d55bf8d54364b4588897634bbc4265c": {
      "model_module": "@jupyter-widgets/base",
      "model_module_version": "1.2.0",
      "model_name": "LayoutModel",
      "state": {
       "flex": "2"
      }
     },
     "8d9df07aa3fc4668b4559921fc9385c6": {
      "model_module": "@jupyter-widgets/base",
      "model_module_version": "1.2.0",
      "model_name": "LayoutModel",
      "state": {
       "flex": "2"
      }
     },
     "8e2fa3229afb49319a0b859dfbd82859": {
      "model_module": "@jupyter-widgets/controls",
      "model_module_version": "1.5.0",
      "model_name": "HBoxModel",
      "state": {
       "children": [
        "IPY_MODEL_88cf5eedca11473dbc8602a28677cc46",
        "IPY_MODEL_aa3faf79adef4a5abf769e92cab359bd",
        "IPY_MODEL_cac5e5ac2caf43bd88f92bffb94454f9"
       ],
       "layout": "IPY_MODEL_197ed8415d514b5ab231e0ef9e640d5b"
      }
     },
     "8f872b4ec50049f88b09cc8e2ee3208d": {
      "model_module": "@jupyter-widgets/base",
      "model_module_version": "1.2.0",
      "model_name": "LayoutModel",
      "state": {}
     },
     "904531f563bb479f92f59cd33c79cf70": {
      "model_module": "@jupyter-widgets/base",
      "model_module_version": "1.2.0",
      "model_name": "LayoutModel",
      "state": {}
     },
     "90c00d7065484951a3d75526663a3441": {
      "model_module": "@jupyter-widgets/controls",
      "model_module_version": "1.5.0",
      "model_name": "ProgressStyleModel",
      "state": {
       "description_width": ""
      }
     },
     "90f7f0c3675a480cbd10d19925379ec1": {
      "model_module": "@jupyter-widgets/controls",
      "model_module_version": "1.5.0",
      "model_name": "DescriptionStyleModel",
      "state": {
       "description_width": ""
      }
     },
     "9104f1c6fefd47149c3b6cb436d1bb9f": {
      "model_module": "@jupyter-widgets/base",
      "model_module_version": "1.2.0",
      "model_name": "LayoutModel",
      "state": {
       "display": "inline-flex",
       "flex_flow": "row wrap",
       "width": "100%"
      }
     },
     "9134031f1aaf4189a2f65dd2b7e9be37": {
      "model_module": "@jupyter-widgets/controls",
      "model_module_version": "1.5.0",
      "model_name": "DescriptionStyleModel",
      "state": {
       "description_width": ""
      }
     },
     "9154f5c74ec64bd8a2b279979ceb7cce": {
      "model_module": "@jupyter-widgets/controls",
      "model_module_version": "1.5.0",
      "model_name": "DescriptionStyleModel",
      "state": {
       "description_width": ""
      }
     },
     "917f116e7505499db0ec0658d1356a4c": {
      "model_module": "@jupyter-widgets/base",
      "model_module_version": "1.2.0",
      "model_name": "LayoutModel",
      "state": {
       "flex": "2"
      }
     },
     "91e7103b5d2946c38368ba5147bb2ec8": {
      "model_module": "@jupyter-widgets/base",
      "model_module_version": "1.2.0",
      "model_name": "LayoutModel",
      "state": {
       "display": "inline-flex",
       "flex_flow": "row wrap",
       "width": "100%"
      }
     },
     "92371e4756fd46a386961c0bb289687b": {
      "model_module": "@jupyter-widgets/controls",
      "model_module_version": "1.5.0",
      "model_name": "FloatProgressModel",
      "state": {
       "layout": "IPY_MODEL_b0a8483e716d459c877332c5f3764af2",
       "max": 162917,
       "style": "IPY_MODEL_c15690c9c23946a2a87119b7a669f7b9",
       "value": 143438
      }
     },
     "926aef744f694657b069a7ac0e48908f": {
      "model_module": "@jupyter-widgets/controls",
      "model_module_version": "1.5.0",
      "model_name": "DescriptionStyleModel",
      "state": {
       "description_width": ""
      }
     },
     "9298afc2f9ea45d6a823d71eef8cce07": {
      "model_module": "@jupyter-widgets/base",
      "model_module_version": "1.2.0",
      "model_name": "LayoutModel",
      "state": {}
     },
     "92eadf38eb454244bfcc9fb171fea9d8": {
      "model_module": "@jupyter-widgets/controls",
      "model_module_version": "1.5.0",
      "model_name": "HTMLModel",
      "state": {
       "layout": "IPY_MODEL_b83f425b3d4340eba0161f83427b1b20",
       "style": "IPY_MODEL_2e063d4e73e843979606237dfbb9ec7c",
       "value": "📄 162919 of 162919 ⌚ timestamps from participant caf93a54-5b95-4c55-ace9-619a0ca2dd98 processed: "
      }
     },
     "94fb8cbf923d4e959119507d821ae1b7": {
      "model_module": "@jupyter-widgets/base",
      "model_module_version": "1.2.0",
      "model_name": "LayoutModel",
      "state": {}
     },
     "95d2a11f512c4dccb473f51af905301a": {
      "model_module": "@jupyter-widgets/controls",
      "model_module_version": "1.5.0",
      "model_name": "HTMLModel",
      "state": {
       "layout": "IPY_MODEL_d1576cdf03a448a6b6955bf97c6c1302",
       "style": "IPY_MODEL_113acea858844739b8356fe209db8231",
       "value": "📄 161902 of 161902 ⌚ timestamps from participant 70656182-09b3-4c19-9ae2-0a2ab2e19fed processed: "
      }
     },
     "95e0c268a2614534bb52cc7d63756b64": {
      "model_module": "@jupyter-widgets/controls",
      "model_module_version": "1.5.0",
      "model_name": "HTMLModel",
      "state": {
       "layout": "IPY_MODEL_b5f74b6f49fc4a7296f2415569357d44",
       "style": "IPY_MODEL_008be0f294564cbe8b191ced0d3630be",
       "value": "📄 162480 of 162480 ⌚ timestamps from participant 61c0f1aa-b3ef-497b-8b6e-8ec6f05f6c42 processed: "
      }
     },
     "95ee70dd688b4303bd45e13b4e9035f5": {
      "model_module": "@jupyter-widgets/controls",
      "model_module_version": "1.5.0",
      "model_name": "FloatProgressModel",
      "state": {
       "bar_style": "success",
       "layout": "IPY_MODEL_3b05f7c122884fc1bf057fa5c97dd2e7",
       "max": 162527,
       "style": "IPY_MODEL_a75ef62e3c2e4b7d88c7939477967764",
       "value": 162527
      }
     },
     "9642c81fb37743ebaa32e0cf98e35242": {
      "model_module": "@jupyter-widgets/controls",
      "model_module_version": "1.5.0",
      "model_name": "HBoxModel",
      "state": {
       "children": [
        "IPY_MODEL_01d38ce532f247fb966260429ee92be4",
        "IPY_MODEL_27648e61d996415b91b05803bcf23fa0",
        "IPY_MODEL_aff94254a3ef4537960cc9756ee7156b"
       ],
       "layout": "IPY_MODEL_e3bd46178e0f481486717480a4df9578"
      }
     },
     "9664a5e3a69746f995d4855f11d7c2d8": {
      "model_module": "@jupyter-widgets/controls",
      "model_module_version": "1.5.0",
      "model_name": "ProgressStyleModel",
      "state": {
       "description_width": ""
      }
     },
     "968094aab62446efab94441b4912305f": {
      "model_module": "@jupyter-widgets/base",
      "model_module_version": "1.2.0",
      "model_name": "LayoutModel",
      "state": {
       "display": "inline-flex",
       "flex_flow": "row wrap",
       "width": "100%"
      }
     },
     "96e0c1ec973b4eaf86cf13ca04712102": {
      "model_module": "@jupyter-widgets/controls",
      "model_module_version": "1.5.0",
      "model_name": "HTMLModel",
      "state": {
       "layout": "IPY_MODEL_2c0bd3faf9cc4ffb968205cf32327794",
       "style": "IPY_MODEL_e00374517337446ca4557b9c4a3c4dcf",
       "value": " \n             99% ⏱️11:26 ⏳00:12 ⚙️75.51it/s"
      }
     },
     "96ed4ad17fe148148ff65aa36cf72f73": {
      "model_module": "@jupyter-widgets/base",
      "model_module_version": "1.2.0",
      "model_name": "LayoutModel",
      "state": {
       "flex": "2"
      }
     },
     "96ee60b1f0884a31ab5217f6ba1359ba": {
      "model_module": "@jupyter-widgets/controls",
      "model_module_version": "1.5.0",
      "model_name": "HTMLModel",
      "state": {
       "layout": "IPY_MODEL_4f5111ec64b747d4b353ab2113f59800",
       "style": "IPY_MODEL_18fd66d26e944d15b0feb1ccd067e63b",
       "value": " \n            100% ⏱️28:57 ⏳00:00 ⚙️123.34it/s"
      }
     },
     "96fad596fb4f43fea4d73062943fb2dc": {
      "model_module": "@jupyter-widgets/base",
      "model_module_version": "1.2.0",
      "model_name": "LayoutModel",
      "state": {
       "display": "inline-flex",
       "flex_flow": "row wrap",
       "width": "100%"
      }
     },
     "96ff0dc530b046669d67e4b9fe0654da": {
      "model_module": "@jupyter-widgets/controls",
      "model_module_version": "1.5.0",
      "model_name": "FloatProgressModel",
      "state": {
       "bar_style": "success",
       "layout": "IPY_MODEL_61fcf6e11b604486bfaa5fb8eea8ddc8",
       "max": 1,
       "style": "IPY_MODEL_f79b798bc9c543879828433bc63ff68a",
       "value": 1
      }
     },
     "973bc416a59e49bbb312f9b83ad7e827": {
      "model_module": "@jupyter-widgets/controls",
      "model_module_version": "1.5.0",
      "model_name": "FloatProgressModel",
      "state": {
       "bar_style": "success",
       "layout": "IPY_MODEL_8d55bf8d54364b4588897634bbc4265c",
       "max": 18,
       "style": "IPY_MODEL_9cfa6b6df0fd4dc68cea06c249de82bb",
       "value": 18
      }
     },
     "98875f27fe274f98a63bb7d441665707": {
      "model_module": "@jupyter-widgets/controls",
      "model_module_version": "1.5.0",
      "model_name": "ProgressStyleModel",
      "state": {
       "description_width": ""
      }
     },
     "98fdd252ad3a448782addc035650d9c4": {
      "model_module": "@jupyter-widgets/base",
      "model_module_version": "1.2.0",
      "model_name": "LayoutModel",
      "state": {
       "display": "inline-flex",
       "flex_flow": "row wrap",
       "width": "100%"
      }
     },
     "9995a9a8b19b4176959ab6da5503ed06": {
      "model_module": "@jupyter-widgets/controls",
      "model_module_version": "1.5.0",
      "model_name": "HTMLModel",
      "state": {
       "layout": "IPY_MODEL_b74cc82798b545789a59594182a4da5d",
       "style": "IPY_MODEL_9134031f1aaf4189a2f65dd2b7e9be37",
       "value": "📄 163020 of 163020 ⌚ timestamps from participant 097837f9-9a11-41f4-9c23-03987ba3ed9a processed: "
      }
     },
     "99ea0a62cb3d48e6a11a504b1def8cab": {
      "model_module": "@jupyter-widgets/controls",
      "model_module_version": "1.5.0",
      "model_name": "FloatProgressModel",
      "state": {
       "layout": "IPY_MODEL_9de71616584e4789945ea15d896d957d",
       "max": 162385,
       "style": "IPY_MODEL_f162890ba05a432e9ebdeaefc200f8af",
       "value": 47653
      }
     },
     "9a2d7470ce5245f9825d7500311ead0f": {
      "model_module": "@jupyter-widgets/base",
      "model_module_version": "1.2.0",
      "model_name": "LayoutModel",
      "state": {}
     },
     "9a67a37df0ed4c58a18f74ecffc390a5": {
      "model_module": "@jupyter-widgets/controls",
      "model_module_version": "1.5.0",
      "model_name": "HTMLModel",
      "state": {
       "layout": "IPY_MODEL_9a994ddaf9b54bfa9b2bcc4fb0644df2",
       "style": "IPY_MODEL_550074983ba84c3c8ad627e149dbc1c3",
       "value": "📄 157537 of 157537 ⌚ timestamps from participant c4cb86a2-c2d6-40f0-b594-9bb3eb769189 processed: "
      }
     },
     "9a994ddaf9b54bfa9b2bcc4fb0644df2": {
      "model_module": "@jupyter-widgets/base",
      "model_module_version": "1.2.0",
      "model_name": "LayoutModel",
      "state": {}
     },
     "9ae61a844f7c4eea94dd6678dbc606ff": {
      "model_module": "@jupyter-widgets/base",
      "model_module_version": "1.2.0",
      "model_name": "LayoutModel",
      "state": {}
     },
     "9b2f9c2aab114d91a3dd6e403af92a8e": {
      "model_module": "@jupyter-widgets/controls",
      "model_module_version": "1.5.0",
      "model_name": "HBoxModel",
      "state": {
       "children": [
        "IPY_MODEL_fd8227751ec24e62aad12f1ce8387e61",
        "IPY_MODEL_029ded9c5f224347a2a85749a80d1f85",
        "IPY_MODEL_a5451a6fe0b441879d254806025404e6"
       ],
       "layout": "IPY_MODEL_46dc7573b5e345ad8805c2ccec5cefa8"
      }
     },
     "9bca6db180904983b31741fb245fc9c6": {
      "model_module": "@jupyter-widgets/controls",
      "model_module_version": "1.5.0",
      "model_name": "HTMLModel",
      "state": {
       "layout": "IPY_MODEL_0b0f6ad5ae754ccfa67f10b634a55f00",
       "style": "IPY_MODEL_f9fc623a517240f9bfbd3ad8724c71fb",
       "value": " \n            100% ⏱️15:28 ⏳00:00 ⚙️37.50it/s"
      }
     },
     "9c835abacd974110b58efc1ed066bd8f": {
      "model_module": "@jupyter-widgets/controls",
      "model_module_version": "1.5.0",
      "model_name": "HBoxModel",
      "state": {
       "children": [
        "IPY_MODEL_d45a256f825d4dc59cae6a435e5003fa",
        "IPY_MODEL_2bd2fc1c7ca1476daab14365c62e4601",
        "IPY_MODEL_3e1b14015a284b4294ef04232302526e"
       ],
       "layout": "IPY_MODEL_dc4e73663aab4222a3476cc4c4de181f"
      }
     },
     "9c8ca3e5e75d4aaba939da489a44371b": {
      "model_module": "@jupyter-widgets/controls",
      "model_module_version": "1.5.0",
      "model_name": "ProgressStyleModel",
      "state": {
       "description_width": ""
      }
     },
     "9caabc6fc1be4593a084c69f476e8211": {
      "model_module": "@jupyter-widgets/controls",
      "model_module_version": "1.5.0",
      "model_name": "HTMLModel",
      "state": {
       "layout": "IPY_MODEL_f5e439a6010b4989a0f2551ae97ed8f0",
       "style": "IPY_MODEL_81f0d3a3590049f0b34704496dc457d9",
       "value": "📄 1 of 1 📂 participants processed: "
      }
     },
     "9cfa6b6df0fd4dc68cea06c249de82bb": {
      "model_module": "@jupyter-widgets/controls",
      "model_module_version": "1.5.0",
      "model_name": "ProgressStyleModel",
      "state": {
       "description_width": ""
      }
     },
     "9d4cacd6e47f4d84bb650540914b1122": {
      "model_module": "@jupyter-widgets/controls",
      "model_module_version": "1.5.0",
      "model_name": "ProgressStyleModel",
      "state": {
       "description_width": ""
      }
     },
     "9dae0504f1a44516992beb88d5ef8c64": {
      "model_module": "@jupyter-widgets/controls",
      "model_module_version": "1.5.0",
      "model_name": "HBoxModel",
      "state": {
       "children": [
        "IPY_MODEL_2683c43047bd42f998908675f3bdc722",
        "IPY_MODEL_375c264a79a14c1995bed37fbcc45b86",
        "IPY_MODEL_b01f9c2cc03d4be7992a7d48c603d9a8"
       ],
       "layout": "IPY_MODEL_159a7071f2054525a965317c7d13e115"
      }
     },
     "9de71616584e4789945ea15d896d957d": {
      "model_module": "@jupyter-widgets/base",
      "model_module_version": "1.2.0",
      "model_name": "LayoutModel",
      "state": {
       "flex": "2"
      }
     },
     "9e2ccf1e57674a1f8bc80ab0962c49f1": {
      "model_module": "@jupyter-widgets/controls",
      "model_module_version": "1.5.0",
      "model_name": "ProgressStyleModel",
      "state": {
       "description_width": ""
      }
     },
     "9e9bed26e58e49d2b19707e2478c9867": {
      "model_module": "@jupyter-widgets/base",
      "model_module_version": "1.2.0",
      "model_name": "LayoutModel",
      "state": {
       "flex": "2"
      }
     },
     "9ea46508fbe14a5bb46ada2b48d5f3af": {
      "model_module": "@jupyter-widgets/base",
      "model_module_version": "1.2.0",
      "model_name": "LayoutModel",
      "state": {}
     },
     "9f59901b1b2847e489945b84eb8d3b53": {
      "model_module": "@jupyter-widgets/controls",
      "model_module_version": "1.5.0",
      "model_name": "DescriptionStyleModel",
      "state": {
       "description_width": ""
      }
     },
     "9f99ca6f8c80458d99a78c053a2c0add": {
      "model_module": "@jupyter-widgets/controls",
      "model_module_version": "1.5.0",
      "model_name": "HBoxModel",
      "state": {
       "children": [
        "IPY_MODEL_7334e50fe9ba407a984bfccced953b6f",
        "IPY_MODEL_973bc416a59e49bbb312f9b83ad7e827",
        "IPY_MODEL_e417715935c940fda8305094b1b134a3"
       ],
       "layout": "IPY_MODEL_1446ae31226c448689c3acf779f39729"
      }
     },
     "9fb910e3d54b4d9bb2adf8e4e0685cd6": {
      "model_module": "@jupyter-widgets/base",
      "model_module_version": "1.2.0",
      "model_name": "LayoutModel",
      "state": {
       "flex": "2"
      }
     },
     "a013e73bf7044902b851ac9a359f38d6": {
      "model_module": "@jupyter-widgets/base",
      "model_module_version": "1.2.0",
      "model_name": "LayoutModel",
      "state": {
       "flex": "2"
      }
     },
     "a01cd8ec69ef438faa281c8635ef043b": {
      "model_module": "@jupyter-widgets/controls",
      "model_module_version": "1.5.0",
      "model_name": "DescriptionStyleModel",
      "state": {
       "description_width": ""
      }
     },
     "a03ec7922308448789ab811ca874cca7": {
      "model_module": "@jupyter-widgets/base",
      "model_module_version": "1.2.0",
      "model_name": "LayoutModel",
      "state": {}
     },
     "a08a5626f6464b2094288040edacdf20": {
      "model_module": "@jupyter-widgets/controls",
      "model_module_version": "1.5.0",
      "model_name": "ProgressStyleModel",
      "state": {
       "description_width": ""
      }
     },
     "a0de1b374ec14df4988413b64bd3b7e5": {
      "model_module": "@jupyter-widgets/controls",
      "model_module_version": "1.5.0",
      "model_name": "DescriptionStyleModel",
      "state": {
       "description_width": ""
      }
     },
     "a1b5d797015d469491356d5808a971db": {
      "model_module": "@jupyter-widgets/controls",
      "model_module_version": "1.5.0",
      "model_name": "HBoxModel",
      "state": {
       "children": [
        "IPY_MODEL_e455e186844f4ceb94788392bc8af0a0",
        "IPY_MODEL_a63a66fc9faa4bbfb32fa97871798b49",
        "IPY_MODEL_3107b67d99ea45a29c0d3801e0b9abf0"
       ],
       "layout": "IPY_MODEL_98fdd252ad3a448782addc035650d9c4"
      }
     },
     "a27ac1100f8c418abad72b2f12f20ea1": {
      "model_module": "@jupyter-widgets/controls",
      "model_module_version": "1.5.0",
      "model_name": "DescriptionStyleModel",
      "state": {
       "description_width": ""
      }
     },
     "a338223bd72048758c8f53e1a2b188ab": {
      "model_module": "@jupyter-widgets/controls",
      "model_module_version": "1.5.0",
      "model_name": "DescriptionStyleModel",
      "state": {
       "description_width": ""
      }
     },
     "a33b60e7465e4e258d23ad80bb2094cb": {
      "model_module": "@jupyter-widgets/base",
      "model_module_version": "1.2.0",
      "model_name": "LayoutModel",
      "state": {}
     },
     "a34cad5fcd9543bf97c13f7c8a706a7e": {
      "model_module": "@jupyter-widgets/base",
      "model_module_version": "1.2.0",
      "model_name": "LayoutModel",
      "state": {}
     },
     "a396d31aa9364bfe8cd3f82f11b95754": {
      "model_module": "@jupyter-widgets/base",
      "model_module_version": "1.2.0",
      "model_name": "LayoutModel",
      "state": {}
     },
     "a43eaa9244b448cda2a402753b544856": {
      "model_module": "@jupyter-widgets/base",
      "model_module_version": "1.2.0",
      "model_name": "LayoutModel",
      "state": {}
     },
     "a50b43b496f04765967e763e5ce8f892": {
      "model_module": "@jupyter-widgets/controls",
      "model_module_version": "1.5.0",
      "model_name": "DescriptionStyleModel",
      "state": {
       "description_width": ""
      }
     },
     "a52247d21ef5429d9fd7ba3083e4083f": {
      "model_module": "@jupyter-widgets/base",
      "model_module_version": "1.2.0",
      "model_name": "LayoutModel",
      "state": {}
     },
     "a5451a6fe0b441879d254806025404e6": {
      "model_module": "@jupyter-widgets/controls",
      "model_module_version": "1.5.0",
      "model_name": "HTMLModel",
      "state": {
       "layout": "IPY_MODEL_8585fe0a669542eea2ec2800268faa8e",
       "style": "IPY_MODEL_5d178b13fe53439eb0cde7f6791d5069",
       "value": " \n             89% ⏱️11:25 ⏳03:08 ⚙️96.56it/s"
      }
     },
     "a54ef15125674f9396b5e58e37ac35ad": {
      "model_module": "@jupyter-widgets/controls",
      "model_module_version": "1.5.0",
      "model_name": "HTMLModel",
      "state": {
       "layout": "IPY_MODEL_4c4ee0deb71e439084ad01dd91e42d37",
       "style": "IPY_MODEL_cb7e28e0852242a38659b75b589250fb",
       "value": " \n            100% ⏱️09:34 ⏳00:00 ⚙️1603.35it/s"
      }
     },
     "a5d2d3e43b4e47348575f69fc05b4cdf": {
      "model_module": "@jupyter-widgets/controls",
      "model_module_version": "1.5.0",
      "model_name": "HTMLModel",
      "state": {
       "layout": "IPY_MODEL_81156cc4c67548afad9d141324e53bce",
       "style": "IPY_MODEL_afe3f33e9e014d37a6d3a9a0fd02c0cd",
       "value": " \n            100% ⏱️18:40 ⏳00:00 ⚙️11.96it/s"
      }
     },
     "a63a66fc9faa4bbfb32fa97871798b49": {
      "model_module": "@jupyter-widgets/controls",
      "model_module_version": "1.5.0",
      "model_name": "FloatProgressModel",
      "state": {
       "bar_style": "success",
       "layout": "IPY_MODEL_eebb3085e7dc4483845aedfa10947519",
       "max": 162328,
       "style": "IPY_MODEL_6c31d9b5b8124a8f9ab4a86e27c6a505",
       "value": 162328
      }
     },
     "a6b1e36f5c6844a5b6e4d9849e693d97": {
      "model_module": "@jupyter-widgets/controls",
      "model_module_version": "1.5.0",
      "model_name": "DescriptionStyleModel",
      "state": {
       "description_width": ""
      }
     },
     "a701bf94d9854f71aa79db5613e8fae9": {
      "model_module": "@jupyter-widgets/base",
      "model_module_version": "1.2.0",
      "model_name": "LayoutModel",
      "state": {}
     },
     "a7233cfbec0c433a9acb8b08eee17c6e": {
      "model_module": "@jupyter-widgets/controls",
      "model_module_version": "1.5.0",
      "model_name": "HTMLModel",
      "state": {
       "layout": "IPY_MODEL_2c36f153e2b641a1bc3e7e272a1256d7",
       "style": "IPY_MODEL_79e6182f289b40f59df63bf7805981d1",
       "value": "📄 139944 of 163088 ⌚ timestamps from participant d4bf073c-a3cc-450c-9412-ef15538ee293 processed: "
      }
     },
     "a73bc269d57040c2895daeaacfec5117": {
      "model_module": "@jupyter-widgets/controls",
      "model_module_version": "1.5.0",
      "model_name": "FloatProgressModel",
      "state": {
       "bar_style": "success",
       "layout": "IPY_MODEL_917f116e7505499db0ec0658d1356a4c",
       "max": 162601,
       "style": "IPY_MODEL_ea45ac9782cd4d4db5c3345af1cb19e8",
       "value": 162601
      }
     },
     "a75ef62e3c2e4b7d88c7939477967764": {
      "model_module": "@jupyter-widgets/controls",
      "model_module_version": "1.5.0",
      "model_name": "ProgressStyleModel",
      "state": {
       "description_width": ""
      }
     },
     "a75f51e803494d2db0f51085b96ca269": {
      "model_module": "@jupyter-widgets/base",
      "model_module_version": "1.2.0",
      "model_name": "LayoutModel",
      "state": {
       "flex": "2"
      }
     },
     "a76e20a7b213412b9014439e1c9ced2a": {
      "model_module": "@jupyter-widgets/controls",
      "model_module_version": "1.5.0",
      "model_name": "HTMLModel",
      "state": {
       "layout": "IPY_MODEL_77edb731bb6147eba2ee3ded89957d9e",
       "style": "IPY_MODEL_ba59fa9d4f5e4cd9b58130d112e5317c",
       "value": " \n            100% ⏱️01:35 ⏳00:00 ⚙️829.43it/s"
      }
     },
     "a7eade382b7548cbad454567c7211e13": {
      "model_module": "@jupyter-widgets/controls",
      "model_module_version": "1.5.0",
      "model_name": "DescriptionStyleModel",
      "state": {
       "description_width": ""
      }
     },
     "a854dced24ae4d46bc86c779f8016c21": {
      "model_module": "@jupyter-widgets/base",
      "model_module_version": "1.2.0",
      "model_name": "LayoutModel",
      "state": {
       "display": "inline-flex",
       "flex_flow": "row wrap",
       "width": "100%"
      }
     },
     "a87cb8287cb0498296233260d76a11cc": {
      "model_module": "@jupyter-widgets/base",
      "model_module_version": "1.2.0",
      "model_name": "LayoutModel",
      "state": {
       "display": "inline-flex",
       "flex_flow": "row wrap",
       "width": "100%"
      }
     },
     "a8d1d12edb074849902c31a080e2a145": {
      "model_module": "@jupyter-widgets/controls",
      "model_module_version": "1.5.0",
      "model_name": "HBoxModel",
      "state": {
       "children": [
        "IPY_MODEL_8ac7df4c307647d08d8a84e8346147b3",
        "IPY_MODEL_badfc468967d41dcbf35d4f74ae92bfc",
        "IPY_MODEL_96ee60b1f0884a31ab5217f6ba1359ba"
       ],
       "layout": "IPY_MODEL_8492f761df8345a98de6b8e972b97406"
      }
     },
     "a8fecbba6f3845b09b022f7bff2aff88": {
      "model_module": "@jupyter-widgets/controls",
      "model_module_version": "1.5.0",
      "model_name": "ProgressStyleModel",
      "state": {
       "description_width": ""
      }
     },
     "a94a1bff120b4755ad8b0c1e62f62f58": {
      "model_module": "@jupyter-widgets/base",
      "model_module_version": "1.2.0",
      "model_name": "LayoutModel",
      "state": {}
     },
     "a95eee11062849f1b9c57ce0ff2bd647": {
      "model_module": "@jupyter-widgets/controls",
      "model_module_version": "1.5.0",
      "model_name": "HBoxModel",
      "state": {
       "children": [
        "IPY_MODEL_f2d38b41ea6f48ccb0a917ad443b0398",
        "IPY_MODEL_82557f42845749a9ac95a2f1d9d1bb3e",
        "IPY_MODEL_0f06023ffc114f4e874b4e681d4b10fd"
       ],
       "layout": "IPY_MODEL_6fe96fcdfccc488fbfe5fd78e0aa297d"
      }
     },
     "aa110c8337e24087b631f02495b72fdc": {
      "model_module": "@jupyter-widgets/controls",
      "model_module_version": "1.5.0",
      "model_name": "DescriptionStyleModel",
      "state": {
       "description_width": ""
      }
     },
     "aa2c18a2b2d8470eb7ab52c0cdb39650": {
      "model_module": "@jupyter-widgets/controls",
      "model_module_version": "1.5.0",
      "model_name": "HTMLModel",
      "state": {
       "layout": "IPY_MODEL_1079142a4ff442238a6695c4ea41c2d5",
       "style": "IPY_MODEL_c94c3e78ea0645fb92bbc4bd60bd5bda",
       "value": "📄 162832 of 162832 ⌚ timestamps from participant c6c110c9-2efe-44e7-914f-d6052e2ab784 processed: "
      }
     },
     "aa3faf79adef4a5abf769e92cab359bd": {
      "model_module": "@jupyter-widgets/controls",
      "model_module_version": "1.5.0",
      "model_name": "FloatProgressModel",
      "state": {
       "bar_style": "success",
       "layout": "IPY_MODEL_b2b11c0b2c984af0a7c76eb1d2203002",
       "max": 162525,
       "style": "IPY_MODEL_80ff9a7a8d224b878ec626c8ec4a8c3d",
       "value": 162525
      }
     },
     "aa48b86c30fd4059923e1a393360f939": {
      "model_module": "@jupyter-widgets/controls",
      "model_module_version": "1.5.0",
      "model_name": "HTMLModel",
      "state": {
       "layout": "IPY_MODEL_b9dd4863c3de4d8fb0bd5d4cc6a81dd2",
       "style": "IPY_MODEL_0f9d6622f12342b7b41fb9b75298d6dd",
       "value": " \n            100% ⏱️12:15 ⏳00:00 ⚙️105.31it/s"
      }
     },
     "ab37c78dc985480cb0331e2affdb6b48": {
      "model_module": "@jupyter-widgets/controls",
      "model_module_version": "1.5.0",
      "model_name": "HBoxModel",
      "state": {
       "children": [
        "IPY_MODEL_f22a8cb0c2c04559b87ca3626274c049",
        "IPY_MODEL_232c7120eba4417db51d69aace8cbe02",
        "IPY_MODEL_5229443fce6e4d7d8e52584f6cfb185c"
       ],
       "layout": "IPY_MODEL_f28d793d993349f89bda1499b0b76b48"
      }
     },
     "ab37d6460ce742839de08efef7fded90": {
      "model_module": "@jupyter-widgets/controls",
      "model_module_version": "1.5.0",
      "model_name": "DescriptionStyleModel",
      "state": {
       "description_width": ""
      }
     },
     "abd40bfc7dcf44c8a5637e40f83d61c7": {
      "model_module": "@jupyter-widgets/controls",
      "model_module_version": "1.5.0",
      "model_name": "FloatProgressModel",
      "state": {
       "layout": "IPY_MODEL_bea713aee76c4156890337d4950ed152",
       "max": 161901,
       "style": "IPY_MODEL_dab551af4ae741699211a9a69ec75f2e",
       "value": 153378
      }
     },
     "ac00886c74a44277a2af92c1282cb5e9": {
      "model_module": "@jupyter-widgets/base",
      "model_module_version": "1.2.0",
      "model_name": "LayoutModel",
      "state": {
       "flex": "2"
      }
     },
     "ac06b8e14d80462a9389b047ebb8e9f4": {
      "model_module": "@jupyter-widgets/base",
      "model_module_version": "1.2.0",
      "model_name": "LayoutModel",
      "state": {
       "flex": "2"
      }
     },
     "ac350fb3c07a4002b3b8eb7e3a4100f2": {
      "model_module": "@jupyter-widgets/controls",
      "model_module_version": "1.5.0",
      "model_name": "DescriptionStyleModel",
      "state": {
       "description_width": ""
      }
     },
     "ac6083aa8a604657a6745b677dc7ec50": {
      "model_module": "@jupyter-widgets/base",
      "model_module_version": "1.2.0",
      "model_name": "LayoutModel",
      "state": {
       "display": "inline-flex",
       "flex_flow": "row wrap",
       "width": "100%"
      }
     },
     "aca1bfa311e34250b4881ccf18de62a9": {
      "model_module": "@jupyter-widgets/controls",
      "model_module_version": "1.5.0",
      "model_name": "ProgressStyleModel",
      "state": {
       "description_width": ""
      }
     },
     "ad06ddb0905d45dbbae4936a130ac5e7": {
      "model_module": "@jupyter-widgets/controls",
      "model_module_version": "1.5.0",
      "model_name": "DescriptionStyleModel",
      "state": {
       "description_width": ""
      }
     },
     "ae227c31b15b4bf18004461539bc04c8": {
      "model_module": "@jupyter-widgets/controls",
      "model_module_version": "1.5.0",
      "model_name": "ProgressStyleModel",
      "state": {
       "description_width": ""
      }
     },
     "af1a4b8618c7476e864b58ca9f80f27f": {
      "model_module": "@jupyter-widgets/base",
      "model_module_version": "1.2.0",
      "model_name": "LayoutModel",
      "state": {
       "display": "inline-flex",
       "flex_flow": "row wrap",
       "width": "100%"
      }
     },
     "afe3f33e9e014d37a6d3a9a0fd02c0cd": {
      "model_module": "@jupyter-widgets/controls",
      "model_module_version": "1.5.0",
      "model_name": "DescriptionStyleModel",
      "state": {
       "description_width": ""
      }
     },
     "aff94254a3ef4537960cc9756ee7156b": {
      "model_module": "@jupyter-widgets/controls",
      "model_module_version": "1.5.0",
      "model_name": "HTMLModel",
      "state": {
       "layout": "IPY_MODEL_d17ab5f6301a4ae386bf8965264f69ef",
       "style": "IPY_MODEL_b9a0806e238a49aa8c30867982574905",
       "value": " \n            100% ⏱️15:42 ⏳00:00 ⚙️78.45it/s"
      }
     },
     "afff69b284cf4109ba12043934e6fb67": {
      "model_module": "@jupyter-widgets/controls",
      "model_module_version": "1.5.0",
      "model_name": "ProgressStyleModel",
      "state": {
       "description_width": ""
      }
     },
     "b01f9c2cc03d4be7992a7d48c603d9a8": {
      "model_module": "@jupyter-widgets/controls",
      "model_module_version": "1.5.0",
      "model_name": "HTMLModel",
      "state": {
       "layout": "IPY_MODEL_13f1586ab3d4467ebf274c800d88b61a",
       "style": "IPY_MODEL_d1efe87fa75649f3a938166ceb54c34c",
       "value": " \n            100% ⏱️14:02 ⏳00:00 ⚙️156.02it/s"
      }
     },
     "b0540627b3384bd390cfc34150201784": {
      "model_module": "@jupyter-widgets/controls",
      "model_module_version": "1.5.0",
      "model_name": "DescriptionStyleModel",
      "state": {
       "description_width": ""
      }
     },
     "b05641aa42524f27a896aead65306cf9": {
      "model_module": "@jupyter-widgets/controls",
      "model_module_version": "1.5.0",
      "model_name": "FloatProgressModel",
      "state": {
       "bar_style": "success",
       "layout": "IPY_MODEL_3732cff6545444c28d7763548993980d",
       "max": 163020,
       "style": "IPY_MODEL_a08a5626f6464b2094288040edacdf20",
       "value": 163020
      }
     },
     "b0a8483e716d459c877332c5f3764af2": {
      "model_module": "@jupyter-widgets/base",
      "model_module_version": "1.2.0",
      "model_name": "LayoutModel",
      "state": {
       "flex": "2"
      }
     },
     "b0b084b207c6477fa01d449610dfa896": {
      "model_module": "@jupyter-widgets/controls",
      "model_module_version": "1.5.0",
      "model_name": "HBoxModel",
      "state": {
       "children": [
        "IPY_MODEL_0f385d4dfbdb4b83b49f8ddc1c1836bb",
        "IPY_MODEL_5a482b7afd224b92aae87d94ee7f05d7",
        "IPY_MODEL_87d03b75278e4184bca2e7b80555fe62"
       ],
       "layout": "IPY_MODEL_48204da2e1aa44a39b4786c1ed17ed5b"
      }
     },
     "b0f1960784464b4886a2b6d39ff01075": {
      "model_module": "@jupyter-widgets/base",
      "model_module_version": "1.2.0",
      "model_name": "LayoutModel",
      "state": {}
     },
     "b10a78531e714cffbbb30c70943f4b82": {
      "model_module": "@jupyter-widgets/controls",
      "model_module_version": "1.5.0",
      "model_name": "FloatProgressModel",
      "state": {
       "bar_style": "success",
       "layout": "IPY_MODEL_219a8249f0214b0a8708a6619d56d0f0",
       "max": 162599,
       "style": "IPY_MODEL_b259a62216fd482197dbaff0b962c909",
       "value": 162599
      }
     },
     "b1987d5062aa45ca933d1c6a6dcea4a3": {
      "model_module": "@jupyter-widgets/controls",
      "model_module_version": "1.5.0",
      "model_name": "FloatProgressModel",
      "state": {
       "layout": "IPY_MODEL_e977255fd63f49d6938c55b01e0fb1a4",
       "max": 18,
       "style": "IPY_MODEL_0cf052aae00648ac958366ec03c87c47",
       "value": 2
      }
     },
     "b1e57dae806142dab5e79ae91589d49a": {
      "model_module": "@jupyter-widgets/controls",
      "model_module_version": "1.5.0",
      "model_name": "HTMLModel",
      "state": {
       "layout": "IPY_MODEL_a52247d21ef5429d9fd7ba3083e4083f",
       "style": "IPY_MODEL_f55e9058d7464a198bcdc7738e1104fd",
       "value": " \n            100% ⏱️16:45 ⏳00:00 ⚙️94.05it/s"
      }
     },
     "b1eac2bc3f4744a88ec1e8574d2b56e3": {
      "model_module": "@jupyter-widgets/base",
      "model_module_version": "1.2.0",
      "model_name": "LayoutModel",
      "state": {
       "flex": "2"
      }
     },
     "b259a62216fd482197dbaff0b962c909": {
      "model_module": "@jupyter-widgets/controls",
      "model_module_version": "1.5.0",
      "model_name": "ProgressStyleModel",
      "state": {
       "description_width": ""
      }
     },
     "b2b11c0b2c984af0a7c76eb1d2203002": {
      "model_module": "@jupyter-widgets/base",
      "model_module_version": "1.2.0",
      "model_name": "LayoutModel",
      "state": {
       "flex": "2"
      }
     },
     "b30e9253fcab44459a88c5ae5b241872": {
      "model_module": "@jupyter-widgets/base",
      "model_module_version": "1.2.0",
      "model_name": "LayoutModel",
      "state": {}
     },
     "b353cd6366f24994b7a930597c69a29c": {
      "model_module": "@jupyter-widgets/controls",
      "model_module_version": "1.5.0",
      "model_name": "DescriptionStyleModel",
      "state": {
       "description_width": ""
      }
     },
     "b3933abc6bf8483fa8820c19049e66a9": {
      "model_module": "@jupyter-widgets/controls",
      "model_module_version": "1.5.0",
      "model_name": "FloatProgressModel",
      "state": {
       "bar_style": "success",
       "layout": "IPY_MODEL_fa493b5fdf234d36b9ebced7a6e0bc62",
       "max": 161903,
       "style": "IPY_MODEL_735d15ea3c2a4f4ab9fca9456674e092",
       "value": 161903
      }
     },
     "b3e1c110ad0542dcb2efcaa8b77b6ef8": {
      "model_module": "@jupyter-widgets/controls",
      "model_module_version": "1.5.0",
      "model_name": "ProgressStyleModel",
      "state": {
       "description_width": ""
      }
     },
     "b478455834cf4dcdb6f12d2893adda2c": {
      "model_module": "@jupyter-widgets/controls",
      "model_module_version": "1.5.0",
      "model_name": "DescriptionStyleModel",
      "state": {
       "description_width": ""
      }
     },
     "b4fb5dc831db40af9b18513d07a50450": {
      "model_module": "@jupyter-widgets/base",
      "model_module_version": "1.2.0",
      "model_name": "LayoutModel",
      "state": {}
     },
     "b5617e222a1d4e5798ba943fff5da07e": {
      "model_module": "@jupyter-widgets/controls",
      "model_module_version": "1.5.0",
      "model_name": "HBoxModel",
      "state": {
       "children": [
        "IPY_MODEL_6dbafb7f2a384254abd44a4752204751",
        "IPY_MODEL_cbcf0ad323f64ef69bcfdd4c4b8a9d76",
        "IPY_MODEL_4f62899990794d05a4f5c41f5abfeb70"
       ],
       "layout": "IPY_MODEL_4890c7e53b584a8f967b8475e8c3b037"
      }
     },
     "b5bd0a9949cc46fb87a3b293867c2066": {
      "model_module": "@jupyter-widgets/base",
      "model_module_version": "1.2.0",
      "model_name": "LayoutModel",
      "state": {}
     },
     "b5f74b6f49fc4a7296f2415569357d44": {
      "model_module": "@jupyter-widgets/base",
      "model_module_version": "1.2.0",
      "model_name": "LayoutModel",
      "state": {}
     },
     "b5fc64a3a5634ed4bc810236eb9c37e2": {
      "model_module": "@jupyter-widgets/base",
      "model_module_version": "1.2.0",
      "model_name": "LayoutModel",
      "state": {}
     },
     "b74cc82798b545789a59594182a4da5d": {
      "model_module": "@jupyter-widgets/base",
      "model_module_version": "1.2.0",
      "model_name": "LayoutModel",
      "state": {}
     },
     "b7a1c65fc13b456181cb1d22f8294a48": {
      "model_module": "@jupyter-widgets/controls",
      "model_module_version": "1.5.0",
      "model_name": "HBoxModel",
      "state": {
       "children": [
        "IPY_MODEL_3d8042de78af4e118d4c19504feb8f7f",
        "IPY_MODEL_73a54f3ef1344a6c87e7471382783d04",
        "IPY_MODEL_f2f7c3ad07624f219b36d42e6550a2fc"
       ],
       "layout": "IPY_MODEL_2084272826494f68bc369ea95a3f6c96"
      }
     },
     "b7adc291eb434020962dd0dc95d23ed9": {
      "model_module": "@jupyter-widgets/controls",
      "model_module_version": "1.5.0",
      "model_name": "DescriptionStyleModel",
      "state": {
       "description_width": ""
      }
     },
     "b7d77a4dbfcf411e89d81a470997dd27": {
      "model_module": "@jupyter-widgets/controls",
      "model_module_version": "1.5.0",
      "model_name": "DescriptionStyleModel",
      "state": {
       "description_width": ""
      }
     },
     "b7ddd908325148b78785ddaac412d735": {
      "model_module": "@jupyter-widgets/base",
      "model_module_version": "1.2.0",
      "model_name": "LayoutModel",
      "state": {}
     },
     "b83f425b3d4340eba0161f83427b1b20": {
      "model_module": "@jupyter-widgets/base",
      "model_module_version": "1.2.0",
      "model_name": "LayoutModel",
      "state": {}
     },
     "b87b0166a4364d08a9b1977b8f5490ab": {
      "model_module": "@jupyter-widgets/controls",
      "model_module_version": "1.5.0",
      "model_name": "HTMLModel",
      "state": {
       "layout": "IPY_MODEL_3b3f94c181804dada3d89c12d75c67b2",
       "style": "IPY_MODEL_02282c3ced1e42ec8bf5e4d8819cbd75",
       "value": " \n            100% ⏱️17:05 ⏳00:00 ⚙️48.95it/s"
      }
     },
     "b923ab05eb7141d7926c9e6e90c2301a": {
      "model_module": "@jupyter-widgets/controls",
      "model_module_version": "1.5.0",
      "model_name": "DescriptionStyleModel",
      "state": {
       "description_width": ""
      }
     },
     "b94f00775948404c81e891ad0402c241": {
      "model_module": "@jupyter-widgets/base",
      "model_module_version": "1.2.0",
      "model_name": "LayoutModel",
      "state": {
       "display": "inline-flex",
       "flex_flow": "row wrap",
       "width": "100%"
      }
     },
     "b97b4c2fac0c40f991c30dc571736d0b": {
      "model_module": "@jupyter-widgets/base",
      "model_module_version": "1.2.0",
      "model_name": "LayoutModel",
      "state": {
       "display": "inline-flex",
       "flex_flow": "row wrap",
       "width": "100%"
      }
     },
     "b9a0806e238a49aa8c30867982574905": {
      "model_module": "@jupyter-widgets/controls",
      "model_module_version": "1.5.0",
      "model_name": "DescriptionStyleModel",
      "state": {
       "description_width": ""
      }
     },
     "b9dd4863c3de4d8fb0bd5d4cc6a81dd2": {
      "model_module": "@jupyter-widgets/base",
      "model_module_version": "1.2.0",
      "model_name": "LayoutModel",
      "state": {}
     },
     "ba2463ff2aa74a75845cef0941ca4f40": {
      "model_module": "@jupyter-widgets/controls",
      "model_module_version": "1.5.0",
      "model_name": "FloatProgressModel",
      "state": {
       "bar_style": "success",
       "layout": "IPY_MODEL_678dfd4de9a9449cad1b566d9eac8d84",
       "max": 162599,
       "style": "IPY_MODEL_73d43b3120314a28bc538babb7069d0b",
       "value": 162599
      }
     },
     "ba59fa9d4f5e4cd9b58130d112e5317c": {
      "model_module": "@jupyter-widgets/controls",
      "model_module_version": "1.5.0",
      "model_name": "DescriptionStyleModel",
      "state": {
       "description_width": ""
      }
     },
     "baaf30d74bc54528be7eb5ae16dd8149": {
      "model_module": "@jupyter-widgets/controls",
      "model_module_version": "1.5.0",
      "model_name": "HTMLModel",
      "state": {
       "layout": "IPY_MODEL_583cb5f426754ddbbccf53cda549c686",
       "style": "IPY_MODEL_b0540627b3384bd390cfc34150201784",
       "value": "📄 163028 of 163028 ⌚ timestamps from participant d764851f-717d-4944-9023-74dda394f96e processed: "
      }
     },
     "bac0cd682d924140a5acad92258f76c5": {
      "model_module": "@jupyter-widgets/controls",
      "model_module_version": "1.5.0",
      "model_name": "HTMLModel",
      "state": {
       "layout": "IPY_MODEL_79f2f8bf307e48cc99d1373a09082d73",
       "style": "IPY_MODEL_47c56383c84c413c82b887939e04da7d",
       "value": " \n            100% ⏱️16:09 ⏳00:00 ⚙️51.76it/s"
      }
     },
     "bade52a5548a4551b6f2e97f973755aa": {
      "model_module": "@jupyter-widgets/base",
      "model_module_version": "1.2.0",
      "model_name": "LayoutModel",
      "state": {
       "flex": "2"
      }
     },
     "badfc468967d41dcbf35d4f74ae92bfc": {
      "model_module": "@jupyter-widgets/controls",
      "model_module_version": "1.5.0",
      "model_name": "FloatProgressModel",
      "state": {
       "bar_style": "success",
       "layout": "IPY_MODEL_96ed4ad17fe148148ff65aa36cf72f73",
       "max": 162355,
       "style": "IPY_MODEL_cd875160b5b847be840e1a5234b434bd",
       "value": 162355
      }
     },
     "bb4897c9e1bd4e689713facf95064e73": {
      "model_module": "@jupyter-widgets/controls",
      "model_module_version": "1.5.0",
      "model_name": "DescriptionStyleModel",
      "state": {
       "description_width": ""
      }
     },
     "bbdc6a9c5cc44667bd6c1813514627c5": {
      "model_module": "@jupyter-widgets/controls",
      "model_module_version": "1.5.0",
      "model_name": "DescriptionStyleModel",
      "state": {
       "description_width": ""
      }
     },
     "bc13066a2a084101a2661f05f6905d21": {
      "model_module": "@jupyter-widgets/base",
      "model_module_version": "1.2.0",
      "model_name": "LayoutModel",
      "state": {}
     },
     "bd7e79dec895424bac6eae220f4dd32e": {
      "model_module": "@jupyter-widgets/controls",
      "model_module_version": "1.5.0",
      "model_name": "DescriptionStyleModel",
      "state": {
       "description_width": ""
      }
     },
     "be0c7afe33c94b2480c9888c1dde89d5": {
      "model_module": "@jupyter-widgets/base",
      "model_module_version": "1.2.0",
      "model_name": "LayoutModel",
      "state": {}
     },
     "be1f3797ee7942159e183538127d1db8": {
      "model_module": "@jupyter-widgets/base",
      "model_module_version": "1.2.0",
      "model_name": "LayoutModel",
      "state": {
       "display": "inline-flex",
       "flex_flow": "row wrap",
       "width": "100%"
      }
     },
     "be327f1e375248089d32e03f9e396681": {
      "model_module": "@jupyter-widgets/base",
      "model_module_version": "1.2.0",
      "model_name": "LayoutModel",
      "state": {
       "display": "inline-flex",
       "flex_flow": "row wrap",
       "width": "100%"
      }
     },
     "be5694c8fbe649ec88a52c785feb4bd0": {
      "model_module": "@jupyter-widgets/controls",
      "model_module_version": "1.5.0",
      "model_name": "DescriptionStyleModel",
      "state": {
       "description_width": ""
      }
     },
     "be5bf835a64e44d5a0531e79bf8a44d8": {
      "model_module": "@jupyter-widgets/controls",
      "model_module_version": "1.5.0",
      "model_name": "DescriptionStyleModel",
      "state": {
       "description_width": ""
      }
     },
     "bea713aee76c4156890337d4950ed152": {
      "model_module": "@jupyter-widgets/base",
      "model_module_version": "1.2.0",
      "model_name": "LayoutModel",
      "state": {
       "flex": "2"
      }
     },
     "bf2b17d73da540d6a4b2ebccc9a6403b": {
      "model_module": "@jupyter-widgets/controls",
      "model_module_version": "1.5.0",
      "model_name": "DescriptionStyleModel",
      "state": {
       "description_width": ""
      }
     },
     "bf676baf1bd74e25aee190e81427fd9f": {
      "model_module": "@jupyter-widgets/base",
      "model_module_version": "1.2.0",
      "model_name": "LayoutModel",
      "state": {
       "flex": "2"
      }
     },
     "bfaac2f67f634353a92bcee6635ae936": {
      "model_module": "@jupyter-widgets/base",
      "model_module_version": "1.2.0",
      "model_name": "LayoutModel",
      "state": {
       "display": "inline-flex",
       "flex_flow": "row wrap",
       "width": "100%"
      }
     },
     "bfb773b136b448df95dedb877bde3d6b": {
      "model_module": "@jupyter-widgets/controls",
      "model_module_version": "1.5.0",
      "model_name": "DescriptionStyleModel",
      "state": {
       "description_width": ""
      }
     },
     "c01103b719dc4688a6d14a82116a2f27": {
      "model_module": "@jupyter-widgets/controls",
      "model_module_version": "1.5.0",
      "model_name": "HBoxModel",
      "state": {
       "children": [
        "IPY_MODEL_ef1f45fe1166451a8640f4eb0a1697a6",
        "IPY_MODEL_26455b3a9d4a4a50b50f7afb914fa177",
        "IPY_MODEL_f1276d09270241bd817a2c9d7e422cae"
       ],
       "layout": "IPY_MODEL_1c6716a0800d4b5fa34023451f1e3299"
      }
     },
     "c0130eaefea24c609b9455ba51bee59d": {
      "model_module": "@jupyter-widgets/controls",
      "model_module_version": "1.5.0",
      "model_name": "ProgressStyleModel",
      "state": {
       "description_width": ""
      }
     },
     "c062e05a808040fda0d54b504d2c7f20": {
      "model_module": "@jupyter-widgets/controls",
      "model_module_version": "1.5.0",
      "model_name": "HBoxModel",
      "state": {
       "children": [
        "IPY_MODEL_95d2a11f512c4dccb473f51af905301a",
        "IPY_MODEL_356ce1d2b6144147ad368a03d6d48e78",
        "IPY_MODEL_a76e20a7b213412b9014439e1c9ced2a"
       ],
       "layout": "IPY_MODEL_41d0e622ef804793b75d69dcbbe56d75"
      }
     },
     "c10cdc066c184796a3500ba469c5ac1c": {
      "model_module": "@jupyter-widgets/base",
      "model_module_version": "1.2.0",
      "model_name": "LayoutModel",
      "state": {}
     },
     "c15690c9c23946a2a87119b7a669f7b9": {
      "model_module": "@jupyter-widgets/controls",
      "model_module_version": "1.5.0",
      "model_name": "ProgressStyleModel",
      "state": {
       "description_width": ""
      }
     },
     "c1d42443cee54b088f4463e8598fa084": {
      "model_module": "@jupyter-widgets/controls",
      "model_module_version": "1.5.0",
      "model_name": "DescriptionStyleModel",
      "state": {
       "description_width": ""
      }
     },
     "c203a7058f6d4cc6a82c097568740f7a": {
      "model_module": "@jupyter-widgets/controls",
      "model_module_version": "1.5.0",
      "model_name": "ProgressStyleModel",
      "state": {
       "description_width": ""
      }
     },
     "c25d64dd4c974e54ba1c68a0d53a091b": {
      "model_module": "@jupyter-widgets/controls",
      "model_module_version": "1.5.0",
      "model_name": "HTMLModel",
      "state": {
       "layout": "IPY_MODEL_1acf9a0a2b4d489fa1ba4119b0c6636e",
       "style": "IPY_MODEL_cf1cf1db8e894c83b04a0ecde0954a73",
       "value": "📄 161901 of 161901 ⌚ timestamps from participant 70656182-09b3-4c19-9ae2-0a2ab2e19fed processed: "
      }
     },
     "c370c2ce660f4b61963daefdb0d04e25": {
      "model_module": "@jupyter-widgets/controls",
      "model_module_version": "1.5.0",
      "model_name": "HBoxModel",
      "state": {
       "children": [
        "IPY_MODEL_aa2c18a2b2d8470eb7ab52c0cdb39650",
        "IPY_MODEL_d4be7917913b4a819558fa296493b0bd",
        "IPY_MODEL_75ecf0ed9e3740a2a8e6216e4f1e5e74"
       ],
       "layout": "IPY_MODEL_75f1054218e743d28f16e1f2284ffad2"
      }
     },
     "c396dc041d62490a87328f86b9b8c62b": {
      "model_module": "@jupyter-widgets/controls",
      "model_module_version": "1.5.0",
      "model_name": "FloatProgressModel",
      "state": {
       "bar_style": "success",
       "layout": "IPY_MODEL_f8bd0facbf414477b28429ac8ddd4464",
       "max": 1,
       "style": "IPY_MODEL_0f9940f6f5a34de1b1b118b7bbf924df",
       "value": 1
      }
     },
     "c49785c35d044f2092c939be0f75d7ec": {
      "model_module": "@jupyter-widgets/base",
      "model_module_version": "1.2.0",
      "model_name": "LayoutModel",
      "state": {}
     },
     "c4a4b94df3c643bc827076f61efaf3cf": {
      "model_module": "@jupyter-widgets/controls",
      "model_module_version": "1.5.0",
      "model_name": "FloatProgressModel",
      "state": {
       "bar_style": "success",
       "layout": "IPY_MODEL_bf676baf1bd74e25aee190e81427fd9f",
       "max": 163090,
       "style": "IPY_MODEL_9664a5e3a69746f995d4855f11d7c2d8",
       "value": 163090
      }
     },
     "c5bc760a18dd4c679fd6016c8d3c003a": {
      "model_module": "@jupyter-widgets/controls",
      "model_module_version": "1.5.0",
      "model_name": "FloatProgressModel",
      "state": {
       "bar_style": "success",
       "layout": "IPY_MODEL_77abf0d7fb8444cbae47fcfecc6eddc5",
       "max": 162330,
       "style": "IPY_MODEL_9e2ccf1e57674a1f8bc80ab0962c49f1",
       "value": 162330
      }
     },
     "c5eab7517a2443ec887dfa4c111fe683": {
      "model_module": "@jupyter-widgets/controls",
      "model_module_version": "1.5.0",
      "model_name": "HTMLModel",
      "state": {
       "layout": "IPY_MODEL_84427bc91fb247f0a12ab5217f59af39",
       "style": "IPY_MODEL_62d7aef5db764518950139a7701595cf",
       "value": "📄 163088 of 163088 ⌚ timestamps from participant d4bf073c-a3cc-450c-9412-ef15538ee293 processed: "
      }
     },
     "c78b66609dbc4e6ea6c28c7900e9ea5d": {
      "model_module": "@jupyter-widgets/controls",
      "model_module_version": "1.5.0",
      "model_name": "HTMLModel",
      "state": {
       "layout": "IPY_MODEL_4223276b518e45039a49f25bf5e6ad15",
       "style": "IPY_MODEL_d12b215d35fd4ea0a3f4fdfc870d8409",
       "value": " \n            100% ⏱️14:15 ⏳00:00 ⚙️41.78it/s"
      }
     },
     "c7ddd2c7e66c417eb6cd81b566330419": {
      "model_module": "@jupyter-widgets/controls",
      "model_module_version": "1.5.0",
      "model_name": "ProgressStyleModel",
      "state": {
       "description_width": ""
      }
     },
     "c7dff423de9145819fc58e30bbb8d599": {
      "model_module": "@jupyter-widgets/base",
      "model_module_version": "1.2.0",
      "model_name": "LayoutModel",
      "state": {
       "display": "inline-flex",
       "flex_flow": "row wrap",
       "width": "100%"
      }
     },
     "c819c40b484c472ea1855396810f96f8": {
      "model_module": "@jupyter-widgets/controls",
      "model_module_version": "1.5.0",
      "model_name": "DescriptionStyleModel",
      "state": {
       "description_width": ""
      }
     },
     "c842cf34d1f74e5eae092d2a013ca556": {
      "model_module": "@jupyter-widgets/base",
      "model_module_version": "1.2.0",
      "model_name": "LayoutModel",
      "state": {}
     },
     "c9103ec944f044d198cda542ae2c0c0c": {
      "model_module": "@jupyter-widgets/controls",
      "model_module_version": "1.5.0",
      "model_name": "DescriptionStyleModel",
      "state": {
       "description_width": ""
      }
     },
     "c94c3e78ea0645fb92bbc4bd60bd5bda": {
      "model_module": "@jupyter-widgets/controls",
      "model_module_version": "1.5.0",
      "model_name": "DescriptionStyleModel",
      "state": {
       "description_width": ""
      }
     },
     "c968e203891b4341b8c3a50ecad1790e": {
      "model_module": "@jupyter-widgets/controls",
      "model_module_version": "1.5.0",
      "model_name": "DescriptionStyleModel",
      "state": {
       "description_width": ""
      }
     },
     "ca756c989bf84193b5754df3392636f2": {
      "model_module": "@jupyter-widgets/controls",
      "model_module_version": "1.5.0",
      "model_name": "HTMLModel",
      "state": {
       "layout": "IPY_MODEL_b5fc64a3a5634ed4bc810236eb9c37e2",
       "style": "IPY_MODEL_9154f5c74ec64bd8a2b279979ceb7cce",
       "value": " \n              7% ⏱️00:25 ⏳01:42 ⚙️1473.81it/s"
      }
     },
     "cac5e5ac2caf43bd88f92bffb94454f9": {
      "model_module": "@jupyter-widgets/controls",
      "model_module_version": "1.5.0",
      "model_name": "HTMLModel",
      "state": {
       "layout": "IPY_MODEL_be0c7afe33c94b2480c9888c1dde89d5",
       "style": "IPY_MODEL_896da31d5ac54e268cfc5b2260afcc37",
       "value": " \n            100% ⏱️02:57 ⏳00:00 ⚙️818.94it/s"
      }
     },
     "cb714c95ceb84419989e0479a4523a9e": {
      "model_module": "@jupyter-widgets/controls",
      "model_module_version": "1.5.0",
      "model_name": "HBoxModel",
      "state": {
       "children": [
        "IPY_MODEL_265b86330f2b478eaa0f31eb0cfa9784",
        "IPY_MODEL_dad25e37d9a44cd8ac17c71299890d7e",
        "IPY_MODEL_6ac545cc25804b5b851401ae4752ad64"
       ],
       "layout": "IPY_MODEL_7eae5b3027ea4e7ab9a68136a5ab9510"
      }
     },
     "cb7e28e0852242a38659b75b589250fb": {
      "model_module": "@jupyter-widgets/controls",
      "model_module_version": "1.5.0",
      "model_name": "DescriptionStyleModel",
      "state": {
       "description_width": ""
      }
     },
     "cb96c0237a574345b11505fea102ae6d": {
      "model_module": "@jupyter-widgets/base",
      "model_module_version": "1.2.0",
      "model_name": "LayoutModel",
      "state": {}
     },
     "cbcf0ad323f64ef69bcfdd4c4b8a9d76": {
      "model_module": "@jupyter-widgets/controls",
      "model_module_version": "1.5.0",
      "model_name": "FloatProgressModel",
      "state": {
       "bar_style": "success",
       "layout": "IPY_MODEL_bade52a5548a4551b6f2e97f973755aa",
       "max": 162917,
       "style": "IPY_MODEL_01e30e936b68490eb7bc4da4050f9db3",
       "value": 162917
      }
     },
     "ccb53eeacaf940b79178cb6bee0af372": {
      "model_module": "@jupyter-widgets/controls",
      "model_module_version": "1.5.0",
      "model_name": "DescriptionStyleModel",
      "state": {
       "description_width": ""
      }
     },
     "ccee08807f9248fc9d3dc802d4a40501": {
      "model_module": "@jupyter-widgets/controls",
      "model_module_version": "1.5.0",
      "model_name": "DescriptionStyleModel",
      "state": {
       "description_width": ""
      }
     },
     "cd875160b5b847be840e1a5234b434bd": {
      "model_module": "@jupyter-widgets/controls",
      "model_module_version": "1.5.0",
      "model_name": "ProgressStyleModel",
      "state": {
       "description_width": ""
      }
     },
     "cda0c06f90dd4d35aacafed836c55b2c": {
      "model_module": "@jupyter-widgets/controls",
      "model_module_version": "1.5.0",
      "model_name": "DescriptionStyleModel",
      "state": {
       "description_width": ""
      }
     },
     "cde63203fd364a89b786cde4d291689d": {
      "model_module": "@jupyter-widgets/controls",
      "model_module_version": "1.5.0",
      "model_name": "FloatProgressModel",
      "state": {
       "layout": "IPY_MODEL_670445b5aa2f4111a92b87d6bc67126d",
       "max": 162328,
       "style": "IPY_MODEL_36fef5e908404ab8bfd0b7283639bbf0",
       "value": 148673
      }
     },
     "ce00013ef4be48f497b80416188be320": {
      "model_module": "@jupyter-widgets/controls",
      "model_module_version": "1.5.0",
      "model_name": "HBoxModel",
      "state": {
       "children": [
        "IPY_MODEL_ff828071f53c45b9a792225e5510b32b",
        "IPY_MODEL_154beebbce5a45a59eae28821ece7423",
        "IPY_MODEL_39b15813c1034f06b194beb18fdf6baf"
       ],
       "layout": "IPY_MODEL_b94f00775948404c81e891ad0402c241"
      }
     },
     "ce0ffe15f4ed4ff4864252c9ef976f08": {
      "model_module": "@jupyter-widgets/base",
      "model_module_version": "1.2.0",
      "model_name": "LayoutModel",
      "state": {}
     },
     "cf09339af3c2402099b397702c2d7292": {
      "model_module": "@jupyter-widgets/controls",
      "model_module_version": "1.5.0",
      "model_name": "HBoxModel",
      "state": {
       "children": [
        "IPY_MODEL_8a5fe31060e94849ad801ae42ff5427a",
        "IPY_MODEL_44a12d480e12435d84fc12d653b26772",
        "IPY_MODEL_eb429fae45884559a5a233db085137ac"
       ],
       "layout": "IPY_MODEL_854a6eefec194ddfb9f330e503e41e62"
      }
     },
     "cf1cf1db8e894c83b04a0ecde0954a73": {
      "model_module": "@jupyter-widgets/controls",
      "model_module_version": "1.5.0",
      "model_name": "DescriptionStyleModel",
      "state": {
       "description_width": ""
      }
     },
     "cf1d5fa9eecb42a2a46778c33376b52b": {
      "model_module": "@jupyter-widgets/controls",
      "model_module_version": "1.5.0",
      "model_name": "HTMLModel",
      "state": {
       "layout": "IPY_MODEL_3d5218420cf0450ca7a36291d0711819",
       "style": "IPY_MODEL_fdebfacb829040a19a9b011a1a652a64",
       "value": "📄 161208 of 161208 ⌚ timestamps from participant 95184b7a-42f1-40b0-ae36-be6ef1e33f1d processed: "
      }
     },
     "cf4c4b478c6a4f6c99f03573d55193eb": {
      "model_module": "@jupyter-widgets/base",
      "model_module_version": "1.2.0",
      "model_name": "LayoutModel",
      "state": {}
     },
     "cf58d613f6624afda5b93fe706e30ca6": {
      "model_module": "@jupyter-widgets/controls",
      "model_module_version": "1.5.0",
      "model_name": "HBoxModel",
      "state": {
       "children": [
        "IPY_MODEL_c25d64dd4c974e54ba1c68a0d53a091b",
        "IPY_MODEL_6341c92ed49943d3b0c0190ce437b4e9",
        "IPY_MODEL_14cc88f17778487fab9201d67b1b6c68"
       ],
       "layout": "IPY_MODEL_3a35cac7b4fa4fe084ae9d31bad1cdd1"
      }
     },
     "d0273e4e424f4c4db995a27bfd5f3e17": {
      "model_module": "@jupyter-widgets/base",
      "model_module_version": "1.2.0",
      "model_name": "LayoutModel",
      "state": {}
     },
     "d060615fa5a2445eae37c4aff5bf0604": {
      "model_module": "@jupyter-widgets/base",
      "model_module_version": "1.2.0",
      "model_name": "LayoutModel",
      "state": {}
     },
     "d06109c1322f4f86b0481ffbe758e4a0": {
      "model_module": "@jupyter-widgets/controls",
      "model_module_version": "1.5.0",
      "model_name": "DescriptionStyleModel",
      "state": {
       "description_width": ""
      }
     },
     "d0ad33882ded44af970d00cfeea2d23d": {
      "model_module": "@jupyter-widgets/base",
      "model_module_version": "1.2.0",
      "model_name": "LayoutModel",
      "state": {}
     },
     "d11cf3f6bc5a4160a19d817d0cee57b3": {
      "model_module": "@jupyter-widgets/base",
      "model_module_version": "1.2.0",
      "model_name": "LayoutModel",
      "state": {
       "flex": "2"
      }
     },
     "d12b215d35fd4ea0a3f4fdfc870d8409": {
      "model_module": "@jupyter-widgets/controls",
      "model_module_version": "1.5.0",
      "model_name": "DescriptionStyleModel",
      "state": {
       "description_width": ""
      }
     },
     "d1576cdf03a448a6b6955bf97c6c1302": {
      "model_module": "@jupyter-widgets/base",
      "model_module_version": "1.2.0",
      "model_name": "LayoutModel",
      "state": {}
     },
     "d17ab5f6301a4ae386bf8965264f69ef": {
      "model_module": "@jupyter-widgets/base",
      "model_module_version": "1.2.0",
      "model_name": "LayoutModel",
      "state": {}
     },
     "d1efe87fa75649f3a938166ceb54c34c": {
      "model_module": "@jupyter-widgets/controls",
      "model_module_version": "1.5.0",
      "model_name": "DescriptionStyleModel",
      "state": {
       "description_width": ""
      }
     },
     "d230e0346ee04b82b82be2c08645ee85": {
      "model_module": "@jupyter-widgets/controls",
      "model_module_version": "1.5.0",
      "model_name": "HTMLModel",
      "state": {
       "layout": "IPY_MODEL_d0ad33882ded44af970d00cfeea2d23d",
       "style": "IPY_MODEL_bfb773b136b448df95dedb877bde3d6b",
       "value": " \n            100% ⏱️10:52 ⏳00:00 ⚙️153.85it/s"
      }
     },
     "d38692631d784c569e3e23c4aa3ca177": {
      "model_module": "@jupyter-widgets/controls",
      "model_module_version": "1.5.0",
      "model_name": "DescriptionStyleModel",
      "state": {
       "description_width": ""
      }
     },
     "d45a256f825d4dc59cae6a435e5003fa": {
      "model_module": "@jupyter-widgets/controls",
      "model_module_version": "1.5.0",
      "model_name": "HTMLModel",
      "state": {
       "layout": "IPY_MODEL_5278bf0cac9e4b8a8585d90a1f087e57",
       "style": "IPY_MODEL_b923ab05eb7141d7926c9e6e90c2301a",
       "value": "📄 18 of 18 📂 participants processed: "
      }
     },
     "d45c9cb72f8548f59e346a3e3531a0de": {
      "model_module": "@jupyter-widgets/controls",
      "model_module_version": "1.5.0",
      "model_name": "FloatProgressModel",
      "state": {
       "layout": "IPY_MODEL_69ec218dd00d42cd88c3e2e59ebc0eef",
       "max": 157535,
       "style": "IPY_MODEL_20cb230faf034e9790ee4a857fdee16e",
       "value": 156621
      }
     },
     "d4be7917913b4a819558fa296493b0bd": {
      "model_module": "@jupyter-widgets/controls",
      "model_module_version": "1.5.0",
      "model_name": "FloatProgressModel",
      "state": {
       "bar_style": "success",
       "layout": "IPY_MODEL_9e9bed26e58e49d2b19707e2478c9867",
       "max": 162832,
       "style": "IPY_MODEL_afff69b284cf4109ba12043934e6fb67",
       "value": 162832
      }
     },
     "d6a26b2d9eec40998631405bc92c679b": {
      "model_module": "@jupyter-widgets/controls",
      "model_module_version": "1.5.0",
      "model_name": "HBoxModel",
      "state": {
       "children": [
        "IPY_MODEL_9a67a37df0ed4c58a18f74ecffc390a5",
        "IPY_MODEL_5d0c03fbc5bf453fb643abbc1d5186d4",
        "IPY_MODEL_7f69334fb0e34fdb8e8973448781839f"
       ],
       "layout": "IPY_MODEL_968094aab62446efab94441b4912305f"
      }
     },
     "d71f055595e844229699278a455dcfa8": {
      "model_module": "@jupyter-widgets/controls",
      "model_module_version": "1.5.0",
      "model_name": "HTMLModel",
      "state": {
       "layout": "IPY_MODEL_a396d31aa9364bfe8cd3f82f11b95754",
       "style": "IPY_MODEL_c9103ec944f044d198cda542ae2c0c0c",
       "value": " \n            100% ⏱️16:02 ⏳00:00 ⚙️119.75it/s"
      }
     },
     "d8fb878c0a974022a9da552aac652e98": {
      "model_module": "@jupyter-widgets/base",
      "model_module_version": "1.2.0",
      "model_name": "LayoutModel",
      "state": {
       "display": "inline-flex",
       "flex_flow": "row wrap",
       "width": "100%"
      }
     },
     "d91d7e011eb64fcf860d29cb740b8682": {
      "model_module": "@jupyter-widgets/base",
      "model_module_version": "1.2.0",
      "model_name": "LayoutModel",
      "state": {}
     },
     "d9ca9c0f464442298512c23ed671efa4": {
      "model_module": "@jupyter-widgets/controls",
      "model_module_version": "1.5.0",
      "model_name": "DescriptionStyleModel",
      "state": {
       "description_width": ""
      }
     },
     "dab551af4ae741699211a9a69ec75f2e": {
      "model_module": "@jupyter-widgets/controls",
      "model_module_version": "1.5.0",
      "model_name": "ProgressStyleModel",
      "state": {
       "description_width": ""
      }
     },
     "dac93910971e46ea8eb7704f56c3f6de": {
      "model_module": "@jupyter-widgets/base",
      "model_module_version": "1.2.0",
      "model_name": "LayoutModel",
      "state": {}
     },
     "dad25e37d9a44cd8ac17c71299890d7e": {
      "model_module": "@jupyter-widgets/controls",
      "model_module_version": "1.5.0",
      "model_name": "FloatProgressModel",
      "state": {
       "bar_style": "success",
       "layout": "IPY_MODEL_504540e331e74191955dfacd3bb993aa",
       "max": 163026,
       "style": "IPY_MODEL_b3e1c110ad0542dcb2efcaa8b77b6ef8",
       "value": 163026
      }
     },
     "daf61028e9604955be7d278a3cddcd1f": {
      "model_module": "@jupyter-widgets/controls",
      "model_module_version": "1.5.0",
      "model_name": "HBoxModel",
      "state": {
       "children": [
        "IPY_MODEL_e0940e12f2514ca1bc05729e994bbb41",
        "IPY_MODEL_c396dc041d62490a87328f86b9b8c62b",
        "IPY_MODEL_6bee7608b7ed4998bffd134a3f1b7b89"
       ],
       "layout": "IPY_MODEL_8d4712e638884af8af2340ddebc8107a"
      }
     },
     "db1b2377a817495fa44b4891a7c5c9c3": {
      "model_module": "@jupyter-widgets/controls",
      "model_module_version": "1.5.0",
      "model_name": "HBoxModel",
      "state": {
       "children": [
        "IPY_MODEL_95e0c268a2614534bb52cc7d63756b64",
        "IPY_MODEL_e1fbbee1279c49058e1374934e4d4ee2",
        "IPY_MODEL_53e4924bf9e14744938bf9e0c6d94824"
       ],
       "layout": "IPY_MODEL_c7dff423de9145819fc58e30bbb8d599"
      }
     },
     "db74a8ec7f364bab9358756c1e52069b": {
      "model_module": "@jupyter-widgets/controls",
      "model_module_version": "1.5.0",
      "model_name": "HTMLModel",
      "state": {
       "layout": "IPY_MODEL_7b2424137af5491a98313f6f990c31b6",
       "style": "IPY_MODEL_a7eade382b7548cbad454567c7211e13",
       "value": " \n            100% ⏱️29:08 ⏳00:00 ⚙️298.26it/s"
      }
     },
     "dbd323d050f74666a88422e2d97cdb7c": {
      "model_module": "@jupyter-widgets/controls",
      "model_module_version": "1.5.0",
      "model_name": "DescriptionStyleModel",
      "state": {
       "description_width": ""
      }
     },
     "dbe1f97f30b8434b823d4c1c292eb506": {
      "model_module": "@jupyter-widgets/controls",
      "model_module_version": "1.5.0",
      "model_name": "HBoxModel",
      "state": {
       "children": [
        "IPY_MODEL_a7233cfbec0c433a9acb8b08eee17c6e",
        "IPY_MODEL_5b9a3530945e4bb583aff6d776a285fa",
        "IPY_MODEL_14b381c55e2e4a75ae9a02cb21587811"
       ],
       "layout": "IPY_MODEL_a87cb8287cb0498296233260d76a11cc"
      }
     },
     "dc4e73663aab4222a3476cc4c4de181f": {
      "model_module": "@jupyter-widgets/base",
      "model_module_version": "1.2.0",
      "model_name": "LayoutModel",
      "state": {
       "display": "inline-flex",
       "flex_flow": "row wrap",
       "width": "100%"
      }
     },
     "dc8dec1f08304349a8c543fb25ba67dc": {
      "model_module": "@jupyter-widgets/controls",
      "model_module_version": "1.5.0",
      "model_name": "HTMLModel",
      "state": {
       "layout": "IPY_MODEL_a03ec7922308448789ab811ca874cca7",
       "style": "IPY_MODEL_f2ae1b0c51ea45ee831f14fef8e9826a",
       "value": "📄 147251 of 161208 ⌚ timestamps from participant 95184b7a-42f1-40b0-ae36-be6ef1e33f1d processed: "
      }
     },
     "dcd9ca2b0d35449995414cdc6816c66e": {
      "model_module": "@jupyter-widgets/controls",
      "model_module_version": "1.5.0",
      "model_name": "HBoxModel",
      "state": {
       "children": [
        "IPY_MODEL_e361e07cefa94647a8c02d7f245c80a8",
        "IPY_MODEL_4535a03b7f3347a8b74e2a0a361a8d1e",
        "IPY_MODEL_8147d19230ae4c2f9d52f508c30fd6a8"
       ],
       "layout": "IPY_MODEL_5bacd394754249c9a864fa8c66f3032d"
      }
     },
     "dd14838357c943a492163293a0706f45": {
      "model_module": "@jupyter-widgets/controls",
      "model_module_version": "1.5.0",
      "model_name": "HTMLModel",
      "state": {
       "layout": "IPY_MODEL_640cafe653824903a70e8d26e3089830",
       "style": "IPY_MODEL_ec3cae0facd34a0b90db2c85bc92fc7a",
       "value": "📄 152446 of 162355 ⌚ timestamps from participant f25b9349-573e-4c97-974e-855d4b037c79 processed: "
      }
     },
     "dd342a61d5fc4c1d8a74b35df5cb5fd5": {
      "model_module": "@jupyter-widgets/controls",
      "model_module_version": "1.5.0",
      "model_name": "FloatProgressModel",
      "state": {
       "bar_style": "success",
       "layout": "IPY_MODEL_5e784d8811614f01a46294d4431d5d63",
       "max": 161210,
       "style": "IPY_MODEL_98875f27fe274f98a63bb7d441665707",
       "value": 161210
      }
     },
     "dea59abf71984e69b9887197e0ec6bf4": {
      "model_module": "@jupyter-widgets/controls",
      "model_module_version": "1.5.0",
      "model_name": "HBoxModel",
      "state": {
       "children": [
        "IPY_MODEL_77a6097a1b3041c18e214ef1dfe9171c",
        "IPY_MODEL_d45c9cb72f8548f59e346a3e3531a0de",
        "IPY_MODEL_96e0c1ec973b4eaf86cf13ca04712102"
       ],
       "layout": "IPY_MODEL_be1f3797ee7942159e183538127d1db8"
      }
     },
     "df747f66bb6b4fcb9354c44205450804": {
      "model_module": "@jupyter-widgets/controls",
      "model_module_version": "1.5.0",
      "model_name": "DescriptionStyleModel",
      "state": {
       "description_width": ""
      }
     },
     "dfe9aa00ca2042efad876744a49f66ef": {
      "model_module": "@jupyter-widgets/base",
      "model_module_version": "1.2.0",
      "model_name": "LayoutModel",
      "state": {
       "flex": "2"
      }
     },
     "e00374517337446ca4557b9c4a3c4dcf": {
      "model_module": "@jupyter-widgets/controls",
      "model_module_version": "1.5.0",
      "model_name": "DescriptionStyleModel",
      "state": {
       "description_width": ""
      }
     },
     "e0940e12f2514ca1bc05729e994bbb41": {
      "model_module": "@jupyter-widgets/controls",
      "model_module_version": "1.5.0",
      "model_name": "HTMLModel",
      "state": {
       "layout": "IPY_MODEL_fb5c9f05c9f940d09a971edcb80665c1",
       "style": "IPY_MODEL_b7adc291eb434020962dd0dc95d23ed9",
       "value": "📄 1 of 1 📂 participants processed: "
      }
     },
     "e143d6e6814e47239fa8d1bd4b9dd932": {
      "model_module": "@jupyter-widgets/controls",
      "model_module_version": "1.5.0",
      "model_name": "DescriptionStyleModel",
      "state": {
       "description_width": ""
      }
     },
     "e1bb06e082104aa89defe21c69661c58": {
      "model_module": "@jupyter-widgets/controls",
      "model_module_version": "1.5.0",
      "model_name": "DescriptionStyleModel",
      "state": {
       "description_width": ""
      }
     },
     "e1fbbee1279c49058e1374934e4d4ee2": {
      "model_module": "@jupyter-widgets/controls",
      "model_module_version": "1.5.0",
      "model_name": "FloatProgressModel",
      "state": {
       "bar_style": "success",
       "layout": "IPY_MODEL_81faae44bd714932a624398ea7ad6b9e",
       "max": 162480,
       "style": "IPY_MODEL_705fb0de0cb14ca788fc8cba0df3c19a",
       "value": 162480
      }
     },
     "e28c0dae06b24ad88fb8a147f605ee1b": {
      "model_module": "@jupyter-widgets/base",
      "model_module_version": "1.2.0",
      "model_name": "LayoutModel",
      "state": {
       "display": "inline-flex",
       "flex_flow": "row wrap",
       "width": "100%"
      }
     },
     "e2a9cb12c5054f95bcd30eb5dbed8d09": {
      "model_module": "@jupyter-widgets/base",
      "model_module_version": "1.2.0",
      "model_name": "LayoutModel",
      "state": {}
     },
     "e2dc13ff156b44959fa6c8b3fd1a45f5": {
      "model_module": "@jupyter-widgets/controls",
      "model_module_version": "1.5.0",
      "model_name": "DescriptionStyleModel",
      "state": {
       "description_width": ""
      }
     },
     "e2f2ca5704c7476fb468a73b2a8f63a9": {
      "model_module": "@jupyter-widgets/base",
      "model_module_version": "1.2.0",
      "model_name": "LayoutModel",
      "state": {
       "flex": "2"
      }
     },
     "e2fc3b5792e8463a85b0972789920dbe": {
      "model_module": "@jupyter-widgets/controls",
      "model_module_version": "1.5.0",
      "model_name": "ProgressStyleModel",
      "state": {
       "description_width": ""
      }
     },
     "e361e07cefa94647a8c02d7f245c80a8": {
      "model_module": "@jupyter-widgets/controls",
      "model_module_version": "1.5.0",
      "model_name": "HTMLModel",
      "state": {
       "layout": "IPY_MODEL_904531f563bb479f92f59cd33c79cf70",
       "style": "IPY_MODEL_0ca1eef21b5f4619bc09e5c8bd68dea9",
       "value": "📄 157535 of 157535 ⌚ timestamps from participant c4cb86a2-c2d6-40f0-b594-9bb3eb769189 processed: "
      }
     },
     "e3b28a6bc8bf4861b0e99ac9c953640a": {
      "model_module": "@jupyter-widgets/controls",
      "model_module_version": "1.5.0",
      "model_name": "HTMLModel",
      "state": {
       "layout": "IPY_MODEL_0ccecca563454aeeab1fee7dd266d70e",
       "style": "IPY_MODEL_a27ac1100f8c418abad72b2f12f20ea1",
       "value": "📄 1 of 1 📂 participants processed: "
      }
     },
     "e3bd46178e0f481486717480a4df9578": {
      "model_module": "@jupyter-widgets/base",
      "model_module_version": "1.2.0",
      "model_name": "LayoutModel",
      "state": {
       "display": "inline-flex",
       "flex_flow": "row wrap",
       "width": "100%"
      }
     },
     "e417715935c940fda8305094b1b134a3": {
      "model_module": "@jupyter-widgets/controls",
      "model_module_version": "1.5.0",
      "model_name": "HTMLModel",
      "state": {
       "layout": "IPY_MODEL_5315c9c5c15f4cf88424b50ccad71d22",
       "style": "IPY_MODEL_13a45a0d447e4250ae35fbfb567ecd52",
       "value": " \n            100% ⏱️20:19 ⏳00:00 ⚙️40.17s/it"
      }
     },
     "e44c85e87b16466abdb9f74a7f6615ad": {
      "model_module": "@jupyter-widgets/controls",
      "model_module_version": "1.5.0",
      "model_name": "DescriptionStyleModel",
      "state": {
       "description_width": ""
      }
     },
     "e455e186844f4ceb94788392bc8af0a0": {
      "model_module": "@jupyter-widgets/controls",
      "model_module_version": "1.5.0",
      "model_name": "HTMLModel",
      "state": {
       "layout": "IPY_MODEL_7a864fe20d15472ca97f353c2a30a516",
       "style": "IPY_MODEL_c1d42443cee54b088f4463e8598fa084",
       "value": "📄 162328 of 162328 ⌚ timestamps from participant fdc06350-e1bb-4630-9d23-6631bb0a9498 processed: "
      }
     },
     "e4df2c24ee0e44c3b9c5515880f7fb22": {
      "model_module": "@jupyter-widgets/base",
      "model_module_version": "1.2.0",
      "model_name": "LayoutModel",
      "state": {
       "flex": "2"
      }
     },
     "e72a7cea8d1144c680f3ce1036a10d10": {
      "model_module": "@jupyter-widgets/controls",
      "model_module_version": "1.5.0",
      "model_name": "DescriptionStyleModel",
      "state": {
       "description_width": ""
      }
     },
     "e977255fd63f49d6938c55b01e0fb1a4": {
      "model_module": "@jupyter-widgets/base",
      "model_module_version": "1.2.0",
      "model_name": "LayoutModel",
      "state": {
       "flex": "2"
      }
     },
     "e980daba879c4fd59fd0bfc0c3b5eff3": {
      "model_module": "@jupyter-widgets/base",
      "model_module_version": "1.2.0",
      "model_name": "LayoutModel",
      "state": {}
     },
     "ea3ef835864b488ea4c48181bb335b9a": {
      "model_module": "@jupyter-widgets/controls",
      "model_module_version": "1.5.0",
      "model_name": "DescriptionStyleModel",
      "state": {
       "description_width": ""
      }
     },
     "ea45ac9782cd4d4db5c3345af1cb19e8": {
      "model_module": "@jupyter-widgets/controls",
      "model_module_version": "1.5.0",
      "model_name": "ProgressStyleModel",
      "state": {
       "description_width": ""
      }
     },
     "eb3ba15e70c840b398448b4484097dce": {
      "model_module": "@jupyter-widgets/controls",
      "model_module_version": "1.5.0",
      "model_name": "HBoxModel",
      "state": {
       "children": [
        "IPY_MODEL_fd346947aed34c0291706cc88852b4c2",
        "IPY_MODEL_0b44395e9b844f9a85e77ea1d1660008",
        "IPY_MODEL_129689e7b3e8487c9c32ebc7a8810030"
       ],
       "layout": "IPY_MODEL_86ca8becd3d34ee8af876bd80f14b4cc"
      }
     },
     "eb429fae45884559a5a233db085137ac": {
      "model_module": "@jupyter-widgets/controls",
      "model_module_version": "1.5.0",
      "model_name": "HTMLModel",
      "state": {
       "layout": "IPY_MODEL_29ec7afa19604f7d88af3ccf8705e6eb",
       "style": "IPY_MODEL_e44c85e87b16466abdb9f74a7f6615ad",
       "value": " \n            100% ⏱️31:24 ⏳00:00 ⚙️29.50s/it"
      }
     },
     "ec3cae0facd34a0b90db2c85bc92fc7a": {
      "model_module": "@jupyter-widgets/controls",
      "model_module_version": "1.5.0",
      "model_name": "DescriptionStyleModel",
      "state": {
       "description_width": ""
      }
     },
     "ec8efa26d066478e8c6140f09ff0aa03": {
      "model_module": "@jupyter-widgets/base",
      "model_module_version": "1.2.0",
      "model_name": "LayoutModel",
      "state": {}
     },
     "ed6b20e0de0647dfa20fca9bcc5031ad": {
      "model_module": "@jupyter-widgets/controls",
      "model_module_version": "1.5.0",
      "model_name": "HTMLModel",
      "state": {
       "layout": "IPY_MODEL_a34cad5fcd9543bf97c13f7c8a706a7e",
       "style": "IPY_MODEL_e72a7cea8d1144c680f3ce1036a10d10",
       "value": " \n            100% ⏱️13:40 ⏳00:00 ⚙️131.87it/s"
      }
     },
     "ee6d9df139044ebb8658307c661f31d0": {
      "model_module": "@jupyter-widgets/base",
      "model_module_version": "1.2.0",
      "model_name": "LayoutModel",
      "state": {
       "flex": "2"
      }
     },
     "ee9da629cb974e159f2088b59f7ceb74": {
      "model_module": "@jupyter-widgets/controls",
      "model_module_version": "1.5.0",
      "model_name": "HBoxModel",
      "state": {
       "children": [
        "IPY_MODEL_87f1f7d7bec34df1a15ad4931ac8e10f",
        "IPY_MODEL_7572901b77454ba2b8fb435e115efbf7",
        "IPY_MODEL_db74a8ec7f364bab9358756c1e52069b"
       ],
       "layout": "IPY_MODEL_4e89e10718d84bdf845b90e63410bf4c"
      }
     },
     "eea82f55892443b6984f8765431d834e": {
      "model_module": "@jupyter-widgets/controls",
      "model_module_version": "1.5.0",
      "model_name": "HTMLModel",
      "state": {
       "layout": "IPY_MODEL_8b53c13b6553481ba2bbd89443aa49ad",
       "style": "IPY_MODEL_e143d6e6814e47239fa8d1bd4b9dd932",
       "value": "📄 162386 of 162386 ⌚ timestamps from participant 817cb93e-061d-4ea6-a13d-31226246ff34 processed: "
      }
     },
     "eeb6c3d3f2cc40c9a3defb6447fa0d75": {
      "model_module": "@jupyter-widgets/controls",
      "model_module_version": "1.5.0",
      "model_name": "HTMLModel",
      "state": {
       "layout": "IPY_MODEL_9a2d7470ce5245f9825d7500311ead0f",
       "style": "IPY_MODEL_f6dc2b9dbdbe47d4ad01f8c4ef1f2b2a",
       "value": " \n            100% ⏱️28:59 ⏳00:00 ⚙️174.28it/s"
      }
     },
     "eebb3085e7dc4483845aedfa10947519": {
      "model_module": "@jupyter-widgets/base",
      "model_module_version": "1.2.0",
      "model_name": "LayoutModel",
      "state": {
       "flex": "2"
      }
     },
     "ef1f45fe1166451a8640f4eb0a1697a6": {
      "model_module": "@jupyter-widgets/controls",
      "model_module_version": "1.5.0",
      "model_name": "HTMLModel",
      "state": {
       "layout": "IPY_MODEL_036b37321cbc479a9646d0b2e8283f85",
       "style": "IPY_MODEL_bf2b17d73da540d6a4b2ebccc9a6403b",
       "value": "📄 161902 of 161902 ⌚ timestamps from participant 70656182-09b3-4c19-9ae2-0a2ab2e19fed processed: "
      }
     },
     "efc36b3f6ea142fcbcc8cdf97827c420": {
      "model_module": "@jupyter-widgets/base",
      "model_module_version": "1.2.0",
      "model_name": "LayoutModel",
      "state": {
       "display": "inline-flex",
       "flex_flow": "row wrap",
       "width": "100%"
      }
     },
     "f10990a669f54d27bcc34557113cd0ea": {
      "model_module": "@jupyter-widgets/controls",
      "model_module_version": "1.5.0",
      "model_name": "ProgressStyleModel",
      "state": {
       "description_width": ""
      }
     },
     "f1276d09270241bd817a2c9d7e422cae": {
      "model_module": "@jupyter-widgets/controls",
      "model_module_version": "1.5.0",
      "model_name": "HTMLModel",
      "state": {
       "layout": "IPY_MODEL_8b60a70a6a7e4d7b981516672dcbb347",
       "style": "IPY_MODEL_926aef744f694657b069a7ac0e48908f",
       "value": " \n            100% ⏱️00:52 ⏳00:00 ⚙️1597.40it/s"
      }
     },
     "f162890ba05a432e9ebdeaefc200f8af": {
      "model_module": "@jupyter-widgets/controls",
      "model_module_version": "1.5.0",
      "model_name": "ProgressStyleModel",
      "state": {
       "description_width": ""
      }
     },
     "f16fcf962e584a41b1f710062a2e20a5": {
      "model_module": "@jupyter-widgets/controls",
      "model_module_version": "1.5.0",
      "model_name": "DescriptionStyleModel",
      "state": {
       "description_width": ""
      }
     },
     "f1a14eb301744d05a30aafdecfd8d942": {
      "model_module": "@jupyter-widgets/controls",
      "model_module_version": "1.5.0",
      "model_name": "HBoxModel",
      "state": {
       "children": [
        "IPY_MODEL_baaf30d74bc54528be7eb5ae16dd8149",
        "IPY_MODEL_8cec9cdb6f4b410ba46747f56a3c8fae",
        "IPY_MODEL_d71f055595e844229699278a455dcfa8"
       ],
       "layout": "IPY_MODEL_b97b4c2fac0c40f991c30dc571736d0b"
      }
     },
     "f1a7e6989e2f483eafea948252d6a937": {
      "model_module": "@jupyter-widgets/controls",
      "model_module_version": "1.5.0",
      "model_name": "DescriptionStyleModel",
      "state": {
       "description_width": ""
      }
     },
     "f1bc87248a84468a9fc73f3e91cf0db1": {
      "model_module": "@jupyter-widgets/base",
      "model_module_version": "1.2.0",
      "model_name": "LayoutModel",
      "state": {
       "flex": "2"
      }
     },
     "f22a8cb0c2c04559b87ca3626274c049": {
      "model_module": "@jupyter-widgets/controls",
      "model_module_version": "1.5.0",
      "model_name": "HTMLModel",
      "state": {
       "layout": "IPY_MODEL_9ea46508fbe14a5bb46ada2b48d5f3af",
       "style": "IPY_MODEL_a01cd8ec69ef438faa281c8635ef043b",
       "value": "📄 151358 of 162480 ⌚ timestamps from participant 61c0f1aa-b3ef-497b-8b6e-8ec6f05f6c42 processed: "
      }
     },
     "f2813200527f4f1189ea3958aecc3dc6": {
      "model_module": "@jupyter-widgets/controls",
      "model_module_version": "1.5.0",
      "model_name": "HBoxModel",
      "state": {
       "children": [
        "IPY_MODEL_f624c0425bbb4b54a2a5af249f848fb3",
        "IPY_MODEL_4cdc57b5b14f44f889d1b266a5e88037",
        "IPY_MODEL_804f8da5bf2248ae82a0f768d082f80d"
       ],
       "layout": "IPY_MODEL_48321a072bc04133b65012340ffc941d"
      }
     },
     "f28d793d993349f89bda1499b0b76b48": {
      "model_module": "@jupyter-widgets/base",
      "model_module_version": "1.2.0",
      "model_name": "LayoutModel",
      "state": {
       "display": "inline-flex",
       "flex_flow": "row wrap",
       "width": "100%"
      }
     },
     "f2ae1b0c51ea45ee831f14fef8e9826a": {
      "model_module": "@jupyter-widgets/controls",
      "model_module_version": "1.5.0",
      "model_name": "DescriptionStyleModel",
      "state": {
       "description_width": ""
      }
     },
     "f2c3cbbbfd06421f9c684855d250973e": {
      "model_module": "@jupyter-widgets/controls",
      "model_module_version": "1.5.0",
      "model_name": "HTMLModel",
      "state": {
       "layout": "IPY_MODEL_0553be36a583495899af720ad1eba520",
       "style": "IPY_MODEL_06e907f67a644797a5144f039885302c",
       "value": "📄 162615 of 162615 ⌚ timestamps from participant 391543f6-7ff0-4ed3-aefd-c0ef68ebbbf3 processed: "
      }
     },
     "f2d38b41ea6f48ccb0a917ad443b0398": {
      "model_module": "@jupyter-widgets/controls",
      "model_module_version": "1.5.0",
      "model_name": "HTMLModel",
      "state": {
       "layout": "IPY_MODEL_b30e9253fcab44459a88c5ae5b241872",
       "style": "IPY_MODEL_be5bf835a64e44d5a0531e79bf8a44d8",
       "value": "📄 153051 of 162527 ⌚ timestamps from participant 623664e8-1ceb-48e0-abd0-46d447285980 processed: "
      }
     },
     "f2ef7a2955af4ec796b25bdf9f216cb1": {
      "model_module": "@jupyter-widgets/controls",
      "model_module_version": "1.5.0",
      "model_name": "HTMLModel",
      "state": {
       "layout": "IPY_MODEL_4ef6cdcc795840528063fc1c3efd5178",
       "style": "IPY_MODEL_0bae81e922554c83a87ea68c249909c8",
       "value": " \n            100% ⏱️28:12 ⏳00:00 ⚙️78.46it/s"
      }
     },
     "f2f7c3ad07624f219b36d42e6550a2fc": {
      "model_module": "@jupyter-widgets/controls",
      "model_module_version": "1.5.0",
      "model_name": "HTMLModel",
      "state": {
       "layout": "IPY_MODEL_d0273e4e424f4c4db995a27bfd5f3e17",
       "style": "IPY_MODEL_13097a57f5504831a14fcb04285e171a",
       "value": " \n            100% ⏱️05:09 ⏳00:00 ⚙️194.11it/s"
      }
     },
     "f4d6cedffaa046caa9722d2c0cc81ee2": {
      "model_module": "@jupyter-widgets/controls",
      "model_module_version": "1.5.0",
      "model_name": "HTMLModel",
      "state": {
       "layout": "IPY_MODEL_786b4296278a4e6c92941781d9fa5759",
       "style": "IPY_MODEL_7767807511b04b6ca605e41b9c53f59c",
       "value": "📄 162330 of 162330 ⌚ timestamps from participant fdc06350-e1bb-4630-9d23-6631bb0a9498 processed: "
      }
     },
     "f52b35a65f2f45748e54c5cbce7b80af": {
      "model_module": "@jupyter-widgets/base",
      "model_module_version": "1.2.0",
      "model_name": "LayoutModel",
      "state": {}
     },
     "f539f9a2fe50408c9045e9ea7144b007": {
      "model_module": "@jupyter-widgets/controls",
      "model_module_version": "1.5.0",
      "model_name": "FloatProgressModel",
      "state": {
       "bar_style": "success",
       "layout": "IPY_MODEL_1bf5b490df7e47c59611c697e5c02c2e",
       "max": 162386,
       "style": "IPY_MODEL_729b8b4cd6d94b379fdcccbee012207a",
       "value": 162386
      }
     },
     "f55e9058d7464a198bcdc7738e1104fd": {
      "model_module": "@jupyter-widgets/controls",
      "model_module_version": "1.5.0",
      "model_name": "DescriptionStyleModel",
      "state": {
       "description_width": ""
      }
     },
     "f5e439a6010b4989a0f2551ae97ed8f0": {
      "model_module": "@jupyter-widgets/base",
      "model_module_version": "1.2.0",
      "model_name": "LayoutModel",
      "state": {}
     },
     "f61e3f3e776a4c3e82a86635821cc44a": {
      "model_module": "@jupyter-widgets/controls",
      "model_module_version": "1.5.0",
      "model_name": "HBoxModel",
      "state": {
       "children": [
        "IPY_MODEL_2d5b406f800448138eb4438936075dc3",
        "IPY_MODEL_92371e4756fd46a386961c0bb289687b",
        "IPY_MODEL_ffa5a235c01e4c9e9bc73ed650d01a0f"
       ],
       "layout": "IPY_MODEL_79aa603293394c1b9627a46cd2cad983"
      }
     },
     "f624c0425bbb4b54a2a5af249f848fb3": {
      "model_module": "@jupyter-widgets/controls",
      "model_module_version": "1.5.0",
      "model_name": "HTMLModel",
      "state": {
       "layout": "IPY_MODEL_fa2a485291074ad49abaf255995dcef1",
       "style": "IPY_MODEL_4fee0a0620484c149628326b5aa0a7ba",
       "value": "📄 163022 of 163022 ⌚ timestamps from participant 097837f9-9a11-41f4-9c23-03987ba3ed9a processed: "
      }
     },
     "f6dc2b9dbdbe47d4ad01f8c4ef1f2b2a": {
      "model_module": "@jupyter-widgets/controls",
      "model_module_version": "1.5.0",
      "model_name": "DescriptionStyleModel",
      "state": {
       "description_width": ""
      }
     },
     "f782e9d006d94d7eaccd6cf1f69a8971": {
      "model_module": "@jupyter-widgets/controls",
      "model_module_version": "1.5.0",
      "model_name": "HTMLModel",
      "state": {
       "layout": "IPY_MODEL_02c1013f9b874b95ad8dafcaf941c77f",
       "style": "IPY_MODEL_f9ec39a5d09649b1bb6ce31a8baec6d1",
       "value": "📄 1 of 1 📂 participants processed: "
      }
     },
     "f79b798bc9c543879828433bc63ff68a": {
      "model_module": "@jupyter-widgets/controls",
      "model_module_version": "1.5.0",
      "model_name": "ProgressStyleModel",
      "state": {
       "description_width": ""
      }
     },
     "f870422b0f494ff99848645c36c5087d": {
      "model_module": "@jupyter-widgets/controls",
      "model_module_version": "1.5.0",
      "model_name": "HTMLModel",
      "state": {
       "layout": "IPY_MODEL_4fb4405a62ce408e8a470a61f01c2b30",
       "style": "IPY_MODEL_4564b98bc46148a1b6254611655afe5c",
       "value": "📄 162385 of 162385 ⌚ timestamps from participant 817cb93e-061d-4ea6-a13d-31226246ff34 processed: "
      }
     },
     "f8bd0facbf414477b28429ac8ddd4464": {
      "model_module": "@jupyter-widgets/base",
      "model_module_version": "1.2.0",
      "model_name": "LayoutModel",
      "state": {
       "flex": "2"
      }
     },
     "f908d0e970214b22af0adb43c82d9841": {
      "model_module": "@jupyter-widgets/controls",
      "model_module_version": "1.5.0",
      "model_name": "HTMLModel",
      "state": {
       "layout": "IPY_MODEL_3a332b48925a416689f084d8c63b68e9",
       "style": "IPY_MODEL_5de05111432d4957bc4deb61704780cd",
       "value": " \n            100% ⏱️29:13 ⏳00:00 ⚙️403.50it/s"
      }
     },
     "f9a3251a479f423f8d9d9aa22f770e0f": {
      "model_module": "@jupyter-widgets/controls",
      "model_module_version": "1.5.0",
      "model_name": "ProgressStyleModel",
      "state": {
       "description_width": ""
      }
     },
     "f9ec39a5d09649b1bb6ce31a8baec6d1": {
      "model_module": "@jupyter-widgets/controls",
      "model_module_version": "1.5.0",
      "model_name": "DescriptionStyleModel",
      "state": {
       "description_width": ""
      }
     },
     "f9fc623a517240f9bfbd3ad8724c71fb": {
      "model_module": "@jupyter-widgets/controls",
      "model_module_version": "1.5.0",
      "model_name": "DescriptionStyleModel",
      "state": {
       "description_width": ""
      }
     },
     "fa2a485291074ad49abaf255995dcef1": {
      "model_module": "@jupyter-widgets/base",
      "model_module_version": "1.2.0",
      "model_name": "LayoutModel",
      "state": {}
     },
     "fa493b5fdf234d36b9ebced7a6e0bc62": {
      "model_module": "@jupyter-widgets/base",
      "model_module_version": "1.2.0",
      "model_name": "LayoutModel",
      "state": {
       "flex": "2"
      }
     },
     "faf21606752d4e839c59df0f7fdaec22": {
      "model_module": "@jupyter-widgets/controls",
      "model_module_version": "1.5.0",
      "model_name": "ProgressStyleModel",
      "state": {
       "description_width": ""
      }
     },
     "fb19dde8d45143c9a49837d0d2039940": {
      "model_module": "@jupyter-widgets/controls",
      "model_module_version": "1.5.0",
      "model_name": "DescriptionStyleModel",
      "state": {
       "description_width": ""
      }
     },
     "fb532cab745b4345a03b31bb23ed45d2": {
      "model_module": "@jupyter-widgets/controls",
      "model_module_version": "1.5.0",
      "model_name": "FloatProgressModel",
      "state": {
       "bar_style": "success",
       "layout": "IPY_MODEL_73932cef64d84d5689de150791a98ad5",
       "max": 1,
       "style": "IPY_MODEL_2ac0e5f506e44d8790057ebbddee6bf4",
       "value": 1
      }
     },
     "fb5c9f05c9f940d09a971edcb80665c1": {
      "model_module": "@jupyter-widgets/base",
      "model_module_version": "1.2.0",
      "model_name": "LayoutModel",
      "state": {}
     },
     "fba5055906c1472c96de81d2a6af1604": {
      "model_module": "@jupyter-widgets/controls",
      "model_module_version": "1.5.0",
      "model_name": "HTMLModel",
      "state": {
       "layout": "IPY_MODEL_d91d7e011eb64fcf860d29cb740b8682",
       "style": "IPY_MODEL_1b34ce8c77d94feb8939ac8223d0bec4",
       "value": "📄 144401 of 162462 ⌚ timestamps from participant c4400578-a590-4cf5-abc2-0f634fb4443c processed: "
      }
     },
     "fbedb8fb867b477d958afde3da186cf9": {
      "model_module": "@jupyter-widgets/base",
      "model_module_version": "1.2.0",
      "model_name": "LayoutModel",
      "state": {}
     },
     "fd346947aed34c0291706cc88852b4c2": {
      "model_module": "@jupyter-widgets/controls",
      "model_module_version": "1.5.0",
      "model_name": "HTMLModel",
      "state": {
       "layout": "IPY_MODEL_b7ddd908325148b78785ddaac412d735",
       "style": "IPY_MODEL_4856134b97044956a979fb80c47faee0",
       "value": "📄 162357 of 162357 ⌚ timestamps from participant f25b9349-573e-4c97-974e-855d4b037c79 processed: "
      }
     },
     "fd55c6fd2c58430685f2edee1f7dd37e": {
      "model_module": "@jupyter-widgets/base",
      "model_module_version": "1.2.0",
      "model_name": "LayoutModel",
      "state": {}
     },
     "fd6ce13dd8af44ba95c00a24e22ad4d6": {
      "model_module": "@jupyter-widgets/base",
      "model_module_version": "1.2.0",
      "model_name": "LayoutModel",
      "state": {
       "display": "inline-flex",
       "flex_flow": "row wrap",
       "width": "100%"
      }
     },
     "fd8227751ec24e62aad12f1ce8387e61": {
      "model_module": "@jupyter-widgets/controls",
      "model_module_version": "1.5.0",
      "model_name": "HTMLModel",
      "state": {
       "layout": "IPY_MODEL_17f8cfa7ec904001ac1eef0d7ac8c31d",
       "style": "IPY_MODEL_3b9275afb74d40d383269bdf8c267d80",
       "value": "📄 144385 of 162613 ⌚ timestamps from participant 391543f6-7ff0-4ed3-aefd-c0ef68ebbbf3 processed: "
      }
     },
     "fdebfacb829040a19a9b011a1a652a64": {
      "model_module": "@jupyter-widgets/controls",
      "model_module_version": "1.5.0",
      "model_name": "DescriptionStyleModel",
      "state": {
       "description_width": ""
      }
     },
     "fe5dda15073e4bf4809bcfba2abd7224": {
      "model_module": "@jupyter-widgets/base",
      "model_module_version": "1.2.0",
      "model_name": "LayoutModel",
      "state": {
       "display": "inline-flex",
       "flex_flow": "row wrap",
       "width": "100%"
      }
     },
     "fe8c61c850f340a0a6f9ffbd7df21e93": {
      "model_module": "@jupyter-widgets/base",
      "model_module_version": "1.2.0",
      "model_name": "LayoutModel",
      "state": {
       "display": "inline-flex",
       "flex_flow": "row wrap",
       "width": "100%"
      }
     },
     "fef7dc94785441c69af7cf13559b3e2f": {
      "model_module": "@jupyter-widgets/controls",
      "model_module_version": "1.5.0",
      "model_name": "HTMLModel",
      "state": {
       "layout": "IPY_MODEL_78af2621b0114fc795ae7c7c2262cd35",
       "style": "IPY_MODEL_be5694c8fbe649ec88a52c785feb4bd0",
       "value": " \n            100% ⏱️28:14 ⏳00:00 ⚙️63.48it/s"
      }
     },
     "ff828071f53c45b9a792225e5510b32b": {
      "model_module": "@jupyter-widgets/controls",
      "model_module_version": "1.5.0",
      "model_name": "HTMLModel",
      "state": {
       "layout": "IPY_MODEL_d060615fa5a2445eae37c4aff5bf0604",
       "style": "IPY_MODEL_08f339db20844c2f89ab1d6311ff522a",
       "value": "📄 155054 of 162466 ⌚ timestamps from participant 20e8d35c-e7aa-4be3-a6e2-5b78f4cd44d8 processed: "
      }
     },
     "ffa5a235c01e4c9e9bc73ed650d01a0f": {
      "model_module": "@jupyter-widgets/controls",
      "model_module_version": "1.5.0",
      "model_name": "HTMLModel",
      "state": {
       "layout": "IPY_MODEL_32745a052b7c44b885a914a4ab580b1a",
       "style": "IPY_MODEL_8bac22a5b8ba4f369d19ce24de372a18",
       "value": " \n             88% ⏱️11:26 ⏳02:26 ⚙️132.86it/s"
      }
     }
    },
    "version_major": 2,
    "version_minor": 0
   }
  }
 },
 "nbformat": 4,
 "nbformat_minor": 5
}
